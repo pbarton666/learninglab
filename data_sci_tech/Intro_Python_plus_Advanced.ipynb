{
 "cells": [
  {
   "cell_type": "markdown",
   "metadata": {
    "toc": true
   },
   "source": [
    "<h1>Table of Contents<span class=\"tocSkip\"></span></h1>\n",
    "<div class=\"toc\"><ul class=\"toc-item\"><li><span><a href=\"#-An-Introduction-To-Python\" data-toc-modified-id=\"-An-Introduction-To-Python-0\"><span class=\"toc-item-num\">0&nbsp;&nbsp;</span> An Introduction To Python</a></span><ul class=\"toc-item\"><li><span><a href=\"#Welcome!\" data-toc-modified-id=\"Welcome!-0.1\"><span class=\"toc-item-num\">0.1&nbsp;&nbsp;</span>Welcome!</a></span></li><li><span><a href=\"#The-Python-Environment\" data-toc-modified-id=\"The-Python-Environment-0.2\"><span class=\"toc-item-num\">0.2&nbsp;&nbsp;</span>The Python Environment</a></span></li><li><span><a href=\"#Some-Basics-\" data-toc-modified-id=\"Some-Basics--0.3\"><span class=\"toc-item-num\">0.3&nbsp;&nbsp;</span>Some Basics </a></span></li></ul></li><li><span><a href=\"#Basic-Python-Syntax\" data-toc-modified-id=\"Basic-Python-Syntax-1\"><span class=\"toc-item-num\">1&nbsp;&nbsp;</span>Basic Python Syntax</a></span><ul class=\"toc-item\"><li><span><a href=\"#Hello,-Python\" data-toc-modified-id=\"Hello,-Python-1.1\"><span class=\"toc-item-num\">1.1&nbsp;&nbsp;</span>Hello, Python</a></span></li><li><span><a href=\"#Comments-and-Escape-Characters\" data-toc-modified-id=\"Comments-and-Escape-Characters-1.2\"><span class=\"toc-item-num\">1.2&nbsp;&nbsp;</span>Comments and Escape Characters</a></span></li><li><span><a href=\"#Namespaces-and-String-Variants\" data-toc-modified-id=\"Namespaces-and-String-Variants-1.3\"><span class=\"toc-item-num\">1.3&nbsp;&nbsp;</span>Namespaces and String Variants</a></span></li><li><span><a href=\"#Automatic-Concantenation\" data-toc-modified-id=\"Automatic-Concantenation-1.4\"><span class=\"toc-item-num\">1.4&nbsp;&nbsp;</span>Automatic Concantenation</a></span></li><li><span><a href=\"#Line-Continuation\" data-toc-modified-id=\"Line-Continuation-1.5\"><span class=\"toc-item-num\">1.5&nbsp;&nbsp;</span>Line Continuation</a></span></li><li><span><a href=\"#Exercise:\" data-toc-modified-id=\"Exercise:-1.6\"><span class=\"toc-item-num\">1.6&nbsp;&nbsp;</span>Exercise:</a></span></li></ul></li><li><span><a href=\"#What’s-Your-Number?\" data-toc-modified-id=\"What’s-Your-Number?-2\"><span class=\"toc-item-num\">2&nbsp;&nbsp;</span>What’s Your Number?</a></span><ul class=\"toc-item\"><li><span><a href=\"#Which-Python\" data-toc-modified-id=\"Which-Python-2.1\"><span class=\"toc-item-num\">2.1&nbsp;&nbsp;</span>Which Python</a></span></li><li><span><a href=\"#Chatting-up-an-Object\" data-toc-modified-id=\"Chatting-up-an-Object-2.2\"><span class=\"toc-item-num\">2.2&nbsp;&nbsp;</span>Chatting up an Object</a></span></li><li><span><a href=\"#Methods-Can-Be-Built-Into-Objects\" data-toc-modified-id=\"Methods-Can-Be-Built-Into-Objects-2.3\"><span class=\"toc-item-num\">2.3&nbsp;&nbsp;</span>Methods Can Be Built Into Objects</a></span></li><li><span><a href=\"#Implementation-of-Operators-Varies\" data-toc-modified-id=\"Implementation-of-Operators-Varies-2.4\"><span class=\"toc-item-num\">2.4&nbsp;&nbsp;</span>Implementation of Operators Varies</a></span></li><li><span><a href=\"#Getting-Help\" data-toc-modified-id=\"Getting-Help-2.5\"><span class=\"toc-item-num\">2.5&nbsp;&nbsp;</span>Getting Help</a></span></li><li><span><a href=\"#Numbers-and-More-Numbers\" data-toc-modified-id=\"Numbers-and-More-Numbers-2.6\"><span class=\"toc-item-num\">2.6&nbsp;&nbsp;</span>Numbers and More Numbers</a></span></li><li><span><a href=\"#-Accuracy-and-Garbage\" data-toc-modified-id=\"-Accuracy-and-Garbage-2.7\"><span class=\"toc-item-num\">2.7&nbsp;&nbsp;</span> Accuracy and Garbage</a></span></li><li><span><a href=\"#-Numeric-Types-as-Methods\" data-toc-modified-id=\"-Numeric-Types-as-Methods-2.8\"><span class=\"toc-item-num\">2.8&nbsp;&nbsp;</span> Numeric Types as Methods</a></span></li><li><span><a href=\"#Getting-User-Input\" data-toc-modified-id=\"Getting-User-Input-2.9\"><span class=\"toc-item-num\">2.9&nbsp;&nbsp;</span>Getting User Input</a></span></li><li><span><a href=\"#Exercise:\" data-toc-modified-id=\"Exercise:-2.10\"><span class=\"toc-item-num\">2.10&nbsp;&nbsp;</span>Exercise:</a></span></li></ul></li><li><span><a href=\"#“String-Theory”\" data-toc-modified-id=\"“String-Theory”-3\"><span class=\"toc-item-num\">3&nbsp;&nbsp;</span>“String Theory”</a></span><ul class=\"toc-item\"><li><span><a href=\"#String-Methods\" data-toc-modified-id=\"String-Methods-3.1\"><span class=\"toc-item-num\">3.1&nbsp;&nbsp;</span>String Methods</a></span></li><li><span><a href=\"#Breaking-up-and-Getting-Together-Again\" data-toc-modified-id=\"Breaking-up-and-Getting-Together-Again-3.2\"><span class=\"toc-item-num\">3.2&nbsp;&nbsp;</span>Breaking up and Getting Together Again</a></span></li><li><span><a href=\"#Literals-and-Escape-Sequences\" data-toc-modified-id=\"Literals-and-Escape-Sequences-3.3\"><span class=\"toc-item-num\">3.3&nbsp;&nbsp;</span>Literals and Escape Sequences</a></span></li><li><span><a href=\"#Cleaning-House-and-Moving-Furniture\" data-toc-modified-id=\"Cleaning-House-and-Moving-Furniture-3.4\"><span class=\"toc-item-num\">3.4&nbsp;&nbsp;</span>Cleaning House and Moving Furniture</a></span><ul class=\"toc-item\"><li><span><a href=\"#Boolean-Evaluations\" data-toc-modified-id=\"Boolean-Evaluations-3.4.1\"><span class=\"toc-item-num\">3.4.1&nbsp;&nbsp;</span>Boolean Evaluations</a></span></li><li><span><a href=\"#More-Python-Keywords-and-str-Object-Manipulations\" data-toc-modified-id=\"More-Python-Keywords-and-str-Object-Manipulations-3.4.2\"><span class=\"toc-item-num\">3.4.2&nbsp;&nbsp;</span>More Python Keywords and <strong>str</strong> Object Manipulations</a></span></li></ul></li><li><span><a href=\"#Making-Things-Beautiful:-the-Format-Mini-Language[19]\" data-toc-modified-id=\"Making-Things-Beautiful:-the-Format-Mini-Language[19]-3.5\"><span class=\"toc-item-num\">3.5&nbsp;&nbsp;</span>Making Things Beautiful: the Format Mini-Language[19]</a></span></li><li><span><a href=\"#Exercise:\" data-toc-modified-id=\"Exercise:-3.6\"><span class=\"toc-item-num\">3.6&nbsp;&nbsp;</span>Exercise:</a></span></li></ul></li><li><span><a href=\"#Language-Components\" data-toc-modified-id=\"Language-Components-4\"><span class=\"toc-item-num\">4&nbsp;&nbsp;</span>Language Components</a></span><ul class=\"toc-item\"><li><span><a href=\"#Indentation\" data-toc-modified-id=\"Indentation-4.1\"><span class=\"toc-item-num\">4.1&nbsp;&nbsp;</span>Indentation</a></span></li><li><span><a href=\"#Iteration-and-Lazy-Evaluation\" data-toc-modified-id=\"Iteration-and-Lazy-Evaluation-4.2\"><span class=\"toc-item-num\">4.2&nbsp;&nbsp;</span>Iteration and Lazy Evaluation</a></span></li><li><span><a href=\"#The-if-Statement\" data-toc-modified-id=\"The-if-Statement-4.3\"><span class=\"toc-item-num\">4.3&nbsp;&nbsp;</span>The if Statement</a></span></li><li><span><a href=\"#Using-for-and-if-Together\" data-toc-modified-id=\"Using-for-and-if-Together-4.4\"><span class=\"toc-item-num\">4.4&nbsp;&nbsp;</span>Using for and if Together</a></span></li><li><span><a href=\"#The-while-Statement\" data-toc-modified-id=\"The-while-Statement-4.5\"><span class=\"toc-item-num\">4.5&nbsp;&nbsp;</span>The while Statement</a></span></li><li><span><a href=\"#Inner-and-Outer-Loops\" data-toc-modified-id=\"Inner-and-Outer-Loops-4.6\"><span class=\"toc-item-num\">4.6&nbsp;&nbsp;</span>Inner and Outer Loops</a></span></li><li><span><a href=\"#Some-Useful-Logical-and-Binary-Operators\" data-toc-modified-id=\"Some-Useful-Logical-and-Binary-Operators-4.7\"><span class=\"toc-item-num\">4.7&nbsp;&nbsp;</span>Some Useful Logical and Binary Operators</a></span></li><li><span><a href=\"#Exercise:\" data-toc-modified-id=\"Exercise:-4.8\"><span class=\"toc-item-num\">4.8&nbsp;&nbsp;</span>Exercise:</a></span></li></ul></li><li><span><a href=\"#Collections\" data-toc-modified-id=\"Collections-5\"><span class=\"toc-item-num\">5&nbsp;&nbsp;</span>Collections</a></span><ul class=\"toc-item\"><li><span><a href=\"#Creating-Sequences-\" data-toc-modified-id=\"Creating-Sequences--5.1\"><span class=\"toc-item-num\">5.1&nbsp;&nbsp;</span>Creating Sequences </a></span></li><li><span><a href=\"#Creating-Index-Values-with-enumerate\" data-toc-modified-id=\"Creating-Index-Values-with-enumerate-5.2\"><span class=\"toc-item-num\">5.2&nbsp;&nbsp;</span>Creating Index Values with enumerate</a></span></li><li><span><a href=\"#Slices-and-Sequence-Indexing\" data-toc-modified-id=\"Slices-and-Sequence-Indexing-5.3\"><span class=\"toc-item-num\">5.3&nbsp;&nbsp;</span>Slices and Sequence Indexing</a></span></li><li><span><a href=\"#Dictionaries-in-Python\" data-toc-modified-id=\"Dictionaries-in-Python-5.4\"><span class=\"toc-item-num\">5.4&nbsp;&nbsp;</span>Dictionaries in Python</a></span></li><li><span><a href=\"#Basics\" data-toc-modified-id=\"Basics-5.5\"><span class=\"toc-item-num\">5.5&nbsp;&nbsp;</span>Basics</a></span></li><li><span><a href=\"#Using-get\" data-toc-modified-id=\"Using-get-5.6\"><span class=\"toc-item-num\">5.6&nbsp;&nbsp;</span>Using get</a></span></li><li><span><a href=\"#Keys-are-Immutable\" data-toc-modified-id=\"Keys-are-Immutable-5.7\"><span class=\"toc-item-num\">5.7&nbsp;&nbsp;</span>Keys are Immutable</a></span></li><li><span><a href=\"#Useful-Dictionary-Methods\" data-toc-modified-id=\"Useful-Dictionary-Methods-5.8\"><span class=\"toc-item-num\">5.8&nbsp;&nbsp;</span>Useful Dictionary Methods</a></span></li><li><span><a href=\"#Sorting-a-Dictionary\" data-toc-modified-id=\"Sorting-a-Dictionary-5.9\"><span class=\"toc-item-num\">5.9&nbsp;&nbsp;</span>Sorting a Dictionary</a></span></li><li><span><a href=\"#Miscellaneous-Notes-on-dict-Objects\" data-toc-modified-id=\"Miscellaneous-Notes-on-dict-Objects-5.10\"><span class=\"toc-item-num\">5.10&nbsp;&nbsp;</span>Miscellaneous Notes on dict Objects</a></span></li><li><span><a href=\"#Memory-Considerations\" data-toc-modified-id=\"Memory-Considerations-5.11\"><span class=\"toc-item-num\">5.11&nbsp;&nbsp;</span>Memory Considerations</a></span></li><li><span><a href=\"#The-set-Object-and-List-Comprehension\" data-toc-modified-id=\"The-set-Object-and-List-Comprehension-5.12\"><span class=\"toc-item-num\">5.12&nbsp;&nbsp;</span>The set Object and List Comprehension</a></span></li><li><span><a href=\"#Named-Tuples\" data-toc-modified-id=\"Named-Tuples-5.13\"><span class=\"toc-item-num\">5.13&nbsp;&nbsp;</span>Named Tuples</a></span></li><li><span><a href=\"#Getting-Fancier-with-the-namedtuple-Object\" data-toc-modified-id=\"Getting-Fancier-with-the-namedtuple-Object-5.14\"><span class=\"toc-item-num\">5.14&nbsp;&nbsp;</span>Getting Fancier with the namedtuple Object</a></span></li><li><span><a href=\"#Copying-Sequences\" data-toc-modified-id=\"Copying-Sequences-5.15\"><span class=\"toc-item-num\">5.15&nbsp;&nbsp;</span>Copying Sequences</a></span></li><li><span><a href=\"#Exercise:\" data-toc-modified-id=\"Exercise:-5.16\"><span class=\"toc-item-num\">5.16&nbsp;&nbsp;</span>Exercise:</a></span></li></ul></li><li><span><a href=\"#Functions\" data-toc-modified-id=\"Functions-6\"><span class=\"toc-item-num\">6&nbsp;&nbsp;</span>Functions</a></span><ul class=\"toc-item\"><li><span><a href=\"#Scope-of-Names-In-a-Module\" data-toc-modified-id=\"Scope-of-Names-In-a-Module-6.1\"><span class=\"toc-item-num\">6.1&nbsp;&nbsp;</span>Scope of Names In a Module</a></span></li><li><span><a href=\"#Passing-Information-into-a-Function\" data-toc-modified-id=\"Passing-Information-into-a-Function-6.2\"><span class=\"toc-item-num\">6.2&nbsp;&nbsp;</span>Passing Information into a Function</a></span></li><li><span><a href=\"#Returning-Information-From-a-Function\" data-toc-modified-id=\"Returning-Information-From-a-Function-6.3\"><span class=\"toc-item-num\">6.3&nbsp;&nbsp;</span>Returning Information From a Function</a></span></li><li><span><a href=\"#First-Class-Objects\" data-toc-modified-id=\"First-Class-Objects-6.4\"><span class=\"toc-item-num\">6.4&nbsp;&nbsp;</span>First Class Objects</a></span></li><li><span><a href=\"#Inner-Functions\" data-toc-modified-id=\"Inner-Functions-6.5\"><span class=\"toc-item-num\">6.5&nbsp;&nbsp;</span>Inner Functions</a></span></li><li><span><a href=\"#Closures\" data-toc-modified-id=\"Closures-6.6\"><span class=\"toc-item-num\">6.6&nbsp;&nbsp;</span>Closures</a></span></li><li><span><a href=\"#-Python's-Take-on-Map,-Reduce-and-Filter\" data-toc-modified-id=\"-Python's-Take-on-Map,-Reduce-and-Filter-6.7\"><span class=\"toc-item-num\">6.7&nbsp;&nbsp;</span> Python's Take on Map, Reduce and Filter</a></span></li><li><span><a href=\"#Function-Dispatch\" data-toc-modified-id=\"Function-Dispatch-6.8\"><span class=\"toc-item-num\">6.8&nbsp;&nbsp;</span>Function Dispatch</a></span></li><li><span><a href=\"#Exercise\" data-toc-modified-id=\"Exercise-6.9\"><span class=\"toc-item-num\">6.9&nbsp;&nbsp;</span>Exercise</a></span></li></ul></li><li><span><a href=\"#Modules-and-Libraries\" data-toc-modified-id=\"Modules-and-Libraries-7\"><span class=\"toc-item-num\">7&nbsp;&nbsp;</span>Modules and Libraries</a></span><ul class=\"toc-item\"><li><span><a href=\"#Importing-Libraries\" data-toc-modified-id=\"Importing-Libraries-7.1\"><span class=\"toc-item-num\">7.1&nbsp;&nbsp;</span>Importing Libraries</a></span></li><li><span><a href=\"#-Basic-Use-of-import\" data-toc-modified-id=\"-Basic-Use-of-import-7.2\"><span class=\"toc-item-num\">7.2&nbsp;&nbsp;</span> Basic Use of import</a></span></li><li><span><a href=\"#Dot-Notation-\" data-toc-modified-id=\"Dot-Notation--7.3\"><span class=\"toc-item-num\">7.3&nbsp;&nbsp;</span>Dot Notation </a></span></li><li><span><a href=\"#-Renaming-Object-When-Importing\" data-toc-modified-id=\"-Renaming-Object-When-Importing-7.4\"><span class=\"toc-item-num\">7.4&nbsp;&nbsp;</span> Renaming Object When Importing</a></span></li><li><span><a href=\"#File-System-Based-Namespaces\" data-toc-modified-id=\"File-System-Based-Namespaces-7.5\"><span class=\"toc-item-num\">7.5&nbsp;&nbsp;</span>File System Based Namespaces</a></span></li><li><span><a href=\"#Time-related-Objects:-time,-datetime,-and-calendar\" data-toc-modified-id=\"Time-related-Objects:-time,-datetime,-and-calendar-7.6\"><span class=\"toc-item-num\">7.6&nbsp;&nbsp;</span>Time-related Objects: time, datetime, and calendar</a></span></li><li><span><a href=\"#Time-Objects\" data-toc-modified-id=\"Time-Objects-7.7\"><span class=\"toc-item-num\">7.7&nbsp;&nbsp;</span>Time Objects</a></span></li><li><span><a href=\"#-Datetime-Objects\" data-toc-modified-id=\"-Datetime-Objects-7.8\"><span class=\"toc-item-num\">7.8&nbsp;&nbsp;</span> Datetime Objects</a></span></li><li><span><a href=\"#Working-with-Calendar\" data-toc-modified-id=\"Working-with-Calendar-7.9\"><span class=\"toc-item-num\">7.9&nbsp;&nbsp;</span>Working with Calendar</a></span></li><li><span><a href=\"#Introduction-to-Python's-&quot;Middleware&quot;-Libraries\" data-toc-modified-id=\"Introduction-to-Python's-&quot;Middleware&quot;-Libraries-7.10\"><span class=\"toc-item-num\">7.10&nbsp;&nbsp;</span>Introduction to Python's \"Middleware\" Libraries</a></span></li><li><span><a href=\"#Exercise:\" data-toc-modified-id=\"Exercise:-7.11\"><span class=\"toc-item-num\">7.11&nbsp;&nbsp;</span>Exercise:</a></span></li></ul></li><li><span><a href=\"#Exceptions\" data-toc-modified-id=\"Exceptions-8\"><span class=\"toc-item-num\">8&nbsp;&nbsp;</span>Exceptions</a></span><ul class=\"toc-item\"><li><span><a href=\"#Basic-Usage\" data-toc-modified-id=\"Basic-Usage-8.1\"><span class=\"toc-item-num\">8.1&nbsp;&nbsp;</span>Basic Usage</a></span></li><li><span><a href=\"#The-Exception-Class\" data-toc-modified-id=\"The-Exception-Class-8.2\"><span class=\"toc-item-num\">8.2&nbsp;&nbsp;</span>The Exception Class</a></span></li><li><span><a href=\"#Miscellaneous\" data-toc-modified-id=\"Miscellaneous-8.3\"><span class=\"toc-item-num\">8.3&nbsp;&nbsp;</span>Miscellaneous</a></span></li><li><span><a href=\"#Strategies\" data-toc-modified-id=\"Strategies-8.4\"><span class=\"toc-item-num\">8.4&nbsp;&nbsp;</span>Strategies</a></span></li></ul></li><li><span><a href=\"#Input-and-Output\" data-toc-modified-id=\"Input-and-Output-9\"><span class=\"toc-item-num\">9&nbsp;&nbsp;</span>Input and Output</a></span><ul class=\"toc-item\"><li><span><a href=\"#Basic-File-i/o\" data-toc-modified-id=\"Basic-File-i/o-9.1\"><span class=\"toc-item-num\">9.1&nbsp;&nbsp;</span>Basic File i/o</a></span></li><li><span><a href=\"#-Creating-a-Context\" data-toc-modified-id=\"-Creating-a-Context-9.2\"><span class=\"toc-item-num\">9.2&nbsp;&nbsp;</span> Creating a Context</a></span></li><li><span><a href=\"#File-Pointers\" data-toc-modified-id=\"File-Pointers-9.3\"><span class=\"toc-item-num\">9.3&nbsp;&nbsp;</span>File Pointers</a></span></li><li><span><a href=\"#-Working-with-the-File-System\" data-toc-modified-id=\"-Working-with-the-File-System-9.4\"><span class=\"toc-item-num\">9.4&nbsp;&nbsp;</span> Working with the File System</a></span></li><li><span><a href=\"#File-Metadata\" data-toc-modified-id=\"File-Metadata-9.5\"><span class=\"toc-item-num\">9.5&nbsp;&nbsp;</span>File Metadata</a></span></li><li><span><a href=\"#Pickle\" data-toc-modified-id=\"Pickle-9.6\"><span class=\"toc-item-num\">9.6&nbsp;&nbsp;</span>Pickle</a></span></li><li><span><a href=\"#Shelve\" data-toc-modified-id=\"Shelve-9.7\"><span class=\"toc-item-num\">9.7&nbsp;&nbsp;</span>Shelve</a></span></li><li><span><a href=\"#Pickle-Caveats\" data-toc-modified-id=\"Pickle-Caveats-9.8\"><span class=\"toc-item-num\">9.8&nbsp;&nbsp;</span>Pickle Caveats</a></span></li><li><span><a href=\"#Other-Serializers\" data-toc-modified-id=\"Other-Serializers-9.9\"><span class=\"toc-item-num\">9.9&nbsp;&nbsp;</span>Other Serializers</a></span></li><li><span><a href=\"#Exercises:\" data-toc-modified-id=\"Exercises:-9.10\"><span class=\"toc-item-num\">9.10&nbsp;&nbsp;</span>Exercises:</a></span></li></ul></li><li><span><a href=\"#Classes-in-Python\" data-toc-modified-id=\"Classes-in-Python-10\"><span class=\"toc-item-num\">10&nbsp;&nbsp;</span>Classes in Python</a></span><ul class=\"toc-item\"><li><span><a href=\"#Polymorphism\" data-toc-modified-id=\"Polymorphism-10.1\"><span class=\"toc-item-num\">10.1&nbsp;&nbsp;</span>Polymorphism</a></span></li><li><span><a href=\"#Inheritance\" data-toc-modified-id=\"Inheritance-10.2\"><span class=\"toc-item-num\">10.2&nbsp;&nbsp;</span>Inheritance</a></span></li><li><span><a href=\"#Encapsulation\" data-toc-modified-id=\"Encapsulation-10.3\"><span class=\"toc-item-num\">10.3&nbsp;&nbsp;</span>Encapsulation</a></span></li></ul></li><li><span><a href=\"#Regular-Expressions\" data-toc-modified-id=\"Regular-Expressions-11\"><span class=\"toc-item-num\">11&nbsp;&nbsp;</span>Regular Expressions</a></span><ul class=\"toc-item\"><li><span><a href=\"#Begin-at-the-beginning\" data-toc-modified-id=\"Begin-at-the-beginning-11.1\"><span class=\"toc-item-num\">11.1&nbsp;&nbsp;</span>Begin at the beginning</a></span></li><li><span><a href=\"#Character-Sets\" data-toc-modified-id=\"Character-Sets-11.2\"><span class=\"toc-item-num\">11.2&nbsp;&nbsp;</span>Character Sets</a></span></li><li><span><a href=\"#Special-Symbols\" data-toc-modified-id=\"Special-Symbols-11.3\"><span class=\"toc-item-num\">11.3&nbsp;&nbsp;</span>Special Symbols</a></span></li><li><span><a href=\"#Shortcuts\" data-toc-modified-id=\"Shortcuts-11.4\"><span class=\"toc-item-num\">11.4&nbsp;&nbsp;</span>Shortcuts</a></span></li><li><span><a href=\"#Match-objects-and-compiled-regexes\" data-toc-modified-id=\"Match-objects-and-compiled-regexes-11.5\"><span class=\"toc-item-num\">11.5&nbsp;&nbsp;</span>Match objects and compiled regexes</a></span></li><li><span><a href=\"#Substitution\" data-toc-modified-id=\"Substitution-11.6\"><span class=\"toc-item-num\">11.6&nbsp;&nbsp;</span>Substitution</a></span></li><li><span><a href=\"#Exercise\" data-toc-modified-id=\"Exercise-11.7\"><span class=\"toc-item-num\">11.7&nbsp;&nbsp;</span>Exercise</a></span></li></ul></li><li><span><a href=\"#Testing\" data-toc-modified-id=\"Testing-12\"><span class=\"toc-item-num\">12&nbsp;&nbsp;</span>Testing</a></span><ul class=\"toc-item\"><li><span><a href=\"#Test-Driven-Development\" data-toc-modified-id=\"Test-Driven-Development-12.1\"><span class=\"toc-item-num\">12.1&nbsp;&nbsp;</span>Test-Driven Development</a></span></li><li><span><a href=\"#The-Unittest-Library\" data-toc-modified-id=\"The-Unittest-Library-12.2\"><span class=\"toc-item-num\">12.2&nbsp;&nbsp;</span>The Unittest Library</a></span></li><li><span><a href=\"#Basics\" data-toc-modified-id=\"Basics-12.3\"><span class=\"toc-item-num\">12.3&nbsp;&nbsp;</span>Basics</a></span></li><li><span><a href=\"#TestCase-test-methods\" data-toc-modified-id=\"TestCase-test-methods-12.4\"><span class=\"toc-item-num\">12.4&nbsp;&nbsp;</span>TestCase test methods</a></span></li><li><span><a href=\"#If-You-Make-a-Mess,-Clean-It-Up\" data-toc-modified-id=\"If-You-Make-a-Mess,-Clean-It-Up-12.5\"><span class=\"toc-item-num\">12.5&nbsp;&nbsp;</span>If You Make a Mess, Clean It Up</a></span></li><li><span><a href=\"#Be-Careful-With-rmtree\" data-toc-modified-id=\"Be-Careful-With-rmtree-12.6\"><span class=\"toc-item-num\">12.6&nbsp;&nbsp;</span>Be Careful With rmtree</a></span></li><li><span><a href=\"#Separation-of-Responsibilities\" data-toc-modified-id=\"Separation-of-Responsibilities-12.7\"><span class=\"toc-item-num\">12.7&nbsp;&nbsp;</span>Separation of Responsibilities</a></span></li><li><span><a href=\"#Doctests\" data-toc-modified-id=\"Doctests-12.8\"><span class=\"toc-item-num\">12.8&nbsp;&nbsp;</span>Doctests</a></span></li><li><span><a href=\"#Exercise\" data-toc-modified-id=\"Exercise-12.9\"><span class=\"toc-item-num\">12.9&nbsp;&nbsp;</span>Exercise</a></span></li></ul></li><li><span><a href=\"#Data-Structures\" data-toc-modified-id=\"Data-Structures-13\"><span class=\"toc-item-num\">13&nbsp;&nbsp;</span>Data Structures</a></span><ul class=\"toc-item\"><li><span><a href=\"#List-Comprehensions\" data-toc-modified-id=\"List-Comprehensions-13.1\"><span class=\"toc-item-num\">13.1&nbsp;&nbsp;</span>List Comprehensions</a></span></li><li><span><a href=\"#Dict-Comprehensions\" data-toc-modified-id=\"Dict-Comprehensions-13.2\"><span class=\"toc-item-num\">13.2&nbsp;&nbsp;</span>Dict Comprehensions</a></span></li><li><span><a href=\"#Nested-lists\" data-toc-modified-id=\"Nested-lists-13.3\"><span class=\"toc-item-num\">13.3&nbsp;&nbsp;</span>Nested lists</a></span></li><li><span><a href=\"#Nested-dicts\" data-toc-modified-id=\"Nested-dicts-13.4\"><span class=\"toc-item-num\">13.4&nbsp;&nbsp;</span>Nested dicts</a></span></li></ul></li><li><span><a href=\"#GUIs\" data-toc-modified-id=\"GUIs-14\"><span class=\"toc-item-num\">14&nbsp;&nbsp;</span>GUIs</a></span><ul class=\"toc-item\"><li><span><a href=\"#Basics\" data-toc-modified-id=\"Basics-14.1\"><span class=\"toc-item-num\">14.1&nbsp;&nbsp;</span>Basics</a></span></li><li><span><a href=\"#Adding-User-Control\" data-toc-modified-id=\"Adding-User-Control-14.2\"><span class=\"toc-item-num\">14.2&nbsp;&nbsp;</span>Adding User Control</a></span></li><li><span><a href=\"#User-Choice-in-Command-Branching\" data-toc-modified-id=\"User-Choice-in-Command-Branching-14.3\"><span class=\"toc-item-num\">14.3&nbsp;&nbsp;</span>User Choice in Command Branching</a></span></li><li><span><a href=\"#Wrangling-Widgets-with-Frames\" data-toc-modified-id=\"Wrangling-Widgets-with-Frames-14.4\"><span class=\"toc-item-num\">14.4&nbsp;&nbsp;</span>Wrangling Widgets with Frames</a></span></li><li><span><a href=\"#Building-Menus\" data-toc-modified-id=\"Building-Menus-14.5\"><span class=\"toc-item-num\">14.5&nbsp;&nbsp;</span>Building Menus</a></span></li><li><span><a href=\"#Text-Input\" data-toc-modified-id=\"Text-Input-14.6\"><span class=\"toc-item-num\">14.6&nbsp;&nbsp;</span>Text Input</a></span></li><li><span><a href=\"#Built-in-GUI-Magic\" data-toc-modified-id=\"Built-in-GUI-Magic-14.7\"><span class=\"toc-item-num\">14.7&nbsp;&nbsp;</span>Built-in GUI Magic</a></span></li><li><span><a href=\"#Exercise:\" data-toc-modified-id=\"Exercise:-14.8\"><span class=\"toc-item-num\">14.8&nbsp;&nbsp;</span>Exercise:</a></span></li></ul></li><li><span><a href=\"#Working-With-Databases\" data-toc-modified-id=\"Working-With-Databases-15\"><span class=\"toc-item-num\">15&nbsp;&nbsp;</span>Working With Databases</a></span><ul class=\"toc-item\"><li><span><a href=\"#Basics\" data-toc-modified-id=\"Basics-15.1\"><span class=\"toc-item-num\">15.1&nbsp;&nbsp;</span>Basics</a></span></li><li><span><a href=\"#Database-Metadata\" data-toc-modified-id=\"Database-Metadata-15.2\"><span class=\"toc-item-num\">15.2&nbsp;&nbsp;</span>Database Metadata</a></span></li><li><span><a href=\"#Lazy-Evaluation\" data-toc-modified-id=\"Lazy-Evaluation-15.3\"><span class=\"toc-item-num\">15.3&nbsp;&nbsp;</span>Lazy Evaluation</a></span></li><li><span><a href=\"#Choosing-Data-with-WHERE\" data-toc-modified-id=\"Choosing-Data-with-WHERE-15.4\"><span class=\"toc-item-num\">15.4&nbsp;&nbsp;</span>Choosing Data with WHERE</a></span></li><li><span><a href=\"#Updating-and-Deleting-Data\" data-toc-modified-id=\"Updating-and-Deleting-Data-15.5\"><span class=\"toc-item-num\">15.5&nbsp;&nbsp;</span>Updating and Deleting Data</a></span></li><li><span><a href=\"#Database-Use-In-Context\" data-toc-modified-id=\"Database-Use-In-Context-15.6\"><span class=\"toc-item-num\">15.6&nbsp;&nbsp;</span>Database Use In Context</a></span></li><li><span><a href=\"#Object-Relational-Mapping\" data-toc-modified-id=\"Object-Relational-Mapping-15.7\"><span class=\"toc-item-num\">15.7&nbsp;&nbsp;</span>Object-Relational Mapping</a></span></li><li><span><a href=\"#Exercise\" data-toc-modified-id=\"Exercise-15.8\"><span class=\"toc-item-num\">15.8&nbsp;&nbsp;</span>Exercise</a></span></li></ul></li><li><span><a href=\"#Logging\" data-toc-modified-id=\"Logging-16\"><span class=\"toc-item-num\">16&nbsp;&nbsp;</span>Logging</a></span><ul class=\"toc-item\"><li><span><a href=\"#Basics\" data-toc-modified-id=\"Basics-16.1\"><span class=\"toc-item-num\">16.1&nbsp;&nbsp;</span>Basics</a></span></li><li><span><a href=\"#Logging-Levels\" data-toc-modified-id=\"Logging-Levels-16.2\"><span class=\"toc-item-num\">16.2&nbsp;&nbsp;</span>Logging Levels</a></span></li><li><span><a href=\"#Dynamically-Changing-the-Level\" data-toc-modified-id=\"Dynamically-Changing-the-Level-16.3\"><span class=\"toc-item-num\">16.3&nbsp;&nbsp;</span>Dynamically Changing the Level</a></span></li><li><span><a href=\"#Customizing-Your-Logging\" data-toc-modified-id=\"Customizing-Your-Logging-16.4\"><span class=\"toc-item-num\">16.4&nbsp;&nbsp;</span>Customizing Your Logging</a></span></li><li><span><a href=\"#Logging-to-Multiple-Destinations\" data-toc-modified-id=\"Logging-to-Multiple-Destinations-16.5\"><span class=\"toc-item-num\">16.5&nbsp;&nbsp;</span>Logging to Multiple Destinations</a></span></li><li><span><a href=\"#Exercise:\" data-toc-modified-id=\"Exercise:-16.6\"><span class=\"toc-item-num\">16.6&nbsp;&nbsp;</span>Exercise:</a></span></li></ul></li><li><span><a href=\"#Introduction-to-Scientific-Programming\" data-toc-modified-id=\"Introduction-to-Scientific-Programming-17\"><span class=\"toc-item-num\">17&nbsp;&nbsp;</span>Introduction to Scientific Programming</a></span><ul class=\"toc-item\"><li><span><a href=\"#ndarrays\" data-toc-modified-id=\"ndarrays-17.1\"><span class=\"toc-item-num\">17.1&nbsp;&nbsp;</span>ndarrays</a></span></li><li><span><a href=\"#Slicing-Operations\" data-toc-modified-id=\"Slicing-Operations-17.2\"><span class=\"toc-item-num\">17.2&nbsp;&nbsp;</span>Slicing Operations</a></span></li><li><span><a href=\"#Element-wise-Operations\" data-toc-modified-id=\"Element-wise-Operations-17.3\"><span class=\"toc-item-num\">17.3&nbsp;&nbsp;</span>Element-wise Operations</a></span></li><li><span><a href=\"#Basic-Statistical-Info\" data-toc-modified-id=\"Basic-Statistical-Info-17.4\"><span class=\"toc-item-num\">17.4&nbsp;&nbsp;</span>Basic Statistical Info</a></span></li><li><span><a href=\"#Data-Masks\" data-toc-modified-id=\"Data-Masks-17.5\"><span class=\"toc-item-num\">17.5&nbsp;&nbsp;</span>Data Masks</a></span></li><li><span><a href=\"#Scalar-Products\" data-toc-modified-id=\"Scalar-Products-17.6\"><span class=\"toc-item-num\">17.6&nbsp;&nbsp;</span>Scalar Products</a></span></li><li><span><a href=\"#Matrix-Products\" data-toc-modified-id=\"Matrix-Products-17.7\"><span class=\"toc-item-num\">17.7&nbsp;&nbsp;</span>Matrix Products</a></span></li><li><span><a href=\"#Example:--Calculating-Covariance\" data-toc-modified-id=\"Example:--Calculating-Covariance-17.8\"><span class=\"toc-item-num\">17.8&nbsp;&nbsp;</span>Example:  Calculating Covariance</a></span></li><li><span><a href=\"#A-Real-World-Application\" data-toc-modified-id=\"A-Real-World-Application-17.9\"><span class=\"toc-item-num\">17.9&nbsp;&nbsp;</span>A Real-World Application</a></span><ul class=\"toc-item\"><li><span><a href=\"#Exercise:\" data-toc-modified-id=\"Exercise:-17.9.1\"><span class=\"toc-item-num\">17.9.1&nbsp;&nbsp;</span>Exercise:</a></span></li></ul></li></ul></li><li><span><a href=\"#Asynchronous-and-Distributed-Processing\" data-toc-modified-id=\"Asynchronous-and-Distributed-Processing-18\"><span class=\"toc-item-num\">18&nbsp;&nbsp;</span>Asynchronous and Distributed Processing</a></span><ul class=\"toc-item\"><li><span><a href=\"#Basics\" data-toc-modified-id=\"Basics-18.1\"><span class=\"toc-item-num\">18.1&nbsp;&nbsp;</span>Basics</a></span></li><li><span><a href=\"#The-asyncio-library\" data-toc-modified-id=\"The-asyncio-library-18.2\"><span class=\"toc-item-num\">18.2&nbsp;&nbsp;</span>The asyncio library</a></span></li></ul></li></ul></div>"
   ]
  },
  {
   "cell_type": "markdown",
   "metadata": {},
   "source": [
    " An Introduction To Python\n",
    "========================="
   ]
  },
  {
   "cell_type": "markdown",
   "metadata": {},
   "source": [
    "Welcome!\n",
    "--------\n",
    "\n",
    "This course will take you on a journey through the world of Python 3.0.  Whether you are new to programming or just new to Python, expect to come away with a solid understanding of:\n",
    "\n",
    "-   What the heck is Python and where did it come from?\n",
    "\n",
    "\n",
    "-   Interacting with Python at the command line (Python is really\n",
    "    gregarious!)\n",
    "    \n",
    "\n",
    "-   Working effectively with an interactive debugging environment\n",
    "\n",
    "\n",
    "-   Utilizing professional code distributions and package managers\n",
    "\n",
    "\n",
    "-   Python objects including classes, methods, and collections\n",
    "\n",
    "\n",
    "-   Customizing your Python objects with your own code\n",
    "\n",
    "This might sound like a lot – and it is. But Python really is fun to work with and very forgiving to the beginner. \n",
    "\n",
    "You can’t break Python. \n",
    "\n",
    "It talks to you. In fact, it’s downright loquacious. You can ask it questions and it (usually) provides sensible answers. And when it doesn’t, there are hundreds of thousands of great resources available over the internet. We’ll show you how to access some of these, as well.  So roll up your sleeves and get ready to enjoy the ride!"
   ]
  },
  {
   "cell_type": "markdown",
   "metadata": {},
   "source": [
    "The Python Environment\n",
    "----------------------\n",
    "\n",
    "You should already have Python installed on your machine. If not, no worries. You could go ahead and install a fresh Python distribution and an IDE (integrated development environment).\n",
    "\n",
    "Yes, it’s possible to download, compile, and install Python. If you’re ever interested, downloads are available directly from the official Python web site:\n",
    "\n",
    "https://www.python.org/downloads.\n",
    "\n",
    "This being said, there are distributions such as EnThought and Anaconda which offer integrated package management that allows easy access to extended libraries and their sometimes extensive/tedious dependencies. This is especially valuable when adding complex libraries such as NumPy, which can take hours to get right.\n",
    "\n",
    "For this course, we’ll use the Anaconda distribution. This supports all sorts of data science and visualization packages that we’ll touch on in the advanced course, along with Python virtual environments “right out of the box.” You can install it by browsing to this sight and following\n",
    "the instructions to get the 64-bit version for Python 3. \n",
    "\n",
    "https://www.anaconda.com/download/\n",
    "\n",
    "The “official” IDE for Python is called IDLE. It provides a rudimentary and very light weight debugger and file manager. IDLE works and works well, but for serious work I much prefer a more fully-functional environment such as PyCharm, WingIDE, or VSCode with the Python plug-in. If you’re accustomed to Eclipse, you could use the PyDev plug-in[1]. A light-weight debugger, Spyder, comes packaged with Anaconda. If you want to use Wing, you can download a full-on Professional version (free for 30 days)[2]. You have many options.\n",
    "\n",
    "Python uses environment variables to help it work and play well with the operating system (OS). The most important of these are PATH and PYTHONPATH.\n",
    "\n",
    "PATH contains the directories your OS will search when looking for a particular application. In order for Python to “just work” when you\n",
    "type:\n",
    "\n",
    "**\\$ python \n",
    "\n",
    "You have to include Python’s binary (executable) directory in the PATH variable. That’s where python.exe lives. On a Windows system, you can do that by clicking:  \n",
    "\n",
    "**Start ... Control Panel... System ... Advanced System Settings ...\n",
    "Environment Variables**\n",
    "\n",
    "Then edit PATH by appending the binary directory. You have to be a bit careful. Add a semicolon, no spaces, and the name of the new directory with no trailing slash. Something like:\n",
    "\n",
    "\\<existing path\\>;c:\\\\Path\\\\To\\\\Directory\n",
    "\n",
    "On a Linux system, you can simply add an export to \\~/.bashrc:\n",
    "\n",
    "Export PATH = \\$PATH:/path/to/directory\n",
    "\n",
    "PYTHONPATH works the same way PATH does, but it’s used internally by Python to search for modules (libraries, for instance) that you’ll want to import into your code’s namespace.\n",
    "\n",
    "Once you make the necessary changes to your environment variables, you’ll need to start a new terminal to apply them (or run source \\~/.bashrc in Linux)."
   ]
  },
  {
   "cell_type": "markdown",
   "metadata": {},
   "source": [
    "Some Basics \n",
    "-----------\n",
    "\n",
    "Let’s have a quick look at some Python concepts. We’ll cover all these\n",
    "in more depth later, but we’ll put them on the table early.\n",
    "\n",
    "Python is an amazingly simple language from a syntax perspective.\n",
    "Believe it or not, there are only 33 keywords only a few of which are\n",
    "exotic. Here’s a list[3]:\n",
    "\n",
    "|        |          |         |          |        |\n",
    "|--------|----------|---------|----------|--------|\n",
    "| False  | class    | finally | is       | return |\n",
    "| None   | continue | for     | lambda   | try    |\n",
    "| True   | def      | from    | nonlocal | while  |\n",
    "| and    | del      | global  | not      | with   |\n",
    "| as     | elif     | if      | or       | yield  |\n",
    "| assert | else     | import  | pass     |        |\n",
    "| break  | except   | in      | raise    |        |\n",
    "|<img width=110/>|<img width=110/>|<img width=110/>|<img width=110/>|<img width=110/>|\n",
    "\n",
    "Let’s have a quick look at some Python concepts. We’ll cover all these in more depth later, but we’ll put them on the table early.\n",
    "\n",
    "If you are ever uncertain about whether a variable name you’re considering is a keyword (or otherwise known to the interpreter), you can just type it into a command line. If the interpreter “yells at you”, you can choose another name.\n",
    "\n",
    "A few other things to know:  \n",
    "\n",
    "-   Case matters – Python is case sensitive  \n",
    "\n",
    "\n",
    "-   Indentation matters – Python doesn’t rely on brackets or braces   \n",
    "\n",
    "\n",
    "-   Whitespace typically does not matter  \n",
    "\n",
    "\n",
    "-   Help is just a few keystrokes away – just type “help”  \n",
    "\n",
    "So, what is Python, anyway?\n",
    "\n",
    "-   A **high-level**, **object oriented** (each object has its own\n",
    "    repertoire of nouns and verbs, and they can borrow from and build on\n",
    "    each other) **interpreted** language (“just in time” compilation).\n",
    "    \n",
    "\n",
    "-   You can think of it a giant wrapper around hundreds of thousands of\n",
    "    lines of C and C++ libraries, each providing consistent APIs\n",
    "    (Application Programming Interfaces) so everything has the same look\n",
    "    and feel.\n",
    "    \n",
    "\n",
    "-   Created by **Guido van Rossum**, a great fan of **Monty Python**, in\n",
    "    the late 1990s as a successor to the ABC language, with significant\n",
    "    support from **DARPA**. (That’s Guido holding a beer in the photo\n",
    "    below.)\n",
    "    \n",
    "\n",
    "-   Highly extensible to applications such as GIS (pyqgis), scientific\n",
    "    programming (numpy), visualization (matplotlib), and many other\n",
    "    domains.\n",
    "    \n",
    "\n",
    "-   Python is operating system agnostic, and runs equally well on\n",
    "    Windows, Linux, Raspberry Pi, and Mac systems.\n",
    "    \n",
    "\n",
    "Python has been around since 1994 and has undergone several transformations. Most notably, Python evolved from 2.7 to 3.0 in 2008, implementing Unicode characters and addressing some lingering structural concerns.\n",
    "\n",
    "There are plenty of solid applications written in 2.7 in the world, but most newer developments have shifted to Python 3. You should be aware that there are enough substantive differences between 2.x and 3.x that code written against one version is not wholly compatible with the other.\n",
    "\n",
    "By design Python is simple, clear, and transparent. Philosophical tenants (shown in abbreviated form here) are always available from a Python prompt:\n",
    "\n",
    "\\>\\>\\> import this\n"
   ]
  },
  {
   "cell_type": "markdown",
   "metadata": {
    "ExecuteTime": {
     "end_time": "2021-07-02T19:32:22.949319Z",
     "start_time": "2021-07-02T19:32:22.929753Z"
    }
   },
   "source": [
    "> The Zen of Python, by Tim Peters\n",
    ">\n",
    "- Beautiful is better than ugly.\n",
    "\n",
    "- Explicit is better than implicit.\n",
    "\n",
    "- Simple is better than complex.\n",
    "\n",
    "- Complex is better than complicated.\n",
    "\n",
    "- Flat is better than nested.\n",
    "\n",
    "- Sparse is better than dense.\n",
    "\n",
    "- Readability counts.\n",
    "\n",
    "- Special cases aren't special enough to break the rules.\n",
    "\n",
    "- Although practicality beats purity.\n",
    "\n",
    "- Errors should never pass silently.\n",
    "\n",
    "- Unless explicitly silenced.\n",
    "\n",
    "- In the face of ambiguity, refuse the temptation to guess.\n",
    "\n",
    "- There should be one-- and preferably only one --obvious way to do it.\n",
    "\n",
    "- Although that way may not be obvious at first unless you're Dutch.\n",
    "\n",
    "- Now is better than never.\n",
    "\n",
    "- Although never is often better than \\*right\\* now.\n",
    "\n",
    "- If the implementation is hard to explain, it's a bad idea.\n",
    "\n",
    "- If the implementation is easy to explain, it may be a good idea.\n",
    "\n",
    "- Namespaces are one honking great idea -- let's do more of those!.\n",
    "\n",
    "OK. Let’s get started and have some fun!"
   ]
  },
  {
   "cell_type": "markdown",
   "metadata": {},
   "source": [
    "Basic Python Syntax\n",
    "===================\n",
    "\n",
    "Hello, Python\n",
    "-------------\n",
    "\n",
    "As you know, there’s an unwritten Cosmic Law stating all computer courses have to start with a “Hello World” application. Since we don’t want the Cosmic Police kicking the door down, let’s start with that.  Besides, it’s a great introduction to Python’s command line operations.\n",
    "\n",
    "To invoke the interpreter, type this from the command line (except the “\\$”):\n",
    "\n",
    "\\$ python3\n",
    "\n",
    "Python 3.9.0 (default, Oct 14 2020, 11:33:57) [GCC 4.8.4\\] on linux\n",
    "\n",
    "Type \"help\", \"copyright\", \"credits\" or \"license\" for more information.\n",
    "\n",
    "\\>\\>\\>\n",
    "\n",
    "\n",
    "So what’s this? The first few lines let you know what “flavor” of Python you’re using, and how it was compiled. This can be important because you may well have several versions installed on the same machine. More on that later.\n",
    "\n",
    "The last line is the interpreter’s prompt (\\>\\>\\> )  to let you know you’re talking to Python. So let’s say “hello.”"
   ]
  },
  {
   "cell_type": "code",
   "execution_count": null,
   "metadata": {
    "ExecuteTime": {
     "end_time": "2021-07-02T20:10:42.971369Z",
     "start_time": "2021-07-02T20:10:42.953015Z"
    }
   },
   "outputs": [],
   "source": [
    "print(\"hello\")"
   ]
  },
  {
   "cell_type": "markdown",
   "metadata": {},
   "source": [
    "In this command, we utilize one of Python’s top-level methods, the **print function,** and one of Python’s top-level objects, the string, known internally as a **str**. Note that the arguments to the function are enclosed in parentheses, and that the contents of the string are enclosed in quotes.\n",
    "\n",
    "Strings are ubiquitous, so it’s good to know a few ways to compose them.  \n",
    "\n",
    "## Comments and Escape Characters\n",
    "\n",
    "Here are some examples. These are annotated using the **\\#** character – that’s how you can make single line comments. Anything to the right of the \\# will not compile, so you can embed your comments in-line."
   ]
  },
  {
   "cell_type": "code",
   "execution_count": null,
   "metadata": {},
   "outputs": [],
   "source": [
    "# You can use double quotes – useful with apostrophes.\n",
    "print(\"Hello, Guido's cool project.\")\n",
    "\n",
    "# You can also “escape” the apostrophe with a \"\\\".\n",
    "print('Hello, Guido\\'s cool project.')"
   ]
  },
  {
   "cell_type": "markdown",
   "metadata": {},
   "source": [
    "Let’s try a few more strings. This time, we’ll assign them to names so wrangling them will be easier. \n",
    "\n",
    "\n",
    "## Namespaces and String Variants\n",
    "So what are names? These are just tags you can associate with values. “Values” are simply the bits of information stored in the computer’s memory."
   ]
  },
  {
   "cell_type": "code",
   "execution_count": null,
   "metadata": {},
   "outputs": [],
   "source": [
    "#single quotes work just fine\n",
    "team = 'Cubs'\n",
    "\n",
    "#you can also use triple double quotes\n",
    "year = \"\"\"2018\"\"\"\n",
    "\n",
    "#... or triple single quotes\n",
    "outcome = '''win'''\n",
    "\n",
    "#these can be provided to print as arguments, separated by commas.\n",
    "print(team, year, outcome)"
   ]
  },
  {
   "cell_type": "markdown",
   "metadata": {},
   "source": [
    "## Automatic Concantenation\n",
    "You can provide a series of strings together and Python will automatically concatenate them (run them together):"
   ]
  },
  {
   "cell_type": "code",
   "execution_count": null,
   "metadata": {},
   "outputs": [],
   "source": [
    "\"and\" \"a\" \"one\" \"and\" \"a\" \"two\""
   ]
  },
  {
   "cell_type": "markdown",
   "metadata": {
    "solution": "hidden"
   },
   "source": [
    "## Line Continuation\n",
    "If you ever want a multi-line string, you can use either of the triple quote styles."
   ]
  },
  {
   "cell_type": "code",
   "execution_count": null,
   "metadata": {},
   "outputs": [],
   "source": [
    "chant = \"\"\" \\\n",
    "            Cubs\n",
    "             2018\n",
    "             win\"\"\"\n",
    "print(chant)"
   ]
  },
  {
   "cell_type": "markdown",
   "metadata": {},
   "source": [
    "If you study the above example carefully, you’ll notice a couple features. The interpreter will automatically allow a command to be broken up into several lines if there’s an unclosed control symbol. Since we had not yet included the terminating triple quote, it patiently waited. This feature also works for parentheses, braces, etc.\n",
    "\n",
    "Here is another example:"
   ]
  },
  {
   "cell_type": "code",
   "execution_count": null,
   "metadata": {},
   "outputs": [],
   "source": [
    "# we’ll introduce the list object soon\n",
    "a_list = [99,\n",
    "          33,\n",
    "          40\n",
    "          ]\n",
    "a_list"
   ]
  },
  {
   "cell_type": "markdown",
   "metadata": {},
   "source": [
    "You now know how to communicate with Python’s command line. You can execute functions, create objects, provide commands, and receive output.  \n",
    "\n",
    "Now, it’s time to roll your sleeves up."
   ]
  },
  {
   "cell_type": "markdown",
   "metadata": {},
   "source": [
    "## Exercise:\n",
    "Please write your own version of a “hello world”, working at the terminal. Practice using all four of the string composition methods, and with both single and multiple line versions.  Document your code for posterity."
   ]
  },
  {
   "cell_type": "markdown",
   "metadata": {
    "solution": "hidden"
   },
   "source": [
    "# What’s Your Number?\n",
    "-------------------\n",
    "\n",
    "Do you remember when I said that Python is loquacious? I was not kidding. You can have an interactive conversation with the interpreter in which it will tell you about itself and all the objects it knows about. The best part is that you can ask it for help and get reliable information to guide your programming efforts.\n",
    "\n",
    "No course can teach you everything you need to know, not even this one.  Knowing how to efficiently get the help you need is perhaps the most important skill you can acquire. So the information in this chapter is the most critical bit of the course.\n",
    "\n",
    "The interpreter can tell you about itself. Sometimes you have to access built-in libraries by importing them into your local **namespace**. A namespace is all the names (“tags”), associated with the **values** stored in memory, your program has access to. By importing more names, we have access to more values and objects."
   ]
  },
  {
   "cell_type": "markdown",
   "metadata": {},
   "source": [
    "## Which Python\n",
    "\n",
    "Here, we’re asking the interpreter what version of Python we’re using, which release, and what operating system it finds itself operating within.\n",
    "\n",
    "Let’s have a conversation!"
   ]
  },
  {
   "cell_type": "code",
   "execution_count": null,
   "metadata": {},
   "outputs": [],
   "source": [
    "import sys  # tools for working with the Python environment\n",
    "sys.version"
   ]
  },
  {
   "cell_type": "code",
   "execution_count": null,
   "metadata": {},
   "outputs": [],
   "source": [
    "sys.version_info"
   ]
  },
  {
   "cell_type": "code",
   "execution_count": null,
   "metadata": {},
   "outputs": [],
   "source": [
    "import os  # tools for working with the OS\n",
    "os.name"
   ]
  },
  {
   "cell_type": "markdown",
   "metadata": {},
   "source": [
    "## Chatting up an Object\n",
    "\n",
    "Now, this gets even better. Let’s say we have an object. \n",
    "\n",
    "*“One is the loneliest number that there ever was ...”*, or so the song goes. \n",
    "\n",
    "Maybe we can address the issue by engaging with 1.  Or maybe we can’t, but let’s try.  To start with we’ll give it the name “one”, pull up a chair, then chat it up."
   ]
  },
  {
   "cell_type": "code",
   "execution_count": null,
   "metadata": {},
   "outputs": [],
   "source": [
    "one = 1  # hey, can I call you ‘one’?"
   ]
  },
  {
   "cell_type": "code",
   "execution_count": null,
   "metadata": {},
   "outputs": [],
   "source": [
    "one  # tell me a little about yourself"
   ]
  },
  {
   "cell_type": "code",
   "execution_count": null,
   "metadata": {},
   "outputs": [],
   "source": [
    "id(one)  # where do you live?"
   ]
  },
  {
   "cell_type": "code",
   "execution_count": null,
   "metadata": {},
   "outputs": [],
   "source": [
    "type(one)  # I like your type. What is it, anyway?"
   ]
  },
  {
   "cell_type": "code",
   "execution_count": null,
   "metadata": {},
   "outputs": [],
   "source": [
    "isinstance(one, int)  # Um. Right, then an integer?"
   ]
  },
  {
   "cell_type": "markdown",
   "metadata": {},
   "source": [
    "Let’s step through this preliminary conversation. \n",
    "\n",
    "After we assigned it a name, we then called it by name and it responded. It happened to respond with its value, but not all objects do that. The response is built into the object as its **\\_\\_repr\\_\\_** method, which is executed when you type the name. When you make your own classes later on, you’ll be able to make it say something like “I’m 1, and I’m a Leo”, or anything else you like. The **int** object simply replies with a parsimonious string representation of itself.\n",
    "\n",
    "The next bit, invoking the top level function **id** provides a unique descriptor of the object. Under the hood, it’s just the location in memory where the object resides (that’s how it’s guaranteed to be unique – no two objects can occupy the same space at the same time).\n",
    "\n",
    "We’re pretty sure what type of object one is, but we can ask to be sure using the **type** method. In this case, we learn that it’s an **int** object (not an “integer”). In fact, **int** is the name of a built-in function and already reserved by Python. We can use it with the **isinstance** method to verify its type. This can become important – for instance, we might want to check whether an object is a number before attempting to do math with it.\n",
    "\n",
    "One of the really useful aspects of Python is that objects come to us already endowed with properties and already knowing how to do type-appropriate tricks. More properly these are called **attributes** and **methods** (“nouns” and “verbs”). "
   ]
  },
  {
   "cell_type": "markdown",
   "metadata": {},
   "source": [
    "## Methods Can Be Built Into Objects\n",
    "\n",
    "We can discover some of the methods built into the **int** objects empirically, just by interacting with it.  So let’s experiment:"
   ]
  },
  {
   "cell_type": "code",
   "execution_count": null,
   "metadata": {},
   "outputs": [],
   "source": [
    "one + one  # can you add?"
   ]
  },
  {
   "cell_type": "code",
   "execution_count": null,
   "metadata": {},
   "outputs": [],
   "source": [
    "one / one  # divide?"
   ]
  },
  {
   "cell_type": "code",
   "execution_count": null,
   "metadata": {},
   "outputs": [],
   "source": [
    "one * one  # OK then, can you multiply?"
   ]
  },
  {
   "cell_type": "code",
   "execution_count": null,
   "metadata": {},
   "outputs": [],
   "source": [
    "one ** one  # do powers?"
   ]
  },
  {
   "cell_type": "code",
   "execution_count": null,
   "metadata": {},
   "outputs": [],
   "source": [
    "one % one  # how about modulo operations?"
   ]
  },
  {
   "cell_type": "markdown",
   "metadata": {},
   "source": [
    "This is pretty much as expected, since we’re already familiar with integers. But we’ll frequently encounter objects that we’re not familiar with, or need to know how they handle various operators. Sometimes things aren’t as expected. For instance, what happens if we do a “multiplication” or “addition” operation on a string?"
   ]
  },
  {
   "cell_type": "markdown",
   "metadata": {},
   "source": [
    "##  Implementation of Operators Varies\n",
    "\n",
    "Sometimes things aren’t as expected. For instance, what happens if we do a “multiplication” or “addition” operation on a string?"
   ]
  },
  {
   "cell_type": "code",
   "execution_count": null,
   "metadata": {},
   "outputs": [],
   "source": [
    " \"go\" + \"cubs\""
   ]
  },
  {
   "cell_type": "code",
   "execution_count": null,
   "metadata": {},
   "outputs": [],
   "source": [
    "\"cubs\" * 10"
   ]
  },
  {
   "cell_type": "markdown",
   "metadata": {},
   "source": [
    "Getting Help\n",
    "------------\n",
    "\n",
    "Though it’s interesting and really informative to experiment, you’ll typically be too busy to indulge. In these cases, the most straightforward way to engage is to ask for help. This is easy enough to accomplish as you can see below. "
   ]
  },
  {
   "cell_type": "code",
   "execution_count": null,
   "metadata": {},
   "outputs": [],
   "source": [
    "help(one)"
   ]
  },
  {
   "cell_type": "markdown",
   "metadata": {},
   "source": [
    "Another way to get information quickly is to use the built-in **dir** method on the object. The output is a little harder to interpret, especially when you’re looking at it for the first time, but you can get a fairly compact look at the contents of the object’s **namespace**.  Let’s check it out, and I’ll explain some of the bits and pieces below."
   ]
  },
  {
   "cell_type": "code",
   "execution_count": null,
   "metadata": {},
   "outputs": [],
   "source": [
    "dir(one)"
   ]
  },
  {
   "cell_type": "markdown",
   "metadata": {},
   "source": [
    "The strange looking names that are surrounded by the “\\_\\_” characters (which some call “dunder”, for “double underscore”) are mostly methods that implement logic to make operational characters like “+” or “\\<.” In general, any name beginning with one or more “\\_” characters is intended for the object’s internal usage. You can access these, of course, but you’ve been warned.\n",
    "\n",
    "The plain-text names are designed for “public consumption.” You can learn more about them by slogging through the verbose help, asking for help on a more narrow topic, or just by typing them in at the command line, something like:"
   ]
  },
  {
   "cell_type": "code",
   "execution_count": null,
   "metadata": {},
   "outputs": [],
   "source": [
    "one.denominator"
   ]
  },
  {
   "cell_type": "code",
   "execution_count": null,
   "metadata": {},
   "outputs": [],
   "source": [
    "one.real"
   ]
  },
  {
   "cell_type": "code",
   "execution_count": null,
   "metadata": {},
   "outputs": [],
   "source": [
    "one.from_bytes"
   ]
  },
  {
   "cell_type": "code",
   "execution_count": null,
   "metadata": {},
   "outputs": [],
   "source": [
    "help(one.from_bytes)"
   ]
  },
  {
   "cell_type": "markdown",
   "metadata": {},
   "source": [
    "You’ll recall that when you simply type the name of an object into the command line, you’re asking it to describe itself by invoking its **\\_\\_repr\\_\\_** method. This is one of Python’s so-called “magic methods” which are baked into the object with specific names that are meaningful to the interpreter. As another example, the **\\_\\_str\\_\\_** method is invoked when you use the object as an argument to the **print** method.\n",
    "\n",
    "Here’s a list of some of the other “magic methods”, along with their meanings. From the **dir** listing, we can see that most of these are baked into the **int** object. We’ll actually be writing our own versions of some these later in the course, but for now, here’s an overview of the math operations."
   ]
  },
  {
   "cell_type": "markdown",
   "metadata": {},
   "source": [
    "| Human                   | Operator    | Method                |\n",
    "|-------------------------|-------------|-----------------------|\n",
    "| addition                | x + y       | x.\\_\\_add\\_\\_(y)      |\n",
    "| bitwise and             | x & y       | x.\\_\\_and\\_\\_(y)      |\n",
    "| bitwise or              | x \\| y      | x.\\_\\_or\\_\\_(y)       |\n",
    "| bitwise xor             | x ^ y       | x.\\_\\_xor\\_\\_(y)      |\n",
    "| division                | x / y       | x.\\_\\_truediv\\_\\_(y)  |\n",
    "| floor division          | x // y      | x.\\_\\_floordiv\\_\\_(y) |\n",
    "| floor division & modulo | divmod(x,y) | x.\\_\\_divmod\\_\\_(y)   |\n",
    "| left bit-shift          | x \\<\\< y    | x.\\_\\_lshift\\_\\_(y)   |\n",
    "| modulo (remainder)      | x % y       | x.\\_\\_mod\\_\\_(y)      |\n",
    "| multiplication          | x \\* y      | x.\\_\\_mul\\_\\_(y)      |\n",
    "| raise to power          | x \\*\\* y    | x.\\_\\_pow\\_\\_(y)      |\n",
    "| right bit-shift         | x \\>\\> y    | x.\\_\\_rshift\\_\\_(y)   |\n",
    "| subtraction             | x - y       | x.\\_\\_sub\\_\\_(y)      |\n",
    "|<img width=210/>         |<img width=210/>    |<img width=210/>|"
   ]
  },
  {
   "cell_type": "markdown",
   "metadata": {},
   "source": [
    "You’ll note that the **help** method is not within the namespace of the objects. That’s because **help** is a top-level method. It works by ransacking the object for what are called its **docstrings** – these are provided by the programmer. They survive compilation so are carried with the object itself, and can be whatever the programmer wants them to be.  By contrast, comments do not survive compilation and exist mostly as developer-to-developer notes.\n",
    "\n",
    "**Docstrings** are simply the first executable line(s) of code in an object, assuming a couple of things: the line(s) of code is a **str** object, and the **str** object is not associated with a name. A quick example should serve to clarify."
   ]
  },
  {
   "cell_type": "code",
   "execution_count": null,
   "metadata": {},
   "outputs": [],
   "source": [
    "def my_first_function():\n",
    "    \"the most simple function on Earth\"\n",
    "\n",
    "help(my_first_function)"
   ]
  },
  {
   "cell_type": "markdown",
   "metadata": {},
   "source": [
    "Here, the built-in **help** method simply picked off the docstring and served it up as content within its delivery system (which is just like **man** to deliver manual pages in a Posix system).\n",
    "\n",
    "Had this function been a method within a containing object like a class, the help system would provide all available docstrings in the containing object. That’s what happened when we used **help**(**one**) – we got all the docstrings for the methods and attributes within the **int** class.\n",
    "\n",
    "While the built-in functionality typically serves well, sometimes it’s necessary to go outside your code or use libraries that support introspection of your objects[4]. Python has exceptionally well-written official documentation that’s available at:\n",
    "\n",
    "<http://python.org/3>\n",
    "\n",
    "One word of caution – at the top-left of the Python docs web page, you’ll see a small scroll-down menu with a number in it. \n",
    "\n",
    "The number is the version of Python addressed by the main page’s contents. It’s quite easy to follow a link from a StackOverflow posting (say) that vectors into the wrong version. Among versions of Python3 it usually won’t matter, but there are significant differences between 2.x and 3.x and you could waste a lot of time trying to get the wrong material to work.\n"
   ]
  },
  {
   "cell_type": "markdown",
   "metadata": {},
   "source": [
    "Numbers and More Numbers\n",
    "------------------------\n",
    "\n",
    "There are only two other numeric types within the core Python language, the **float** and **complex** types. There are some exotic types in external libraries such as decimal, such as **Fraction** (for real numbers) and **Decimal** (for arbitrary levels of precision)[5].\n",
    "\n",
    "The **float** type is pretty much what you would expect – it’s anything with a decimal point. Here’s an example:"
   ]
  },
  {
   "cell_type": "code",
   "execution_count": null,
   "metadata": {},
   "outputs": [],
   "source": [
    "root_beer = 1.0\n",
    "type(root_beer)"
   ]
  },
  {
   "cell_type": "markdown",
   "metadata": {},
   "source": [
    "Unless you’re an electrical engineer or a glutton for punishment, you probably have little to do with “complex numbers.” They’re not all that complex, but require two components. The first is “real” – an ordinary number that stands on its own feet – and the second is “imaginary” – a number that’s multiplied by the square root of -1. Yes, that’s where it gets weird, but it’s beyond the scope of this class. Here’s one way to specify a **complex** object:"
   ]
  },
  {
   "cell_type": "code",
   "execution_count": null,
   "metadata": {},
   "outputs": [],
   "source": [
    "complexity = (3 + 5j)   #Note that 'j' signifies the imaginary component - not 'i'\n",
    "type(complexity)"
   ]
  },
  {
   "cell_type": "markdown",
   "metadata": {},
   "source": [
    " Accuracy and Garbage\n",
    "--------------------\n",
    "\n",
    "Integers can be represented accurately in a computer because they are nicely discrete. Later versions of Python implement integers in such a way as they can be arbitrarily long, and don’t have to be explicitly specified as such.\n",
    "\n",
    "Floating point numbers are only so accurate (the default level of precision is 28 places). This can become an issue with numbers that never end, like 1/3, or numbers which are really large. Just for fun, you can try adding .1 + .1 + .1 to see what happens.\n",
    "\n",
    "A final point: floating point number can contain some “garbage bits” in the 1/1000000 decimal place and beyond, even if you’ve specified it as simply as 1.0 – something to be aware of when doing tests of equality."
   ]
  },
  {
   "cell_type": "markdown",
   "metadata": {},
   "source": [
    " Numeric Types as Methods\n",
    "------------------------\n",
    "\n",
    "We have seen numeric types like **int** and **float** used to describe objects, but they can also be used to convert data types (“type casting”) by invoking them as constructor methods. Here’s how you can convert an **int** to a **float**"
   ]
  },
  {
   "cell_type": "code",
   "execution_count": null,
   "metadata": {},
   "outputs": [],
   "source": [
    "one = 1\n",
    "one_float = float(one)\n",
    "type(one_float)"
   ]
  },
  {
   "cell_type": "code",
   "execution_count": null,
   "metadata": {},
   "outputs": [],
   "source": [
    "and_back = int(one_float)\n",
    "type(and_back)"
   ]
  },
  {
   "cell_type": "code",
   "execution_count": null,
   "metadata": {},
   "outputs": [],
   "source": [
    "one = 1\n",
    "one_float = float(one)\n",
    "type(one_float)"
   ]
  },
  {
   "cell_type": "code",
   "execution_count": null,
   "metadata": {},
   "outputs": [],
   "source": [
    "and_back = int(one_float)\n",
    "type(and_back)"
   ]
  },
  {
   "cell_type": "markdown",
   "metadata": {},
   "source": [
    "Python will even try to convert strings to numeric types. If it can’t, you’ll get a **ValueError** exception."
   ]
  },
  {
   "cell_type": "code",
   "execution_count": null,
   "metadata": {},
   "outputs": [],
   "source": [
    "one_string = (\"1\")\n",
    "one_string_float = float(one_string)\n",
    "one_string_float"
   ]
  },
  {
   "cell_type": "code",
   "execution_count": null,
   "metadata": {},
   "outputs": [],
   "source": [
    "type(one_string_float)"
   ]
  },
  {
   "cell_type": "markdown",
   "metadata": {},
   "source": [
    "You can also directly specify variables invoking the constructor with appropriate arguments. Python will do its level best to whistle up the right object for you. Here are some examples:"
   ]
  },
  {
   "cell_type": "code",
   "execution_count": null,
   "metadata": {},
   "outputs": [],
   "source": [
    "print(complex(1, 2), complex(1))\n",
    "\n",
    "print(float(1), int('333'))\n",
    "\n",
    "print(int(1.3),  str(123))"
   ]
  },
  {
   "cell_type": "markdown",
   "metadata": {},
   "source": [
    "Getting User Input\n",
    "------------------\n",
    "\n",
    "Python has built-in method for getting information from the user using the standard input stream (think “keyboard” for now). You probably won’t be building applications using direct user input very often, but it’s handy to know how to use. The syntax is straightforward:"
   ]
  },
  {
   "cell_type": "code",
   "execution_count": null,
   "metadata": {},
   "outputs": [],
   "source": [
    "# NB Python will hang until you hit 'Enter' !  This will drive you insane if you forget.\n",
    "\n",
    "answer = input(\"Hey yo, how’s it going?   \")\n",
    "print(answer)"
   ]
  },
  {
   "cell_type": "markdown",
   "metadata": {},
   "source": [
    "The response will always be returned as a string, no matter what, as you can see from this terminal session:\n",
    "\n",
    "\\>\\>\\> my_input = input(\"Can I pleeese have a one? \")\n",
    "Can I pleeese have a one? 1\n",
    "\n",
    "\\>\\>\\> my_input\n",
    "\n",
    "'1'\n",
    "\n",
    "\\>\\>\\> type(my_input)\n",
    "\n",
    "class ‘str’\n",
    "\n",
    "If you need an integer, you’ll have to use the **int** constructor to type-cast it.\n",
    "\n"
   ]
  },
  {
   "cell_type": "markdown",
   "metadata": {},
   "source": [
    "## Exercise:\n",
    "\n",
    "You now have the wisdom of the ages at your disposal – a good bit of it, anyway. Let’s see if you can put some of this to good use.\n",
    "\n",
    "- If it takes three buckets of water to put out a campfire (two just won’t do it), how many campfires can you extinguish with 50 buckets? Solve the problem using the modulo operator.  You might use help() or experiment if you don't know how to use it.\n",
    "\n",
    "\n",
    "- Create a program that tests how “*”, ‘/’, “+” and “-“ are implemented for string, float, and complex numbers. Use a docstring to document it and make sure it works when calling help on it. Include some comments as a kindness to yourself and your teammates.\n",
    "\n",
    "\n",
    "- Create a program that asks the user for their name, sign, and favorite beverage, then asks them to confirm that information."
   ]
  },
  {
   "cell_type": "markdown",
   "metadata": {},
   "source": [
    "You now have the wisdom of the ages at your disposal – a good bit of it, anyway. Let’s see if you can put some of this to good use."
   ]
  },
  {
   "cell_type": "markdown",
   "metadata": {},
   "source": [
    "# “String Theory” \n",
    "---------------\n",
    "\n",
    "Now that you know how to create strings, let’s explore what how we can manipulate and interact with them.\n",
    "\n",
    "The first thing you should know that strings are **sequences**. We’ll discuss more complicated sequences later, but for now you should know you can iterate over them quite easily[6]. \n",
    "\n",
    "Check this out:"
   ]
  },
  {
   "cell_type": "code",
   "execution_count": null,
   "metadata": {},
   "outputs": [],
   "source": [
    "some_string = \"Hey!\"\n",
    "for s in some_string:\n",
    "    print(s)"
   ]
  },
  {
   "cell_type": "raw",
   "metadata": {},
   "source": [
    "Here, we used the **for** statement to loop through each element of the string. The **for** statement is really simple to implement. The syntax is:\n",
    "\n",
    "for <the name of the index> in <some iterable>:\n",
    "     <an indented suite>[7]"
   ]
  },
  {
   "cell_type": "markdown",
   "metadata": {},
   "source": [
    "String Methods\n",
    "--------------\n",
    "\n",
    "There’s a rich inventory of methods baked into the **str** object that makes text processing really easy[8]. As with any Python object, we can get a quick look using **dir**.\n",
    "\n",
    "\n",
    "\n",
    "\n",
    "\\>\\>\\> dir(str)\n",
    "\n",
    "[snip, ‘capitalize’, ‘casefold’, ‘center’, ‘count’, ‘encode’, ‘endswith’, ‘expandtabs’, ‘find’, ‘format’, ‘format_map’, ‘index’, ‘isalnum’, ‘isalpha’, ‘isdecimal’, ‘isdigit’, ‘isidentifier’, ‘islower’, ‘isnumeric’, ‘isprintable’, ‘isspace’, ‘istitle’, ‘isupper’, ‘join’, ‘ljust’, ‘lower’, ‘lstrip’, ‘maketrans’, ‘partition’, ‘replace’, ‘rfind’, ‘rindex’, ‘rjust’, ‘rpartition’, ‘rsplit’, ‘rstrip’, ‘split’, ‘splitlines’, ‘startswith’, ‘strip’, ‘swapcase’, ‘title’, ‘translate’, ‘upper’, ‘zfill’]\n",
    "\n",
    "\n",
    "\n",
    "\n",
    "Most of these are self-explanatory, but we’ll discuss a few of the most commonly-encountered ones and how to use them here. You can test a string – or a bit of one – to see what type of characters are in it.  \n",
    "\n",
    "Note that in Python there is no “character” object *per se* – a single character is simply a really short string. We could apply these operations to the intact some\\_string object just as easily.\n",
    "\n",
    "Also note that when we execute a method, we need the parentheses even if we’re not supplying any arguments[9]. \n",
    "\n",
    "The following script demonstrates some of the string methods and introduces the use of \"{ }\". This is one way to create placeholders for arguments supplied to the **format** method. We’ll cover formatting in more detail later."
   ]
  },
  {
   "cell_type": "code",
   "execution_count": null,
   "metadata": {},
   "outputs": [],
   "source": [
    "some_string = \"$R5a \"\n",
    "for s in some_string:\n",
    "    print(\"{} is alphanumeric? {}\".format(s, s.isalnum()))\n",
    "    print(\"{} is alpha? {}\".format(s, s.isalpha()))\n",
    "    print(\"{} is numeric? {}.\".format(s, s.isnumeric()))\n",
    "    print(\"{} is upper? {}.\".format(s, s.isupper()))\n",
    "    print()"
   ]
  },
  {
   "cell_type": "markdown",
   "metadata": {},
   "source": [
    "There are lots of methods to query for, and change the case of, a string. Note that the queries return a Boolean (**True** or **False**) object."
   ]
  },
  {
   "cell_type": "code",
   "execution_count": null,
   "metadata": {},
   "outputs": [],
   "source": [
    "my_team = \"The Chicago Cubs\"\n",
    "\n",
    "print(\"my team ends with an ‘s’? {}\".format(my_team.endswith(\"s\")))\n",
    "print(\"my team starts with an ‘s’? {}\".format(my_team.startswith(\"s\")))\n",
    "print(\"in caps {} .\".format(my_team.upper()))\n",
    "print(\"swapped-case {} .\".format(my_team.swapcase()))"
   ]
  },
  {
   "cell_type": "markdown",
   "metadata": {},
   "source": [
    "Breaking up and Getting Together Again\n",
    "--------------------------------------\n",
    "\n",
    "There are also methods to split up strings (returning a **list**[10] object) and to create a string by stitching together the elements of an **iterable**[11] object. In the example below, we can supply the **split** method a single argument – the string we’ll use to determine where to break the main string up[12]. Providing a single space (or calling it with no arguments) splits up the words into individual **list** elements.\n",
    "\n",
    "The reciprocal operation is **join**. With **join** we provide a string to insert between each element pulled from the list to reform the string. Though this example uses a **list**, this method works for any iterable object (such as a **tuple**[13] or even another string)."
   ]
  },
  {
   "cell_type": "code",
   "execution_count": null,
   "metadata": {},
   "outputs": [],
   "source": [
    "my_team = \"The Chicago Cubs\"\n",
    "split_team = my_team.split(\" \")\n",
    "print(\"splits: {}\".format(split_team))\n",
    "print()\n",
    "\n",
    "join_string = \"!!!\"\n",
    "together_again = join_string.join(split_team)\n",
    "print(\"together again: {}.\"\n",
    "    .format(together_again), end=join_string + \"\\n\")"
   ]
  },
  {
   "cell_type": "markdown",
   "metadata": {},
   "source": [
    "Literals and Escape Sequences\n",
    "-----------------------------\n",
    "\n",
    "Sometimes, you need to insert a specific character into a string that you can’t type directly. There are a couple ways to handle this.  The first is using “escape sequences.\" We’ve already seen that “\\\\n\"\n",
    "\n",
    "produces a new line character, but there are many more. The idea here is that inclusion of a backslash “\\\\\" tells the interpreter to do something special with (“escape\") the character that follows instead of taking it literally. Others include:\n",
    "\n",
    "> \\\\t tab\n",
    ">\n",
    "> \\\\r carriage return\n",
    ">\n",
    "> \\\\’ prints a single quote\n",
    ">\n",
    "> \\\\\" prints a double quote\n",
    ">\n",
    "> \\\\\\\\ if you really want a backslash\n",
    "\n",
    "Another way to handle this is to figure out what the character code is.  You can do that easily enough for the first 128 (ASCII) characters by printing them out with the **chr** method[14], finding your character, then using the same method in your code . You could go something like:"
   ]
  },
  {
   "cell_type": "code",
   "execution_count": null,
   "metadata": {},
   "outputs": [],
   "source": [
    "for i in range(33, 36): #yes, I’m cheating I know it’s 34\n",
    "    print (i, chr(i))\n",
    "    \n",
    "QUOTE = chr(34)\n",
    "print(\"I’m a double quote: {}\".format(QUOTE))"
   ]
  },
  {
   "cell_type": "markdown",
   "metadata": {},
   "source": [
    "Cleaning House and Moving Furniture\n",
    "-----------------------------------\n",
    "\n",
    "Python’s string methods have an easy-to-use, and remarkably efficient, ways to do searches and replacements. “Under the hood\" they wrap regular expressions (“regexes\") and, for many operations, deliver the same performance. Once we get into regexes later, you will really appreciate this implementation.\n",
    "\n",
    "### Boolean Evaluations\n",
    "Observe how Python handles Boolean tests applied to things like strings. You might think this is pretty weird:"
   ]
  },
  {
   "cell_type": "code",
   "execution_count": null,
   "metadata": {},
   "outputs": [],
   "source": [
    "dog = \"Quinn the Husky\"\n",
    "dog"
   ]
  },
  {
   "cell_type": "code",
   "execution_count": null,
   "metadata": {},
   "outputs": [],
   "source": [
    "not dog"
   ]
  },
  {
   "cell_type": "markdown",
   "metadata": {},
   "source": [
    "Huh? How can Python possibly evaluate a string as a Boolean value? \n",
    "\n",
    "Well, it turns out that whenever we ask for a Boolean evaluation, Python will go ahead and serve one up. \n",
    "\n",
    "It will return **False** if the object is the number 0, the keyword **None**[15], a null string, an empty list, or any other empty object. \n",
    "\n",
    "The opposite is also the case. When a Boolean operation is applied against a non-zero number, a string with at least one character, etc., **True** will be returned. \n",
    "\n",
    "Here's how one might use this behavior to test whether a user provided any input:"
   ]
  },
  {
   "cell_type": "raw",
   "metadata": {},
   "source": [
    "dog = input(\"What's your dog's name?  \")\n",
    "\n",
    "What's your dog's name?  Quinn\n",
    "\n",
    "if dog:\n",
    "    print(dog)\n",
    "Quinn"
   ]
  },
  {
   "cell_type": "markdown",
   "metadata": {},
   "source": [
    "Note the use of the **if** keyword for a simple logical branch. The syntax is straightforward:\n",
    "\n",
    "**if** \\<condition\\>:\n",
    "\n",
    "      \\<an indented suite\\>"
   ]
  },
  {
   "cell_type": "markdown",
   "metadata": {},
   "source": [
    "### More Python Keywords and **str** Object Manipulations\n",
    "Let's take a tour of some of the methods built into the string object with some real code. Here we'll learn ways to find and replace components of **str** objects. \n",
    "\n",
    "We'll begin with a string containing some popular sins."
   ]
  },
  {
   "cell_type": "code",
   "execution_count": null,
   "metadata": {},
   "outputs": [],
   "source": [
    "seven_deadly = \" avarice envy wrath sloth \\\n",
    "gluttony lust hubris \"\n",
    "print(seven_deadly)"
   ]
  },
  {
   "cell_type": "markdown",
   "metadata": {},
   "source": [
    "Here is how we can use the keyword **in**[16] to figure out if one string can be found within another. This is a very vague query that will yield a Boolean response. \n",
    "\n",
    "In Python we can use **not** in a logical expression for negation."
   ]
  },
  {
   "cell_type": "code",
   "execution_count": null,
   "metadata": {},
   "outputs": [],
   "source": [
    "sin = 'eNvY'\n",
    "\n",
    "print(\"{} in there? {}\\n\"\n",
    "      .format(sin.lower(),\n",
    "              sin.lower() in seven_deadly.lower())\n",
    "      )\n",
    "\n",
    "# doesn't exist? (use not for Boolean negation)\n",
    "print(\"Try the key word not:\")\n",
    "print(\"{} NOT in there? {}\\n\"\n",
    "      .format(sin.lower(),\n",
    "              sin.lower() not in seven_deadly)\n",
    "      )"
   ]
  },
  {
   "cell_type": "markdown",
   "metadata": {},
   "source": [
    "Note that we're invoking the lower method when searching the string.  It's not necessary, but not a bad idea because it lets you get away without trying every petty permutation of the word.\n",
    "\n",
    "A more surgical approach is to use **find**. This will attempt to locate the initial position of the string you're looking for and return its findings. If it strikes out, **find** will return a -1."
   ]
  },
  {
   "cell_type": "code",
   "execution_count": null,
   "metadata": {},
   "outputs": [],
   "source": [
    "# Locate the position. Note the two-element tuple object.\n",
    "for sin in ('envy', 'texting while driving', 'sloth'):\n",
    "    sin_position = seven_deadly.find(sin.lower())\n",
    "\n",
    "    print (\"Checking {}:\".format(sin))\n",
    "\n",
    "    if sin_position > 0:\n",
    "        print(\"Yup. We found '{}' starting in position {}.\\n\"\n",
    "                  .format(sin.lower(), sin_position))\n",
    "    else:\n",
    "        print(\"Nope. Since find() returned {}, '{}' wasn't there.\\n\"\n",
    "                  .format(sin_position, sin.lower()))\n",
    "        "
   ]
  },
  {
   "cell_type": "markdown",
   "metadata": {},
   "source": [
    "It's possible to replace characters with new ones with the – you guessed it – **replace** method[17]. Here's a simple example that shows a potential pitfall for a new Python programmer. \n",
    "\n",
    "Strings are \"immutable\" – not changeable. Running a replace operation doesn't change the string."
   ]
  },
  {
   "cell_type": "code",
   "execution_count": null,
   "metadata": {},
   "outputs": [],
   "source": [
    "#Replace characters\n",
    "print(\"strings are immutable - compare these:\\n\")\n",
    "seven_deadly.replace('avarice', 'greed')\n",
    "\n",
    "print(\"no replacement: \", seven_deadly, \"\\n\")\n",
    "seven_deadly = seven_deadly.replace('avarice', 'greed')\n",
    "\n",
    "print(\"replaced at last: \", seven_deadly + '\\n')"
   ]
  },
  {
   "cell_type": "markdown",
   "metadata": {},
   "source": [
    "You can remove leading and trailing whitespaces using various flavors of the **strip** method[18]. \n",
    "\n",
    "This is really handy when handling potentially-messy data like user inputs. The following example demonstrates this, along with one of Python's top-level functions len.  \n",
    "\n",
    "Note that **len** is not built into the string method – it's generally available for all objects"
   ]
  },
  {
   "cell_type": "code",
   "execution_count": null,
   "metadata": {},
   "outputs": [],
   "source": [
    "#Remove leading/trailing spaces. Note chained methods.\n",
    "print(\"The original sin list is {} characters long.\".\n",
    "        format(len(seven_deadly)))\n",
    "\n",
    "print(\"With the white spaces removed it's {} long.\".\n",
    "        format(len(seven_deadly.strip())))"
   ]
  },
  {
   "cell_type": "markdown",
   "metadata": {},
   "source": [
    "Python's ability to have one function \"swallow\" the output of another so it's possible to chain operations together. Here, the output from the **strip** method is fed into the **len** method. The combined result is fed to **format**. And the result of all that activity is rolled up into a single argument to **print**. You'll see a lot of code like this as you explore Python.\n",
    "\n",
    " "
   ]
  },
  {
   "cell_type": "markdown",
   "metadata": {},
   "source": [
    "Making Things Beautiful: the Format Mini-Language[19]\n",
    "-----------------------------------------------------\n",
    "\n",
    "You have already seen some basic applications of Python's text formatting capabilities. If you place opposing curly braces in a string they serve as \"catcher's mitt\" for any arguments you provide to **format**().  Python actually supports different styles of formatting.  We touch on a few of these here.\n",
    "\n",
    "The olde tyme, C-style method (which you'll see in Python 2 code) is not recommended, but is still supported."
   ]
  },
  {
   "cell_type": "code",
   "execution_count": null,
   "metadata": {},
   "outputs": [],
   "source": [
    "my_str = \"'My String'\"\n",
    "my_float = 1.23\n",
    "my_int = 666"
   ]
  },
  {
   "cell_type": "code",
   "execution_count": null,
   "metadata": {},
   "outputs": [],
   "source": [
    "print(\"Python can print strings %s, floats %f, and ints %i.\" %(my_str, my_float, my_int))"
   ]
  },
  {
   "cell_type": "markdown",
   "metadata": {},
   "source": [
    "You can also provide empty braces as placeholders.   Under the hood, they are indexed as 0, 1, 2, etc. and are replaced by arguments provided to **format()**:"
   ]
  },
  {
   "cell_type": "code",
   "execution_count": null,
   "metadata": {},
   "outputs": [],
   "source": [
    "print(\"Python can print strings {}, floats {}, and ints {}.\".  \n",
    "      format(my_str, my_float, my_int))"
   ]
  },
  {
   "cell_type": "markdown",
   "metadata": {},
   "source": [
    "It's also possible to scramble the indices, and even repeat elements.  Note, also, that we don't need to use all the arguments provided.   Here's how:"
   ]
  },
  {
   "cell_type": "code",
   "execution_count": null,
   "metadata": {},
   "outputs": [],
   "source": [
    "print(\"Some numbers: {3} {3} {2} {2} {1} {0}\".format(0, 1, 2, 3, 4))"
   ]
  },
  {
   "cell_type": "markdown",
   "metadata": {},
   "source": [
    "Separating the formatted string from the data is also possible.  That can make your code more reusable.   Here, we're using a multi-line version of a string.   Instead of a numeric index, we're naming the fields - that allows us to use it with dictionary-like arguments:"
   ]
  },
  {
   "cell_type": "code",
   "execution_count": null,
   "metadata": {},
   "outputs": [],
   "source": [
    "stg = \"\"\"\\\n",
    "    Dear {donor},\\n   \n",
    "       I'm running for {office} and would like to shake\n",
    "       you down for a ${dollars} contribution.\\n\n",
    "    Sincerly, \\n\n",
    "     - {candidate}\"\"\"\n",
    "\n",
    "print(stg.format(donor = \"SuperPAC\", office = \"President\",\n",
    "                 dollars =100, candidate = 'Me'))"
   ]
  },
  {
   "cell_type": "markdown",
   "metadata": {},
   "source": [
    "If we already have the variables defined, we can simply create a format statment using those names.  This is the most common and most readable (IMHO) way to do it.   Note that you can perform operations of any kind within the format string's {placeholders}."
   ]
  },
  {
   "cell_type": "code",
   "execution_count": null,
   "metadata": {},
   "outputs": [],
   "source": [
    "fav_musician = \"Jerry Garcia\"\n",
    "fav_band = \"Grateful Dead\"\n",
    "\n",
    "# This is called an 'f-string' - introduced in Python 3.6\n",
    "print(f\"{fav_musician} and the fabulous {fav_band} are the greatest!\\n\")\n",
    "\n",
    "print(f\"... because there are {len(fav_musician)} letters in {fav_musician}'s name...\")\n",
    "print(f\"... and half of that is {len(fav_musician)/2}.\")\n"
   ]
  },
  {
   "cell_type": "markdown",
   "metadata": {},
   "source": [
    "It's also easy to provide column width and justification specifications.  The general form of the specification is something like:\n",
    "\n",
    "{ \\<field name\\> : \\<alignment\\>[21] \\<width\\> }\n",
    "\n",
    "This example creates three columns of equal width, left justified in a\n",
    "format string, then \"recycles\" the string to build a nicely-formatted\n",
    "table."
   ]
  },
  {
   "cell_type": "code",
   "execution_count": null,
   "metadata": {},
   "outputs": [],
   "source": [
    "stg = \"{0:<10} {1:^10} {1:>10}\"\n",
    "print(stg.format(\"Presenting: Addition!!!\\ng\", ''))\n",
    "print(stg.format(\"output\", \"input\"))\n",
    "print(stg.format(\"=\" * 6, \"=\" * 6))\n",
    "print(stg.format(4, 2))\n",
    "print(stg.format(8, 4))\n"
   ]
  },
  {
   "cell_type": "markdown",
   "metadata": {},
   "source": [
    "You can also ask Python to temporarily cast variables into other forms for the purposes of output. Here, we're printing out decimal, binary, and hex flavors of some numbers."
   ]
  },
  {
   "cell_type": "code",
   "execution_count": null,
   "metadata": {},
   "outputs": [],
   "source": [
    "fmt = \"{0:6} = {0:#16b} = {0:#06x}\"\n",
    "for i in (1, 23, 456, 7890):\n",
    "    print(fmt.format(i))"
   ]
  },
  {
   "cell_type": "markdown",
   "metadata": {},
   "source": [
    "Other options allow you to do things like represent add \"+\" and \"-\" signs in front of values, to pad out columns, etc. Things can be much more complicated but Python's official documentation is (fortunately) exceptional on this topic[22].\n",
    "\n",
    "Here's a final example that demonstrates how to use formatting to output a type-cast version of the information displayed."
   ]
  },
  {
   "cell_type": "code",
   "execution_count": null,
   "metadata": {},
   "outputs": [],
   "source": [
    "\"\"\"List people's names, ages and weights.\"\"\"\n",
    "data = [\n",
    "        (\"Steve\", 59, 202),\n",
    "        (\"Dorothy\", 49, 156),\n",
    "        (\"Simon\", 39, 155),\n",
    "        (\"David\", 61, 135) \n",
    "        ]\n",
    "for name, age, weight in data:\n",
    "    print(\"{0:12s} {1:4d} {2:4d}.\".format(name, age, weight))"
   ]
  },
  {
   "cell_type": "markdown",
   "metadata": {},
   "source": [
    "Strings can be evaluated with logical tests.  Python uses == for a logical 'is equal to' and != for 'is not equal to'."
   ]
  },
  {
   "cell_type": "code",
   "execution_count": null,
   "metadata": {},
   "outputs": [],
   "source": [
    "string_a = 'CUBS'\n",
    "string_b = 'cubs'\n",
    "\n",
    "print(f\"Are '{string_a}' and '{string_b}' the same?   {string_a == string_b}\")\n",
    "print(f\"Are '{string_a}' and '{string_b}' different?  {string_a != string_b}\")\n"
   ]
  },
  {
   "cell_type": "markdown",
   "metadata": {},
   "source": [
    "OK. You have learned a lot about string and numeric data types, how to work with strings, and how to make nicely formatted output. Now, let's flex some Pythonic muscles and make something beautiful!"
   ]
  },
  {
   "cell_type": "markdown",
   "metadata": {},
   "source": [
    "## Exercise:\n",
    "\n",
    "Please write an application that quizzes challenges the user to guess all of Python's keywords, keeping track of the successes. \n",
    "\n",
    "When the user gives up (maybe by typing \"help\"), report the number of correctly-guessed keywords, then number not guessed, and a nicely-formatted table for each group.\n",
    "\n",
    "Hint: you'll find some useful tools in the keyword library, which you can get by going:\n",
    "\n",
    "import keyword\n",
    "\n",
    "Hint: you just might find the keyword called **in** useful to determine membership in keywords. You can access it like this:\n",
    "\n",
    "keyword.kwlist\n",
    "\n",
    "You'll want to use this approach to query the list you'll find in the keyword library. \n",
    "\n",
    "    list_of_critters = ['fox', 'skunk', 'bear']\n",
    "\n",
    "    print (f\"Is 'fox' in our critter list? {'fox' in list_of_critters}\") \n",
    "    \n",
    "    Is 'fox' in our critter list? True\n",
    "\n",
    "Also, you'll need to be able to use the for and if statements.  Recall the general forms:\n",
    "\n",
    "for i in iterable_object: \n",
    "    \n",
    "    pass\n",
    "    \n",
    "if condition:   \n",
    "    \n",
    "    pass"
   ]
  },
  {
   "cell_type": "markdown",
   "metadata": {},
   "source": [
    "Language Components\n",
    "===================\n",
    "\n",
    "From a syntax perspective, Python is a simple language. As we've seen, there are only 33 keywords. While Python has data types, variables don't need to be declared to be of some specific type before use. There's no requirement to initialize variables. Objects generally come to us \"batteries included.\" Pretty slick, no?"
   ]
  },
  {
   "cell_type": "markdown",
   "metadata": {},
   "source": [
    "Indentation\n",
    "-----------\n",
    "\n",
    "We've seen the **for** statement before, but let's take another look."
   ]
  },
  {
   "cell_type": "code",
   "execution_count": null,
   "metadata": {},
   "outputs": [],
   "source": [
    "for value in range(5):\n",
    "    print(value)"
   ]
  },
  {
   "cell_type": "markdown",
   "metadata": {},
   "source": [
    "The first line is of the form:\n",
    "\n",
    "\\<key word\\> \\<name for index\\> **in** \\<iterable object\\>:\n",
    "\n",
    "That's it – no fussing around with pointers, instancing index values, or running past the end of the object. The **for** statement \"just works.\"\n",
    "\n",
    "What follows is an \"indented suite\", and it can comprise any number of lines of code. Indentation is extremely important in Python because that's how the interpreter keeps track of how to group statements.  Unlike languages such as C and Java, it can't rely on braces for that purpose – Python uses <span class=\"underline\">only</span> indentation.  Statements at the same level of indentation are treated as a being in the same code block, and code blocks can be nested to any level.\n",
    "\n",
    "This further simplifies Python – it's unburdened by the clutter of braces, statement terminating semicolons, and loop terminating keywords.  All this creates and enforces a high level of readability. The cost, of course, is the need to have attention to fine level of detail and a limited ability to write spatially-dense code.\n",
    "\n",
    "Strictly speaking, Python doesn't care how much each statement in the same suite is indented, as long as all are the same. Some developers use tabs (each is seen by the interpreter as a single character), but four white spaces is the recommended convention per Python's official style guide \"PEP-8.\" \n",
    "\n",
    "PEP-8 is a bit of a dry read, but well worth a quick look, especially if you're planning to work as part of a team[24].   Jupyter, as well as many IDEs have built-in PEP-8 checkers and will (usually!) format your code nicely even if you've forgotten some nuance."
   ]
  },
  {
   "cell_type": "markdown",
   "metadata": {},
   "source": [
    "## Iteration and Lazy Evaluation\n",
    "\n",
    "Many objects in Python have the built-in capability for looping over the elements.  Under the hood, each of these objects has an __iter__ method that provides exact instructions for doing so.   \n",
    "\n",
    "In the exercise, you saw how the **for** keyword can invoke this automatic looping behavior over a **list** object.  Just above, we used a **range** object with the same syntax.   The **range** object is good to know about because it's a good way to whistle up a sequence of numbers.\n",
    "\n",
    "It's also an example of a common built-in optimizing technique achieved by making \"iterator\" and \"generator\" objects.  These objects contain recipes to generate the next object in a series without having to remember all the elements in the series.   The example we just saw will create five consecutive integers - but it only had to have the wisdom to add one to the last integer it produced.  \n",
    "\n",
    "These expressions take exactly the same amount of memory to create:"
   ]
  },
  {
   "cell_type": "code",
   "execution_count": null,
   "metadata": {},
   "outputs": [],
   "source": [
    "print(range(5))\n",
    "print(range(5_000_000_000_000))"
   ]
  },
  {
   "cell_type": "markdown",
   "metadata": {},
   "source": [
    "Note that we're printing out string representations of the objects.   We're not causing either one to iterate or create all of its elements.  That will happen only when we apply a **for** loop.\n",
    "\n",
    "You'll also note use of underscores to specify the integer 5 trillion.  This is possible since Python 3.6."
   ]
  },
  {
   "cell_type": "markdown",
   "metadata": {},
   "source": [
    "The if Statement\n",
    "----------------\n",
    "\n",
    "We've touched on the **if** statement, the most basic of control statements. Let's expand the discussion a bit. Its general form is:\n",
    "\n",
    "if \\<condition\\>:\n",
    "\n",
    "    <indented suite>\n",
    "\n",
    "elif \\<condition\\>:\n",
    "\n",
    "    <indented suite>\n",
    "\n",
    "else:\n",
    "\n",
    "    <indented suite>\n",
    "\n",
    "The first condition presented to the **if** is evaluated True or False.  If evaluated **True**, the indented suite immediately beneath is executed and it's done. Execution drops out of the entire block of code.\n",
    "\n",
    "There can be any number of **elif** (\"else if\") statements and they are evaluated in top-to-bottom order. If any is **True**, the associated indented suite of statement is evaluated and it's done. Only when no **if** or **elif** condition is met will the **else** suite be executed[25].\n",
    "\n",
    "The **elif** and **else** clauses are completely optional, and leaving them off is routine. \n",
    "\n",
    "Here's a simple example where we apply an the **if** alone to prevent a crash (technically, an \"exception\" caused by a ZeroDivisionError)."
   ]
  },
  {
   "cell_type": "code",
   "execution_count": null,
   "metadata": {},
   "outputs": [],
   "source": [
    "denominator = 0\n",
    "numerator = 100\n",
    "if denominator:\n",
    "    print(numerator/denominator)"
   ]
  },
  {
   "cell_type": "markdown",
   "metadata": {},
   "source": [
    "## Using for and if Together\n",
    "\n",
    "Here's a program to demonstrate a more complicated application, this time coupling **for** and **if** expressions.  We introduce a few nuances in the process.\n",
    "\n",
    "The object iterated over is a **tuple**.   A tuple is an ordered set of objects and is represented within parentheses - something like:  (0, 'bear' 1.1).\n",
    "\n",
    "In his case we have a tuple-of-tuples.  The contained elements (1, 0) and (9, 3) are each tuples in their own right.  The outer tuple object bundles them:   ( (1, 0), (9, 3) )\n",
    "\n",
    "We can iterate over the outer tuple to get:"
   ]
  },
  {
   "cell_type": "code",
   "execution_count": null,
   "metadata": {},
   "outputs": [],
   "source": [
    "for element in ( (1, 0), (9, 3) ):\n",
    "    print (element)"
   ]
  },
  {
   "cell_type": "markdown",
   "metadata": {},
   "source": [
    "A common operation to use within a **for** statement is called \"unpacking\".  You do not have to use it unless you want to, but we bring the topic up here so you'll recognize it when you see it.\n",
    "\n",
    "Let's assume you have the tuple (9, 3).   You can create an assignment to split it up into constituent elements by providing a name for each element on the left side of an expression like this:"
   ]
  },
  {
   "cell_type": "code",
   "execution_count": null,
   "metadata": {},
   "outputs": [],
   "source": [
    "first_tuple_component, second_tuple_component = (9, 3)\n",
    "\n",
    "print(f\"first: {first_tuple_component}  second: {second_tuple_component}\")"
   ]
  },
  {
   "cell_type": "markdown",
   "metadata": {},
   "source": [
    "This will work on any Python sequence, like a string or a list.   You have to remember to provide just the right number of names on the left side.\n",
    "\n",
    "Suppose our tuple components contained numerator, denominator pairs.   An easy way to parse these out is to do the \"unpacking\" operation in the header of the **for** loop.   This lets you save a couple of steps and - much more importantly - make code transparent enough for anyone to understand.\n",
    "\n",
    "Here we take advantage of unpacking and the left-to-right operation of conditional statements to make a robust means of generating fractions."
   ]
  },
  {
   "cell_type": "code",
   "execution_count": null,
   "metadata": {},
   "outputs": [],
   "source": [
    "for numerator, denominator in ( (1, 0), (9, 3) ):\n",
    "    if denominator and numerator/denominator == 3:\n",
    "        print(\"yay! We have a {numerator/denominator}!\".format())"
   ]
  },
  {
   "cell_type": "markdown",
   "metadata": {},
   "source": [
    "The while Statement\n",
    "-------------------\n",
    "\n",
    "The **while** statement is also pretty straightforward:\n",
    "\n",
    "condition = <something>\n",
    "\n",
    "while <condition>:\n",
    "\n",
    "    <indented suite>\n",
    "\n",
    "else:\n",
    "\n",
    "    <indented suite>\n",
    "\n",
    "The indented suite will be executed top-to-bottom forever until it's asked to stop or the condition is no longer **True**. Here's a simple example using a condition to halt execution. Note that the \"sentinel condition\" and counter are defined outside and before the loop[26]."
   ]
  },
  {
   "cell_type": "code",
   "execution_count": null,
   "metadata": {},
   "outputs": [],
   "source": [
    "stop_me = False\n",
    "counter = 0\n",
    "while not stop_me:\n",
    "    print(f\"The counter is now: {counter}.\", end = '')\n",
    "    if counter > 2:\n",
    "        print(\" Yo. I'm done!\")\n",
    "        stop_me = True     \n",
    "    else:\n",
    "        print(\" I'm still trudging along.\")      \n",
    "        \n",
    "    counter = counter + 1 "
   ]
  },
  {
   "cell_type": "markdown",
   "metadata": {},
   "source": [
    "There are more elegant ways to proceed, however. A common idiom is to use the keyword **break** within the loop to terminate it immediately.  This can be combined with tautologically-true condition to streamline things. \n",
    "\n",
    "For instance, you could go:"
   ]
  },
  {
   "cell_type": "code",
   "execution_count": null,
   "metadata": {},
   "outputs": [],
   "source": [
    "counter = 0\n",
    "while True:\n",
    "    print(f\"The counter is now: {counter}.\", end = \"\")\n",
    "    if counter > 2:\n",
    "        print(\" Yo. I'm done!\")\n",
    "        break\n",
    "    else:\n",
    "        print(\" I'm still trudging along.\")\n",
    "        \n",
    "    counter += 1"
   ]
  },
  {
   "cell_type": "markdown",
   "metadata": {},
   "source": [
    "Not only is this simple to read, it doesn't require much in the way of resources to evaluate. This is not at issue with a simple application, but if your project involves millions of iterations e.g., a polling routine for a web server, efficiency becomes relevant.\n",
    "\n",
    "You probably noticed that the **else** clause did not execute. The reason is that its indented suite runs only if the **while** statement terminates due to the condition becoming **False**. The **break** keyword causes the code that would do this to be bypassed.\n",
    "\n",
    "The philotic twin of the **break** statement is **continue**. When **continue** is encountered, execution is immediately passed to the top of the loop where the condition is reevaluated.\n",
    "\n",
    "The **else** clause is completely optional. Since we're using **break**, we'll get rid of the extra baggage and show how **continue** might be applied. Note the use of the comparative operator == (returns a Boolean evaluation of whether the two values are the same) and the shortcut way to increment the counter with the += operator[27]."
   ]
  },
  {
   "cell_type": "code",
   "execution_count": null,
   "metadata": {},
   "outputs": [],
   "source": [
    "counter = 0\n",
    "while True:\n",
    "    if counter == 1:\n",
    "        print(\"One is the loneliest number that there ever was.\")\n",
    "        counter += 1\n",
    "        continue\n",
    "    print(\"The counter is now: {}.\".format(counter))\n",
    "    if counter:\n",
    "        break\n",
    "\n",
    "    counter += 1"
   ]
  },
  {
   "cell_type": "markdown",
   "metadata": {},
   "source": [
    "Inner and Outer Loops\n",
    "---------------------\n",
    "\n",
    "The final point I would make here is that **break** and **continue** work on both **for** and **while** loops. And both work only on the inner-most loop (the one they reside inside of). \n",
    "\n",
    "Here's an example of a program with both types of loops:\n"
   ]
  },
  {
   "cell_type": "code",
   "execution_count": null,
   "metadata": {},
   "outputs": [],
   "source": [
    "stop_me = False\n",
    "counter = 0\n",
    "for i in range(10):\n",
    "    if i%2: #odd numbers evaluate True:\n",
    "        while True:\n",
    "            if counter == 1:\n",
    "                print(\"One is the loneliest number that there ever was.\")\n",
    "                counter += 1\n",
    "                continue\n",
    "            print(f\"The counter is now: {counter } and i is now {i}.\")\n",
    "            if counter:\n",
    "                break #breaks out of the inner(while) loop\n",
    "\n",
    "            counter += 1\n",
    "    if i == 5:\n",
    "        print(\"I'm done - about to go on a break.\")\n",
    "        break #this breaks out of the outer (for) loop"
   ]
  },
  {
   "cell_type": "markdown",
   "metadata": {},
   "source": [
    "Some Useful Logical and Binary Operators\n",
    "----------------------------------------\n",
    "\n",
    "Python comes with a typical set of comparative operators. Here's a quick\n",
    "summary:\n",
    "\n",
    "|     | Equal to              |\n",
    "|:----|:----------------------|\n",
    "| !=  | Not equal             |\n",
    "| \\<  | Less than             |\n",
    "| \\>  | Greater than          |\n",
    "| \\<= | Less than or equal    |\n",
    "| \\>= | Greater than or equal |\n",
    "|<img width=150/>|<img width=150/>|\n",
    "\n",
    "There is also a set of bitwise operators. These operate on the 1s and 0s in a number represented in binary format. You can create a binary representation of a number in Python by using the keyword **bin**, something like:"
   ]
  },
  {
   "cell_type": "code",
   "execution_count": null,
   "metadata": {},
   "outputs": [],
   "source": [
    "bin(128)"
   ]
  },
  {
   "cell_type": "markdown",
   "metadata": {},
   "source": [
    "You can see that the result's first two characters are '0b', flagging it as a binary representation. You'll also note that the result is a string, which you can't do much with mathematically – you need to do operations <span class=\"underline\">before</span> it's converted.\n",
    "\n",
    "The operators for bitwise shifts are **\\>\\>** and **\\<\\<** and here's how you might apply them as you're creating the binary number. These are like changing the power of 10 to which you raise a base 10 number."
   ]
  },
  {
   "cell_type": "code",
   "execution_count": null,
   "metadata": {},
   "outputs": [],
   "source": [
    "mybin_1000 = bin(1000)\n",
    "fmt = \"{:30} {:30}\"\n",
    "print(\"Base 2 operations:\")\n",
    "print(fmt.format(\"mybin_1000: \", mybin_1000))\n",
    "print(fmt.format(\"mybin_1000 shifted left: \", bin(1000 << 3)))\n",
    "print(fmt.format(\"mybin_1000 shifted right: \", bin(1000 >> 5)))"
   ]
  },
  {
   "cell_type": "markdown",
   "metadata": {},
   "source": [
    "There are other operators you can use to \"mask\" a binary number with another. A common use is IP address masking when setting up subnets.  These are:\n",
    "\n",
    "|        |                                                                     |\n",
    "|--------|---------------------------------------------------------------------|\n",
    "| a & b  | Both 1 -\\> 1, otherwise -\\>0                                        |\n",
    "| a \\| b | Both 0 -\\> 0, otherwise -\\>1                                        |\n",
    "| \\~a    | \"flips\" each bit. 1 -\\> 0 and 0 -\\>1                                |\n",
    "| a ^ b  | if the bit in b is 0, use the bit in a; otherwise flip the bit in a |\n",
    "\n",
    "This is just an aside, but you can use the \"exclusive or\", a.k.a. XOR, implemented with the \"^\" operator, as a cheesy encryption tool. That's because sequential applications simply flip the results. The first application encrypts the original and the second application undoes the encryption."
   ]
  },
  {
   "cell_type": "markdown",
   "metadata": {},
   "source": [
    "## Exercise:\n",
    "\n",
    "\n",
    "Create a program that asks the user to guess a number between 1 and 100 (whole numbers only). If the guess is wrong, let the user know if the guess is too high or too low. If the guess is right, offer hearty congratulations and exit the program. If, after five attempts, the user can't get the number then offer deep condolences and invite him/her to try again. Be sure to check for valid input and remind the user if necessary.\n",
    "\n",
    "\n",
    "Hint: the random library has several handy pseudo-random number generator functions such as random.randrange(). You'll need to import random in order to use it. A good way to start might be:\n",
    "\n",
    "    import random\n",
    "\n",
    "    help(random)\n",
    "\n",
    "\n",
    "Also, you might consider putting in some sort of logical that will \"freeze\" both the random number and the user's guess while debugging. That gives you a stationary target."
   ]
  },
  {
   "cell_type": "markdown",
   "metadata": {},
   "source": [
    "Collections\n",
    "===========\n",
    "\n",
    "Next, we'll investigate several of the built-in Python **sequences.** Sequences are composite objects (that is they contain zero or more separate objects). Sequence objects are aware of their status as such and have built-in methods to take advantage of that fact. For instance, all sequences are **iterators** (they know how to loop over themselves), they know how long they are, and can be indexed."
   ]
  },
  {
   "cell_type": "markdown",
   "metadata": {},
   "source": [
    "Creating Sequences \n",
    "------------------\n",
    "\n",
    "In the code below, we will take a first-order look at several sequences, and how one might form them. Note that we can use data types such as **range** and **list** as methods to create new instances of said data types."
   ]
  },
  {
   "cell_type": "code",
   "execution_count": null,
   "metadata": {},
   "outputs": [],
   "source": [
    "the_string = \"strings are sequences with an encoding\"\n",
    "the_bytes = bytearray(the_string, encoding = 'UTF-8')\n",
    "the_range = range(10)\n",
    "the_list = list(range(10))\n",
    "the_tuple = tuple(range(10))\n",
    "print(\"String: \", the_string)\n",
    "print(\"Bytes: \", the_bytes)\n",
    "print(\"List: \", the_list)\n",
    "print(\"Tuple: \", the_tuple)"
   ]
  },
  {
   "cell_type": "markdown",
   "metadata": {},
   "source": [
    "Note that the bytearray's string representation is proceeded by a \"b\". That's just a visual indicator that the object is stored as bytes. Other annotations you might encounter include :\n",
    "u (Unicode, in Python 2.x) r (asks Python to interpret \\n \\t, and other format characters literally).\n",
    "\n",
    "As is the case with strings, it's possible to create several objects directly using the appropriate braces. This approach is called \"duck typing\" – from the interpreter's perspective, if it walks like a duck and quacks like a duck, it must be a duck. \n",
    "\n",
    "These all work:"
   ]
  },
  {
   "cell_type": "code",
   "execution_count": null,
   "metadata": {},
   "outputs": [],
   "source": [
    "another_list = [\"what's\", 'up', 'doc?']\n",
    "print('List')\n",
    "print(another_list)\n",
    "print(type(another_list))\n",
    "print()\n",
    "\n",
    "a_dict = {'a':'eh', 'b':'bee', 'c':'see'}\n",
    "print('Dictionary')\n",
    "print(a_dict)\n",
    "print(type(a_dict))\n",
    "print()\n",
    "      \n",
    "my_tuple = (1,3,4)\n",
    "print(\"Tuple\")\n",
    "print(my_tuple)\n",
    "print(type(my_tuple))"
   ]
  },
  {
   "cell_type": "markdown",
   "metadata": {},
   "source": [
    "Naturally, any of objects can be directly created with a constructor (using the object name as a verb). \n",
    "\n",
    "This can take the guess work out of the situation. Here's an example for the **set**[29] object:"
   ]
  },
  {
   "cell_type": "code",
   "execution_count": null,
   "metadata": {},
   "outputs": [],
   "source": [
    "favorite_set = set()\n",
    "type(favorite_set)\n",
    "print(f\"An empty set:  {favorite_set}\")   \n",
    "\n",
    "favorite_set.add(1)\n",
    "print(f\"A one-element set:  {favorite_set}\")"
   ]
  },
  {
   "cell_type": "markdown",
   "metadata": {},
   "source": [
    "Python is not strongly typed (at first, anyway).  Unlike many languages, Python does not enforce variable declaration and homogenous types within a collection structure. In fact, it's very cavalier about use and reuse of variable names[30]."
   ]
  },
  {
   "cell_type": "code",
   "execution_count": null,
   "metadata": {},
   "outputs": [],
   "source": [
    "reusable = \"green\"\n",
    "reusable = 1\n",
    "reusable = [\"some\", \"list\", \"of\", 4, \"elements\"]\n",
    "print(reusable)\n",
    "print()\n",
    "\n",
    "reusable = None\n",
    "reusable is None  # (How to check for a None type.)\n",
    "reusable          # (prints as 'None'.  In REPL, does not display anything.)\n",
    "print('-' * 10)\n"
   ]
  },
  {
   "cell_type": "markdown",
   "metadata": {},
   "source": [
    "Creating Index Values with enumerate\n",
    "------------------------------------\n",
    "\n",
    "Although you don't need to create index values for your loop, you can get some easily by using the built-in **enumerate** method.  It produces tuples of (index, object in iterable).\n",
    "\n",
    "Here's how you might apply it:"
   ]
  },
  {
   "cell_type": "code",
   "execution_count": null,
   "metadata": {},
   "outputs": [],
   "source": [
    "fruits = ('apple', 'banana', 'kiwi')\n",
    "for snack_and_index in enumerate(fruits):\n",
    "    print(snack_and_index)"
   ]
  },
  {
   "cell_type": "markdown",
   "metadata": {},
   "source": [
    "Here, we created a tuple of fruits. Within the **for** statement we applied **enumerate**. For each element of the tuple, **enumerate (**returned a **tuple** of (index, element\\_value) ).\n",
    "\n",
    "We can upgrade this a bit by applying some print formatting and by \"unpacking\" the **tuple** returned. \n",
    "\n",
    "Here's how might work:"
   ]
  },
  {
   "cell_type": "code",
   "execution_count": null,
   "metadata": {},
   "outputs": [],
   "source": [
    "fruits = (\"apple\", \"banana\", \"kiwi\")\n",
    "start_at = 1\n",
    "for index, snack in enumerate(fruits, start_at):\n",
    "    print(\"fruit #{} is a(n) {}\".format(index, snack))"
   ]
  },
  {
   "cell_type": "markdown",
   "metadata": {},
   "source": [
    "The names \"snack\" and \"index\" have been successively associated with values contained within the **tuples** provided by **enumerate**, and are available within the indented suite. You can see that the names are \"recycled\" at each iteration. We provided an optional argument \"start\\_at\" to select the first value of the index produced. If you don't provide the argument, the first index value will be zero."
   ]
  },
  {
   "cell_type": "markdown",
   "metadata": {},
   "source": [
    "Slices and Sequence Indexing\n",
    "----------------------------\n",
    "\n",
    "So far, we have looked at really small, manageable sequences where it's easy and cheap enough to iterate through all the elements. However, in real-life situations we're likely to encounter structures that contain millions of elements. If we have some *a priori* knowledge of where the element we're looking for lives, or if we want to apply something better than a brute-force search algorithm, we would want a more clever way to approach sequences.\n",
    "\n",
    "Fortunately, Python supports the ability to \"slice\" a sequence using index values.  Slicing and indexing prove to be very important when wrangling array-like objects such as those in Numpy and Pandas.\n",
    "\n",
    "For instance, you can go:"
   ]
  },
  {
   "cell_type": "code",
   "execution_count": null,
   "metadata": {},
   "outputs": [],
   "source": [
    "the_list = list(range(0,10))\n",
    "print(\"Everything:\", the_list)\n",
    "print()\n",
    "print(\"A slice:\", the_list[0:6:2])"
   ]
  },
  {
   "cell_type": "markdown",
   "metadata": {},
   "source": [
    "The general syntax is:\n",
    "\n",
    "\\<iterable\\>\\[ \\<start\\> : \\<stop\\> : \\<stride\\> \\]\n",
    "\n",
    "The start, stop, and stride parameters are all optional. Be default start is the first element of the sequence, stop is the last element, and stride is 1.\n",
    "\n",
    "In the simplest form, the entire sequence will be produced:"
   ]
  },
  {
   "cell_type": "code",
   "execution_count": null,
   "metadata": {},
   "outputs": [],
   "source": [
    "the_list[:] # [::] works the same"
   ]
  },
  {
   "cell_type": "markdown",
   "metadata": {},
   "source": [
    "Let's go back and look at the first slicing example. One might expect that the last element produced would be 6 – after all, isn't that what we requested with the stop parameter? Not so – the last element produced is the one <span class=\"underline\">before</span> the stop parameter … something to keep in mind to avoid surprises[31].\n",
    "\n",
    "Python also has a built-in **slice** object, which works just like the index specifications above. Note that it's applied with \\[square brackets\\], just like the hard-coded slice."
   ]
  },
  {
   "cell_type": "code",
   "execution_count": null,
   "metadata": {},
   "outputs": [],
   "source": [
    "slicer = slice(0,6,2)\n",
    "\n",
    "print(\"Slice object\")\n",
    "print(type(slicer))\n",
    "print()\n",
    "print(\"A slice:\", the_list[slicer])"
   ]
  },
  {
   "cell_type": "markdown",
   "metadata": {},
   "source": [
    "Using the **slice** object can make your code much easier to maintain because you don't have to fiddle with hard-coded index values. It can be especially useful if you're parsing data whose format is likely to change and over which you have little control (like text scraped from a web site).    \n",
    "\n",
    "A few **slice** objects at the top of your code could make adjustments / updates a snap. This being said, if its specification is too \"distant\" from where it's being applied your code could become less transparent for human consumers.\n",
    "\n",
    "The main difference between using a **slice** object and the hard-coded version is that all the parameters (start, stop, and stride) have to be supplied.  If you don't care to supply your own value, just use the **None** object as a placeholder and you'll get the default value.\n",
    "\n",
    "Here are a few additional examples of how you might use slices:"
   ]
  },
  {
   "cell_type": "code",
   "execution_count": null,
   "metadata": {},
   "outputs": [],
   "source": [
    "the_string = \"strings are sequences with an encoding\"\n",
    "the_list = list(range(0,10))\n",
    "the_slice = slice(3, 10) # positions 3...9 inclusive\n",
    "\n",
    "print(\"Slice : \", the_slice, \"\\n\")\n",
    "print(\"Slice a list: \", the_list[3:10], \"\\n\") # typical\n",
    "print(\"Alt. syntax : \", the_list.__getitem__(the_slice), \"\\n\") # more verbose\n",
    "\n",
    "print(\"The whole string: \",the_string[:]) # all\n",
    "print(\"Slice a string: \", the_string[3:10])\n",
    "print(\"Skipping: \",the_string[::2], \"\\n\") # step by 2\n",
    "\n",
    "new_list = the_list[:] # same as the_list.copy()\n",
    "print(\"A clean copy, as a new object:\", new_list)"
   ]
  },
  {
   "cell_type": "markdown",
   "metadata": {},
   "source": [
    "Dictionaries in Python\n",
    "----------------------\n",
    "\n",
    "Python supports dictionary objects, known to some languages as \"hash tables\" or \"hash mappings.\" The basic object, **dict**, is built into the language and variants of it, such as the **OrderedDict** are available in the **collections** library[32].\n",
    "\n"
   ]
  },
  {
   "cell_type": "markdown",
   "metadata": {},
   "source": [
    "Basics\n",
    "------\n",
    "\n",
    "A **dict** object is another form of a collection – it has some important differences from sequence objects like the **list** and string. Among these:\n",
    "\n",
    "-   Since it's a hash[33] (optimized for efficiency) the elements are\n",
    "    not in any guaranteed order. In other words, the act of adding an\n",
    "    element can change the order of the others.\n",
    "\n",
    "-   Operations like slicing, indexing, etc. are not available because\n",
    "    they're dependent on the ordering of the elements.\n",
    "\n",
    "The **dict** is essentially a one-way lookup table. Given a unique key, one can efficiently find its associated value. However, since values are not necessarily unique you can't go the other way (you can't use a value to look up a key).\n",
    "\n",
    "Here's some basic usage:"
   ]
  },
  {
   "cell_type": "code",
   "execution_count": null,
   "metadata": {},
   "outputs": [],
   "source": [
    "# Alternative syntax for creation\n",
    "the_dict = {\"key\":\"value\", \"A\":2, \"B\":3}\n",
    "same_dict = dict(key = \"value\", A = 2, B = 3)\n",
    "\n",
    "print (\"The dict:\", the_dict, '\\n')\n",
    "print(\"Are the dicts the same?\", the_dict == same_dict, '\\n')\n",
    "\n",
    "# One way to add a key:value pair \n",
    "the_dict['C'] = 3\n",
    "print(\"We added a new key:value pair: \", the_dict, '\\n')\n",
    "\n",
    "# One way to extract a value if you know the key is good.\n",
    "my_value = the_dict['C']\n",
    "print(f\"The value associated with 'C' is: {my_value} \\n\")\n",
    "\n",
    "# One way to extract a value if the key is sketchy.\n",
    "my_value = the_dict.get('D', \"some default value\")\n",
    "print(\".. and yet again:\", the_dict)\n",
    "print()\n",
    "print(\"The value I got with a bad key is: '{}'.\".format(my_value))"
   ]
  },
  {
   "cell_type": "markdown",
   "metadata": {},
   "source": [
    "Using get\n",
    "---------\n",
    "\n",
    " While it's completely OK to call a value out by name, if that value does not exist a **KeyError** exception will occur. The **get** method allows you to provide some default value in this case (or if you don't, a valid **None** object will be returned). \n",
    " \n",
    " Here's a quick example:\n"
   ]
  },
  {
   "cell_type": "code",
   "execution_count": null,
   "metadata": {},
   "outputs": [],
   "source": [
    "plant_dict = {'raspberry': 'rubus',\n",
    "              'elm': 'ulmus',\n",
    "              'maple': 'acer'\n",
    "              }\n",
    "\n",
    "# create a format string\n",
    "fmt_str = \"The {} is more properly called a {}.\\n\"\n",
    "\n",
    "# get with no argument\n",
    "look_for = 'raspberry'\n",
    "found = plant_dict.get(look_for)\n",
    "print(fmt_str.format(look_for, found))\n",
    "\n",
    "# get with a default value\n",
    "look_for = 'alder'\n",
    "default = 'SOMETHING. I dunno'\n",
    "found = plant_dict.get(look_for, default)\n",
    "print(fmt_str.format(look_for, found))\n",
    "\n",
    "# get with default None\n",
    "look_for = 'sumak'\n",
    "default = None\n",
    "found = plant_dict.get(look_for, default)\n",
    "if found:\n",
    "    print(fmt_str.format(look_for, found))\n",
    "else:\n",
    "    print(f\"Dude, I'm looking for {look_for}, but I give up ;-)\")"
   ]
  },
  {
   "cell_type": "markdown",
   "metadata": {},
   "source": [
    "Keys are Immutable\n",
    "------------------\n",
    "\n",
    "The keys of a **dict** need to be unique and hashable. As a result, one of the requirements of a key is that be immutable[34]. To determine whether a proposed key is hashable, \"under the hood\" the interpreter looks for the **\\_\\_hash\\_\\_** \"magic method\", and uses the hash thus produced for internal bookkeeping. \n",
    "\n",
    "If there's no **\\_\\_hash\\_\\_** method, the proposed key won't qualify. As long as the key meets these requirements, it can be just about anything, though strings and integers are most commonly used."
   ]
  },
  {
   "cell_type": "markdown",
   "metadata": {},
   "source": [
    "Useful Dictionary Methods\n",
    "-------------------------\n",
    "\n",
    "Here's a little more code you can use to \"kick the tires\" on the **dict** object. Note the use of the **update** method of the **dict** object and the top-level **del**[35] method."
   ]
  },
  {
   "cell_type": "code",
   "execution_count": null,
   "metadata": {},
   "outputs": [],
   "source": [
    "mydict = {}\n",
    "mydict['team'] = 'Cubs'\n",
    "\n",
    "# Another way to add elements us via update.  For input, just about any iterable t\n",
    "#    that's comprised of 2-element iterables will work.\n",
    "mydict.update([('town', 'Chicago'), ('rival', 'Cards')])\n",
    "print(f\"The dict is now:  {mydict}.\\n\")\n",
    "\n",
    "# we can print it out using the items method (it returns a tuple)\n",
    "for key, value in mydict.items():\n",
    "    print(\"The key is {} and value is {}.\".format(key, value))\n",
    "    \n",
    "\n",
    "# and evaluates left to right; this protects from crashes if no 'rival'\n",
    "print(\"Let's get rid of a rival \\n\")\n",
    "if \"rival\" in mydict and mydict['rival'] == 'Cards':\n",
    "    del(mydict['rival'])   #top-level method\n",
    "\n",
    "print(\"By the grace of a top-level function, the Cards are gone.\\n\")\n",
    "print(f\"The dict is now:  {mydict}\")"
   ]
  },
  {
   "cell_type": "markdown",
   "metadata": {},
   "source": [
    "You can extract the keys and values by the cleverly-named **keys** and **values** methods. These return iterable objects containing the appropriate values.\n",
    "\n",
    "You will notice from the representations of the keys and values that they are their own special objects.  We can easily type-cast them to more usable objects using the constructor for a collection."
   ]
  },
  {
   "cell_type": "code",
   "execution_count": null,
   "metadata": {},
   "outputs": [],
   "source": [
    "the_dict = {\"key\":\"value\", \"A\":2, \"B\":3}\n",
    "\n",
    "keys = the_dict.keys()\n",
    "print(f\"Keys: {keys}\")\n",
    "\n",
    "vals = the_dict.values()\n",
    "print(f\"Values: {vals}\\n\")\n",
    "\n",
    "print(f\"Values as a list object: {list(vals)}\")"
   ]
  },
  {
   "cell_type": "markdown",
   "metadata": {},
   "source": [
    "Another way to remove elements from a **dict** is to use its **pop** and **popitem** methods. These not only remove elements, but return the element removed. \n",
    "\n",
    "Here's how you might employ these methods:"
   ]
  },
  {
   "cell_type": "code",
   "execution_count": null,
   "metadata": {},
   "outputs": [],
   "source": [
    "my_dict = {'team': \"Cubs\", \"town\": \"Chicago\", \"rival\": \"Cards\"}\n",
    "print(\"dict is: {}\\n\".format(my_dict))\n",
    "\n",
    "\n",
    "# Use popitem to get some (unknown) item (crashes if empty dict).\n",
    "if my_dict:\n",
    "    key, value = my_dict.popitem()\n",
    "    print(f\"We've removed: {value}.\\n\")\n",
    "    print(f\"The dict is now: {my_dict}.\\n\")\n",
    "\n",
    "# With pop we can pick a key and use a default, just in case.\n",
    "default = None\n",
    "looking_for = 'bad key'\n",
    "key_value_tuple = my_dict.pop(looking_for, default)\n",
    "if key_value_tuple:\n",
    "    print(\"{} is {}\\n.\".format(looking_for, key_value_tuple))\n",
    "else:\n",
    "    print(\"Sorry, no '{}'' here.\".format(looking_for))"
   ]
  },
  {
   "cell_type": "markdown",
   "metadata": {},
   "source": [
    "Sorting a Dictionary\n",
    "--------------------\n",
    "A word about dict sequencing.   It's important to note that most 'flavors' of Python have been using an ordered version of dict objects since Version 3.6.   That is the key:value pairs are stored in the order loaded into the dict.   Earlier versions allowed the key:value pairs to shift positions in the interest of efficiency.   If you need your code to run on older versions of Python, you'll want to choose a collections.OrderedDict object instead of the normal dict object.\n",
    "\n",
    "\n",
    "Occasionally, you'll want to sort the contents of a **dict** by keys. This is a snap because they're guaranteed to be unique and have a natural \"sort order.\"  We can accomplish sorting by keys succinctly by applying the top-level **sorted** method (this is not part of the list object).\n",
    "\n",
    "You'll note that the we have chained operations together in the example below.  This is extremely common in Python and is considered a sign of elegant parsimony.   Python begins by solving the inner-most bit of a nested expression then feeds the result to the next-inner-most bit ... and so on.\n",
    "\n",
    "It can be horrible for the new user, so we'll do it one step at a time first:"
   ]
  },
  {
   "cell_type": "code",
   "execution_count": null,
   "metadata": {},
   "outputs": [],
   "source": [
    "# The long way:\n",
    "my_dict = {'team': \"Cubs\", \"town\": \"Chicago\", \"rival\": \"Cards\"}\n",
    "keys = my_dict.keys()                           # the dict_key object\n",
    "list_of_keys = list(keys)                       # a list version\n",
    "sorted_list_of_keys = sorted(list_of_keys)    # a sorted version of the list\n",
    "print(sorted_list_of_keys)"
   ]
  },
  {
   "cell_type": "code",
   "execution_count": null,
   "metadata": {},
   "outputs": [],
   "source": [
    "# The 'Pythonic' way:\n",
    "print(sorted(list(my_dict.keys())))"
   ]
  },
  {
   "cell_type": "markdown",
   "metadata": {},
   "source": [
    "Sorting by values is a little tougher, but here's how you can do it. You need to provide a short routine that returns a value if you give it a key. If you provide it to the **list** object's **sort** method[36], it will use the routine to guide its efforts. We'll get into functions more later. For now, know that the general form is:\n",
    "\n",
    "<function\\_name>():\n",
    "\n",
    "    <indented suite>\n",
    "\n",
    "It can take zero or more arguments and optionally return an object of your choice.\n",
    "\n",
    "The **sort** command by default will sort the elements \"naturally\" – alphabetically if strings and numerically otherwise. You can influence that behavior by giving it something else besides the **list** elements to sort \"naturally\". It could be anything – a random number, word count, the last letter of a word, etc. Things will be sorted by whatever is returned by the sorter routine you write.\n",
    "\n",
    "This is what a \"null sorter\" would look like (it returns exactly what we passed it):"
   ]
  },
  {
   "cell_type": "code",
   "execution_count": null,
   "metadata": {},
   "outputs": [],
   "source": [
    "def sorter(key):\n",
    "    \"simply returns what's provided i.e., contributes nothing\"\n",
    "    return key"
   ]
  },
  {
   "cell_type": "markdown",
   "metadata": {},
   "source": [
    "We can invoke a list object's sort() method to sort the elements of the list.   Behind the scenes, it uses the null sorter to get the job done.    In other words, it uses the natural sort order of the stuff in the list.\n",
    "\n",
    "You can roll your own sorter, if you want.   When you do, Python essentially feeds each element of the list into the routine you provide.  \n",
    "\n",
    "Here's how it works: whatever is returned by the routine gets 'paired up' with each element.  The returned values are things that get sorted - not the original list contents.   When the sort is completed, the returned values go away leaving the list elements in the proper order.\n",
    "\n",
    "Here's an example:"
   ]
  },
  {
   "cell_type": "code",
   "execution_count": null,
   "metadata": {},
   "outputs": [],
   "source": [
    "def sorter(key):\n",
    "    \"Creates a sort using the value associated with a dict key\"\n",
    "    return my_dict[key]\n",
    "\n",
    "my_dict = {'team': \"Cubs\", \"town\": \"Chicago\", \"rival\": \"Cards\"}\n",
    "key_list = list(my_dict.keys())\n",
    "key_list.sort(key = sorter)\n",
    "\n",
    "for key in key_list:\n",
    "    print(key, my_dict[key])\n"
   ]
  },
  {
   "cell_type": "markdown",
   "metadata": {},
   "source": [
    "Miscellaneous Notes on dict Objects\n",
    "-----------------------------------\n",
    "\n",
    "Many Python applications, such as Pandas, build user-friendly array indices using objects built on dict-like objects.   Essentially, one can specify row and column names in human terms.  The human terms get mapped to pointers and other computer-friendly objects.   In this way dict-like objects form a cognitive bridge between the human and computer worlds.\n",
    "\n",
    "You can use dictionaries to hold elements of sparse arrays by using **tuple**s as keys. Let's say you wanted to model movements of goldfish in a tank. You could account for each cubic centimeter of water and monitor each fish passage in and out – you might use a dense 3-D array for that. Perhaps more efficiently, you could monitor the fish themselves by providing a three-**tuple** to represent the current location of each. \n",
    "\n",
    "This **dict** uses **tuples** for keys:"
   ]
  },
  {
   "cell_type": "code",
   "execution_count": null,
   "metadata": {},
   "outputs": [],
   "source": [
    "array_dict = {(0, 0, 0): 12, (2, 4, 98): 23}\n",
    "array_dict[(2, 4, 98)]"
   ]
  },
  {
   "cell_type": "markdown",
   "metadata": {},
   "source": [
    "Keys can be heterogeneous, as can the values. This is a valid **dict**:"
   ]
  },
  {
   "cell_type": "code",
   "execution_count": null,
   "metadata": {},
   "outputs": [],
   "source": [
    "hetero_dict = {'a': 1, (1,3,4): \"x\"}\n",
    "hetero_dict"
   ]
  },
  {
   "cell_type": "markdown",
   "metadata": {},
   "source": [
    "If a **dict** has a key named \"a\", and you provide a new element who's key is 'a', the original will be replaced.\n"
   ]
  },
  {
   "cell_type": "code",
   "execution_count": null,
   "metadata": {},
   "outputs": [],
   "source": [
    "new_dict = dict( ( ('a', 3), ('b', 88) ) )\n",
    "print(\"Original:\", new_dict)\n",
    "\n",
    "new_dict['a'] = \"Godzilla!\"\n",
    "print(\"Updated:\",new_dict)"
   ]
  },
  {
   "cell_type": "markdown",
   "metadata": {},
   "source": [
    "Python has an object that will automatically provide a new entry with a default value if someone tries a nonexistent key.  \n",
    "The default dict takes some sort of a \"callable\" object - that's something like a function or method usually, but can be anything that can be accessed like a function.\n",
    "\n",
    "Here's an example:"
   ]
  },
  {
   "cell_type": "code",
   "execution_count": 46,
   "metadata": {
    "scrolled": true
   },
   "outputs": [
    {
     "name": "stdout",
     "output_type": "stream",
     "text": [
      "original:  defaultdict(<class 'int'>, {})\n",
      "\n",
      "The query returned: 0\n",
      "The dict is now:  \n",
      "defaultdict(<class 'int'>, {'aardvark': 0})\n",
      "\n"
     ]
    }
   ],
   "source": [
    "from collections import defaultdict\n",
    "\n",
    "# Create a defaultdict and print it\n",
    "dd = defaultdict(int)  # when int is called, it returns 0\n",
    "print(f\"original:  {dd}\\n\")\n",
    "\n",
    "# Add something to it\n",
    "futile_query = dd['aardvark'] \n",
    "\n",
    "print(f\"The query returned: {futile_query}\\n\")\n",
    "print(f\"The dict is now:  \\n{dd}\\n\")"
   ]
  },
  {
   "cell_type": "markdown",
   "metadata": {},
   "source": [
    "As you can see the default dict now has a single entry with the default value of 0.\n",
    "\n",
    "    {'aardvark': 0})"
   ]
  },
  {
   "cell_type": "code",
   "execution_count": 78,
   "metadata": {},
   "outputs": [
    {
     "name": "stdout",
     "output_type": "stream",
     "text": [
      "original:  defaultdict(<class 'int'>, {})\n",
      "\n",
      "Word counts:\n",
      "dog             5              \n",
      "cat             2              \n",
      "zebra           1              \n"
     ]
    }
   ],
   "source": [
    "# Here's a low-budget word counter.  Keys are the words, values increment count for repeats.\n",
    "\n",
    "# Create a defaultdict and print it\n",
    "dd = defaultdict(int)  # when int is called, it returns 0\n",
    "print(f\"original:  {dd}\\n\")\n",
    "\n",
    "for animal in ('dog', 'cat', 'dog', 'zebra', 'dog', 'dog', 'dog', 'cat'):\n",
    "    dd[animal] += 1\n",
    "\n",
    "print(f\"Word counts:\")   \n",
    "for k, v in dd.items():\n",
    "    print(f\"{k:<15} {v:<15}\")\n"
   ]
  },
  {
   "cell_type": "code",
   "execution_count": 77,
   "metadata": {},
   "outputs": [
    {
     "name": "stdout",
     "output_type": "stream",
     "text": [
      "key: dog, value: hey! : the time is 23 14 14 017737   \n",
      "key: cat, value: hey! : the time is 23 14 14 017737   \n",
      "key: dog, value: hey! : the time is 23 14 14 017737   \n",
      "key: zebra, value: hey! : the time is 23 14 14 017737   \n",
      "\n",
      "keys:\n",
      "dict_keys(['dog', 'cat', 'zebra'])\n",
      "\n"
     ]
    }
   ],
   "source": [
    "from datetime import datetime\n",
    "import time\n",
    "\n",
    "# You can \"roll your own\" callable.  This provides a time stamp.\n",
    "\n",
    "\n",
    "def callable_constant_factory(value_if_missing):\n",
    "    # This lambda (anonymous function) returns what to use for a devault value\n",
    "    timestamp = f\"the time is {datetime.now().strftime('%M %H %S %f')}\"\n",
    "    return lambda: f\"{value_if_missing:<5}: {timestamp:<30}\"  # lambda: time.time()\n",
    "\n",
    "\n",
    "# Loads the callable up with the value we want (can be anything)\n",
    "dd = defaultdict(callable_constant_factory(\"hey!\"))\n",
    "\n",
    "# A simple lambda would also work\n",
    "#dd = defaultdict(lambda: \"hey!\")\n",
    "\n",
    "for animal in ('dog', 'cat', 'dog', 'zebra'):\n",
    "    print(\"key: {}, value: {}\".format(animal, dd[animal]))\n",
    "    time.sleep(.01)\n",
    "\n",
    "print(\"\\nkeys:\\n{}\".format(dd.keys()))\n",
    "print()"
   ]
  },
  {
   "cell_type": "code",
   "execution_count": 59,
   "metadata": {},
   "outputs": [
    {
     "data": {
      "text/plain": [
       "5"
      ]
     },
     "execution_count": 59,
     "metadata": {},
     "output_type": "execute_result"
    }
   ],
   "source": [
    "y = lambda x: x+1 \n",
    "y(4)\n",
    "\n"
   ]
  },
  {
   "cell_type": "markdown",
   "metadata": {},
   "source": [
    "## Memory Considerations\n",
    "Adding elements one at a time can be expensive, especially as the **dict** grows. That's because the entire object needs to be copied to a new patch of memory if it grows past its allocated space. It's more efficient to use an *en masse* operation like **update**."
   ]
  },
  {
   "cell_type": "markdown",
   "metadata": {},
   "source": [
    "The set Object and List Comprehension\n",
    "-------------------------------------\n",
    "\n",
    "The **set** object is a mighty useful arrow in your quiver. A **set** is essentially a collection of unique objects. The **set** is another hash object, making retrieval of objects very efficient, even when the **set** is large.\n",
    "\n",
    "The fact that a **set** contains only unique objects makes it great for an automatic de-duplicator. If you try to add an object that already exists, the attempted addition fails silently. \n",
    "\n",
    "Here's a common idiom to de-dup a **list**:"
   ]
  },
  {
   "cell_type": "code",
   "execution_count": null,
   "metadata": {},
   "outputs": [],
   "source": [
    "set([1,1,2,2,2,3,3,4,5])"
   ]
  },
  {
   "cell_type": "markdown",
   "metadata": {},
   "source": [
    "Here's a slightly more complicated example, this one using a \"list\n",
    "comprehension\" to create a set of random numbers using the random\n",
    "library.    Here it is, quickly.  \n",
    "\n",
    "Yes, it's horrible the first time you see it (very Pythonic), but we'll explain."
   ]
  },
  {
   "cell_type": "code",
   "execution_count": null,
   "metadata": {},
   "outputs": [],
   "source": [
    "import random\n",
    "values = 1000\n",
    "dedup = set([int(1000*random.random()) for i in range(values)])\n",
    "print(\"we found {} unique values!\".format(len(dedup)))"
   ]
  },
  {
   "cell_type": "code",
   "execution_count": null,
   "metadata": {},
   "outputs": [],
   "source": [
    "# The long way, using the list append() method."
   ]
  },
  {
   "cell_type": "code",
   "execution_count": null,
   "metadata": {},
   "outputs": [],
   "source": [
    "random_list = []\n",
    "for i in range(values):\n",
    "    rand_num = random.random()\n",
    "    rand_int = int(rand_num * 1000)\n",
    "    random_list.append(rand_int)\n",
    "dedup = set(random_list)"
   ]
  },
  {
   "cell_type": "markdown",
   "metadata": {},
   "source": [
    "**Sets** have built-in methods for efficiently finding unions and intersections. A union is a **set** of every unique element from both sets combined. An intersection is a **set** of the elements found in both. This code serves to illustrate how you might apply them using the \"**&**\" and \"**\\|**\" operators:"
   ]
  },
  {
   "cell_type": "code",
   "execution_count": null,
   "metadata": {},
   "outputs": [],
   "source": [
    "the_set = {\"monkey\", \"gorilla\", \"dog\", \"cat\"}\n",
    "print(\"Set: \", the_set)\n",
    "the_set.add(\"parrot\")\n",
    "print(\"Set: \", the_set)\n",
    "other_set = {\"gorilla\", \"elephant\", \"pig\", \"chicken\"}\n",
    "print(\"Set intersection:\", the_set & other_set)\n",
    "print(\"Set union:\", the_set | other_set)"
   ]
  },
  {
   "cell_type": "markdown",
   "metadata": {},
   "source": [
    "Note that although this example uses the \"\\|\" and \"&\" operators with two **set** objects, there's no limit to the number of objects in play. If a, b, and c are all **sets**, you can go a&b&c or a\\|b\\|c."
   ]
  },
  {
   "cell_type": "markdown",
   "metadata": {},
   "source": [
    "Named Tuples\n",
    "------------\n",
    "\n",
    "**The namedtuple** object is something of a hybrid between a **tuple** and a **dict**. Each **namedtuple** can be instantiated into your current namespace as a 'normal' **tuple**, but the wrinkle is that you can provide each element an alias (nickname) so you can refer to it easily. It's not part of basic Python so you need to **import** it from the collections library.\n",
    "\n",
    "Here's some code to play with which shows the basic functionality. Note that you can address these objects like dictionaries, but can also use them as **tuples**."
   ]
  },
  {
   "cell_type": "code",
   "execution_count": null,
   "metadata": {},
   "outputs": [],
   "source": [
    "\"\"\"An introduction to the namedtuple object\"\"\"\n",
    "from collections import namedtuple\n",
    "\n",
    "#make a tuple with the tag 'Animal'\n",
    "Animal = namedtuple('Animal', ('species', 'name'))\n",
    "\n",
    "#specify this animal by providing the species and name\n",
    "a1 = Animal('gorilla', 'magilla')\n",
    "print(a1)\n",
    "\n",
    "#... and specify another\n",
    "a2 = Animal(species = 'gorilla', name = 'fred')\n",
    "print(a2)\n",
    "\n",
    "#we can call out the specifics using dot notation\n",
    "print(a1.name, a2.name)\n",
    "\n",
    "#... or, split the tuple containing the first animal\n",
    "myspecies, myname = a1\n",
    "print(myspecies, myname)"
   ]
  },
  {
   "cell_type": "markdown",
   "metadata": {},
   "source": [
    "Getting Fancier with the namedtuple Object\n",
    "------------------------------------------\n",
    "\n",
    "Here's a slightly more complicated example – something you might use if you were developing a chess game in Python. We won't elaborate this to completion – but it may be interesting practice. If you do the upgrade, you might look into using Unicode to represent your chess pieces[38] (Python 3 is Unicode-compliant[39]).\n",
    "\n",
    "This code develops a two-dimensional grid using a **list** of **namedtuple** objects. This is a simple way to whistle up a 2-d array-like structure using only basic Python tools.\n",
    "\n",
    "You can see that each of the **namedtuple** objects carries with several properties, nicely bundled, and transparently addressed. In this sense, the objects we're creating here are a bit like the build-in Python objects – they're already endowed with \"out of the box\" capabilities.\n"
   ]
  },
  {
   "cell_type": "code",
   "execution_count": null,
   "metadata": {},
   "outputs": [],
   "source": [
    "from collections import namedtuple\n",
    "\n",
    "Piece = namedtuple('Piece', 'type color position symbol')\n",
    "\n",
    "# a list of lists is a really useful data structure\n",
    "grid = []\n",
    "for r in range(8):\n",
    "    grid.append([None, None, None, None, None, None, None, None])\n",
    "\n",
    "grid[7] = [\n",
    "            Piece(\"Rook\", \"black\", [7, 0], \"R\"),\n",
    "            Piece(\"Knight\", \"black\", [7, 1], \"K\"),\n",
    "            Piece(\"Bishop\", \"black\", [7, 2], \"B\"),\n",
    "            Piece(\"Queen\", \"black\", [7, 3], \"Q\"),\n",
    "            Piece(\"King\", \"black\", [7, 4], \"K\"),\n",
    "            Piece(\"Bishop\", \"black\", [7, 5], \"B\"),\n",
    "            Piece(\"Knight\", \"black\", [7, 6], \"K\"),\n",
    "            Piece(\"Rook\", \"black\", [7, 7], \"R\")\n",
    "            ]\n",
    "\n",
    "grid[6] = []\n",
    "for c in range(8):\n",
    "    p = Piece(\"Pawn\", \"black\", [6, c], \"P\")\n",
    "    grid[6].append(Piece(\"Pawn\", \"black\", [6, c], \"P\"))\n",
    "    \n",
    "for p in grid[7]:\n",
    "    print(p.symbol, end=\"\")\n",
    "print()    \n",
    "for p in grid[6]:\n",
    "    print(p.symbol, end=\"\")"
   ]
  },
  {
   "cell_type": "markdown",
   "metadata": {},
   "source": [
    "Copying Sequences\n",
    "-----------------\n",
    "\n",
    "In Python, it's possible to have multiple names associated with the same object. This can be really handy but the convenience comes with a cost: the only way to tell for sure is with the object's **id**. \n",
    "\n",
    "Here are a couple trivial examples that show the potential pitfalls:"
   ]
  },
  {
   "cell_type": "code",
   "execution_count": null,
   "metadata": {},
   "outputs": [],
   "source": [
    "one = 1\n",
    "one_prime = 1\n",
    "print(\"one:\", id(one), \"one_prime\", id(one_prime))\n",
    "\n",
    "if id(one) == id(one_prime):\n",
    "    print( \"Same object.\")\n",
    "else:\n",
    "    print(\"Different objects.\")\n"
   ]
  },
  {
   "cell_type": "markdown",
   "metadata": {},
   "source": [
    "You run into this with collections, too. This code will demonstrate:"
   ]
  },
  {
   "cell_type": "code",
   "execution_count": null,
   "metadata": {},
   "outputs": [],
   "source": [
    "def test_lists(first, second):\n",
    "    test_result = first == second\n",
    "    print(\"same list, right? {}.\".format(test_result))\n",
    "\n",
    "    if test_result == False:\n",
    "        print(\"first id is {} second id is {}.\"\\\n",
    "        .format(id(first), id(second)))\n",
    "\n",
    "print('Make a list, then create a copy')\n",
    "a_list = [\"Tony\", \"Sally\", \"George\"]\n",
    "b_list = a_list\n",
    "print(a_list, b_list)\n",
    "test_lists(a_list, b_list)\n",
    "\n",
    "#update the first list, but not the second.\n",
    "print(\"\\nAdd someone to the a_list, leaving the b_list alone\")\n",
    "a_list.append(\"Sam\")\n",
    "test_lists(a_list, b_list)\n",
    "\n",
    "print(\"\\nUh, what happened here?\")"
   ]
  },
  {
   "cell_type": "markdown",
   "metadata": {},
   "source": [
    "\"What happened here\" is that we have simply assigned two names to the same object (they have the same **id**).  Then we used one of the names to access, and change, the original object.\n",
    "\n",
    "Having multiple names for the same object is not too weird when you think about it.   The president is called \"the President\", \"POTUS\", \"Commander-in-Chief\" ... then you can read political columns to get even more names :-)   \n",
    "\n",
    "The point is that there can be many synonyms - \"aliases\" or \"names\" for any object because any of them are unique keys tied to the same dict object (that's just how Python keeps track of its namespaces) \n",
    "\n",
    "To get around this, you need to make a \"deep\" (true) copy. Here are some ways to do it:"
   ]
  },
  {
   "cell_type": "code",
   "execution_count": null,
   "metadata": {},
   "outputs": [],
   "source": [
    "new = old[:] #forces the list to iterate over itself\n",
    "new = list(old) #list constructor creates new object\n",
    "new = old.copy() #uses the list object's copy method"
   ]
  },
  {
   "cell_type": "markdown",
   "metadata": {},
   "source": [
    "One place this comes up in data science is working with slices of data structures.   Slices are really just aliases to part of an original object, much like a \"view\" into a database table provides access to part of that table.   When working with Numpy and Pandas, a very common way to hack into the relevant data involves creating a slice then manipulating it.  Numpy won't give you a warning, but Pandas will.  Unless you're really sure what you're doing, you will want to pay close attention and avoid the temptation to ignore or disable the warnings."
   ]
  },
  {
   "cell_type": "markdown",
   "metadata": {},
   "source": [
    "## Exercise:\n",
    "I just hired a new admin and it's not working out so well. I asked her to organize my Cubs player database. It turned out to be a disaster. After she quit, I found two versions of the database. Can you help? \n",
    "\n",
    "One version of the database (stored as a dict) uses the players' weights as the key. \n",
    "\n",
    "I'll spare the details, but it looks like this:"
   ]
  },
  {
   "cell_type": "code",
   "execution_count": null,
   "metadata": {},
   "outputs": [],
   "source": [
    "players = { 185:('Tyler', 'Chatwood'),\n",
    "            219:('Luke', 'Farrell'),\n",
    "            190:('Kyle', 'Hendricks')\n",
    "          }"
   ]
  },
  {
   "cell_type": "markdown",
   "metadata": {},
   "source": [
    "Can you find a way, working only with code and this dictionary, to produce a nicely formatted table that's sorted by the players' last name?\n",
    "The other version was only a little better and organized by last name – sort of. There were lots of duplications caused by bad typing. \n",
    "\n",
    "Here's a bit of it:"
   ]
  },
  {
   "cell_type": "code",
   "execution_count": null,
   "metadata": {},
   "outputs": [],
   "source": [
    "players = { 'Hendricks': ('Kyle', 225),\n",
    "            'HeNDricks': ('Kyle', 225),\n",
    "            'Hendrix': ('Kyle', 225) \n",
    "          }"
   ]
  },
  {
   "cell_type": "markdown",
   "metadata": {},
   "source": [
    "Can you find a way to clean this version up working with the set object?\n",
    "\n",
    "It's beyond the scope of this class, but just for fun you might look at the code in py_fuzzy_lookup.py. For ways to further refine. It demonstrates a tool that will let you find and score \"fuzzy\" (inexact) matches."
   ]
  },
  {
   "cell_type": "markdown",
   "metadata": {},
   "source": [
    "Functions\n",
    "=========\n",
    "\n",
    "Functions are just bits of code that encapsulate – you guessed it – functionality. We'll explore them in some depth in this chapter.\n",
    "\n",
    "You've already used several of them like **print**, **input**, and **bin**. You've used them with commands like **list.sort** – though, technically when contained within classes, they're called \"methods\". And we've just written a small function to sort **dict** objects by value.  You're already a getting to be a pro. You'll become more so by rolling a few of your own."
   ]
  },
  {
   "cell_type": "markdown",
   "metadata": {},
   "source": [
    "Scope of Names In a Module\n",
    "--------------------------\n",
    "\n",
    "Here are a couple example functions that each take a single, positional parameter. The first is pretty straightforward, and the second introduces the **global** keyword.\n",
    "\n",
    "In Python (and all languages) there's a notion of \"scope\" – that's the part of the code where a variable is visible. Indentation levels are a good gauge of scope within a module. The objects defined in the first column (setStar function and the variables STAR, Favorites and X) are visible throughout the module and are called \"globals\"[40]. Variables tucked away within a function e.g., title\\_length in section are visible only within that function, normally. These are called \"locals\"[41].\n",
    "\n",
    "If you want to enhance the visibility of the variable and make it global to the module, you can employ the **global** keyword, as is done in SetStar for the variable STAR. Once you do that, you facilitate \"two way communication\" with that STAR object and allow the function to alter the value . If you don't do that, the function can only alter the \"local copy\" of STAR[42]."
   ]
  },
  {
   "cell_type": "code",
   "execution_count": null,
   "metadata": {},
   "outputs": [],
   "source": [
    "# Globals namespace\n",
    "STAR = \"Sirius\" # Polaris\n",
    "Favorites = [ ]\n",
    "X = 100\n",
    "\n",
    "def setStar(name): \n",
    "    \"\"\" Contains a local namespace just for this function.\"\"\"\n",
    "    #global STAR  #<---remove comment to map to global namespace\n",
    "    STAR = name\n",
    "    Favorites.append(name)\n",
    "    print(\"local STAR: \", STAR)\n",
    "    \n",
    "setStar(\"Polaris\")\n",
    "print(\"global STAR: \", STAR)#output"
   ]
  },
  {
   "cell_type": "markdown",
   "metadata": {},
   "source": [
    "Passing Information into a Function\n",
    "-----------------------------------\n",
    "\n",
    "You have a tremendous amount of flexibility around how, and whether, to pass information into functions. You can \"roll your own\" from some combination of fixed positional arguments (a contract between you and your function to provide a precise number or arguments); positional \"wildcard\" arguments (0 to a zillion arguments); specific key / value pairs; or \"wildcard\" key / value pairs (0 to a zillion). Here are some examples of the options available to you:\n",
    "\n",
    "The simplest of all functions can be constructed like this:\n",
    "\n"
   ]
  },
  {
   "cell_type": "code",
   "execution_count": null,
   "metadata": {},
   "outputs": [],
   "source": [
    "def simple():\n",
    "    \"a docstring, or the keyword pass\""
   ]
  },
  {
   "cell_type": "markdown",
   "metadata": {},
   "source": [
    "You need the keyword **def**, some name, enclosing parentheses and a colon in the header; a nominal indented suite following. This function takes no arguments and returns **None**. Not so interesting, really, but syntactically-correct. You can upgrade in a variety of ways. If you have only named positional parameters as with this constructor:\n",
    "\n",
    "    def positional_only(input1, input2, input3):\n",
    "\n",
    "Here you promise three inputs – no more and no fewer. Sometimes, though, you really don't know how many bits of information you'll get and want to generalize. Python provides flexibility when the number of arguments is unpredictable. This constructor requires one positional argument then zero or more additional ones:\n",
    "\n",
    "     def positional_plus(input1, more_inputs): \n",
    " \n",
    "The \"\\*\" signals the interpreter to expect a tuple of unknown size, and to create a local name \"more\\_inputs\" tied to a **tuple** object (you don't use the \\* inside the function). The **tuple** will scoop all the additional arguments provided beyond the first one (that's assigned to input1). If only argument is provided the **tuple** will be empty.\n",
    "\n",
    "If you want to use a **dict** as input, you can construct the function\n",
    "like this:\n",
    "\n",
    "    def dict_only(a = None, b = None):\n",
    "\n",
    "This is a handy idiom because objects a and b are always created when the function is called. That makes them optional – neither, either, or both can be used when calling it. Another way to use a **dict** is to use a placeholder for one with a constructor that looks like this:\n",
    "\n",
    "    def dict_placeholder(**input_dict): \n",
    "\n",
    "When you do this, you create a local name \"input\\_dict\" that's tied to the key:value pairs provided when the function is called (you don't use the \\*\\* internally). Let's take a look at a couple more examples."
   ]
  },
  {
   "cell_type": "code",
   "execution_count": null,
   "metadata": {},
   "outputs": [],
   "source": []
  },
  {
   "cell_type": "code",
   "execution_count": null,
   "metadata": {},
   "outputs": [],
   "source": [
    "def eats(*foods): # gather positional args in a tuple\n",
    "    print(\"foods: \", foods) # foods is a tuple now\n",
    "    \n",
    "    \n",
    "print(\"Tuple of positional arguments to eats():\")  \n",
    "# open-ended number of positional arguments passed in...\n",
    "eats(\"Spaghetti\", \"Oysters\", \"Chili\", \"Crackers\", \"Rice\")\n",
    "\n",
    "def example(*args, **kwargs): # keyword args dict\n",
    "    \"\"\"\n",
    "    (* ) convert positionals -- tuple\n",
    "    (**) convert keyword args -- dict\n",
    "    \"\"\"\n",
    "    print(\"\\nPositionals:\")\n",
    "    for arg in args: # loop over the tuple\n",
    "        print(arg, sep = \", \", end = \" \")\n",
    "\n",
    "    print(\"\\nKwargs\")\n",
    "    for key, value in kwargs.items(): # ...now the dict\n",
    "        print(\"Arg name:\", key, \"Value: \", value)\n",
    "    \n",
    "# positional + keyword (named) arguments\n",
    "example( 1,2,3,4, on_vacation = True, at_work = False )\n",
    "\n",
    "# same thing using \"exploders\" * and **\n",
    "example( *(1,2,3,4), **dict(on_vacation = False, at_work = True) )"
   ]
  },
  {
   "cell_type": "markdown",
   "metadata": {},
   "source": [
    "As you can see, you've got plenty of options here. This being said, there are a couple of constraints. The order is important – the positional arguments need to come first, then the **tuple** of arbitrary size, then the dictionary. As soon as the interpreter hits the **tuple** argument, it's game over for positional arguments. As soon as it hits the dictionary, it's game over for both positional arguments and **tuples**."
   ]
  },
  {
   "cell_type": "markdown",
   "metadata": {},
   "source": [
    "Returning Information From a Function\n",
    "-------------------------------------\n",
    "\n",
    "A function does not have to return anything. If it does return something, you don't have to give the returned value a name or otherwise use it. "
   ]
  },
  {
   "cell_type": "markdown",
   "metadata": {},
   "source": [
    "Personally, I think it's a good idea to return something – even if it's just the number 1 to show \"Yup, I executed\" or a -1 to show \"Uh, there was a problem.\" But it's up to you – without instructions in this regard a function returns the **None** object.\n",
    "\n",
    "Finally, in Python you can only return one object. This isn't necessarily an issue because the object can be as complex as it needs to be to fully \"pass the baton\" to the next routine. The **dict** is my \"go to\" object for complex returns – mostly because it can be as complex as it needs to and, properly done, completely self-documenting."
   ]
  },
  {
   "cell_type": "markdown",
   "metadata": {},
   "source": [
    "First Class Objects\n",
    "-------------------\n",
    "\n",
    "Functions are known as \"first class objects\" because they can be used just as classes and other top-level objects in Python. For instance, they can be passed as arguments to other functions without issue[44].  This is really powerful because you can separate responsibilities cleanly between separate, isolated bits of code. As a result, different teams can work on the individual functions and atomic tests can be written against the capabilities promised by each function. All this makes a \"divide and conquer\" approach to development a snap and – perhaps more importantly – can keep code easy to maintain as requirements change.\n",
    "\n",
    "Here's how you might use functions' \"first class\" status Python to take a foray into functional programming. For this example, imagine we have the \"F team\" in Florida and that it's never met the \"G team\" in Georgia.  Each has been working 24/7 on its task, has written tests, and otherwise has things dialed in. F has perfected the art of doubling a value and G has nailed adding 2 to a value.\n",
    "\n",
    "As consumers of these efforts, we can \"stand on the shoulders of giants\" and repurpose / combine the efforts into our own project. \n",
    "\n",
    "Here's an example:"
   ]
  },
  {
   "cell_type": "code",
   "execution_count": null,
   "metadata": {},
   "outputs": [],
   "source": [
    "def compose(g, f):\n",
    "    \"\"\"Take two functions as inputs and return a\n",
    "    function that's their composition\"\"\"\n",
    "    \n",
    "    def newfunc(x):\n",
    "        return g(f(x))\n",
    "    \n",
    "    return newfunc\n",
    "        \n",
    "def G(n):\n",
    "    return n + 2\n",
    "    # input function\n",
    "    \n",
    "def F(n):\n",
    "    return n * 2\n",
    "\n",
    "# compare:\n",
    "H = compose(G, F) # build a 3rd function from 1 &amp; 2\n",
    "\n",
    "#print(\"G(F(x)):\", H(100)) # G(F(x))\n",
    "\n",
    "# ... now with\n",
    "#H = compose(F, G)\n",
    "#print(\"F(G(x)):\", H(100)) # F(G(x))"
   ]
  },
  {
   "cell_type": "markdown",
   "metadata": {},
   "source": [
    "## Inner Functions\n",
    "\n",
    "It's possible for a function to contain other functions called \"inner functions.\" In this case, not only is there an inner function, but that's what gets returned. The object that gets returned is \"loaded for bear\", retaining the information originally passed into **addLetters**."
   ]
  },
  {
   "cell_type": "code",
   "execution_count": null,
   "metadata": {},
   "outputs": [],
   "source": [
    "def addLetter(letters):  # -- pass in a string\n",
    "    \"\"\"\n",
    "    A function factory builds and returns function objects.\n",
    "    L is a function that will add whatever letters are passed\n",
    "    in to be the ending letters.\n",
    "    \"\"\"\n",
    "    def L(s):\n",
    "        return s + letters\n",
    "    return L\n",
    "\n",
    "\n",
    "# These are functions (versions of the inner\n",
    "#    function L() returned from addLetters()\n",
    "add_s = addLetter(\"s\")\n",
    "add_ed = addLetter(\"ed\")\n",
    "\n",
    "# Then we can execute these functions like any others\n",
    "print(add_s('Unhinged rant.'))\n",
    "print(add_ed('In an unhinged fashion rant'.))"
   ]
  },
  {
   "cell_type": "markdown",
   "metadata": {},
   "source": [
    "Closures\n",
    "--------\n",
    "\n",
    "A closure is an inner function with a memory. Let's say that you have on good authority that the meaning of life is 42. You want to stash that pearl of insight away and be prepared to tweak it as life gets more interesting and the universe evolves.\n",
    "\n",
    "You might want to create a Python function to which you can provide the original value. Then you might ask the main function to return another function that accepts your changes. \n",
    "\n",
    "Here's how you might do it:"
   ]
  },
  {
   "cell_type": "code",
   "execution_count": null,
   "metadata": {},
   "outputs": [],
   "source": [
    "def outer_space(outer_input):\n",
    "    \"outer-most function\"\n",
    "    last_answer=outer_input\n",
    "    def inner_space(inner_input):\n",
    "        \"inner-most function\"\n",
    "        nonlocal last_answer\n",
    "        last_answer += inner_input\n",
    "        return last_answer\n",
    "    return inner_space\n",
    "\n",
    "MEANING_OF_LIFE=41\n",
    "original = outer_space(MEANING_OF_LIFE)\n",
    "print(\"The original meaning of life is {}\".format(original(0)))\n",
    "\n",
    "tweak=3\n",
    "new_meaning = original(tweak)\n",
    "print(\"But now we think it's a bit more: {}\".format(new_meaning))\n",
    "\n",
    "next_new_meaning = original(tweak)\n",
    "print(\"... and now: {}\".format(next_new_meaning))"
   ]
  },
  {
   "cell_type": "markdown",
   "metadata": {},
   "source": [
    "As you can see, the inner function retained some \"institutional memory\", encapsulated it, and made itself available for further interaction.\n",
    "\n",
    "The **nonlocal** keyword, introduced here, acts to make a variable in an inner function available to the outer one. This is precisely the relationship that the **global** keyword in the outer function has with the containing module."
   ]
  },
  {
   "cell_type": "markdown",
   "metadata": {},
   "source": [
    " Python's Take on Map, Reduce and Filter\n",
    "---------------------------------------\n",
    "\n",
    "Python has some limited built-in capability to handle map/reduce operations. It can easily perform the same sort of analysis possible with big data analytical tools like Hadoop, but just not at the same scale. (Hadoop has its own way to manage workload and file systems – that's where its real magic lies).\n",
    "\n",
    "In a nutshell, a map operation is one that iterates through a bunch of objects and does the same thing to each one. A reduce operation sifts through the mapped objects and filters out the \"good stuff.\" Generally speaking, the **map** function is run once then sifted through multiple times by different reducers.\n",
    "\n",
    "To implement mapping in python, we can use the **map** function. Its syntax is straightforward:\n",
    "\n",
    "mapped\\_data = map (\\<processing\\_function\\>, \\<iterable\\>)\n",
    "\n",
    "To filter data, we can call upon the **filter** function. It works pretty much like map, but the processing filter passed judgment on each element of the iterable objects by evaluating it **True** or **False**.  The result is another iterable of only those that have been deemed **True**. The syntax is identical to that of **map**:\n",
    "\n",
    "filtered\\_data = filter(\\<processing\\_function\\>, \\<iterable\\>)\n",
    "\n",
    "Here's an example of how you might use **map** and **filter** to find even sums of integers provided as **tuples**. These methods are interesting because they each take two arguments: incoming data and the name of the routine to process the data. Each returns a generator-like object. This means they don't process all the data at once. Instead, they proceed one step at a time through their task, then only when requested. This sort of \"lazy execution\" makes handling of even large data sets possible because only the bits of it that are being processed need be in the memory.\n",
    "\n",
    "Python also has a **reduce** method – it works pretty much like **map**, except the operations defined in the function are applied cumulatively.  Note that it's implemented using a **lambda** expression[45] (an anonymous \"one liner\" function that can be used in place of a standard function)."
   ]
  },
  {
   "cell_type": "code",
   "execution_count": null,
   "metadata": {},
   "outputs": [],
   "source": [
    "from functools import reduce\n",
    "\n",
    "\n",
    "def add_numbers(things_to_add):\n",
    "    \"adds two numbers\"\n",
    "    first, second = things_to_add\n",
    "    return first + second\n",
    "\n",
    "\n",
    "def find_evens(thing_to_evaluate):\n",
    "    \"returns True if even\"\n",
    "    return not thing_to_evaluate % 2  # True if 0, False otherwise\n",
    "\n",
    "\n",
    "integers = [(2, 2), (4, 4), (5, 6), (7, 8)]\n",
    "\n",
    "mapped_data = map(add_numbers, integers)\n",
    "filtered_results = filter(find_evens, mapped_data)\n",
    "print(\"The even sums are {}\".format(list(filtered_results)))\n",
    "\n",
    "cumulative_mult = reduce(lambda x, y: x*y, [1, 2, 3, 4, 5])\n",
    "print(\"reduce returned: {}\".format(cumulative_mult))"
   ]
  },
  {
   "cell_type": "markdown",
   "metadata": {},
   "source": [
    "Function Dispatch\n",
    "-----------------\n",
    "\n",
    "Until Python 3.10, Python didn't have a statement like **case** or **switch**.   One day, you'll be able to switch to 3.10 for all your data science needs, but until the main distros (Anaconda, etc.) and the underlying data science building blocks are all updated you will likely be using an earlier version of Python.\n",
    "\n",
    "For better or worse. However, there are other ways to get the same functionality.  We've already seen that a complex **if** .. **elif** .. **else** structure can accommodate this. However, this can get unwieldy and hard to maintain.\n",
    "\n",
    "An alternative, and potentially more robust, approach involves mapping functions to a dictionary, which is then used to dispatch the function.  The following example shows how you might implement such a beast and, for good measure, introduces the **random.choice** method.\n",
    "\n",
    "As you review the code, imagine how much easier it would be to maintain than strictly branching logic. Let's say your client suddenly asked you to add a new capability – **str**.**title** how could you add it while minimally touching the existing code[46]?\n"
   ]
  },
  {
   "cell_type": "code",
   "execution_count": null,
   "metadata": {},
   "outputs": [],
   "source": [
    "#py_function_7.py\n",
    "from random import choice\n",
    "def f_upper():\n",
    "    return str.upper\n",
    "def f_lower():\n",
    "    return str.lower\n",
    "def f_swap():\n",
    "    return str.swapcase\n",
    "\n",
    "# Use a dict object to match names (like 'up') to one of your functions\n",
    "function_mapper={'up': f_upper, 'lower': f_lower, 'swap': f_swap}\n",
    "choices = list(function_mapper.keys())\n",
    "\n",
    "my_string='Lions and Tigers and Bears, Oh MY!'\n",
    "for i in range(3):\n",
    "    mychoice=choice(choices)\n",
    "    print(function_mapper[mychoice]()(my_string))"
   ]
  },
  {
   "cell_type": "markdown",
   "metadata": {},
   "source": [
    "The **random**.**choice** method is a convenient way to make a (pseudo) random choice from a collection of options.\n",
    "\n",
    "The **print** is a bit of a mouthful, so let's break it down.\n",
    "\n",
    "Note that most of what we're doing is passing around the name of a function, like **f\\_upper** or **str.upper** without actually executing it. This allows fairly succinct code because we can chain operations together in a single line. Is the virtue of being compact outweighed by the vice of being tough to decipher?\n"
   ]
  },
  {
   "cell_type": "code",
   "execution_count": null,
   "metadata": {},
   "outputs": [],
   "source": [
    "mychoice = 'up'  # Just to force a choice\n",
    "\n",
    "print(f\" mychoice: {mychoice}\")\n",
    "print()\n",
    "\n",
    "\n",
    "# String version of the command then the  output.\n",
    "print(\"function_mapper['up']\")\n",
    "print(function_mapper['up'])  \n",
    "print()\n",
    "\n",
    "print(\"function_mapper['up']()\")\n",
    "print(function_mapper['up']() )  # the () is the execution operator.  f_upper returns a function.\n",
    "print()\n",
    "\n",
    "print(\"function_mapper['up']() (my_string)\")\n",
    "print(function_mapper['up']() (my_string) )  # this feeds mystring to the function\n",
    " \n"
   ]
  },
  {
   "cell_type": "markdown",
   "metadata": {},
   "source": [
    "## Exercise\n",
    "\n",
    "Awesome job so far, folks! This has been a long session, but functions (and methods in classes) are one of the most important building blocks of any serious programming effort. Let's try out your new skills on a couple of problems.\n",
    "\n",
    "Python's built-in title casing routine has much to be desired. Check this out:"
   ]
  },
  {
   "cell_type": "code",
   "execution_count": null,
   "metadata": {},
   "outputs": [],
   "source": [
    "lst = [ \"shot in the dark\",\n",
    "        \"guido van rossum\",\n",
    "        \"monty python's life of brian\"\n",
    "      ]\n",
    "for item in lst:\n",
    "    print(item.title())"
   ]
  },
  {
   "cell_type": "markdown",
   "metadata": {},
   "source": [
    "In the first instance, a really short word got capitalized. The second will drive much European nobility mad because \"von\" and \"van\" are generally lower case. And the first letter after an apostrophe is almost never capitalized.\n",
    "\n",
    "Please see if you can write a function to address these issues – I'm sure you can do better than str.title! W\n",
    "\n",
    "While you're about it, see you can break the task down into small, atomic bits. That'll make it easier to test and maintain. You might use a series of functions something like:\n",
    "\n",
    "    process_list() \n",
    "        process_title() \n",
    "        process_word() \n",
    "            process_apostrophe()\n",
    "            process_royalty()\n",
    "\n",
    "Feel free to grab code from solution _python_1_chapter05_starter_code.py if you'd like. Many of the mechanics have been worked out, but it would benefit from reorganization."
   ]
  },
  {
   "cell_type": "markdown",
   "metadata": {},
   "source": [
    "Modules and Libraries\n",
    "=====================\n",
    "\n",
    "Python has several built-in object types that provide a versatile and \"off the shelf\" collection of tools for handing information you'll encounter in real-world situations. This chapter discusses and demonstrates a few of the libraries (modules) that you can **import** into your code. We'll look at just how you can access these libraries while managing how they work and play with the applications you are developing."
   ]
  },
  {
   "cell_type": "markdown",
   "metadata": {},
   "source": [
    "Importing Libraries\n",
    "-------------------\n",
    "\n",
    "As you've seen, the way to access libraries to extend Python's core capabilities is to **import** them into your program's namespace. Here are some examples:"
   ]
  },
  {
   "cell_type": "code",
   "execution_count": null,
   "metadata": {},
   "outputs": [],
   "source": [
    "import time\n",
    "from decimal import Decimal, getcontext\n",
    "from fractions import Fraction as Q # rational number\n",
    "from datetime import datetime, timezone\n",
    "from collections import namedtuple"
   ]
  },
  {
   "cell_type": "markdown",
   "metadata": {},
   "source": [
    " Basic Use of import\n",
    "-------------------\n",
    "\n",
    "If you examine these commands carefully, you'll note several variants.  The first example adds the module **time** into your code. We can use the **dir** keyword to capture the namespace. If used without arguments, it grabs the global namespace; with an argument, it reports on the namespace of the object presented in the argument.\n",
    "\n",
    "Here, we show the results from executing the **dir** command against a fresh Python shell in a command line interpreter interface.   The results will be the same in a Jupyter notebook, except there will be some extra Jupyter-specific entries.\n",
    "\n",
    "Initially we have a very parsimonious global namespace:\n",
    "\n",
    "    dir()\n",
    "    ['__builtins__', '__doc__', '__loader__', '__name__', '__package__']\n",
    "\n",
    "When we use the **import** keyword to bring in an extra module, the name of that module is added to our namespace:\n",
    "\n",
    "    import time\n",
    "    dir()\n",
    "    ['__builtins__', '__doc__', '__loader__', '__name__', '__package__', 'time']\n",
    "    \n",
    "When Python first opens, it has access to the global namespace and everything in the '__builtins__' module (that's automatically imported).    If we take a quick look at the contents of __builtins__, we'll see keywords at the bottom.  These include the variable types we've seen to date. At the top we'll see mostly exceptions (errors and warnings) along with a few more keywords like True, False, and None."
   ]
  },
  {
   "cell_type": "code",
   "execution_count": null,
   "metadata": {},
   "outputs": [],
   "source": [
    "\", \".join(dir (__builtins__))"
   ]
  },
  {
   "cell_type": "markdown",
   "metadata": {},
   "source": [
    "The act of importing the new module doesn't directly bring all the elements of the **time** module's namespace into your module – you only have access to **time**. The **time** module, however, has its own namespace. \n",
    "\n",
    "So what is a \"namespace\", anyway?   You can think of it as a dict object.   The names are the keys and the values represent the executable code associated with the names.    If you invoke a command like **dir**, Python accesses a dictionary, finds the associated code and executes it.    The act of importing a module is actually very light weight - all you're really doing is updating the master dictionary used by your program with pointers to other resources.\n",
    "\n",
    "You can take a look at the namespace of the **time** module by using the **dir** function with **time** as the argument."
   ]
  },
  {
   "cell_type": "code",
   "execution_count": null,
   "metadata": {},
   "outputs": [],
   "source": [
    "\", \".join(dir (time))"
   ]
  },
  {
   "cell_type": "markdown",
   "metadata": {},
   "source": [
    "Dot Notation \n",
    "------------\n",
    "\n",
    "While it's isolated from that of your own namespace, you can still access the new elements. You can do this by using \"dot notation.\"    Here, we access an attribute called 'timezone':"
   ]
  },
  {
   "cell_type": "code",
   "execution_count": null,
   "metadata": {},
   "outputs": [],
   "source": [
    "time.timezone"
   ]
  },
  {
   "cell_type": "markdown",
   "metadata": {},
   "source": [
    "Here we'll access the method called 'time' within the time namespace.   We can do that because the first \"time\" refers to an object available to our global namespace; and the second \"time\" refers to an object within the module's namespace. \n",
    "\n",
    "Because time.time is a method we see only the text representation of the object ... that is until we execute using the () operator."
   ]
  },
  {
   "cell_type": "code",
   "execution_count": null,
   "metadata": {},
   "outputs": [],
   "source": [
    "time.time"
   ]
  },
  {
   "cell_type": "code",
   "execution_count": null,
   "metadata": {},
   "outputs": [],
   "source": [
    "time.time()"
   ]
  },
  {
   "cell_type": "markdown",
   "metadata": {},
   "source": [
    "The \"dot\" delimits namespaces, which may be configured hierarchically, and allows your code to be specific in terms of exactly which object it addresses. In the code above, you'll see that within the **time** module there is a built in function of the same name. This creates no conflict for our own module because only the name of the newly-imported module is visible.\n",
    "\n",
    "Because of this separation it is completely safe to import several different modules without being concerned about whether object names from one can \"overwrite\" those of another.\n",
    "\n",
    "It's also possible to reach into an external module and import only the bits we want into our local namespace. Observe the effects of importing the **Decimal** class and the **getcontext** function. After the **import**, we now can access to the external objects on a \"first name\" basis."
   ]
  },
  {
   "cell_type": "code",
   "execution_count": null,
   "metadata": {},
   "outputs": [],
   "source": [
    "from decimal import Decimal, getcontext\n",
    "Decimal"
   ]
  },
  {
   "cell_type": "code",
   "execution_count": null,
   "metadata": {},
   "outputs": [],
   "source": [
    "getcontext"
   ]
  },
  {
   "cell_type": "markdown",
   "metadata": {},
   "source": [
    " Renaming Object When Importing\n",
    "------------------------------\n",
    "\n",
    "A slight variant of this is to choose a name for the imported object that suits your purpose. Python is agnostic relative to the name you choose, within its basic rules.  \n",
    "\n",
    "Here, we import the Fraction object from the fractions library.   We import it again, giving it the name \"Q\".   Essentially, we've created two entries to our main namespace dict for the same object.   We can access it by either \"Q\" or \"Fraction\"."
   ]
  },
  {
   "cell_type": "code",
   "execution_count": null,
   "metadata": {},
   "outputs": [],
   "source": [
    "from fractions import Fraction\n",
    "from fractions import Fraction as Q"
   ]
  },
  {
   "cell_type": "code",
   "execution_count": null,
   "metadata": {},
   "outputs": [],
   "source": [
    "same_object = id(Fraction) == id(Q)\n",
    "if same_object:\n",
    "    print(f\"Fraction and Q are aliases to the object at {id(Q)}.\")"
   ]
  },
  {
   "cell_type": "markdown",
   "metadata": {},
   "source": [
    "\n",
    "It might make sense to import an object by a specific name to avoid a namespace collision, or to follow a conventions adapted by your teammates. For instance, it's typical to use **numpy**, **pandas**, and **seaborn** by going:"
   ]
  },
  {
   "cell_type": "code",
   "execution_count": null,
   "metadata": {},
   "outputs": [],
   "source": [
    "import numpy as np\n",
    "import pandas as pd\n",
    "import seaborn as sns"
   ]
  },
  {
   "cell_type": "markdown",
   "metadata": {},
   "source": [
    "This is done mostly for brevity. It's much easier to type \"np\" than \"numpy\" - especially if you have to do it thousands of times.\n",
    "\n",
    "Avoid renaming imported objects unless you've got a good reason to do so because it could confuse your team. For instance, you can do one or both of these:"
   ]
  },
  {
   "cell_type": "code",
   "execution_count": null,
   "metadata": {},
   "outputs": [],
   "source": [
    "import string\n",
    "string.ascii_uppercase\n",
    "'ABCDEFGHIJKLMNOPQRSTUVWXYZ'"
   ]
  },
  {
   "cell_type": "code",
   "execution_count": null,
   "metadata": {},
   "outputs": [],
   "source": [
    "import string as elephant\n",
    "elephant.ascii_uppercase\n",
    "'ABCDEFGHIJKLMNOPQRSTUVWXYZ'"
   ]
  },
  {
   "cell_type": "markdown",
   "metadata": {},
   "source": [
    "… however, if you did the latter you could sow much confusion."
   ]
  },
  {
   "cell_type": "markdown",
   "metadata": {},
   "source": [
    "Also, while it's possible to import the entire namespace of a library into your code, you typically don't want to do so. In this example we import the entire **string** module's namespace using \"star notation\":"
   ]
  },
  {
   "cell_type": "code",
   "execution_count": null,
   "metadata": {},
   "outputs": [],
   "source": [
    "import string\n",
    "from string import *\n",
    "\n",
    "# Namespace of string\n",
    "string_module_namespace = \", \".join(dir(string))\n",
    "print(f\"The namespace of the string library is: \\n\\n{string_module_namespace}\\n\")\n",
    "\n",
    "# ID of string.digits versus digits\n",
    "same_object = id(string.digits)==id(digits)\n",
    "if same_object:\n",
    "    print(\"The string.digits from the string module namespace is the same object as digits in the global one,\")\n",
    "    print(f\"known under the hood as {id(digits)}\")"
   ]
  },
  {
   "cell_type": "code",
   "execution_count": null,
   "metadata": {},
   "outputs": [],
   "source": [
    "\", \".join(dir(string))"
   ]
  },
  {
   "cell_type": "markdown",
   "metadata": {},
   "source": [
    "While this might be manageable, what if you were already using a variable called \"digits\"?"
   ]
  },
  {
   "cell_type": "code",
   "execution_count": null,
   "metadata": {},
   "outputs": [],
   "source": [
    "digits = ['thumb', 'pointer', 'middle', 'ring', 'pinky']\n",
    "digits"
   ]
  },
  {
   "cell_type": "code",
   "execution_count": null,
   "metadata": {},
   "outputs": [],
   "source": [
    "from string import *\n",
    "digits"
   ]
  },
  {
   "cell_type": "markdown",
   "metadata": {},
   "source": [
    "That's trouble, right?    The message is that you want to be a bit cautious.  It's certainly easier to type in a single name like 'digits', but sometimes a more verbose name is actually better.  For instance, anyone reading the code will recognize 'string.digits' for what it is - it's got provenance, after all.   Transparency matters.\n",
    "\n",
    "Sometimes it makes sense to use \"star notation\" when you're importing only one outside library and using its tools exclusively. This is often the case when you are working with GUIs because all the components you need are included in the imported module – there almost no chance of namespace collisions, even when you're part of a collaborative effort."
   ]
  },
  {
   "cell_type": "markdown",
   "metadata": {},
   "source": [
    "File System Based Namespaces\n",
    "----------------------------\n",
    "\n",
    "Python has the ability to use the file system to create namespaces for modules and it works just like what we've seen for ordinary objects.  Building packages is beyond the scope of this course, but for now know that you can have a directory structure like:\n",
    "\n",
    "    main_application\n",
    "        __init__.py\n",
    "\n",
    "    subdir_1\n",
    "        __init__.py\n",
    "        module.py\n",
    "\n",
    "    subdir_2\n",
    "        __init__.py\n",
    "        module.py\n",
    "\n",
    "If main\\_application can be discovered by your app, then you can go:\n",
    "\n",
    "    from main_application import subdir_1, subdir_2\n",
    "\n",
    "… which gives you access to subdir\\_1.module and subdir\\_2.module. The two identically-named module names are each tucked in behind their directory name and will not present namespace conflicts in your app.\n",
    "\n",
    "On a related note, what makes main\\_application discoverable by Python?  When you import a module, Python looks at the contents of **sys.path** – an ordered list of all the directories on its search path. It's comprised of normal, default locations and whatever might be in your PYTHONPATH environment variable. \n",
    "\n",
    "The element, and the first place the interpreter looks, is in your current working directory. What this means – and this has caught many an unwary programmer – is that if you name your module the same as a system package, then when you try to import a Python module you will get your own instead. Then you will go insane trying to figure out why your imported module doesn't work as expected.\n",
    "\n",
    "As a result, you'll want to be a little careful about choosing names. If you're considering 'string.py', for instance, you might first want to attempt to **import** **string**. If the operation succeeds, 'string.py' is already taken, if your get an **ImportError** then you're safe. \n",
    "\n",
    "Bear in mind that installation of new packages or editing the PYTHONPATH can change things.\n",
    "\n",
    "As you'll see, the libraries available in Python's standard library and general ecosystem provide highly-leveraged ways to extend the already-powerful capabilities. "
   ]
  },
  {
   "cell_type": "markdown",
   "metadata": {},
   "source": [
    "Time-related Objects: time, datetime, and calendar\n",
    "--------------------------------------------------\n",
    "\n",
    "Since we're on the topic of using imported libraries, let's take a look at Python's three principle libraries providing dealing with time. Each has its own strengths, weaknesses and capabilities. We'll go through some of the capabilities of each here.\n",
    "\n",
    "Before we jump in, there are some things to be aware of:\n",
    "\n",
    "-   Computers \"think\" of time in terms of the elapsed seconds since an\n",
    "    agreed-upon point in time called an \"epoch.\" For most POSIX\n",
    "    (Linux-like) systems, the epoch began on January 1, 1970. For\n",
    "    Windows, it's January 1, 1601[47]. Typically, this won't matter\n",
    "    because Python is OS-agnostic.\n",
    "\n",
    "\n",
    "-   Since different parts of the world are in different time zones, we\n",
    "    often think of what time it is in Greenwich (London), England. This\n",
    "    is known by various names such as GMT, UTC and Zulu.\n",
    "\n",
    "\n",
    "-   However, your computer (or AWS slice, or server) may \"think\" in\n",
    "    local time. Local time is a little weird. Time zones can shift\n",
    "    because of local decisions. Daylight savings time can vary\n",
    "    county-by-county, and state-by-state. \"Summer time\" in Europe and\n",
    "    elsewhere doesn't necessarily synch with U.S. daylight savings time.\n",
    "    UTC is reliable.\n",
    "\n",
    "\n",
    "-   There are two \"flavors\" of elapsed time available. One is told by\n",
    "    the clock on your wall – it's an objective measure of the time you\n",
    "    experience. The other is the elapsed time the CPU works on your\n",
    "    program. You'll want to be sure of which you're using when it's\n",
    "    material (such as when your application is running on a busy machine\n",
    "    the clock time isn't a great measure of how efficient your program\n",
    "    is."
   ]
  },
  {
   "cell_type": "markdown",
   "metadata": {},
   "source": [
    "Time Objects\n",
    "------------\n",
    "\n",
    "Here are a few lines of code that use some of the basic functionality of time. This code grabs both the clock time and CPU time and demonstrates use of the **sleep** method. You'll note that these are reported to different levels of precision and produce slightly different results. \n",
    "\n",
    "**time**.**process_time** reports how long this script has been running while **time**.**time** reports the number of seconds that have elapsed since the dawn of time."
   ]
  },
  {
   "cell_type": "code",
   "execution_count": null,
   "metadata": {},
   "outputs": [],
   "source": [
    "import time\n",
    "print(time.process_time(), time.time())\n",
    "time.sleep(1) #seconds\n",
    "print(time.process_time(), time.time())"
   ]
  },
  {
   "cell_type": "markdown",
   "metadata": {},
   "source": [
    " Datetime Objects\n",
    "----------------\n",
    "\n",
    "For most purposes, you'll be working with **datetime** objects provided from the library of the same name. A **datetime** object is a fairly easy-to-read tuple-like structure, and it's straightforward to extract information.  \n",
    "\n",
    "The Datatime object is everywhere in computing, but you should be aware that the implementation can vary slightly, even among Python modules.\n",
    "\n",
    "Here's an example of how you can use datetime:"
   ]
  },
  {
   "cell_type": "code",
   "execution_count": null,
   "metadata": {},
   "outputs": [],
   "source": [
    "from datetime import datetime\n",
    "d = datetime.now()\n",
    "print(d)\n",
    "print(\"the hour is: {}.\".format(d.hour))\n",
    "print(\"the year is: {}.\".format(d.year))"
   ]
  },
  {
   "cell_type": "code",
   "execution_count": null,
   "metadata": {},
   "outputs": [],
   "source": [
    "from datetime import datetime, timezone\n",
    "now_here = datetime.now()\n",
    "print(\"Now, this timezone: \", now_here)"
   ]
  },
  {
   "cell_type": "code",
   "execution_count": null,
   "metadata": {},
   "outputs": [],
   "source": [
    "# Datetime is timezone-aware\n",
    "now_uk = datetime.now(timezone.utc)\n",
    "print(\"Now, in England: \", now_uk)\n",
    "the_date = now_uk"
   ]
  },
  {
   "cell_type": "code",
   "execution_count": null,
   "metadata": {},
   "outputs": [],
   "source": [
    "# Dates can be used in a \"mathy\" sense\n",
    "print(\"Days since 01-01-0001: \", the_date.toordinal())\n",
    "epoch = datetime(1970,1,1, tzinfo = timezone.utc)"
   ]
  },
  {
   "cell_type": "code",
   "execution_count": null,
   "metadata": {},
   "outputs": [],
   "source": [
    "print(\"01/01/1970 timestamp : \", epoch.timestamp())\n",
    "print(\"Now in English timestamp: \", now_uk.timestamp())"
   ]
  },
  {
   "cell_type": "code",
   "execution_count": null,
   "metadata": {},
   "outputs": [],
   "source": [
    "delta = now_uk - epoch\n",
    "print(\"Time delta in seconds: \", delta.total_seconds())"
   ]
  },
  {
   "cell_type": "markdown",
   "metadata": {},
   "source": [
    "For all its charms, **datetime** produces fairly ugly output, left to its own devices. Fortunately, there's an easy way to customize is using the \"string from time\" functionality, known as **strftime**[49]. The basic syntax is:\n",
    "\n",
    "\\<datetime object\\>.strftime(\\<format string\\>)\n",
    "\n",
    "A simple example follows.   Note that we're able to combine Python formatting with strftime formatting:"
   ]
  },
  {
   "cell_type": "code",
   "execution_count": null,
   "metadata": {},
   "outputs": [],
   "source": [
    "from datetime import datetime\n",
    "\n",
    "date_format = \"%d, %b %Y\"\n",
    "now = datetime.now()\n",
    "print(f\"Hello! Today is {now.strftime(date_format)}.\")"
   ]
  },
  {
   "cell_type": "markdown",
   "metadata": {},
   "source": [
    "If you want, you can include other characters in the format string. In the next example, we provide punctuation (\":\" and \"-\" characters) to make something like we'd see in a log file (easy to sort chronologically)."
   ]
  },
  {
   "cell_type": "code",
   "execution_count": null,
   "metadata": {},
   "outputs": [],
   "source": [
    "from datetime import datetime\n",
    "now = datetime.now()\n",
    "exact_format = \"%Y-%m-%d %H:%M\"\n",
    "print(f\"Or, more precisely, {now.strftime(exact_format)}.\")"
   ]
  },
  {
   "cell_type": "markdown",
   "metadata": {},
   "source": [
    "There are many formatting strings available. You can download a \"cheat sheet\"[50] in the likely event you don't want to memorize them.   Or you can take a quick look at strftime.org."
   ]
  },
  {
   "cell_type": "markdown",
   "metadata": {},
   "source": [
    "Working with Calendar\n",
    "---------------------\n",
    "\n",
    "Python also has a time-related function that knows how to print nicely-formatted calendars, figure out the day of week, keep track of leap days, etc.[51].  \n",
    "\n",
    "This is sort of a \"toy module\" because serious packages have more heavy duty ways to manage calendar functions.   If you want something quick and dirty with minimal overhead, you may be able whistle up something suitable we with a couple of commands.\n",
    "\n",
    "\n",
    "Here's a brief flyover of some of its capabilities[52]."
   ]
  },
  {
   "cell_type": "code",
   "execution_count": null,
   "metadata": {},
   "outputs": [],
   "source": [
    "import calendar\n",
    "#create a TextCalendar instance\n",
    "cal = calendar.TextCalendar()\n",
    "print(\"We just produced a {}.\\n\".format(type(cal)))\n",
    "calendar.prmonth(2025,4)  #April, 2025"
   ]
  },
  {
   "cell_type": "code",
   "execution_count": null,
   "metadata": {},
   "outputs": [],
   "source": [
    "#what day of the week was I born?\n",
    "birthday_year = 1957\n",
    "birthday_month = 5\n",
    "birthday_day = 10\n",
    "birthday_day_of_week = calendar.weekday(birthday_year, birthday_month, birthday_day)\n",
    "birthday_dict = {0:'Mon', 1:'Tue', 2:'Wed', 3:'Thur', 4:'Fri', 5:'Sat', 6:'Sun'}\n",
    "print(\"I was born on a {}.\".format(birthday_dict[birthday_day_of_week]))"
   ]
  },
  {
   "cell_type": "markdown",
   "metadata": {},
   "source": [
    "Introduction to Python's \"Middleware\" Libraries\n",
    "-----------------------------------------------\n",
    "\n",
    "In the spirit of continuing a discussion of adding capability beyond Python's core repertoire, we might consider some of Python's built-in modules **sys** and **os**. We'll discuss their basic contributions here. I would encourage you to explore these on your own using **dir** and **help** as your investigation tools.\n",
    "\n",
    "-   The **sys** module contains information about the particular Python\n",
    "    installation you're working with and how it's installed on your\n",
    "    local OS. This is where **sys.path** (the **list** of directories\n",
    "    the interpreter uses to find imported modules).\n",
    "    \n",
    "\n",
    "-   The **os** module contains a large repertoire of \"middleware\" that\n",
    "    operates between Python and your local OS. It keeps track of things like\n",
    "    the correct path separator to use.\n",
    "\n",
    "Here are a couple examples from my systems. This is what I get from a Windows box:\n"
   ]
  },
  {
   "cell_type": "raw",
   "metadata": {},
   "source": [
    "Python 3.6.0  (default, Dec 23 2016, 11:57:41) [MSC v.1900 64 bit (AMD64)] on win32\n",
    "Type \"help\", \"copyright\", \"credits\" or \"license\" for more information.\n",
    ">>> import os\n",
    ">>> os.name\n",
    "'nt'\n",
    ">>> os.path.sep\n",
    "'\\\\'\n",
    ">>> os.path.join('path', 'to', 'file')\n",
    "'path\\\\to\\\\file'"
   ]
  },
  {
   "cell_type": "markdown",
   "metadata": {},
   "source": [
    "And this is the same information from one of my Linux virtuals:"
   ]
  },
  {
   "cell_type": "raw",
   "metadata": {},
   "source": [
    "Python 3.3.0 (default, Sep 5 2016, 11:33:57)\n",
    "[GCC 4.8.4] on linux\n",
    "Type \"help\", \"copyright\", \"credits\" or \"license\" for more information.\n",
    ">>> iimport os\n",
    ">>> ios.name\n",
    "'posix'\n",
    ">>> ios.path.sep\n",
    "'/'\n",
    ">>> ios.path.join('path', 'to', 'file')\n",
    "'path/to/file'"
   ]
  },
  {
   "cell_type": "markdown",
   "metadata": {},
   "source": [
    "The tools in **os** are really important if you want to maximize the portability of your code from platform-to-platform. The last thing you want to do is put in conditional statements to do things like construct file paths[53]. Or – worse yet – having your code work only on the \"flavor\" of development platform you're using."
   ]
  },
  {
   "cell_type": "markdown",
   "metadata": {},
   "source": [
    "## Exercise:\n",
    "\n",
    "Starting with a text representation of your birthday e.g., \"May 5, 1970\" please create a routine that produces a report describing how long you've been alive (to the nearest day) and what day of the week you were born."
   ]
  },
  {
   "cell_type": "markdown",
   "metadata": {},
   "source": [
    "Exceptions\n",
    "==========\n",
    "\n",
    "Things sometimes don't go as planned – especially when you're dealing with user input, content captured \"from the wild\", or integrating code written by others into your own. In these situations you need a way to gracefully handle surprises without crashing your code.\n",
    "\n",
    "Sometimes things do go as expected and you want to set up \"sentinels\" to identify specific, anticipated situations and act accordingly.\n",
    "\n",
    "You'll find Python's built-in exceptions model to be useful in both of these situations. This chapter will explore how you can put it to use."
   ]
  },
  {
   "cell_type": "markdown",
   "metadata": {},
   "source": [
    "Basic Usage\n",
    "-----------\n",
    "\n",
    "The easiest form of an exception is the **assert** statement. Its syntax is pretty easy:\n",
    "\n",
    "assert \\<some statement\\>"
   ]
  },
  {
   "cell_type": "code",
   "execution_count": null,
   "metadata": {},
   "outputs": [],
   "source": [
    "assert True"
   ]
  },
  {
   "cell_type": "code",
   "execution_count": null,
   "metadata": {},
   "outputs": [],
   "source": [
    "assert False"
   ]
  },
  {
   "cell_type": "markdown",
   "metadata": {},
   "source": [
    "As you can see, the interpreter generates an **AssertionError** (which is a type of exception) when statement evaluated is **False**. This sort of a blunt approach that doesn't yield much actionable information, but it is a \"quick and dirty\" way to identify a problem during execution.\n",
    "\n",
    "As this stands, finding a **False** condition basically crashes your program – something you usually don't want to happen. So how can you handle this more smoothly? You can tell the interpreter what to do in specific circumstances using a **try** / **except** block. \n",
    "\n",
    "Here's how:"
   ]
  },
  {
   "cell_type": "code",
   "execution_count": null,
   "metadata": {},
   "outputs": [],
   "source": [
    "try:\n",
    "    assert False\n",
    "except AssertionError:\n",
    "    print(\"Sorry, pal\")\n",
    "    print(\"I'm gonna keep running.\")"
   ]
  },
  {
   "cell_type": "markdown",
   "metadata": {},
   "source": [
    "Much better, right? The general form of a try/except block is:\n",
    "\n",
    "    try:\n",
    "        <an indented suite of statements>\n",
    "\n",
    "    except <some exception>:\n",
    "        <an indented suite of statements >\n",
    "\n",
    "    except <some exception>:\n",
    "        <an indented suite of statements >\n",
    "\n",
    "    finally:\n",
    "        <an indented suite of statements>"
   ]
  },
  {
   "cell_type": "markdown",
   "metadata": {},
   "source": [
    "You can \"stack\" exceptions handled much like **elif** statements in an **if**..**then**..**else** block. Exception handling stops at the first one found. The **finally** block gets executed no matter what.\n",
    "\n",
    "Here's an example:"
   ]
  },
  {
   "cell_type": "code",
   "execution_count": null,
   "metadata": {},
   "outputs": [],
   "source": [
    "def bad_int():\n",
    "    int('a')\n",
    "\n",
    "def bad_not_defined():\n",
    "    int(a)\n",
    "\n",
    "def bad_div():\n",
    "    1/0\n",
    "\n",
    "def good():\n",
    "    print(\"Hi!\")\n",
    "\n",
    "for func in (bad_int, bad_not_defined, bad_div, good):\n",
    "    try:\n",
    "        func()\n",
    "    except ValueError:\n",
    "        print(\"you have no values.\")\n",
    "    except TypeError:\n",
    "        print(\"Learn how to type.\")\n",
    "    except NameError:\n",
    "        print(\"You have a horse with no name.\")\n",
    "    except ZeroDivisionError:\n",
    "        pass\n",
    "    finally:\n",
    "        print(\"I'm done.\\n\")"
   ]
  },
  {
   "cell_type": "markdown",
   "metadata": {},
   "source": [
    "One important point to note here is that, like an **if .. elif ..elif** stack of code only one exception handler's indented suite can be executed. The implication is that you want to catch the most general exceptions at the top of the stack and the most general ones at the bottom. More on this in a moment, but it's an important design consideration."
   ]
  },
  {
   "cell_type": "markdown",
   "metadata": {},
   "source": [
    "The Exception Class\n",
    "-------------------\n",
    "\n",
    "In Python, exceptions are all derived from the same parent (called **Exception**) and specified to handle individual problems[54]. This presents the possibility to create your own if none of the built-in ones fit. \n",
    "\n",
    "Here's how you might create simple custom exception and a more elaborate one to handle the potentially-serious Wombat condition:"
   ]
  },
  {
   "cell_type": "code",
   "execution_count": null,
   "metadata": {},
   "outputs": [],
   "source": [
    "# A minimal custom exception\n",
    "class MinimalException(Exception):\n",
    "    pass\n",
    "\n",
    "class WombatException(Exception):\n",
    "    def __str__(self):\n",
    "        return(\"Wombat!\")\n",
    "\n",
    "def wombat():\n",
    "    raise WombatException\n",
    "    \n",
    "wombat()\n",
    "#result\n",
    "#__main__.WombatException: Wombat!"
   ]
  },
  {
   "cell_type": "markdown",
   "metadata": {},
   "source": [
    "Here, we see what's known as a \"Traceback\".   This shows the chain of execution present at the time the problem was encountered.   The proximate (latest) cause is at the bottom.   The exception event was triggered earlier by the call to wombat().   Careful inspection of this reveals the call stack (layering of what calls what) and local context of the trigger(s)."
   ]
  },
  {
   "cell_type": "markdown",
   "metadata": {},
   "source": [
    "We'll get into classes later in the course. For now, know that we took a **class** object already part of the language, inherited from, and redefined part of it.\n",
    "\n",
    "Because all exceptions are inherited from the same parent, there's a complex \"family tree\" of available ones. Here's part of it:\n",
    "\n",
    "    +-- BaseException\n",
    "    +-- Exception\n",
    "    +-- StopIteration\n",
    "    +-- StopAsyncIteration\n",
    "    +-- ArithmeticError\n",
    "        | +-- FloatingPointError\n",
    "        | +-- OverflowError\n",
    "        | +-- ZeroDivisionError\n",
    "\n",
    "You don't need an encyclopedic understanding of all this but it's important to know that the interpreter will catch exceptions closest to the \"root\" of the family tree. To put it another way, if you have a line of code like this:\n",
    "\n",
    "    except ArithmeticError:\n",
    "    \n",
    "Python will catch the **FloatingPointError**, **OverFlowError**, and **ZeroDivisionError**. \n",
    "\n",
    "If you do this:\n",
    "\n",
    "    except Exception:   \n",
    "    \n",
    "Python will catch any exception.  "
   ]
  },
  {
   "cell_type": "markdown",
   "metadata": {},
   "source": [
    "\n",
    "Python has many built-in exception types that handle specific problems encountered during execution. Some of the more common ones include:\n",
    "\n",
    "    -   **KeyboardInterrupt** (the user hits cntl-c)\n",
    "\n",
    "    -   **TypeError** (the wrong type of object was provided)\n",
    "\n",
    "    -   **ValueError** (an invalid argument was supplied)  \n",
    "    \n",
    "The entire \"family tree\" of exceptions is in the official docs[55] and could make a valuable addition to your personal library.    "
   ]
  },
  {
   "cell_type": "markdown",
   "metadata": {},
   "source": [
    "Miscellaneous\n",
    "-------------\n",
    "\n",
    "If you want to capture the message that normally comes with the exception in your own **except** clause, you can create a handle to it and print it out. You can also print out the call stack and specific lines of code that caused the problem (what you normally get when you make a mistake at the keyboard) using **traceback**.\n",
    "\n",
    "Also, you can ask the interpreter to pass handling of the exception to a handler higher up in the call stack (one of the routines that called your current routine) with the keyword **raise**. If that error was handled higher up, it will be handled there. \n",
    "\n",
    "Here, we set up a handler in the for block – a fancier one this time because we have named our error handler \"ve\" and printed it out. We also have chosen one of the methods of the **traceback** module to give detailed information about the source of the problem[56].\n",
    "\n",
    "Note that the function **another\\_bad\\_int** does not have any of the handling logic. If a problem is detected there, it \"passes the buck\" to the handler we just set up[57].\n",
    "\n",
    "Here's an example:"
   ]
  },
  {
   "cell_type": "code",
   "execution_count": null,
   "metadata": {},
   "outputs": [],
   "source": [
    "import traceback\n",
    "def another_bad_int():\n",
    "    try:\n",
    "        int('b')\n",
    "    except:\n",
    "        raise\n",
    "        \n",
    "for func in (another_bad_int, ):\n",
    "    try:\n",
    "        func()\n",
    "    except ValueError as ve:\n",
    "        print(\"you have no values\\n\\n\", ve, \"\\n\")\n",
    "        #traceback.print_stack()    # <---- uncomment for really verbose output\n",
    "        raise"
   ]
  },
  {
   "cell_type": "markdown",
   "metadata": {},
   "source": [
    "Strategies\n",
    "----------\n",
    "\n",
    "-   You want to get a good match between the exception(s) you looking\n",
    "    for and the exceptions you're handling. Make the **except**\n",
    "    statements as narrow as possible (furthest out on the branch of the\n",
    "    \"family tree\" as possible).\n",
    "    \n",
    "\n",
    "-   Know what you're looking for and why. You can try to break it at the\n",
    "    keyboard first to figure out what could go wrong.\n",
    "    \n",
    "\n",
    "-   Keep it \"local\" – check a line or two at a time.\n",
    "\n",
    "\n",
    "Here's a worst case scenario:"
   ]
  },
  {
   "cell_type": "code",
   "execution_count": null,
   "metadata": {},
   "outputs": [],
   "source": [
    "try:\n",
    "    \"1,000 lines of code you don't understand\"\n",
    "except Exception:\n",
    "    pass"
   ]
  },
  {
   "cell_type": "markdown",
   "metadata": {},
   "source": [
    "Input and Output\n",
    "================\n",
    "\n",
    "So far, we've been working with programs and data that exist only in memory. This is fine unless you want the information produced to persist between sessions. To accomplish this, you'll want to learn how to store information in files of some type. These could be text files, databases, or (if you want to store intact objects) **JSON**, **pickle**, or **shelve** files.\n",
    "\n",
    "To accomplish any of these we need to establish a pipe to move information to another system resource and the necessary system object to receive it. Let's start with simple file object and the built-in **open** directive. The syntax is:\n",
    "\n",
    "    <file handle name> = open(<file name>, <mode>)\n",
    "    \n",
    "There will always be some sort of encoding.  That's the mapping between the characters you see rendered on your screen and the bytecodes stored in the computer.   If you don't specify, the system default on whatever machine your code is running on will be chosen."
   ]
  },
  {
   "cell_type": "markdown",
   "metadata": {},
   "source": [
    "Basic File i/o\n",
    "--------------\n",
    "\n",
    "TWe can create a file called 'afile' in the write only mode. If another file of the same name already exists it will get overwritten silently, so be careful.\n",
    "\n",
    "Once the file is open, we can write something to it using the file handle's **write** method. When done we can execute the **close** method.\n",
    "\n",
    "To open a new file and establish a handle to it, we can go:"
   ]
  },
  {
   "cell_type": "code",
   "execution_count": null,
   "metadata": {},
   "outputs": [],
   "source": [
    "f = open('afile', 'w')\n",
    "print(f)\n",
    "f.write(\"Hello, afile\")"
   ]
  },
  {
   "cell_type": "markdown",
   "metadata": {},
   "source": [
    "When finished with a file, it's good practice to close it.  You can see that even when the file is closed, the file handler object still exists."
   ]
  },
  {
   "cell_type": "code",
   "execution_count": null,
   "metadata": {},
   "outputs": [],
   "source": [
    "f.close()\n",
    "print(f)\n",
    "print(f.closed)"
   ]
  },
  {
   "cell_type": "markdown",
   "metadata": {},
   "source": [
    "We can use the file handle object to tell us about the file. This code sample shows you some of the things you can learn."
   ]
  },
  {
   "cell_type": "code",
   "execution_count": null,
   "metadata": {},
   "outputs": [],
   "source": [
    "f = open('afile', 'w')\n",
    "f.write(\"Hello afile!\")\n",
    "\n",
    "# Some attributes and methods of interest:\n",
    "print(\"What's up with {}?\\n\".format(f.name))\n",
    "print(\"readable?\", f.readable())\n",
    "print(\"writable?\", f.writable())\n",
    "print(\"encoding:\", f.encoding)\n",
    "print(\"closed?\", f.closed)\n",
    "print()\n",
    "print(\"Closing Now!\")\n",
    "f.close()\n",
    "print(\"closed?\", f.closed)"
   ]
  },
  {
   "cell_type": "markdown",
   "metadata": {},
   "source": [
    "There are different modes for opening text files. Besides read \"r\" and write, \"w\" you can open it an append mode \"a.\" This allows you to open a file for writing without destroying any existing file. Instead, any new write operations add material to the end. If you include a \"+\" with any of these, you get both read and write access.\n",
    "\n",
    "The modes we've seen so far are for text files – these all involve some sort of encoding operation to convert human-readable characters to raw bytes. If the file is storing binary data, you have to let the compiler know by using a \"b directive.\" These take the form \"r+b\", \"w+b\" and \"a+b.\" \n",
    "\n",
    "For instance, you can go:\n",
    "\n",
    "    f = open ('junk2', 'w+b')"
   ]
  },
  {
   "cell_type": "markdown",
   "metadata": {},
   "source": [
    " Creating a Context\n",
    "------------------\n",
    "\n",
    "In the examples above, we closed the files when done with them. This is considered a best practice because, although Python's built in garbage collection will probably take care of things, it works on its own schedule. Some operating systems (Windows) have a limit on the number of open files you're allowed, and with large applications – like file-based database systems you could get into trouble.\n",
    "\n",
    "An easier way to handle closing files IMHO is to create a context using the **with** keyword. A context is like a temporary sandbox for a block of code to run in. When the code is done, the context is automatically terminated and all the objects are eligible for garbage collection.  \n",
    "\n",
    "Here's how you might use it:"
   ]
  },
  {
   "cell_type": "code",
   "execution_count": null,
   "metadata": {},
   "outputs": [],
   "source": [
    "with open('junk2', 'w') as f:\n",
    "    f.write('hey there junk2')\n",
    "    \n",
    "print(f.closed)"
   ]
  },
  {
   "cell_type": "markdown",
   "metadata": {},
   "source": [
    "\n",
    "File Pointers\n",
    "-------------\n",
    "\n",
    "Internally the file has a pointer – sort of like a sticky note – to tell it what line it's on. When you **open** a file in a read or write mode, the pointer starts at the top. If it's open in the append mode, the pointer starts at the bottom.\n",
    "\n",
    "You can move the file pointer around using the file handler's **seek** method, invoked with a single argument for the position you want to move it. \n",
    "\n",
    "Here's an example:"
   ]
  },
  {
   "cell_type": "code",
   "execution_count": null,
   "metadata": {},
   "outputs": [],
   "source": [
    "f = open('afile', 'a+')\n",
    "f.read()"
   ]
  },
  {
   "cell_type": "code",
   "execution_count": null,
   "metadata": {},
   "outputs": [],
   "source": [
    "f.seek(0)"
   ]
  },
  {
   "cell_type": "code",
   "execution_count": null,
   "metadata": {},
   "outputs": [],
   "source": [
    "f.read()"
   ]
  },
  {
   "cell_type": "code",
   "execution_count": null,
   "metadata": {},
   "outputs": [],
   "source": [
    "f.seek(6)"
   ]
  },
  {
   "cell_type": "code",
   "execution_count": null,
   "metadata": {},
   "outputs": [],
   "source": [
    "f.read()"
   ]
  },
  {
   "cell_type": "code",
   "execution_count": null,
   "metadata": {},
   "outputs": [],
   "source": [
    "f.tell()"
   ]
  },
  {
   "cell_type": "code",
   "execution_count": null,
   "metadata": {},
   "outputs": [],
   "source": [
    "f.seek(0)"
   ]
  },
  {
   "cell_type": "code",
   "execution_count": null,
   "metadata": {},
   "outputs": [],
   "source": [
    "f.tell()"
   ]
  },
  {
   "cell_type": "markdown",
   "metadata": {},
   "source": [
    "You'll note that the first time we read it, nothing was reported. That's because the file pointer was already at end of the file. With seek we put the pointer to the top of the file and **read** performed as expected. The **tell** method simply reports the position of the pointer. Here we're verifying that **seek** did its job.\n",
    "\n",
    "I would point out that using **seek** against a text file is a dicey proposition – unless you're simply going to the top. \n",
    "\n",
    "The reason is that the width of a binary character is predictable but the width of a character is not. If it's only the bottom half of ASCII, the characters are one byte long, but you never know. This all depends on the encoding.  For instance, the ubiquitous UTF -8 can hold all 1MM + Unicode code points, but individual characters only consume the required \"space\" – anywhere from one to four 8-bit bytes."
   ]
  },
  {
   "cell_type": "markdown",
   "metadata": {},
   "source": [
    " Working with the File System\n",
    "----------------------------\n",
    "\n",
    "The easiest way to work with the file system is to use the **os** library[59]. Here is where you can find all sorts of tools that you might use at the command line of a shell program. We'll use the following example to take some of the methods for a spin around the block while exploring your file system and the repertoire of the library."
   ]
  },
  {
   "cell_type": "code",
   "execution_count": null,
   "metadata": {},
   "outputs": [],
   "source": [
    "import os"
   ]
  },
  {
   "cell_type": "markdown",
   "metadata": {},
   "source": [
    "We can find the current working directory and navigate directories using the same sort of techniques one might use at the command line."
   ]
  },
  {
   "cell_type": "code",
   "execution_count": null,
   "metadata": {},
   "outputs": [],
   "source": [
    "# Get the name of the current directory\n",
    "original_dir = os.getcwd()\n",
    "print('We started in:')\n",
    "print(original_dir)"
   ]
  },
  {
   "cell_type": "code",
   "execution_count": null,
   "metadata": {},
   "outputs": [],
   "source": [
    "# Go to the parent directory\n",
    "os.chdir('..')\n",
    "print(\"Now we're in:\")"
   ]
  },
  {
   "cell_type": "markdown",
   "metadata": {},
   "source": [
    "The directory contents will show up as a list.  We can use list methods to locate specific files."
   ]
  },
  {
   "cell_type": "code",
   "execution_count": null,
   "metadata": {},
   "outputs": [],
   "source": [
    "#get the original directory contents\n",
    "dir_contents = os.listdir(original_dir)\n",
    "print(\", \".join(dir_contents))\n",
    "\n",
    "look_for = 'afile'\n",
    "print()\n",
    "print(f\"Is {look_for} in {original_dir}?\\n\\n  {'Yep' if look_for in dir_contents else 'Nope.'}\")"
   ]
  },
  {
   "cell_type": "code",
   "execution_count": null,
   "metadata": {},
   "outputs": [],
   "source": [
    "look_for in original_dir"
   ]
  },
  {
   "cell_type": "markdown",
   "metadata": {},
   "source": [
    "The file system is a zoo inhabited by many different beasts.  Everyone is familiar with files, directories, and subdirectories, of course.   But there are also sockets, symbolic links, mounts, streams, etc.  To the file system they're basically just objects.   You might care, so you can use **os.path** methods to find out.\n",
    "\n",
    "Here's how you can screen directory components:"
   ]
  },
  {
   "cell_type": "code",
   "execution_count": null,
   "metadata": {},
   "outputs": [],
   "source": [
    "print(\"Examining the contents of {}.\\n\".format(original_dir))\n",
    "\n",
    "# Get a copy of the dir_contents object that we can trash.\n",
    "sacrificial_dir_contents = dir_contents.copy()\n",
    "\n",
    "while True:\n",
    "    # pop() is handy for consuming a list.\n",
    "    try:\n",
    "        fs_object_name = sacrificial_dir_contents.pop()\n",
    "    except IndexError:   # We've exhausted the file contents\n",
    "        break\n",
    "    \n",
    "    # os.path.join() will always use the right path separator.\n",
    "    fs_object = os.path.join(original_dir, fs_object_name)\n",
    "\n",
    "    # These os.path methods can classify a file system object:\n",
    "    if os.path.isdir(fs_object):\n",
    "        label = 'dir'\n",
    "    if os.path.isfile(fs_object):\n",
    "        label = 'file'\n",
    "    if os.path.islink(fs_object):\n",
    "        label = 'link'\n",
    "    \n",
    "    print(label, fs_object_name)"
   ]
  },
  {
   "cell_type": "markdown",
   "metadata": {},
   "source": [
    "We can use **os.path** methods to query for existence of specific file system objects and create them if they don't already exist."
   ]
  },
  {
   "cell_type": "code",
   "execution_count": null,
   "metadata": {},
   "outputs": [],
   "source": [
    "#checking for a directory, creating if it's not there\n",
    "print(\"\\nIf you don't have a junk directory, let's make one.\\n\")\n",
    "look_for = 'junk'\n",
    "look_in = original_dir\n",
    "\n",
    "if not os.path.exists(os.path.join(look_in, look_for)):\n",
    "    os.mkdir(os.path.join(look_in, look_for))\n",
    "    \n",
    "#another way, using exceptions\n",
    "try:\n",
    "    os.mkdir(os.path.join(look_in, look_for))\n",
    "except:\n",
    "    pass\n",
    "\n",
    "# Success?\n",
    "if os.path.exists(os.path.join(look_in, look_for)):\n",
    "    print(f\"Yea!  {look_for} has been created in {look_in}!\")"
   ]
  },
  {
   "cell_type": "markdown",
   "metadata": {},
   "source": [
    "Many things you can do at the command line you can accomplish within Python.    Let's take look at what attributes and methods are available.  We'll create a little utility function to screen out stuff that we probably don't want to see."
   ]
  },
  {
   "cell_type": "code",
   "execution_count": null,
   "metadata": {},
   "outputs": [],
   "source": [
    "def screen_module(amodule):\n",
    "    clean = []\n",
    "    for name in dir(amodule):\n",
    "        if name[0].islower() and name[0] != '_':\n",
    "            clean.append(name)\n",
    "    clean_names = \", \".join(clean)\n",
    "    print(f\"Great stuff in {amodule}\\n\\n {clean_names}:\")\n",
    "\n",
    "screen_module(os)\n",
    "print()\n",
    "screen_module (os.path)"
   ]
  },
  {
   "cell_type": "markdown",
   "metadata": {},
   "source": [
    "File Metadata\n",
    "-------------\n",
    "\n",
    "You can retrieve file metadata using the **os.stat** method."
   ]
  },
  {
   "cell_type": "code",
   "execution_count": null,
   "metadata": {},
   "outputs": [],
   "source": [
    "os.chdir(original_dir)\n",
    "os.stat('afile')\n",
    "\n"
   ]
  },
  {
   "cell_type": "markdown",
   "metadata": {},
   "source": [
    "The output is pretty horrible to look at, and poorly-labeled, but here's\n",
    "a list of a few of the ones you'll need most:\n",
    "\n",
    "    st_ctime - time of creation\n",
    "    st_gid - group ID of owner\n",
    "    st_mode - protection bits\n",
    "    st_mtime - time of last modification\n",
    "    st_size - total size, in bytes\n",
    "    st_uid - user ID of owner\n",
    "\n",
    "You can access an individual element using its name - they are just attributes of the returned object. For instance, if you wanted the file size you could go:"
   ]
  },
  {
   "cell_type": "code",
   "execution_count": null,
   "metadata": {},
   "outputs": [],
   "source": [
    "os.stat('afile').st_size"
   ]
  },
  {
   "cell_type": "markdown",
   "metadata": {},
   "source": [
    "Pickle\n",
    "-------------------\n",
    "\n",
    "Python supports a native whole-object serialization protocol called **pickle.**  It can encode and decode intact objects like functions and classes into a form that can be saved to the hard drive. The **pickle** methods work in byte streams.\n",
    "\n",
    "Why would you want to work with bytes? For one thing, you can store your code very compactly. More importantly, you can stream byte code between applications or computers whereas you can't do that with Python objects.\n",
    "\n",
    "Another advantage is that serialized data is in a very predictable format. That makes life very easy on the interpreter. Let's say you have a huge data file that you read into a Python array for processing. If the file starts out life as a comma-delimited file, say, reading it is expensive because the interpreter has to figure out how large every piece is, convert it to a numeric data type, and put it into memory.\n",
    "\n",
    "If, on the other hand, the interpreter knows the geometry of the data and can \"mechanically\" ingest the pieces of it, very little processing has to happen – it just needs to be loaded into memory.\n",
    "\n",
    "In my experience a 2MB, csv-formatted file takes around 30 seconds to load on a decent laptop; a serialized version takes only about 0.5 seconds. Your mileage may vary, but you can bet on seeing some real performance differences[61].\n",
    "\n",
    "So how do we work this magic with pickle? Let's find out."
   ]
  },
  {
   "cell_type": "code",
   "execution_count": null,
   "metadata": {},
   "outputs": [],
   "source": [
    "\"\"\"quite a pickle\"\"\"\n",
    "import pickle\n",
    "\n",
    "#make an object\n",
    "obj = [ [1, 2, 3],\n",
    "        [4, 5, 5],\n",
    "        [7, 8, 9]\n",
    "      ]\n",
    "print(\"hey, we've got an object\")\n",
    "print(obj)"
   ]
  },
  {
   "cell_type": "code",
   "execution_count": null,
   "metadata": {},
   "outputs": [],
   "source": [
    "#open a binary file (remember, we're writing bytes)\n",
    "pickle_file = \"brine\"\n",
    "with open(pickle_file, 'wb') as f:\n",
    "    pickle.dump(obj, f)"
   ]
  },
  {
   "cell_type": "code",
   "execution_count": null,
   "metadata": {},
   "outputs": [],
   "source": [
    "# Let's kill the object to prove this works\n",
    "#    We could go obj = None; keeps the name, associates with None\n",
    "#    del is a top-level method to actually remove the object\n",
    "del obj \n",
    "try:\n",
    "    obj\n",
    "except NameError:\n",
    "    print(\"\\nno object here!\")\n",
    "\n",
    "with open(pickle_file, 'rb') as f:\n",
    "    recovered_obj = pickle.load(f)\n",
    "    \n",
    "#now, take a look\n",
    "print(\"\\nPresto, chango, here's our recovered object!\")\n",
    "print(recovered_obj)"
   ]
  },
  {
   "cell_type": "markdown",
   "metadata": {},
   "source": [
    "You can **pickle** multiple objects, but you have to do so individually.\n",
    "Here's how you might do it:"
   ]
  },
  {
   "cell_type": "code",
   "execution_count": null,
   "metadata": {},
   "outputs": [],
   "source": [
    "\"\"\"Quite a crowed pickle barrel\"\"\"\n",
    "import pickle\n",
    "\n",
    "# Make a few objects\n",
    "obj0 = [[1, 2, 3],\n",
    "        [4, 5, 5],\n",
    "        [7, 8, 9]\n",
    "       ]\n",
    "obj1 = \"howdy doody\"\n",
    "obj2 = set([33,43,53])\n",
    "\n",
    "# Serially store these objects\n",
    "pickle_file = \"spicy.pkl\"\n",
    "with open(pickle_file, 'wb') as f:\n",
    "    pickle.dump(obj0, f)\n",
    "    pickle.dump(obj1, f)\n",
    "    pickle.dump(obj2, f)"
   ]
  },
  {
   "cell_type": "code",
   "execution_count": null,
   "metadata": {},
   "outputs": [],
   "source": [
    "# Destroy the objects   \n",
    "obj = None; obj1 = None; ojb2 = None # not recommended\n",
    "\n",
    "# Serially recover the objects\n",
    "with open(pickle_file, 'rb') as f:\n",
    "    recovered_obj0 = pickle.load(f)\n",
    "    recovered_obj1 = pickle.load(f)\n",
    "    recovered_obj2 = pickle.load(f)\n",
    "    \n",
    "# Now, take a look\n",
    "print(\"Our objects survived recovery!\\n\")\n",
    "print(recovered_obj)\n",
    "print(recovered_obj1)\n",
    "print(recovered_obj2)"
   ]
  },
  {
   "cell_type": "markdown",
   "metadata": {},
   "source": [
    "While this works, sometimes it's more convenient to organize objects to be pickled in a **dict** object – this makes tracking them much easier.  \n",
    "\n",
    "Since we're storing, then recovering, the objects serially we need to keep track of the order.  The pickle object works on a strick \"first in, first out\" basis.\n",
    "\n",
    "Here is how you might apply this strategy. \n",
    "\n",
    "This example embeds a (potential)really big mistake. Can you spot it?"
   ]
  },
  {
   "cell_type": "code",
   "execution_count": null,
   "metadata": {},
   "outputs": [],
   "source": [
    "import pickle\n",
    "from datetime import datetime\n",
    "\n",
    "from datetime import datetime\n",
    "timestamp = f\"JUNK = {chr(39)}{datetime.now().strftime('%d, %b %Y')}{chr(39)}\"\n",
    "\n",
    "# Create one-line file then import an object from it\n",
    "with open('file_for_import.py', 'w') as junk:\n",
    "    junk.write(timestamp)     \n",
    "from file_for_import import JUNK\n",
    "\n",
    "pickle_file=\"dill.pkl\"\n",
    "# Make a few objects\n",
    "obj0 = [[1, 2, 3],\n",
    "        [4, 5, 5],\n",
    "        [7, 8, 9]\n",
    "       ]\n",
    "obj1 = \"howdy doody\"\n",
    "obj2 = set([33,43,53])\n",
    "\n",
    "# Make a dict to pickle:\n",
    "to_pickle={ 'obj0' : obj0,\n",
    "            'obj1': obj1,\n",
    "            'obj2': obj2,\n",
    "            'junk': JUNK\n",
    "            }\n",
    "\n",
    "# Pickle the dict then destroy it\n",
    "with open(pickle_file, 'wb') as f:\n",
    "    pickle.dump(to_pickle,f)"
   ]
  },
  {
   "cell_type": "code",
   "execution_count": null,
   "metadata": {},
   "outputs": [],
   "source": [
    "del to_pickle\n",
    "\n",
    "with open(pickle_file, 'rb') as f:\n",
    "    recovered = pickle.load(f)\n",
    "    \n",
    "print(\"Here is our recovered object:\")\n",
    "for k,v in recovered.items():\n",
    "    print(f\"{k}:  {v}\\n\")\n",
    "\n",
    "print(\"Now we can pick off an object by name:\\n\")\n",
    "print(recovered['junk'])"
   ]
  },
  {
   "cell_type": "code",
   "execution_count": null,
   "metadata": {},
   "outputs": [],
   "source": [
    "from datetime import datetime\n",
    "timestamp = f\"JUNK = {chr(39)}{datetime.now().strftime('%d, %b %Y')}{chr(39)}\"\n",
    "\n",
    "# Create one-line file from which we can import an object\n",
    "with open('file_for_import.py', 'w') as junk:\n",
    "    junk.write(timestamp)  \n",
    "\n",
    "    \n",
    "from file_for_import import JUNK\n",
    "JUNK"
   ]
  },
  {
   "cell_type": "markdown",
   "metadata": {},
   "source": [
    "The \"big mistake\" here involves the inclusion of JUNK in our file system object. The issue is that it's a value imported from another routine.  Safe enough if working alone, I imagine, but what if junk.py were being maintained by another team working long and hard on perfecting the value? Today it might be 777, but what if later it were refined to become 888? \n",
    "\n",
    "Our persistent object would have stale information and we might never know it. In fact, the pickle file does not even a path back to find where 777 came from in the first place. We certainly won't get warnings or error messages. \n",
    "\n",
    "Anyway, you can do this, but be careful."
   ]
  },
  {
   "cell_type": "markdown",
   "metadata": {},
   "source": [
    "## Shelve\n",
    "\n",
    "The shelve library builds on pickle and provides the keyword access to make a pickle archive \"random access\".\n",
    "\n",
    "To use it,\n",
    "one simply uses **shelve.open()** instead of the built-in version to\n",
    "create a file handle object. Then you can use the file handler just as\n",
    "you’d use a **dict**. \n",
    "\n",
    "\n",
    "Here’s an example:"
   ]
  },
  {
   "cell_type": "code",
   "execution_count": null,
   "metadata": {},
   "outputs": [],
   "source": [
    "import shelve\n",
    "treasured_object={\n",
    "                    'team': 'Cubs',\n",
    "                    'place': 'Wrigley',\n",
    "                    'f_and_b': {'food': 'red hots', 'bev': 'Old Style'}\n",
    "                    }\n",
    "\n",
    "print(\"Original\")\n",
    "print(\"treasured object is {}\".format(treasured_object))\n",
    "\n",
    "# Open a shelve file and drop an object into it using dict-like syntax.\n",
    "shelve_file='persistent_shelve.shlv'\n",
    "with shelve.open(shelve_file, writeback=True) as my_shelf:\n",
    "    my_shelf['treasure']=treasured_object\n",
    "    \n",
    "# Retrieve it using the same syntax.  \n",
    "with shelve.open(shelve_file, writeback=True) as my_shelf:\n",
    "    print(\"Shelve here!\")\n",
    "    print(\"treasured object is {}\".\n",
    "    format(my_shelf['treasure']))"
   ]
  },
  {
   "cell_type": "markdown",
   "metadata": {},
   "source": [
    "Pickle Caveats\n",
    "--------------\n",
    "\n",
    "You can't **pickle** everything. The objects have to be discrete and available globally to the module. Here's what can be pickled, strait from the docs[62]:\n",
    "\n",
    "-   **None**, **True**, and **False**\n",
    "\n",
    "\n",
    "-   integers, long integers, floating point numbers, complex numbers\n",
    "\n",
    "\n",
    "-   normal and Unicode strings\n",
    "\n",
    "\n",
    "-   **tuples**, **lists**, **sets**, and dictionaries containing only\n",
    "    picklable objects\n",
    "    \n",
    "\n",
    "-   functions defined at the top level of a module\n",
    "\n",
    "\n",
    "-   built-in functions defined at the top level of a module\n",
    "\n",
    "\n",
    "-   **class** objects that are defined at the top level of a module\n",
    "\n",
    "**pickle** is a Python-specific tool – pickled objects can't be deserialized on other platforms. \n",
    "\n",
    "Finally, since pickled objects can contain malicious code they are potentially vectors for infection. You don't want to accept persisted objects from any source you don't trust."
   ]
  },
  {
   "cell_type": "markdown",
   "metadata": {},
   "source": []
  },
  {
   "cell_type": "markdown",
   "metadata": {},
   "source": [
    "Other Serializers\n",
    "--------------\n",
    "\n",
    "While pickle is great at serializing and storing intact Python objects and data sets it's not at all human-friendly, nor are objects usable by other languages.  Its prime advantages are that it's fast and efficient.  \n",
    "It's also built into pandas and several data analytic packages.   For instance, if you train a model using sklearn (or most other packages), you'll save the trained model as a pickled object.\n",
    "\n",
    "Is efficiency important?  Of course it is.   As a practical matter, though, you'll want to consider whether readability and transparency are more important.   For smaller datasets or Python programs you'll hardly notice performance differences.   If you're ever going to want to read your file, you want to consider whether a few hundred milliseconds of computer time is more valuable than a few hours of your own time.\n",
    "\n",
    "For human-readable serialization, you have a few choices - all of which have roughly the same API (interface) as pickle does.   These include:\n",
    "\n",
    "    import xml   # Extended markup language, built-in\n",
    "    import json  # Javascript object notation, built-in\n",
    "    yaml         # Yet another markup language, not built-in, most human-readable IMHO\n",
    "    \n",
    "If you want yaml, you'll have to install if first with a command like one of these:\n",
    "    $ pip install yaml\n",
    "    # conda install yaml\n"
   ]
  },
  {
   "cell_type": "markdown",
   "metadata": {},
   "source": [
    "## Exercises:\n",
    "\n",
    "Please create three functions in the same module (file). Each will take two inputs. One file will add the numbers, another will multiply and the third will subtract them.\n",
    "\n",
    "Destroy the three functions then recreate them from the serialized files. Verify that they still work as well as the original ones.\n"
   ]
  },
  {
   "cell_type": "markdown",
   "metadata": {},
   "source": [
    "Classes in Python\n",
    "=================\n",
    "\n",
    "Classes are where the rubber meets the road. It's here that all the concepts we've discussed to date coalesce in to useful, reusable programming product. The real power of class objects stems from the fact that Python (like most modern languages) is designed to be \"object oriented.\" But what does that really mean?\n",
    "\n",
    "Object-oriented languages are built on three tenants:\n",
    "\n",
    "-   Polymorphism\n",
    "\n",
    "\n",
    "-   Inheritance\n",
    "\n",
    "\n",
    "-   Encapsulation\n",
    "\n",
    "We'll now discuss each in more detail."
   ]
  },
  {
   "cell_type": "markdown",
   "metadata": {},
   "source": [
    "Polymorphism\n",
    "------------\n",
    "\n",
    "This is the notion that there can be one interface to the world which, from the user's perspective, is the same for accomplishing many things.  The question of just what gets performed and how happens \"under the hood\" with the user blissfully unaware. We've already encountered that with respect to the \"+\" operator."
   ]
  },
  {
   "cell_type": "code",
   "execution_count": null,
   "metadata": {},
   "outputs": [],
   "source": [
    "\"abc\" + \"bcd\""
   ]
  },
  {
   "cell_type": "code",
   "execution_count": null,
   "metadata": {},
   "outputs": [],
   "source": [
    "1 + 2"
   ]
  },
  {
   "cell_type": "code",
   "execution_count": null,
   "metadata": {},
   "outputs": [],
   "source": [
    "complex(3,4) + complex(4,4)"
   ]
  },
  {
   "cell_type": "code",
   "execution_count": null,
   "metadata": {},
   "outputs": [],
   "source": [
    "[3,4,5] + [7,8,9]"
   ]
  },
  {
   "cell_type": "markdown",
   "metadata": {},
   "source": [
    "Google is another example, writ large. A single input window unleashes unbelievable computing horsepower, access to petabytes of indexed information (and targeted ads, but oh well). And who knows what happens when you hit the \"Search\" button?"
   ]
  },
  {
   "cell_type": "code",
   "execution_count": null,
   "metadata": {},
   "outputs": [],
   "source": [
    "Google is another example, writ large. A single input window unleashes unbelievable computing horsepower, access to petabytes of indexed information (and targeted ads, but oh well). And who knows what happens when you hit the \"Search\" button"
   ]
  },
  {
   "cell_type": "markdown",
   "metadata": {},
   "source": [
    "Inheritance\n",
    "-----------\n",
    "\n",
    "Inheritance is the idea that you can create related objects by separating what they have in common from how they differ. That way, all the common elements can exist in one and only one place. And the differentiating element can exist more locally – again in one and only one place.\n",
    "\n",
    "We've already encountered this in examining the exception hierarchy, repeated here:\n",
    "\n",
    "    +-- BaseException\n",
    "    +-- Exception\n",
    "    +-- StopIteration\n",
    "    +-- StopAsyncIteration\n",
    "    +-- ArithmeticError\n",
    "        | +-- FloatingPointError\n",
    "        | +-- OverflowError\n",
    "        | +-- ZeroDivisionError\n"
   ]
  },
  {
   "cell_type": "markdown",
   "metadata": {},
   "source": [
    "All **Exception** objects \"inherit\" the characteristics of the **BaseException** – that's where all the boilerplate and housekeeping lives. All the exceptions e.g., **ArithmeticError** inherit the characteristics of **Exception** and add their own special sauce.  Further down the line, the **OverflowError** inherits everything that the **ArithmeticError** has and further specializes.\n",
    "\n",
    "We've seen this already in a really simple form we created a custom class:"
   ]
  },
  {
   "cell_type": "code",
   "execution_count": null,
   "metadata": {},
   "outputs": [],
   "source": [
    "class WombatException(Exception):\n",
    "    def __str__(self):\n",
    "        return(\"Wombat!\")"
   ]
  },
  {
   "cell_type": "markdown",
   "metadata": {},
   "source": [
    "In so doing, we inherited from Exception then overrode any existing\n",
    "**\\_\\_str\\_\\_** method – that's the one that **print** uses – to make it\n",
    "print out the message.\n",
    "\n",
    "I recognize that all this is a bit abstract so far, so let's jump into some code and see what we can do. We can start with something simple.  Here's how we can make a class, inherit from it (create a \"subclass\"), and create a specific instance."
   ]
  },
  {
   "cell_type": "code",
   "execution_count": null,
   "metadata": {},
   "outputs": [],
   "source": [
    "class SuperSimple:\n",
    "    a = 1\n",
    "    \n",
    "class SuperSimpleSubclassed(SuperSimple):\n",
    "    pass\n",
    "\n",
    "s = SuperSimpleSubclassed()\n",
    "\n",
    "print(\"free variable 'a' is {}\".format(s.a))"
   ]
  },
  {
   "cell_type": "markdown",
   "metadata": {},
   "source": [
    "As you can see the instance **SuperSimpleSubclassed**, 's', contains the object 'a' which came along for the ride from **SuperSimple**. It's a common practice to have a base class of some sort – this will contain fundamental functionality and boilerplate code that will become available to all subordinate classes. Here's a slightly more complicated example of a base class:\n"
   ]
  },
  {
   "cell_type": "code",
   "execution_count": null,
   "metadata": {},
   "outputs": [],
   "source": [
    "#A base class\n",
    "class BaseClass:\n",
    "    def __init__(self):\n",
    "        print(\"BaseClass __init__()\")\n",
    "        \n",
    "    def shout_out(self):\n",
    "        print('\\nYo! from BaseClass\\n')\n",
    "        \n",
    "    def print_something(self, thing):\n",
    "        print(\"\\n{} from BaseClass \\n\".format(thing))\n",
    "        \n",
    "base = BaseClass()\n",
    "base1 = BaseClass()\n",
    "base.shout_out()"
   ]
  },
  {
   "cell_type": "markdown",
   "metadata": {},
   "source": [
    "Here, we've created two subclasses, **base** and **base1**. These are independent objects which have their own namespaces. The result is that each has its own copy of **shout\\_out** and **print\\_something**. Now, if we want to extend this class the process is simple. \n",
    "\n",
    "We inherit from it and add a new method **hello\\_child**. We also replace the parent class' **\\_\\_init\\_\\_** method by including a new method of the same name. In case like this, we may well want to retain access to the parent class' method. \n",
    "\n",
    "We can do so easily by invoking the **super** method. In **ChildClass** we execute it to ensure anything introduced into the namespace by the parent class is also available to the child class."
   ]
  },
  {
   "cell_type": "code",
   "execution_count": null,
   "metadata": {},
   "outputs": [],
   "source": [
    "class ChildClass(BaseClass):\n",
    "    \"simple inheritance, executing parent class __init__()\"\n",
    "    def __init__(self):\n",
    "        print(\"ChildClass __init__()\")\n",
    "        super().__init__()\n",
    "\n",
    "    def hello_child(self):\n",
    "        print(\"hello from ChildClass\")\n",
    "\n",
    "# This directly calls ChildClass.__init__() and indirectly BaseClass.__init__()\n",
    "kid = ChildClass()"
   ]
  },
  {
   "cell_type": "code",
   "execution_count": null,
   "metadata": {},
   "outputs": [],
   "source": [
    "# The kid object is an instance of ChildClass\n",
    "kid.hello_child()"
   ]
  },
  {
   "cell_type": "markdown",
   "metadata": {},
   "source": [
    "Unlike many languages Python supports multiple inheritance. This makes it easy to \"cherry pick\" objects from already-developed code, even from disparate sources. \n",
    "\n",
    "Here's an example:"
   ]
  },
  {
   "cell_type": "code",
   "execution_count": null,
   "metadata": {},
   "outputs": [],
   "source": [
    "class AnotherClass:\n",
    "    def print_something(self, thing):\n",
    "        print(\"AnotherClass is printing {}\\n\".format(thing))\n",
    "        \n",
    "class ComboClass1(BaseClass, AnotherClass):\n",
    "    def __init__(self):\n",
    "        #when methods have same name, leftmost is preferred\n",
    "        self.print_something('something')\n",
    "\n",
    "class ComboClass2(AnotherClass , BaseClass):\n",
    "    def __init__(self):\n",
    "        self.print_something('something')"
   ]
  },
  {
   "cell_type": "markdown",
   "metadata": {},
   "source": [
    "Python automatically resolves any conflict between methods of the same name which may exist in multiple inherited classes. The left-most method trumps the others, so to change the behavior all one has to do is switch the order."
   ]
  },
  {
   "cell_type": "code",
   "execution_count": null,
   "metadata": {},
   "outputs": [],
   "source": [
    "combo = ComboClass1()"
   ]
  },
  {
   "cell_type": "code",
   "execution_count": null,
   "metadata": {},
   "outputs": [],
   "source": [
    "combo = ComboClass2()"
   ]
  },
  {
   "cell_type": "markdown",
   "metadata": {},
   "source": [
    "It's possible to \"overload\" arithmetic operators by replacing built-in methods like **\\_\\_add\\_\\_** and **\\_\\_mul\\_\\_**. Just for fun, here's how you could create a new version of the **str** object to override how it handles the \"+\" sign[63]:"
   ]
  },
  {
   "cell_type": "code",
   "execution_count": null,
   "metadata": {},
   "outputs": [],
   "source": [
    "class newStr(str):\n",
    "    def __init__(self, value):\n",
    "        self.value = value\n",
    "\n",
    "    def __add__(self, other):\n",
    "        return \"{}+{}\".format(str(self.value), str(other ))\n",
    "\n",
    "s = newStr('hello')\n",
    "s"
   ]
  },
  {
   "cell_type": "code",
   "execution_count": null,
   "metadata": {},
   "outputs": [],
   "source": [
    "news = s + 444\n",
    "news * 4"
   ]
  },
  {
   "cell_type": "markdown",
   "metadata": {},
   "source": [
    "Only the '+' operator is overridden – the new object retains all of the other behaviors associated with the built-in **str** object.\n",
    "\n",
    "Let's put all this together, examining some issues around variable scoping and \"ownership\" among the different objects. Here's some intact code, followed by a breakdown of the important bits of it:"
   ]
  },
  {
   "cell_type": "code",
   "execution_count": null,
   "metadata": {},
   "outputs": [],
   "source": [
    "# py_animal_class.py\n",
    "\n",
    "class Animal:\n",
    "    # Class variable (in class namespace)\n",
    "    tricks = [\"jumping\", \"playing dead\", \"rolling over\", \"walking backwards\"]\n",
    "\n",
    "    def __init__(self, name, species, age, fav_food):\n",
    "        \"Variables with 'self.' belong individually to each instance.)\"\n",
    "        self.name = name\n",
    "        self.species = species\n",
    "        self.__dict__[\"age\"] = age  # alternative to self.age = age\n",
    "        self.fav_food = fav_food\n",
    "        self.stomach = []\n",
    "\n",
    "    def __str__(self):\n",
    "        \" This is what print() uses.\"\n",
    "        fstr = \"Hi, I'm {}, a {} who loves {}!\\n\"\\\n",
    "            \"And I know how to all these things: {}!\\n\"\n",
    "        return fstr.format(self.name, self.species,\n",
    "                           self.fav_food,\n",
    "                           \" and \".join(self.tricks))\n",
    "\n",
    "    def __repr__(self):\n",
    "        \" This is what the REPL uses.\"\n",
    "        return f\"Animal(name={self.name}, species={self.species})\""
   ]
  },
  {
   "cell_type": "markdown",
   "metadata": {},
   "source": [
    "We created Animal by using the keyword **class**.\n",
    "\n",
    "    class Animal: \n",
    "\n",
    "Because \"Animal\" is not followed by any arguments it has not inherited from any other **class** –we're starting with a clean slate.\n",
    "\n",
    "Next, we have a \"top level\", global-to-**Animal** variable defined."
   ]
  },
  {
   "cell_type": "code",
   "execution_count": null,
   "metadata": {},
   "outputs": [],
   "source": [
    "\n",
    "tricks = [\"jumping\", \"playing dead\",\"rolling over\", \"walking backwards\"]"
   ]
  },
  {
   "cell_type": "markdown",
   "metadata": {},
   "source": [
    "\n",
    "\n",
    "This variable's scope is such that it's visible to any of the class methods (\"functions\" when standing alone) within **Animal**.\n",
    "\n",
    "Right below, we see the first instance of a method beginning with a \"dunder.\""
   ]
  },
  {
   "cell_type": "code",
   "execution_count": null,
   "metadata": {},
   "outputs": [],
   "source": [
    "def __init__(self, name, species, age, fav_food):\n",
    "    \" The instance initializer.\""
   ]
  },
  {
   "cell_type": "markdown",
   "metadata": {},
   "source": [
    "\n",
    "\n",
    "The special name **\\_\\_init\\_\\_** signals the interpreter that this method needs to run when a new instance of the class is created.\n",
    "\n",
    "Note that the constructor (and the constructors for all the methods) have \"self\" as the first argument. That's a stand-in for \"this particular instance of **Animal** – having nothing to do with any other instance of **Animal**.\" In other words \"self\" refers a specific manifestation of the general class **Animal**[64]. You can see it in use in each of the next several statements.\n",
    "\n",
    "Variables like **self.name** and **self.species** are assigned for this particular instance based on the input arguments provided when an instance is created, as it might be with a statement like:"
   ]
  },
  {
   "cell_type": "code",
   "execution_count": null,
   "metadata": {},
   "outputs": [],
   "source": [
    "# Make us a dawg and create an introduction with the __str__() method\n",
    "mypet = Animal(\"Fang\", \"dog\", 10, \"steak\")\n",
    "print(mypet)"
   ]
  },
  {
   "cell_type": "code",
   "execution_count": null,
   "metadata": {},
   "outputs": [],
   "source": [
    "# Create a cat with the same hobbies as the dog.\n",
    "neighbor_cat = Animal(\"Fluffy\", \"cat\", 1, \"mice\")\n",
    "print(neighbor_cat)"
   ]
  },
  {
   "cell_type": "code",
   "execution_count": null,
   "metadata": {},
   "outputs": [],
   "source": [
    "# Override an attribute of the Animal instance that we call \"Fluffy\"\n",
    "print(f\"Original cat tricks and food: {neighbor_cat.tricks} / {neighbor_cat.fav_food}\")\n",
    "\n",
    "# This creates the overrides\n",
    "neighbor_cat.tricks = ['tangling yarn', 'throwing kitty litter']\n",
    "neighbor_cat.fav_food = 'rats'\n",
    "\n",
    "print(f\"Alternative cat tricks and food: {neighbor_cat.tricks} / {neighbor_cat.fav_food}\")"
   ]
  },
  {
   "cell_type": "code",
   "execution_count": null,
   "metadata": {},
   "outputs": [],
   "source": [
    "# Override an attribute of the Animal instance that we call \"Fang\"\n",
    "print(f\"Original dog tricks: {mypet.tricks} / {mypet.fav_food}\")\n",
    "\n",
    "# This creates the override\n",
    "mypet.tricks = ['gnawing mailman', 'howling @ moon']\n",
    "\n",
    "print(f\"Alternative dog tricks: {mypet.tricks} / {mypet.fav_food}\")"
   ]
  },
  {
   "cell_type": "markdown",
   "metadata": {},
   "source": [
    "As you can see the two Animal instances have complete independence from one another.  Sort of.\n",
    "\n",
    "If you look carefully at the class definition, you'll see that the fav_food is defined in the __init__() method as a member of the \"self\" namespace:  \n",
    "\n",
    "    self.fav_food = fav_food\n",
    "\n",
    "So that means that my_pet.fav_food is a separate object from neighbor_cat.fav_food.\n",
    "\n",
    "It's another story altogether with tricks.  This is defined as a member of the Animal class:\n",
    "\n",
    "    class Animal:\n",
    "        tricks = [\"jumping\", \"playing dead\", \"rolling over\", \"walking backwards\"]\n",
    "        \n",
    "The result is that the default value for tricks is just what's defined in the class.  For any instance, we can do a 'hard override' on this default by specifying a different value for an instance like this:\n",
    "\n",
    "    mypet.tricks = ['gnawing mailman', 'howling @ moon']\n",
    "    \n",
    "Which forcefully imposes a different attribute va;ue on the instance.   If we fail to do so, our dog is stuck with the class-level behaviors forever.   One way to think of this is:   absent imposing a different value, the instance's value is linked to the class's value.\n",
    "\n",
    "Here's an example:\n"
   ]
  },
  {
   "cell_type": "code",
   "execution_count": null,
   "metadata": {},
   "outputs": [],
   "source": [
    "# Here's another cat.\n",
    "another_cat = Animal(\"Snarly\", \"cat\", 100, \"catnip\")\n",
    "another_cat.tricks"
   ]
  },
  {
   "cell_type": "code",
   "execution_count": null,
   "metadata": {},
   "outputs": [],
   "source": [
    "# Change the tricks at the class level.\n",
    "Animal.tricks = ['Tired of doing tricks!']"
   ]
  },
  {
   "cell_type": "code",
   "execution_count": null,
   "metadata": {},
   "outputs": [],
   "source": [
    "another_cat.tricks"
   ]
  },
  {
   "cell_type": "markdown",
   "metadata": {},
   "source": [
    "What happened is that the instance's bag of tricks changed - even after the instance was created!   That's because of the linkage back to the class variable.\n",
    "\n",
    "The moral of the story is that you need to be aware of scope and the effect of changes.\n",
    "\n",
    "Note that Python is very cavalier about how you can change attributes.  It's very much of a \"responsible adults can do what they want\" approach.   So, as we've seen, Python will let you:\n",
    "\n",
    "    Change class-level attributes at will\n",
    "    Update instance-level attributes at will\n",
    "    \n",
    "And, you can even add attributes not initially assigned.  Watch this:"
   ]
  },
  {
   "cell_type": "code",
   "execution_count": null,
   "metadata": {},
   "outputs": [],
   "source": [
    "another_cat.reaction = \"Yikes\"\n",
    "another_cat.eyes = \"Crossed\"\n",
    "print(f\"This cat has {another_cat.eyes} eyes.  {another_cat.reaction}!\")\n"
   ]
  },
  {
   "cell_type": "code",
   "execution_count": null,
   "metadata": {},
   "outputs": [],
   "source": []
  },
  {
   "cell_type": "code",
   "execution_count": null,
   "metadata": {},
   "outputs": [],
   "source": [
    "tricks = [\"xxx\"]\n",
    "print(f\"Alternative dog tricks: {mypet.tricks} / {mypet.fav_food}\")"
   ]
  },
  {
   "cell_type": "markdown",
   "metadata": {},
   "source": [
    "Encapsulation\n",
    "-------------\n",
    "\n",
    "Encapsulation is the notion that there is one and only one way to access an object. \n",
    "\n",
    "The idea is that objects are atomic, but they have a specific context – and you're supposed to interact with them \"by the rules.\" For example, some languages use getters and setters to interact with a class' attributes and enforce that interaction. That way there are specific points of contact that serve as gateways. As another example, methods (\"verbs\") within a class are only accessible within the context of the class.\n",
    "\n",
    "Python naturally supports encapsulation by \"hiding\" variables within the namespaces of different structures like functions, inner functions, classes, and modules. A further level of control can be exercised by employing \"getters\" and \"setters\" to control access to instance variables. Note that Python has no such requirement but sometimes it's a good idea to lock things down further.\n",
    "\n",
    "To accomplish this, Python employs a special \"decorator[65]\" called **property**. Decorators are methods that take the decorated object as an argument – essentially swallowing the decorated object, much as the print function can swallow another function using its output as an argument as in this example:\n",
    "\n",
    "    print(\"hello world\".upper())\n",
    "\n",
    "In the following example we define two methods, both named after a variable we want to manage **val**. \n",
    "\n",
    "The idea is that if **val** is requested, the method under **@property** is executed. If there's an attempt to change **val**, the method under **@val.setter** is executed.  \n",
    "\n",
    "Here, we're using the **setter** to screen out assignment of inappropriate object types – we're accepting only integer values."
   ]
  },
  {
   "cell_type": "code",
   "execution_count": null,
   "metadata": {},
   "outputs": [],
   "source": [
    "class GetSet:\n",
    "    def __init__(self):\n",
    "        self._val = None\n",
    "    \n",
    "    @property\n",
    "    def val(self):\n",
    "        return self._val\n",
    "\n",
    "    @val.setter\n",
    "    def val(self, value):\n",
    "        if isinstance(value, int):\n",
    "            self._val = value\n",
    "            print(\"OK. Thanks for giving me \" + str(value))\n",
    "        else:\n",
    "            print(\"Sorry, I'm looking for an integer but you gave me \" + str(value))\n"
   ]
  },
  {
   "cell_type": "code",
   "execution_count": null,
   "metadata": {},
   "outputs": [],
   "source": [
    "# Make an instance of GetSet and provide a value\n",
    "gs = GetSet()\n",
    "gs.val = 3"
   ]
  },
  {
   "cell_type": "code",
   "execution_count": null,
   "metadata": {},
   "outputs": [],
   "source": [
    "gs.val = \"aardvark!\""
   ]
  },
  {
   "cell_type": "markdown",
   "metadata": {},
   "source": [
    "The reason this works is that we've introduced a fake variable here '_val' (this is called \"name mangling\").  You'll see that it's introduced as 'self._val' in the __init__() method.   This is the variable that carries the real payload.\n",
    "\n",
    "When we want to interact with variable exposed to the outside world 'val', our decorated class methods by the same name intercept the request.\n",
    "\n",
    "If the interaction is merely a request for the current value, we return the internal 'self._val'.\n",
    "\n",
    "If the interaction makes an attempt to change the value, we subject the request to thorough interrogation.  Only after it passes muster do we pass the new value to the internal 'self_val' variable.\n",
    "\n",
    "This provides some \"soft\" protection against outside code changing attributes.   It's not remotely like security against malicious code or an overly-confident programmer.   In fact, by convention any attribute that begins with a single- or double-underscore is named as a warning to other coders that it's intended for internal use only."
   ]
  },
  {
   "cell_type": "markdown",
   "metadata": {},
   "source": [
    "Regular Expressions\n",
    "===================\n",
    "\n",
    "Regular expressions (also known as REs or regexes) offer a very low-level way to process text, very efficiently.  Regexes have been around for about as long as computing - in fact they're the \"re\" in the ubiquitous grep (short for global regular expression print).\n",
    "\n",
    "You'll run into them as a matter of course in Perl and Django URL resolvers. They can be used for search expressions in Vi/Vim, VSCode.  You can even use them in Pandas to conduct cell- or column-wise wrangling on text columns.\n",
    "\n",
    "While powerful, the offer some of the least transparent, horrifically-hard-to-read statements ever. IMHO, anyway. So we'll build up gradually and your confidence in using them should materialize quickly.\n",
    "\n",
    "Python support is contained in the **re** library, and in the normal **help** facility. \n",
    "\n",
    "A really excellent online resource can be found at https://regex101.com/#python. It provides an interactive way to build your regex, test it against a string, view matches.   Best of all it provides a breakdown of exactly what each step of your regex is doing."
   ]
  },
  {
   "cell_type": "markdown",
   "metadata": {},
   "source": [
    "Begin at the beginning\n",
    "----------------------\n",
    "\n",
    "For starters, let's just look for a string inside another string. For this you need a regex string to describe what you're looking for and another string to search."
   ]
  },
  {
   "cell_type": "code",
   "execution_count": null,
   "metadata": {},
   "outputs": [],
   "source": [
    "import re\n",
    "\n",
    "# Our regular expresion 'regex' is the string we're looking for.\n",
    "regex = r'x'       # 'r' means don't escape any characters.\n",
    "target = r'Texas'\n",
    "\n",
    "# Use the search() method to do a simple search\n",
    "result = re.search(regex, target)\n",
    "\n",
    "if result:\n",
    "    print(\"Yay! {} found..\".format(regex))\n",
    "    print(\"The found object is: {}.\".format(result))"
   ]
  },
  {
   "cell_type": "markdown",
   "metadata": {},
   "source": [
    "As you can see, this returned a **SRE\\_Match** object. The fact that it returned anything means that we hit pay dirt by finding at least one match."
   ]
  },
  {
   "cell_type": "markdown",
   "metadata": {},
   "source": [
    "Character Sets\n",
    "--------------\n",
    "\n",
    "If you want to look for any one of a bunch of characters, you can use what's known as a \"character set.\" It's just a string that includes surrounding square brackets. \n",
    "\n",
    "Any of these work: \n",
    "\n",
    "    r'[abc]'  r'[12345]'  r'[1-4]' \n",
    "\n",
    "Here are some examples:"
   ]
  },
  {
   "cell_type": "code",
   "execution_count": null,
   "metadata": {},
   "outputs": [],
   "source": [
    "regex =  r\"[0123456789]\" , #all digits\n",
    "\n",
    "# Here are some alternatives, some ideomatic\n",
    "\n",
    "alternatives = [ r\"[0-9]\",              #shorthand for all digits\n",
    "                 r\"[abc]\" ,             #any of a, b, or c\n",
    "                 r\"[abc] [abc] [abc]\",  #3 consecutive letters; each any of  a or b or c\n",
    "                 r\"[^0-9]\",             #NOT a digit (the ^ in first position negates\n",
    "               ]\n"
   ]
  },
  {
   "cell_type": "code",
   "execution_count": null,
   "metadata": {},
   "outputs": [],
   "source": [
    "import re\n",
    "\n",
    "def test_regex(regex_list, target_list):\n",
    "    \"Quick test for regex matches, takes two lists.\"\n",
    "    print(f\"{'Regex':>20}       {'Result':<50}\")\n",
    "    print()\n",
    "    \n",
    "    for r in regex_list:\n",
    "        for t in target_list:\n",
    "            result = re.search(r, t)\n",
    "            if result:\n",
    "                print(f\"{r:>20} {'.'*3} ** matched with {t:<50}\")\n",
    "            else:\n",
    "                print(f\"{r:>20} {'.'*3} failed with {t:<50}\")\n",
    "            del result\n",
    "        print()"
   ]
  },
  {
   "cell_type": "code",
   "execution_count": null,
   "metadata": {},
   "outputs": [],
   "source": [
    "# Here are a few targets - we'll test these against all our regex expressions.\n",
    "target = (r'Texas', r'123', r\"a\", r\"abc\")\n",
    "\n",
    "# Invoke the test\n",
    "test_regex(list(regex) + alternatives, target)"
   ]
  },
  {
   "cell_type": "markdown",
   "metadata": {},
   "source": [
    "Special Symbols\n",
    "---------------\n",
    "\n",
    "This is pretty easy so far, right? \n",
    "\n",
    "Regular expressions use a lot of special characters which are shorthand for matching rules. You've got to escape them with the \"\\\\\" if you intend to use them literally. \n",
    "\n",
    "We'll visit them pretty soon, but for now, here they are:\n",
    "\n",
    "     [ ] ( ) { } + * ? $ ^ . "
   ]
  },
  {
   "cell_type": "markdown",
   "metadata": {},
   "source": [
    "Shortcuts\n",
    "---------\n",
    "\n",
    "Since people are looking for the same strings all the time there are some clichés / shortcuts available. The general form is a slash followed by a letter. If the letter is lower case, it's an \"affirmative\" search; if upper case, it's a \"negative\" search.   Note the symmetry between the upper- and lower-case strings.\n",
    "\n",
    "Here are a few:\n",
    "\n",
    "|                           |                                    |\n",
    "|---------------------------|------------------------------------|\n",
    "| \\\\w any digit or letter   | \\\\W anything but a digit or letter |\n",
    "| \\\\d any digit             | \\\\D anything but a digit           |\n",
    "| \\\\s any whitespace        | \\\\S anything but a whitespace      |\n",
    "| . (a dot) anything        |                                    |\n",
    "| ^ match only at beginning | \\$ match only at the end           |\n",
    "\n",
    "Additionally, there are shortcuts that keep you from repeating bits of your regex string when you're looking for multiple instances of the same thing. \n",
    "\n",
    "Here are some shorthand expressions for specific quantities:\n",
    "\n",
    "        \\*     0 or more\n",
    "\n",
    "        ?      0 or 1\n",
    "\n",
    "        +      1 or more\n",
    "\n",
    "        {x}    Exactly x\n",
    "\n",
    "        {x,y}  Between x and y, inclusive of x and y\n",
    "\n",
    "        {x, }  X or more\n",
    "\n",
    "Here are some examples:"
   ]
  },
  {
   "cell_type": "code",
   "execution_count": null,
   "metadata": {},
   "outputs": [],
   "source": [
    "import re\n",
    "regex = (   r\"cu\" ,     #'cu'\n",
    "            r\"0{\\d4}\",  #4 digits\n",
    "            r\"x{1,3}\" , #1,2, or 3 'x'\n",
    "            r\"0{2,}\",   #2 or more zeros\n",
    "            r\"\\W+\",     #contains at least one #non alphanumeric\n",
    "        )\n",
    "\n",
    "target = (r'Chicago Cubs', \n",
    "          r'1000000 dollars',\n",
    "          r\"xxxooo\", \n",
    "          r\"$2500K\")\n",
    "\n",
    "test_regex(regex, target)"
   ]
  },
  {
   "cell_type": "markdown",
   "metadata": {},
   "source": [
    "Match objects and compiled regexes\n",
    "----------------------------------\n",
    "\n",
    "It's possible to compile your regex to increase performance – this is especially useful if you plan to use it thousands of times because it doesn't have to happen \"on demand\" each time.\n",
    "\n",
    "You can query the match objects to find starting and ending positions.  This is useful if you want to use indices to retrieve content around particular phrases.\n",
    "\n",
    "The following example demonstrates some of the information you can retrieve and the use of **re.compile**:"
   ]
  },
  {
   "cell_type": "code",
   "execution_count": null,
   "metadata": {},
   "outputs": [],
   "source": [
    "import re\n",
    "\n",
    "# Set our regex and target strings.\n",
    "regex = r\"Cubs\"\n",
    "target = r'Chicago Cubs'\n",
    "\n",
    "# This step complies the regex.\n",
    "compiled = re.compile(regex)\n",
    "\n",
    "# The complied version has the same API as the re library\n",
    "result = compiled.search(target)\n",
    "\n",
    "if result:\n",
    "    print(\"{:10} matched with {:10}.\" \\\n",
    "    .format(target, regex))\n",
    "    print(\"span\", result.span())\n",
    "    print(\"start\", result.start())\n",
    "    print(\"end\", result.end())"
   ]
  },
  {
   "cell_type": "markdown",
   "metadata": {},
   "source": [
    "Finally, I'd like to point out that re has a **VERBOSE** mode that allows you to stretch complicated expressions (yes, they can get really complicated) across several lines. When you do so, it's possible to provide comments to help your teammates decipher just what it's intended to do.\n",
    "\n",
    "Here's an example borrowed from *Dive into Python* [67], to illustrate its use. This regex is used to validate Roman numerals."
   ]
  },
  {
   "cell_type": "code",
   "execution_count": null,
   "metadata": {},
   "outputs": [],
   "source": [
    "pattern = \"\"\"\n",
    "            ^ # beginning of string\n",
    "            \n",
    "            M{0,4}           # thousands - 0 to 4 M's\n",
    "            (CM|CD|D?C{0,3}) # hundreds - 900 (CM), 400 (CD),\n",
    "                             # 0-300 (0 to 3 C's), or 500-800\n",
    "                             # (D, followed by 0 to 3 C's)\n",
    "                             \n",
    "            (XC|XL|L?X{0,3}) # tens - 90 (XC), 40 (XL), 0-30\n",
    "                             # (0 to 3 X's),\n",
    "                             # or 50-80 (L, followed by 0 to 3\n",
    "                             # X's)\n",
    "                             \n",
    "            (IX|IV|V?I{0,3}) # ones - 9 (IX), 4 (IV), 0-3\n",
    "                             # (0 to 3 I's), or 5-8 (V,\n",
    "                             # followed by 0 to 3 I's)\n",
    "                             \n",
    "            $                # end of string\n",
    "            \"\"\"\n",
    "\n",
    "re.search(pattern, 'M', re.VERBOSE)"
   ]
  },
  {
   "cell_type": "markdown",
   "metadata": {},
   "source": [
    "Substitution\n",
    "------------\n",
    "\n",
    "You can use regexes to do string substitutions using the **re.sub** method. Here's an example:"
   ]
  },
  {
   "cell_type": "code",
   "execution_count": null,
   "metadata": {},
   "outputs": [],
   "source": [
    "# Set up a search expression, the new value and a target and target string.\n",
    "regex = 'cubs'\n",
    "change_to = \"CUBS\"\n",
    "target = \"\"\"If the cubs actually win again, will they still be the cubs?'\n",
    "\n",
    "# Invoke the re.sub() method\n",
    "result = re.sub(regex, change_to, target)\n",
    "if result:\n",
    "    print(result)"
   ]
  },
  {
   "cell_type": "markdown",
   "metadata": {},
   "source": [
    "## Exercise\n",
    "\n",
    "Please write a regex that will convert credit card numbers from their original form (4-four digit numbers) to a safer form like xxxx-xxxx-xxxx-3423. Feel free to use regex101.com or any other resource."
   ]
  },
  {
   "cell_type": "markdown",
   "metadata": {},
   "source": [
    "Testing\n",
    "============\n",
    "\n",
    "There are several ways to test Python code.  There's \"end to end testing\" that includes what's displayed in the front end.  Performance testing may apply speed tests when the goal is to meet efficiency standards.  Doctests embed logic testing right into the code.  \n",
    "\n",
    "We focus here on unit testing with the built-in unittest library.  \n",
    "\n",
    "Unit testing is, aside from learning how to work with Python’s **help**\n",
    "utility, the most important topic to take away from this course, IMHO.\n",
    "In this world of agile development, globally-distributed development\n",
    "teams, and collaborative maintenance of large open source projects, you\n",
    "really need to having clean, reliable, working code available 24/7. The\n",
    "material presented here will teach you the fundamentals of test driven\n",
    "development and Python's unit testing implementation\\[13\\]."
   ]
  },
  {
   "cell_type": "markdown",
   "metadata": {},
   "source": [
    "Why unit testing?\n",
    "\n",
    "- Overcome presumption of shlock\n",
    "    \n",
    "    \n",
    "- Clarify specifications\n",
    "    \n",
    "    \n",
    "- Isolate distant issues quickly\n",
    "    \n",
    "    \n",
    "- Think through corner conditions\n",
    "    \n",
    "    \n",
    "- Encourages atomic, testable code\n",
    "    \n",
    "    \n",
    "- Collaboration\n",
    "\n",
    "\n",
    "- Sleep !"
   ]
  },
  {
   "cell_type": "markdown",
   "metadata": {},
   "source": [
    "Test-Driven Development\n",
    "-----------------------\n",
    "\n",
    "In its purest form, test-driven development (TDD) demands that the first\n",
    "step in any project is to write the tests needs to pass before it’s\n",
    "deemed complete. In other words, the tests form a contract between the\n",
    "product owner and the programming team. The code passes all the tests or\n",
    "it doesn’t. Programmers write code to the tests and nothing more.\n",
    "\n",
    "The world is a messy place, of course. In practice all the “corner\n",
    "conditions” won’t be known ahead of time. Responsible programmers will\n",
    "try to anticipate future requirements and avoid painting themselves into\n",
    "a corner. As a practical matter, often times the process of writing\n",
    "tests and code is iterative, and sometimes shortcuts are taken.\n",
    "Notwithstanding the ideas behind TDD are sound, and there are rich tools\n",
    "to support the process."
   ]
  },
  {
   "cell_type": "markdown",
   "metadata": {},
   "source": [
    "The Unittest Library\n",
    "--------------------\n",
    "\n",
    "Python’s standard library includes the **uniittest** module\\[14\\]. It’s\n",
    "derived from the **JUnit** suite used by the Java community. Sometimes\n",
    "you’ll hear people refer to Python’s implementation as “PyUnit” as a tip\n",
    "of the hat to its origins."
   ]
  },
  {
   "cell_type": "markdown",
   "metadata": {},
   "source": [
    "Basics\n",
    "------\n",
    "\n",
    "Let’s get started with a simple example. We import the **unittest**\n",
    "library and create an instance of **unittest**.**TestCase**. Within the\n",
    "instance, we draw upon the **assertEqual**() method of **TestCase** to\n",
    "compare two numbers.\n",
    "\n",
    "Note that we’ve included an informative message. This is optional, and\n",
    "if you don’t provide one, the system will do its best (with iffy\n",
    "results).\n",
    "\n",
    "Also note that the data used by the test is within the test method. This\n",
    "is typically a good idea because the scope is managed, and all the\n",
    "information you need is “right there”. You want to avoid using variables\n",
    "that are global to the module, or even global to the instance to avoid\n",
    "one test “stepping on” a variable used by another."
   ]
  },
  {
   "cell_type": "code",
   "execution_count": null,
   "metadata": {
    "slideshow": {
     "slide_type": "-"
    }
   },
   "outputs": [],
   "source": [
    "import unittest\n",
    "\n",
    "\n",
    "class FirstTest(unittest.TestCase):\n",
    "    def test_me(self):\n",
    "        first = 1\n",
    "        second = 2\n",
    "        msg = \"Sorry, Charlie, but {} is not the same as {}.\"\n",
    "\n",
    "        self.assertEqual(first, second, msg=msg.format(first, second))\n",
    "\n",
    "unittest.main(argv=[''], verbosity=2, exit=False)\n",
    "\n",
    "# In a file, one would typically invoke testing with this:\n",
    "#if __name__ == '__main__':\n",
    "#    unittest.main()"
   ]
  },
  {
   "cell_type": "markdown",
   "metadata": {},
   "source": [
    "Let's break down what we just did here:\n",
    "\n",
    "    class FirstTest(unittest.TestCase):\n",
    "\n",
    "This creates a new class that inherits from a class in the unittest library called TestCase.\n",
    "\n",
    "    def test_me(self):\n",
    "    \n",
    "Here we have a test method - we can tell because it begins with 'test'.   The test method contains one or more of the various tests available in TestCase.\n",
    "\n",
    "    self.assertEqual(first, second, msg=msg.format(first, second))\n",
    "    \n",
    "We chose assertEqual - it's the simplest possible test and a real workhorse.  You need the first two arguments.  The third is optional if you like the default.\n",
    "\n",
    "    unittest.main(argv=[''], verbosity=2, exit=False)\n",
    "    \n",
    "To actually run the unittests, you need to call the unittest.main() method somehow.  This is one way to patch it in.  There are other options designed just for notebooks including: https://github.com/JoaoFelipe/ipython-unittest\n",
    "\n",
    "---- results ----\n",
    "\n",
    "    test_me (__main__.FirstTest) ... FAIL\n",
    "\n",
    "This is the overall result.   A total fail.\n",
    "\n",
    "    Traceback (most recent call last):\n",
    "    File \"<ipython-input-27-5d27453b3dbf>\", line 10, in test_me\n",
    "       self.assertEqual(first, second, msg=msg.format(first, second))\n",
    "\n",
    "Here we have a standard traceback showing the call stack at the time Python encountered a problem.  \n",
    "\n",
    "    AssertionError: 1 != 2 : Sorry, Charlie, but 1 is not the same as 2.\n",
    "    \n",
    "The problem encounted was a standard Python exception, the AssertionError, coupled with our custom error message.  Normally, an uncaught exception will cause a crash.  But under the hood, unittest ran the test in a protected sandbox.  It captured the error, bundled it up, and reported it back as a test result.\n",
    "\n",
    "    Ran 1 test in 0.000s\n",
    "    \n",
    "These are the summary statistics.   Each test method counts as one 'test' no matter how many individual tests are included in that method.  The test method itself is the thing that succeeds or fails.\n",
    "\n"
   ]
  },
  {
   "cell_type": "markdown",
   "metadata": {},
   "source": [
    "Now, let’s take a look at a slightly more complicated version.  It has a few upgrades."
   ]
  },
  {
   "cell_type": "code",
   "execution_count": null,
   "metadata": {},
   "outputs": [],
   "source": [
    "import unittest\n",
    "\n",
    "\n",
    "class FirstTest(unittest.TestCase):\n",
    "    def setUp(self):\n",
    "        \"setUp() runs before every test\"\n",
    "        self.msg = \"Sorry, Charlie, but {} is not the same as {}.\"\n",
    "\n",
    "    def tearDown(self):\n",
    "        \"tearDown runs after every test\"\n",
    "\n",
    "    def test_me(self):\n",
    "        \"this test should pass\"\n",
    "        first = 1\n",
    "        second = 2\n",
    "        self.assertEqual(first, 1, msg=self.msg.format(first, second))\n",
    "\n",
    "    def test_failing(self):\n",
    "        \"this test should fail\"\n",
    "        first = 1\n",
    "        second = 2\n",
    "        self.assertEqual(second, 1, msg=self.msg.format(first, second))\n",
    "\n",
    "    def test_passing(self):\n",
    "        \"this test should pass, too\"\n",
    "        self.assertEqual(\"b\", \"b\")\n",
    "\n",
    "    def test_passing_a_failing_test(self):\n",
    "        \"this test should pass, even though it 'fails'\"\n",
    "        self.assertNotEqual(\"a\", \"b\")\n",
    "\n",
    "\n",
    "unittest.main(argv=[''], verbosity=2, exit=False)"
   ]
  },
  {
   "cell_type": "markdown",
   "metadata": {},
   "source": [
    "This test suite adds a couple more test methods (beginning with “test”),\n",
    "along with the new methods **setUp**() and **tearDown**().\n",
    "\n",
    "This version has several enhancements:\n",
    "\n",
    "-   **setUp**() clears the deck between tests and otherwise creates what\n",
    "    the tests need to run. Here it’s trivial, but it might create a\n",
    "    database, set environment variables, or even spin up a new AWS\n",
    "    slice.\n",
    "\n",
    "\n",
    "-   **tearDown**() cleans up any mess the testing may have created – it\n",
    "    might get rid of file system artifacts generated by the tests,\n",
    "    terminate the AWS slice, delete database tables, etc. We haven’t\n",
    "    implemented it here (so, strictly speaking we could leave it out)\n",
    "    but we’ve got a placeholder.\n",
    "    \n",
    "\n",
    "-   The test methods have **docstrings** – always a good idea.\n",
    "\n",
    "\n",
    "-   The message is moved to an instance variable. That’s OK because\n",
    "    we’re not really doing anything with it and it does reduce the\n",
    "    clutter.\n",
    "\n"
   ]
  },
  {
   "cell_type": "markdown",
   "metadata": {},
   "source": [
    "Most of the new tests included simply to demonstrate the resulting\n",
    "output, but I’d like to draw your attention to the\n",
    "**test**\\_**passing**\\_**a**\\_**failing**\\_**test**() method.\n",
    "\n",
    "    def test_passing_a_failing_test(self):\n",
    "        \"this test should pass, even though it 'fails'\"\n",
    "        self.assertNotEqual(\"a\", \"b\")\n",
    "\n",
    "\n",
    "It introduces a new test **assertNotEqual**(). Use of a “negative”\n",
    "test like this can let you run a test that produces unexpected results\n",
    "(fails) but still “passes” without creating an explosion of failure\n",
    "output. \n",
    "\n",
    "Most of the **TestCase** tests have a negative form, and some\n",
    "developers use them in “negative test suites” to keep them cleanly\n",
    "isolated from the affirmative ones.\n",
    "\n",
    "---- results ----\n",
    "\n",
    "    Ran 4 tests in 0.003s\n",
    "    FAILED (failures=1)\n",
    "    \n",
    "We're batting .750, but failed one test.\n",
    "\n",
    "    test_failing (__main__.FirstTest)\n",
    "    this test should fail ... FAIL\n",
    "    \n",
    "    test_me (__main__.FirstTest)\n",
    "    this test should pass ... ok\n",
    "    \n",
    "The top bit of the output details exactly which test methods passed and failed.   Note that our docstrings show up along with the result.  That will make tracking down any issues much easier.    "
   ]
  },
  {
   "cell_type": "markdown",
   "metadata": {},
   "source": [
    "TestCase test methods\n",
    "---------------------\n",
    "\n",
    "You have many choices when deciding what sort of test to run. Here’s a\n",
    "list of “assert-like” tests available:\n",
    "\n",
    "|                          |                       |                     |\n",
    "|--------------------------|-----------------------|---------------------|\n",
    "| assertAlmostEqual        | assertIsNone          | assertNotIsInstance |\n",
    "| assertAlmostEquals       | assertIsNot           | assertNotRegex      |\n",
    "| assertCountEqual         | assertIsNotNone       | assertRaises        |\n",
    "| assertDictContainsSubset | assertLess            | assertRaisesRegex   |\n",
    "| assertDictEqual          | assertLessEqual       | assertRaisesRegexp  |\n",
    "| assertEqual              | assertListEqual       | assertRegex         |\n",
    "| assertEquals             | assertLogs            | assertRegexpMatches |\n",
    "| assertFalse              | assertMultiLineEqual  | assertSequenceEqual |\n",
    "| assertGreater            | assertNotAlmostEqual  | assertSetEqual      |\n",
    "| assertGreaterEqual       | assertNotAlmostEquals | assertTrue          |\n",
    "| assertIn                 | assertNotEqual        | assertTupleEqual    |\n",
    "| assertIs                 | assertNotEquals       | assertWarns         |\n",
    "| assertIsInstance         | assertNotIn           | assertWarnsRegex    |\n",
    "\n",
    "The tests that look like assert<some_object>Equal, for instance\n",
    "**assertDictEqual**(), are not really intended to be run directly\\[19\\].\n",
    "The **assertEqual**() method serves a wrapper and calls the right\n",
    "“flavor” of the test depending on what sort of objects you’re trying to\n",
    "compare.\n",
    "\n",
    "As usual, you can learn about these by invoking something like:\n"
   ]
  },
  {
   "cell_type": "code",
   "execution_count": null,
   "metadata": {},
   "outputs": [],
   "source": [
    "help(unittest.TestCase)"
   ]
  },
  {
   "cell_type": "markdown",
   "metadata": {},
   "source": [
    "I would call out a couple of these.\n",
    "\n",
    "**assertAlmostEqual**() and **assertNotAlmostEqual**() are used to\n",
    "compare floating point numbers where there could be garbage bits or\n",
    "imprecise results of operations\\[20\\]. Its constructor looks like this:\n",
    "\n",
    "    assertAlmostEqual(first, second, places=None, msg=None, delta=None)\n",
    "\n",
    "\n",
    "The optional keyword argument ‘places’ determines how many decimal\n",
    "places to look out to determine equality (the default is 7 places). The\n",
    "optional keyword ‘delta’ allows you to set a specific difference (amount\n",
    "of slop) you’ll allow.\n",
    "\n",
    "There’s also a method that will allow you to ensure that a particular\n",
    "exception gets raised. The syntax is a bit different from the rest.\n",
    "\n",
    "Here’s its constructor:\n",
    "\n",
    "    assertRaises(excClass, callableObj=None, \\*args, \\*\\*kwargs) \n",
    "    \n",
    "In more human terms, this means:\n",
    "\n",
    "    assertRaises(<name of the exception>, \n",
    "                 <the thing being tested>,\n",
    "                 <first postional arg>, \n",
    "                 <second positional arg>,\n",
    "                 <etc.>\n",
    "                 <first keyword arg>,\n",
    "                 <second keyword arg>\n",
    "                 <etc.>\n",
    "                 )\n",
    "                 \n",
    "So for a this simple function:\n",
    "\n",
    "    def div_me(num, denom):\n",
    "        return num/denom\n",
    "    \n",
    "... a test might look like this - the arguments to div_me are sent in separately:    \n",
    "  \n",
    "    assertRaises(ZeroDivisionError, div_me, 1, 0)\n",
    "    \n",
    "... NOT like this where the function is simply called normally:\n",
    "\n",
    "    assertRaises(ZeroDivisionError, div_me(1,0))\n",
    "\n",
    "Here’s an example:"
   ]
  },
  {
   "cell_type": "code",
   "execution_count": 17,
   "metadata": {},
   "outputs": [
    {
     "name": "stderr",
     "output_type": "stream",
     "text": [
      "test_addition (__main__.AnotherTest)\n",
      "can we add? ... ok\n",
      "test_raise (__main__.RaiseTest)\n",
      "demonstrates AssertRaises ... ok\n",
      "test_raise1 (__main__.RaiseTest)\n",
      "demonstrates AssertRaises ... ERROR\n",
      "\n",
      "======================================================================\n",
      "ERROR: test_raise1 (__main__.RaiseTest)\n",
      "demonstrates AssertRaises\n",
      "----------------------------------------------------------------------\n",
      "Traceback (most recent call last):\n",
      "  File \"<ipython-input-17-7ef515e1fd52>\", line 11, in test_raise1\n",
      "    self.assertRaises(ZeroDivisionError, div_me(1,0))\n",
      "  File \"<ipython-input-17-7ef515e1fd52>\", line 2, in div_me\n",
      "    return num/denom\n",
      "ZeroDivisionError: division by zero\n",
      "\n",
      "----------------------------------------------------------------------\n",
      "Ran 3 tests in 0.003s\n",
      "\n",
      "FAILED (errors=1)\n"
     ]
    },
    {
     "data": {
      "text/plain": [
       "<unittest.main.TestProgram at 0x206df6ce820>"
      ]
     },
     "execution_count": 17,
     "metadata": {},
     "output_type": "execute_result"
    }
   ],
   "source": [
    "def div_me(num, denom):\n",
    "    return num/denom\n",
    "\n",
    "class RaiseTest(unittest.TestCase):\n",
    "    def test_raise(self):\n",
    "        \"demonstrates AssertRaises\"\n",
    "        self.assertRaises(ZeroDivisionError, div_me, 1, 0)\n",
    "        \n",
    "    def test_raise1(self):\n",
    "        \"demonstrates AssertRaises\"\n",
    "        self.assertRaises(ZeroDivisionError, div_me(1,0))        \n",
    "                          \n",
    "unittest.main(argv=[''], verbosity=2, exit=False)                          "
   ]
  },
  {
   "cell_type": "code",
   "execution_count": 18,
   "metadata": {},
   "outputs": [
    {
     "name": "stderr",
     "output_type": "stream",
     "text": [
      "test_addition (__main__.AnotherTest)\n",
      "can we add? ... ok\n",
      "test_raise (__main__.RaiseTest)\n",
      "demonstrates AssertRaises ... ok\n",
      "\n",
      "----------------------------------------------------------------------\n",
      "Ran 2 tests in 0.003s\n",
      "\n",
      "OK\n"
     ]
    },
    {
     "data": {
      "text/plain": [
       "<unittest.main.TestProgram at 0x206de861b20>"
      ]
     },
     "execution_count": 18,
     "metadata": {},
     "output_type": "execute_result"
    }
   ],
   "source": [
    "import unittest\n",
    "\n",
    "\n",
    "def raise_somthing(input1, input2, kwarg = 'kwarg'):\n",
    "    \"This does nothing but raise an exception.\"\n",
    "    raise ZeroDivisionError\n",
    "\n",
    "class RaiseTest(unittest.TestCase):\n",
    "    def test_raise(self):\n",
    "        \"demonstrates AssertRaises\"\n",
    "        self.assertRaises(ZeroDivisionError,\n",
    "                          raise_somthing, \"input1\", \"input2\", kwarg=\"hey!\")\n",
    "\n",
    "unittest.main(argv=[''], verbosity=2, exit=False)"
   ]
  },
  {
   "cell_type": "markdown",
   "metadata": {},
   "source": [
    "Note that if you've been running this notebook you may see results from previous in your results.  To clear them find 'Kernel' in the Jupyter toolbar.  Click on it and choose 'Restart & Clear Output'.   That's equivalent to starting a new Python shell."
   ]
  },
  {
   "cell_type": "markdown",
   "metadata": {},
   "source": [
    "If You Make a Mess, Clean It Up\n",
    "-------------------------------\n",
    "\n",
    "Many times, you’ll be opening files, creating directories, etc., with\n",
    "your application. How do you manage to go through all the debugging\n",
    "without completely trashing your file system? The last thing you want is\n",
    "your file system (or your client’s!) cluttered with hundreds of scratch\n",
    "files.\n",
    "\n",
    "Fortunately, Python has some tools available to help out. The\n",
    "**tempfile** library has several methods for creating temporary\n",
    "directories, files, etc. It will set these up in a directory\n",
    "(OS-appropriate) intended for scratch files, and for which your program\n",
    "will have sufficient permissions to work with.\n",
    "\n",
    "There’s a library called **shutil** that contains methods similar to\n",
    "those in the **os** library (with some overlap) that allow you to\n",
    "execute “macro scale” commands, just as you might a shell environment,\n",
    "to operate on large chunks of your file system. \n",
    "\n",
    "Because Python is OS-agnostic, it will automatically select the right “flavor” of shell\n",
    "command to use. "
   ]
  },
  {
   "cell_type": "code",
   "execution_count": 11,
   "metadata": {},
   "outputs": [
    {
     "name": "stdout",
     "output_type": "stream",
     "text": [
      "COPY_BUFSIZE, Error, ExecError, ReadError, RegistryError, SameFileError, SpecialFileError, chown, collections, copy, copy2, copyfile, copyfileobj, copymode, copystat, copytree, disk_usage, errno, fnmatch, get_archive_formats, get_terminal_size, get_unpack_formats, getgrnam, getpwnam, ignore_patterns, make_archive, move, nt, os, posix, register_archive_format, register_unpack_format, rmtree, stat, sys, unpack_archive, unregister_archive_format, unregister_unpack_format, which\n"
     ]
    }
   ],
   "source": [
    "import shutil\n",
    "print(\", \".join([ _ for _ in dir(shutil) if not _.startswith('_') ]))"
   ]
  },
  {
   "cell_type": "markdown",
   "metadata": {},
   "source": [
    "Here is a **unittest** application that performs file system operations\n",
    "in a super-polite way:"
   ]
  },
  {
   "cell_type": "code",
   "execution_count": 12,
   "metadata": {},
   "outputs": [],
   "source": [
    "import unittest\n",
    "import tempfile\n",
    "import os\n",
    "import shutil\n",
    "\n",
    "\n",
    "class RaiseTest(unittest.TestCase):\n",
    "    def setUp(self):\n",
    "        self.original_dir = os.getcwd()\n",
    "        self.test_dir = tempfile.mkdtemp()\n",
    "        os.chdir(self.test_dir)\n",
    "\n",
    "    def test_tempfiles(self):\n",
    "        \"demonstrates creating temporary files\"\n",
    "        files_to_write = 5\n",
    "        \n",
    "        for filenum in range(files_to_write):\n",
    "            open(\"file\"+str(filenum), 'w').close()\n",
    "            \n",
    "        myfiles = os.listdir()\n",
    "        \n",
    "        # do I have the right number of files\n",
    "        self.assertEqual(len(myfiles), files_to_write)\n",
    "        \n",
    "        # check a name to be sure it's right\n",
    "        lookfor = \"file0\"\n",
    "        self.assertTrue(lookfor in myfiles)\n",
    "\n",
    "    def tearDown(self):\n",
    "        os.chdir(self.original_dir)\n",
    "        shutil.rmtree(self.test_dir)"
   ]
  },
  {
   "cell_type": "markdown",
   "metadata": {},
   "source": [
    "Let's break down the script a bit to better understand it.\n",
    "\n",
    "    def setUp(self):\n",
    "        self.original_dir=os.getcwd()\n",
    "        self.test_dir=tempfile.mkdtemp()\n",
    "        os.chdir(self.test_dir)\n",
    "\n",
    "\n",
    "This code will “remember” the current directory in self.original.\n",
    "\n",
    "Then it creates a throwaway directory with **tempfile**.**mkdtemp**().\n",
    "\n",
    "Finally, it switches into the new directory.  This is a really good idea because we can avoid path specifications.   The default location for any sort of file system manipulation is the current directory.  We can write completely generic code to do these operations, agnostic about what particular directory it targets.\n",
    "\n",
    "    files_to_write=5\n",
    "    for filenum in range(files_to_write):\n",
    "        open(\"file\"+str(filenum), 'w').close()\n",
    "        myfiles=os.listdir()\n",
    "\n",
    "This bit simply writes a bunch of files to the current directory and grabs a listing of the directory using the **os** library method **listdir**().   Note that we opened and closed a file with a single command.\n",
    "\n",
    "    myfiles = os.listdir()\n",
    "    self.assertEqual(len(myfiles), files_to_write)\n",
    "    \n",
    "Since we're writing files into a new directory, all we have to do is count them up to make sure they were created properly.\n",
    "\n",
    "\n",
    "    lookfor=\"file0\"\n",
    "    self.assertTrue(lookfor in myfiles)\n",
    "\n",
    "This makes sure that at least one of the files was properly named.  The testing could certainly be more robust, but this is a reasonable start.\n",
    "\n",
    "    def tearDown(self):\n",
    "        os.chdir(self.original_dir)\n",
    "        shutil.rmtree(self.test_dir)"
   ]
  },
  {
   "cell_type": "markdown",
   "metadata": {},
   "source": [
    "## Be Careful With rmtree\n",
    "\n",
    "Two words about **rmtree**() are in order. BE CAREFUL.  Maybe three words.  BE REALLY CAREFUL.\n",
    "\n",
    "This command will delete whatever directory you ask it to. And all its subdirectories. And\n",
    "all the files. Silently. Forever.  \n",
    "\n",
    "That being said, it’s like a chain saw\n",
    "– while potentially dangerous it saves a lot of work. You don’t have to\n",
    "delete the files or subdirectories first, or any of that. It performs\n",
    "well when you use it safely\\[23\\]"
   ]
  },
  {
   "cell_type": "markdown",
   "metadata": {},
   "source": [
    "Separation of Responsibilities\n",
    "------------------------------\n",
    "\n",
    "So far we’ve physically located our unit testing with the code that’s\n",
    "being tested. That’s OK, but not typical – tests usually sit in\n",
    "dedicated modules and import the bits of code being tested. This is\n",
    "usually a good idea. The main code isn’t cluttered with tests so is\n",
    "easier to read. You don’t want tests running with your production code\n",
    "because it wastes resources. It’s also not unusual to ask one team to\n",
    "write tests and another to write the code to pass them – in this case\n",
    "physical separation is actually required.\n",
    "\n",
    "Here’s a small example of two files with such a separation of\n",
    "responsibility\\[24\\]."
   ]
  },
  {
   "cell_type": "code",
   "execution_count": 13,
   "metadata": {},
   "outputs": [],
   "source": [
    "# Write a short Python program to a file.  We'll test it below.\n",
    "code = \"\"\"\\\n",
    "def add_numbers(first, second):\n",
    "    return first + second\n",
    "\"\"\"\n",
    "\n",
    "with open('py_unit_4_code.py', 'w') as fh:\n",
    "    fh.write(code)    "
   ]
  },
  {
   "cell_type": "code",
   "execution_count": 14,
   "metadata": {},
   "outputs": [
    {
     "name": "stderr",
     "output_type": "stream",
     "text": [
      "test_addition (__main__.AnotherTest)\n",
      "can we add? ... ok\n",
      "test_tempfiles (__main__.RaiseTest)\n",
      "demonstrates creating temporary files ... ok\n",
      "\n",
      "----------------------------------------------------------------------\n",
      "Ran 2 tests in 0.007s\n",
      "\n",
      "OK\n"
     ]
    },
    {
     "data": {
      "text/plain": [
       "<unittest.main.TestProgram at 0x206df0008b0>"
      ]
     },
     "execution_count": 14,
     "metadata": {},
     "output_type": "execute_result"
    }
   ],
   "source": [
    "import unittest\n",
    "from py_unit_4_code import add_numbers\n",
    "\n",
    "class AnotherTest(unittest.TestCase):\n",
    "    def test_addition(self):\n",
    "        \"can we add?\"\n",
    "        self.assertEqual(add_numbers(2,2), 4)\n",
    "        \n",
    "unittest.main(argv=[''], verbosity=2, exit=False)"
   ]
  },
  {
   "cell_type": "markdown",
   "metadata": {},
   "source": [
    "As you can see, there’s an arm’s length between the two.   We can have our tests completely isolated from the code being tested.    That's the common situation, anyway.   You don't want tests in your production code."
   ]
  },
  {
   "cell_type": "markdown",
   "metadata": {},
   "source": [
    "## Doctests\n",
    "\n",
    "As you review open source code, you sometimes come accross a bit that looks just like a Python terminal session.  It might look like:\n",
    "\n",
    "    \"\"\"\n",
    "    >>> add_numbers(1, 1)\n",
    "    2\n",
    "    \"\"\"\n",
    "    \n",
    "What in the world is this?    You're looking at a doctest string that invokes another form of testing.   The idea is that you, the code author, can imagine what a user should experience when running your code.   You essentially put that dream experience into a string and invoke the doctest routine to test what would actually happen.\n",
    "\n",
    "It's an alternative to unit tests and is a permanent part of your code module.   One attractive feature of this approach is that serves as both a test and as documentation on the use of your software - particularly useful if there are several steps involved in using it correctly.\n",
    "\n",
    "Here's an example, borrowed from https://www.digitalocean.com/community/tutorials/how-to-write-doctests-in-python.  If you get seriously interested in doctests, this is a good resource."
   ]
  },
  {
   "cell_type": "code",
   "execution_count": 20,
   "metadata": {},
   "outputs": [
    {
     "data": {
      "text/plain": [
       "TestResults(failed=0, attempted=3)"
      ]
     },
     "execution_count": 20,
     "metadata": {},
     "output_type": "execute_result"
    }
   ],
   "source": [
    "import doctest\n",
    "\n",
    "def count_vowels(word):\n",
    "    \"\"\"\n",
    "    Given a single word, return the total number of vowels in that single word.\n",
    "\n",
    "    :param word: str\n",
    "    :return: int\n",
    "\n",
    "    >>> count_vowels('Cusco')\n",
    "    2\n",
    "\n",
    "    >>> count_vowels('Manila')\n",
    "    3\n",
    "\n",
    "    >>> count_vowels('Istanbul')\n",
    "    3\n",
    "    \"\"\"\n",
    "    total_vowels = 0\n",
    "    for letter in word.lower():\n",
    "        if letter in 'aeiou':\n",
    "            total_vowels += 1\n",
    "    return total_vowels\n",
    "\n",
    "doctest.testmod()"
   ]
  },
  {
   "cell_type": "markdown",
   "metadata": {},
   "source": [
    "For use in this Notebook, we ran the testmod() as part of the cell's execution.   Normally, you'd put a block at the bottom of a module that would execute the tests only when running stand-alone.  Something like:\n",
    "\n",
    "    if __name__ == \"__main__\":\n",
    "        import doctest\n",
    "        doctest.testmod()\n",
    "        \n",
    "This way, when you're running it in production the test stay out of the way.   They don't actually run.  But they do show up if someone types help(name_of_module)."
   ]
  },
  {
   "cell_type": "markdown",
   "metadata": {},
   "source": []
  },
  {
   "cell_type": "markdown",
   "metadata": {},
   "source": [
    "## Exercise \n",
    "\n",
    "Please improve the performance on this bit of code:\n",
    "\n",
    "    def my_addition(first, second):\n",
    "        return first + second\n",
    "\n",
    "Add some tests to ensure that it works for float, complex, dict, list, and None types.\n",
    "\n",
    "Likely, you’ll find that it’s not too robust. So add logic to filter inappropriate values. You won’t want it to fail silently, though. If it does, how is the calling routine going to know there’s a problem?\n",
    "\n",
    "Instead, raise a custom exception. In the case of an inappropriate data type, raise a WrongDataTypeError. In the case that one of the inputs is None, raise a NoneTypeError. \n",
    "\n",
    "Be sure to write tests to ensure the correct exceptions are being raised."
   ]
  },
  {
   "cell_type": "markdown",
   "metadata": {},
   "source": [
    "Data Structures\n",
    "===============\n",
    "\n",
    "So far we’ve covered Python objects that handle numeric data, *e.g*.,\n",
    "**str** and **float**. We’ve also looked at collections, *e.g*., the\n",
    "**list** and **dict** objects. Now, we’ll turn to more complicated data\n",
    "structures, functionality to create them, and how to put them to work.\n",
    "\n",
    "List Comprehensions\n",
    "-------------------\n",
    "\n",
    "In Python, it’s possible to build a list “on the fly” very succinctly\n",
    "using a list comprehension. These look a lot like **lambda** functions\n",
    "in that they are (usually) one line functions.\n",
    "\n",
    "Here’s the basic syntax:\n",
    "\n",
    "    [ object **for** object **in** iterable ]\n",
    "\n",
    "The entire expression is enclosed in square brackets and it utilizes the\n",
    "keywords **for** and **in**. If we wanted a **list** of integers, we\n",
    "might go:"
   ]
  },
  {
   "cell_type": "code",
   "execution_count": 21,
   "metadata": {},
   "outputs": [
    {
     "data": {
      "text/plain": [
       "[0, 1, 2, 3, 4, 5, 6, 7, 8, 9]"
      ]
     },
     "execution_count": 21,
     "metadata": {},
     "output_type": "execute_result"
    }
   ],
   "source": [
    " [ x for x in range(10) ]\n",
    "    "
   ]
  },
  {
   "cell_type": "markdown",
   "metadata": {},
   "source": [
    "We can amp this up a bit and do operations on the left side. Let’s say\n",
    "we wanted to multiply everything by 10."
   ]
  },
  {
   "cell_type": "code",
   "execution_count": 23,
   "metadata": {},
   "outputs": [
    {
     "data": {
      "text/plain": [
       "[0, 10, 20, 30, 40, 50, 60, 70, 80, 90]"
      ]
     },
     "execution_count": 23,
     "metadata": {},
     "output_type": "execute_result"
    }
   ],
   "source": [
    "[ x*10 for x in range(10) ]"
   ]
  },
  {
   "cell_type": "markdown",
   "metadata": {},
   "source": [
    "We can also include logic on the right side. Let’s say we only wanted\n",
    "even numbers."
   ]
  },
  {
   "cell_type": "code",
   "execution_count": 24,
   "metadata": {},
   "outputs": [
    {
     "data": {
      "text/plain": [
       "[0, 2, 4, 6, 8]"
      ]
     },
     "execution_count": 24,
     "metadata": {},
     "output_type": "execute_result"
    }
   ],
   "source": [
    " [ x for x in range(10) if not x%2 ]"
   ]
  },
  {
   "cell_type": "markdown",
   "metadata": {},
   "source": [
    "These list comprehensions can even be nested as deeply as you like.\n",
    "Here’s an example:"
   ]
  },
  {
   "cell_type": "code",
   "execution_count": 25,
   "metadata": {},
   "outputs": [
    {
     "data": {
      "text/plain": [
       "['0!', '1!', '2!', '3!', '4!', '5!', '6!', '7!', '8!', '9!']"
      ]
     },
     "execution_count": 25,
     "metadata": {},
     "output_type": "execute_result"
    }
   ],
   "source": [
    " [str(x)+\"!\" for x in [y for y in range(10)]]"
   ]
  },
  {
   "cell_type": "markdown",
   "metadata": {},
   "source": [
    "You want to read these right to left. This bit is a **list**\n",
    "comprehension in its own right, returning an iterable:"
   ]
  },
  {
   "cell_type": "markdown",
   "metadata": {},
   "source": [
    "    [y for y in range(10)]\n",
    "\n",
    "Which is the iterable looped over by this bit of it:\n",
    "    \n",
    "    [ str(x)+\"!\" for x in the list we just created]\n",
    "\n",
    "As you can appreciate, while these things are compact there’s a price to\n",
    "pay in terms of readability - especially as they get complex. If you\n",
    "feel overwhelmed by what looks like a spew of gobbledygook, don’t worry.\n",
    "Anything you can do with comprehensions, you do in a more verbose, and\n",
    "sometimes more transparent, fashion."
   ]
  },
  {
   "cell_type": "markdown",
   "metadata": {},
   "source": [
    "Dict Comprehensions\n",
    "-------------------\n",
    "\n",
    "A close cousin to the **list** comprehension is the **dict**\n",
    "comprehension\\[25\\]. It’s set up exactly the same way except you use\n",
    "curly braces and something that looks like a key: value pair. The\n",
    "general syntax is:\n",
    "\n",
    "    { key : value for object in iterable }\n",
    "\n",
    "If we wanted to assign index numbers to characters, we could accomplish\n",
    "it with this short routine:"
   ]
  },
  {
   "cell_type": "code",
   "execution_count": 31,
   "metadata": {},
   "outputs": [
    {
     "name": "stdout",
     "output_type": "stream",
     "text": [
      "My index dictionary: {'a': 0, 'b': 1, 'c': 2, 'd': 3, 'e': 4}\n",
      "\n",
      "The letter c is in position #2\n",
      "The letter d is in position #3\n",
      "The letter a is in position #0\n"
     ]
    }
   ],
   "source": [
    "index_dict= { key: value for value, key in enumerate(\"abcde\") }\n",
    "\n",
    "print(f\"My index dictionary: {index_dict}\\n\")\n",
    "\n",
    "fstr=\"The letter {} is in position #{}\"\n",
    "for some_char in \"cda\":\n",
    "    print(fstr.format(some_char, index_dict[some_char]))"
   ]
  },
  {
   "cell_type": "markdown",
   "metadata": {},
   "source": [
    "Nested lists\n",
    "------------\n",
    "\n",
    "It’s possible to make nested **dict** and **list** objects. Nested lists\n",
    "behave a lot like arrays in that you can address them by row, column\n",
    "elements. \n",
    "\n",
    "Here we create a **list** of **list** objects:"
   ]
  },
  {
   "cell_type": "code",
   "execution_count": 79,
   "metadata": {},
   "outputs": [
    {
     "name": "stdout",
     "output_type": "stream",
     "text": [
      " The array is: [[11, 12, 13], [21, 22, 23], [31, 32, 33]] \n",
      "\n",
      "The value of the element of row 1, col 2 is 23\n",
      "[11, 12, 13]\n",
      "[21, 22, 23]\n",
      "[31, 32, 33]\n"
     ]
    }
   ],
   "source": [
    "one=[11, 12, 13]\n",
    "two=[21, 22, 23]\n",
    "three=[31, 32, 33]\n",
    "\n",
    "# Make a list of lists\n",
    "arr=[one, two, three]\n",
    "print(f\" The array is: {arr} \\n\")\n",
    "\n",
    "# Use index integers to find content\n",
    "row=1\n",
    "col=2\n",
    "value = arr[row][col]\n",
    "print(f\"The value of the element of row {row}, col {col} is {value}\")\n",
    "\n",
    "# Loop to print rows\n",
    "for row_ix in range(0,3):\n",
    "    print(arr[row_ix])"
   ]
  },
  {
   "cell_type": "markdown",
   "metadata": {},
   "source": [
    "Nested dicts\n",
    "------------\n",
    "\n",
    "Nested **dict** structures are a really handy, intuitive, and\n",
    "transparent way to pass complicated bundles of information around your\n",
    "programs. The idea is that you can search for information based on some\n",
    "key. The associated value is another **dict** object, which can also be\n",
    "searched with a key, and whose associated value might be still another\n",
    "**dict**. And so on.\n",
    "\n",
    "This gives you the capability to index your information hierarchy. This,\n",
    "in turn, allows you to “drill down” into it using easy-to-understand\n",
    "code. This is the way setup files for many projects work. At the outer\n",
    "level you’ll have keys like ‘security’ and ‘font’. At the next level you\n",
    "might have access to ‘font-type’, ‘font-size’, etc.\n",
    "\n",
    "Here’s a quick example of how you might set up and use one:"
   ]
  },
  {
   "cell_type": "code",
   "execution_count": 82,
   "metadata": {},
   "outputs": [
    {
     "name": "stdout",
     "output_type": "stream",
     "text": [
      "dog_0 : {'name': 'Snarky', 'toy': 'bone', 'weight': 23}\n",
      "dog_1 : {'name': 'Fang', 'toy': 'squrrel', 'weight': 30}\n",
      "dog_2 : {'name': 'Sara', 'toy': 'squeaker', 'weight': 40}\n",
      "\n",
      "The first dog's fav toy is: squrrel\n"
     ]
    }
   ],
   "source": [
    "# Whistle up some content for our nested dict\n",
    "names = ['Snarky', 'Fang', 'Sara', 'Barfy']\n",
    "toys = ['bone', 'squrrel', 'squeaker']\n",
    "weights = [23, 30, 40]\n",
    "\n",
    "# Placeholder dict and index\n",
    "mydict = {}\n",
    "index = 0\n",
    "\n",
    "# Load the dict using a name, toy, and weight for each.\n",
    "for name, toy, weight in zip(names, toys, weights):\n",
    "    mydict[\"dog_\" + str(index)] = {'name': name,\n",
    "                                   'toy': toy,\n",
    "                                   'weight': weight}\n",
    "    index += 1\n",
    "    \n",
    "# Print it nicely\n",
    "for key, value in mydict.items():\n",
    "    print(\"{} : {}\".format(key, value))\n",
    "\n",
    "# We can now index the dict using the primary key ('dog_1', etc.)\n",
    "fav_toy = mydict['dog_1']['toy']\n",
    "\n",
    "print(\"\\nThe first dog's fav toy is: {}\".format(fav_toy))"
   ]
  },
  {
   "cell_type": "markdown",
   "metadata": {},
   "source": [
    "You might imagine a nested dict would help internationalize your code.   The primary key could be the language and the values returned would be contain the mapping of your code concepts to the user's pick.\n",
    "\n",
    "Python, FYI, is fully Unicode-compliant.   You can (mostly) program it in any language."
   ]
  },
  {
   "cell_type": "code",
   "execution_count": 91,
   "metadata": {},
   "outputs": [],
   "source": [
    "# Use assign a new name to a built-in function\n",
    "刷る =  print          #\"tsuru\"\n",
    "\n",
    "# Create a standard python object (翻訳家 \"hanyakuka\" means translator)\n",
    "翻訳家 = {                       \n",
    "            \"アードバーク\" : 'aardvark',   #\"addobakku\"\n",
    "            \"にしきへび\"   : 'python',      #\"nishichi hebi\"\n",
    "            \"日本\"        : 'Japan' ,       #\"nihon\"\n",
    "        }\n",
    "\n",
    "# Create a function (looks up the word in the dict and prints it)\n",
    "def 自分を刷る(単語):                #print_me(word)                 \"watashi wo tsuru (tango)\"\n",
    "\t刷る(単語, 翻訳家 [単語])         #print(word, <translation>)     \"tsuru(tango)\"  \n"
   ]
  },
  {
   "cell_type": "markdown",
   "metadata": {},
   "source": [
    "The main accommodations we need to make are mapping our favorite language to the objects in the various libraries we're using.   Here, we're just using one of the built-in functions and mapping it to the Japanese equivalent:\n",
    "\n",
    "    刷る =  print    \n",
    "    \n",
    "You'll not that we can't get away from using Python's keywords, so we're still stuck with expressions like:\n",
    "\n",
    "    def 自分を刷る(単語)\n",
    "    \n",
    "Now we can play with it."
   ]
  },
  {
   "cell_type": "code",
   "execution_count": 92,
   "metadata": {},
   "outputs": [
    {
     "name": "stdout",
     "output_type": "stream",
     "text": [
      "アードバーク aardvark\n"
     ]
    }
   ],
   "source": [
    "単語 = \"アードバーク\" \t      # word = aadvark  \"tango ikoru addobakku\"\"\n",
    "自分を刷る(単語)              # pass the word to the translator\n"
   ]
  },
  {
   "cell_type": "code",
   "execution_count": 93,
   "metadata": {},
   "outputs": [
    {
     "name": "stdout",
     "output_type": "stream",
     "text": [
      "にしきへび python\n"
     ]
    }
   ],
   "source": [
    "単語 = \"にしきへび\"           # word = python   \"tango ikoru nishichi hebi\"\n",
    "自分を刷る(単語)\n",
    "\n"
   ]
  },
  {
   "cell_type": "code",
   "execution_count": 90,
   "metadata": {},
   "outputs": [
    {
     "name": "stdout",
     "output_type": "stream",
     "text": [
      "\n",
      "終わりんこ! (done!)\n"
     ]
    }
   ],
   "source": [
    "刷る()                      # print a blank line\n",
    "刷る('終わりんこ! (done!)')  # print done"
   ]
  },
  {
   "cell_type": "markdown",
   "metadata": {},
   "source": [
    "GUIs\n",
    "====\n",
    "\n",
    "Python has a graphical user interface (GUI) tool, **tkinter**, as part\n",
    "of most standard installations. It’s good at creating “quick and dirty”\n",
    "user interfaces without reliance on outside tools. In this chapter,\n",
    "we’ll explore how to create some basic functionality\\[29\\].\n",
    "\n",
    "If you’re using an IDE, take an appreciative moment to study its\n",
    "components (or have a look at your OS’ GUI). You’ll likely see a bunch\n",
    "of rectangular containers. Some you can type into, others display\n",
    "information, and still others do both. They may other objects visible\n",
    "within the containers. These containers are generally called **frames**.\n",
    "Likely, you also have commands you can invoke by clicking on a\n",
    "**button** and **menus** that expand and fold on demand. You can\n",
    "probably make selections about what you want your code to do."
   ]
  },
  {
   "cell_type": "markdown",
   "metadata": {},
   "source": [
    "Basics\n",
    "------\n",
    "\n",
    "A GUI works in its own sandbox called a master frame. The master frame\n",
    "contains objects called **widgets**  things like **buttons**, **text\n",
    "boxes**, and other **frame** objects. The **widgets** provide\n",
    "functionality and a **geometry manager** places them spatially within\n",
    "the **frame**(s).\n",
    "\n",
    "This will make more sense shortly. Let’s get started with a skeletal\n",
    "framework which we’ll flesh out with an example taken from the tkinter\n",
    "docs."
   ]
  },
  {
   "cell_type": "code",
   "execution_count": 1,
   "metadata": {},
   "outputs": [],
   "source": [
    "%matplotlib inline\n",
    "import ipywidgets as widgets"
   ]
  },
  {
   "cell_type": "code",
   "execution_count": 2,
   "metadata": {},
   "outputs": [],
   "source": [
    "\"gui basics\"\n",
    "from tkinter import *\n",
    "\n",
    "\n",
    "class Application(Frame):\n",
    "    pass\n",
    "\n",
    "\n",
    "root = Tk()\n",
    "app = Application(master=root)\n",
    "app.mainloop()"
   ]
  },
  {
   "attachments": {
    "gui_empty.JPG": {
     "image/jpeg": "[encoded data removed]"
    }
   },
   "cell_type": "markdown",
   "metadata": {},
   "source": [
    "![gui_empty.JPG](attachment:gui_empty.JPG)\n",
    "\n",
    "We are creating an instance a GUI application.   More accurately, it's an instance of a main window of a GUI application, complete with its own Tcl interpreter.\n",
    "\n",
    "    root = Tk()\n",
    "    \n",
    "The Application class is basically a clean copy of Tkinter's Frame object.  A Frame is just a container that can hold GUI stuff (known as 'widgets').    \n",
    "\n",
    "    class Application(Frame):\n",
    "\n",
    "When we create an instance of the class, we pass along the main window that we just created.\n",
    "\n",
    "    app = Application(master=root)\n",
    "    \n",
    "When we're done, we run it.   The mainloop() method handles polling (it's always asking the widgets whether they've been clicked) and event handling (what to do in response to a mouse click, keystrokes, etc).\n",
    "\n",
    "    app.mainloop()\n",
    "\n",
    "When we run the cell with the gui code, a modal interactive window is spawned.  It'll be small and maybe buried under a bunch of other app windows.   You might look at your toolbar and a find an icon that looks like a feather.   It should look like the image above.\n",
    "\n",
    "Take a moment to appreciate what we just got with the modal window for free.   It's interactive.  We can resize it.  It has a decorative icon on the top left, along with a default name \"tk\".   And all the buttons work.   Not bad.\n",
    "\n"
   ]
  },
  {
   "cell_type": "markdown",
   "metadata": {},
   "source": [
    "## Adding User Control\n",
    "\n",
    "But there are many things we can do to upgrade. Let’s check some of\n",
    "these out.  Lets make one of these:"
   ]
  },
  {
   "attachments": {
    "gui_quit_say_hi.JPG": {
     "image/jpeg": "[encoded data removed]"
    }
   },
   "cell_type": "markdown",
   "metadata": {},
   "source": [
    "![gui_quit_say_hi.JPG](attachment:gui_quit_say_hi.JPG)"
   ]
  },
  {
   "cell_type": "code",
   "execution_count": 18,
   "metadata": {},
   "outputs": [],
   "source": [
    "from tkinter import *\n",
    "import ipywidgets as widgets\n",
    "\n",
    "#%gui tkinter\n",
    "\n",
    "class Application(Frame):\n",
    "    \n",
    "    # An action to tie to a widget so it can respond to an event.\n",
    "    def say_hi(self):\n",
    "        print(\"Hi there!\")\n",
    "        #with self.out:\n",
    "        #    print(\"Hi there, everyone!\")\n",
    "        \n",
    "    def createWidgets(self):\n",
    "        # Create a custom Button object, tied to a tkinter Frame's quit method.\n",
    "        self.QUIT = Button(self)\n",
    "        self.QUIT[\"text\"] = \"Quit\"\n",
    "        self.QUIT[\"fg\"] = \"red\"\n",
    "        self.QUIT[\"command\"] = self.quit\n",
    "        \n",
    "        # The pack method calls a geometry manager to decide how/where to render it.\n",
    "        self.QUIT.pack({\"side\": \"left\"})\n",
    "        \n",
    "        # Create a custom Button object to invoke our 'say_hi' method when clicked.\n",
    "        self.hi_there = Button(self)\n",
    "        self.hi_there[\"text\"] = \"Hello\",\n",
    "        self.hi_there[\"command\"] = self.say_hi\n",
    "        \n",
    "        # Invoke its pack method\n",
    "        self.hi_there.pack({\"side\": \"left\"})\n",
    "               \n",
    "    def __init__(self, master=None):\n",
    "        # Invoke the parent's __init__ method (usually a good idea)\n",
    "        Frame.__init__(self, master)\n",
    "        \n",
    "        # Allow the geometry manager add the root Frame to the main window\n",
    "        self.pack()\n",
    "        \n",
    "        self.out = widgets.Output(layout={'border': '1px solid black'})\n",
    "        \n",
    "        # Populate the main frame with widgets\n",
    "        self.createWidgets()\n",
    "        \n",
    "# Boilerplate - same as before        \n",
    "root = Tk()\n",
    "app = Application(master=root)\n",
    "\n",
    "#out = widgets.Output(layout={'border': '1px solid black'})\n",
    "app.mainloop()"
   ]
  },
  {
   "cell_type": "markdown",
   "metadata": {},
   "source": [
    "\n",
    "\n",
    "We've just created this GUI.   You can see it has two new buttons.   It's still no great shakes, but it does say \"Hi There\".   We've proven it's responsive and our event handler works.\n",
    "\n",
    "\n"
   ]
  },
  {
   "cell_type": "markdown",
   "metadata": {},
   "source": [
    "## User Choice in Command Branching\n",
    "\n",
    "Let's upgrade the inputs a bit.  How about an object that allows multiple, discrete choices.\n",
    "\n",
    "Let's try to make one of these:"
   ]
  },
  {
   "attachments": {
    "gui_check_box.JPG": {
     "image/jpeg": "[encoded data removed]"
    }
   },
   "cell_type": "markdown",
   "metadata": {},
   "source": [
    "![gui_check_box.JPG](attachment:gui_check_box.JPG)"
   ]
  },
  {
   "cell_type": "code",
   "execution_count": 19,
   "metadata": {},
   "outputs": [],
   "source": [
    "from tkinter import *\n",
    "\n",
    "\n",
    "class Application(Frame):\n",
    "    def report(self):\n",
    "        status = [self.status1.get(),  # a list of results\n",
    "                  self.status2.get(),\n",
    "                  self.status3.get()\n",
    "                  ]\n",
    "        \n",
    "        print(f\"Checkbox states: {status} \\n\")\n",
    "        \n",
    "        # Each checkbox has a value of 1 if checked, 0 otherwise\n",
    "        if not sum(status):\n",
    "            print(\"Please select a team.\")\n",
    "            return\n",
    "        \n",
    "        # Read the value of ezch textbox, then uncheck it.\n",
    "        if status[0]:\n",
    "            print(self.ck1[\"text\"], \"GO CUBS!\")\n",
    "            self.ck1.deselect()\n",
    "        if status[1]:\n",
    "            print(self.ck2[\"text\"])\n",
    "            self.ck2.deselect()\n",
    "        if status[2]:\n",
    "            print(self.ck3[\"text\"])\n",
    "            self.ck3.deselect()\n",
    "\n",
    "    def createWidgets(self):\n",
    "        \"populate master frame\"\n",
    "        \n",
    "        # Create a Label.  Go ahead and pack it since we won't fool with it again.\n",
    "        Label(text=\"Select Favorite Team\").pack()  # returns None\n",
    "        \n",
    "        # Create a Button to activate our handler.\n",
    "        self.b1 = Button(text=\"List Teams\", command=self.report)\n",
    "        self.b1.pack(side=TOP)\n",
    "        \n",
    "        \n",
    "        # IntVar objects are integer-like objects\n",
    "        \n",
    "        # This syntax creates a tuple on the right and unpacks it on the left\n",
    "        self.status1, self.status2, self.status3 =  IntVar(), IntVar(), IntVar()\n",
    "        \n",
    "        # Create some checkboxes, assign each its own status object\n",
    "        self.ck1 = Checkbutton(text=\"Cubs\", variable=self.status1)\n",
    "        self.ck2 = Checkbutton(text=\"Cards\", variable=self.status2)\n",
    "        self.ck3 = Checkbutton(text=\"Mets\", variable=self.status3)\n",
    "        \n",
    "        # Pack them in side-by-side, against the left wall.\n",
    "        self.ck1.pack(side=LEFT)\n",
    "        self.ck2.pack(side=LEFT)\n",
    "        self.ck3.pack(side=LEFT)\n",
    "\n",
    "    def __init__(self, master=None):\n",
    "        Frame.__init__(self, master)\n",
    "        self.pack()\n",
    "        self.createWidgets()\n",
    "\n",
    "root = Tk()\n",
    "app = Application(master=root)\n",
    "app.mainloop()"
   ]
  },
  {
   "cell_type": "markdown",
   "metadata": {},
   "source": [
    "\n",
    "\n"
   ]
  },
  {
   "cell_type": "markdown",
   "metadata": {},
   "source": [
    "Radio buttons are exclusive – each collection of them\\[34\\] can only\n",
    "have one active at a time. Here’s a version of the previous example,\n",
    "refactored a bit. Here, we’ve “flattened” the app – everything is within\n",
    "‘master’ (which is an instance of **Tk**). This is not particularly good\n",
    "practice for real apps – you will typically use **frames** and\n",
    "frames-within-frames to discretize the widgets.\n",
    "\n",
    "Here, we take some shortcuts to make a more parsimonious bit of code.   This isn't particularly recommended, but you can do it.  We'll try to make one of these:"
   ]
  },
  {
   "attachments": {
    "gui_display_favs_radio_button.JPG": {
     "image/jpeg": "[encoded data removed]"
    }
   },
   "cell_type": "markdown",
   "metadata": {},
   "source": [
    "![gui_display_favs_radio_button.JPG](attachment:gui_display_favs_radio_button.JPG)"
   ]
  },
  {
   "cell_type": "code",
   "execution_count": 22,
   "metadata": {},
   "outputs": [],
   "source": [
    "from tkinter import *\n",
    "\n",
    "def report():  \n",
    "    # Grab/report the status of the text box.\n",
    "    print(txt[status1.get()])\n",
    "    \n",
    "# Create an instance of the master frame\n",
    "master = Tk()\n",
    "\n",
    "# Provide an integer-like object to represent status.\n",
    "status1 = IntVar()\n",
    "\n",
    "# Create and pack a Lable object\n",
    "Label(master, text=\"What's your favorite team?\").pack()\n",
    "\n",
    "# Create and pack a Button object to trigger reporting\n",
    "b1 = Button(master, text=\"Display\", command=report)\n",
    "b1.pack(side=TOP)\n",
    "\n",
    "# Make some text to go in the Radiobuttons\n",
    "txt = [\"Cubs\", \"Cards\", \"Mets\"]\n",
    "\n",
    "# Create Radiobuttons\n",
    "radios = [Radiobutton(master, value=0),\n",
    "          Radiobutton(master, value=1),\n",
    "          Radiobutton(master, value=2)]\n",
    "\n",
    "# Use zip to tie together the text and Radiobuttons\n",
    "for radio, s in zip(radios, txt):\n",
    "    radio[\"text\"] = s\n",
    "    radio[\"variable\"] = status1\n",
    "    radio.pack(side=LEFT)\n",
    "    \n",
    "master.mainloop()"
   ]
  },
  {
   "cell_type": "markdown",
   "metadata": {},
   "source": [
    "Wrangling Widgets with Frames\n",
    "-----------------------------\n",
    "\n",
    "It’s generally desirable to herd related widgets into their own\n",
    "**frame** containers to separate functionality and to ease maintenance.\n",
    "Here’s an example of how this might be accomplished; we'll try to make one of these:"
   ]
  },
  {
   "attachments": {
    "gui_frame.JPG": {
     "image/jpeg": "[encoded data removed]"
    }
   },
   "cell_type": "markdown",
   "metadata": {},
   "source": [
    "![gui_frame.JPG](attachment:gui_frame.JPG)"
   ]
  },
  {
   "cell_type": "code",
   "execution_count": 28,
   "metadata": {},
   "outputs": [],
   "source": [
    "from tkinter import *\n",
    "\n",
    "# Make a root container object and wrench some properties.\n",
    "root = Tk()\n",
    "root.geometry(\"400x300\")\n",
    "root.title(\"Play with frames\")\n",
    "\n",
    "# Create a new Frame as 'child object' to root\n",
    "f1 = Frame(root, bg=\"grey\")\n",
    "\n",
    "# Populate the new Frame (f1)\n",
    "Label(f1, text=\"frame 1\", bg=\"grey\").pack(side=LEFT)\n",
    "f1.pack(expand = True, fill=BOTH)\n",
    "\n",
    "# Populate another new Frame (f2)\n",
    "f2 = Frame(root, bg=\"yellow\")\n",
    "Label(f2, text=\"frame 2\", bg=\"yellow\").pack(side=BOTTOM)\n",
    "f2.pack(expand=True, fill=BOTH)\n",
    "\n",
    "# Populate yet another new Frame (f3)\n",
    "f3 = Frame(root, bg=\"#00ffff\") #alternative specification\n",
    "Label(f3, text=\"frame 3\", bg=\"#00ffff\").pack(side=RIGHT)\n",
    "f3.pack(expand=True, fill=BOTH)\n",
    "\n",
    "# Populate a sub-Frame (f3a) as a 'chile object' of f3\n",
    "f3a = Frame(f3, bg=\"white\") #alternative specification\n",
    "Label(f3a, text=\"subframe 3a\", bg=\"white\").pack(side=RIGHT)\n",
    "f3a.pack(expand=True, fill=BOTH)\n",
    "\n",
    "root.mainloop()"
   ]
  },
  {
   "cell_type": "markdown",
   "metadata": {},
   "source": [
    "Here we explore the notion that Frames can live within other Frames.  Initially, we created a master Frame.  It's just a container and can hold any other widgets.   Into it we installed other frames (f1, f2, and f3) with commands like:\n",
    "\n",
    "    f1 = Frame(root, bg=\"grey\")\n",
    "    \n",
    "The first argument is the parent object ('root' is what we're calling the master Frame instance).\n",
    "\n",
    "So when we make sub-Frames, we simply use a different Frame as the parent.\n",
    "\n",
    "    f3a = Frame(f3, bg=\"white\")\n",
    "    \n",
    "We introduce one more characteristic for all of these - how the object behaves when the master container is resized.  When we issue a command like:\n",
    "\n",
    "    f3a.pack(expand=True, fill=BOTH)\n",
    "\n",
    "... we're asking it to expand to fill the outer container as it shrinks or expands.\n",
    "\n",
    "Now, let's try to build some menus.   We'll make one of these:"
   ]
  },
  {
   "cell_type": "markdown",
   "metadata": {},
   "source": [
    "Building Menus\n",
    "--------------\n",
    "\n",
    "Did you ever wonder how they make drop down menus used to run GUI apps\n",
    "like Wing? Wonder no more — in this section we’ll learn how to build a\n",
    "simple menu from scratch.\n",
    "\n",
    "The first step is to construct a “root menu” upon which we’ll build\n",
    "child objects to control the content displayed and actions performed.\n",
    "\n",
    "We'll build a basic menu next:"
   ]
  },
  {
   "attachments": {
    "gui_menu.JPG": {
     "image/jpeg": "[encoded data removed]"
    }
   },
   "cell_type": "markdown",
   "metadata": {},
   "source": [
    "![gui_menu.JPG](attachment:gui_menu.JPG)"
   ]
  },
  {
   "cell_type": "code",
   "execution_count": 25,
   "metadata": {},
   "outputs": [],
   "source": [
    "from tkinter import *\n",
    "\n",
    "\n",
    "def placeholder():\n",
    "    print(\"placeholder event\")\n",
    "    # This idiom rolls the right-most value through a chain of variables\n",
    "    file_new = file_close = file_close_all = refactor_rename = refactor_move = placeholder\n",
    "\n",
    "# Per usual, create a master window\n",
    "root = Tk()\n",
    "\n",
    "# We need to add a root menu object to the master window\n",
    "menubar = Menu(root)\n",
    "root.config(menu=menubar)\n",
    "\n",
    "# Create another Menu object that we'll add to the root menu\n",
    "filemenu = Menu(menubar)\n",
    "\n",
    "# ... but first, we'll treat it as another container and add widgets to it\n",
    "filemenu.add_command(label=\"New\", command=file_new)\n",
    "filemenu.add_separator()\n",
    "filemenu.add_command(label=\"Close\", command=file_close)\n",
    "filemenu.add_command(label=\"Close All\", command=file_close_all)\n",
    "\n",
    "# This command actually adds the new sub-menu to the main one\n",
    "menubar.add_cascade(label=\"File\", menu=filemenu)\n",
    "\n",
    "# These commands create and populate a second sub-menu\n",
    "editmenu = Menu(menubar)\n",
    "editmenu.add_command(label=\"Rename Symbol\", command=refactor_rename)\n",
    "editmenu.add_command(label=\"Move Symbol\", command=refactor_move)\n",
    "\n",
    "# Now we'll add it to the root menu\n",
    "menubar.add_cascade(label=\"Refactor\", menu=editmenu)\n",
    "\n",
    "# Per usual, we'll set the listener loop\n",
    "root.mainloop()"
   ]
  },
  {
   "cell_type": "markdown",
   "metadata": {},
   "source": [
    "To create a menu, we're piling on widgets hierarchically beginning with our master window.  We can nest items to any depth in the same fashion.\n",
    "\n",
    "        # master window\n",
    "        root = Tk()   \n",
    "\n",
    "            # top-level menu\n",
    "            menubar = Menu(root) \n",
    "            root.config(menu=menubar)\n",
    "\n",
    "                # second-level menu (for File)\n",
    "                filemenu = Menu(menubar)  # second-level menu\n",
    "                menubar.add_cascade(label=\"File\", menu=filemenu)\n",
    "                \n",
    "                    # individual menu items\n",
    "\n",
    "                # second-level menu (for Refactor)\n",
    "                editmenu = Menu(menubar)\n",
    "                menubar.add_cascade(label=\"Refactor\", menu=editmenu)\n",
    "                \n",
    "                    # individual menu items\n",
    "            \n",
    " It's a bit tedious, but getting the job done is straightforward. "
   ]
  },
  {
   "cell_type": "markdown",
   "metadata": {},
   "source": [
    "## Text Input\n",
    "\n",
    "Menus, check boxes, and radio buttons are great as far as they go, but sometimes we'll need open-ended user input.  Here's how we can add dialog that allows direct text input.\n",
    "\n",
    "We'll go ahead and make one of these:"
   ]
  },
  {
   "attachments": {
    "gui_text_edit.JPG": {
     "image/jpeg": "[encoded data removed]"
    }
   },
   "cell_type": "markdown",
   "metadata": {},
   "source": [
    "![gui_text_edit.JPG](attachment:gui_text_edit.JPG)"
   ]
  },
  {
   "cell_type": "markdown",
   "metadata": {},
   "source": [
    "It's not pretty, but has all the essentials of a text search tool.   The bottom block has content to search.   The top block allows input of the first place to search for the text provided in the middle box.    The buttons direct the underlying code to Find and/or Delete any content matching the query.\n",
    "\n",
    "Let's give it a shot:"
   ]
  },
  {
   "cell_type": "code",
   "execution_count": 32,
   "metadata": {},
   "outputs": [
    {
     "name": "stdout",
     "output_type": "stream",
     "text": [
      "Yay, we found ub!\n",
      "Yay, we found Cubs!\n",
      "Yay, we found Cubs!\n",
      "Yay, we found Cubs!\n",
      "Sorry, no Cubs here.\n"
     ]
    }
   ],
   "source": [
    "from tkinter import *\n",
    "\n",
    "\n",
    "def find_text():\n",
    "    \"Search for user-supplied text.\"\n",
    "\n",
    "    line = entry_line.get()\n",
    "    look_for = entry_find.get()\n",
    "    data = text.get(line + \".0\", END)\n",
    "    if look_for in data:\n",
    "        print(\"Yay, we found {}!\".format(look_for))\n",
    "    else:\n",
    "        print(\"Sorry, no {} here.\".format(look_for))\n",
    "\n",
    "\n",
    "def delete_text():\n",
    "    \"\"\"Delete specific text from a designated line.  This involves 'vaccuming out'\n",
    "         the contents, editing it with string methods, and replacing it.\n",
    "    \"\"\"\n",
    "\n",
    "    # Capture the provided text using the get() method\n",
    "    line = entry_line.get()\n",
    "    all_text = text.get(line + \".0\", END)\n",
    "    look_for = entry_find.get()\n",
    "\n",
    "    # Do an ordinary str.replace() on the captured text\n",
    "    all_text = all_text.replace(look_for + '\\n', '')\n",
    "    # Delete the contents of the Text box\n",
    "    text.delete(line + \".0\", 'end')\n",
    "    # Insert the edited code.\n",
    "    text.insert(\"end\", all_text)\n",
    "\n",
    "\n",
    "# Root window\n",
    "root = Tk()\n",
    "\n",
    "# Create and pack a Label for the top block\n",
    "Label(root, text=\"Starting In This Line:\").pack()\n",
    "\n",
    "# Create an Entry widget to accept Starting Line\n",
    "entry_line = Entry(root)\n",
    "entry_line.pack()\n",
    "\n",
    "# Create and pack a second Entry widget for the Find Text\n",
    "Label(root, text=\"Find this text\").pack()\n",
    "entry_find = Entry(root)\n",
    "entry_find.pack()\n",
    "\n",
    "# Create the Buttons, each linked to its own action.\n",
    "b1 = Button(root, text=\"Find\", command=find_text).pack()\n",
    "b2 = Button(root, text=\"Delete\", command=delete_text).pack()\n",
    "b3 = Button(root, text=\"Quit\", command=root.destroy).pack()\n",
    "\n",
    "# Create the bottom Text box and give it some content\n",
    "text = Text(root, height=6, width=50)\n",
    "text.insert(\"end\", \"Cubs\\nCards\\nMets\")\n",
    "text.pack()\n",
    "\n",
    "# Finally, set up the listener loop.\n",
    "root.mainloop()"
   ]
  },
  {
   "cell_type": "markdown",
   "metadata": {},
   "source": [
    "Now we can play with it.   For instance, if we asked to start in Line 1 and searched for \"Cubs\" (or \"ubs\") the GUI will report success.    If we ask to start in Line 2, it will report failure.\n",
    "\n",
    "Working with the text within is a bit weird, but OK once you get the\n",
    "hang of it. To add text, you use the **insert**() command, providing an\n",
    "insertion point and some text. For instance, to add a few baseball teams\n",
    "you can go:\n",
    "\n",
    "    text.insert(\"end\", \"Cubs\\\\nCards\\\\nMets\") \n",
    "    \n",
    "Here, the “end” positional argument is already known to the Text widget,\n",
    "as is the alias **END**. To get information out, you need to specify\n",
    "both the beginning point and end point using this syntax:\n",
    "\n",
    "    line number.position within line\n",
    "\n",
    "This reads all the contents into the variable ‘data’.\n",
    "\n",
    "    line = entry_line.get()\n",
    "    data = text.get(line + \".0\", END)\n",
    "\n",
    "To delete content, you can use the **delete**() method of the **Text**\n",
    "widget using the same syntax as **get**().    "
   ]
  },
  {
   "cell_type": "markdown",
   "metadata": {},
   "source": [
    "Now that you've mastered GUIs, the next step will be to create one of these.   Don't worry - it will only take you a couple of weeks:"
   ]
  },
  {
   "attachments": {
    "gui_color.JPG": {
     "image/jpeg": "[encoded data removed]"
    }
   },
   "cell_type": "markdown",
   "metadata": {},
   "source": [
    "![gui_color.JPG](attachment:gui_color.JPG)"
   ]
  },
  {
   "cell_type": "markdown",
   "metadata": {},
   "source": [
    "Built-in GUI Magic\n",
    "-----------------\n",
    "\n",
    "Happily, **Tkinter** has been around for a long time.   People have figured out some higher-level tools to solve common problems.  **Tkinter** has several compound widgets already built into the system.\n",
    "I’ll show you a couple here so you know about them and leave further\n",
    "exploration to you.\n",
    "\n",
    "There are several really routine interactions your GUI will have with\n",
    "the user – things like asking Yes or No, displaying a warning that he’s\n",
    "about to destroy his root directory. Many of these are already baked in.\n",
    "\n",
    "Here’s an example:\n",
    "\n",
    "\n",
    "    if askyesno('Check chocolate', 'Sure you want chocolate'):\n",
    "        print(\"OK. Chocolate it is.\")\n",
    "    else:\n",
    "        print(\"I didn't think so.\")\n",
    "\n",
    "This code grabs the **tkinter**.**messagebox**.**askyesno**() tool. The\n",
    "two arguments specify the dialogue box’s header and the second poses the\n",
    "question. The return is **True** (yes) or **False** (no). Right out of\n",
    "the box, it gives you a professional-looking dialogue box.\n",
    "\n",
    "Here's the code to make it work:"
   ]
  },
  {
   "cell_type": "code",
   "execution_count": 1,
   "metadata": {},
   "outputs": [],
   "source": [
    "from tkinter import *\n",
    "from tkinter.messagebox import *\n",
    "\n",
    "   \n",
    "def double_check_chocloate():\n",
    "    if askyesno('Check chocolate', 'Sure you want chocolate'):\n",
    "        print(\"OK. Chocolate it is.\")\n",
    "    else:\n",
    "        print(\"I didn't think so.\")\n",
    "        \n",
    "def double_check_vanilla():\n",
    "    print(\"You want vanilla and I trust you.\")        \n",
    "        \n",
    "root = Tk()\n",
    "root.geometry(\"200x50\")\n",
    "\n",
    "b1 = Button(root, text=\"Chocloate\", command=double_check_chocloate)\n",
    "b1.pack(side=TOP)\n",
    "\n",
    "b2 = Button(root, text=\"Vanilla\", command=double_check_vanilla)\n",
    "b2.pack(side=TOP)\n",
    "\n",
    "root.mainloop()"
   ]
  },
  {
   "cell_type": "code",
   "execution_count": 2,
   "metadata": {},
   "outputs": [
    {
     "ename": "SyntaxError",
     "evalue": "invalid syntax (<ipython-input-2-11988e257501>, line 1)",
     "output_type": "error",
     "traceback": [
      "\u001b[1;36m  File \u001b[1;32m\"<ipython-input-2-11988e257501>\"\u001b[1;36m, line \u001b[1;32m1\u001b[0m\n\u001b[1;33m    You can explore these other **tkinter**.**messagebox** options at your\u001b[0m\n\u001b[1;37m        ^\u001b[0m\n\u001b[1;31mSyntaxError\u001b[0m\u001b[1;31m:\u001b[0m invalid syntax\n"
     ]
    }
   ],
   "source": [
    "You can explore these other **tkinter**.**messagebox** options at your\n",
    "leisure:\n",
    "\n",
    "| askokcancel    | showerror   |\n",
    "|----------------|-------------|\n",
    "| askquestion    | showinfo    |\n",
    "| askretrycancel | showwarning |\n",
    "| askyesnocancel |             |\n",
    "\n",
    "Here are couple more libraries of interest:\n",
    "\n",
    "    **tkinter**.**colorchooser** – great color selection dialogs\n",
    "    \n",
    "        (rgb_color,hex_color) = askcolor()\n",
    "\n",
    "    **tkinter**.**filedialog** – file system exploration\n",
    "    \n",
    "        file_to_open = askopenfilename()"
   ]
  },
  {
   "cell_type": "code",
   "execution_count": null,
   "metadata": {},
   "outputs": [],
   "source": [
    "from tkinter import *\n",
    "from tkinter.colorchooser import askcolor\n",
    "from tkinter.filedialog import askopenfilename\n",
    "\n",
    "def set_color():\n",
    "    \"Apply the askcolor module.\"\n",
    "    (rgb_color,hex_color) = askcolor()\n",
    "    if ( hex_color ):\n",
    "        print(hex_color, rgb_color)\n",
    "        btn_color.config(background=hex_color)\n",
    "        \n",
    "def read_file():\n",
    "    \"Apply the askopenfilename() method. Report contents to a Text box\"\n",
    "    file_to_open = askopenfilename()   \n",
    "    with open(file_to_open, \"r\") as f:\n",
    "        lines = f.readlines()    \n",
    "    for line in lines: \n",
    "        text.insert(END, line)\n",
    "        \n",
    "def delete_text(): \n",
    "    \"Delete the contents of a Text box\"\n",
    "    text.delete(1.0,END)\n",
    "\n",
    "#Main window\n",
    "root = Tk()\n",
    "\n",
    "#Configure a button to set its color with askcolor()\n",
    "btn_color = Button(root, text=\"Choose a Color\", command = set_color)\n",
    "btn_color.config(height=1, font=(\"Cambria\", 10, 'italic'))\n",
    "btn_color.pack(expand=YES, fill=BOTH)\n",
    "\n",
    "#Create buttons to read files and delete text\n",
    "Button(text=\"Open File\", command=read_file).pack()\n",
    "Button(text=\"Clear\", command=delete_text).pack()\n",
    "\n",
    "#Add a text button to hold file contents\n",
    "text = Text(height=10, width=70)\n",
    "text.pack()\n",
    "\n",
    "#Fire off the main listener loop.\n",
    "root.mainloop()"
   ]
  },
  {
   "cell_type": "code",
   "execution_count": null,
   "metadata": {},
   "outputs": [],
   "source": [
    "Parting Thoughts\n",
    "----------------\n",
    "\n",
    "We’ve only covered the **pack**() geometry manager here – mostly because\n",
    "it’s the easiest to use. If you really want granular control over the\n",
    "layout, you’ll want to consider using the **grid**() instead. This gives\n",
    "you control over what row and column of an imaginary grid that your\n",
    "objects should live in. You can read all about it when you get\n",
    "time\\[35\\].\n",
    "\n",
    "You may be tempted to combine the ease of use of **pack**() and the\n",
    "accuracy of **grid**(). You can do that, but don’t create a situation\n",
    "where you’ve got two different geometry managers controlling objects in\n",
    "the same container. This will produce highly unpredictable results which\n",
    "are nigh-near impossible to debug.\n",
    "\n",
    "Finally, **tkinter** is not your only choice when selecting a GUI tool,\n",
    "it’s just Python’s official set of bindings to **Tcl** (pronounced\n",
    "“tickle”, believe it or not). Others include **PyQt**, **wxPython**, and\n",
    "**PyGTK**. Wikipedia has great article that summarizes your\n",
    "choices\\[36\\].\n",
    "\n",
    "OK. Now you’re ready to get some GUI dirt under your fingernails! You’ve\n",
    "seen how to use the required widgets, so let’s put them in harness"
   ]
  },
  {
   "cell_type": "markdown",
   "metadata": {},
   "source": [
    "## Exercise:\n",
    "\n",
    "Please create a GUI that produces this interface:\n"
   ]
  },
  {
   "attachments": {
    "gui_assignment.png": {
     "image/png": "[encoded data removed]"
    }
   },
   "cell_type": "markdown",
   "metadata": {},
   "source": [
    "![gui_assignment.png](attachment:gui_assignment.png)"
   ]
  },
  {
   "cell_type": "markdown",
   "metadata": {},
   "source": [
    "… and the promised functionality.\n",
    " \n",
    "Hint: you’ll probably find it useful to use internal Frame objects to organize your widgets.\n",
    "    \n",
    "Extra credit: Add info dialogs to warn the user of the dire consequences of changing the case on their choices."
   ]
  },
  {
   "cell_type": "markdown",
   "metadata": {},
   "source": [
    "Working With Databases\n",
    "======================\n",
    "\n",
    "Python works and plays well with many of the most popular relational\n",
    "databases including PostgreSQL, Oracle and MySQL. The standard library\n",
    "even has a light-weight product, SQLite, capable of either running in\n",
    "memory or using the file system for persistent storage.\n",
    "\n",
    "For this chapter, we’ll work with Python’s **sqlite3** module. It\n",
    "requires no setup, definition of an administrator, or anything else – it\n",
    "comes “batteries included”. Also, since it’s part of standard Python you\n",
    "can rely on it working on any system with Python installed. If you later\n",
    "choose to use another database – no worries. You’ll need to find and\n",
    "install a piece of middleware called a “connector” and, of course, the\n",
    "database software. What you learn here will most apply to the\n",
    "alternative tools. and your interactions with the objects it provides\n",
    "will be nearly-identical those you have with **SQLite**. Switching\n",
    "should be easy\\[48\\].\n",
    "\n",
    "For the record, here are some popular connectors\\[49\\] (which you may\n",
    "have to install using a package manager if they’re not in your Python\n",
    "installation).\n",
    "\n",
    "    MySQL: import mysql.connector\n",
    "    Oracle: import cx\\_Oracle\n",
    "    PostgreSQL: import psycog3"
   ]
  },
  {
   "cell_type": "markdown",
   "metadata": {},
   "source": [
    "Basics\n",
    "------\n",
    "\n",
    "Let’s get started with importing **sqlite3** and connecting to a\n",
    "database. If we want to store it on the file system we provide the name\n",
    "of the file; if we just want it in memory, we can use the special name\n",
    "“:**memory**”."
   ]
  },
  {
   "cell_type": "code",
   "execution_count": 39,
   "metadata": {},
   "outputs": [
    {
     "data": {
      "text/plain": [
       "<sqlite3.Connection at 0x2d86f2ee4e0>"
      ]
     },
     "execution_count": 39,
     "metadata": {},
     "output_type": "execute_result"
    }
   ],
   "source": [
    "import sqlite3\n",
    "\n",
    "conn=sqlite3.connect('mydb')\n",
    "conn"
   ]
  },
  {
   "cell_type": "markdown",
   "metadata": {},
   "source": [
    "The **connect** object is our gateway into the database. We can access\n",
    "its methods to change users, commit/roll back changes etc. and otherwise\n",
    "perform high-level operations at the database level\\[50\\]. \n",
    "\n",
    "we’ll get a **cursor** object from the **connection** object which we’ll\n",
    "use for most of our interactions"
   ]
  },
  {
   "cell_type": "code",
   "execution_count": 41,
   "metadata": {},
   "outputs": [
    {
     "data": {
      "text/plain": [
       "<sqlite3.Cursor at 0x2d86e255420>"
      ]
     },
     "execution_count": 41,
     "metadata": {},
     "output_type": "execute_result"
    }
   ],
   "source": [
    "curs = conn.cursor()\n",
    "curs"
   ]
  },
  {
   "cell_type": "markdown",
   "metadata": {},
   "source": [
    "OK, we’ve got what we need to talk, so let’s have a conversation. The\n",
    "primary object in a database is a table. A table has rows and columns of\n",
    "information, and knows about relationships with other tables and their\n",
    "rows and columns. \n",
    "\n",
    "You can create a table using the CREATE keyword,\n",
    "something like:"
   ]
  },
  {
   "cell_type": "code",
   "execution_count": 42,
   "metadata": {},
   "outputs": [],
   "source": [
    "cmd = \"\"\"CREATE TABLE dogs (name CHAR(10),\n",
    "         toy CHAR(10),\n",
    "         weight INT(4))\n",
    "      \"\"\""
   ]
  },
  {
   "cell_type": "markdown",
   "metadata": {},
   "source": [
    "Here, this command creates a table named ‘dogs.’ It has three columns:\n",
    "name, toy, and weight. We’ve assigned each column a data type. The\n",
    "numbers in (parentheses) indicate the size of the data. For instance\n",
    "‘name’ is specified to hold a maximum of 10 characters\\[51\\].\n",
    "\n",
    "**SQLite** supports other data types like TINYINT, BLOB, TEXT, and\n",
    "DOUBLE. You can read more about them in the sqlite.org docs\\[52\\].\n",
    "\n",
    "Data table names are unique – they have to be. So what happens if we try\n",
    "to create the table ‘dogs’ and one already exists? **SQLite** will whine\n",
    "miserably:\n",
    "\n",
    "    Traceback (most recent call last):\n",
    "    File \"stdin\", line 1, in module\n",
    "    sqlite3.OperationalError: table dogs already exist\n",
    "    \n",
    "So, it’s often a good idea to clear the decks first (if you’re sure you\n",
    "don’t need the table) by going:"
   ]
  },
  {
   "cell_type": "code",
   "execution_count": 108,
   "metadata": {},
   "outputs": [
    {
     "data": {
      "text/plain": [
       "<sqlite3.Cursor at 0x2d86e255420>"
      ]
     },
     "execution_count": 108,
     "metadata": {},
     "output_type": "execute_result"
    }
   ],
   "source": [
    "cmd = \"DROP TABLE IF EXISTS dogs\"   \n",
    "curs.execute(cmd) #this runs the SQL command\n",
    "\n",
    "# Create the table again, since we've killed the old one\n",
    "cmd = \"\"\"CREATE TABLE dogs (name CHAR(10),\n",
    "         toy CHAR(10),\n",
    "         weight INT(4))\n",
    "      \"\"\" \n",
    "curs.execute(cmd)"
   ]
  },
  {
   "cell_type": "markdown",
   "metadata": {},
   "source": [
    "When we’re done adding the new table, we can ask that the change be\n",
    "committed by using the connector method **commit**().\\[53\\]\n",
    "\n",
    "    conn.commit() \n",
    "\n",
    "Now, let’s populate the kennel. The way to add a row is to use the\n",
    "INSERT command. The general syntax\\[54\\] is:\n",
    "\n",
    "    INSERT INTO table ( column names) (values)\n",
    "\n",
    "Here’s an example. We’re telling the database that a 90-pound dog named\n",
    "Fang has a toy bone\\[55\\]:"
   ]
  },
  {
   "cell_type": "code",
   "execution_count": 109,
   "metadata": {},
   "outputs": [
    {
     "data": {
      "text/plain": [
       "<sqlite3.Cursor at 0x2d86e255420>"
      ]
     },
     "execution_count": 109,
     "metadata": {},
     "output_type": "execute_result"
    }
   ],
   "source": [
    "cmd = \"INSERT INTO dogs ('name', 'toy', 'weight') VALUES (?, ?, ?)\"\n",
    "vals= ('Fang', 'bone', 90)\n",
    "curs.execute(cmd, vals)"
   ]
  },
  {
   "cell_type": "markdown",
   "metadata": {},
   "source": [
    "Let’s make sure things are working by retrieving results. To do that you\n",
    "use the SELECT command. SELECT \\* asks for all rows. Generally the\n",
    "syntax is:\n",
    "\n",
    "    SELECT * FROM table WHERE some conditions\n",
    "\n",
    "If you don’t provide a WHERE clause, you get everything, as we do\n",
    "here:"
   ]
  },
  {
   "cell_type": "code",
   "execution_count": 110,
   "metadata": {},
   "outputs": [
    {
     "name": "stdout",
     "output_type": "stream",
     "text": [
      "SELECT * from 'dogs'\n"
     ]
    }
   ],
   "source": [
    "cmd = \"SELECT * from 'dogs'\"\n",
    "curs.execute(cmd)\n",
    "print(cmd)"
   ]
  },
  {
   "cell_type": "markdown",
   "metadata": {},
   "source": [
    "If the database finds rows matching your request, it passes that\n",
    "information to the cursor object. In order to actually extract data, you\n",
    "have to ask for it using one of the “fetch” methods which are:\n",
    "**fetchall**(), **fetchone**(), and **fetchmany**(). \n",
    "\n",
    "You need to provide **fetchmany** an integer to let it know how many rows you want."
   ]
  },
  {
   "cell_type": "code",
   "execution_count": 111,
   "metadata": {},
   "outputs": [
    {
     "name": "stdout",
     "output_type": "stream",
     "text": [
      "[('Fang', 'bone', 90)]\n"
     ]
    }
   ],
   "source": [
    "result=curs.fetchall()\n",
    "print(result)"
   ]
  },
  {
   "cell_type": "markdown",
   "metadata": {},
   "source": [
    "As you can see we get a **list** of **tuples**. If the query didn’t\n",
    "return anything, we’d get an empty **list**. \n",
    "\n",
    "We can now unpack the results using logic like:\n",
    "\n",
    "    column_1, column_2, column3 = row"
   ]
  },
  {
   "cell_type": "code",
   "execution_count": 112,
   "metadata": {},
   "outputs": [
    {
     "name": "stdout",
     "output_type": "stream",
     "text": [
      "Congrats, you've got you some dawgs!\n",
      "Fang bone 90\n"
     ]
    }
   ],
   "source": [
    "if result:\n",
    "    print(\"Congrats, you've got you some dawgs!\")\n",
    "for row in result:\n",
    "    name, toy, weight = row\n",
    "    print(name, toy, weight)"
   ]
  },
  {
   "cell_type": "markdown",
   "metadata": {},
   "source": [
    "Here’s an alternative way to add information using the **executemany**()\n",
    "method. Note that the first argument is the SQL command and the second\n",
    "is a **list**-like collection of **tuples** to be executed against it:"
   ]
  },
  {
   "cell_type": "code",
   "execution_count": 114,
   "metadata": {
    "scrolled": true
   },
   "outputs": [
    {
     "name": "stdout",
     "output_type": "stream",
     "text": [
      "Fang bone 90\n",
      "Biscuit towel 70\n",
      "Snoopy squirrel 60\n",
      "Biscuit towel 70\n",
      "Snoopy squirrel 60\n"
     ]
    }
   ],
   "source": [
    "curs.executemany('INSERT INTO dogs VALUES(?,?,?)',\n",
    "                 (('Biscuit', 'towel', '70'),('Snoopy', 'squirrel', '60'))\n",
    "                 )\n",
    "conn.commit()\n",
    "\n",
    "cmd = \"SELECT * from 'dogs'\"\n",
    "curs.execute(cmd)\n",
    "result=curs.fetchall()\n",
    "for row in result:\n",
    "    name, toy, weight = row\n",
    "    print(name, toy, weight)"
   ]
  },
  {
   "cell_type": "markdown",
   "metadata": {},
   "source": [
    "## Database Metadata\n",
    "\n",
    "We can see that printing these database tables is a tedious business with lots of repeated code.    Below, you'll find a quick-and-dirty routine that might expedite things.   \n",
    "\n",
    "To make printing a database table more generic, it would be nice to let it be agnostic about the names of the columns, wouldn't it?    We could hard-wire in the names of the columns that we want to print, but every time a column was added or removed we'd have more work to do.\n",
    "\n",
    "It's possible to query any database for its 'metadata' - that is data about itself.   Each product has a different way to store its own data, but it's easy enough to find out just how to do that.   You can, for instance, query for the names of the database tables, the names and data types of the columns within the tables, relationships between tables, and much more. \n",
    "\n",
    "It's also possible to query objects like the cursor to discover the characteristics of its payload.\n",
    "\n",
    "For instance, if we want to find out the names of the columns of data returned by a SELECT then we can query the description attribute of the cursor:"
   ]
  },
  {
   "cell_type": "code",
   "execution_count": 128,
   "metadata": {},
   "outputs": [
    {
     "name": "stdout",
     "output_type": "stream",
     "text": [
      "raw cursor description:\n",
      "(('name', None, None, None, None, None, None), ('toy', None, None, None, None, None, None), ('weight', None, None, None, None, None, None))\n"
     ]
    },
    {
     "data": {
      "text/plain": [
       "('name', 'toy', 'weight')"
      ]
     },
     "execution_count": 128,
     "metadata": {},
     "output_type": "execute_result"
    }
   ],
   "source": [
    "print(f\"raw cursor description:\\n{curs.description}\\n\")\n",
    "\n",
    "# If we want a tuple of the column names:\n",
    "cols = tuple([element[0] for element in curs.description])\n",
    "cols\n"
   ]
  },
  {
   "cell_type": "code",
   "execution_count": 134,
   "metadata": {},
   "outputs": [
    {
     "name": "stdout",
     "output_type": "stream",
     "text": [
      "Running command SELECT * from dogs\n",
      "\n",
      "      name = Fang                toy = bone             weight = 90           \n",
      "      name = Biscuit             toy = towel            weight = 70           \n",
      "      name = Snoopy              toy = squirrel         weight = 60           \n",
      "      name = Biscuit             toy = towel            weight = 70           \n",
      "      name = Snoopy              toy = squirrel         weight = 60           \n"
     ]
    }
   ],
   "source": [
    "def print_rows(tname):\n",
    "    \n",
    "    \"A printing utility function you may want to keep\"\n",
    "    cmd = \"SELECT * from {}\".format(tname)\n",
    "    print(f\"Running command {cmd}\\n\")\n",
    "    curs.execute(cmd)\n",
    "    cols = tuple([element[0] for element in curs.description])\n",
    "    result = curs.fetchall()\n",
    "    \n",
    "    if result:\n",
    "        for r in result:\n",
    "            nice_output = ''\n",
    "            for label, res in zip(cols, r):\n",
    "                nice_output += f\"{label:>10} = {res:<10} {'':<2}\"\n",
    "            print(nice_output)\n",
    "\n",
    "print_rows('dogs')"
   ]
  },
  {
   "cell_type": "markdown",
   "metadata": {},
   "source": [
    "If we want to know how many rows in the database table we can use\n",
    "COUNT(\\*).\n",
    "\n",
    "Here's an example:"
   ]
  },
  {
   "cell_type": "code",
   "execution_count": 133,
   "metadata": {},
   "outputs": [
    {
     "name": "stdout",
     "output_type": "stream",
     "text": [
      "Awesome, we've captured 5 rows.\n"
     ]
    }
   ],
   "source": [
    "cmd=\"SELECT COUNT(*) FROM {}\".format('dogs')\n",
    "curs.execute(cmd)\n",
    "\n",
    "# COUNT only returns one result.  Note the syntax for unpacking a one-element tuple\n",
    "result=curs.fetchone()\n",
    "number_of_rows, = result\n",
    "\n",
    "print(\"Awesome, we've captured {} rows.\".format (number_of_rows))"
   ]
  },
  {
   "cell_type": "markdown",
   "metadata": {},
   "source": [
    "Lazy Evaluation\n",
    "---------------\n",
    "\n",
    "The cursor objects fetch methods are “lazily evaluated”. Like **range**\n",
    "objects and generators, they don’t actually produce information until\n",
    "requested to do so. This is an awesome feature because, even if your\n",
    "query returns a million rows, the cursor object has a minimal\n",
    "“footprint” in memory. \n",
    "\n",
    "You can, if you want, iterate through the entire\n",
    "thing a row at a time using the **fetchone**() method:"
   ]
  },
  {
   "cell_type": "code",
   "execution_count": 138,
   "metadata": {},
   "outputs": [
    {
     "name": "stdout",
     "output_type": "stream",
     "text": [
      "('Fang', 'bone', 90)\n",
      "('Biscuit', 'towel', 70)\n",
      "('Snoopy', 'squirrel', 60)\n",
      "('Biscuit', 'towel', 70)\n",
      "('Snoopy', 'squirrel', 60)\n"
     ]
    }
   ],
   "source": [
    "curs.execute('SELECT * FROM dogs')\n",
    "while True:\n",
    "    row = curs.fetchone()\n",
    "    if not row:\n",
    "        break\n",
    "    print(row)"
   ]
  },
  {
   "cell_type": "markdown",
   "metadata": {},
   "source": [
    "One of the implications of all this is that you can’t “rewind” the\n",
    "cursor – it’s only looking forward. And when they’re done, they’re done\n",
    "once you’ve run through the catch, if you want another look you’ve got\n",
    "to execute the query again"
   ]
  },
  {
   "cell_type": "markdown",
   "metadata": {},
   "source": [
    "Choosing Data with WHERE\n",
    "------------------------\n",
    "\n",
    "Often you don’t want all the data available, but only that which meets\n",
    "certain criteria. \n",
    "\n",
    "We can upgrade our SELECT directive to choose only\n",
    "certain rows and columns."
   ]
  },
  {
   "cell_type": "code",
   "execution_count": 139,
   "metadata": {},
   "outputs": [
    {
     "name": "stdout",
     "output_type": "stream",
     "text": [
      "SELECT name, weight FROM dogs WHERE weight = 60\n",
      "[('Snoopy', 60), ('Snoopy', 60)]\n"
     ]
    }
   ],
   "source": [
    "cmd = 'SELECT name, weight FROM dogs WHERE weight = 60'\n",
    "print(cmd)\n",
    "curs.execute(cmd)\n",
    "print(curs.fetchall())"
   ]
  },
  {
   "cell_type": "markdown",
   "metadata": {},
   "source": [
    "If you would prefer that the data be sorted, you can use the ORDER BY\n",
    "directive.\n",
    "\n",
    "Note that you can make liberal use of whitespace in a SQL command to maintain your sanity."
   ]
  },
  {
   "cell_type": "code",
   "execution_count": 140,
   "metadata": {},
   "outputs": [
    {
     "name": "stdout",
     "output_type": "stream",
     "text": [
      "Running command SELECT * from dogs\n",
      "\n",
      "      name = Fang                toy = bone             weight = 90           \n",
      "      name = Biscuit             toy = towel            weight = 70           \n",
      "      name = Snoopy              toy = squirrel         weight = 60           \n",
      "      name = Biscuit             toy = towel            weight = 70           \n",
      "      name = Snoopy              toy = squirrel         weight = 60           \n"
     ]
    }
   ],
   "source": [
    "cmd = '''\n",
    "    SELECT\n",
    "        name, weight\n",
    "    FROM\n",
    "        dogs\n",
    "    WHERE\n",
    "        weight = 60\n",
    "    ORDER BY \\\n",
    "        name'''\n",
    "\n",
    "curs.execute(cmd)\n",
    "print_rows('dogs')"
   ]
  },
  {
   "cell_type": "markdown",
   "metadata": {},
   "source": [
    "Updating and Deleting Data\n",
    "--------------------------\n",
    "\n",
    "To update fields in data already contained in the database, we can use\n",
    "the UPDATE keyword. The general syntax is:\n",
    "\n",
    "    UPDATE table SET column value WHERE condition\n",
    "\n",
    "So, if we wanted Snoopy to put on a bit of weight, we could go something\n",
    "like:"
   ]
  },
  {
   "cell_type": "code",
   "execution_count": 142,
   "metadata": {},
   "outputs": [
    {
     "name": "stdout",
     "output_type": "stream",
     "text": [
      "Running command SELECT * from dogs\n",
      "\n",
      "      name = Fang                toy = bone             weight = 90           \n",
      "      name = Biscuit             toy = towel            weight = 70           \n",
      "      name = Snoopy              toy = squirrel         weight = 666          \n",
      "      name = Biscuit             toy = towel            weight = 70           \n",
      "      name = Snoopy              toy = squirrel         weight = 666          \n"
     ]
    }
   ],
   "source": [
    "cmd = \"\"\"UPDATE \n",
    "            dogs \n",
    "         SET \n",
    "            weight=666 \n",
    "         WHERE \n",
    "            name='Snoopy'\n",
    "      \"\"\"\n",
    "\n",
    "curs.execute(cmd)\n",
    "print_rows('dogs')"
   ]
  },
  {
   "cell_type": "markdown",
   "metadata": {},
   "source": [
    "We can selectively delete data rows using the DELETE command. Its basic\n",
    "syntax is:\n",
    "\n",
    "    DELETE FROM table WHERE condition\n",
    "\n",
    "These examples show how to winnow down our pack of dogs using variants\n",
    "of DELETE. \n",
    "\n",
    "In the first example we’ll delete all rows where the “toy”\n",
    "column has a specific value. \n",
    "\n",
    "Next we’ll use a wildcard to find values vaguely like the toy we’re looking for\\[57\\]. \n",
    "\n",
    "Finally, we execute DELETE\n",
    "without any conditions to eliminate all the data, but leaving any\n",
    "metadata (column specifications, keys, relationships, etc.) intact."
   ]
  },
  {
   "cell_type": "code",
   "execution_count": 143,
   "metadata": {},
   "outputs": [
    {
     "name": "stdout",
     "output_type": "stream",
     "text": [
      "Running command SELECT * from dogs\n",
      "\n",
      "      name = Fang                toy = bone             weight = 90           \n",
      "      name = Biscuit             toy = towel            weight = 70           \n",
      "      name = Snoopy              toy = squirrel         weight = 666          \n",
      "      name = Biscuit             toy = towel            weight = 70           \n",
      "      name = Snoopy              toy = squirrel         weight = 666          \n"
     ]
    }
   ],
   "source": [
    "# Everything\n",
    "cmd = \"SELECT * FROM {}\".format('dogs')\n",
    "curs.execute(cmd)\n",
    "print_rows('dogs')"
   ]
  },
  {
   "cell_type": "code",
   "execution_count": 144,
   "metadata": {},
   "outputs": [
    {
     "name": "stdout",
     "output_type": "stream",
     "text": [
      "Running command SELECT * from dogs\n",
      "\n",
      "      name = Fang                toy = bone             weight = 90           \n",
      "      name = Biscuit             toy = towel            weight = 70           \n",
      "      name = Snoopy              toy = squirrel         weight = 666          \n",
      "      name = Biscuit             toy = towel            weight = 70           \n",
      "      name = Snoopy              toy = squirrel         weight = 666          \n"
     ]
    }
   ],
   "source": [
    "# Dump dogs with socks\n",
    "cmd = \"DELETE FROM {} WHERE toy = 'sock'\".format('dogs')\n",
    "curs.execute(cmd)\n",
    "print_rows('dogs')"
   ]
  },
  {
   "cell_type": "code",
   "execution_count": 145,
   "metadata": {},
   "outputs": [
    {
     "name": "stdout",
     "output_type": "stream",
     "text": [
      "Running command SELECT * from dogs\n",
      "\n",
      "      name = Fang                toy = bone             weight = 90           \n"
     ]
    }
   ],
   "source": [
    "# Apply a wildcard to the select\n",
    "cmd = \"DELETE FROM {} WHERE toy LIKE '%el'\".format('dogs')\n",
    "curs.execute(cmd)\n",
    "print_rows('dogs')"
   ]
  },
  {
   "cell_type": "code",
   "execution_count": 146,
   "metadata": {},
   "outputs": [
    {
     "name": "stdout",
     "output_type": "stream",
     "text": [
      "Running command SELECT * from dogs\n",
      "\n"
     ]
    }
   ],
   "source": [
    "# Go nuclear with a general delete (metadata survives)\n",
    "cmd = \"DELETE FROM {}\".format('dogs')\n",
    "curs.execute(cmd)\n",
    "print_rows('dogs')"
   ]
  },
  {
   "cell_type": "markdown",
   "metadata": {},
   "source": [
    "## Database Use In Context\n",
    "\n",
    "There’s much more to working with databases, naturally, but you now know the basics. And you can integrate them into your apps without having to leave the Python environment.\n",
    "\n",
    "You'll likely use direct database commands like these and a database like SQLite for on-the-fly, temporary storage of data your program needs to stash.  \n",
    "\n",
    "If you simply need to pile up a queue of things like web addresses to visit, you can use something like collections.dequeue.  If you want to send interprocess messaging, you can use tools like Celery, Python's xmlrpc library, or Python's asynchio library."
   ]
  },
  {
   "cell_type": "markdown",
   "metadata": {},
   "source": [
    "Object-Relational Mapping\n",
    "-------------------------\n",
    "\n",
    "If you get serious about working with databases, especially in the\n",
    "context of a web application, you might look into ORM tools\\[58\\].\n",
    "Generally, these create Python objects that serve as proxies for actual\n",
    "database components. They provide an abstraction layer than can keep you\n",
    "away from the raw SQL code and greatly simplify both your coding task\n",
    "and maintenance chores.\n",
    "\n",
    "To give you a flavor of what these beasts have to offer, here’s some\n",
    "example Django code:"
   ]
  },
  {
   "cell_type": "markdown",
   "metadata": {},
   "source": [
    "    from django.db import models\n",
    "\n",
    "    class SnakeId(models.Model):\n",
    "        id = models.AutoField(unique=True, primary_key=True)\n",
    "        thumb = models.CharField(max_length=80, blank=True, null=True)\n",
    "        species = models.CharField(max_length=50, blank=True, null=True)\n",
    "        img_file = models.CharField(max_length=80, blank=True, null=True)\n",
    "        r = models.IntegerField(blank=True, null=True)\n",
    "        b = models.IntegerField(blank=True, null=True)\n",
    "        g = models.IntegerField(blank=True, null=True)\n",
    "\n",
    "        def __str__(self):\n",
    "            return \"snake_{}\".format(self.id)\n",
    "\n",
    "        class Meta:\n",
    "            managed = True\n",
    "            db_table = 'snake_id'"
   ]
  },
  {
   "cell_type": "markdown",
   "metadata": {},
   "source": [
    "This code describes a database table, its columns, and some metadata.  Let's break it down:\n",
    "\n",
    "    class SnakeId(models.Model):\n",
    "    \n",
    "This creates a subclass of the models.Model class from Django.   A 'Model' is a database table.\n",
    "\n",
    "    thumb = models.CharField(max_length=80, blank=True, null=True)\n",
    "    \n",
    "Attributes of the Model class are database columns.   The column 'thumb' is an instance of Django's CharField object that stands in for whatever string field your database happens to use.   Under the hood, Django will figure out the exact syntax of the SQL required to communicate with your database.   The 'blank=' and 'null=' bits tell the database and downstream template systems about any restrictions on allowing empty fields.\n",
    "\n",
    "        class Meta:\n",
    "            managed = True\n",
    "            db_table = 'snake_id'\n",
    "            \n",
    "In an optional Meta class, you can specify whether Django will take complete control over your database.   If you choose, Django will set relationships among tables, add tables/columns, delete tables/columns, etc. to alter the fundamental structure of your database as your Python-based specifications change.\n",
    "\n"
   ]
  },
  {
   "cell_type": "markdown",
   "metadata": {},
   "source": [
    "By using Python objects (and some magic provided by Django) we can do\n",
    "database queries, pass the query results to a Django HTML template, and\n",
    "render a complete web page. \n",
    "\n",
    "Here's an example:\n",
    "\n",
    "    from django.shortcuts import render\n",
    "    \n",
    "    from .models import SnakeInfo,SnakeColors\n",
    "    \n",
    "    def make_view(render)\n",
    "        snakes = SnakeInfo.objects.order_by('species', 'id')\n",
    "        \n",
    "        objs_to_render=[]\n",
    "        for s in snakes:\n",
    "            colors=SnakeColors.objects.filter(snake=s.id).\n",
    "            order_by('-pct')\n",
    "            objs_to_render.append(colors.all())\n",
    "            context={'snakes': objs_to_render}\n",
    "            \n",
    "    return render(request, 'snakes/index.html', context)\n",
    "    \n",
    "    \n",
    "Here's what's going on:\n",
    "\n",
    "    snakes = SnakeInfo.objects.order_by('species', 'id')\n",
    "    \n",
    "This executes a SELECT command against the **SnakeInfo** table, requesting all rows, and including an ORDER BY clause.    \n",
    "    for s in snakes:\n",
    "    \n",
    "The **for** loop iterates through the returned rows and creates a SELECT statement against a second snake-related table **SnakeColors**, this time using the **id** column as a primary key, and applying a SORT directive.\n",
    "\n",
    "    return render(request, 'snakes/index.html', context)\n",
    "    \n",
    "The **render** directive is sufficient to produce an intact web page using the specified template file and the database query result.    "
   ]
  },
  {
   "cell_type": "markdown",
   "metadata": {},
   "source": [
    "## Exercise\n",
    "\n",
    "Please read the data from py_baseball_data.csv. Column names are in the first row. Dates represent no-hitters. Create a new database table and load this data.\n",
    "\n",
    "Write SQL statements that will let your code figure out how many no-hitters were pitch after June by NL teams.\n",
    "\n",
    "Write unittests to determine that your code works. \n",
    "\n",
    "Hint: you can execute the database creation code in setUp() and destroy the database in tearDown. Individual tests might INSERT or DELETE data and ensure your count stays correct."
   ]
  },
  {
   "cell_type": "markdown",
   "metadata": {},
   "source": [
    "Logging\n",
    "=======\n",
    "\n",
    "Python’s standard library comes with a comprehensive **logging** utility\n",
    "which is powerful yet easy to use. Logging allows you to get away from\n",
    "relying on **print**() statements to track the progress of your apps. It\n",
    "also allows you to selectively choose what to log, and to dynamically\n",
    "update your choice from within your script."
   ]
  },
  {
   "cell_type": "markdown",
   "metadata": {},
   "source": [
    "Basics\n",
    "------\n",
    "\n",
    "The easiest way to get logging going is to use the logging module’s\n",
    "**basicConfig**() method. This tees up essential logging functionality\n",
    "and produces a **logging**.**logger** that you can access later. \n",
    "\n",
    "Let’s begin with a simple example (note - this may require a kernel restart):"
   ]
  },
  {
   "cell_type": "code",
   "execution_count": 102,
   "metadata": {},
   "outputs": [],
   "source": [
    "import logging\n",
    "import os\n",
    "log_fn = os.path.join(os.getcwd(), \"py_log_output.log\")\n",
    "logging.basicConfig(filename=log_fn, level=logging.DEBUG)\n",
    "\n",
    "logger = logging.getLogger()\n",
    "#this writes a line to the file\n",
    "logger.debug(\"Yup, I'm debugging\")"
   ]
  },
  {
   "cell_type": "code",
   "execution_count": 103,
   "metadata": {},
   "outputs": [],
   "source": [
    "# A bonus utility function\n",
    "def print_file(fn):\n",
    "    \"Reads and prints a text file\"\n",
    "    import os\n",
    "    if os.path.exists(fn):\n",
    "        with open(fn) as f:\n",
    "            for line in f:\n",
    "                print(line)\n",
    "    else:\n",
    "        print(f\"Sorry, file {fn} doesn't exist.\")"
   ]
  },
  {
   "cell_type": "code",
   "execution_count": 9,
   "metadata": {},
   "outputs": [
    {
     "name": "stdout",
     "output_type": "stream",
     "text": [
      "DEBUG:root:shouting out at debug level\n",
      "\n",
      "INFO:root:shouting out at info level\n",
      "\n",
      "WARNING:root:shouting out at warning level\n",
      "\n",
      "ERROR:root:shouting out at error level\n",
      "\n",
      "CRITICAL:root:shouting out at critical level\n",
      "\n",
      "DEBUG:root:--------\n",
      "\n",
      "ERROR:root:shouting out at error level\n",
      "\n",
      "CRITICAL:root:shouting out at critical level\n",
      "\n",
      "DEBUG:root:shouting out at debug level\n",
      "\n",
      "INFO:root:shouting out at info level\n",
      "\n",
      "WARNING:root:shouting out at warning level\n",
      "\n",
      "ERROR:root:shouting out at error level\n",
      "\n",
      "CRITICAL:root:shouting out at critical level\n",
      "\n",
      "DEBUG:root:--------\n",
      "\n",
      "ERROR:root:shouting out at error level\n",
      "\n",
      "CRITICAL:root:shouting out at critical level\n",
      "\n",
      "DEBUG:parso.cache:pickle loaded: C:\\Users\\pat\\AppData\\Roaming\\Python\\Python39\\site-packages\\jedi\\third_party\\typeshed\\stdlib\\2and3\\builtins.pyi\n",
      "\n",
      "DEBUG:parso.cache:pickle loaded: C:\\Users\\pat\\AppData\\Roaming\\Python\\Python39\\site-packages\\jedi\\third_party\\typeshed\\stdlib\\3\\sys.pyi\n",
      "\n",
      "DEBUG:parso.python.diff:diff parser start\n",
      "\n",
      "DEBUG:parso.python.diff:line_lengths old: 8; new: 8\n",
      "\n",
      "DEBUG:parso.python.diff:-> code[equal] old[1:7] new[1:7]\n",
      "\n",
      "DEBUG:parso.python.diff:copy old[2:7] new[1:4]\n",
      "\n",
      "DEBUG:parso.python.diff:parse_part from 5 to 8 (to 7 in part parser)\n",
      "\n",
      "DEBUG:parso.python.diff:-> code[replace] old[8:8] new[8:8]\n",
      "\n",
      "DEBUG:parso.python.diff:diff parser end\n",
      "\n",
      "DEBUG:parso.python.diff:diff parser start\n",
      "\n",
      "DEBUG:parso.python.diff:line_lengths old: 8; new: 8\n",
      "\n",
      "DEBUG:parso.python.diff:-> code[equal] old[1:7] new[1:7]\n",
      "\n",
      "DEBUG:parso.python.diff:copy old[2:7] new[1:4]\n",
      "\n",
      "DEBUG:parso.python.diff:parse_part from 5 to 8 (to 7 in part parser)\n",
      "\n",
      "DEBUG:parso.python.diff:-> code[replace] old[8:8] new[8:8]\n",
      "\n",
      "DEBUG:parso.python.diff:diff parser end\n",
      "\n",
      "DEBUG:parso.python.diff:diff parser start\n",
      "\n",
      "DEBUG:parso.python.diff:line_lengths old: 8; new: 8\n",
      "\n",
      "DEBUG:parso.python.diff:-> code[equal] old[1:7] new[1:7]\n",
      "\n",
      "DEBUG:parso.python.diff:copy old[2:7] new[1:4]\n",
      "\n",
      "DEBUG:parso.python.diff:parse_part from 5 to 8 (to 7 in part parser)\n",
      "\n",
      "DEBUG:parso.python.diff:-> code[replace] old[8:8] new[8:8]\n",
      "\n",
      "DEBUG:parso.python.diff:diff parser end\n",
      "\n",
      "DEBUG:parso.python.diff:diff parser start\n",
      "\n",
      "DEBUG:parso.python.diff:line_lengths old: 8; new: 8\n",
      "\n",
      "DEBUG:parso.python.diff:-> code[equal] old[1:7] new[1:7]\n",
      "\n",
      "DEBUG:parso.python.diff:copy old[2:7] new[1:4]\n",
      "\n",
      "DEBUG:parso.python.diff:parse_part from 5 to 8 (to 7 in part parser)\n",
      "\n",
      "DEBUG:parso.python.diff:-> code[replace] old[8:8] new[8:8]\n",
      "\n",
      "DEBUG:parso.python.diff:diff parser end\n",
      "\n",
      "DEBUG:root:shouting out at debug level\n",
      "\n",
      "INFO:root:shouting out at info level\n",
      "\n",
      "WARNING:root:shouting out at warning level\n",
      "\n",
      "ERROR:root:shouting out at error level\n",
      "\n",
      "CRITICAL:root:shouting out at critical level\n",
      "\n",
      "DEBUG:root:--------\n",
      "\n",
      "ERROR:root:shouting out at error level\n",
      "\n",
      "CRITICAL:root:shouting out at critical level\n",
      "\n",
      "DEBUG:root:Yup, I'm debugging\n",
      "\n"
     ]
    }
   ],
   "source": [
    "print_file(log_fn)"
   ]
  },
  {
   "cell_type": "markdown",
   "metadata": {},
   "source": [
    "Logging Levels\n",
    "--------------\n",
    "\n",
    "The logger comes with five logging levels “baked in”. It’s possible to\n",
    "add custom levels, but these work for most situations."
   ]
  },
  {
   "cell_type": "code",
   "execution_count": 10,
   "metadata": {},
   "outputs": [],
   "source": [
    "import logging\n",
    "\n",
    "LOG_FILENAME = \"py_log_output.log\"\n",
    "LEVELS = {  'debug': logging.DEBUG,\n",
    "            'info': logging.INFO,\n",
    "            'warning': logging.WARNING,\n",
    "            'error': logging.ERROR,\n",
    "            'critical': logging.CRITICAL\n",
    "         }\n",
    "logging.basicConfig(filename=LOG_FILENAME, level=LEVELS['debug'])"
   ]
  },
  {
   "cell_type": "markdown",
   "metadata": {},
   "source": [
    "When we set up the logger, we have gone ahead and set the logging level.  So what do we mean by “logging level”? \n",
    "\n",
    "Here’s a way to think about it. When we log an event, we do so with commands like:\n",
    "\n",
    "    logging.debug(“Some in-the-weeds-information”)\n",
    "    logging.critical(“Western Civilization As We Know It Is Ending!”)\n",
    "\n",
    "\n",
    "Unlike the familiar **print** function, these will not necessarily\n",
    "create a logging event every time the code is run. They will only fire\n",
    "if they are “worse” than the level we’ve assigned.\n",
    "\n",
    "Under the hood, the logger assigns “points” to each level:\n",
    "\n",
    "    logging.DEBUG=10\n",
    "    logging.INFO=20\n",
    "    logging.WARNING=30\n",
    "    logging.ERROR=40\n",
    "    logging.CRITICAL=50\n",
    "\n",
    "**logging**.**info**() creates a logging event worth 20 “points”. If the\n",
    "default level is set to a “point value” less than or equal to that\n",
    "(DEBUG or INFO) the log event fires.\n",
    "\n",
    "The idea is that you can sprinkle your code with messages at a variety\n",
    "of logging levels. During debugging, you might want really verbose\n",
    "output so you can monitor what’s going on. In production you might only\n",
    "want to know when the wheels are coming off. If you’re logging network\n",
    "traffic, you might want to differentiate between (potentially) benign\n",
    "anomalies and intrusion signatures."
   ]
  },
  {
   "cell_type": "markdown",
   "metadata": {},
   "source": [
    "Dynamically Changing the Level\n",
    "------------------------------\n",
    "\n",
    "You can change the logging level dynamically by accessing the **logger**\n",
    "object. Here’s a short app to demonstrate how:"
   ]
  },
  {
   "cell_type": "code",
   "execution_count": 11,
   "metadata": {},
   "outputs": [
    {
     "name": "stdout",
     "output_type": "stream",
     "text": [
      "DEBUG:root:shouting out at debug level\n",
      "\n",
      "INFO:root:shouting out at info level\n",
      "\n",
      "WARNING:root:shouting out at warning level\n",
      "\n",
      "ERROR:root:shouting out at error level\n",
      "\n",
      "CRITICAL:root:shouting out at critical level\n",
      "\n",
      "DEBUG:root:--------\n",
      "\n",
      "ERROR:root:shouting out at error level\n",
      "\n",
      "CRITICAL:root:shouting out at critical level\n",
      "\n",
      "DEBUG:root:shouting out at debug level\n",
      "\n",
      "INFO:root:shouting out at info level\n",
      "\n",
      "WARNING:root:shouting out at warning level\n",
      "\n",
      "ERROR:root:shouting out at error level\n",
      "\n",
      "CRITICAL:root:shouting out at critical level\n",
      "\n",
      "DEBUG:root:--------\n",
      "\n",
      "ERROR:root:shouting out at error level\n",
      "\n",
      "CRITICAL:root:shouting out at critical level\n",
      "\n",
      "DEBUG:parso.cache:pickle loaded: C:\\Users\\pat\\AppData\\Roaming\\Python\\Python39\\site-packages\\jedi\\third_party\\typeshed\\stdlib\\2and3\\builtins.pyi\n",
      "\n",
      "DEBUG:parso.cache:pickle loaded: C:\\Users\\pat\\AppData\\Roaming\\Python\\Python39\\site-packages\\jedi\\third_party\\typeshed\\stdlib\\3\\sys.pyi\n",
      "\n",
      "DEBUG:parso.python.diff:diff parser start\n",
      "\n",
      "DEBUG:parso.python.diff:line_lengths old: 8; new: 8\n",
      "\n",
      "DEBUG:parso.python.diff:-> code[equal] old[1:7] new[1:7]\n",
      "\n",
      "DEBUG:parso.python.diff:copy old[2:7] new[1:4]\n",
      "\n",
      "DEBUG:parso.python.diff:parse_part from 5 to 8 (to 7 in part parser)\n",
      "\n",
      "DEBUG:parso.python.diff:-> code[replace] old[8:8] new[8:8]\n",
      "\n",
      "DEBUG:parso.python.diff:diff parser end\n",
      "\n",
      "DEBUG:parso.python.diff:diff parser start\n",
      "\n",
      "DEBUG:parso.python.diff:line_lengths old: 8; new: 8\n",
      "\n",
      "DEBUG:parso.python.diff:-> code[equal] old[1:7] new[1:7]\n",
      "\n",
      "DEBUG:parso.python.diff:copy old[2:7] new[1:4]\n",
      "\n",
      "DEBUG:parso.python.diff:parse_part from 5 to 8 (to 7 in part parser)\n",
      "\n",
      "DEBUG:parso.python.diff:-> code[replace] old[8:8] new[8:8]\n",
      "\n",
      "DEBUG:parso.python.diff:diff parser end\n",
      "\n",
      "DEBUG:parso.python.diff:diff parser start\n",
      "\n",
      "DEBUG:parso.python.diff:line_lengths old: 8; new: 8\n",
      "\n",
      "DEBUG:parso.python.diff:-> code[equal] old[1:7] new[1:7]\n",
      "\n",
      "DEBUG:parso.python.diff:copy old[2:7] new[1:4]\n",
      "\n",
      "DEBUG:parso.python.diff:parse_part from 5 to 8 (to 7 in part parser)\n",
      "\n",
      "DEBUG:parso.python.diff:-> code[replace] old[8:8] new[8:8]\n",
      "\n",
      "DEBUG:parso.python.diff:diff parser end\n",
      "\n",
      "DEBUG:parso.python.diff:diff parser start\n",
      "\n",
      "DEBUG:parso.python.diff:line_lengths old: 8; new: 8\n",
      "\n",
      "DEBUG:parso.python.diff:-> code[equal] old[1:7] new[1:7]\n",
      "\n",
      "DEBUG:parso.python.diff:copy old[2:7] new[1:4]\n",
      "\n",
      "DEBUG:parso.python.diff:parse_part from 5 to 8 (to 7 in part parser)\n",
      "\n",
      "DEBUG:parso.python.diff:-> code[replace] old[8:8] new[8:8]\n",
      "\n",
      "DEBUG:parso.python.diff:diff parser end\n",
      "\n",
      "DEBUG:root:shouting out at debug level\n",
      "\n",
      "INFO:root:shouting out at info level\n",
      "\n",
      "WARNING:root:shouting out at warning level\n",
      "\n",
      "ERROR:root:shouting out at error level\n",
      "\n",
      "CRITICAL:root:shouting out at critical level\n",
      "\n",
      "DEBUG:root:--------\n",
      "\n",
      "ERROR:root:shouting out at error level\n",
      "\n",
      "CRITICAL:root:shouting out at critical level\n",
      "\n",
      "DEBUG:root:Yup, I'm debugging\n",
      "\n",
      "DEBUG:root:shouting out at debug level\n",
      "\n",
      "INFO:root:shouting out at info level\n",
      "\n",
      "WARNING:root:shouting out at warning level\n",
      "\n",
      "ERROR:root:shouting out at error level\n",
      "\n",
      "CRITICAL:root:shouting out at critical level\n",
      "\n",
      "DEBUG:root:--------\n",
      "\n",
      "ERROR:root:shouting out at error level\n",
      "\n",
      "CRITICAL:root:shouting out at critical level\n",
      "\n"
     ]
    }
   ],
   "source": [
    "def shout_out():\n",
    "    # Cycle through the different built-in levels\n",
    "    logging.debug(\"shouting out at debug level\")\n",
    "    logging.info(\"shouting out at info level\")\n",
    "    logging.warning(\"shouting out at warning level\")\n",
    "    logging.error(\"shouting out at error level\")\n",
    "    logging.critical(\"shouting out at critical level\")\n",
    "    logging.debug(\"--------\")\n",
    "    \n",
    "#log at all levels with level set to DEBUG\n",
    "shout_out()\n",
    "\n",
    "logging.getLogger().setLevel(logging.ERROR)\n",
    "shout_out()\n",
    "\n",
    "# Reset to DEBUG\n",
    "logging.getLogger().setLevel(logging.DEBUG)\n",
    "\n",
    "print_file(log_fn)"
   ]
  },
  {
   "cell_type": "markdown",
   "metadata": {},
   "source": [
    "Customizing Your Logging\n",
    "------------------------\n",
    "\n",
    "You’re not stuck with the default levels. Internally, the system knows\n",
    "the “point value” for all these, but you can assign your own.\n",
    "\n",
    "Let’s say that you have identified a situation that raises a\n",
    "WombatException. You might decide that its criticality is something\n",
    "between WARNING and ERROR and want to adjust accordingly\\[59\\]. \n",
    "\n",
    "You can\n",
    "create a logging message by grabbing an instance of the logger and\n",
    "utilize its **getlogger**() method, something like"
   ]
  },
  {
   "cell_type": "markdown",
   "metadata": {},
   "source": [
    "    class WombatException(Exception):\n",
    "        logger=logging.getLogger()\n",
    "        logger.log(WOMBAT, \"Wombat!\")"
   ]
  },
  {
   "cell_type": "markdown",
   "metadata": {},
   "source": [
    "You can also customize what your logging message looks like, borrowing\n",
    "system object like the name of the module, the name of the function, and\n",
    "time of day. You can do this as part of the **basicConfig**() setup by\n",
    "going something like:\n",
    "\n",
    "\n",
    "    logging.basicConfig(filename=LOG_FILENAME,\n",
    "    level=logging.DEBUG, format=LOG_FORMAT)\n",
    "\n",
    "The LOG\\_FORMAT is sort of like the format string that you’d feed to\n",
    "**str**.**format**(). The main difference is that you can tap into\n",
    "predefined “wildcard” characters that are associated with system-level\n",
    "information like the module name, time of day, function name, etc.\n",
    "\n",
    "A format string defined thusly:\n",
    "\n",
    "\n",
    "LOG_FORMAT = \"%(asctime)s called from %(module)s: %(lineno)d %(message)s\"\n",
    "\n",
    "\n",
    "\n",
    "\n",
    "… will produce a message like this one:\n",
    "\n",
    "|                                                            |\n",
    "|------------------------------------------------------------|\n",
    "| 2016-10-04 08:31:55,113 called from py\\_log\\_3: 11 Wombat! |\n",
    "\n",
    "Here are some of the more commonly-used format string options:\n",
    "\n",
    "    %(asctime)s default: 2003-07-08 16:49:45\n",
    "    %(created)f time created\n",
    "    %(filename)s filename only\n",
    "    %(pathname)s full path\n",
    "    %(funcName)s function called from\n",
    "    %(levelname)s level (DEBUG, etc.)\n",
    "    %(levelno)s level (10, etc.)\n",
    "    %(lineno)d line number\n",
    "    %(module)s module name\n",
    "    %(message)s message\n",
    "    %(name)s logger name\n",
    "\n",
    "\n",
    "You can find a complete listing of them in the official docs\\[60\\].\n",
    "\n",
    "Here’s how one might implement a logger with a custom level, which might\n",
    "be triggered in the event of a real Wombat emergency."
   ]
  },
  {
   "cell_type": "code",
   "execution_count": 16,
   "metadata": {},
   "outputs": [
    {
     "ename": "WombatException",
     "evalue": "",
     "output_type": "error",
     "traceback": [
      "\u001b[1;31m---------------------------------------------------------------------------\u001b[0m",
      "\u001b[1;31mWombatException\u001b[0m                           Traceback (most recent call last)",
      "\u001b[1;32m<ipython-input-16-dc978198194e>\u001b[0m in \u001b[0;36m<module>\u001b[1;34m\u001b[0m\n\u001b[0;32m     20\u001b[0m     \u001b[1;32mraise\u001b[0m \u001b[0mWombatException\u001b[0m\u001b[1;33m\u001b[0m\u001b[1;33m\u001b[0m\u001b[0m\n\u001b[0;32m     21\u001b[0m \u001b[1;33m\u001b[0m\u001b[0m\n\u001b[1;32m---> 22\u001b[1;33m \u001b[0mdo_raise_wombat\u001b[0m\u001b[1;33m(\u001b[0m\u001b[1;33m)\u001b[0m\u001b[1;33m\u001b[0m\u001b[1;33m\u001b[0m\u001b[0m\n\u001b[0m\u001b[0;32m     23\u001b[0m \u001b[0mprint_file\u001b[0m\u001b[1;33m(\u001b[0m\u001b[0mlog_fn\u001b[0m\u001b[1;33m)\u001b[0m\u001b[1;33m\u001b[0m\u001b[1;33m\u001b[0m\u001b[0m\n",
      "\u001b[1;32m<ipython-input-16-dc978198194e>\u001b[0m in \u001b[0;36mdo_raise_wombat\u001b[1;34m()\u001b[0m\n\u001b[0;32m     18\u001b[0m \u001b[1;31m# Raise the alarm!\u001b[0m\u001b[1;33m\u001b[0m\u001b[1;33m\u001b[0m\u001b[1;33m\u001b[0m\u001b[0m\n\u001b[0;32m     19\u001b[0m \u001b[1;32mdef\u001b[0m \u001b[0mdo_raise_wombat\u001b[0m\u001b[1;33m(\u001b[0m\u001b[1;33m)\u001b[0m\u001b[1;33m:\u001b[0m\u001b[1;33m\u001b[0m\u001b[1;33m\u001b[0m\u001b[0m\n\u001b[1;32m---> 20\u001b[1;33m     \u001b[1;32mraise\u001b[0m \u001b[0mWombatException\u001b[0m\u001b[1;33m\u001b[0m\u001b[1;33m\u001b[0m\u001b[0m\n\u001b[0m\u001b[0;32m     21\u001b[0m \u001b[1;33m\u001b[0m\u001b[0m\n\u001b[0;32m     22\u001b[0m \u001b[0mdo_raise_wombat\u001b[0m\u001b[1;33m(\u001b[0m\u001b[1;33m)\u001b[0m\u001b[1;33m\u001b[0m\u001b[1;33m\u001b[0m\u001b[0m\n",
      "\u001b[1;31mWombatException\u001b[0m: "
     ]
    }
   ],
   "source": [
    "import logging\n",
    "\n",
    "# Logging constants\n",
    "WOMBAT=logging.WARNING + 1\n",
    "LOG_FILENAME = \"py_log_output.log\"\n",
    "LOG_FORMAT = \"%(asctime)s called from %(module)s: %(lineno)d %(message)s\"\n",
    "\n",
    "# Logging setup\n",
    "logging.basicConfig(filename=LOG_FILENAME,\n",
    "                    level=logging.DEBUG,\n",
    "                    format=LOG_FORMAT)\n",
    "\n",
    "# Custom exception\n",
    "class WombatException(Exception):\n",
    "    logger=logging.getLogger()\n",
    "    logger.log(WOMBAT, \"Wombat!\")\n",
    "\n",
    "# Raise the alarm!\n",
    "def do_raise_wombat():\n",
    "    raise WombatException\n",
    "    \n",
    "do_raise_wombat()\n"
   ]
  },
  {
   "cell_type": "code",
   "execution_count": 17,
   "metadata": {},
   "outputs": [
    {
     "name": "stdout",
     "output_type": "stream",
     "text": [
      "DEBUG:root:shouting out at debug level\n",
      "\n",
      "INFO:root:shouting out at info level\n",
      "\n",
      "WARNING:root:shouting out at warning level\n",
      "\n",
      "ERROR:root:shouting out at error level\n",
      "\n",
      "CRITICAL:root:shouting out at critical level\n",
      "\n",
      "DEBUG:root:--------\n",
      "\n",
      "ERROR:root:shouting out at error level\n",
      "\n",
      "CRITICAL:root:shouting out at critical level\n",
      "\n",
      "DEBUG:root:shouting out at debug level\n",
      "\n",
      "INFO:root:shouting out at info level\n",
      "\n",
      "WARNING:root:shouting out at warning level\n",
      "\n",
      "ERROR:root:shouting out at error level\n",
      "\n",
      "CRITICAL:root:shouting out at critical level\n",
      "\n",
      "DEBUG:root:--------\n",
      "\n",
      "ERROR:root:shouting out at error level\n",
      "\n",
      "CRITICAL:root:shouting out at critical level\n",
      "\n",
      "DEBUG:parso.cache:pickle loaded: C:\\Users\\pat\\AppData\\Roaming\\Python\\Python39\\site-packages\\jedi\\third_party\\typeshed\\stdlib\\2and3\\builtins.pyi\n",
      "\n",
      "DEBUG:parso.cache:pickle loaded: C:\\Users\\pat\\AppData\\Roaming\\Python\\Python39\\site-packages\\jedi\\third_party\\typeshed\\stdlib\\3\\sys.pyi\n",
      "\n",
      "DEBUG:parso.python.diff:diff parser start\n",
      "\n",
      "DEBUG:parso.python.diff:line_lengths old: 8; new: 8\n",
      "\n",
      "DEBUG:parso.python.diff:-> code[equal] old[1:7] new[1:7]\n",
      "\n",
      "DEBUG:parso.python.diff:copy old[2:7] new[1:4]\n",
      "\n",
      "DEBUG:parso.python.diff:parse_part from 5 to 8 (to 7 in part parser)\n",
      "\n",
      "DEBUG:parso.python.diff:-> code[replace] old[8:8] new[8:8]\n",
      "\n",
      "DEBUG:parso.python.diff:diff parser end\n",
      "\n",
      "DEBUG:parso.python.diff:diff parser start\n",
      "\n",
      "DEBUG:parso.python.diff:line_lengths old: 8; new: 8\n",
      "\n",
      "DEBUG:parso.python.diff:-> code[equal] old[1:7] new[1:7]\n",
      "\n",
      "DEBUG:parso.python.diff:copy old[2:7] new[1:4]\n",
      "\n",
      "DEBUG:parso.python.diff:parse_part from 5 to 8 (to 7 in part parser)\n",
      "\n",
      "DEBUG:parso.python.diff:-> code[replace] old[8:8] new[8:8]\n",
      "\n",
      "DEBUG:parso.python.diff:diff parser end\n",
      "\n",
      "DEBUG:parso.python.diff:diff parser start\n",
      "\n",
      "DEBUG:parso.python.diff:line_lengths old: 8; new: 8\n",
      "\n",
      "DEBUG:parso.python.diff:-> code[equal] old[1:7] new[1:7]\n",
      "\n",
      "DEBUG:parso.python.diff:copy old[2:7] new[1:4]\n",
      "\n",
      "DEBUG:parso.python.diff:parse_part from 5 to 8 (to 7 in part parser)\n",
      "\n",
      "DEBUG:parso.python.diff:-> code[replace] old[8:8] new[8:8]\n",
      "\n",
      "DEBUG:parso.python.diff:diff parser end\n",
      "\n",
      "DEBUG:parso.python.diff:diff parser start\n",
      "\n",
      "DEBUG:parso.python.diff:line_lengths old: 8; new: 8\n",
      "\n",
      "DEBUG:parso.python.diff:-> code[equal] old[1:7] new[1:7]\n",
      "\n",
      "DEBUG:parso.python.diff:copy old[2:7] new[1:4]\n",
      "\n",
      "DEBUG:parso.python.diff:parse_part from 5 to 8 (to 7 in part parser)\n",
      "\n",
      "DEBUG:parso.python.diff:-> code[replace] old[8:8] new[8:8]\n",
      "\n",
      "DEBUG:parso.python.diff:diff parser end\n",
      "\n",
      "DEBUG:root:shouting out at debug level\n",
      "\n",
      "INFO:root:shouting out at info level\n",
      "\n",
      "WARNING:root:shouting out at warning level\n",
      "\n",
      "ERROR:root:shouting out at error level\n",
      "\n",
      "CRITICAL:root:shouting out at critical level\n",
      "\n",
      "DEBUG:root:--------\n",
      "\n",
      "ERROR:root:shouting out at error level\n",
      "\n",
      "CRITICAL:root:shouting out at critical level\n",
      "\n",
      "DEBUG:root:Yup, I'm debugging\n",
      "\n",
      "DEBUG:root:shouting out at debug level\n",
      "\n",
      "INFO:root:shouting out at info level\n",
      "\n",
      "WARNING:root:shouting out at warning level\n",
      "\n",
      "ERROR:root:shouting out at error level\n",
      "\n",
      "CRITICAL:root:shouting out at critical level\n",
      "\n",
      "DEBUG:root:--------\n",
      "\n",
      "ERROR:root:shouting out at error level\n",
      "\n",
      "CRITICAL:root:shouting out at critical level\n",
      "\n",
      "DEBUG:parso.python.diff:diff parser start\n",
      "\n",
      "DEBUG:parso.python.diff:line_lengths old: 8; new: 11\n",
      "\n",
      "DEBUG:parso.python.diff:-> code[replace] old[1:8] new[1:11]\n",
      "\n",
      "DEBUG:parso.python.diff:parse_part from 1 to 11 (to 10 in part parser)\n",
      "\n",
      "DEBUG:parso.python.diff:diff parser end\n",
      "\n",
      "Level 31:root:Wombat!\n",
      "\n",
      "Level 31:root:Wombat!\n",
      "\n"
     ]
    }
   ],
   "source": [
    "print_file(log_fn)"
   ]
  },
  {
   "cell_type": "markdown",
   "metadata": {},
   "source": [
    "Logging to Multiple Destinations\n",
    "--------------------------------\n",
    "\n",
    "You might find yourself needing to separate logging traffic into\n",
    "something like a “log of record” which records every bit of minutia.\n",
    "Maybe you’re cataloguing all the IP traffic on a site and hanging onto\n",
    "it for a week for potential forensic analysis. Vital stuff, but not\n",
    "intended for humans. You might want to have, in addition, a way to send\n",
    "only critical messages to human responders – maybe via a text message or\n",
    "phone call. Python’s **logging** library can handle that, too.\n",
    "\n",
    "**Logger** objects are endowed with “handlers” which manage the traffic\n",
    "from the logging system. Each logger can have multiple handlers, which\n",
    "can be configured separately. The default, which we’ve implicitly been\n",
    "using, is a **FileHandler**. As you’ve seen, it dutifully updates a\n",
    "designated log file with each event.\n",
    "\n",
    "Let’s say we want to send only critical messages to the console and log\n",
    "all messages in a file. \n",
    "Here’s how we might set up an extra handler for\n",
    "the critical messages:"
   ]
  },
  {
   "cell_type": "code",
   "execution_count": 5,
   "metadata": {},
   "outputs": [
    {
     "name": "stderr",
     "output_type": "stream",
     "text": [
      "root        : CRITICAL Wombats have been detected!\n"
     ]
    }
   ],
   "source": [
    "# Adapted from docs/python.org/howto/logging-cookbook.html\n",
    "import logging\n",
    "\n",
    "LOG_FILENAME = \"py_log_output.log\"\n",
    "\n",
    "logging.basicConfig(\n",
    "                    level=logging.INFO,\n",
    "                    format='%(asctime)s %(name)-12s %(levelname)-8s’ ‘%(message)s',\n",
    "                    datefmt='%m-%d %H:%M',\n",
    "                    filename=LOG_FILENAME)\n",
    "\n",
    "# Create a new Handler\n",
    "console = logging.StreamHandler()\n",
    "console.setLevel(logging.ERROR)\n",
    "\n",
    "# Create a new Formatter\n",
    "formatter = logging.Formatter('%(name)-12s: %(levelname)-8s %(message)s')\n",
    "\n",
    "# Install the Formatter in the Handler (just like tk widgets)\n",
    "console.setFormatter(formatter)\n",
    "\n",
    "# Install the Handler in the Logger\n",
    "logging.getLogger('').addHandler(console)\n",
    "\n",
    "# Let's try it out.\n",
    "logging.critical('Wombats have been detected!')\n",
    "logging.debug('just more boring log content')"
   ]
  },
  {
   "cell_type": "code",
   "execution_count": 7,
   "metadata": {},
   "outputs": [
    {
     "name": "stdout",
     "output_type": "stream",
     "text": [
      "DEBUG:root:shouting out at debug level\n",
      "\n",
      "INFO:root:shouting out at info level\n",
      "\n",
      "WARNING:root:shouting out at warning level\n",
      "\n",
      "ERROR:root:shouting out at error level\n",
      "\n",
      "CRITICAL:root:shouting out at critical level\n",
      "\n",
      "DEBUG:root:--------\n",
      "\n",
      "ERROR:root:shouting out at error level\n",
      "\n",
      "CRITICAL:root:shouting out at critical level\n",
      "\n",
      "DEBUG:root:shouting out at debug level\n",
      "\n",
      "INFO:root:shouting out at info level\n",
      "\n",
      "WARNING:root:shouting out at warning level\n",
      "\n",
      "ERROR:root:shouting out at error level\n",
      "\n",
      "CRITICAL:root:shouting out at critical level\n",
      "\n",
      "DEBUG:root:--------\n",
      "\n",
      "ERROR:root:shouting out at error level\n",
      "\n",
      "CRITICAL:root:shouting out at critical level\n",
      "\n",
      "DEBUG:parso.cache:pickle loaded: C:\\Users\\pat\\AppData\\Roaming\\Python\\Python39\\site-packages\\jedi\\third_party\\typeshed\\stdlib\\2and3\\builtins.pyi\n",
      "\n",
      "DEBUG:parso.cache:pickle loaded: C:\\Users\\pat\\AppData\\Roaming\\Python\\Python39\\site-packages\\jedi\\third_party\\typeshed\\stdlib\\3\\sys.pyi\n",
      "\n",
      "DEBUG:parso.python.diff:diff parser start\n",
      "\n",
      "DEBUG:parso.python.diff:line_lengths old: 8; new: 8\n",
      "\n",
      "DEBUG:parso.python.diff:-> code[equal] old[1:7] new[1:7]\n",
      "\n",
      "DEBUG:parso.python.diff:copy old[2:7] new[1:4]\n",
      "\n",
      "DEBUG:parso.python.diff:parse_part from 5 to 8 (to 7 in part parser)\n",
      "\n",
      "DEBUG:parso.python.diff:-> code[replace] old[8:8] new[8:8]\n",
      "\n",
      "DEBUG:parso.python.diff:diff parser end\n",
      "\n",
      "DEBUG:parso.python.diff:diff parser start\n",
      "\n",
      "DEBUG:parso.python.diff:line_lengths old: 8; new: 8\n",
      "\n",
      "DEBUG:parso.python.diff:-> code[equal] old[1:7] new[1:7]\n",
      "\n",
      "DEBUG:parso.python.diff:copy old[2:7] new[1:4]\n",
      "\n",
      "DEBUG:parso.python.diff:parse_part from 5 to 8 (to 7 in part parser)\n",
      "\n",
      "DEBUG:parso.python.diff:-> code[replace] old[8:8] new[8:8]\n",
      "\n",
      "DEBUG:parso.python.diff:diff parser end\n",
      "\n",
      "DEBUG:parso.python.diff:diff parser start\n",
      "\n",
      "DEBUG:parso.python.diff:line_lengths old: 8; new: 8\n",
      "\n",
      "DEBUG:parso.python.diff:-> code[equal] old[1:7] new[1:7]\n",
      "\n",
      "DEBUG:parso.python.diff:copy old[2:7] new[1:4]\n",
      "\n",
      "DEBUG:parso.python.diff:parse_part from 5 to 8 (to 7 in part parser)\n",
      "\n",
      "DEBUG:parso.python.diff:-> code[replace] old[8:8] new[8:8]\n",
      "\n",
      "DEBUG:parso.python.diff:diff parser end\n",
      "\n",
      "DEBUG:parso.python.diff:diff parser start\n",
      "\n",
      "DEBUG:parso.python.diff:line_lengths old: 8; new: 8\n",
      "\n",
      "DEBUG:parso.python.diff:-> code[equal] old[1:7] new[1:7]\n",
      "\n",
      "DEBUG:parso.python.diff:copy old[2:7] new[1:4]\n",
      "\n",
      "DEBUG:parso.python.diff:parse_part from 5 to 8 (to 7 in part parser)\n",
      "\n",
      "DEBUG:parso.python.diff:-> code[replace] old[8:8] new[8:8]\n",
      "\n",
      "DEBUG:parso.python.diff:diff parser end\n",
      "\n",
      "DEBUG:root:shouting out at debug level\n",
      "\n",
      "INFO:root:shouting out at info level\n",
      "\n",
      "WARNING:root:shouting out at warning level\n",
      "\n",
      "ERROR:root:shouting out at error level\n",
      "\n",
      "CRITICAL:root:shouting out at critical level\n",
      "\n",
      "DEBUG:root:--------\n",
      "\n",
      "ERROR:root:shouting out at error level\n",
      "\n",
      "CRITICAL:root:shouting out at critical level\n",
      "\n",
      "DEBUG:root:Yup, I'm debugging\n",
      "\n",
      "DEBUG:root:shouting out at debug level\n",
      "\n",
      "INFO:root:shouting out at info level\n",
      "\n",
      "WARNING:root:shouting out at warning level\n",
      "\n",
      "ERROR:root:shouting out at error level\n",
      "\n",
      "CRITICAL:root:shouting out at critical level\n",
      "\n",
      "DEBUG:root:--------\n",
      "\n",
      "ERROR:root:shouting out at error level\n",
      "\n",
      "CRITICAL:root:shouting out at critical level\n",
      "\n",
      "DEBUG:parso.python.diff:diff parser start\n",
      "\n",
      "DEBUG:parso.python.diff:line_lengths old: 8; new: 11\n",
      "\n",
      "DEBUG:parso.python.diff:-> code[replace] old[1:8] new[1:11]\n",
      "\n",
      "DEBUG:parso.python.diff:parse_part from 1 to 11 (to 10 in part parser)\n",
      "\n",
      "DEBUG:parso.python.diff:diff parser end\n",
      "\n",
      "Level 31:root:Wombat!\n",
      "\n",
      "Level 31:root:Wombat!\n",
      "\n",
      "DEBUG:root:started logging\n",
      "\n",
      "2021-07-09 12:01:18,279 called from <ipython-input-1-4a726c1df3c2>: started logging\n",
      "\n",
      "2021-07-09 12:01:44,815 called from <ipython-input-3-4a726c1df3c2>: started logging\n",
      "\n",
      "2021-07-09 12:02:07,199 called from cache.py: pickle loaded: C:\\Users\\pat\\AppData\\Roaming\\Python\\Python39\\site-packages\\jedi\\third_party\\typeshed\\stdlib\\2and3\\builtins.pyi\n",
      "\n",
      "2021-07-09 12:02:07,246 called from cache.py: pickle loaded: C:\\Users\\pat\\AppData\\Roaming\\Python\\Python39\\site-packages\\jedi\\third_party\\typeshed\\stdlib\\3\\sys.pyi\n",
      "\n",
      "2021-07-09 12:02:10,379 called from <ipython-input-4-a42f0b81a1d7>: started logging\n",
      "\n",
      "2021-07-09 12:02:18,956 called from diff.py: diff parser start\n",
      "\n",
      "2021-07-09 12:02:18,956 called from diff.py: line_lengths old: 9; new: 6\n",
      "\n",
      "2021-07-09 12:02:18,956 called from diff.py: -> code[equal] old[1:5] new[1:5]\n",
      "\n",
      "2021-07-09 12:02:18,956 called from diff.py: copy old[1:3] new[1:3]\n",
      "\n",
      "2021-07-09 12:02:18,956 called from diff.py: parse_part from 4 to 6 (to 5 in part parser)\n",
      "\n",
      "2021-07-09 12:02:18,956 called from diff.py: -> code[replace] old[6:9] new[6:6]\n",
      "\n",
      "2021-07-09 12:02:18,956 called from diff.py: diff parser end\n",
      "\n",
      "2021-07-09 12:04:32,452 called from <ipython-input-5-9494025cc132>: Wombats have been detected!\n",
      "\n",
      "2021-07-09 12:04:32,455 called from <ipython-input-5-9494025cc132>: just more boring log content\n",
      "\n"
     ]
    }
   ],
   "source": [
    "print_file(LOG_FILENAME)"
   ]
  },
  {
   "cell_type": "markdown",
   "metadata": {},
   "source": [
    "Another new wrinkle in this demo is the use of a time format. If the\n",
    "string “%(asctime)s” appears as part of the **logging**.**Formatter**\n",
    "specification, the system produces a **datetime** object. As such, you\n",
    "can use any of the normal **datetime** format strings\\[61\\] with it.\n",
    "Here, we’ve specified our choice with the “datefmt” keyword provided to\n",
    "**basicConfig.**\n",
    "\n",
    "Several “flavors” of handlers are available for different tasks. The\n",
    "**SocketHandler** will stream log output across a network (perhaps to a\n",
    "remote database). **SMTPHandler** can be used to send critical text\n",
    "message or email assuming, of course, you’ve got the capabilities set up\n",
    "already. The different “Rotating” handlers help manage large volumes of\n",
    "log traffic by archiving old files as necessary. The details are beyond\n",
    "the scope of this class, but here’s a list, for your reference.\n",
    "\n",
    "|                          |                   |\n",
    "|--------------------------|-------------------|\n",
    "| FileHandler              | SysLogHandler     |\n",
    "| StreamHandler            | DatagramHandler   |\n",
    "| NullHandler              | NTEventLogHandler |\n",
    "| WatchedFileHandler       | SMTPHandler       |\n",
    "| BaseRotatingHandler      | MemoryHandler     |\n",
    "| RotatingFileHandler      | HTTPHandler       |\n",
    "| TimedRotatingFileHandler | QueueHandler      |\n",
    "| SocketHandler            | QueueListener     |"
   ]
  },
  {
   "cell_type": "markdown",
   "metadata": {},
   "source": [
    "## Exercise:\n",
    "\n",
    "The file py_log_english_brewery_data.csv is a text file containing all the breweries and their counties reported by Wikipedia. https://en.wikipedia.org/wiki/List_of_breweries_in_England\n",
    "Please create a app that:\n",
    "\n",
    "- De-duplicates the list\n",
    "\n",
    "\n",
    "- Identifies those with “Ale” in their name\n",
    "\n",
    "\n",
    "- Stores them in a database with (beer, is_ale, county) columns\n",
    "\n",
    "\n",
    "- Provides a simple GUI that lets users search the database for “Ale”/”non-Ale” breweries, and by county (they can type it in).\n",
    "\n",
    "\n",
    "- Log the key events as your app steps through the process."
   ]
  },
  {
   "cell_type": "markdown",
   "metadata": {},
   "source": [
    "Introduction to Scientific Programming\n",
    "======================================\n",
    "\n",
    "For real number-crunching Python offers the **numpy** library which\n",
    "includes all sorts of optimized array operations, and integrates well\n",
    "with other components of Python’s scientific stack\\[63\\].\n",
    "\n",
    "When working with **numpy**, you have to sacrifice some of the\n",
    "convenience of objects like **lists** and work with clearly-defined,\n",
    "single-type objects (as is the case when working with the **array**\n",
    "library). **numPy** is strongly typed – you have to declare everything\n",
    "as **float**, **int**, or some other C-type. It is not optimized for\n",
    "non-numeric types like strings\\[64\\].\n",
    "\n",
    "But if you’re serious about data, **numpy** is the right tool. It’s a\n",
    "very thin Python API (application program interface) written on top of\n",
    "compiled byte-code – which makes it blazing fast. It also has quite a\n",
    "bit of statistical and array manipulation capability baked right in, so\n",
    "is “one stop shopping” for most garden-variety projects (and some\n",
    "serious ones too).\n",
    "\n",
    "Numpy forms the basis of virtually every statistical application in the Python ecosystem.   For many applications, you'll never have to access it directly.  Pandas, for instance, has objects built directly onto numpy that are much easier to use.   But most objects use the ndarray as a base class, retaining all the characteristics of ndarrays."
   ]
  },
  {
   "cell_type": "markdown",
   "metadata": {},
   "source": [
    "## ndarrays\n",
    "\n",
    "The ndarray is the main object in the numpy library.  As the name applies, it can contain an arbitrary n-dimensional data structure."
   ]
  },
  {
   "cell_type": "code",
   "execution_count": 10,
   "metadata": {},
   "outputs": [
    {
     "data": {
      "text/plain": [
       "array([1, 2, 3])"
      ]
     },
     "execution_count": 10,
     "metadata": {},
     "output_type": "execute_result"
    }
   ],
   "source": [
    "import numpy as np\n",
    "arr = np.array([1, 2, 3])\n",
    "arr"
   ]
  },
  {
   "cell_type": "code",
   "execution_count": 9,
   "metadata": {},
   "outputs": [
    {
     "data": {
      "text/plain": [
       "numpy.ndarray"
      ]
     },
     "execution_count": 9,
     "metadata": {},
     "output_type": "execute_result"
    }
   ],
   "source": [
    "type(arr)"
   ]
  },
  {
   "cell_type": "markdown",
   "metadata": {},
   "source": [
    "As you can see, a **numpy** array is not an **array**.**array** object\n",
    "or anything we’ve seen before. It is its own dog. Let’s chat it up a\n",
    "bit. The shape here is a **tuple** with a single element showing us the\n",
    "number of elements in its first (and only) dimension. \n",
    "\n",
    "You can use\n",
    "indexing and slicing operations, just as you would a **list** object:"
   ]
  },
  {
   "cell_type": "code",
   "execution_count": 11,
   "metadata": {},
   "outputs": [
    {
     "data": {
      "text/plain": [
       "(3,)"
      ]
     },
     "execution_count": 11,
     "metadata": {},
     "output_type": "execute_result"
    }
   ],
   "source": [
    "# The shape is a tuple, one element for each dimension, showing elements in that dimension\n",
    "arr.shape"
   ]
  },
  {
   "cell_type": "code",
   "execution_count": 12,
   "metadata": {},
   "outputs": [
    {
     "data": {
      "text/plain": [
       "3"
      ]
     },
     "execution_count": 12,
     "metadata": {},
     "output_type": "execute_result"
    }
   ],
   "source": [
    "arr[-1]"
   ]
  },
  {
   "cell_type": "code",
   "execution_count": 13,
   "metadata": {},
   "outputs": [
    {
     "data": {
      "text/plain": [
       "array([2, 3])"
      ]
     },
     "execution_count": 13,
     "metadata": {},
     "output_type": "execute_result"
    }
   ],
   "source": [
    "arr[1:3]"
   ]
  },
  {
   "cell_type": "markdown",
   "metadata": {},
   "source": [
    "Let’s make it more interesting and add another dimension. \n",
    "\n",
    "Notice that we can define it with the same syntax we used to compose a **list** of lists:"
   ]
  },
  {
   "cell_type": "code",
   "execution_count": 18,
   "metadata": {},
   "outputs": [
    {
     "data": {
      "text/plain": [
       "array([[1, 2, 3],\n",
       "       [4, 5, 6],\n",
       "       [7, 8, 9]])"
      ]
     },
     "execution_count": 18,
     "metadata": {},
     "output_type": "execute_result"
    }
   ],
   "source": [
    "# This constructor literally uses a list of lists.  There are others.\n",
    "\n",
    "arr2d = np.array([[1,2,3],\n",
    "                  [4,5,6], \n",
    "                  [7, 8, 9]\n",
    "                 ])\n",
    "                  \n",
    "arr2d\n"
   ]
  },
  {
   "cell_type": "code",
   "execution_count": 19,
   "metadata": {},
   "outputs": [
    {
     "data": {
      "text/plain": [
       "(3, 3)"
      ]
     },
     "execution_count": 19,
     "metadata": {},
     "output_type": "execute_result"
    }
   ],
   "source": [
    "# We have two dimensions with three elements in each.\n",
    "arr2d.shape"
   ]
  },
  {
   "cell_type": "code",
   "execution_count": 20,
   "metadata": {},
   "outputs": [
    {
     "data": {
      "text/plain": [
       "8"
      ]
     },
     "execution_count": 20,
     "metadata": {},
     "output_type": "execute_result"
    }
   ],
   "source": [
    "arr2d[2,1]"
   ]
  },
  {
   "cell_type": "markdown",
   "metadata": {},
   "source": [
    "## Slicing Operations\n",
    "\n",
    "You can use slicing operations to create a new array based on the old\n",
    "one by giving a “slice” object a new name. This “lops off” all but the\n",
    "last two rows and last two columns.\n",
    "\n",
    "Every slice operation on an ndarray (until we extract a single value) returns an ndarray."
   ]
  },
  {
   "cell_type": "code",
   "execution_count": 21,
   "metadata": {},
   "outputs": [
    {
     "data": {
      "text/plain": [
       "array([[5, 6],\n",
       "       [8, 9]])"
      ]
     },
     "execution_count": 21,
     "metadata": {},
     "output_type": "execute_result"
    }
   ],
   "source": [
    "new2d = arr2d[1:, 1:]\n",
    "new2d"
   ]
  },
  {
   "cell_type": "markdown",
   "metadata": {},
   "source": [
    "Note that because we now have two dimensions, we need to separate the\n",
    "slicing operation on the first dimension from the operation on the\n",
    "second with a comma.\n",
    "\n",
    "       arr2d[<slice of first dimension>, <slice of second dimension>]"
   ]
  },
  {
   "cell_type": "markdown",
   "metadata": {},
   "source": [
    "We can extract a row by naming it in the first dimension and choosing everything in the second:"
   ]
  },
  {
   "cell_type": "code",
   "execution_count": 28,
   "metadata": {},
   "outputs": [
    {
     "name": "stdout",
     "output_type": "stream",
     "text": [
      "original:\n",
      "[[1 2 3]\n",
      " [4 5 6]\n",
      " [7 8 9]]\n",
      "\n"
     ]
    },
    {
     "data": {
      "text/plain": [
       "array([4, 5, 6])"
      ]
     },
     "execution_count": 28,
     "metadata": {},
     "output_type": "execute_result"
    }
   ],
   "source": [
    "print(f\"original:\\n{arr2d}\\n\")\n",
    "\n",
    "second_row = arr2d[1, :]\n",
    "second_row"
   ]
  },
  {
   "cell_type": "markdown",
   "metadata": {},
   "source": [
    "We can extract a column in the same way:"
   ]
  },
  {
   "cell_type": "code",
   "execution_count": 30,
   "metadata": {},
   "outputs": [
    {
     "name": "stdout",
     "output_type": "stream",
     "text": [
      "original:\n",
      "[[1 2 3]\n",
      " [4 5 6]\n",
      " [7 8 9]]\n",
      "\n"
     ]
    },
    {
     "data": {
      "text/plain": [
       "array([2, 5, 8])"
      ]
     },
     "execution_count": 30,
     "metadata": {},
     "output_type": "execute_result"
    }
   ],
   "source": [
    "print(f\"original:\\n{arr2d}\\n\")\n",
    "\n",
    "second_col = arr2d[:, 1]\n",
    "second_col"
   ]
  },
  {
   "cell_type": "markdown",
   "metadata": {},
   "source": [
    "## Element-wise Operations\n",
    "\n",
    "**Numpy** array math is really easy because the operators work\n",
    "“element-wise” i.e., on the entire array, all at once. \n",
    "\n",
    "Some examples:"
   ]
  },
  {
   "cell_type": "code",
   "execution_count": 31,
   "metadata": {},
   "outputs": [
    {
     "name": "stdout",
     "output_type": "stream",
     "text": [
      "original:\n",
      "[[1 2 3]\n",
      " [4 5 6]\n",
      " [7 8 9]]\n",
      "\n"
     ]
    },
    {
     "data": {
      "text/plain": [
       "array([[ 2,  4,  6],\n",
       "       [ 8, 10, 12],\n",
       "       [14, 16, 18]])"
      ]
     },
     "execution_count": 31,
     "metadata": {},
     "output_type": "execute_result"
    }
   ],
   "source": [
    "print(f\"original:\\n{arr2d}\\n\")\n",
    "\n",
    "arr2d * 2"
   ]
  },
  {
   "cell_type": "code",
   "execution_count": 33,
   "metadata": {},
   "outputs": [
    {
     "name": "stdout",
     "output_type": "stream",
     "text": [
      "original:\n",
      "[[1 2 3]\n",
      " [4 5 6]\n",
      " [7 8 9]]\n",
      "\n"
     ]
    }
   ],
   "source": [
    "#NB:  Operations create new objects.  The original is unchanged.  If you want to replace the original you need to #be explicit, something like this will work:\n",
    "#\n",
    "#   arr2d = arr2d * 2\n",
    "\n",
    "print(f\"original:\\n{arr2d}\\n\")"
   ]
  },
  {
   "cell_type": "code",
   "execution_count": 34,
   "metadata": {},
   "outputs": [
    {
     "name": "stdout",
     "output_type": "stream",
     "text": [
      "original:\n",
      "[[1 2 3]\n",
      " [4 5 6]\n",
      " [7 8 9]]\n",
      "\n"
     ]
    },
    {
     "data": {
      "text/plain": [
       "array([[ 1,  4,  9],\n",
       "       [16, 25, 36],\n",
       "       [49, 64, 81]], dtype=int32)"
      ]
     },
     "execution_count": 34,
     "metadata": {},
     "output_type": "execute_result"
    }
   ],
   "source": [
    "print(f\"original:\\n{arr2d}\\n\")\n",
    "\n",
    "arr2d**2"
   ]
  },
  {
   "cell_type": "markdown",
   "metadata": {},
   "source": [
    "You can also do some operation to a slice of an array, then combine the\n",
    "results with the original. \n",
    "\n",
    "Here’s how you might double the values of a\n",
    "single row. \n"
   ]
  },
  {
   "cell_type": "code",
   "execution_count": 36,
   "metadata": {},
   "outputs": [
    {
     "name": "stdout",
     "output_type": "stream",
     "text": [
      "original:\n",
      "[[ 1  2  3]\n",
      " [ 8 10 12]\n",
      " [ 7  8  9]]\n",
      "\n"
     ]
    },
    {
     "data": {
      "text/plain": [
       "array([[ 1,  2,  3],\n",
       "       [ 8, 10, 12],\n",
       "       [ 7,  8,  9]])"
      ]
     },
     "execution_count": 36,
     "metadata": {},
     "output_type": "execute_result"
    }
   ],
   "source": [
    "print(f\"original:\\n{arr2d}\\n\")\n",
    "\n",
    "arr2d[1,] = arr2d[1,] * 2 # double values of second row.\n",
    "arr2d"
   ]
  },
  {
   "cell_type": "code",
   "execution_count": 39,
   "metadata": {},
   "outputs": [
    {
     "name": "stdout",
     "output_type": "stream",
     "text": [
      "original:\n",
      "[[ 1  2  3]\n",
      " [ 8 10 12]\n",
      " [ 7  8  9]]\n",
      "\n"
     ]
    },
    {
     "data": {
      "text/plain": [
       "array([[ 1,  8,  7],\n",
       "       [ 2, 10,  8],\n",
       "       [ 3, 12,  9]])"
      ]
     },
     "execution_count": 39,
     "metadata": {},
     "output_type": "execute_result"
    }
   ],
   "source": [
    "print(f\"original:\\n{arr2d}\\n\")\n",
    "\n",
    "arr2d.T   # transposition (switch rows and cols)"
   ]
  },
  {
   "cell_type": "markdown",
   "metadata": {},
   "source": [
    "Other operations like +, -, and / all  perform calculations element-wise over the entire data structure.\n",
    "\n",
    "NB:  The * operator does element-wise multiplication.  The ndarray.dot() method does real matrix multiplication when applied between matrices.   The ndarray.dot() method calculates the dot product when applied between vectors.\n"
   ]
  },
  {
   "cell_type": "markdown",
   "metadata": {},
   "source": [
    "## Basic Statistical Info\n",
    "\n",
    "You can also perform analysis on all the elements to gather statistics.\n",
    "Here’s how, you can get the minimum, maximum, and other values."
   ]
  },
  {
   "cell_type": "code",
   "execution_count": 54,
   "metadata": {},
   "outputs": [
    {
     "name": "stdout",
     "output_type": "stream",
     "text": [
      "sum: 60\n",
      "mean: 6.666666666666667\n",
      "min: 1\n",
      "max: 12\n",
      "standard deviation: 3.590109871423003\n"
     ]
    }
   ],
   "source": [
    "# Built-in methods\n",
    "\n",
    "print(f\"sum: {arr2d.sum()}\")\n",
    "print(f\"mean: {arr2d.mean()}\")\n",
    "print(f\"min: {arr2d.min()}\")\n",
    "print(f\"max: {arr2d.max()}\")\n",
    "print(f\"standard deviation: {arr2d.std()}\")"
   ]
  },
  {
   "cell_type": "code",
   "execution_count": 55,
   "metadata": {},
   "outputs": [
    {
     "name": "stdout",
     "output_type": "stream",
     "text": [
      "DescribeResult(nobs=3, minmax=(array([1, 2, 3]), array([ 8, 10, 12])), mean=array([5.33333333, 6.66666667, 8.        ]), variance=array([14.33333333, 17.33333333, 21.        ]), skewness=array([-0.65201212, -0.52800498, -0.38180177]), kurtosis=array([-1.5, -1.5, -1.5]))\n",
      "\n",
      "min:  [1 2 3]\n"
     ]
    }
   ],
   "source": [
    "# Borrowing from scipy to generate column-wise stats\n",
    "\n",
    "from scipy import stats\n",
    "st  = stats.describe(arr2d)\n",
    "print(st)\n",
    "print(f\"\\nmin:  {st.minmax[0]}\")"
   ]
  },
  {
   "cell_type": "code",
   "execution_count": 53,
   "metadata": {},
   "outputs": [
    {
     "data": {
      "text/html": [
       "<div>\n",
       "<style scoped>\n",
       "    .dataframe tbody tr th:only-of-type {\n",
       "        vertical-align: middle;\n",
       "    }\n",
       "\n",
       "    .dataframe tbody tr th {\n",
       "        vertical-align: top;\n",
       "    }\n",
       "\n",
       "    .dataframe thead th {\n",
       "        text-align: right;\n",
       "    }\n",
       "</style>\n",
       "<table border=\"1\" class=\"dataframe\">\n",
       "  <thead>\n",
       "    <tr style=\"text-align: right;\">\n",
       "      <th></th>\n",
       "      <th>0</th>\n",
       "      <th>1</th>\n",
       "      <th>2</th>\n",
       "    </tr>\n",
       "  </thead>\n",
       "  <tbody>\n",
       "    <tr>\n",
       "      <th>count</th>\n",
       "      <td>3.000000</td>\n",
       "      <td>3.000000</td>\n",
       "      <td>3.000000</td>\n",
       "    </tr>\n",
       "    <tr>\n",
       "      <th>mean</th>\n",
       "      <td>5.333333</td>\n",
       "      <td>6.666667</td>\n",
       "      <td>8.000000</td>\n",
       "    </tr>\n",
       "    <tr>\n",
       "      <th>std</th>\n",
       "      <td>3.785939</td>\n",
       "      <td>4.163332</td>\n",
       "      <td>4.582576</td>\n",
       "    </tr>\n",
       "    <tr>\n",
       "      <th>min</th>\n",
       "      <td>1.000000</td>\n",
       "      <td>2.000000</td>\n",
       "      <td>3.000000</td>\n",
       "    </tr>\n",
       "    <tr>\n",
       "      <th>25%</th>\n",
       "      <td>4.000000</td>\n",
       "      <td>5.000000</td>\n",
       "      <td>6.000000</td>\n",
       "    </tr>\n",
       "    <tr>\n",
       "      <th>50%</th>\n",
       "      <td>7.000000</td>\n",
       "      <td>8.000000</td>\n",
       "      <td>9.000000</td>\n",
       "    </tr>\n",
       "    <tr>\n",
       "      <th>75%</th>\n",
       "      <td>7.500000</td>\n",
       "      <td>9.000000</td>\n",
       "      <td>10.500000</td>\n",
       "    </tr>\n",
       "    <tr>\n",
       "      <th>max</th>\n",
       "      <td>8.000000</td>\n",
       "      <td>10.000000</td>\n",
       "      <td>12.000000</td>\n",
       "    </tr>\n",
       "  </tbody>\n",
       "</table>\n",
       "</div>"
      ],
      "text/plain": [
       "              0          1          2\n",
       "count  3.000000   3.000000   3.000000\n",
       "mean   5.333333   6.666667   8.000000\n",
       "std    3.785939   4.163332   4.582576\n",
       "min    1.000000   2.000000   3.000000\n",
       "25%    4.000000   5.000000   6.000000\n",
       "50%    7.000000   8.000000   9.000000\n",
       "75%    7.500000   9.000000  10.500000\n",
       "max    8.000000  10.000000  12.000000"
      ]
     },
     "execution_count": 53,
     "metadata": {},
     "output_type": "execute_result"
    }
   ],
   "source": [
    "# Borrowing from pandas to get nice stats (works best in 1 or 2d)\n",
    "\n",
    "import pandas as pd\n",
    "pd.DataFrame(arr2d).describe()"
   ]
  },
  {
   "cell_type": "markdown",
   "metadata": {},
   "source": [
    "## Data Masks\n",
    "\n",
    "\n",
    "Along the same lines, here’s how you might use vectors to create a\n",
    "“mask” to extract the diagonal elements:\n",
    "    \n",
    "     row_mask=np.array([0,1,2])\n",
    "     col_mask=np.array([0,1,2])\n",
    "     \n",
    "These vector-wise masks can be applied against the two dimensions thusly:\n",
    "\n",
    "     arr2d[row_mask, col_mask]\n",
    "     \n",
    "... so the first row_mask element and the first col_mask element (0,0) get paired up to select an element of arr2d.  Then (1,1) and (2,2) get paired up.   The result is extraction of the diagonal.\n"
   ]
  },
  {
   "cell_type": "code",
   "execution_count": 89,
   "metadata": {},
   "outputs": [
    {
     "name": "stdout",
     "output_type": "stream",
     "text": [
      "original:\n",
      "[[ 1  2  3]\n",
      " [ 8 10 12]\n",
      " [ 7  8  9]]\n",
      "\n"
     ]
    },
    {
     "data": {
      "text/plain": [
       "array([ 1, 10,  9])"
      ]
     },
     "execution_count": 89,
     "metadata": {},
     "output_type": "execute_result"
    }
   ],
   "source": [
    "print(f\"original:\\n{arr2d}\\n\")\n",
    "\n",
    "row_mask=np.array([0,1,2])\n",
    "col_mask=np.array([0,1,2])\n",
    "arr2d[row_mask, col_mask]\n"
   ]
  },
  {
   "cell_type": "code",
   "execution_count": 90,
   "metadata": {},
   "outputs": [
    {
     "data": {
      "text/plain": [
       "array([ 1, 10,  9])"
      ]
     },
     "execution_count": 90,
     "metadata": {},
     "output_type": "execute_result"
    }
   ],
   "source": [
    "# We can verify this against the built-in diagonal() method:\n",
    "arr2d.diagonal()"
   ]
  },
  {
   "cell_type": "markdown",
   "metadata": {},
   "source": [
    "You create what’s called a “Boolean index” – basically a logical\n",
    "operation run against each element of the array. \n",
    "\n",
    "For instance, if you\n",
    "wanted to get the even numbers, you could go:"
   ]
  },
  {
   "cell_type": "code",
   "execution_count": 91,
   "metadata": {},
   "outputs": [
    {
     "name": "stdout",
     "output_type": "stream",
     "text": [
      "original:\n",
      "[[ 1  2  3]\n",
      " [ 8 10 12]\n",
      " [ 7  8  9]]\n",
      "\n"
     ]
    },
    {
     "data": {
      "text/plain": [
       "array([[False,  True, False],\n",
       "       [ True,  True,  True],\n",
       "       [False,  True, False]])"
      ]
     },
     "execution_count": 91,
     "metadata": {},
     "output_type": "execute_result"
    }
   ],
   "source": [
    "print(f\"original:\\n{arr2d}\\n\")\n",
    "\n",
    "bool_index = arr2d % 2 == 0\n",
    "bool_index"
   ]
  },
  {
   "cell_type": "markdown",
   "metadata": {},
   "source": [
    "You can now use the multiplication operator to “mask out” the odd\n",
    "numbers. You could do that in situ, “zeroing out” the odd numbers, or\n",
    "extract them into a new array using the mask as an index operator.\n",
    "\n",
    "Element-wise multiplication takes care of the whole thing:"
   ]
  },
  {
   "cell_type": "code",
   "execution_count": 92,
   "metadata": {},
   "outputs": [
    {
     "name": "stdout",
     "output_type": "stream",
     "text": [
      "original:\n",
      "[[ 1  2  3]\n",
      " [ 8 10 12]\n",
      " [ 7  8  9]]\n",
      "\n"
     ]
    },
    {
     "data": {
      "text/plain": [
       "array([[ 0,  2,  0],\n",
       "       [ 8, 10, 12],\n",
       "       [ 0,  8,  0]])"
      ]
     },
     "execution_count": 92,
     "metadata": {},
     "output_type": "execute_result"
    }
   ],
   "source": [
    "print(f\"original:\\n{arr2d}\\n\")\n",
    "\n",
    "arr2d * bool_index"
   ]
  },
  {
   "cell_type": "markdown",
   "metadata": {},
   "source": [
    "## Scalar Products\n",
    "\n",
    "As seen earlier, scalar products can be obtained simply by using the * operator.\n",
    "\n",
    "Here's an example:"
   ]
  },
  {
   "cell_type": "code",
   "execution_count": 93,
   "metadata": {},
   "outputs": [
    {
     "name": "stdout",
     "output_type": "stream",
     "text": [
      "original:\n",
      "[[ 1  2  3]\n",
      " [ 8 10 12]\n",
      " [ 7  8  9]]\n",
      "\n"
     ]
    },
    {
     "data": {
      "text/plain": [
       "array([[ 4,  8, 12],\n",
       "       [32, 40, 48],\n",
       "       [28, 32, 36]])"
      ]
     },
     "execution_count": 93,
     "metadata": {},
     "output_type": "execute_result"
    }
   ],
   "source": [
    "print(f\"original:\\n{arr2d}\\n\")\n",
    "\n",
    "arr2d * 4"
   ]
  },
  {
   "cell_type": "markdown",
   "metadata": {},
   "source": [
    "Dot products (inherently between vectors) can be calculated with the dot() operator.  It's both a method of numpy and the ndarray.\n",
    "\n",
    "Here's an example:"
   ]
  },
  {
   "cell_type": "code",
   "execution_count": 94,
   "metadata": {},
   "outputs": [
    {
     "name": "stdout",
     "output_type": "stream",
     "text": [
      "vector1: [ 9 10]\n",
      "vector2: [2 3]\n"
     ]
    },
    {
     "data": {
      "text/plain": [
       "48"
      ]
     },
     "execution_count": 94,
     "metadata": {},
     "output_type": "execute_result"
    }
   ],
   "source": [
    "vector1 = np.array([9,10])\n",
    "vector2 = np.array([2, 3])\n",
    "\n",
    "print(f\"vector1: {vector1}\")\n",
    "print(f\"vector2: {vector2}\")\n",
    "\n",
    "np.dot(vector1, vector2)   # same as vector1.dot(vector2)           "
   ]
  },
  {
   "cell_type": "code",
   "execution_count": 95,
   "metadata": {},
   "outputs": [
    {
     "data": {
      "text/plain": [
       "48"
      ]
     },
     "execution_count": 95,
     "metadata": {},
     "output_type": "execute_result"
    }
   ],
   "source": [
    "np.dot(vector1, vector2)"
   ]
  },
  {
   "cell_type": "markdown",
   "metadata": {},
   "source": [
    "## Matrix Products\n",
    "\n",
    "Matrix products (inherently between matrices) can also be calculated with the dot operator.  \n",
    "\n",
    "In matrix mulitplication, we simply 'dot' the rows and columns.\n",
    "\n",
    "                     [ 13  9  7 ]        \n",
    "    [ 3 4 2]  np.dot [  8  7  4 ]   =  [ 3*13+4*8+2*6  3*9+4*7+2*4  3*7+4*4+2*0 ]  = [ 83  63  37 ]\n",
    "                     [  6  4  0 ]\n",
    "                     \n",
    "    [ 2 0 ]          [ 1 2 ]        =  [ 2*1+0*3    2*2_0*4 ] = [ 2 4 ]\n",
    "    [ 1 2 ]          [ 3 4 ]           [ 1*1+2*3    1*2+2*4 ]   [ 7 10]\n",
    "\n",
    "Check this out:"
   ]
  },
  {
   "cell_type": "code",
   "execution_count": 96,
   "metadata": {},
   "outputs": [
    {
     "name": "stdout",
     "output_type": "stream",
     "text": [
      "a_arr:  \n",
      "[3 4 2]\n",
      "\n",
      "b_arr:  \n",
      "[[13  9  7]\n",
      " [ 8  7  4]\n",
      " [ 6  4  0]]\n"
     ]
    },
    {
     "data": {
      "text/plain": [
       "array([83, 63, 37])"
      ]
     },
     "execution_count": 96,
     "metadata": {},
     "output_type": "execute_result"
    }
   ],
   "source": [
    "a_arr = np.array([3, 4, 2]).T   # transposition creates a column vector\n",
    "b_arr = np.array([[13, 9, 7],[8, 7, 4], [6, 4, 0]])\n",
    "\n",
    "print(f\"a_arr:  \\n{a_arr}\\n\")\n",
    "print(f\"b_arr:  \\n{b_arr}\")\n",
    "\n",
    "np.dot(a_arr, b_arr)"
   ]
  },
  {
   "cell_type": "code",
   "execution_count": 97,
   "metadata": {},
   "outputs": [
    {
     "name": "stdout",
     "output_type": "stream",
     "text": [
      "c_arr:  \n",
      "[[2 0]\n",
      " [1 2]]\n",
      "\n",
      "d_arr:  \n",
      "[[1 2]\n",
      " [3 4]]\n"
     ]
    },
    {
     "data": {
      "text/plain": [
       "array([[ 2,  4],\n",
       "       [ 7, 10]])"
      ]
     },
     "execution_count": 97,
     "metadata": {},
     "output_type": "execute_result"
    }
   ],
   "source": [
    "c_arr = np.array([[2, 0], [1, 2]])\n",
    "d_arr = np.array([[1, 2], [3, 4]])\n",
    "\n",
    "print(f\"c_arr:  \\n{c_arr}\\n\")\n",
    "print(f\"d_arr:  \\n{d_arr}\")\n",
    "\n",
    "np.dot(c_arr, d_arr)"
   ]
  },
  {
   "cell_type": "markdown",
   "metadata": {},
   "source": [
    "## Example:  Calculating Covariance\n",
    "\n",
    "Using Numpy's data manipulation tools, it's straightforward to calculate a covariance matrix.\n",
    "\n",
    "A covariance matrix provides the covariance between matched pair of elements. \n",
    "\n",
    "Covariance is a measure on how much closely high values of one variable correlate with high values of the other variable, and low values of one variable correlate with low variable of the other.   \n",
    "\n",
    "If high values of one variable go along with high values of the other and vice-versa, the covariance would approach 1.0.  If high values of one variable to with low values of the other, the covariance would approach -1.0.   If there's no relationship whatsoever, the covariance would be 0.\n",
    "\n",
    "More formally, covariance is the expected value (or mean) of the product of their deviations from their individual expected values.   For two variables X and Y:\n",
    "\n",
    "    covariance(X,Y) = E [  (X - E(X)) * (Y - E(Y)  ]\n",
    "\n",
    "The covariance of a variable with itself is the variance:\n",
    "\n",
    "    covariance(X,X) = E [ ( X - E(X)) ]\n",
    "    \n",
    "Variance is a measure of dispersion, or \"spread\" of a variable's distribution."
   ]
  },
  {
   "cell_type": "code",
   "execution_count": 23,
   "metadata": {},
   "outputs": [
    {
     "name": "stdout",
     "output_type": "stream",
     "text": [
      "Handmade covariance:\n",
      "[[ 2.23871101 -0.11799049]\n",
      " [-0.11799049  4.28636467]]\n",
      "\n",
      "Numpy covariance:\n",
      "[[ 2.23871101 -0.11799049]\n",
      " [-0.11799049  4.28636467]]\n",
      "\n",
      "Element-wise check:\n",
      "[[ True  True]\n",
      " [ True  True]]\n",
      "Checking for all True:\n",
      "\n",
      "True\n"
     ]
    }
   ],
   "source": [
    "## Calculate covariance between two arrays.\n",
    "\n",
    "# Setting a seed is optional, but if you provide a seed the random numbers are the same \n",
    "#    every time you run a script with random calculations.  Note that this ensures that\n",
    "#    the same sequence of random numbers will be generated from the time that the\n",
    "#    seed() method is called.   If you are just experimenting, you might want the same\n",
    "#    first number for each experiment.  In that case, you'll call seed() repeatedly.\n",
    "\n",
    "SEED = 1\n",
    "np.random.seed(SEED)\n",
    "\n",
    "# Create vectors of values drawn from a normal distribution\n",
    "\n",
    "# Parameters of the normal distribution\n",
    "means_of_x_and_y = [10, 10]\n",
    "cov_of_x_and_y = np.array([[3, 1],      # var(X)   cov(X,Y)\n",
    "                           [1, 5]])     # cov(X,Y) var(Y)\n",
    "samples = 30\n",
    "\n",
    "# Create a matrix of values drawn from a normal distribution\n",
    "np.random.seed(1)\n",
    "x = np.random.multivariate_normal(means_of_x_and_y, cov_of_x_and_y, samples)\n",
    " \n",
    "    \n",
    "# For each element, calculate difference between it and column mean.\n",
    "axis = 0  # Designates the 'column' axis \n",
    "u = x - x.mean(axis)\n",
    "\n",
    "# Calculate the sample covariance (N-1 instead of N in demoninator)\n",
    "cov = np.dot(u.T, u)/(samples-1)\n",
    "\n",
    "# Eyeball the result\n",
    "print (f\"Handmade covariance:\\n{cov}\\n\")\n",
    "\n",
    "# Check against Numpy's cov() function\n",
    "np_cov = np.cov(x.T)\n",
    "print (f\"Numpy covariance:\\n{np_cov}\\n\")\n",
    "\n",
    "# Check ezch element\n",
    "print(\"Element-wise check:\")\n",
    "truth_table = cov==np_cov\n",
    "print(truth_table)\n",
    "\n",
    "# Check the whole enchilada\n",
    "print(\"Checking for all True:\\n\")\n",
    "print(truth_table.all())"
   ]
  },
  {
   "cell_type": "code",
   "execution_count": 6,
   "metadata": {
    "scrolled": true
   },
   "outputs": [
    {
     "data": {
      "text/plain": [
       "array([[10.51499486,  7.05245606],\n",
       "       [ 8.01417511, 11.535254  ],\n",
       "       [11.93821738,  7.73992448],\n",
       "       [ 7.20196739,  5.04724516],\n",
       "       [ 9.83958872, 13.25478127],\n",
       "       [ 9.25478606,  8.59886204],\n",
       "       [10.37882702, 13.59923934],\n",
       "       [ 8.95937147,  9.31284714],\n",
       "       [15.21302314, 13.39646294],\n",
       "       [11.46778673, 11.92079307]])"
      ]
     },
     "execution_count": 6,
     "metadata": {},
     "output_type": "execute_result"
    }
   ],
   "source": [
    "x"
   ]
  },
  {
   "cell_type": "code",
   "execution_count": 7,
   "metadata": {},
   "outputs": [
    {
     "name": "stdout",
     "output_type": "stream",
     "text": [
      "Help on built-in function multivariate_normal:\n",
      "\n",
      "multivariate_normal(...) method of numpy.random.mtrand.RandomState instance\n",
      "    multivariate_normal(mean, cov, size=None, check_valid='warn', tol=1e-8)\n",
      "    \n",
      "    Draw random samples from a multivariate normal distribution.\n",
      "    \n",
      "    The multivariate normal, multinormal or Gaussian distribution is a\n",
      "    generalization of the one-dimensional normal distribution to higher\n",
      "    dimensions.  Such a distribution is specified by its mean and\n",
      "    covariance matrix.  These parameters are analogous to the mean\n",
      "    (average or \"center\") and variance (standard deviation, or \"width,\"\n",
      "    squared) of the one-dimensional normal distribution.\n",
      "    \n",
      "    .. note::\n",
      "        New code should use the ``multivariate_normal`` method of a ``default_rng()``\n",
      "        instance instead; please see the :ref:`random-quick-start`.\n",
      "    \n",
      "    Parameters\n",
      "    ----------\n",
      "    mean : 1-D array_like, of length N\n",
      "        Mean of the N-dimensional distribution.\n",
      "    cov : 2-D array_like, of shape (N, N)\n",
      "        Covariance matrix of the distribution. It must be symmetric and\n",
      "        positive-semidefinite for proper sampling.\n",
      "    size : int or tuple of ints, optional\n",
      "        Given a shape of, for example, ``(m,n,k)``, ``m*n*k`` samples are\n",
      "        generated, and packed in an `m`-by-`n`-by-`k` arrangement.  Because\n",
      "        each sample is `N`-dimensional, the output shape is ``(m,n,k,N)``.\n",
      "        If no shape is specified, a single (`N`-D) sample is returned.\n",
      "    check_valid : { 'warn', 'raise', 'ignore' }, optional\n",
      "        Behavior when the covariance matrix is not positive semidefinite.\n",
      "    tol : float, optional\n",
      "        Tolerance when checking the singular values in covariance matrix.\n",
      "        cov is cast to double before the check.\n",
      "    \n",
      "    Returns\n",
      "    -------\n",
      "    out : ndarray\n",
      "        The drawn samples, of shape *size*, if that was provided.  If not,\n",
      "        the shape is ``(N,)``.\n",
      "    \n",
      "        In other words, each entry ``out[i,j,...,:]`` is an N-dimensional\n",
      "        value drawn from the distribution.\n",
      "    \n",
      "    See Also\n",
      "    --------\n",
      "    Generator.multivariate_normal: which should be used for new code.\n",
      "    \n",
      "    Notes\n",
      "    -----\n",
      "    The mean is a coordinate in N-dimensional space, which represents the\n",
      "    location where samples are most likely to be generated.  This is\n",
      "    analogous to the peak of the bell curve for the one-dimensional or\n",
      "    univariate normal distribution.\n",
      "    \n",
      "    Covariance indicates the level to which two variables vary together.\n",
      "    From the multivariate normal distribution, we draw N-dimensional\n",
      "    samples, :math:`X = [x_1, x_2, ... x_N]`.  The covariance matrix\n",
      "    element :math:`C_{ij}` is the covariance of :math:`x_i` and :math:`x_j`.\n",
      "    The element :math:`C_{ii}` is the variance of :math:`x_i` (i.e. its\n",
      "    \"spread\").\n",
      "    \n",
      "    Instead of specifying the full covariance matrix, popular\n",
      "    approximations include:\n",
      "    \n",
      "      - Spherical covariance (`cov` is a multiple of the identity matrix)\n",
      "      - Diagonal covariance (`cov` has non-negative elements, and only on\n",
      "        the diagonal)\n",
      "    \n",
      "    This geometrical property can be seen in two dimensions by plotting\n",
      "    generated data-points:\n",
      "    \n",
      "    >>> mean = [0, 0]\n",
      "    >>> cov = [[1, 0], [0, 100]]  # diagonal covariance\n",
      "    \n",
      "    Diagonal covariance means that points are oriented along x or y-axis:\n",
      "    \n",
      "    >>> import matplotlib.pyplot as plt\n",
      "    >>> x, y = np.random.multivariate_normal(mean, cov, 5000).T\n",
      "    >>> plt.plot(x, y, 'x')\n",
      "    >>> plt.axis('equal')\n",
      "    >>> plt.show()\n",
      "    \n",
      "    Note that the covariance matrix must be positive semidefinite (a.k.a.\n",
      "    nonnegative-definite). Otherwise, the behavior of this method is\n",
      "    undefined and backwards compatibility is not guaranteed.\n",
      "    \n",
      "    References\n",
      "    ----------\n",
      "    .. [1] Papoulis, A., \"Probability, Random Variables, and Stochastic\n",
      "           Processes,\" 3rd ed., New York: McGraw-Hill, 1991.\n",
      "    .. [2] Duda, R. O., Hart, P. E., and Stork, D. G., \"Pattern\n",
      "           Classification,\" 2nd ed., New York: Wiley, 2001.\n",
      "    \n",
      "    Examples\n",
      "    --------\n",
      "    >>> mean = (1, 2)\n",
      "    >>> cov = [[1, 0], [0, 1]]\n",
      "    >>> x = np.random.multivariate_normal(mean, cov, (3, 3))\n",
      "    >>> x.shape\n",
      "    (3, 3, 2)\n",
      "    \n",
      "    The following is probably true, given that 0.6 is roughly twice the\n",
      "    standard deviation:\n",
      "    \n",
      "    >>> list((x[0,0,:] - mean) < 0.6)\n",
      "    [True, True] # random\n",
      "\n"
     ]
    }
   ],
   "source": [
    "help(np.random.multivariate_normal)\n"
   ]
  },
  {
   "cell_type": "markdown",
   "metadata": {},
   "source": [
    "A Real-World Application\n",
    "------------------------\n",
    "\n",
    "I have a special interest in Pythons. So much so that I’m trying to help\n",
    "get rid of Burmese Pythons and have designed a trap to do just that.\n",
    "With software written in Python, of course, and using **numpy** and\n",
    "Python’s image processing library **PIL**.\n",
    "\n",
    "Below, you’ll find some code to do chromatic reduction, pixel-wise on\n",
    "images of pythons within the trap.  How it actually works is beyond the scope of this course, but you may find it interesting.\n",
    "\n",
    "The take-away here is that much can be accomplished with a few lines of code by bouncing a digitized image back and forth between an image library and numpy's number-crunching abilities.\n",
    "\n",
    "To demonstrate, we'll assume we've caught a yellow-ish python in a black trap and snapped this glamour shot.   Our immediate goal is to remove the background."
   ]
  },
  {
   "attachments": {
    "snake_black.JPG": {
     "image/jpeg": "[encoded data removed]"
    }
   },
   "cell_type": "markdown",
   "metadata": {},
   "source": [
    "![snake_black.JPG](attachment:snake_black.JPG)"
   ]
  },
  {
   "cell_type": "markdown",
   "metadata": {},
   "source": [
    "We begin by loading PIL (Python Image Lirary) and Numpy.   \n",
    "\n",
    "We'll open an image file and convert it to RGBA format:"
   ]
  },
  {
   "cell_type": "code",
   "execution_count": 2,
   "metadata": {},
   "outputs": [],
   "source": [
    "\"\"\"a snake-charming application\"\"\"\n",
    "from PIL import Image\n",
    "import numpy as np\n",
    "import os\n",
    "\n",
    "# Set up some handles to info we'll use later\n",
    "idir = os.getcwd()\n",
    "iname = './img_ds/media/snake_black.JPG'\n",
    "saveas = 'new_snake.PNG'\n",
    "\n",
    "# Use PIL.Image to open the image and convert it to RGBA\n",
    "raw_image = Image.open(iname)\n",
    "converted_image = raw_image.convert('RGBA')\n",
    "\n",
    "# Show the image in a modal window.\n",
    "raw_image.show()\n",
    "\n"
   ]
  },
  {
   "cell_type": "markdown",
   "metadata": {},
   "source": [
    "There are several color models out there.  CMYK (cyan, magenta, yellow, black) is used for printing solid colors on media.  RGB and RGBA (red, green, blue, alpha) are used to create colors with light, as we do with computer monitors.  \n",
    "\n",
    "HSV (hue, saturation, value) and HSL (hue, saturation, lightness) allso used with solid colors and are useful in computer vision applications because proximate values appear to be close to the same color.\n",
    "\n",
    "Here we use the RGBA model because the channels are nicely discretized and map will into a data structure.   \n",
    "\n",
    "The RGBA version of our image is a 2-d array (width * height) or 4-element tuples.\n",
    "\n",
    "Here is how we might specify some colors and map them to the RGBA model:"
   ]
  },
  {
   "cell_type": "code",
   "execution_count": 3,
   "metadata": {},
   "outputs": [],
   "source": [
    "# Create some ndarrays to characterize colors\n",
    "white = np.array([255, 255, 255, 0])  # r, g, b, a\n",
    "black = np.array([0, 0, 0, 1])\n",
    "blue = np.array([0, 0, 255, 255])\n",
    "orange = np.array([255, 128, 0, 255])\n"
   ]
  },
  {
   "cell_type": "markdown",
   "metadata": {},
   "source": [
    "Now we can use the symmetry between the analytical, digitized version and the Image library's conversions to manipulate the image and display it."
   ]
  },
  {
   "cell_type": "code",
   "execution_count": 4,
   "metadata": {},
   "outputs": [],
   "source": [
    "\n",
    "# Use PIL.Image to open the image and convert it to RGBA\n",
    "raw_image = Image.open(iname)\n",
    "converted_image = raw_image.convert('RGBA')\n",
    "#raw_image.close()\n",
    "\n",
    "# Get some image metadata\n",
    "h, w = converted_image.size\n",
    "converted_histo = converted_image.histogram()\n",
    "converted_colors = converted_image.getcolors(w*h)\n",
    "\n",
    "# Dump the data into a numpy array and split the channels \"bands\"\n",
    "data = np.array(converted_image)  # h * w * 4 array (rgba)\n",
    "r, g, b, a = data.T\n",
    "\n",
    "background = black \n",
    "\n",
    "# Use masking condition and replaces the background color (& is boolean 'and')\n",
    "replace = (r == background[0]) & \\\n",
    "          (b == background[1]) & \\\n",
    "          (g == background[2])\n",
    "\n",
    "data[replace.T] = tuple(orange) \n",
    "\n",
    "# Generate a new image\n",
    "new_image = Image.fromarray(data, 'RGBA')\n",
    "\n",
    "new_image.show()"
   ]
  },
  {
   "cell_type": "markdown",
   "metadata": {},
   "source": [
    "We can now tweak the image - perhaps the background isn't really black, but it's close:"
   ]
  },
  {
   "cell_type": "code",
   "execution_count": 5,
   "metadata": {},
   "outputs": [],
   "source": [
    "THRESHOLD = 50\n",
    "\n",
    "data = np.array(converted_image)  # h * w * 4 array (rgba)\n",
    "r, g, b, a = data.T\n",
    "\n",
    "# Relax the criteria if needed (or even apply fuzzy logic)\n",
    "replace = (r <= THRESHOLD) &\\\n",
    "          (b <= THRESHOLD) &\\\n",
    "          (g <= THRESHOLD)\n",
    "\n",
    "data[replace.T] = tuple(orange) \n",
    "\n",
    "# Generate a new image\n",
    "new_image = Image.fromarray(data, 'RGBA')\n",
    "new_image.show()"
   ]
  },
  {
   "cell_type": "markdown",
   "metadata": {},
   "source": [
    "### Exercise:\n",
    "\n",
    "Please create a short application that performs the following operations:\n",
    "\n",
    "-Produce a 3x3 numpy integer array any way you’d like.\n",
    "\n",
    "\n",
    "-Multiply each element by 7\n",
    "\n",
    "\n",
    "-Count the elements\n",
    "\n",
    "\n",
    "-Count the elements evenly divisible by 3\n",
    "\n",
    "\n",
    "-Create a routine that delivers a vector (1-d array) of the top-right to bottom-left “diagonal” that will work on any size of 2-d vector.\n",
    "\n",
    "\n",
    "-Create unit tests to make sure that that the last routine works as advertised."
   ]
  },
  {
   "cell_type": "markdown",
   "metadata": {},
   "source": [
    "Asynchronous and Distributed Processing\n",
    "=======================\n",
    "\n",
    "## Basics\n",
    "\n",
    "In its default operation, Python processes commands serially, one at a time.   As each is completed, the next one is taken up.   The interpreter uses a single CPU core.   Any other available CPUs are free to tend to unrelated matters.  This works just fine, but can impose unnecessary restrictions in getting the job done.\n",
    "\n",
    "Here's an example of what we mean:"
   ]
  },
  {
   "cell_type": "code",
   "execution_count": 105,
   "metadata": {},
   "outputs": [
    {
     "name": "stdout",
     "output_type": "stream",
     "text": [
      "Good morning!\n",
      "Good afternoon!\n"
     ]
    }
   ],
   "source": [
    "import time\n",
    "\n",
    "def waste_time(snooze_secs=3):\n",
    "    time.sleep(snooze_secs)\n",
    "    \n",
    "print(\"Good morning!\")\n",
    "waste_time()\n",
    "print(\"Good afternoon!\")"
   ]
  },
  {
   "cell_type": "markdown",
   "metadata": {},
   "source": [
    "So what if we wanted to do something else while the mainline execution is tied down with a time-consuming task?   Maybe we sent a spider out to scrape a web site (inherently fraught because of connection and response delays)?  Or maybe several spiders?\n",
    "\n",
    "Python has several solutions.\n"
   ]
  },
  {
   "cell_type": "markdown",
   "metadata": {},
   "source": [
    "## The asyncio library\n",
    "\n",
    "One solution is to use the relatively recent (>= Python 3.7) asynchio library.    It provides wrappers for executable code that allows them to do their processing then \"call home\" when they're done.   Meanwhile other code can execute.\n",
    "\n",
    "Here's a simple example:\n",
    "    \n",
    "  "
   ]
  },
  {
   "cell_type": "code",
   "execution_count": 3,
   "metadata": {},
   "outputs": [
    {
     "name": "stdout",
     "output_type": "stream",
     "text": [
      "Task A: Computing 0+1\n",
      "Time: 0.00\n",
      "Task A: Computing 1+2\n",
      "Time: 1.01\n",
      "Task A: Sum = 3\n",
      "\n",
      "Task B: Computing 0+1\n",
      "Time: 2.01\n",
      "Task B: Computing 1+2\n",
      "Time: 3.02\n",
      "Task B: Computing 3+3\n",
      "Time: 4.02\n",
      "Task B: Sum = 6\n",
      "\n",
      "Time: 5.04 sec\n"
     ]
    }
   ],
   "source": [
    "import time\n",
    "\n",
    "def sleep():\n",
    "    print(f'Time: {time.time() - start:.2f}')\n",
    "    time.sleep(1)\n",
    "\n",
    "def sum(name, numbers):\n",
    "    \"Add up a list of numbers.  Take a break between each element of the list.\"\n",
    "    total = 0\n",
    "    for number in numbers:\n",
    "        print(f'Task {name}: Computing {total}+{number}')\n",
    "        sleep()\n",
    "        total += number\n",
    "    print(f'Task {name}: Sum = {total}\\n')\n",
    "\n",
    "# Set a timer to keep track.\n",
    "start = time.time()\n",
    "\n",
    "# Some numbers to add\n",
    "tasks = [\n",
    "    sum(\"A\", [1, 2]),\n",
    "    sum(\"B\", [1, 2, 3]),\n",
    "]\n",
    "\n",
    "# Stop the timer.\n",
    "end = time.time()\n",
    "\n",
    "# Report the elapsed time.\n",
    "print(f'Time: {end-start:.2f} sec')"
   ]
  },
  {
   "cell_type": "markdown",
   "metadata": {},
   "source": [
    "Here, we run the sum() function twice - once with [1, 2] and the other with [1, 2, 3],   This executes five addition events with a 1-second break between.\n",
    "\n",
    "The result, as expected, took about 5 seconds to complete.   This is the worst-case scenario.  Let's upgrade a bit.   "
   ]
  },
  {
   "cell_type": "markdown",
   "metadata": {},
   "source": [
    "The next script implements some asyncio magic:\n",
    "\n",
    "    import asyncio              #the main library\n",
    "    import nest_asyncio         #tools to allow asyncio to run within another polling app (like Jupyter)\n",
    "    \n",
    "This actually runs the nest_async app:\n",
    "    nest_asyncio.apply()\n",
    "    \n",
    "In the upgraded sleep() function we preceeded the definition with 'async'.  That allows it to run in an \"interruptable\" mode.    \n",
    "    \n",
    "    async def sleep():\n",
    "        print(f'Time: {time.time() - start:.2f}')\n",
    "        await asyncio.sleep(1)    #<----------------- 'await' actually calls the routine. \n",
    "                                  # This is where the event_loop scheduler plays\n",
    "                                   \n",
    "We need to start a loop to schedule and monitor the async processes (just like we did with the GUI apps).\n",
    "\n",
    "    loop = asyncio.get_event_loop()\n",
    "    \n",
    "Then we have to ask the loop to go through it's \"todo list\" until it's finished\"\n",
    "\n",
    "    loop.run_until_complete(asyncio.wait(tasks))"
   ]
  },
  {
   "cell_type": "code",
   "execution_count": 2,
   "metadata": {},
   "outputs": [
    {
     "name": "stdout",
     "output_type": "stream",
     "text": [
      "Task A: Computing 0+1\n",
      "Time: 0.00\n",
      "Task B: Computing 0+1\n",
      "Time: 0.00\n",
      "Task A: Computing 1+2\n",
      "Time: 1.02\n",
      "Task B: Computing 1+2\n",
      "Time: 1.02\n",
      "Task A: Sum = 3\n",
      "\n",
      "Task B: Computing 3+3\n",
      "Time: 2.03\n",
      "Task B: Sum = 6\n",
      "\n",
      "Time: 3.04 sec\n"
     ]
    }
   ],
   "source": [
    "# Adapted from: \n",
    "#  https://stackoverflow.com/questions/50757497/simplest-async-await-example-possible-in-python\n",
    "#  https://stackoverflow.com/questions/46827007/runtimeerror-this-event-loop-is-already-running-in-python \n",
    "#  More at: https://anaconda.org/conda-forge/nest-asyncio\n",
    "\n",
    "import asyncio\n",
    "import nest_asyncio\n",
    "import time\n",
    "\n",
    "nest_asyncio.apply()\n",
    "\n",
    "\n",
    "async def sleep():\n",
    "    print(f'Time: {time.time() - start:.2f}')\n",
    "    await asyncio.sleep(1)\n",
    "\n",
    "async def sum(name, numbers):\n",
    "    total = 0\n",
    "    for number in numbers:\n",
    "        print(f'Task {name}: Computing {total}+{number}')\n",
    "        await sleep()\n",
    "        total += number\n",
    "    print(f'Task {name}: Sum = {total}\\n')\n",
    "\n",
    "start = time.time()\n",
    "\n",
    "loop = asyncio.get_event_loop()\n",
    "tasks = [\n",
    "    loop.create_task(sum(\"A\", [1, 2])),\n",
    "    loop.create_task(sum(\"B\", [1, 2, 3])),\n",
    "]\n",
    "loop.run_until_complete(asyncio.wait(tasks))\n",
    "\n",
    "end = time.time()\n",
    "print(f'Time: {end-start:.2f} sec')"
   ]
  },
  {
   "cell_type": "code",
   "execution_count": null,
   "metadata": {},
   "outputs": [],
   "source": []
  },
  {
   "cell_type": "code",
   "execution_count": null,
   "metadata": {},
   "outputs": [],
   "source": []
  },
  {
   "cell_type": "code",
   "execution_count": null,
   "metadata": {},
   "outputs": [],
   "source": []
  },
  {
   "cell_type": "code",
   "execution_count": null,
   "metadata": {},
   "outputs": [],
   "source": []
  }
 ],
 "metadata": {
  "celltoolbar": "Slideshow",
  "kernelspec": {
   "display_name": "py39",
   "language": "python",
   "name": "py39"
  },
  "language_info": {
   "codemirror_mode": {
    "name": "ipython",
    "version": 3
   },
   "file_extension": ".py",
   "mimetype": "text/x-python",
   "name": "python",
   "nbconvert_exporter": "python",
   "pygments_lexer": "ipython3",
   "version": "3.9.0"
  },
  "latex_envs": {
   "LaTeX_envs_menu_present": true,
   "autoclose": false,
   "autocomplete": true,
   "bibliofile": "biblio.bib",
   "cite_by": "apalike",
   "current_citInitial": 1,
   "eqLabelWithNumbers": true,
   "eqNumInitial": 1,
   "hotkeys": {
    "equation": "Ctrl-E",
    "itemize": "Ctrl-I"
   },
   "labels_anchors": false,
   "latex_user_defs": false,
   "report_style_numbering": false,
   "user_envs_cfg": false
  },
  "toc": {
   "base_numbering": "0",
   "nav_menu": {
    "height": "488px",
    "width": "306px"
   },
   "number_sections": true,
   "sideBar": true,
   "skip_h1_title": false,
   "title_cell": "Table of Contents",
   "title_sidebar": "Contents",
   "toc_cell": true,
   "toc_position": {
    "height": "calc(100% - 180px)",
    "left": "10px",
    "top": "150px",
    "width": "263.8px"
   },
   "toc_section_display": true,
   "toc_window_display": true
  },
  "varInspector": {
   "cols": {
    "lenName": 16,
    "lenType": 16,
    "lenVar": 40
   },
   "kernels_config": {
    "python": {
     "delete_cmd_postfix": "",
     "delete_cmd_prefix": "del ",
     "library": "var_list.py",
     "varRefreshCmd": "print(var_dic_list())"
    },
    "r": {
     "delete_cmd_postfix": ") ",
     "delete_cmd_prefix": "rm(",
     "library": "var_list.r",
     "varRefreshCmd": "cat(var_dic_list()) "
    }
   },
   "oldHeight": 120.56700000000001,
   "position": {
    "height": "283px",
    "left": "1095px",
    "right": "20px",
    "top": "120px",
    "width": "307px"
   },
   "types_to_exclude": [
    "module",
    "function",
    "builtin_function_or_method",
    "instance",
    "_Feature"
   ],
   "varInspector_section_display": "none",
   "window_display": false
  }
 },
 "nbformat": 4,
 "nbformat_minor": 5
}
