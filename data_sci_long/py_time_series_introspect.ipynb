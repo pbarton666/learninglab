{
 "cells": [
  {
   "cell_type": "code",
   "execution_count": 184,
   "metadata": {
    "scrolled": true
   },
   "outputs": [
    {
     "name": "stdout",
     "output_type": "stream",
     "text": [
      "<class 'pandas.core.frame.DataFrame'>\n",
      "RangeIndex: 88 entries, 0 to 87\n",
      "Data columns (total 7 columns):\n",
      "date          88 non-null datetime64[ns]\n",
      "poll          88 non-null object\n",
      "size          88 non-null int64\n",
      "stype         88 non-null object\n",
      "approve       88 non-null int64\n",
      "disapprove    88 non-null int64\n",
      "spread        88 non-null int64\n",
      "dtypes: datetime64[ns](1), int64(4), object(2)\n",
      "memory usage: 4.9+ KB\n"
     ]
    }
   ],
   "source": [
    "#py_time_series_introspect.ipynb\n",
    "import pandas as  pd            \n",
    "import os\n",
    "datafile='clean_polling_data.csv'\n",
    "\n",
    "#useful if you want the directory this script is in\n",
    "if '__file__' in dir():\n",
    "    path, _=os.path.split(__file__)  \n",
    "else: path=os.getcwd() \n",
    "    \n",
    "filename=os.path.join(path, datafile)\n",
    "df=pd.read_csv(filename, parse_dates=[0]) #dialect defaults to Excel\n",
    "df.info()"
   ]
  },
  {
   "cell_type": "code",
   "execution_count": 185,
   "metadata": {},
   "outputs": [
    {
     "data": {
      "text/html": [
       "<div>\n",
       "<style>\n",
       "    .dataframe thead tr:only-child th {\n",
       "        text-align: right;\n",
       "    }\n",
       "\n",
       "    .dataframe thead th {\n",
       "        text-align: left;\n",
       "    }\n",
       "\n",
       "    .dataframe tbody tr th {\n",
       "        vertical-align: top;\n",
       "    }\n",
       "</style>\n",
       "<table border=\"1\" class=\"dataframe\">\n",
       "  <thead>\n",
       "    <tr style=\"text-align: right;\">\n",
       "      <th></th>\n",
       "      <th>poll</th>\n",
       "      <th>size</th>\n",
       "      <th>stype</th>\n",
       "      <th>approve</th>\n",
       "      <th>disapprove</th>\n",
       "      <th>spread</th>\n",
       "    </tr>\n",
       "    <tr>\n",
       "      <th>date</th>\n",
       "      <th></th>\n",
       "      <th></th>\n",
       "      <th></th>\n",
       "      <th></th>\n",
       "      <th></th>\n",
       "      <th></th>\n",
       "    </tr>\n",
       "  </thead>\n",
       "  <tbody>\n",
       "    <tr>\n",
       "      <th>2017-04-24</th>\n",
       "      <td>Rasmussen Reports</td>\n",
       "      <td>1500</td>\n",
       "      <td>LV</td>\n",
       "      <td>47</td>\n",
       "      <td>53</td>\n",
       "      <td>-6</td>\n",
       "    </tr>\n",
       "    <tr>\n",
       "      <th>2017-04-23</th>\n",
       "      <td>Gallup</td>\n",
       "      <td>1500</td>\n",
       "      <td>A</td>\n",
       "      <td>40</td>\n",
       "      <td>54</td>\n",
       "      <td>-14</td>\n",
       "    </tr>\n",
       "    <tr>\n",
       "      <th>2017-04-20</th>\n",
       "      <td>ABC News/Wash Post</td>\n",
       "      <td>1004</td>\n",
       "      <td>A</td>\n",
       "      <td>42</td>\n",
       "      <td>53</td>\n",
       "      <td>-11</td>\n",
       "    </tr>\n",
       "  </tbody>\n",
       "</table>\n",
       "</div>"
      ],
      "text/plain": [
       "                          poll  size stype  approve  disapprove  spread\n",
       "date                                                                   \n",
       "2017-04-24   Rasmussen Reports  1500    LV       47          53      -6\n",
       "2017-04-23              Gallup  1500     A       40          54     -14\n",
       "2017-04-20  ABC News/Wash Post  1004     A       42          53     -11"
      ]
     },
     "execution_count": 185,
     "metadata": {},
     "output_type": "execute_result"
    }
   ],
   "source": [
    "#pandas has several default output formattion options - here are a couple:\n",
    "pd.set_option('display.max_rows', 4)  #default for head(), tail(), etc.\n",
    "pd.set_option('display.width', 500)   #keeps columns from wrapping\n",
    "df.set_index('date', inplace=True)\n",
    "df.head(3)                            #argument overrides max_rows"
   ]
  },
  {
   "cell_type": "code",
   "execution_count": 186,
   "metadata": {},
   "outputs": [
    {
     "name": "stdout",
     "output_type": "stream",
     "text": [
      "<class 'pandas.core.series.Series'>\n"
     ]
    },
    {
     "data": {
      "text/plain": [
       "date\n",
       "2017-04-24     Rasmussen Reports\n",
       "2017-04-23                Gallup\n",
       "2017-04-20    ABC News/Wash Post\n",
       "Name: poll, dtype: object"
      ]
     },
     "execution_count": 186,
     "metadata": {},
     "output_type": "execute_result"
    }
   ],
   "source": [
    "ser=df['poll']\n",
    "print(type(ser))\n",
    "ser.head(3)"
   ]
  },
  {
   "cell_type": "code",
   "execution_count": 187,
   "metadata": {},
   "outputs": [
    {
     "name": "stdout",
     "output_type": "stream",
     "text": [
      "found 19 unique items:\n",
      "['ABC News/Wash Post' 'CBS News' 'CNBC' 'CNN/ORC' 'Economist/YouGov'\n",
      " 'Emerson' 'FOX News' 'Gallup' 'IBD/TIPP' 'Marist' 'McClatchy/Marist'\n",
      " 'Monmouth' 'NBC News/Wall St. Jrnl' 'PPP (D)' 'Pew Research' 'Quinnipiac'\n",
      " 'Rasmussen Reports' 'Reuters/Ipsos' 'USA Today/Suffolk']\n"
     ]
    }
   ],
   "source": [
    "ser.iloc[3]\n",
    "unique=ser.unique()\n",
    "unique.sort()\n",
    "print('found {} unique items:\\n{}'.format(len(unique), unique))"
   ]
  },
  {
   "cell_type": "code",
   "execution_count": 188,
   "metadata": {},
   "outputs": [
    {
     "data": {
      "text/plain": [
       "date\n",
       "2017-04-24    -6\n",
       "2017-04-23   -14\n",
       "2017-04-20   -11\n",
       "Name: spread, dtype: int64"
      ]
     },
     "execution_count": 188,
     "metadata": {},
     "output_type": "execute_result"
    }
   ],
   "source": [
    "ser=pd.Series(df['spread'])\n",
    "ser.head(3)"
   ]
  },
  {
   "cell_type": "code",
   "execution_count": 189,
   "metadata": {},
   "outputs": [
    {
     "data": {
      "text/plain": [
       "array([ -6, -14, -11, -14,  -7,  -6, -16,  -9, -10,  -9, -11,  -6,  -6,\n",
       "       -10,  -9, -10,  -8,  -7,  -4, -22, -13, -22, -24, -12,  -5, -12,\n",
       "        -5, -13, -15,  -8,  -5,   0, -19,  -5,  -8, -14,  -9,  -4,  -7,\n",
       "        -6, -11,  -2,   2, -11,  -2,   3,  -7,  -6, -12,  -9,   0,  -2,\n",
       "        -3,  -4, -12, -10,   2,  -5,   0, -17,  -8, -13,  -3,   6,   1,\n",
       "        -4, -12, -10,  -5,  -9,   1,   6,   1,  -9,  -8,  -9,  -6,  -2,\n",
       "        -9,   6,   2,  -1,   4,   0,  -8,   1,  14,  -2], dtype=int64)"
      ]
     },
     "execution_count": 189,
     "metadata": {},
     "output_type": "execute_result"
    }
   ],
   "source": [
    "df['spread'].values"
   ]
  },
  {
   "cell_type": "code",
   "execution_count": 190,
   "metadata": {},
   "outputs": [
    {
     "data": {
      "text/html": [
       "<div>\n",
       "<style>\n",
       "    .dataframe thead tr:only-child th {\n",
       "        text-align: right;\n",
       "    }\n",
       "\n",
       "    .dataframe thead th {\n",
       "        text-align: left;\n",
       "    }\n",
       "\n",
       "    .dataframe tbody tr th {\n",
       "        vertical-align: top;\n",
       "    }\n",
       "</style>\n",
       "<table border=\"1\" class=\"dataframe\">\n",
       "  <thead>\n",
       "    <tr style=\"text-align: right;\">\n",
       "      <th></th>\n",
       "      <th>poll</th>\n",
       "      <th>size</th>\n",
       "      <th>stype</th>\n",
       "      <th>approve</th>\n",
       "      <th>disapprove</th>\n",
       "      <th>spread</th>\n",
       "    </tr>\n",
       "    <tr>\n",
       "      <th>date</th>\n",
       "      <th></th>\n",
       "      <th></th>\n",
       "      <th></th>\n",
       "      <th></th>\n",
       "      <th></th>\n",
       "      <th></th>\n",
       "    </tr>\n",
       "  </thead>\n",
       "  <tbody>\n",
       "    <tr>\n",
       "      <th>2017-04-24</th>\n",
       "      <td>Rasmussen Reports</td>\n",
       "      <td>1500</td>\n",
       "      <td>LV</td>\n",
       "      <td>47</td>\n",
       "      <td>53</td>\n",
       "      <td>9999</td>\n",
       "    </tr>\n",
       "    <tr>\n",
       "      <th>2017-04-23</th>\n",
       "      <td>Gallup</td>\n",
       "      <td>1500</td>\n",
       "      <td>A</td>\n",
       "      <td>40</td>\n",
       "      <td>54</td>\n",
       "      <td>-14</td>\n",
       "    </tr>\n",
       "    <tr>\n",
       "      <th>2017-04-20</th>\n",
       "      <td>ABC News/Wash Post</td>\n",
       "      <td>1004</td>\n",
       "      <td>A</td>\n",
       "      <td>42</td>\n",
       "      <td>53</td>\n",
       "      <td>-11</td>\n",
       "    </tr>\n",
       "  </tbody>\n",
       "</table>\n",
       "</div>"
      ],
      "text/plain": [
       "                          poll  size stype  approve  disapprove  spread\n",
       "date                                                                   \n",
       "2017-04-24   Rasmussen Reports  1500    LV       47          53    9999\n",
       "2017-04-23              Gallup  1500     A       40          54     -14\n",
       "2017-04-20  ABC News/Wash Post  1004     A       42          53     -11"
      ]
     },
     "execution_count": 190,
     "metadata": {},
     "output_type": "execute_result"
    }
   ],
   "source": [
    "first_val=ser[0]      #record the original value\n",
    "ser[0]=9999\n",
    "df.head(3)"
   ]
  },
  {
   "cell_type": "code",
   "execution_count": 191,
   "metadata": {},
   "outputs": [
    {
     "data": {
      "text/html": [
       "<div>\n",
       "<style>\n",
       "    .dataframe thead tr:only-child th {\n",
       "        text-align: right;\n",
       "    }\n",
       "\n",
       "    .dataframe thead th {\n",
       "        text-align: left;\n",
       "    }\n",
       "\n",
       "    .dataframe tbody tr th {\n",
       "        vertical-align: top;\n",
       "    }\n",
       "</style>\n",
       "<table border=\"1\" class=\"dataframe\">\n",
       "  <thead>\n",
       "    <tr style=\"text-align: right;\">\n",
       "      <th></th>\n",
       "      <th>poll</th>\n",
       "      <th>size</th>\n",
       "      <th>stype</th>\n",
       "      <th>approve</th>\n",
       "      <th>disapprove</th>\n",
       "      <th>spread</th>\n",
       "    </tr>\n",
       "    <tr>\n",
       "      <th>date</th>\n",
       "      <th></th>\n",
       "      <th></th>\n",
       "      <th></th>\n",
       "      <th></th>\n",
       "      <th></th>\n",
       "      <th></th>\n",
       "    </tr>\n",
       "  </thead>\n",
       "  <tbody>\n",
       "    <tr>\n",
       "      <th>2017-04-24</th>\n",
       "      <td>Rasmussen Reports</td>\n",
       "      <td>1500</td>\n",
       "      <td>LV</td>\n",
       "      <td>47</td>\n",
       "      <td>53</td>\n",
       "      <td>-6</td>\n",
       "    </tr>\n",
       "    <tr>\n",
       "      <th>2017-04-23</th>\n",
       "      <td>Gallup</td>\n",
       "      <td>1500</td>\n",
       "      <td>A</td>\n",
       "      <td>40</td>\n",
       "      <td>54</td>\n",
       "      <td>-14</td>\n",
       "    </tr>\n",
       "    <tr>\n",
       "      <th>2017-04-20</th>\n",
       "      <td>ABC News/Wash Post</td>\n",
       "      <td>1004</td>\n",
       "      <td>A</td>\n",
       "      <td>42</td>\n",
       "      <td>53</td>\n",
       "      <td>-11</td>\n",
       "    </tr>\n",
       "  </tbody>\n",
       "</table>\n",
       "</div>"
      ],
      "text/plain": [
       "                          poll  size stype  approve  disapprove  spread\n",
       "date                                                                   \n",
       "2017-04-24   Rasmussen Reports  1500    LV       47          53      -6\n",
       "2017-04-23              Gallup  1500     A       40          54     -14\n",
       "2017-04-20  ABC News/Wash Post  1004     A       42          53     -11"
      ]
     },
     "execution_count": 191,
     "metadata": {},
     "output_type": "execute_result"
    }
   ],
   "source": [
    "#restore to original\n",
    "ser[0]=first_val                 \n",
    "#decoupled Series from copy of DataFrame\n",
    "ser_1=pd.Series(df['spread'].copy().values)    \n",
    "ser_1.index=df.index\n",
    "ser_1[0]=999\n",
    "df.head(3)"
   ]
  },
  {
   "cell_type": "code",
   "execution_count": 192,
   "metadata": {},
   "outputs": [
    {
     "data": {
      "text/plain": [
       "date\n",
       "2017-04-24    999\n",
       "2017-04-23    -14\n",
       "2017-04-20    -11\n",
       "dtype: int64"
      ]
     },
     "execution_count": 192,
     "metadata": {},
     "output_type": "execute_result"
    }
   ],
   "source": [
    "ser_1.head(3)"
   ]
  },
  {
   "cell_type": "code",
   "execution_count": 193,
   "metadata": {},
   "outputs": [
    {
     "name": "stdout",
     "output_type": "stream",
     "text": [
      "count    88.000000\n",
      "mean     -6.625000\n",
      "std       6.583352\n",
      "min     -24.000000\n",
      "25%     -10.250000\n",
      "50%      -7.000000\n",
      "75%      -2.000000\n",
      "max      14.000000\n",
      "Name: spread, dtype: float64\n"
     ]
    }
   ],
   "source": [
    "pd.set_option('display.max_rows', 10) \n",
    "print(ser.describe())"
   ]
  },
  {
   "cell_type": "code",
   "execution_count": 194,
   "metadata": {},
   "outputs": [
    {
     "name": "stdout",
     "output_type": "stream",
     "text": [
      "max index is:  2017-04-24 00:00:00\n",
      "min index is:  2017-01-24 00:00:00\n"
     ]
    }
   ],
   "source": [
    "print(\"max index is:  {}\".format(ser_1.index.max()))\n",
    "print(\"min index is:  {}\".format(ser_1.index.min()))"
   ]
  },
  {
   "cell_type": "code",
   "execution_count": 195,
   "metadata": {},
   "outputs": [
    {
     "data": {
      "text/plain": [
       "date\n",
       "2017-03-28   -24\n",
       "2017-04-03   -22\n",
       "2017-03-30   -22\n",
       "dtype: int64"
      ]
     },
     "execution_count": 195,
     "metadata": {},
     "output_type": "execute_result"
    }
   ],
   "source": [
    "ser_1.nsmallest(3)      #also nlargest"
   ]
  },
  {
   "cell_type": "code",
   "execution_count": 196,
   "metadata": {},
   "outputs": [
    {
     "name": "stdout",
     "output_type": "stream",
     "text": [
      "number of unique values:  28\n",
      "monotonic?  False\n",
      "time series:  True\n",
      "any NaN?  False\n",
      "size:  88\n",
      "\n",
      "a few random values:\n",
      "date\n",
      "2017-02-28    0\n",
      "2017-04-11   -9\n",
      "2017-02-07   -9\n",
      "dtype: int64\n",
      "\n",
      "autocorrelation coefficient: -0.09808022130695146\n"
     ]
    }
   ],
   "source": [
    "print(\"number of unique values:  {}\".format(ser_1.nunique()))\n",
    "print(\"monotonic?  {}\".format( ser_1.is_monotonic))\n",
    "print(\"time series:  {}\".format(ser_1.index.is_all_dates))\n",
    "print(\"any NaN?  {}\".format(ser_1.hasnans))\n",
    "print(\"size:  {}\".format(ser_1.size))\n",
    "print(\"\\na few random values:\\n{}\".format(ser_1.sample(n=3) ))\n",
    "print(\"\\nautocorrelation coefficient: {}\".format(ser_1.autocorr()))"
   ]
  },
  {
   "cell_type": "code",
   "execution_count": null,
   "metadata": {
    "collapsed": true
   },
   "outputs": [],
   "source": []
  }
 ],
 "metadata": {
  "kernelspec": {
   "display_name": "Python 3",
   "language": "python",
   "name": "python3"
  },
  "language_info": {
   "codemirror_mode": {
    "name": "ipython",
    "version": 3
   },
   "file_extension": ".py",
   "mimetype": "text/x-python",
   "name": "python",
   "nbconvert_exporter": "python",
   "pygments_lexer": "ipython3",
   "version": "3.6.1"
  }
 },
 "nbformat": 4,
 "nbformat_minor": 2
}
