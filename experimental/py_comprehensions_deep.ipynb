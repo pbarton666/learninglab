{
 "cells": [
  {
   "cell_type": "code",
   "execution_count": 167,
   "metadata": {},
   "outputs": [
    {
     "data": {
      "text/html": [
       "<style>\n",
       "\n",
       "/*#These style overrides are for printing in b/w. The Jupyter style comes from\n",
       "   CodeMirror.   The CodeMirror overrides all begin with .cm below. \n",
       "*/\n",
       "div.input_area {\n",
       "  border: 4px solid #cfcfcf;\n",
       "  border-radius: 4px;\n",
       "  background: white;\n",
       "  line-height: 1.21429em;\n",
       "}\n",
       "div.cell{color: black;}\n",
       "\n",
       "\n",
       "/*\n",
       "These are all style overrides from the CodeMirror theme\n",
       "Good source of names:\n",
       "      https://github.com/draperjames/one-dark-notebook/blob/master/custom.css\n",
       "*/\n",
       "\n",
       "/*\n",
       ".cm-s-ipython span.cm-string {\n",
       "    color: black;\n",
       "}\n",
       "\n",
       ".cm-s-ipython span.cm-link {\n",
       "    color: black;\n",
       "}\n",
       ".cm-s-ipython span.cm-keyword {\n",
       "    color: black;\n",
       "}\n",
       "\n",
       ".cm-s-ipython .CodeMirror-linenumber {\n",
       "    color: black;\n",
       "    font-size: 10px;\n",
       "}\n",
       "\n",
       ".cm-s-ipython span.cm-comment {\n",
       "    color: black;\n",
       "}\n",
       "\n",
       ".cm-s-ipython span.cm-builtin {\n",
       "    color: black;\n",
       "}\n",
       "\n",
       ".cm-s-ipython span.cm-variable {\n",
       "    color: black;\n",
       "}\n",
       "\n",
       ".cm-s-ipython span.cm-variable-2 {\n",
       "    color: black;\n",
       "}\n",
       "\n",
       ".cm-s-ipython span.cm-variable-3 {\n",
       "    color: black;\n",
       "}\n",
       "\n",
       "\n",
       ".cm-s-default span.cm-bracket {\n",
       "    color: black;\n",
       "}\n",
       "\n",
       ".cm-s-ipython span.cm-operator {\n",
       "    color: black;\n",
       "}\n",
       "\n",
       ".cm-s-ipython span.cm-number {\n",
       "    color: black;\n",
       "}\n",
       "*/\n",
       "\n",
       "</style>"
      ],
      "text/plain": [
       "<IPython.core.display.HTML object>"
      ]
     },
     "metadata": {},
     "output_type": "display_data"
    }
   ],
   "source": [
    "\n",
    "%%html\n",
    "<style>\n",
    "\n",
    "/*#These style overrides are for printing in b/w. The Jupyter style comes from\n",
    "   CodeMirror.   The CodeMirror overrides all begin with .cm below. \n",
    "*/\n",
    "div.input_area {\n",
    "  border: 4px solid #cfcfcf;\n",
    "  border-radius: 4px;\n",
    "  background: white;\n",
    "  line-height: 1.21429em;\n",
    "}\n",
    "div.cell{color: black;}\n",
    "\n",
    "\n",
    "/*\n",
    "These are all style overrides from the CodeMirror theme\n",
    "Good source of names:\n",
    "      https://github.com/draperjames/one-dark-notebook/blob/master/custom.css\n",
    "*/\n",
    "\n",
    "/*\n",
    ".cm-s-ipython span.cm-string {\n",
    "    color: black;\n",
    "}\n",
    "\n",
    ".cm-s-ipython span.cm-link {\n",
    "    color: black;\n",
    "}\n",
    ".cm-s-ipython span.cm-keyword {\n",
    "    color: black;\n",
    "}\n",
    "\n",
    ".cm-s-ipython .CodeMirror-linenumber {\n",
    "    color: black;\n",
    "    font-size: 10px;\n",
    "}\n",
    "\n",
    ".cm-s-ipython span.cm-comment {\n",
    "    color: black;\n",
    "}\n",
    "\n",
    ".cm-s-ipython span.cm-builtin {\n",
    "    color: black;\n",
    "}\n",
    "\n",
    ".cm-s-ipython span.cm-variable {\n",
    "    color: black;\n",
    "}\n",
    "\n",
    ".cm-s-ipython span.cm-variable-2 {\n",
    "    color: black;\n",
    "}\n",
    "\n",
    ".cm-s-ipython span.cm-variable-3 {\n",
    "    color: black;\n",
    "}\n",
    "\n",
    "\n",
    ".cm-s-default span.cm-bracket {\n",
    "    color: black;\n",
    "}\n",
    "\n",
    ".cm-s-ipython span.cm-operator {\n",
    "    color: black;\n",
    "}\n",
    "\n",
    ".cm-s-ipython span.cm-number {\n",
    "    color: black;\n",
    "}\n",
    "*/\n",
    "\n",
    "</style>\n"
   ]
  },
  {
   "cell_type": "code",
   "execution_count": 155,
   "metadata": {},
   "outputs": [
    {
     "name": "stdout",
     "output_type": "stream",
     "text": [
      "C:\\Users\\pat\\.jupyter\n",
      "False\n"
     ]
    }
   ],
   "source": [
    "import os\n",
    "from jupyter_core.paths import jupyter_config_dir\n",
    "jupyter_dir = jupyter_config_dir()\n",
    "print(jupyter_dir)\n",
    "print(os.path.exists(jupyter_dir))"
   ]
  },
  {
   "cell_type": "markdown",
   "metadata": {},
   "source": [
    "#  <center>     <u>                A Deep Dive Into Comprehensions </u></center>\n",
    "### <center> <i>Patrick Barton barton.pj@gmail.com</center> </i>"
   ]
  },
  {
   "cell_type": "markdown",
   "metadata": {},
   "source": [
    "\n",
    "Comprehensions provide an elegant and efficient means of producing collections in Python.  They also allow on-the-fly application of filters.\n",
    "\n",
    "Even if you don't use them yourself, it's worthwhile learning how to read them because you'll find plenty of them \"in the wild\", embedded in Python libraries you'll want to understand.   And they can be might handy once you get the hang of them.\n",
    "\n",
    "## Use Cases\n",
    "\n",
    "Here are a couple situations where you may want to use comprehensions:\n",
    "\n",
    "<u>Case 1</u>:  You inherited a messy data table from your predecessor.  It contains a bunch of values \"Val_1\", \"Val_2\", etc. each calculated for a different year.  The column headings show up something like \"Val_1_2025\".  You want to sort them and screen only for the year 2025, retaining the 'catch' in a new object. \n",
    "\n",
    "With a comprehension, you could pull that off with a single, short line of code:\n"
   ]
  },
  {
   "cell_type": "code",
   "execution_count": 146,
   "metadata": {
    "collapsed": true
   },
   "outputs": [
    {
     "data": {
      "text/plain": [
       "['Val_1_2025', 'Val_2_2025', 'Val_3_2025']"
      ]
     },
     "execution_count": 146,
     "metadata": {},
     "output_type": "execute_result"
    }
   ],
   "source": [
    "columns = ['Val_3_2020', 'Val_1_2025', 'Val_3_2023', 'Val_3_2024', 'Val_3_2024', 'Val_3_2023', 'Val_3_2025', \n",
    "           'Val_2_2023', 'Val_1_2023', 'Val_2_2025', 'Val_1_2022', 'Val_3_2023', 'Val_2_2024', 'Val_3_2021', \n",
    "           'Val_1_2023', 'Val_3_2024', 'Val_3_2021', 'Val_1_2020', 'Val_3_2024', 'Val_1_2022']\n",
    "           \n",
    "[ col for col  in sorted(columns) if '2025' in col]"
   ]
  },
  {
   "cell_type": "markdown",
   "metadata": {},
   "source": [
    "<u>Case 2</u>:  You just need some sensible index names and placeholder values for a pandas <b>Series</b> object and want to do it efficiently.    You could go:"
   ]
  },
  {
   "cell_type": "code",
   "execution_count": 107,
   "metadata": {
    "scrolled": false
   },
   "outputs": [
    {
     "data": {
      "text/plain": [
       "Year_1905    0\n",
       "Year_1906    1\n",
       "Year_1907    2\n",
       "Year_1908    3\n",
       "Year_1909    4\n",
       "dtype: int64"
      ]
     },
     "execution_count": 107,
     "metadata": {},
     "output_type": "execute_result"
    }
   ],
   "source": [
    "import pandas as pd\n",
    "pd.Series(data = [val for val in range(5)], index = [\"Year_{}\".format(yr) for yr in range(1905, 1910)])"
   ]
  },
  {
   "cell_type": "markdown",
   "metadata": {},
   "source": [
    "A notable downside to comprehensions is that they can be difficult to decypher for those not familiar with the syntax.  Don't believe me?   Here's an example:"
   ]
  },
  {
   "cell_type": "code",
   "execution_count": 128,
   "metadata": {},
   "outputs": [],
   "source": [
    "[y for level in three_d_array if level[2][2] %2 for x in level if x[1] > 3 for y in x if not y % 3 ]"
   ]
  },
  {
   "cell_type": "markdown",
   "metadata": {},
   "source": [
    "A bit daunting, I'll admit.  But fear not.  When you've completed this unit, you'll be able to figure out what it produces with your pocket protector tied behind your back.   Besides, there's nothing you can do with comprehensions that you can't do another way, so you don't really <u>need</u> to nail them.  When you're done reading this unit, you'll be able to convert this into a (likely more easily-understood), verbose format and never have to look at again."
   ]
  },
  {
   "cell_type": "markdown",
   "metadata": {},
   "source": [
    "\n",
    "## Basics\n",
    "\n",
    "But let's begin at the beginning.  Here's a simple example of a list comprehension:"
   ]
  },
  {
   "cell_type": "code",
   "execution_count": 108,
   "metadata": {},
   "outputs": [
    {
     "data": {
      "text/plain": [
       "['h', 'e', 'y']"
      ]
     },
     "execution_count": 108,
     "metadata": {},
     "output_type": "execute_result"
    }
   ],
   "source": [
    "iterable = \"hey\"\n",
    "[item for item in iterable]"
   ]
  },
  {
   "cell_type": "markdown",
   "metadata": {},
   "source": [
    "As you can see, we've done is created a new list object.  It's identical to the following, more verbose, code (with a couple subtle differences):"
   ]
  },
  {
   "cell_type": "code",
   "execution_count": 109,
   "metadata": {},
   "outputs": [
    {
     "data": {
      "text/plain": [
       "['h', 'e', 'y']"
      ]
     },
     "execution_count": 109,
     "metadata": {},
     "output_type": "execute_result"
    }
   ],
   "source": [
    "as_list = []\n",
    "for char in iterable:\n",
    "    as_list.append(char)\n",
    "as_list    "
   ]
  },
  {
   "cell_type": "markdown",
   "metadata": {},
   "source": [
    "What are the differences?  In the verbose mode we had to add the name 'as_list' to the namespace and create an empty <b>list</b> instance.  We also had to add the iterating variable 'item' to the project namespace.\n",
    "\n",
    "Using the <b>list</b> comprehension, we had to do neither.   The comprehension has its own \"mini-namespace\" which is created on the fly, and which goes out of context as soon as the comprehension has completed.\n",
    "\n",
    "Now, lets build this up a bit at a time - it'll be easier to remember the steps this way."
   ]
  },
  {
   "cell_type": "raw",
   "metadata": {},
   "source": [
    "[                                  ]         #start with empty brackets;\n",
    "[              for item in iterable]         #create a for loop (any valid expression will work);\n",
    "[     char     for item in iterable]         #put the thing you want to add to the list on the left."
   ]
  },
  {
   "cell_type": "markdown",
   "metadata": {},
   "source": [
    "The iterable object can be a <b>list</b>, <b>set</b>, <b>tuple</b>, generator expression, or just about anything with a __next__() method defined will do.  Here's an example with a range object."
   ]
  },
  {
   "cell_type": "code",
   "execution_count": 110,
   "metadata": {},
   "outputs": [
    {
     "data": {
      "text/plain": [
       "[10, 12, 14, 16, 18]"
      ]
     },
     "execution_count": 110,
     "metadata": {},
     "output_type": "execute_result"
    }
   ],
   "source": [
    "[i for i in range(10, 20, 2)]"
   ]
  },
  {
   "cell_type": "markdown",
   "metadata": {},
   "source": [
    "Now, since we've produced the iterating variable 'i', we can make any use of it to perform a \"preprocessing operation\" to produce the item added to the <b>list</b> at each iteration.\n",
    "\n",
    "Let's say we wanted to find which printable character is mapped to a <b>range</b> of ordinal code points.  Here's an easy way to manage it:"
   ]
  },
  {
   "cell_type": "code",
   "execution_count": 111,
   "metadata": {},
   "outputs": [
    {
     "name": "stdout",
     "output_type": "stream",
     "text": [
      "['2', '3', '4', '5', '6', '7', '8', '9', ':', ';', '<', '=', '>', '?', '@']\n"
     ]
    }
   ],
   "source": [
    "print([chr(code_point) for code_point in range(50, 65) ])"
   ]
  },
  {
   "cell_type": "markdown",
   "metadata": {},
   "source": [
    "Good so far?    Now, we can go upmarket a bit and add a filter to \"screen in\" a subset of the values produced by the iterating expression.  The filter bit goes on the right.  \n",
    "\n",
    "Here's an example where we're looking only for the numbers evenly divisible by 3:"
   ]
  },
  {
   "cell_type": "code",
   "execution_count": 112,
   "metadata": {},
   "outputs": [
    {
     "name": "stdout",
     "output_type": "stream",
     "text": [
      "[12, 18]\n"
     ]
    }
   ],
   "source": [
    "print([i for i in range(10, 20, 2) if not i % 3 ] )"
   ]
  },
  {
   "cell_type": "markdown",
   "metadata": {},
   "source": [
    "The filter can be any valid expression that can Python can evaluate as Boolean (<b>True</b>/<b>False</b>).\n",
    "\n",
    "As an aside, Python is super-flexible in this regard.  Any non-empty object and any non-zero number will evaluated as <b>True</b> when subjected to a Boolean test.   The \"%\" is Python's modulo operator - it returns the remainder of a \"floor\" (rounded down) division e.g.,    13 % 3 --> 1"
   ]
  },
  {
   "cell_type": "markdown",
   "metadata": {},
   "source": [
    "## 2-D Objects (adding an extra internal variable)\n",
    "\n",
    "Let's circle back to the notion of a comprehension's namespace.   As mentioned earlier, the comprehension whistles up its own \"mini-namespace\" - the iterating variable 'item' is defined anew as the comprehension is calculated.  To demonstrate:"
   ]
  },
  {
   "cell_type": "code",
   "execution_count": 113,
   "metadata": {},
   "outputs": [
    {
     "name": "stdout",
     "output_type": "stream",
     "text": [
      "Snoopy the beagle\n"
     ]
    }
   ],
   "source": [
    "item = \"Snoopy the beagle\"             #setting 'item' in the main namespace\n",
    "[ item for item in {'x', 'y', 'z'} ]   #re-using 'item' as an iterating variable\n",
    "print(item)"
   ]
  },
  {
   "cell_type": "markdown",
   "metadata": {},
   "source": [
    "Introduction of a name to the internal namespace is done via the defining the iterating expression.   \n",
    "\n",
    "We've created an internal definition of 'item' and an internal definition of the <b>set</b> {'x', 'y', 'z'}.  That's a seperate object from the object of the same name in the mainline code, and the value did not propogate. "
   ]
  },
  {
   "cell_type": "markdown",
   "metadata": {},
   "source": [
    "If you need to create additional iterating variables, you need to create additional <b>for</b> statements. \n",
    "\n",
    "Let's say you had an array-like structure, represented here as a <b>list</b> of <b>lists</b>, and you wanted to create a flattened version of it.   You would want two iterating variables - one for the rows and the other for the columns.   So you can go:"
   ]
  },
  {
   "cell_type": "code",
   "execution_count": 114,
   "metadata": {},
   "outputs": [
    {
     "data": {
      "text/plain": [
       "[1, 2, 3, 4, 5, 6, 7, 8, 9]"
      ]
     },
     "execution_count": 114,
     "metadata": {},
     "output_type": "execute_result"
    }
   ],
   "source": [
    "nested = [ [1,2,3], \n",
    "           [4,5,6], \n",
    "           [7,8, 9] ]\n",
    "flat = [y for x in nested for y in x]\n",
    "flat"
   ]
  },
  {
   "cell_type": "raw",
   "metadata": {},
   "source": [
    "As you can see, even simple nested expressions can be hard on the eyes (not to mention your sanity).   Here are a few tricks and tips for putting these together.   Let's take the last expression apart a bit:\n",
    "  \n",
    "                      outer loop               inner loop\n",
    "flat = [  y          for x in nested           for y in x]\n",
    "\n",
    "We've defined two loops, an \"outer loop\" and an \"inner loop\".  These are read starting from the left.    \n",
    "\n",
    "The outer loop iterates through the rows of the array, each time producing a list like [1, 2, 3] and assigning it to the name 'x'.  The(inner) loop processes each of these lists, producing one element at a time and assigning it to the name 'y'.  The variable 'y' is then added to the output list.\n",
    "\n",
    "Still looks like gobbledy-gook?   Yeah, I know.   Here's another way to think about this:\n",
    "\n",
    "  verbose version                                |  list comprehension\n",
    "  ---------------                                |  ------------------\n",
    "                                                 |\n",
    "  flat_verbose = []                 #initialize  |     [                      #initialize\n",
    "                                                 |       y                    #add y here \n",
    "  for x in nested:                  #outer loop  |          for x in nested   #outer loop  \n",
    "      for y in x:                   #inner loop  |              for y in x    #inner loop\n",
    "          flat_verbose.append(y)    #add y here  |       \n",
    "                                                 |     ]                      #complete the expression\n",
    "                                                \n",
    "On the left side a verbose, nested pair of for statements generates a flattened version of the array one element at a time.   Naturally, we had to initialize and empty list and use append() to tack each new element onto the end.\n",
    "\n",
    "On the right side the compression does exactly the same thing but the order of operations is a bit different because we add the new element at the beginning.   The order of the iterating expressions is exactly the same, as is the syntax (sans the \":\").   If it's easier, you can go ahead and write the comprehension in the 'indented format' - Python won't complain about the multiple lines because it assumes you'll close the [bracked expression] eventually.   So this works:\n"
   ]
  },
  {
   "cell_type": "code",
   "execution_count": 159,
   "metadata": {},
   "outputs": [
    {
     "data": {
      "text/plain": [
       "[1, 2, 3, 4, 5, 6, 7, 8, 9]"
      ]
     },
     "execution_count": 159,
     "metadata": {},
     "output_type": "execute_result"
    }
   ],
   "source": [
    "[y\n",
    "    for x in nested\n",
    "        for y in x]"
   ]
  },
  {
   "cell_type": "markdown",
   "metadata": {},
   "source": [
    "## 3-D and Beyond\n",
    "\n",
    "You can extend a nested <b>list</b> comprehension to an arbitrarily-large number of levels.  Here we'll discuss the example presented at the beginning of this unit along with a concrete example."
   ]
  },
  {
   "cell_type": "code",
   "execution_count": 116,
   "metadata": {},
   "outputs": [
    {
     "data": {
      "text/plain": [
       "[12, 15, 18, 21, 24, 27, 33, 36, 39]"
      ]
     },
     "execution_count": 116,
     "metadata": {},
     "output_type": "execute_result"
    }
   ],
   "source": [
    "#This is the array we'll flatten\n",
    "three_d_array = [[[11, 12, 13], [14, 15, 16], [17, 18, 19]],   #top    'level'\n",
    "                 [[21, 22, 23], [24, 25, 26], [27, 28, 29]],   #middle 'level'\n",
    "                 [[31, 32, 33], [34, 35, 36], [37, 38, 39]]]   #bottom 'level'\n",
    "\n",
    "flat_three_d = [y for level in three_d_array if level[2][2] %2 for x in level if x[1] > 3 for y in x if not y % 3 ]\n",
    "\n",
    "flat_three_d"
   ]
  },
  {
   "cell_type": "markdown",
   "metadata": {},
   "source": [
    "Here's an annotated version of the comprehension in verbose form.   You'll note that we have three iterating variables, 'level', 'x', and 'y' and a filter associated with each:"
   ]
  },
  {
   "cell_type": "code",
   "execution_count": 117,
   "metadata": {},
   "outputs": [
    {
     "data": {
      "text/plain": [
       "[12, 15, 18, 21, 24, 27, 33, 36, 39]"
      ]
     },
     "execution_count": 117,
     "metadata": {},
     "output_type": "execute_result"
    }
   ],
   "source": [
    "flat_three_d = [] \n",
    "for level in three_d_array:\n",
    "    if level[2][2] %2:                           #is the last element of the last list in the 'level' odd?\n",
    "        for x in level:\n",
    "            if x[1] > 3:                         #is the second element of of each list larger than 3?\n",
    "                for y in x:\n",
    "                    if not y %3:                 #is the individual element divisible by 3?\n",
    "                        flat_three_d.append(y)   #... if so, the number 'screens in' to the finished list\n",
    "                        \n",
    "flat_three_d                        "
   ]
  },
  {
   "cell_type": "markdown",
   "metadata": {},
   "source": [
    "Following the pattern in the 2-d example, we'll apply indentation to make it a bit more readable.   "
   ]
  },
  {
   "cell_type": "code",
   "execution_count": 118,
   "metadata": {},
   "outputs": [
    {
     "data": {
      "text/plain": [
       "[12, 15, 18, 21, 24, 27, 33, 36, 39]"
      ]
     },
     "execution_count": 118,
     "metadata": {},
     "output_type": "execute_result"
    }
   ],
   "source": [
    "flat_three_d = [y                                            #we'll add 'y' to the list here\n",
    "                  for level in three_d_array                 #loop through the 'levels'\n",
    "                     if level[2][2] %2                          #...apply the 'level filter'\n",
    "                        for x in level                              #loop thru the 'x' dimension\n",
    "                            if x[1] > 3                                #...apply the 'x' filter\n",
    "                                for y in x                                  #loop thru the 'y' dimension\n",
    "                                    if not y % 3 ]                              #...apply the 'y' filter\n",
    "flat_three_d"
   ]
  },
  {
   "cell_type": "raw",
   "metadata": {},
   "source": [
    "The original should now make sense ... you just need to read it left to right, in chunks:\n",
    "\n",
    "                _|__________________________|_________________|______________|___________|__________|____________\n",
    "flat_three_d = [y for level in three_d_array if level[2][2] %2 for x in level if x[1] > 3 for y in x if not y % 3 ]"
   ]
  },
  {
   "cell_type": "markdown",
   "metadata": {},
   "source": [
    "## Going the Other Way - Building Data Structures\n",
    "\n",
    "Just as you can flatten high-dimensional data, you can also build data structures starting from a flat data source.  Just for fun, let's try to make one of these:"
   ]
  },
  {
   "cell_type": "code",
   "execution_count": 119,
   "metadata": {},
   "outputs": [],
   "source": [
    "target = [[1, 2, 3], [4, 5, 6], [7, 8, 9], [10, 11, 12]]"
   ]
  },
  {
   "cell_type": "markdown",
   "metadata": {},
   "source": [
    "So we're shooting for an array-like structure comprised of a <b>list</b> of <b>list</b> objects.   Each of the internal <b>list</b> objects contains consecutive integers.   Each new <b>list</b> picks off where the old one left off.  \n",
    "\n",
    "So, we're going to need a computational way to figure out the starting point of each internal <b>list</b>.  Then populate the rest if it.   One way to code this is:"
   ]
  },
  {
   "cell_type": "code",
   "execution_count": 129,
   "metadata": {},
   "outputs": [
    {
     "name": "stdout",
     "output_type": "stream",
     "text": [
      "[[1, 2, 3], [4, 5, 6], [7, 8, 9], [10, 11, 12]]\n",
      "Nailed it?  True.\n"
     ]
    }
   ],
   "source": [
    "#[  [start1 = 1, start1+1, start1+2 ], [start2 = 4, start2+1, start2_2], ... ]\n",
    "\n",
    "outer = []\n",
    "for y in range(0, 10, 3):     #number just before start 0, 3, 6, 9\n",
    "    inner = []\n",
    "    for x in range(1, 4):     # numbers to add:  1, 2, 3\n",
    "        inner.append(x + y)\n",
    "    outer.append(inner)\n",
    "print(outer) \n",
    "print(\"Nailed it?  {}.\".format(outer==target))"
   ]
  },
  {
   "cell_type": "markdown",
   "metadata": {},
   "source": [
    "Alternatively, we could use nested comprehensions where we use a outer 'y' loop to find the initial values; and the inner 'x' loop to populate individual <b>lists</b>.   The comprehension should be structured thusly:"
   ]
  },
  {
   "cell_type": "code",
   "execution_count": 121,
   "metadata": {},
   "outputs": [
    {
     "data": {
      "text/plain": [
       "[[1, 2, 3], [4, 5, 6], [7, 8, 9], [10, 11, 12]]"
      ]
     },
     "execution_count": 121,
     "metadata": {},
     "output_type": "execute_result"
    }
   ],
   "source": [
    "[ [x + y  \n",
    "     for x in range (1, 4)]\n",
    "          for y in range(0, 10, 3)        \n",
    "          ]"
   ]
  },
  {
   "cell_type": "code",
   "execution_count": 122,
   "metadata": {},
   "outputs": [
    {
     "data": {
      "text/plain": [
       "[[1, 2, 3], [4, 5, 6], [7, 8, 9], [10, 11, 12]]"
      ]
     },
     "execution_count": 122,
     "metadata": {},
     "output_type": "execute_result"
    }
   ],
   "source": [
    "# more simply as a 'one-liner'\n",
    "\n",
    "#inner loop makes inner lists  ...with every cycle of the outer loop\n",
    "[[x + y for x in range(1,4) ]     for y in range(0, 10, 3)]"
   ]
  },
  {
   "cell_type": "markdown",
   "metadata": {},
   "source": [
    "Creating a 3-d structure is just a little more complex.  Here's a quick-and-dirty way to create a stack of array-like <b>'list-of-lists'</b> structure.   This is handy code fragment to keep around for testing - you'll note that you can determine the x, y, and z coordinates based on the data values alone."
   ]
  },
  {
   "cell_type": "code",
   "execution_count": 123,
   "metadata": {},
   "outputs": [
    {
     "data": {
      "text/plain": [
       "[[[101, 102, 103], [111, 112, 113], [121, 122, 123], [131, 132, 133]],\n",
       " [[201, 202, 203], [211, 212, 213], [221, 222, 223], [231, 232, 233]],\n",
       " [[301, 302, 303], [311, 312, 313], [321, 322, 323], [331, 332, 333]]]"
      ]
     },
     "execution_count": 123,
     "metadata": {},
     "output_type": "execute_result"
    }
   ],
   "source": [
    "[                                               #new stack \n",
    "    [                                                   #new row   \n",
    "        [z*100 + y*10 + x  for x in range(1,4)]           #a list within a row ('inner loop')  \n",
    "              for y in range(4)                           # for statement populates the list elements\n",
    "    ]                                                   #end of new row\n",
    "                  for z in range(1,4)               #for statement to add a new layer layer within the stack\n",
    "]                                               #end of new stack   "
   ]
  },
  {
   "cell_type": "code",
   "execution_count": 124,
   "metadata": {},
   "outputs": [
    {
     "data": {
      "text/plain": [
       "[[[101, 102, 103], [111, 112, 113], [121, 122, 123], [131, 132, 133]],\n",
       " [[201, 202, 203], [211, 212, 213], [221, 222, 223], [231, 232, 233]],\n",
       " [[301, 302, 303], [311, 312, 313], [321, 322, 323], [331, 332, 333]]]"
      ]
     },
     "execution_count": 124,
     "metadata": {},
     "output_type": "execute_result"
    }
   ],
   "source": [
    "# ...as a 'one-liner'\n",
    "#<-----------------------------containg list ('the stack')-------------------------------------->\n",
    "#   <------------------a row------------------------------------------->\n",
    "#          <-------------an inner list----------->\n",
    "[   [      [z*100 + y*10 + x for x in range(1,4) ]     for y in range(4)]  for z in range(1,4)  ]"
   ]
  },
  {
   "cell_type": "markdown",
   "metadata": {},
   "source": [
    "## Other 'Flavors' of Comprehensions"
   ]
  },
  {
   "cell_type": "markdown",
   "metadata": {},
   "source": [
    "Besides the <b>list</b> comprehension Python supports lots of others including comprehensions for <b>set</b> and <b>dict</b> objects, as well as one that creates a generator object.   The good news is that they have about the same syntax.  Here are some examples:"
   ]
  },
  {
   "cell_type": "code",
   "execution_count": 125,
   "metadata": {},
   "outputs": [
    {
     "data": {
      "text/plain": [
       "{0, 1, 4, 9, 16, 25}"
      ]
     },
     "execution_count": 125,
     "metadata": {},
     "output_type": "execute_result"
    }
   ],
   "source": [
    "#Set comprehension - just use opposing {curly braces} instead of [square brackets].  Note that the set object deduplicates.\n",
    "{ value**2 for value in range(-5, 5)}"
   ]
  },
  {
   "cell_type": "code",
   "execution_count": 126,
   "metadata": {},
   "outputs": [
    {
     "data": {
      "text/plain": [
       "{'A': 65, '*': 42, 'x': 120, '|': 124}"
      ]
     },
     "execution_count": 126,
     "metadata": {},
     "output_type": "execute_result"
    }
   ],
   "source": [
    "#Dict comprehension - same as a set comprehension, but with a key:value pairing on the left.\n",
    "{char:ord(char) for char in ['A', '*', 'x', '|']}"
   ]
  },
  {
   "cell_type": "code",
   "execution_count": 127,
   "metadata": {},
   "outputs": [
    {
     "name": "stdout",
     "output_type": "stream",
     "text": [
      "<generator object <genexpr> at 0x00000283916FCFC0>\n",
      "red\n",
      "blue\n",
      "green\n"
     ]
    }
   ],
   "source": [
    "#Generator comprehension - same as a list comprehension, but with (parens) instead of [square brackets].\n",
    "gen = (color for color in ['red', 'blue', 'green'])\n",
    "print (gen)\n",
    "\n",
    "print(next(gen))\n",
    "print(next(gen))\n",
    "print(next(gen))"
   ]
  },
  {
   "cell_type": "markdown",
   "metadata": {},
   "source": [
    "## Further Reading"
   ]
  },
  {
   "cell_type": "markdown",
   "metadata": {},
   "source": [
    "If you're interested in learning more about comprehensions in general, or in exploring their history, application in other languages, etc. Wikipedia has an excellent article here:\n",
    "\n",
    "https://en.wikipedia.org/wiki/List_comprehension#History"
   ]
  }
 ],
 "metadata": {
  "kernelspec": {
   "display_name": "Python 3",
   "language": "python",
   "name": "python3"
  },
  "language_info": {
   "codemirror_mode": {
    "name": "ipython",
    "version": 3
   },
   "file_extension": ".py",
   "mimetype": "text/x-python",
   "name": "python",
   "nbconvert_exporter": "python",
   "pygments_lexer": "ipython3",
   "version": "3.6.5"
  }
 },
 "nbformat": 4,
 "nbformat_minor": 2
}
