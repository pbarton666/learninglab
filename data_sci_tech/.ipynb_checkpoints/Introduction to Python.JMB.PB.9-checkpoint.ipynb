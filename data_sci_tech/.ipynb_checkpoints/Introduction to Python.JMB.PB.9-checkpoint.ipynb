{
 "cells": [
  {
   "cell_type": "markdown",
   "metadata": {},
   "source": [
    " An Introduction To Python\n",
    "========================="
   ]
  },
  {
   "cell_type": "markdown",
   "metadata": {},
   "source": [
    "Welcome!\n",
    "--------\n",
    "\n",
    "This course will take you on a journey through the world of Python 3.0.  Whether you are new to programming or just new to Python, expect to come away with a solid understanding of:\n",
    "\n",
    "-   What the heck is Python and where did it come from?\n",
    "\n",
    "\n",
    "-   Interacting with Python at the command line (Python is really\n",
    "    gregarious!)\n",
    "    \n",
    "\n",
    "-   Working effectively with an interactive debugging environment\n",
    "\n",
    "\n",
    "-   Utilizing professional code distributions and package managers\n",
    "\n",
    "\n",
    "-   Python objects including classes, methods, and collections\n",
    "\n",
    "\n",
    "-   Customizing your Python objects with your own code\n",
    "\n",
    "This might sound like a lot – and it is. But Python really is fun to work with and very forgiving to the beginner. \n",
    "\n",
    "You can’t break Python. \n",
    "\n",
    "It talks to you. In fact, it’s downright loquacious. You can ask it questions and it (usually) provides sensible answers. And when it doesn’t, there are hundreds of thousands of great resources available over the internet. We’ll show you how to access some of these, as well.  So roll up your sleeves and get ready to enjoy the ride!"
   ]
  },
  {
   "cell_type": "markdown",
   "metadata": {},
   "source": [
    "The Python Environment\n",
    "----------------------\n",
    "\n",
    "You should already have Python installed on your machine. If not, no worries. You could go ahead and install a fresh Python distribution and an IDE (integrated development environment).\n",
    "\n",
    "Yes, it’s possible to download, compile, and install Python. If you’re ever interested, downloads are available directly from the official Python web site:\n",
    "\n",
    "https://www.python.org/downloads.\n",
    "\n",
    "This being said, there are distributions such as EnThought and Anaconda which offer integrated package management that allows easy access to extended libraries and their sometimes extensive/tedious dependencies. This is especially valuable when adding complex libraries such as NumPy, which can take hours to get right.\n",
    "\n",
    "For this course, we’ll use the Anaconda distribution. This supports all sorts of data science and visualization packages that we’ll touch on in the advanced course, along with Python virtual environments “right out of the box.” You can install it by browsing to this sight and following\n",
    "the instructions to get the 64-bit version for Python 3. \n",
    "\n",
    "https://www.anaconda.com/download/\n",
    "\n",
    "The “official” IDE for Python is called IDLE. It provides a rudimentary and very light weight debugger and file manager. IDLE works and works well, but for serious work I much prefer a more fully-functional environment such as PyCharm, WingIDE, or VSCode with the Python plug-in. If you’re accustomed to Eclipse, you could use the PyDev plug-in[1]. A light-weight debugger, Spyder, comes packaged with Anaconda. If you want to use Wing, you can download a full-on Professional version (free for 30 days)[2]. You have many options.\n",
    "\n",
    "Python uses environment variables to help it work and play well with the operating system (OS). The most important of these are PATH and PYTHONPATH.\n",
    "\n",
    "PATH contains the directories your OS will search when looking for a particular application. In order for Python to “just work” when you\n",
    "type:\n",
    "\n",
    "**\\$ python \n",
    "\n",
    "You have to include Python’s binary (executable) directory in the PATH variable. That’s where python.exe lives. On a Windows system, you can do that by clicking:  \n",
    "\n",
    "**Start ... Control Panel... System ... Advanced System Settings ...\n",
    "Environment Variables**\n",
    "\n",
    "Then edit PATH by appending the binary directory. You have to be a bit careful. Add a semicolon, no spaces, and the name of the new directory with no trailing slash. Something like:\n",
    "\n",
    "\\<existing path\\>;c:\\\\Path\\\\To\\\\Directory\n",
    "\n",
    "On a Linux system, you can simply add an export to \\~/.bashrc:\n",
    "\n",
    "Export PATH = \\$PATH:/path/to/directory\n",
    "\n",
    "PYTHONPATH works the same way PATH does, but it’s used internally by Python to search for modules (libraries, for instance) that you’ll want to import into your code’s namespace.\n",
    "\n",
    "Once you make the necessary changes to your environment variables, you’ll need to start a new terminal to apply them (or run source \\~/.bashrc in Linux)."
   ]
  },
  {
   "cell_type": "markdown",
   "metadata": {},
   "source": [
    "Some Basics \n",
    "-----------\n",
    "\n",
    "Let’s have a quick look at some Python concepts. We’ll cover all these\n",
    "in more depth later, but we’ll put them on the table early.\n",
    "\n",
    "Python is an amazingly simple language from a syntax perspective.\n",
    "Believe it or not, there are only 33 keywords only a few of which are\n",
    "exotic. Here’s a list[3]:\n",
    "\n",
    "|        |          |         |          |        |\n",
    "|--------|----------|---------|----------|--------|\n",
    "| False  | class    | finally | is       | return |\n",
    "| None   | continue | for     | lambda   | try    |\n",
    "| True   | def      | from    | nonlocal | while  |\n",
    "| and    | del      | global  | not      | with   |\n",
    "| as     | elif     | if      | or       | yield  |\n",
    "| assert | else     | import  | pass     |        |\n",
    "| break  | except   | in      | raise    |        |\n",
    "|<img width=110/>|<img width=110/>|<img width=110/>|<img width=110/>|<img width=110/>|\n",
    "\n",
    "Let’s have a quick look at some Python concepts. We’ll cover all these in more depth later, but we’ll put them on the table early.\n",
    "\n",
    "If you are ever uncertain about whether a variable name you’re considering is a keyword (or otherwise known to the interpreter), you can just type it into a command line. If the interpreter “yells at you”, you can choose another name.\n",
    "\n",
    "A few other things to know:  \n",
    "\n",
    "-   Case matters – Python is case sensitive  \n",
    "\n",
    "\n",
    "-   Indentation matters – Python doesn’t rely on brackets or braces   \n",
    "\n",
    "\n",
    "-   Whitespace typically does not matter  \n",
    "\n",
    "\n",
    "-   Help is just a few keystrokes away – just type “help”  \n",
    "\n",
    "So, what is Python, anyway?\n",
    "\n",
    "-   A **high-level**, **object oriented** (each object has its own\n",
    "    repertoire of nouns and verbs, and they can borrow from and build on\n",
    "    each other) **interpreted** language (“just in time” compilation).\n",
    "    \n",
    "\n",
    "-   You can think of it a giant wrapper around hundreds of thousands of\n",
    "    lines of C and C++ libraries, each providing consistent APIs\n",
    "    (Application Programming Interfaces) so everything has the same look\n",
    "    and feel.\n",
    "    \n",
    "\n",
    "-   Created by **Guido van Rossum**, a great fan of **Monty Python**, in\n",
    "    the late 1990s as a successor to the ABC language, with significant\n",
    "    support from **DARPA**. (That’s Guido holding a beer in the photo\n",
    "    below.)\n",
    "    \n",
    "\n",
    "-   Highly extensible to applications such as GIS (pyqgis), scientific\n",
    "    programming (numpy), visualization (matplotlib), and many other\n",
    "    domains.\n",
    "    \n",
    "\n",
    "-   Python is operating system agnostic, and runs equally well on\n",
    "    Windows, Linux, Raspberry Pi, and Mac systems.\n",
    "    \n",
    "\n",
    "Python has been around since 1994 and has undergone several transformations. Most notably, Python evolved from 2.7 to 3.0 in 2008, implementing Unicode characters and addressing some lingering structural concerns.\n",
    "\n",
    "There are plenty of solid applications written in 2.7 in the world, but most newer developments have shifted to Python 3. You should be aware that there are enough substantive differences between 2.x and 3.x that code written against one version is not wholly compatible with the other.\n",
    "\n",
    "By design Python is simple, clear, and transparent. Philosophical tenants (shown in abbreviated form here) are always available from a Python prompt:\n",
    "\n",
    "\\>\\>\\> import this\n"
   ]
  },
  {
   "cell_type": "markdown",
   "metadata": {
    "ExecuteTime": {
     "end_time": "2021-07-02T19:32:22.949319Z",
     "start_time": "2021-07-02T19:32:22.929753Z"
    }
   },
   "source": [
    "> The Zen of Python, by Tim Peters\n",
    ">\n",
    "- Beautiful is better than ugly.\n",
    "\n",
    "- Explicit is better than implicit.\n",
    "\n",
    "- Simple is better than complex.\n",
    "\n",
    "- Complex is better than complicated.\n",
    "\n",
    "- Flat is better than nested.\n",
    "\n",
    "- Sparse is better than dense.\n",
    "\n",
    "- Readability counts.\n",
    "\n",
    "- Special cases aren't special enough to break the rules.\n",
    "\n",
    "- Although practicality beats purity.\n",
    "\n",
    "- Errors should never pass silently.\n",
    "\n",
    "- Unless explicitly silenced.\n",
    "\n",
    "- In the face of ambiguity, refuse the temptation to guess.\n",
    "\n",
    "- There should be one-- and preferably only one --obvious way to do it.\n",
    "\n",
    "- Although that way may not be obvious at first unless you're Dutch.\n",
    "\n",
    "- Now is better than never.\n",
    "\n",
    "- Although never is often better than \\*right\\* now.\n",
    "\n",
    "- If the implementation is hard to explain, it's a bad idea.\n",
    "\n",
    "- If the implementation is easy to explain, it may be a good idea.\n",
    "\n",
    "- Namespaces are one honking great idea -- let's do more of those!.\n",
    "\n",
    "OK. Let’s get started and have some fun!"
   ]
  },
  {
   "cell_type": "markdown",
   "metadata": {},
   "source": [
    "Basic Python Syntax\n",
    "===================\n",
    "\n",
    "Hello, Python\n",
    "-------------\n",
    "\n",
    "As you know, there’s an unwritten Cosmic Law stating all computer courses have to start with a “Hello World” application. Since we don’t want the Cosmic Police kicking the door down, let’s start with that.  Besides, it’s a great introduction to Python’s command line operations.\n",
    "\n",
    "To invoke the interpreter, type this from the command line (except the “\\$”):\n",
    "\n",
    "\\$ python3\n",
    "\n",
    "Python 3.9.0 (default, Oct 14 2020, 11:33:57) [GCC 4.8.4\\] on linux\n",
    "\n",
    "Type \"help\", \"copyright\", \"credits\" or \"license\" for more information.\n",
    "\n",
    "\\>\\>\\>\n",
    "\n",
    "\n",
    "So what’s this? The first few lines let you know what “flavor” of Python you’re using, and how it was compiled. This can be important because you may well have several versions installed on the same machine. More on that later.\n",
    "\n",
    "The last line is the interpreter’s prompt (\\>\\>\\> )  to let you know you’re talking to Python. So let’s say “hello.”"
   ]
  },
  {
   "cell_type": "code",
   "execution_count": null,
   "metadata": {
    "ExecuteTime": {
     "end_time": "2021-07-02T20:10:42.971369Z",
     "start_time": "2021-07-02T20:10:42.953015Z"
    }
   },
   "outputs": [],
   "source": [
    "print(\"hello\")"
   ]
  },
  {
   "cell_type": "markdown",
   "metadata": {},
   "source": [
    "In this command, we utilize one of Python’s top-level methods, the **print function,** and one of Python’s top-level objects, the string, known internally as a **str**. Note that the arguments to the function are enclosed in parentheses, and that the contents of the string are enclosed in quotes.\n",
    "\n",
    "Strings are ubiquitous, so it’s good to know a few ways to compose them.  \n",
    "\n",
    "## Comments and Escape Characters\n",
    "\n",
    "Here are some examples. These are annotated using the **\\#** character – that’s how you can make single line comments. Anything to the right of the \\# will not compile, so you can embed your comments in-line."
   ]
  },
  {
   "cell_type": "code",
   "execution_count": null,
   "metadata": {},
   "outputs": [],
   "source": [
    "# You can use double quotes – useful with apostrophes.\n",
    "print(\"Hello, Guido's cool project.\")\n",
    "\n",
    "# You can also “escape” the apostrophe with a \"\\\".\n",
    "print('Hello, Guido\\'s cool project.')"
   ]
  },
  {
   "cell_type": "markdown",
   "metadata": {},
   "source": [
    "Let’s try a few more strings. This time, we’ll assign them to names so wrangling them will be easier. \n",
    "\n",
    "\n",
    "## Namespaces and String Variants\n",
    "So what are names? These are just tags you can associate with values. “Values” are simply the bits of information stored in the computer’s memory."
   ]
  },
  {
   "cell_type": "code",
   "execution_count": null,
   "metadata": {},
   "outputs": [],
   "source": [
    "#single quotes work just fine\n",
    "team = 'Cubs'\n",
    "\n",
    "#you can also use triple double quotes\n",
    "year = \"\"\"2018\"\"\"\n",
    "\n",
    "#... or triple single quotes\n",
    "outcome = '''win'''\n",
    "\n",
    "#these can be provided to print as arguments, separated by commas.\n",
    "print(team, year, outcome)"
   ]
  },
  {
   "cell_type": "markdown",
   "metadata": {},
   "source": [
    "## Automatic Concantenation\n",
    "You can provide a series of strings together and Python will automatically concatenate them (run them together):"
   ]
  },
  {
   "cell_type": "code",
   "execution_count": null,
   "metadata": {},
   "outputs": [],
   "source": [
    "\"and\" \"a\" \"one\" \"and\" \"a\" \"two\""
   ]
  },
  {
   "cell_type": "markdown",
   "metadata": {
    "solution": "hidden"
   },
   "source": [
    "## Line Continuation\n",
    "If you ever want a multi-line string, you can use either of the triple quote styles."
   ]
  },
  {
   "cell_type": "code",
   "execution_count": null,
   "metadata": {},
   "outputs": [],
   "source": [
    "chant = \"\"\" \\\n",
    "            Cubs\n",
    "             2018\n",
    "             win\"\"\"\n",
    "print(chant)"
   ]
  },
  {
   "cell_type": "markdown",
   "metadata": {},
   "source": [
    "If you study the above example carefully, you’ll notice a couple features. The interpreter will automatically allow a command to be broken up into several lines if there’s an unclosed control symbol. Since we had not yet included the terminating triple quote, it patiently waited. This feature also works for parentheses, braces, etc.\n",
    "\n",
    "Here is another example:"
   ]
  },
  {
   "cell_type": "code",
   "execution_count": null,
   "metadata": {},
   "outputs": [],
   "source": [
    "# we’ll introduce the list object soon\n",
    "a_list = [99,\n",
    "          33,\n",
    "          40\n",
    "          ]\n",
    "a_list"
   ]
  },
  {
   "cell_type": "markdown",
   "metadata": {},
   "source": [
    "You now know how to communicate with Python’s command line. You can execute functions, create objects, provide commands, and receive output.  \n",
    "\n",
    "Now, it’s time to roll your sleeves up."
   ]
  },
  {
   "cell_type": "markdown",
   "metadata": {},
   "source": [
    "## Exercise:\n",
    "Please write your own version of a “hello world”, working at the terminal. Practice using all four of the string composition methods, and with both single and multiple line versions.  Document your code for posterity."
   ]
  },
  {
   "cell_type": "markdown",
   "metadata": {
    "solution": "hidden"
   },
   "source": [
    "# What’s Your Number?\n",
    "-------------------\n",
    "\n",
    "Do you remember when I said that Python is loquacious? I was not kidding. You can have an interactive conversation with the interpreter in which it will tell you about itself and all the objects it knows about. The best part is that you can ask it for help and get reliable information to guide your programming efforts.\n",
    "\n",
    "No course can teach you everything you need to know, not even this one.  Knowing how to efficiently get the help you need is perhaps the most important skill you can acquire. So the information in this chapter is the most critical bit of the course.\n",
    "\n",
    "The interpreter can tell you about itself. Sometimes you have to access built-in libraries by importing them into your local **namespace**. A namespace is all the names (“tags”), associated with the **values** stored in memory, your program has access to. By importing more names, we have access to more values and objects."
   ]
  },
  {
   "cell_type": "markdown",
   "metadata": {},
   "source": [
    "## Which Python\n",
    "\n",
    "Here, we’re asking the interpreter what version of Python we’re using, which release, and what operating system it finds itself operating within.\n",
    "\n",
    "Let’s have a conversation!"
   ]
  },
  {
   "cell_type": "code",
   "execution_count": null,
   "metadata": {},
   "outputs": [],
   "source": [
    "import sys  # tools for working with the Python environment\n",
    "sys.version"
   ]
  },
  {
   "cell_type": "code",
   "execution_count": null,
   "metadata": {},
   "outputs": [],
   "source": [
    "sys.version_info"
   ]
  },
  {
   "cell_type": "code",
   "execution_count": null,
   "metadata": {},
   "outputs": [],
   "source": [
    "import os  # tools for working with the OS\n",
    "os.name"
   ]
  },
  {
   "cell_type": "markdown",
   "metadata": {},
   "source": [
    "## Chatting up an Object\n",
    "\n",
    "Now, this gets even better. Let’s say we have an object. \n",
    "\n",
    "*“One is the loneliest number that there ever was ...”*, or so the song goes. \n",
    "\n",
    "Maybe we can address the issue by engaging with 1.  Or maybe we can’t, but let’s try.  To start with we’ll give it the name “one”, pull up a chair, then chat it up."
   ]
  },
  {
   "cell_type": "code",
   "execution_count": null,
   "metadata": {},
   "outputs": [],
   "source": [
    "one = 1  # hey, can I call you ‘one’?"
   ]
  },
  {
   "cell_type": "code",
   "execution_count": null,
   "metadata": {},
   "outputs": [],
   "source": [
    "one  # tell me a little about yourself"
   ]
  },
  {
   "cell_type": "code",
   "execution_count": null,
   "metadata": {},
   "outputs": [],
   "source": [
    "id(one)  # where do you live?"
   ]
  },
  {
   "cell_type": "code",
   "execution_count": null,
   "metadata": {},
   "outputs": [],
   "source": [
    "type(one)  # I like your type. What is it, anyway?"
   ]
  },
  {
   "cell_type": "code",
   "execution_count": null,
   "metadata": {},
   "outputs": [],
   "source": [
    "isinstance(one, int)  # Um. Right, then an integer?"
   ]
  },
  {
   "cell_type": "markdown",
   "metadata": {},
   "source": [
    "Let’s step through this preliminary conversation. \n",
    "\n",
    "After we assigned it a name, we then called it by name and it responded. It happened to respond with its value, but not all objects do that. The response is built into the object as its **\\_\\_repr\\_\\_** method, which is executed when you type the name. When you make your own classes later on, you’ll be able to make it say something like “I’m 1, and I’m a Leo”, or anything else you like. The **int** object simply replies with a parsimonious string representation of itself.\n",
    "\n",
    "The next bit, invoking the top level function **id** provides a unique descriptor of the object. Under the hood, it’s just the location in memory where the object resides (that’s how it’s guaranteed to be unique – no two objects can occupy the same space at the same time).\n",
    "\n",
    "We’re pretty sure what type of object one is, but we can ask to be sure using the **type** method. In this case, we learn that it’s an **int** object (not an “integer”). In fact, **int** is the name of a built-in function and already reserved by Python. We can use it with the **isinstance** method to verify its type. This can become important – for instance, we might want to check whether an object is a number before attempting to do math with it.\n",
    "\n",
    "One of the really useful aspects of Python is that objects come to us already endowed with properties and already knowing how to do type-appropriate tricks. More properly these are called **attributes** and **methods** (“nouns” and “verbs”). "
   ]
  },
  {
   "cell_type": "markdown",
   "metadata": {},
   "source": [
    "## Methods Can Be Built Into Objects\n",
    "\n",
    "We can discover some of the methods built into the **int** objects empirically, just by interacting with it.  So let’s experiment:"
   ]
  },
  {
   "cell_type": "code",
   "execution_count": null,
   "metadata": {},
   "outputs": [],
   "source": [
    "one + one  # can you add?"
   ]
  },
  {
   "cell_type": "code",
   "execution_count": null,
   "metadata": {},
   "outputs": [],
   "source": [
    "one / one  # divide?"
   ]
  },
  {
   "cell_type": "code",
   "execution_count": null,
   "metadata": {},
   "outputs": [],
   "source": [
    "one * one  # OK then, can you multiply?"
   ]
  },
  {
   "cell_type": "code",
   "execution_count": null,
   "metadata": {},
   "outputs": [],
   "source": [
    "one ** one  # do powers?"
   ]
  },
  {
   "cell_type": "code",
   "execution_count": null,
   "metadata": {},
   "outputs": [],
   "source": [
    "one % one  # how about modulo operations?"
   ]
  },
  {
   "cell_type": "markdown",
   "metadata": {},
   "source": [
    "This is pretty much as expected, since we’re already familiar with integers. But we’ll frequently encounter objects that we’re not familiar with, or need to know how they handle various operators. Sometimes things aren’t as expected. For instance, what happens if we do a “multiplication” or “addition” operation on a string?"
   ]
  },
  {
   "cell_type": "markdown",
   "metadata": {},
   "source": [
    "##  Implementation of Methods Varies\n",
    "\n",
    "Sometimes things aren’t as expected. For instance, what happens if we do a “multiplication” or “addition” operation on a string?"
   ]
  },
  {
   "cell_type": "code",
   "execution_count": null,
   "metadata": {},
   "outputs": [],
   "source": [
    " \"go\" + \"cubs\""
   ]
  },
  {
   "cell_type": "code",
   "execution_count": null,
   "metadata": {},
   "outputs": [],
   "source": [
    "\"cubs\" * 10"
   ]
  },
  {
   "cell_type": "markdown",
   "metadata": {},
   "source": [
    "Getting Help\n",
    "------------\n",
    "\n",
    "Though it’s interesting and really informative to experiment, you’ll typically be too busy to indulge. In these cases, the most straightforward way to engage is to ask for help. This is easy enough to accomplish as you can see below. "
   ]
  },
  {
   "cell_type": "code",
   "execution_count": null,
   "metadata": {},
   "outputs": [],
   "source": [
    "help(one)"
   ]
  },
  {
   "cell_type": "markdown",
   "metadata": {},
   "source": [
    "Another way to get information quickly is to use the built-in **dir** method on the object. The output is a little harder to interpret, especially when you’re looking at it for the first time, but you can get a fairly compact look at the contents of the object’s **namespace**.  Let’s check it out, and I’ll explain some of the bits and pieces below."
   ]
  },
  {
   "cell_type": "code",
   "execution_count": null,
   "metadata": {},
   "outputs": [],
   "source": [
    "dir(one)"
   ]
  },
  {
   "cell_type": "markdown",
   "metadata": {},
   "source": [
    "The strange looking names that are surrounded by the “\\_\\_” characters (which some call “dunder”, for “double underscore”) are mostly methods that implement logic to make operational characters like “+” or “\\<.” In general, any name beginning with one or more “\\_” characters is intended for the object’s internal usage. You can access these, of course, but you’ve been warned.\n",
    "\n",
    "The plain-text names are designed for “public consumption.” You can learn more about them by slogging through the verbose help, asking for help on a more narrow topic, or just by typing them in at the command line, something like:"
   ]
  },
  {
   "cell_type": "code",
   "execution_count": null,
   "metadata": {},
   "outputs": [],
   "source": [
    "one.denominator"
   ]
  },
  {
   "cell_type": "code",
   "execution_count": null,
   "metadata": {},
   "outputs": [],
   "source": [
    "one.real"
   ]
  },
  {
   "cell_type": "code",
   "execution_count": null,
   "metadata": {},
   "outputs": [],
   "source": [
    "one.from_bytes"
   ]
  },
  {
   "cell_type": "code",
   "execution_count": null,
   "metadata": {},
   "outputs": [],
   "source": [
    "help(one.from_bytes)"
   ]
  },
  {
   "cell_type": "markdown",
   "metadata": {},
   "source": [
    "You’ll recall that when you simply type the name of an object into the command line, you’re asking it to describe itself by invoking its **\\_\\_repr\\_\\_** method. This is one of Python’s so-called “magic methods” which are baked into the object with specific names that are meaningful to the interpreter. As another example, the **\\_\\_str\\_\\_** method is invoked when you use the object as an argument to the **print** method.\n",
    "\n",
    "Here’s a list of some of the other “magic methods”, along with their meanings. From the **dir** listing, we can see that most of these are baked into the **int** object. We’ll actually be writing our own versions of some these later in the course, but for now, here’s an overview of the math operations."
   ]
  },
  {
   "cell_type": "markdown",
   "metadata": {},
   "source": [
    "| Human                   | Operator    | Method                |\n",
    "|-------------------------|-------------|-----------------------|\n",
    "| addition                | x + y       | x.\\_\\_add\\_\\_(y)      |\n",
    "| bitwise and             | x & y       | x.\\_\\_and\\_\\_(y)      |\n",
    "| bitwise or              | x \\| y      | x.\\_\\_or\\_\\_(y)       |\n",
    "| bitwise xor             | x ^ y       | x.\\_\\_xor\\_\\_(y)      |\n",
    "| division                | x / y       | x.\\_\\_truediv\\_\\_(y)  |\n",
    "| floor division          | x // y      | x.\\_\\_floordiv\\_\\_(y) |\n",
    "| floor division & modulo | divmod(x,y) | x.\\_\\_divmod\\_\\_(y)   |\n",
    "| left bit-shift          | x \\<\\< y    | x.\\_\\_lshift\\_\\_(y)   |\n",
    "| modulo (remainder)      | x % y       | x.\\_\\_mod\\_\\_(y)      |\n",
    "| multiplication          | x \\* y      | x.\\_\\_mul\\_\\_(y)      |\n",
    "| raise to power          | x \\*\\* y    | x.\\_\\_pow\\_\\_(y)      |\n",
    "| right bit-shift         | x \\>\\> y    | x.\\_\\_rshift\\_\\_(y)   |\n",
    "| subtraction             | x - y       | x.\\_\\_sub\\_\\_(y)      |\n",
    "|<img width=210/>         |<img width=210/>    |<img width=210/>|"
   ]
  },
  {
   "cell_type": "markdown",
   "metadata": {},
   "source": [
    "You’ll note that the **help** method is not within the namespace of the objects. That’s because **help** is a top-level method. It works by ransacking the object for what are called its **docstrings** – these are provided by the programmer. They survive compilation so are carried with the object itself, and can be whatever the programmer wants them to be.  By contrast, comments do not survive compilation and exist mostly as developer-to-developer notes.\n",
    "\n",
    "**Docstrings** are simply the first executable line(s) of code in an object, assuming a couple of things: the line(s) of code is a **str** object, and the **str** object is not associated with a name. A quick example should serve to clarify."
   ]
  },
  {
   "cell_type": "code",
   "execution_count": 77,
   "metadata": {},
   "outputs": [
    {
     "name": "stdout",
     "output_type": "stream",
     "text": [
      "Help on function my_first_function in module __main__:\n",
      "\n",
      "my_first_function()\n",
      "    the most simple function on Earth\n",
      "\n"
     ]
    }
   ],
   "source": [
    "def my_first_function():\n",
    "    \"the most simple function on Earth\"\n",
    "\n",
    "help(my_first_function)"
   ]
  },
  {
   "cell_type": "markdown",
   "metadata": {},
   "source": [
    "Here, the built-in **help** method simply picked off the docstring and served it up as content within its delivery system (which is just like **man** to deliver manual pages in a Posix system).\n",
    "\n",
    "Had this function been a method within a containing object like a class, the help system would provide all available docstrings in the containing object. That’s what happened when we used **help**(**one**) – we got all the docstrings for the methods and attributes within the **int** class.\n",
    "\n",
    "While the built-in functionality typically serves well, sometimes it’s necessary to go outside your code or use libraries that support introspection of your objects[4]. Python has exceptionally well-written official documentation that’s available at:\n",
    "\n",
    "<http://python.org/3>\n",
    "\n",
    "One word of caution – at the top-left of the Python docs web page, you’ll see a small scroll-down menu with a number in it. \n",
    "\n",
    "The number is the version of Python addressed by the main page’s contents. It’s quite easy to follow a link from a StackOverflow posting (say) that vectors into the wrong version. Among versions of Python3 it usually won’t matter, but there are significant differences between 2.x and 3.x and you could waste a lot of time trying to get the wrong material to work.\n"
   ]
  },
  {
   "cell_type": "markdown",
   "metadata": {},
   "source": [
    "Numbers and More Numbers\n",
    "------------------------\n",
    "\n",
    "There are only two other numeric types within the core Python language, the **float** and **complex** types. There are some exotic types in external libraries such as decimal, such as **Fraction** (for real numbers) and **Decimal** (for arbitrary levels of precision)[5].\n",
    "\n",
    "The **float** type is pretty much what you would expect – it’s anything with a decimal point. Here’s an example:"
   ]
  },
  {
   "cell_type": "code",
   "execution_count": 78,
   "metadata": {},
   "outputs": [
    {
     "data": {
      "text/plain": [
       "float"
      ]
     },
     "execution_count": 78,
     "metadata": {},
     "output_type": "execute_result"
    }
   ],
   "source": [
    "root_beer = 1.0\n",
    "type(root_beer)"
   ]
  },
  {
   "cell_type": "markdown",
   "metadata": {},
   "source": [
    "Unless you’re an electrical engineer or a glutton for punishment, you probably have little to do with “complex numbers.” They’re not all that complex, but require two components. The first is “real” – an ordinary number that stands on its own feet – and the second is “imaginary” – a number that’s multiplied by the square root of -1. Yes, that’s where it gets weird, but it’s beyond the scope of this class. Here’s one way to specify a **complex** object:"
   ]
  },
  {
   "cell_type": "code",
   "execution_count": 79,
   "metadata": {},
   "outputs": [
    {
     "data": {
      "text/plain": [
       "complex"
      ]
     },
     "execution_count": 79,
     "metadata": {},
     "output_type": "execute_result"
    }
   ],
   "source": [
    "weirdness = (3 + 5j)   #Note that 'j' signifies the imaginary component - not 'i'\n",
    "type(weirdness)"
   ]
  },
  {
   "cell_type": "markdown",
   "metadata": {},
   "source": [
    " Accuracy and Garbage\n",
    "--------------------\n",
    "\n",
    "Integers can be represented accurately in a computer because they are nicely discrete. Later versions of Python implement integers in such a way as they can be arbitrarily long, and don’t have to be explicitly specified as such.\n",
    "\n",
    "Floating point numbers are only so accurate (the default level of precision is 28 places). This can become an issue with numbers that never end, like 1/3, or numbers which are really large. Just for fun, you can try adding .1 + .1 + .1 to see what happens.\n",
    "\n",
    "A final point: floating point number can contain some “garbage bits” in the 1/1000000 decimal place and beyond, even if you’ve specified it as simply as 1.0 – something to be aware of when doing tests of equality"
   ]
  },
  {
   "cell_type": "markdown",
   "metadata": {},
   "source": [
    " Numeric Types as Methods\n",
    "------------------------\n",
    "\n",
    "We have seen numeric types like **int** and **float** used to describe objects, but they can also be used to convert data types (“type casting”) by invoking them as constructor methods. Here’s how you can convert an **int** to a **float**"
   ]
  },
  {
   "cell_type": "code",
   "execution_count": null,
   "metadata": {},
   "outputs": [],
   "source": [
    "one = 1\n",
    "one_float = float(one)\n",
    "type(one_float)"
   ]
  },
  {
   "cell_type": "code",
   "execution_count": null,
   "metadata": {},
   "outputs": [],
   "source": [
    "and_back = int(one_float)\n",
    "type(and_back)"
   ]
  },
  {
   "cell_type": "code",
   "execution_count": null,
   "metadata": {},
   "outputs": [],
   "source": [
    "one = 1\n",
    "one_float = float(one)\n",
    "type(one_float)"
   ]
  },
  {
   "cell_type": "code",
   "execution_count": null,
   "metadata": {},
   "outputs": [],
   "source": [
    "and_back = int(one_float)\n",
    "type(and_back)"
   ]
  },
  {
   "cell_type": "markdown",
   "metadata": {},
   "source": [
    "Python will even try to convert strings to numeric types. If it can’t, you’ll get a **ValueError** exception."
   ]
  },
  {
   "cell_type": "code",
   "execution_count": null,
   "metadata": {},
   "outputs": [],
   "source": [
    "one_string = (\"1\")\n",
    "one_string_float = float(one_string)\n",
    "one_string_float"
   ]
  },
  {
   "cell_type": "code",
   "execution_count": null,
   "metadata": {},
   "outputs": [],
   "source": [
    "type(one_string_float)"
   ]
  },
  {
   "cell_type": "markdown",
   "metadata": {},
   "source": [
    "You can also directly specify variables invoking the constructor with appropriate arguments. Python will do its level best to whistle up the right object for you. Here are some examples:"
   ]
  },
  {
   "cell_type": "code",
   "execution_count": null,
   "metadata": {},
   "outputs": [],
   "source": [
    "print(complex(1, 2), complex(1))\n",
    "\n",
    "print(float(1), int('333'))\n",
    "\n",
    "print(int(1.3),  str(123))"
   ]
  },
  {
   "cell_type": "markdown",
   "metadata": {},
   "source": [
    "Getting User Input\n",
    "------------------\n",
    "\n",
    "Python has built-in method for getting information from the user using the standard input stream (think “keyboard” for now). You probably won’t be building applications using direct user input very often, but it’s handy to know how to use. The syntax is straightforward:"
   ]
  },
  {
   "cell_type": "code",
   "execution_count": null,
   "metadata": {},
   "outputs": [],
   "source": [
    "answer = input(\"Hey, Pat, how’s it going? \")"
   ]
  },
  {
   "cell_type": "code",
   "execution_count": null,
   "metadata": {},
   "outputs": [],
   "source": [
    "print(answer)"
   ]
  },
  {
   "cell_type": "code",
   "execution_count": null,
   "metadata": {},
   "outputs": [],
   "source": []
  },
  {
   "cell_type": "code",
   "execution_count": null,
   "metadata": {},
   "outputs": [],
   "source": []
  }
 ],
 "metadata": {
  "kernelspec": {
   "display_name": "Python 3",
   "language": "python",
   "name": "python3"
  },
  "language_info": {
   "codemirror_mode": {
    "name": "ipython",
    "version": 3
   },
   "file_extension": ".py",
   "mimetype": "text/x-python",
   "name": "python",
   "nbconvert_exporter": "python",
   "pygments_lexer": "ipython3",
   "version": "3.9.0"
  },
  "latex_envs": {
   "LaTeX_envs_menu_present": true,
   "autoclose": false,
   "autocomplete": true,
   "bibliofile": "biblio.bib",
   "cite_by": "apalike",
   "current_citInitial": 1,
   "eqLabelWithNumbers": true,
   "eqNumInitial": 1,
   "hotkeys": {
    "equation": "Ctrl-E",
    "itemize": "Ctrl-I"
   },
   "labels_anchors": false,
   "latex_user_defs": false,
   "report_style_numbering": false,
   "user_envs_cfg": false
  },
  "toc": {
   "base_numbering": 1,
   "nav_menu": {},
   "number_sections": true,
   "sideBar": true,
   "skip_h1_title": false,
   "title_cell": "Table of Contents",
   "title_sidebar": "Contents",
   "toc_cell": false,
   "toc_position": {},
   "toc_section_display": true,
   "toc_window_display": true
  },
  "varInspector": {
   "cols": {
    "lenName": 16,
    "lenType": 16,
    "lenVar": 40
   },
   "kernels_config": {
    "python": {
     "delete_cmd_postfix": "",
     "delete_cmd_prefix": "del ",
     "library": "var_list.py",
     "varRefreshCmd": "print(var_dic_list())"
    },
    "r": {
     "delete_cmd_postfix": ") ",
     "delete_cmd_prefix": "rm(",
     "library": "var_list.r",
     "varRefreshCmd": "cat(var_dic_list()) "
    }
   },
   "types_to_exclude": [
    "module",
    "function",
    "builtin_function_or_method",
    "instance",
    "_Feature"
   ],
   "window_display": true
  }
 },
 "nbformat": 4,
 "nbformat_minor": 5
}
