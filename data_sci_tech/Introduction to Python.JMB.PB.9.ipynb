{
 "cells": [
  {
   "cell_type": "markdown",
   "metadata": {},
   "source": [
    " An Introduction To Python\n",
    "========================="
   ]
  },
  {
   "cell_type": "markdown",
   "metadata": {},
   "source": [
    "Welcome!\n",
    "--------\n",
    "\n",
    "This course will take you on a journey through the world of Python 3.0.  Whether you are new to programming or just new to Python, expect to come away with a solid understanding of:\n",
    "\n",
    "-   What the heck is Python and where did it come from?\n",
    "\n",
    "\n",
    "-   Interacting with Python at the command line (Python is really\n",
    "    gregarious!)\n",
    "    \n",
    "\n",
    "-   Working effectively with an interactive debugging environment\n",
    "\n",
    "\n",
    "-   Utilizing professional code distributions and package managers\n",
    "\n",
    "\n",
    "-   Python objects including classes, methods, and collections\n",
    "\n",
    "\n",
    "-   Customizing your Python objects with your own code\n",
    "\n",
    "This might sound like a lot – and it is. But Python really is fun to work with and very forgiving to the beginner. \n",
    "\n",
    "You can’t break Python. \n",
    "\n",
    "It talks to you. In fact, it’s downright loquacious. You can ask it questions and it (usually) provides sensible answers. And when it doesn’t, there are hundreds of thousands of great resources available over the internet. We’ll show you how to access some of these, as well.  So roll up your sleeves and get ready to enjoy the ride!"
   ]
  },
  {
   "cell_type": "markdown",
   "metadata": {},
   "source": [
    "The Python Environment\n",
    "----------------------\n",
    "\n",
    "You should already have Python installed on your machine. If not, no worries. You could go ahead and install a fresh Python distribution and an IDE (integrated development environment).\n",
    "\n",
    "Yes, it’s possible to download, compile, and install Python. If you’re ever interested, downloads are available directly from the official Python web site:\n",
    "\n",
    "https://www.python.org/downloads.\n",
    "\n",
    "This being said, there are distributions such as EnThought and Anaconda which offer integrated package management that allows easy access to extended libraries and their sometimes extensive/tedious dependencies. This is especially valuable when adding complex libraries such as NumPy, which can take hours to get right.\n",
    "\n",
    "For this course, we’ll use the Anaconda distribution. This supports all sorts of data science and visualization packages that we’ll touch on in the advanced course, along with Python virtual environments “right out of the box.” You can install it by browsing to this sight and following\n",
    "the instructions to get the 64-bit version for Python 3. \n",
    "\n",
    "https://www.anaconda.com/download/\n",
    "\n",
    "The “official” IDE for Python is called IDLE. It provides a rudimentary and very light weight debugger and file manager. IDLE works and works well, but for serious work I much prefer a more fully-functional environment such as PyCharm, WingIDE, or VSCode with the Python plug-in. If you’re accustomed to Eclipse, you could use the PyDev plug-in[1]. A light-weight debugger, Spyder, comes packaged with Anaconda. If you want to use Wing, you can download a full-on Professional version (free for 30 days)[2]. You have many options.\n",
    "\n",
    "Python uses environment variables to help it work and play well with the operating system (OS). The most important of these are PATH and PYTHONPATH.\n",
    "\n",
    "PATH contains the directories your OS will search when looking for a particular application. In order for Python to “just work” when you\n",
    "type:\n",
    "\n",
    "**\\$ python \n",
    "\n",
    "You have to include Python’s binary (executable) directory in the PATH variable. That’s where python.exe lives. On a Windows system, you can do that by clicking:  \n",
    "\n",
    "**Start ... Control Panel... System ... Advanced System Settings ...\n",
    "Environment Variables**\n",
    "\n",
    "Then edit PATH by appending the binary directory. You have to be a bit careful. Add a semicolon, no spaces, and the name of the new directory with no trailing slash. Something like:\n",
    "\n",
    "\\<existing path\\>;c:\\\\Path\\\\To\\\\Directory\n",
    "\n",
    "On a Linux system, you can simply add an export to \\~/.bashrc:\n",
    "\n",
    "Export PATH = \\$PATH:/path/to/directory\n",
    "\n",
    "PYTHONPATH works the same way PATH does, but it’s used internally by Python to search for modules (libraries, for instance) that you’ll want to import into your code’s namespace.\n",
    "\n",
    "Once you make the necessary changes to your environment variables, you’ll need to start a new terminal to apply them (or run source \\~/.bashrc in Linux)."
   ]
  },
  {
   "cell_type": "markdown",
   "metadata": {},
   "source": [
    "Some Basics \n",
    "-----------\n",
    "\n",
    "Let’s have a quick look at some Python concepts. We’ll cover all these\n",
    "in more depth later, but we’ll put them on the table early.\n",
    "\n",
    "Python is an amazingly simple language from a syntax perspective.\n",
    "Believe it or not, there are only 33 keywords only a few of which are\n",
    "exotic. Here’s a list[3]:\n",
    "\n",
    "|        |          |         |          |        |\n",
    "|--------|----------|---------|----------|--------|\n",
    "| False  | class    | finally | is       | return |\n",
    "| None   | continue | for     | lambda   | try    |\n",
    "| True   | def      | from    | nonlocal | while  |\n",
    "| and    | del      | global  | not      | with   |\n",
    "| as     | elif     | if      | or       | yield  |\n",
    "| assert | else     | import  | pass     |        |\n",
    "| break  | except   | in      | raise    |        |\n",
    "|<img width=110/>|<img width=110/>|<img width=110/>|<img width=110/>|<img width=110/>|\n",
    "\n",
    "Let’s have a quick look at some Python concepts. We’ll cover all these in more depth later, but we’ll put them on the table early.\n",
    "\n",
    "If you are ever uncertain about whether a variable name you’re considering is a keyword (or otherwise known to the interpreter), you can just type it into a command line. If the interpreter “yells at you”, you can choose another name.\n",
    "\n",
    "A few other things to know:  \n",
    "\n",
    "-   Case matters – Python is case sensitive  \n",
    "\n",
    "\n",
    "-   Indentation matters – Python doesn’t rely on brackets or braces   \n",
    "\n",
    "\n",
    "-   Whitespace typically does not matter  \n",
    "\n",
    "\n",
    "-   Help is just a few keystrokes away – just type “help”  \n",
    "\n",
    "So, what is Python, anyway?\n",
    "\n",
    "-   A **high-level**, **object oriented** (each object has its own\n",
    "    repertoire of nouns and verbs, and they can borrow from and build on\n",
    "    each other) **interpreted** language (“just in time” compilation).\n",
    "    \n",
    "\n",
    "-   You can think of it a giant wrapper around hundreds of thousands of\n",
    "    lines of C and C++ libraries, each providing consistent APIs\n",
    "    (Application Programming Interfaces) so everything has the same look\n",
    "    and feel.\n",
    "    \n",
    "\n",
    "-   Created by **Guido van Rossum**, a great fan of **Monty Python**, in\n",
    "    the late 1990s as a successor to the ABC language, with significant\n",
    "    support from **DARPA**. (That’s Guido holding a beer in the photo\n",
    "    below.)\n",
    "    \n",
    "\n",
    "-   Highly extensible to applications such as GIS (pyqgis), scientific\n",
    "    programming (numpy), visualization (matplotlib), and many other\n",
    "    domains.\n",
    "    \n",
    "\n",
    "-   Python is operating system agnostic, and runs equally well on\n",
    "    Windows, Linux, Raspberry Pi, and Mac systems.\n",
    "    \n",
    "\n",
    "Python has been around since 1994 and has undergone several transformations. Most notably, Python evolved from 2.7 to 3.0 in 2008, implementing Unicode characters and addressing some lingering structural concerns.\n",
    "\n",
    "There are plenty of solid applications written in 2.7 in the world, but most newer developments have shifted to Python 3. You should be aware that there are enough substantive differences between 2.x and 3.x that code written against one version is not wholly compatible with the other.\n",
    "\n",
    "By design Python is simple, clear, and transparent. Philosophical tenants (shown in abbreviated form here) are always available from a Python prompt:\n",
    "\n",
    "\\>\\>\\> import this\n"
   ]
  },
  {
   "cell_type": "markdown",
   "metadata": {
    "ExecuteTime": {
     "end_time": "2021-07-02T19:32:22.949319Z",
     "start_time": "2021-07-02T19:32:22.929753Z"
    }
   },
   "source": [
    "> The Zen of Python, by Tim Peters\n",
    ">\n",
    "- Beautiful is better than ugly.\n",
    "\n",
    "- Explicit is better than implicit.\n",
    "\n",
    "- Simple is better than complex.\n",
    "\n",
    "- Complex is better than complicated.\n",
    "\n",
    "- Flat is better than nested.\n",
    "\n",
    "- Sparse is better than dense.\n",
    "\n",
    "- Readability counts.\n",
    "\n",
    "- Special cases aren't special enough to break the rules.\n",
    "\n",
    "- Although practicality beats purity.\n",
    "\n",
    "- Errors should never pass silently.\n",
    "\n",
    "- Unless explicitly silenced.\n",
    "\n",
    "- In the face of ambiguity, refuse the temptation to guess.\n",
    "\n",
    "- There should be one-- and preferably only one --obvious way to do it.\n",
    "\n",
    "- Although that way may not be obvious at first unless you're Dutch.\n",
    "\n",
    "- Now is better than never.\n",
    "\n",
    "- Although never is often better than \\*right\\* now.\n",
    "\n",
    "- If the implementation is hard to explain, it's a bad idea.\n",
    "\n",
    "- If the implementation is easy to explain, it may be a good idea.\n",
    "\n",
    "- Namespaces are one honking great idea -- let's do more of those!.\n",
    "\n",
    "OK. Let’s get started and have some fun!"
   ]
  },
  {
   "cell_type": "markdown",
   "metadata": {},
   "source": [
    "Basic Python Syntax\n",
    "===================\n",
    "\n",
    "Hello, Python\n",
    "-------------\n",
    "\n",
    "As you know, there’s an unwritten Cosmic Law stating all computer courses have to start with a “Hello World” application. Since we don’t want the Cosmic Police kicking the door down, let’s start with that.  Besides, it’s a great introduction to Python’s command line operations.\n",
    "\n",
    "To invoke the interpreter, type this from the command line (except the “\\$”):\n",
    "\n",
    "\\$ python3\n",
    "\n",
    "Python 3.9.0 (default, Oct 14 2020, 11:33:57) [GCC 4.8.4\\] on linux\n",
    "\n",
    "Type \"help\", \"copyright\", \"credits\" or \"license\" for more information.\n",
    "\n",
    "\\>\\>\\>\n",
    "\n",
    "\n",
    "So what’s this? The first few lines let you know what “flavor” of Python you’re using, and how it was compiled. This can be important because you may well have several versions installed on the same machine. More on that later.\n",
    "\n",
    "The last line is the interpreter’s prompt (\\>\\>\\> )  to let you know you’re talking to Python. So let’s say “hello.”"
   ]
  },
  {
   "cell_type": "code",
   "execution_count": 1,
   "metadata": {
    "ExecuteTime": {
     "end_time": "2021-07-02T20:10:42.971369Z",
     "start_time": "2021-07-02T20:10:42.953015Z"
    }
   },
   "outputs": [],
   "source": [
    "print(\"hello\")"
   ]
  },
  {
   "cell_type": "markdown",
   "metadata": {},
   "source": [
    "In this command, we utilize one of Python’s top-level methods, the **print function,** and one of Python’s top-level objects, the string, known internally as a **str**. Note that the arguments to the function are enclosed in parentheses, and that the contents of the string are enclosed in quotes.\n",
    "\n",
    "Strings are ubiquitous, so it’s good to know a few ways to compose them.  \n",
    "\n",
    "## Comments and Escape Characters\n",
    "\n",
    "Here are some examples. These are annotated using the **\\#** character – that’s how you can make single line comments. Anything to the right of the \\# will not compile, so you can embed your comments in-line."
   ]
  },
  {
   "cell_type": "code",
   "execution_count": 2,
   "metadata": {},
   "outputs": [],
   "source": [
    "# You can use double quotes – useful with apostrophes.\n",
    "print(\"Hello, Guido's cool project.\")\n",
    "\n",
    "# You can also “escape” the apostrophe with a \"\\\".\n",
    "print('Hello, Guido\\'s cool project.')"
   ]
  },
  {
   "cell_type": "markdown",
   "metadata": {},
   "source": [
    "Let’s try a few more strings. This time, we’ll assign them to names so wrangling them will be easier. \n",
    "\n",
    "\n",
    "## Namespaces and String Variants\n",
    "So what are names? These are just tags you can associate with values. “Values” are simply the bits of information stored in the computer’s memory."
   ]
  },
  {
   "cell_type": "code",
   "execution_count": 3,
   "metadata": {},
   "outputs": [],
   "source": [
    "#single quotes work just fine\n",
    "team = 'Cubs'\n",
    "\n",
    "#you can also use triple double quotes\n",
    "year = \"\"\"2018\"\"\"\n",
    "\n",
    "#... or triple single quotes\n",
    "outcome = '''win'''\n",
    "\n",
    "#these can be provided to print as arguments, separated by commas.\n",
    "print(team, year, outcome)"
   ]
  },
  {
   "cell_type": "markdown",
   "metadata": {},
   "source": [
    "## Automatic Concantenation\n",
    "You can provide a series of strings together and Python will automatically concatenate them (run them together):"
   ]
  },
  {
   "cell_type": "code",
   "execution_count": 4,
   "metadata": {},
   "outputs": [],
   "source": [
    "\"and\" \"a\" \"one\" \"and\" \"a\" \"two\""
   ]
  },
  {
   "cell_type": "markdown",
   "metadata": {
    "solution": "hidden"
   },
   "source": [
    "## Line Continuation\n",
    "If you ever want a multi-line string, you can use either of the triple quote styles."
   ]
  },
  {
   "cell_type": "code",
   "execution_count": 5,
   "metadata": {},
   "outputs": [],
   "source": [
    "chant = \"\"\" \\\n",
    "            Cubs\n",
    "             2018\n",
    "             win\"\"\"\n",
    "print(chant)"
   ]
  },
  {
   "cell_type": "markdown",
   "metadata": {},
   "source": [
    "If you study the above example carefully, you’ll notice a couple features. The interpreter will automatically allow a command to be broken up into several lines if there’s an unclosed control symbol. Since we had not yet included the terminating triple quote, it patiently waited. This feature also works for parentheses, braces, etc.\n",
    "\n",
    "Here is another example:"
   ]
  },
  {
   "cell_type": "code",
   "execution_count": 6,
   "metadata": {},
   "outputs": [],
   "source": [
    "# we’ll introduce the list object soon\n",
    "a_list = [99,\n",
    "          33,\n",
    "          40\n",
    "          ]\n",
    "a_list"
   ]
  },
  {
   "cell_type": "markdown",
   "metadata": {},
   "source": [
    "You now know how to communicate with Python’s command line. You can execute functions, create objects, provide commands, and receive output.  \n",
    "\n",
    "Now, it’s time to roll your sleeves up."
   ]
  },
  {
   "cell_type": "markdown",
   "metadata": {},
   "source": [
    "## Exercise:\n",
    "Please write your own version of a “hello world”, working at the terminal. Practice using all four of the string composition methods, and with both single and multiple line versions.  Document your code for posterity."
   ]
  },
  {
   "cell_type": "markdown",
   "metadata": {
    "solution": "hidden"
   },
   "source": [
    "# What’s Your Number?\n",
    "-------------------\n",
    "\n",
    "Do you remember when I said that Python is loquacious? I was not kidding. You can have an interactive conversation with the interpreter in which it will tell you about itself and all the objects it knows about. The best part is that you can ask it for help and get reliable information to guide your programming efforts.\n",
    "\n",
    "No course can teach you everything you need to know, not even this one.  Knowing how to efficiently get the help you need is perhaps the most important skill you can acquire. So the information in this chapter is the most critical bit of the course.\n",
    "\n",
    "The interpreter can tell you about itself. Sometimes you have to access built-in libraries by importing them into your local **namespace**. A namespace is all the names (“tags”), associated with the **values** stored in memory, your program has access to. By importing more names, we have access to more values and objects."
   ]
  },
  {
   "cell_type": "markdown",
   "metadata": {},
   "source": [
    "## Which Python\n",
    "\n",
    "Here, we’re asking the interpreter what version of Python we’re using, which release, and what operating system it finds itself operating within.\n",
    "\n",
    "Let’s have a conversation!"
   ]
  },
  {
   "cell_type": "code",
   "execution_count": 7,
   "metadata": {},
   "outputs": [],
   "source": [
    "import sys  # tools for working with the Python environment\n",
    "sys.version"
   ]
  },
  {
   "cell_type": "code",
   "execution_count": 8,
   "metadata": {},
   "outputs": [],
   "source": [
    "sys.version_info"
   ]
  },
  {
   "cell_type": "code",
   "execution_count": 9,
   "metadata": {},
   "outputs": [],
   "source": [
    "import os  # tools for working with the OS\n",
    "os.name"
   ]
  },
  {
   "cell_type": "markdown",
   "metadata": {},
   "source": [
    "## Chatting up an Object\n",
    "\n",
    "Now, this gets even better. Let’s say we have an object. \n",
    "\n",
    "*“One is the loneliest number that there ever was ...”*, or so the song goes. \n",
    "\n",
    "Maybe we can address the issue by engaging with 1.  Or maybe we can’t, but let’s try.  To start with we’ll give it the name “one”, pull up a chair, then chat it up."
   ]
  },
  {
   "cell_type": "code",
   "execution_count": 10,
   "metadata": {},
   "outputs": [],
   "source": [
    "one = 1  # hey, can I call you ‘one’?"
   ]
  },
  {
   "cell_type": "code",
   "execution_count": 11,
   "metadata": {},
   "outputs": [],
   "source": [
    "one  # tell me a little about yourself"
   ]
  },
  {
   "cell_type": "code",
   "execution_count": 12,
   "metadata": {},
   "outputs": [],
   "source": [
    "id(one)  # where do you live?"
   ]
  },
  {
   "cell_type": "code",
   "execution_count": 13,
   "metadata": {},
   "outputs": [],
   "source": [
    "type(one)  # I like your type. What is it, anyway?"
   ]
  },
  {
   "cell_type": "code",
   "execution_count": 14,
   "metadata": {},
   "outputs": [],
   "source": [
    "isinstance(one, int)  # Um. Right, then an integer?"
   ]
  },
  {
   "cell_type": "markdown",
   "metadata": {},
   "source": [
    "Let’s step through this preliminary conversation. \n",
    "\n",
    "After we assigned it a name, we then called it by name and it responded. It happened to respond with its value, but not all objects do that. The response is built into the object as its **\\_\\_repr\\_\\_** method, which is executed when you type the name. When you make your own classes later on, you’ll be able to make it say something like “I’m 1, and I’m a Leo”, or anything else you like. The **int** object simply replies with a parsimonious string representation of itself.\n",
    "\n",
    "The next bit, invoking the top level function **id** provides a unique descriptor of the object. Under the hood, it’s just the location in memory where the object resides (that’s how it’s guaranteed to be unique – no two objects can occupy the same space at the same time).\n",
    "\n",
    "We’re pretty sure what type of object one is, but we can ask to be sure using the **type** method. In this case, we learn that it’s an **int** object (not an “integer”). In fact, **int** is the name of a built-in function and already reserved by Python. We can use it with the **isinstance** method to verify its type. This can become important – for instance, we might want to check whether an object is a number before attempting to do math with it.\n",
    "\n",
    "One of the really useful aspects of Python is that objects come to us already endowed with properties and already knowing how to do type-appropriate tricks. More properly these are called **attributes** and **methods** (“nouns” and “verbs”). "
   ]
  },
  {
   "cell_type": "markdown",
   "metadata": {},
   "source": [
    "## Methods Can Be Built Into Objects\n",
    "\n",
    "We can discover some of the methods built into the **int** objects empirically, just by interacting with it.  So let’s experiment:"
   ]
  },
  {
   "cell_type": "code",
   "execution_count": 15,
   "metadata": {},
   "outputs": [],
   "source": [
    "one + one  # can you add?"
   ]
  },
  {
   "cell_type": "code",
   "execution_count": 16,
   "metadata": {},
   "outputs": [],
   "source": [
    "one / one  # divide?"
   ]
  },
  {
   "cell_type": "code",
   "execution_count": 17,
   "metadata": {},
   "outputs": [],
   "source": [
    "one * one  # OK then, can you multiply?"
   ]
  },
  {
   "cell_type": "code",
   "execution_count": 18,
   "metadata": {},
   "outputs": [],
   "source": [
    "one ** one  # do powers?"
   ]
  },
  {
   "cell_type": "code",
   "execution_count": 19,
   "metadata": {},
   "outputs": [],
   "source": [
    "one % one  # how about modulo operations?"
   ]
  },
  {
   "cell_type": "markdown",
   "metadata": {},
   "source": [
    "This is pretty much as expected, since we’re already familiar with integers. But we’ll frequently encounter objects that we’re not familiar with, or need to know how they handle various operators. Sometimes things aren’t as expected. For instance, what happens if we do a “multiplication” or “addition” operation on a string?"
   ]
  },
  {
   "cell_type": "markdown",
   "metadata": {},
   "source": [
    "##  Implementation of Operators Varies\n",
    "\n",
    "Sometimes things aren’t as expected. For instance, what happens if we do a “multiplication” or “addition” operation on a string?"
   ]
  },
  {
   "cell_type": "code",
   "execution_count": 20,
   "metadata": {},
   "outputs": [],
   "source": [
    " \"go\" + \"cubs\""
   ]
  },
  {
   "cell_type": "code",
   "execution_count": 21,
   "metadata": {},
   "outputs": [],
   "source": [
    "\"cubs\" * 10"
   ]
  },
  {
   "cell_type": "markdown",
   "metadata": {},
   "source": [
    "Getting Help\n",
    "------------\n",
    "\n",
    "Though it’s interesting and really informative to experiment, you’ll typically be too busy to indulge. In these cases, the most straightforward way to engage is to ask for help. This is easy enough to accomplish as you can see below. "
   ]
  },
  {
   "cell_type": "code",
   "execution_count": 22,
   "metadata": {},
   "outputs": [],
   "source": [
    "help(one)"
   ]
  },
  {
   "cell_type": "markdown",
   "metadata": {},
   "source": [
    "Another way to get information quickly is to use the built-in **dir** method on the object. The output is a little harder to interpret, especially when you’re looking at it for the first time, but you can get a fairly compact look at the contents of the object’s **namespace**.  Let’s check it out, and I’ll explain some of the bits and pieces below."
   ]
  },
  {
   "cell_type": "code",
   "execution_count": 23,
   "metadata": {},
   "outputs": [],
   "source": [
    "dir(one)"
   ]
  },
  {
   "cell_type": "markdown",
   "metadata": {},
   "source": [
    "The strange looking names that are surrounded by the “\\_\\_” characters (which some call “dunder”, for “double underscore”) are mostly methods that implement logic to make operational characters like “+” or “\\<.” In general, any name beginning with one or more “\\_” characters is intended for the object’s internal usage. You can access these, of course, but you’ve been warned.\n",
    "\n",
    "The plain-text names are designed for “public consumption.” You can learn more about them by slogging through the verbose help, asking for help on a more narrow topic, or just by typing them in at the command line, something like:"
   ]
  },
  {
   "cell_type": "code",
   "execution_count": 24,
   "metadata": {},
   "outputs": [],
   "source": [
    "one.denominator"
   ]
  },
  {
   "cell_type": "code",
   "execution_count": 25,
   "metadata": {},
   "outputs": [
    {
     "data": {
      "text/plain": [
       "1"
      ]
     },
     "execution_count": 25,
     "metadata": {},
     "output_type": "execute_result"
    }
   ],
   "source": [
    "one.real"
   ]
  },
  {
   "cell_type": "code",
   "execution_count": 26,
   "metadata": {},
   "outputs": [
    {
     "data": {
      "text/plain": [
       "<function int.from_bytes(bytes, byteorder, *, signed=False)>"
      ]
     },
     "execution_count": 26,
     "metadata": {},
     "output_type": "execute_result"
    }
   ],
   "source": [
    "one.from_bytes"
   ]
  },
  {
   "cell_type": "code",
   "execution_count": 27,
   "metadata": {},
   "outputs": [
    {
     "name": "stdout",
     "output_type": "stream",
     "text": [
      "Help on built-in function from_bytes:\n",
      "\n",
      "from_bytes(bytes, byteorder, *, signed=False) method of builtins.type instance\n",
      "    Return the integer represented by the given array of bytes.\n",
      "    \n",
      "    bytes\n",
      "      Holds the array of bytes to convert.  The argument must either\n",
      "      support the buffer protocol or be an iterable object producing bytes.\n",
      "      Bytes and bytearray are examples of built-in objects that support the\n",
      "      buffer protocol.\n",
      "    byteorder\n",
      "      The byte order used to represent the integer.  If byteorder is 'big',\n",
      "      the most significant byte is at the beginning of the byte array.  If\n",
      "      byteorder is 'little', the most significant byte is at the end of the\n",
      "      byte array.  To request the native byte order of the host system, use\n",
      "      `sys.byteorder' as the byte order value.\n",
      "    signed\n",
      "      Indicates whether two's complement is used to represent the integer.\n",
      "\n"
     ]
    }
   ],
   "source": [
    "help(one.from_bytes)"
   ]
  },
  {
   "cell_type": "markdown",
   "metadata": {},
   "source": [
    "You’ll recall that when you simply type the name of an object into the command line, you’re asking it to describe itself by invoking its **\\_\\_repr\\_\\_** method. This is one of Python’s so-called “magic methods” which are baked into the object with specific names that are meaningful to the interpreter. As another example, the **\\_\\_str\\_\\_** method is invoked when you use the object as an argument to the **print** method.\n",
    "\n",
    "Here’s a list of some of the other “magic methods”, along with their meanings. From the **dir** listing, we can see that most of these are baked into the **int** object. We’ll actually be writing our own versions of some these later in the course, but for now, here’s an overview of the math operations."
   ]
  },
  {
   "cell_type": "markdown",
   "metadata": {},
   "source": [
    "| Human                   | Operator    | Method                |\n",
    "|-------------------------|-------------|-----------------------|\n",
    "| addition                | x + y       | x.\\_\\_add\\_\\_(y)      |\n",
    "| bitwise and             | x & y       | x.\\_\\_and\\_\\_(y)      |\n",
    "| bitwise or              | x \\| y      | x.\\_\\_or\\_\\_(y)       |\n",
    "| bitwise xor             | x ^ y       | x.\\_\\_xor\\_\\_(y)      |\n",
    "| division                | x / y       | x.\\_\\_truediv\\_\\_(y)  |\n",
    "| floor division          | x // y      | x.\\_\\_floordiv\\_\\_(y) |\n",
    "| floor division & modulo | divmod(x,y) | x.\\_\\_divmod\\_\\_(y)   |\n",
    "| left bit-shift          | x \\<\\< y    | x.\\_\\_lshift\\_\\_(y)   |\n",
    "| modulo (remainder)      | x % y       | x.\\_\\_mod\\_\\_(y)      |\n",
    "| multiplication          | x \\* y      | x.\\_\\_mul\\_\\_(y)      |\n",
    "| raise to power          | x \\*\\* y    | x.\\_\\_pow\\_\\_(y)      |\n",
    "| right bit-shift         | x \\>\\> y    | x.\\_\\_rshift\\_\\_(y)   |\n",
    "| subtraction             | x - y       | x.\\_\\_sub\\_\\_(y)      |\n",
    "|<img width=210/>         |<img width=210/>    |<img width=210/>|"
   ]
  },
  {
   "cell_type": "markdown",
   "metadata": {},
   "source": [
    "You’ll note that the **help** method is not within the namespace of the objects. That’s because **help** is a top-level method. It works by ransacking the object for what are called its **docstrings** – these are provided by the programmer. They survive compilation so are carried with the object itself, and can be whatever the programmer wants them to be.  By contrast, comments do not survive compilation and exist mostly as developer-to-developer notes.\n",
    "\n",
    "**Docstrings** are simply the first executable line(s) of code in an object, assuming a couple of things: the line(s) of code is a **str** object, and the **str** object is not associated with a name. A quick example should serve to clarify."
   ]
  },
  {
   "cell_type": "code",
   "execution_count": 28,
   "metadata": {},
   "outputs": [
    {
     "name": "stdout",
     "output_type": "stream",
     "text": [
      "Help on function my_first_function in module __main__:\n",
      "\n",
      "my_first_function()\n",
      "    the most simple function on Earth\n",
      "\n"
     ]
    }
   ],
   "source": [
    "def my_first_function():\n",
    "    \"the most simple function on Earth\"\n",
    "\n",
    "help(my_first_function)"
   ]
  },
  {
   "cell_type": "markdown",
   "metadata": {},
   "source": [
    "Here, the built-in **help** method simply picked off the docstring and served it up as content within its delivery system (which is just like **man** to deliver manual pages in a Posix system).\n",
    "\n",
    "Had this function been a method within a containing object like a class, the help system would provide all available docstrings in the containing object. That’s what happened when we used **help**(**one**) – we got all the docstrings for the methods and attributes within the **int** class.\n",
    "\n",
    "While the built-in functionality typically serves well, sometimes it’s necessary to go outside your code or use libraries that support introspection of your objects[4]. Python has exceptionally well-written official documentation that’s available at:\n",
    "\n",
    "<http://python.org/3>\n",
    "\n",
    "One word of caution – at the top-left of the Python docs web page, you’ll see a small scroll-down menu with a number in it. \n",
    "\n",
    "The number is the version of Python addressed by the main page’s contents. It’s quite easy to follow a link from a StackOverflow posting (say) that vectors into the wrong version. Among versions of Python3 it usually won’t matter, but there are significant differences between 2.x and 3.x and you could waste a lot of time trying to get the wrong material to work.\n"
   ]
  },
  {
   "cell_type": "markdown",
   "metadata": {},
   "source": [
    "Numbers and More Numbers\n",
    "------------------------\n",
    "\n",
    "There are only two other numeric types within the core Python language, the **float** and **complex** types. There are some exotic types in external libraries such as decimal, such as **Fraction** (for real numbers) and **Decimal** (for arbitrary levels of precision)[5].\n",
    "\n",
    "The **float** type is pretty much what you would expect – it’s anything with a decimal point. Here’s an example:"
   ]
  },
  {
   "cell_type": "code",
   "execution_count": 29,
   "metadata": {},
   "outputs": [
    {
     "data": {
      "text/plain": [
       "float"
      ]
     },
     "execution_count": 29,
     "metadata": {},
     "output_type": "execute_result"
    }
   ],
   "source": [
    "root_beer = 1.0\n",
    "type(root_beer)"
   ]
  },
  {
   "cell_type": "markdown",
   "metadata": {},
   "source": [
    "Unless you’re an electrical engineer or a glutton for punishment, you probably have little to do with “complex numbers.” They’re not all that complex, but require two components. The first is “real” – an ordinary number that stands on its own feet – and the second is “imaginary” – a number that’s multiplied by the square root of -1. Yes, that’s where it gets weird, but it’s beyond the scope of this class. Here’s one way to specify a **complex** object:"
   ]
  },
  {
   "cell_type": "code",
   "execution_count": 69,
   "metadata": {},
   "outputs": [
    {
     "data": {
      "text/plain": [
       "complex"
      ]
     },
     "execution_count": 69,
     "metadata": {},
     "output_type": "execute_result"
    }
   ],
   "source": [
    "complexity = (3 + 5j)   #Note that 'j' signifies the imaginary component - not 'i'\n",
    "type(complexity)"
   ]
  },
  {
   "cell_type": "markdown",
   "metadata": {},
   "source": [
    " Accuracy and Garbage\n",
    "--------------------\n",
    "\n",
    "Integers can be represented accurately in a computer because they are nicely discrete. Later versions of Python implement integers in such a way as they can be arbitrarily long, and don’t have to be explicitly specified as such.\n",
    "\n",
    "Floating point numbers are only so accurate (the default level of precision is 28 places). This can become an issue with numbers that never end, like 1/3, or numbers which are really large. Just for fun, you can try adding .1 + .1 + .1 to see what happens.\n",
    "\n",
    "A final point: floating point number can contain some “garbage bits” in the 1/1000000 decimal place and beyond, even if you’ve specified it as simply as 1.0 – something to be aware of when doing tests of equality."
   ]
  },
  {
   "cell_type": "markdown",
   "metadata": {},
   "source": [
    " Numeric Types as Methods\n",
    "------------------------\n",
    "\n",
    "We have seen numeric types like **int** and **float** used to describe objects, but they can also be used to convert data types (“type casting”) by invoking them as constructor methods. Here’s how you can convert an **int** to a **float**"
   ]
  },
  {
   "cell_type": "code",
   "execution_count": 31,
   "metadata": {},
   "outputs": [
    {
     "data": {
      "text/plain": [
       "float"
      ]
     },
     "execution_count": 31,
     "metadata": {},
     "output_type": "execute_result"
    }
   ],
   "source": [
    "one = 1\n",
    "one_float = float(one)\n",
    "type(one_float)"
   ]
  },
  {
   "cell_type": "code",
   "execution_count": 32,
   "metadata": {},
   "outputs": [
    {
     "data": {
      "text/plain": [
       "int"
      ]
     },
     "execution_count": 32,
     "metadata": {},
     "output_type": "execute_result"
    }
   ],
   "source": [
    "and_back = int(one_float)\n",
    "type(and_back)"
   ]
  },
  {
   "cell_type": "code",
   "execution_count": 33,
   "metadata": {},
   "outputs": [
    {
     "data": {
      "text/plain": [
       "float"
      ]
     },
     "execution_count": 33,
     "metadata": {},
     "output_type": "execute_result"
    }
   ],
   "source": [
    "one = 1\n",
    "one_float = float(one)\n",
    "type(one_float)"
   ]
  },
  {
   "cell_type": "code",
   "execution_count": 34,
   "metadata": {},
   "outputs": [
    {
     "data": {
      "text/plain": [
       "int"
      ]
     },
     "execution_count": 34,
     "metadata": {},
     "output_type": "execute_result"
    }
   ],
   "source": [
    "and_back = int(one_float)\n",
    "type(and_back)"
   ]
  },
  {
   "cell_type": "markdown",
   "metadata": {},
   "source": [
    "Python will even try to convert strings to numeric types. If it can’t, you’ll get a **ValueError** exception."
   ]
  },
  {
   "cell_type": "code",
   "execution_count": 35,
   "metadata": {},
   "outputs": [
    {
     "data": {
      "text/plain": [
       "1.0"
      ]
     },
     "execution_count": 35,
     "metadata": {},
     "output_type": "execute_result"
    }
   ],
   "source": [
    "one_string = (\"1\")\n",
    "one_string_float = float(one_string)\n",
    "one_string_float"
   ]
  },
  {
   "cell_type": "code",
   "execution_count": 36,
   "metadata": {},
   "outputs": [
    {
     "data": {
      "text/plain": [
       "float"
      ]
     },
     "execution_count": 36,
     "metadata": {},
     "output_type": "execute_result"
    }
   ],
   "source": [
    "type(one_string_float)"
   ]
  },
  {
   "cell_type": "markdown",
   "metadata": {},
   "source": [
    "You can also directly specify variables invoking the constructor with appropriate arguments. Python will do its level best to whistle up the right object for you. Here are some examples:"
   ]
  },
  {
   "cell_type": "code",
   "execution_count": 37,
   "metadata": {},
   "outputs": [
    {
     "name": "stdout",
     "output_type": "stream",
     "text": [
      "(1+2j) (1+0j)\n",
      "1.0 333\n",
      "1 123\n"
     ]
    }
   ],
   "source": [
    "print(complex(1, 2), complex(1))\n",
    "\n",
    "print(float(1), int('333'))\n",
    "\n",
    "print(int(1.3),  str(123))"
   ]
  },
  {
   "cell_type": "markdown",
   "metadata": {},
   "source": [
    "Getting User Input\n",
    "------------------\n",
    "\n",
    "Python has built-in method for getting information from the user using the standard input stream (think “keyboard” for now). You probably won’t be building applications using direct user input very often, but it’s handy to know how to use. The syntax is straightforward:"
   ]
  },
  {
   "cell_type": "code",
   "execution_count": 44,
   "metadata": {},
   "outputs": [
    {
     "name": "stdout",
     "output_type": "stream",
     "text": [
      "Hey, Pat, how’s it going?    \n",
      " \n"
     ]
    }
   ],
   "source": [
    "# NB Python will hang until you hit 'Enter' !  This will drive you insane if you forget.\n",
    "\n",
    "answer = input(\"Hey, Pat, how’s it going?   \")\n",
    "print(answer)"
   ]
  },
  {
   "cell_type": "markdown",
   "metadata": {},
   "source": [
    "The response will always be returned as a string, no matter what, as you can see from this terminal session:\n",
    "\n",
    "\\>\\>\\> my_input = input(\"Can I pleeese have a one? \")\n",
    "Can I pleeese have a one? 1\n",
    "\n",
    "\\>\\>\\> my_input\n",
    "\n",
    "'1'\n",
    "\n",
    "\\>\\>\\> type(my_input)\n",
    "\n",
    "class ‘str’\n",
    "\n",
    "If you need an integer, you’ll have to use the **int** constructor to type-cast it.\n",
    "\n"
   ]
  },
  {
   "cell_type": "markdown",
   "metadata": {},
   "source": [
    "## Exercise:\n",
    "\n",
    "You now have the wisdom of the ages at your disposal – a good bit of it, anyway. Let’s see if you can put some of this to good use.\n",
    "\n",
    "- If it takes three buckets of water to put out a campfire (two just won’t do it), how many campfires can you extinguish with 50 buckets? Solve the problem using the modulo operator.  You might use help() or experiment if you don't know how to use it.\n",
    "\n",
    "\n",
    "- Create a program that tests how “*”, ‘/’, “+” and “-“ are implemented for string, float, and complex numbers. Use a docstring to document it and make sure it works when calling help on it. Include some comments as a kindness to yourself and your teammates.\n",
    "\n",
    "\n",
    "- Create a program that asks the user for their name, sign, and favorite beverage, then asks them to confirm that information."
   ]
  },
  {
   "cell_type": "markdown",
   "metadata": {},
   "source": [
    "You now have the wisdom of the ages at your disposal – a good bit of it, anyway. Let’s see if you can put some of this to good use."
   ]
  },
  {
   "cell_type": "markdown",
   "metadata": {},
   "source": [
    "# “String Theory” \n",
    "---------------\n",
    "\n",
    "Now that you know how to create strings, let’s explore what how we can manipulate and interact with them.\n",
    "\n",
    "The first thing you should know that strings are **sequences**. We’ll discuss more complicated sequences later, but for now you should know you can iterate over them quite easily[6]. \n",
    "\n",
    "Check this out:"
   ]
  },
  {
   "cell_type": "code",
   "execution_count": 46,
   "metadata": {},
   "outputs": [
    {
     "name": "stdout",
     "output_type": "stream",
     "text": [
      "H\n",
      "e\n",
      "y\n",
      "!\n"
     ]
    }
   ],
   "source": [
    "some_string = \"Hey!\"\n",
    "for s in some_string:\n",
    "    print(s)"
   ]
  },
  {
   "cell_type": "raw",
   "metadata": {},
   "source": [
    "Here, we used the **for** statement to loop through each element of the string. The **for** statement is really simple to implement. The syntax is:\n",
    "\n",
    "for <the name of the index> in <some iterable>:\n",
    "     <an indented suite>[7]"
   ]
  },
  {
   "cell_type": "markdown",
   "metadata": {},
   "source": [
    "String Methods\n",
    "--------------\n",
    "\n",
    "There’s a rich inventory of methods baked into the **str** object that makes text processing really easy[8]. As with any Python object, we can get a quick look using **dir**.\n",
    "\n",
    "\n",
    "\n",
    "\n",
    "\\>\\>\\> dir(str)\n",
    "\n",
    "[snip, ‘capitalize’, ‘casefold’, ‘center’, ‘count’, ‘encode’, ‘endswith’, ‘expandtabs’, ‘find’, ‘format’, ‘format_map’, ‘index’, ‘isalnum’, ‘isalpha’, ‘isdecimal’, ‘isdigit’, ‘isidentifier’, ‘islower’, ‘isnumeric’, ‘isprintable’, ‘isspace’, ‘istitle’, ‘isupper’, ‘join’, ‘ljust’, ‘lower’, ‘lstrip’, ‘maketrans’, ‘partition’, ‘replace’, ‘rfind’, ‘rindex’, ‘rjust’, ‘rpartition’, ‘rsplit’, ‘rstrip’, ‘split’, ‘splitlines’, ‘startswith’, ‘strip’, ‘swapcase’, ‘title’, ‘translate’, ‘upper’, ‘zfill’]\n",
    "\n",
    "\n",
    "\n",
    "\n",
    "Most of these are self-explanatory, but we’ll discuss a few of the most commonly-encountered ones and how to use them here. You can test a string – or a bit of one – to see what type of characters are in it.  \n",
    "\n",
    "Note that in Python there is no “character” object *per se* – a single character is simply a really short string. We could apply these operations to the intact some\\_string object just as easily.\n",
    "\n",
    "Also note that when we execute a method, we need the parentheses even if we’re not supplying any arguments[9]. \n",
    "\n",
    "The following script demonstrates some of the string methods and introduces the use of \"{ }\". This is one way to create placeholders for arguments supplied to the **format** method. We’ll cover formatting in more detail later."
   ]
  },
  {
   "cell_type": "code",
   "execution_count": 56,
   "metadata": {},
   "outputs": [
    {
     "name": "stdout",
     "output_type": "stream",
     "text": [
      "$ is alphanumeric? False\n",
      "$ is alpha? False\n",
      "$ is numeric? False.\n",
      "$ is upper? False.\n",
      "R is alphanumeric? True\n",
      "R is alpha? True\n",
      "R is numeric? False.\n",
      "R is upper? True.\n",
      "5 is alphanumeric? True\n",
      "5 is alpha? False\n",
      "5 is numeric? True.\n",
      "5 is upper? False.\n",
      "a is alphanumeric? True\n",
      "a is alpha? True\n",
      "a is numeric? False.\n",
      "a is upper? False.\n",
      "  is alphanumeric? False\n",
      "  is alpha? False\n",
      "  is numeric? False.\n",
      "  is upper? False.\n"
     ]
    }
   ],
   "source": [
    "some_string = \"$R5a \"\n",
    "for s in some_string:\n",
    "    print(\"{} is alphanumeric? {}\".format(s, s.isalnum()))\n",
    "    print(\"{} is alpha? {}\".format(s, s.isalpha()))\n",
    "    print(\"{} is numeric? {}.\".format(s, s.isnumeric()))\n",
    "    print(\"{} is upper? {}.\".format(s, s.isupper()))"
   ]
  },
  {
   "cell_type": "markdown",
   "metadata": {},
   "source": [
    "There are lots of methods to query for, and change the case of, a string. Note that the queries return a Boolean (**True** or **False**) object."
   ]
  },
  {
   "cell_type": "code",
   "execution_count": 57,
   "metadata": {},
   "outputs": [
    {
     "name": "stdout",
     "output_type": "stream",
     "text": [
      "my team ends with an ‘s’? True\n",
      "my team starts with an ‘s’? False\n",
      "in caps THE CHICAGO CUBS .\n",
      "swapped-case tHE cHICAGO cUBS .\n"
     ]
    }
   ],
   "source": [
    "my_team = \"The Chicago Cubs\"\n",
    "\n",
    "print(\"my team ends with an ‘s’? {}\".format(my_team.endswith(\"s\")))\n",
    "print(\"my team starts with an ‘s’? {}\".format(my_team.startswith(\"s\")))\n",
    "print(\"in caps {} .\".format(my_team.upper()))\n",
    "print(\"swapped-case {} .\".format(my_team.swapcase()))"
   ]
  },
  {
   "cell_type": "markdown",
   "metadata": {},
   "source": [
    "Breaking up and Getting Together Again\n",
    "--------------------------------------\n",
    "\n",
    "There are also methods to split up strings (returning a **list**[10] object) and to create a string by stitching together the elements of an **iterable**[11] object. In the example below, we can supply the **split** method a single argument – the string we’ll use to determine where to break the main string up[12]. Providing a single space (or calling it with no arguments) splits up the words into individual **list** elements.\n",
    "\n",
    "The reciprocal operation is **join**. With **join** we provide a string to insert between each element pulled from the list to reform the string. Though this example uses a **list**, this method works for any iterable object (such as a **tuple**[13] or even another string)."
   ]
  },
  {
   "cell_type": "code",
   "execution_count": 60,
   "metadata": {},
   "outputs": [
    {
     "name": "stdout",
     "output_type": "stream",
     "text": [
      "splits: ['The', 'Chicago', 'Cubs']\n",
      "\n",
      "together again: The!!!Chicago!!!Cubs.!!!\n"
     ]
    }
   ],
   "source": [
    "my_team = \"The Chicago Cubs\"\n",
    "split_team = my_team.split(\" \")\n",
    "print(\"splits: {}\".format(split_team))\n",
    "print()\n",
    "\n",
    "join_string = \"!!!\"\n",
    "together_again = join_string.join(split_team)\n",
    "print(\"together again: {}.\"\n",
    "    .format(together_again), end=join_string + \"\\n\")"
   ]
  },
  {
   "cell_type": "markdown",
   "metadata": {},
   "source": [
    "Literals and Escape Sequences\n",
    "-----------------------------\n",
    "\n",
    "Sometimes, you need to insert a specific character into a string that you can’t type directly. There are a couple ways to handle this.  The first is using “escape sequences.\" We’ve already seen that “\\\\n\"\n",
    "\n",
    "produces a new line character, but there are many more. The idea here is that inclusion of a backslash “\\\\\" tells the interpreter to do something special with (“escape\") the character that follows instead of taking it literally. Others include:\n",
    "\n",
    "> \\\\t tab\n",
    ">\n",
    "> \\\\r carriage return\n",
    ">\n",
    "> \\\\’ prints a single quote\n",
    ">\n",
    "> \\\\\" prints a double quote\n",
    ">\n",
    "> \\\\\\\\ if you really want a backslash\n",
    "\n",
    "Another way to handle this is to figure out what the character code is.  You can do that easily enough for the first 128 (ASCII) characters by printing them out with the **chr** method[14], finding your character, then using the same method in your code . You could go something like:"
   ]
  },
  {
   "cell_type": "code",
   "execution_count": 68,
   "metadata": {},
   "outputs": [
    {
     "name": "stdout",
     "output_type": "stream",
     "text": [
      "33 !\n",
      "34 \"\n",
      "35 #\n",
      "I’m a double quote: \"\n"
     ]
    }
   ],
   "source": [
    "for i in range(33, 36): #yes, I’m cheating I know it’s 34\n",
    "    print (i, chr(i))\n",
    "    \n",
    "QUOTE = chr(34)\n",
    "print(\"I’m a double quote: {}\".format(QUOTE))"
   ]
  },
  {
   "cell_type": "markdown",
   "metadata": {},
   "source": [
    "Cleaning House and Moving Furniture\n",
    "-----------------------------------\n",
    "\n",
    "Python’s string methods have an easy-to-use, and remarkably efficient, ways to do searches and replacements. “Under the hood\" they wrap regular expressions (“regexes\") and, for many operations, deliver the same performance. Once we get into regexes later, you will really appreciate this implementation.\n",
    "\n",
    "### Boolean Evaluations\n",
    "Observe how Python handles Boolean tests applied to things like strings. You might think this is pretty weird:"
   ]
  },
  {
   "cell_type": "code",
   "execution_count": 62,
   "metadata": {},
   "outputs": [
    {
     "data": {
      "text/plain": [
       "'Quinn the Husky'"
      ]
     },
     "execution_count": 62,
     "metadata": {},
     "output_type": "execute_result"
    }
   ],
   "source": [
    "dog = \"Quinn the Husky\"\n",
    "dog"
   ]
  },
  {
   "cell_type": "code",
   "execution_count": 63,
   "metadata": {},
   "outputs": [
    {
     "data": {
      "text/plain": [
       "False"
      ]
     },
     "execution_count": 63,
     "metadata": {},
     "output_type": "execute_result"
    }
   ],
   "source": [
    "not dog"
   ]
  },
  {
   "cell_type": "markdown",
   "metadata": {},
   "source": [
    "Huh? How can Python possibly evaluate a string as a Boolean value? \n",
    "\n",
    "Well, it turns out that whenever we ask for a Boolean evaluation, Python will go ahead and serve one up. \n",
    "\n",
    "It will return **False** if the object is the number 0, the keyword **None**[15], a null string, an empty list, or any other empty object. \n",
    "\n",
    "The opposite is also the case. When a Boolean operation is applied against a non-zero number, a string with at least one character, etc., **True** will be returned. \n",
    "\n",
    "Here's how one might use this behavior to test whether a user provided any input:"
   ]
  },
  {
   "cell_type": "raw",
   "metadata": {},
   "source": [
    "dog = input(\"What's your dog's name?  \")\n",
    "\n",
    "What's your dog's name?  Quinn\n",
    "\n",
    "if dog:\n",
    "    print(dog)\n",
    "Quinn"
   ]
  },
  {
   "cell_type": "markdown",
   "metadata": {},
   "source": [
    "Note the use of the **if** keyword for a simple logical branch. The syntax is straightforward:\n",
    "\n",
    "**if** \\<condition\\>:\n",
    "\n",
    "      \\<an indented suite\\>"
   ]
  },
  {
   "cell_type": "markdown",
   "metadata": {},
   "source": [
    "### More Python Keywords and **str** Object Manipulations\n",
    "Let's take a tour of some of the methods built into the string object with some real code. Here we'll learn ways to find and replace components of **str** objects. \n",
    "\n",
    "We'll begin with a string containing some popular sins."
   ]
  },
  {
   "cell_type": "code",
   "execution_count": 71,
   "metadata": {},
   "outputs": [
    {
     "name": "stdout",
     "output_type": "stream",
     "text": [
      " avarice envy wrath sloth gluttony lust hubris \n"
     ]
    }
   ],
   "source": [
    "seven_deadly = \" avarice envy wrath sloth \\\n",
    "gluttony lust hubris \"\n",
    "print(seven_deadly)"
   ]
  },
  {
   "cell_type": "markdown",
   "metadata": {},
   "source": [
    "Here is how we can use the keyword **in**[16] to figure out if one string can be found within another. This is a very vague query that will yield a Boolean response. \n",
    "\n",
    "In Python we can use **not** in a logical expression for negation."
   ]
  },
  {
   "cell_type": "code",
   "execution_count": 76,
   "metadata": {},
   "outputs": [
    {
     "name": "stdout",
     "output_type": "stream",
     "text": [
      "envy in there? True\n",
      "\n",
      "Try the key word not:\n",
      "envy NOT in there? False\n",
      "\n"
     ]
    }
   ],
   "source": [
    "sin = 'eNvY'\n",
    "\n",
    "print(\"{} in there? {}\\n\"\n",
    "      .format(sin.lower(),\n",
    "              sin.lower() in seven_deadly.lower())\n",
    "      )\n",
    "\n",
    "# doesn't exist? (use not for Boolean negation)\n",
    "print(\"Try the key word not:\")\n",
    "print(\"{} NOT in there? {}\\n\"\n",
    "      .format(sin.lower(),\n",
    "              sin.lower() not in seven_deadly)\n",
    "      )"
   ]
  },
  {
   "cell_type": "markdown",
   "metadata": {},
   "source": [
    "Note that we're invoking the lower method when searching the string.  It's not necessary, but not a bad idea because it lets you get away without trying every petty permutation of the word.\n",
    "\n",
    "A more surgical approach is to use **find**. This will attempt to locate the initial position of the string you're looking for and return its findings. If it strikes out, **find** will return a -1."
   ]
  },
  {
   "cell_type": "code",
   "execution_count": 92,
   "metadata": {},
   "outputs": [
    {
     "name": "stdout",
     "output_type": "stream",
     "text": [
      "Checking envy:\n",
      "Yup. We found 'envy' starting in position 9.\n",
      "\n",
      "Checking texting while driving:\n",
      "Nope. Since find() returned -1, 'texting while driving' wasn't there.\n",
      "\n",
      "Checking sloth:\n",
      "Yup. We found 'sloth' starting in position 20.\n",
      "\n"
     ]
    }
   ],
   "source": [
    "# Locate the position. Note the two-element tuple object.\n",
    "for sin in ('envy', 'texting while driving', 'sloth'):\n",
    "    sin_position = seven_deadly.find(sin.lower())\n",
    "\n",
    "    print (\"Checking {}:\".format(sin))\n",
    "\n",
    "    if sin_position > 0:\n",
    "        print(\"Yup. We found '{}' starting in position {}.\\n\"\n",
    "                  .format(sin.lower(), sin_position))\n",
    "    else:\n",
    "        print(\"Nope. Since find() returned {}, '{}' wasn't there.\\n\"\n",
    "                  .format(sin_position, sin.lower()))\n",
    "        "
   ]
  },
  {
   "cell_type": "markdown",
   "metadata": {},
   "source": [
    "It's possible to replace characters with new ones with the – you guessed it – **replace** method[17]. Here's a simple example that shows a potential pitfall for a new Python programmer. \n",
    "\n",
    "Strings are \"immutable\" – not changeable. Running a replace operation doesn't change the string."
   ]
  },
  {
   "cell_type": "code",
   "execution_count": 95,
   "metadata": {},
   "outputs": [
    {
     "name": "stdout",
     "output_type": "stream",
     "text": [
      "strings are immutable - compare these:\n",
      "\n",
      "no replacement:   greed envy wrath sloth gluttony lust hubris  \n",
      "\n",
      "replaced at last:   greed envy wrath sloth gluttony lust hubris \n",
      "\n"
     ]
    }
   ],
   "source": [
    "#Replace characters\n",
    "print(\"strings are immutable - compare these:\\n\")\n",
    "seven_deadly.replace('avarice', 'greed')\n",
    "\n",
    "print(\"no replacement: \", seven_deadly, \"\\n\")\n",
    "seven_deadly = seven_deadly.replace('avarice', 'greed')\n",
    "\n",
    "print(\"replaced at last: \", seven_deadly + '\\n')"
   ]
  },
  {
   "cell_type": "markdown",
   "metadata": {},
   "source": [
    "You can remove leading and trailing whitespaces using various flavors of the **strip** method[18]. \n",
    "\n",
    "This is really handy when handling potentially-messy data like user inputs. The following example demonstrates this, along with one of Python's top-level functions len.  \n",
    "\n",
    "Note that **len** is not built into the string method – it's generally available for all objects"
   ]
  },
  {
   "cell_type": "code",
   "execution_count": 99,
   "metadata": {},
   "outputs": [
    {
     "name": "stdout",
     "output_type": "stream",
     "text": [
      "The original sin list is 45 characters long.\n",
      "With the white spaces removed it's 43 long.\n"
     ]
    }
   ],
   "source": [
    "#Remove leading/trailing spaces. Note chained methods.\n",
    "print(\"The original sin list is {} characters long.\".\n",
    "        format(len(seven_deadly)))\n",
    "\n",
    "print(\"With the white spaces removed it's {} long.\".\n",
    "        format(len(seven_deadly.strip())))"
   ]
  },
  {
   "cell_type": "markdown",
   "metadata": {},
   "source": [
    "Python's ability to have one function \"swallow\" the output of another so it's possible to chain operations together. Here, the output from the **strip** method is fed into the **len** method. The combined result is fed to **format**. And the result of all that activity is rolled up into a single argument to **print**. You'll see a lot of code like this as you explore Python.\n",
    "\n",
    " "
   ]
  },
  {
   "cell_type": "markdown",
   "metadata": {},
   "source": [
    "Making Things Beautiful: the Format Mini-Language[19]\n",
    "-----------------------------------------------------\n",
    "\n",
    "You have already seen some basic applications of Python's text formatting capabilities. If you place opposing curly braces in a string they serve as \"catcher's mitt\" for any arguments you provide to **format**().  Python actually supports different styles of formatting.  We touch on a few of these here.\n",
    "\n",
    "The olde tyme, C-style method (which you'll see in Python 2 code) is not recommended, but is still supported."
   ]
  },
  {
   "cell_type": "code",
   "execution_count": 119,
   "metadata": {},
   "outputs": [],
   "source": [
    "my_str = \"'My String'\"\n",
    "my_float = 1.23\n",
    "my_int = 666"
   ]
  },
  {
   "cell_type": "code",
   "execution_count": 120,
   "metadata": {},
   "outputs": [
    {
     "name": "stdout",
     "output_type": "stream",
     "text": [
      "Python can print strings 'My String', floats 1.230000, and ints 666.\n"
     ]
    }
   ],
   "source": [
    "print(\"Python can print strings %s, floats %f, and ints %i.\" %(my_str, my_float, my_int))"
   ]
  },
  {
   "cell_type": "markdown",
   "metadata": {},
   "source": [
    "You can also provide empty braces as placeholders.   Under the hood, they are indexed as 0, 1, 2, etc. and are replaced by arguments provided to **format()**:"
   ]
  },
  {
   "cell_type": "code",
   "execution_count": 121,
   "metadata": {},
   "outputs": [
    {
     "name": "stdout",
     "output_type": "stream",
     "text": [
      "Python can print strings 'My String', floats 1.23, and ints 666.\n"
     ]
    }
   ],
   "source": [
    "print(\"Python can print strings {}, floats {}, and ints {}.\".  \n",
    "      format(my_str, my_float, my_int))"
   ]
  },
  {
   "cell_type": "markdown",
   "metadata": {},
   "source": [
    "It's also possible to scramble the indices, and even repeat elements.  Note, also, that we don't need to use all the arguments provided.   Here's how:"
   ]
  },
  {
   "cell_type": "code",
   "execution_count": 123,
   "metadata": {},
   "outputs": [
    {
     "name": "stdout",
     "output_type": "stream",
     "text": [
      "Some numbers: 3 3 2 2 1 0\n"
     ]
    }
   ],
   "source": [
    "print(\"Some numbers: {3} {3} {2} {2} {1} {0}\".format(0, 1, 2, 3, 4))"
   ]
  },
  {
   "cell_type": "markdown",
   "metadata": {},
   "source": [
    "Separating the formatted string from the data is also possible.  That can make your code more reusable.   Here, we're using a multi-line version of a string.   Instead of a numeric index, we're naming the fields - that allows us to use it with dictionary-like arguments:"
   ]
  },
  {
   "cell_type": "code",
   "execution_count": 173,
   "metadata": {},
   "outputs": [
    {
     "name": "stdout",
     "output_type": "stream",
     "text": [
      "    Dear SuperPAC,\n",
      "   \n",
      "       I'm running for President and would like to shake\n",
      "       you down for a $100 contribution.\n",
      "\n",
      "    Sincerly, \n",
      "\n",
      "     - Me\n"
     ]
    }
   ],
   "source": [
    "stg = \"\"\"\\\n",
    "    Dear {donor},\\n   \n",
    "       I'm running for {office} and would like to shake\n",
    "       you down for a ${dollars} contribution.\\n\n",
    "    Sincerly, \\n\n",
    "     - {candidate}\"\"\"\n",
    "\n",
    "print(stg.format(donor = \"SuperPAC\", office = \"President\",\n",
    "                 dollars =100, candidate = 'Me'))"
   ]
  },
  {
   "cell_type": "markdown",
   "metadata": {},
   "source": [
    "If we already have the variables defined, we can simply create a format statment using those names.  This is the most common and most readable (IMHO) way to do it.   Note that you can perform operations of any kind within the format string's {placeholders}."
   ]
  },
  {
   "cell_type": "code",
   "execution_count": 133,
   "metadata": {},
   "outputs": [
    {
     "name": "stdout",
     "output_type": "stream",
     "text": [
      "Jerry Garcia and the fabulous Grateful Dead are the greatest!\n",
      "\n",
      "... because there are 12 letters in Jerry Garcia's name'\n",
      "... and half of that is 6.0.\n"
     ]
    }
   ],
   "source": [
    "fav_musician = \"Jerry Garcia\"\n",
    "fav_band = \"Grateful Dead\"\n",
    "\n",
    "# This is called an 'f-string' - introduced in Python 3.6\n",
    "print(f\"{fav_musician} and the fabulous {fav_band} are the greatest!\\n\")\n",
    "\n",
    "print(f\"... because there are {len(fav_musician)} letters in {fav_musician}'s name...\")\n",
    "print(f\"... and half of that is {len(fav_musician)/2}.\")\n"
   ]
  },
  {
   "cell_type": "markdown",
   "metadata": {},
   "source": [
    "It's also easy to provide column width and justification specifications.  The general form of the specification is something like:\n",
    "\n",
    "{ \\<field name\\> : \\<alignment\\>[21] \\<width\\> }\n",
    "\n",
    "This example creates three columns of equal width, left justified in a\n",
    "format string, then \"recycles\" the string to build a nicely-formatted\n",
    "table."
   ]
  },
  {
   "cell_type": "code",
   "execution_count": 139,
   "metadata": {},
   "outputs": [
    {
     "name": "stdout",
     "output_type": "stream",
     "text": [
      "Presenting: Addition!!!\n",
      "g                      \n",
      "output       input         input\n",
      "======       ======       ======\n",
      "4              2               2\n",
      "8              4               4\n"
     ]
    }
   ],
   "source": [
    "stg = \"{0:<10} {1:^10} {1:>10}\"\n",
    "print(stg.format(\"Presenting: Addition!!!\\ng\", ''))\n",
    "print(stg.format(\"output\", \"input\"))\n",
    "print(stg.format(\"=\" * 6, \"=\" * 6))\n",
    "print(stg.format(4, 2))\n",
    "print(stg.format(8, 4))\n"
   ]
  },
  {
   "cell_type": "markdown",
   "metadata": {},
   "source": [
    "You can also ask Python to temporarily cast variables into other forms for the purposes of output. Here, we're printing out decimal, binary, and hex flavors of some numbers."
   ]
  },
  {
   "cell_type": "code",
   "execution_count": 141,
   "metadata": {},
   "outputs": [
    {
     "name": "stdout",
     "output_type": "stream",
     "text": [
      "     1 =              0b1 = 0x0001\n",
      "    23 =          0b10111 = 0x0017\n",
      "   456 =      0b111001000 = 0x01c8\n",
      "  7890 =  0b1111011010010 = 0x1ed2\n"
     ]
    }
   ],
   "source": [
    "fmt = \"{0:6} = {0:#16b} = {0:#06x}\"\n",
    "for i in (1, 23, 456, 7890):\n",
    "    print(fmt.format(i))"
   ]
  },
  {
   "cell_type": "markdown",
   "metadata": {},
   "source": [
    "Other options allow you to do things like represent add \"+\" and \"-\" signs in front of values, to pad out columns, etc. Things can be much more complicated but Python's official documentation is (fortunately) exceptional on this topic[22].\n",
    "\n",
    "Here's a final example that demonstrates how to use formatting to output a type-cast version of the information displayed."
   ]
  },
  {
   "cell_type": "code",
   "execution_count": 142,
   "metadata": {},
   "outputs": [
    {
     "name": "stdout",
     "output_type": "stream",
     "text": [
      "Steve          59  202.\n",
      "Dorothy        49  156.\n",
      "Simon          39  155.\n",
      "David          61  135.\n"
     ]
    }
   ],
   "source": [
    "\"\"\"List people's names, ages and weights.\"\"\"\n",
    "data = [\n",
    "        (\"Steve\", 59, 202),\n",
    "        (\"Dorothy\", 49, 156),\n",
    "        (\"Simon\", 39, 155),\n",
    "        (\"David\", 61, 135) \n",
    "        ]\n",
    "for name, age, weight in data:\n",
    "    print(\"{0:12s} {1:4d} {2:4d}.\".format(name, age, weight))"
   ]
  },
  {
   "cell_type": "markdown",
   "metadata": {},
   "source": [
    "Strings can be evaluated with logical tests.  Python uses == for a logical 'is equal to' and != for 'is not equal to'."
   ]
  },
  {
   "cell_type": "code",
   "execution_count": 150,
   "metadata": {},
   "outputs": [
    {
     "name": "stdout",
     "output_type": "stream",
     "text": [
      "Are 'CUBS' and 'cubs' the same?   False\n",
      "Are 'CUBS' and 'cubs' different?  True\n"
     ]
    }
   ],
   "source": [
    "string_a = 'CUBS'\n",
    "string_b = 'cubs'\n",
    "\n",
    "print(f\"Are '{string_a}' and '{string_b}' the same?   {string_a == string_b}\")\n",
    "print(f\"Are '{string_a}' and '{string_b}' different?  {string_a != string_b}\")\n"
   ]
  },
  {
   "cell_type": "markdown",
   "metadata": {},
   "source": [
    "OK. You have learned a lot about string and numeric data types, how to work with strings, and how to make nicely formatted output. Now, let's flex some Pythonic muscles and make something beautiful!"
   ]
  },
  {
   "cell_type": "markdown",
   "metadata": {},
   "source": [
    "## Exercise:\n",
    "\n",
    "Please write an application that quizzes challenges the user to guess all of Python's keywords, keeping track of the successes. \n",
    "\n",
    "When the user gives up (maybe by typing \"help\"), report the number of correctly-guessed keywords, then number not guessed, and a nicely-formatted table for each group.\n",
    "\n",
    "Hint: you'll find some useful tools in the keyword library, which you can get by going:\n",
    "\n",
    "import keyword\n",
    "\n",
    "Hint: you just might find the keyword called **in** useful to determine membership in keywords. You can access it like this:\n",
    "\n",
    "keyword.kwlist\n",
    "\n",
    "You'll want to use this approach to query the list you'll find in the keyword library. \n",
    "\n",
    "    list_of_critters = ['fox', 'skunk', 'bear']\n",
    "\n",
    "    print (f\"Is 'fox' in our critter list? {'fox' in list_of_critters}\") \n",
    "    \n",
    "    Is 'fox' in our critter list? True\n",
    "\n",
    "Also, you'll need to be able to use the for and if statements.  Recall the general forms:\n",
    "\n",
    "for i in iterable_object: \n",
    "    \n",
    "    pass\n",
    "    \n",
    "if condition:   \n",
    "    \n",
    "    pass"
   ]
  },
  {
   "cell_type": "markdown",
   "metadata": {},
   "source": [
    "Language Components\n",
    "===================\n",
    "\n",
    "From a syntax perspective, Python is a simple language. As we've seen, there are only 33 keywords. While Python has data types, variables don't need to be declared to be of some specific type before use. There's no requirement to initialize variables. Objects generally come to us \"batteries included.\" Pretty slick, no?"
   ]
  },
  {
   "cell_type": "markdown",
   "metadata": {},
   "source": [
    "Indentation\n",
    "-----------\n",
    "\n",
    "We've seen the **for** statement before, but let's take another look."
   ]
  },
  {
   "cell_type": "code",
   "execution_count": 155,
   "metadata": {},
   "outputs": [
    {
     "name": "stdout",
     "output_type": "stream",
     "text": [
      "0\n",
      "1\n",
      "2\n",
      "3\n",
      "4\n"
     ]
    }
   ],
   "source": [
    "for value in range(5):\n",
    "    print(value)"
   ]
  },
  {
   "cell_type": "markdown",
   "metadata": {},
   "source": [
    "The first line is of the form:\n",
    "\n",
    "\\<key word\\> \\<name for index\\> **in** \\<iterable object\\>:\n",
    "\n",
    "That's it – no fussing around with pointers, instancing index values, or running past the end of the object. The **for** statement \"just works.\"\n",
    "\n",
    "What follows is an \"indented suite\", and it can comprise any number of lines of code. Indentation is extremely important in Python because that's how the interpreter keeps track of how to group statements.  Unlike languages such as C and Java, it can't rely on braces for that purpose – Python uses <span class=\"underline\">only</span> indentation.  Statements at the same level of indentation are treated as a being in the same code block, and code blocks can be nested to any level.\n",
    "\n",
    "This further simplifies Python – it's unburdened by the clutter of braces, statement terminating semicolons, and loop terminating keywords.  All this creates and enforces a high level of readability. The cost, of course, is the need to have attention to fine level of detail and a limited ability to write spatially-dense code.\n",
    "\n",
    "Strictly speaking, Python doesn't care how much each statement in the same suite is indented, as long as all are the same. Some developers use tabs (each is seen by the interpreter as a single character), but four white spaces is the recommended convention per Python's official style guide \"PEP-8.\" \n",
    "\n",
    "PEP-8 is a bit of a dry read, but well worth a quick look, especially if you're planning to work as part of a team[24].   Jupyter, as well as many IDEs have built-in PEP-8 checkers and will (usually!) format your code nicely even if you've forgotten some nuance."
   ]
  },
  {
   "cell_type": "markdown",
   "metadata": {},
   "source": [
    "## Iteration and Lazy Evaluation\n",
    "\n",
    "Many objects in Python have the built-in capability for looping over the elements.  Under the hood, each of these objects has an __iter__ method that provides exact instructions for doing so.   \n",
    "\n",
    "In the exercise, you saw how the **for** keyword can invoke this automatic looping behavior over a **list** object.  Just above, we used a **range** object with the same syntax.   The **range** object is good to know about because it's a good way to whistle up a sequence of numbers.\n",
    "\n",
    "It's also an example of a common built-in optimizing technique achieved by making \"iterator\" and \"generator\" objects.  These objects contain recipes to generate the next object in a series without having to remember all the elements in the series.   The example we just saw will create five consecutive integers - but it only had to have the wisdom to add one to the last integer it produced.  \n",
    "\n",
    "These expressions take exactly the same amount of memory to create:"
   ]
  },
  {
   "cell_type": "code",
   "execution_count": 159,
   "metadata": {},
   "outputs": [
    {
     "name": "stdout",
     "output_type": "stream",
     "text": [
      "range(0, 5)\n",
      "range(0, 5000000000000)\n"
     ]
    }
   ],
   "source": [
    "print(range(5))\n",
    "print(range(5_000_000_000_000))"
   ]
  },
  {
   "cell_type": "markdown",
   "metadata": {},
   "source": [
    "Note that we're printing out string representations of the objects.   We're not causing either one to iterate or create all of its elements.  That will happen only when we apply a **for** loop.\n",
    "\n",
    "You'll also note use of underscores to specify the integer 5 trillion.  This is possible since Python 3.6."
   ]
  },
  {
   "cell_type": "markdown",
   "metadata": {},
   "source": [
    "The if Statement\n",
    "----------------\n",
    "\n",
    "We've touched on the **if** statement, the most basic of control statements. Let's expand the discussion a bit. Its general form is:\n",
    "\n",
    "if \\<condition\\>:\n",
    "\n",
    "    <indented suite>\n",
    "\n",
    "elif \\<condition\\>:\n",
    "\n",
    "    <indented suite>\n",
    "\n",
    "else:\n",
    "\n",
    "    <indented suite>\n",
    "\n",
    "The first condition presented to the **if** is evaluated True or False.  If evaluated **True**, the indented suite immediately beneath is executed and it's done. Execution drops out of the entire block of code.\n",
    "\n",
    "There can be any number of **elif** (\"else if\") statements and they are evaluated in top-to-bottom order. If any is **True**, the associated indented suite of statement is evaluated and it's done. Only when no **if** or **elif** condition is met will the **else** suite be executed[25].\n",
    "\n",
    "The **elif** and **else** clauses are completely optional, and leaving them off is routine. \n",
    "\n",
    "Here's a simple example where we apply an the **if** alone to prevent a crash (technically, an \"exception\" caused by a ZeroDivisionError)."
   ]
  },
  {
   "cell_type": "code",
   "execution_count": 160,
   "metadata": {},
   "outputs": [],
   "source": [
    "denominator = 0\n",
    "numerator = 100\n",
    "if denominator:\n",
    "    print(numerator/denominator)"
   ]
  },
  {
   "cell_type": "markdown",
   "metadata": {},
   "source": [
    "## Using for and if Together\n",
    "\n",
    "Here's a program to demonstrate a more complicated application, this time coupling **for** and **if** expressions.  We introduce a few nuances in the process.\n",
    "\n",
    "The object iterated over is a **tuple**.   A tuple is an ordered set of objects and is represented within parentheses - something like:  (0, 'bear' 1.1).\n",
    "\n",
    "In his case we have a tuple-of-tuples.  The contained elements (1, 0) and (9, 3) are each tuples in their own right.  The outer tuple object bundles them:   ( (1, 0), (9, 3) )\n",
    "\n",
    "We can iterate over the outer tuple to get:"
   ]
  },
  {
   "cell_type": "code",
   "execution_count": 195,
   "metadata": {},
   "outputs": [
    {
     "name": "stdout",
     "output_type": "stream",
     "text": [
      "(1, 0)\n",
      "(9, 3)\n"
     ]
    }
   ],
   "source": [
    "for element in ( (1, 0), (9, 3) ):\n",
    "    print (element)"
   ]
  },
  {
   "cell_type": "markdown",
   "metadata": {},
   "source": [
    "A common operation to use within a **for** statement is called \"unpacking\".  You do not have to use it unless you want to, but we bring the topic up here so you'll recognize it when you see it.\n",
    "\n",
    "Let's assume you have the tuple (9, 3).   You can create an assignment to split it up into constituent elements by providing a name for each element on the left side of an expression like this:"
   ]
  },
  {
   "cell_type": "code",
   "execution_count": 163,
   "metadata": {},
   "outputs": [
    {
     "name": "stdout",
     "output_type": "stream",
     "text": [
      "first: 9  second: 3\n"
     ]
    }
   ],
   "source": [
    "first_tuple_component, second_tuple_component = (9, 3)\n",
    "\n",
    "print(f\"first: {first_tuple_component}  second: {second_tuple_component}\")"
   ]
  },
  {
   "cell_type": "markdown",
   "metadata": {},
   "source": [
    "This will work on any Python sequence, like a string or a list.   You have to remember to provide just the right number of names on the left side.\n",
    "\n",
    "Suppose our tuple components contained numerator, denominator pairs.   An easy way to parse these out is to do the \"unpacking\" operation in the header of the **for** loop.   This lets you save a couple of steps and - much more importantly - make code transparent enough for anyone to understand.\n",
    "\n",
    "Here we take advantage of unpacking and the left-to-right operation of conditional statements to make a robust means of generating fractions."
   ]
  },
  {
   "cell_type": "code",
   "execution_count": 164,
   "metadata": {},
   "outputs": [
    {
     "name": "stdout",
     "output_type": "stream",
     "text": [
      "yay! We have a 3.0!\n"
     ]
    }
   ],
   "source": [
    "for numerator, denominator in ( (1, 0), (9, 3) ):\n",
    "    if denominator and numerator/denominator == 3:\n",
    "        print(\"yay! We have a {numerator/denominator}!\".format())"
   ]
  },
  {
   "cell_type": "markdown",
   "metadata": {},
   "source": [
    "The while Statement\n",
    "-------------------\n",
    "\n",
    "The **while** statement is also pretty straightforward:\n",
    "\n",
    "condition = <something>\n",
    "\n",
    "while <condition>:\n",
    "\n",
    "    <indented suite>\n",
    "\n",
    "else:\n",
    "\n",
    "    <indented suite>\n",
    "\n",
    "The indented suite will be executed top-to-bottom forever until it's asked to stop or the condition is no longer **True**. Here's a simple example using a condition to halt execution. Note that the \"sentinel condition\" and counter are defined outside and before the loop[26]."
   ]
  },
  {
   "cell_type": "code",
   "execution_count": 172,
   "metadata": {},
   "outputs": [
    {
     "name": "stdout",
     "output_type": "stream",
     "text": [
      "The counter is now: 0. I'm still trudging along.\n",
      "The counter is now: 1. I'm still trudging along.\n",
      "The counter is now: 2. I'm still trudging along.\n",
      "The counter is now: 3. Yo. I'm done!\n"
     ]
    }
   ],
   "source": [
    "stop_me = False\n",
    "counter = 0\n",
    "while not stop_me:\n",
    "    print(f\"The counter is now: {counter}.\", end = '')\n",
    "    if counter > 2:\n",
    "        print(\" Yo. I'm done!\")\n",
    "        stop_me = True     \n",
    "    else:\n",
    "        print(\" I'm still trudging along.\")      \n",
    "        \n",
    "    counter = counter + 1 "
   ]
  },
  {
   "cell_type": "markdown",
   "metadata": {},
   "source": [
    "There are more elegant ways to proceed, however. A common idiom is to use the keyword **break** within the loop to terminate it immediately.  This can be combined with tautologically-true condition to streamline things. \n",
    "\n",
    "For instance, you could go:"
   ]
  },
  {
   "cell_type": "code",
   "execution_count": 181,
   "metadata": {},
   "outputs": [
    {
     "name": "stdout",
     "output_type": "stream",
     "text": [
      "The counter is now: 0. I'm still trudging along.\n",
      "The counter is now: 1. I'm still trudging along.\n",
      "The counter is now: 2. I'm still trudging along.\n",
      "The counter is now: 3. Yo. I'm done!\n"
     ]
    }
   ],
   "source": [
    "counter = 0\n",
    "while True:\n",
    "    print(f\"The counter is now: {counter}.\", end = \"\")\n",
    "    if counter > 2:\n",
    "        print(\" Yo. I'm done!\")\n",
    "        break\n",
    "    else:\n",
    "        print(\" I'm still trudging along.\")\n",
    "        \n",
    "    counter += 1"
   ]
  },
  {
   "cell_type": "markdown",
   "metadata": {},
   "source": [
    "Not only is this simple to read, it doesn't require much in the way of resources to evaluate. This is not at issue with a simple application, but if your project involves millions of iterations e.g., a polling routine for a web server, efficiency becomes relevant.\n",
    "\n",
    "You probably noticed that the **else** clause did not execute. The reason is that its indented suite runs only if the **while** statement terminates due to the condition becoming **False**. The **break** keyword causes the code that would do this to be bypassed.\n",
    "\n",
    "The philotic twin of the **break** statement is **continue**. When **continue** is encountered, execution is immediately passed to the top of the loop where the condition is reevaluated.\n",
    "\n",
    "The **else** clause is completely optional. Since we're using **break**, we'll get rid of the extra baggage and show how **continue** might be applied. Note the use of the comparative operator == (returns a Boolean evaluation of whether the two values are the same) and the shortcut way to increment the counter with the += operator[27]."
   ]
  },
  {
   "cell_type": "code",
   "execution_count": 183,
   "metadata": {},
   "outputs": [
    {
     "name": "stdout",
     "output_type": "stream",
     "text": [
      "The counter is now: 0.\n",
      "One is the loneliest number that there ever was.\n",
      "The counter is now: 2.\n"
     ]
    }
   ],
   "source": [
    "counter = 0\n",
    "while True:\n",
    "    if counter == 1:\n",
    "        print(\"One is the loneliest number that there ever was.\")\n",
    "        counter += 1\n",
    "        continue\n",
    "    print(\"The counter is now: {}.\".format(counter))\n",
    "    if counter:\n",
    "        break\n",
    "\n",
    "    counter += 1"
   ]
  },
  {
   "cell_type": "markdown",
   "metadata": {},
   "source": [
    "Inner and Outer Loops\n",
    "---------------------\n",
    "\n",
    "The final point I would make here is that **break** and **continue** work on both **for** and **while** loops. And both work only on the inner-most loop (the one they reside inside of). \n",
    "\n",
    "Here's an example of a program with both types of loops:\n"
   ]
  },
  {
   "cell_type": "code",
   "execution_count": 190,
   "metadata": {},
   "outputs": [
    {
     "name": "stdout",
     "output_type": "stream",
     "text": [
      "The counter is now: 0 and i is now 1.\n",
      "One is the loneliest number that there ever was.\n",
      "The counter is now: 2 and i is now 1.\n",
      "The counter is now: 2 and i is now 3.\n",
      "The counter is now: 2 and i is now 5.\n",
      "I'm done - about to go on a break.\n"
     ]
    }
   ],
   "source": [
    "stop_me = False\n",
    "counter = 0\n",
    "for i in range(10):\n",
    "    if i%2: #odd numbers evaluate True:\n",
    "        while True:\n",
    "            if counter == 1:\n",
    "                print(\"One is the loneliest number that there ever was.\")\n",
    "                counter += 1\n",
    "                continue\n",
    "            print(f\"The counter is now: {counter } and i is now {i}.\")\n",
    "            if counter:\n",
    "                break #breaks out of the inner(while) loop\n",
    "\n",
    "            counter += 1\n",
    "    if i == 5:\n",
    "        print(\"I'm done - about to go on a break.\")\n",
    "        break #this breaks out of the outer (for) loop"
   ]
  },
  {
   "cell_type": "markdown",
   "metadata": {},
   "source": [
    "Some Useful Logical and Binary Operators\n",
    "----------------------------------------\n",
    "\n",
    "Python comes with a typical set of comparative operators. Here's a quick\n",
    "summary:\n",
    "\n",
    "|     | Equal to              |\n",
    "|:----|:----------------------|\n",
    "| !=  | Not equal             |\n",
    "| \\<  | Less than             |\n",
    "| \\>  | Greater than          |\n",
    "| \\<= | Less than or equal    |\n",
    "| \\>= | Greater than or equal |\n",
    "|<img width=150/>|<img width=150/>|\n",
    "\n",
    "There is also a set of bitwise operators. These operate on the 1s and 0s in a number represented in binary format. You can create a binary representation of a number in Python by using the keyword **bin**, something like:"
   ]
  },
  {
   "cell_type": "code",
   "execution_count": 191,
   "metadata": {},
   "outputs": [
    {
     "data": {
      "text/plain": [
       "'0b10000000'"
      ]
     },
     "execution_count": 191,
     "metadata": {},
     "output_type": "execute_result"
    }
   ],
   "source": [
    "bin(128)"
   ]
  },
  {
   "cell_type": "markdown",
   "metadata": {},
   "source": [
    "You can see that the result's first two characters are '0b', flagging it as a binary representation. You'll also note that the result is a string, which you can't do much with mathematically – you need to do operations <span class=\"underline\">before</span> it's converted.\n",
    "\n",
    "The operators for bitwise shifts are **\\>\\>** and **\\<\\<** and here's how you might apply them as you're creating the binary number. These are like changing the power of 10 to which you raise a base 10 number."
   ]
  },
  {
   "cell_type": "code",
   "execution_count": 194,
   "metadata": {},
   "outputs": [
    {
     "name": "stdout",
     "output_type": "stream",
     "text": [
      "Base 2 operations:\n",
      "mybin_1000:                    0b1111101000                  \n",
      "mybin_1000 shifted left:       0b1111101000000               \n",
      "mybin_1000 shifted right:      0b11111                       \n"
     ]
    }
   ],
   "source": [
    "mybin_1000 = bin(1000)\n",
    "fmt = \"{:30} {:30}\"\n",
    "print(\"Base 2 operations:\")\n",
    "print(fmt.format(\"mybin_1000: \", mybin_1000))\n",
    "print(fmt.format(\"mybin_1000 shifted left: \", bin(1000 << 3)))\n",
    "print(fmt.format(\"mybin_1000 shifted right: \", bin(1000 >> 5)))"
   ]
  },
  {
   "cell_type": "markdown",
   "metadata": {},
   "source": [
    "There are other operators you can use to \"mask\" a binary number with another. A common use is IP address masking when setting up subnets.  These are:\n",
    "\n",
    "| a & b  | Both 1 -\\> 1, otherwise -\\>0                                        |\n",
    "|--------|---------------------------------------------------------------------|\n",
    "| a \\| b | Both 0 -\\> 0, otherwise -\\>1                                        |\n",
    "| \\~a    | \"flips\" each bit. 1 -\\> 0 and 0 -\\>1                                |\n",
    "| a ^ b  | if the bit in b is 0, use the bit in a; otherwise flip the bit in a |\n",
    "\n",
    "This is just an aside, but you can use the \"exclusive or\", a.k.a. XOR, implemented with the \"^\" operator, as a cheesy encryption tool. That's because sequential applications simply flip the results. The first application encrypts the original and the second application undoes the encryption."
   ]
  },
  {
   "cell_type": "markdown",
   "metadata": {},
   "source": [
    "## Exercise:\n",
    "\n",
    "\n",
    "Create a program that asks the user to guess a number between 1 and 100 (whole numbers only). If the guess is wrong, let the user know if the guess is too high or too low. If the guess is right, offer hearty congratulations and exit the program. If, after five attempts, the user can't get the number then offer deep condolences and invite him/her to try again. Be sure to check for valid input and remind the user if necessary.\n",
    "\n",
    "\n",
    "Hint: the random library has several handy pseudo-random number generator functions such as random.randrange(). You'll need to import random in order to use it. A good way to start might be:\n",
    "\n",
    "    import random\n",
    "\n",
    "    help(random)\n",
    "\n",
    "\n",
    "Also, you might consider putting in some sort of logical that will \"freeze\" both the random number and the user's guess while debugging. That gives you a stationary target."
   ]
  },
  {
   "cell_type": "markdown",
   "metadata": {},
   "source": [
    "Collections\n",
    "===========\n",
    "\n",
    "Next, we'll investigate several of the built-in Python **sequences.** Sequences are composite objects (that is they contain zero or more separate objects). Sequence objects are aware of their status as such and have built-in methods to take advantage of that fact. For instance, all sequences are **iterators** (they know how to loop over themselves), they know how long they are, and can be indexed."
   ]
  },
  {
   "cell_type": "markdown",
   "metadata": {},
   "source": [
    "Creating Sequences \n",
    "------------------\n",
    "\n",
    "In the code below, we will take a first-order look at several sequences, and how one might form them. Note that we can use data types such as **range** and **list** as methods to create new instances of said data types."
   ]
  },
  {
   "cell_type": "code",
   "execution_count": 197,
   "metadata": {},
   "outputs": [
    {
     "name": "stdout",
     "output_type": "stream",
     "text": [
      "String:  strings are sequences with an encoding\n",
      "Bytes:  bytearray(b'strings are sequences with an encoding')\n",
      "List:  [0, 1, 2, 3, 4, 5, 6, 7, 8, 9]\n",
      "Tuple:  (0, 1, 2, 3, 4, 5, 6, 7, 8, 9)\n"
     ]
    }
   ],
   "source": [
    "the_string = \"strings are sequences with an encoding\"\n",
    "the_bytes = bytearray(the_string, encoding = 'UTF-8')\n",
    "the_range = range(10)\n",
    "the_list = list(range(10))\n",
    "the_tuple = tuple(range(10))\n",
    "print(\"String: \", the_string)\n",
    "print(\"Bytes: \", the_bytes)\n",
    "print(\"List: \", the_list)\n",
    "print(\"Tuple: \", the_tuple)"
   ]
  },
  {
   "cell_type": "markdown",
   "metadata": {},
   "source": [
    "Note that the bytearray's string representation is proceeded by a \"b\". That's just a visual indicator that the object is stored as bytes. Other annotations you might encounter include :\n",
    "u (Unicode, in Python 2.x) r (asks Python to interpret \\n \\t, and other format characters literally).\n",
    "\n",
    "As is the case with strings, it's possible to create several objects directly using the appropriate braces. This approach is called \"duck typing\" – from the interpreter's perspective, if it walks like a duck and quacks like a duck, it must be a duck. \n",
    "\n",
    "These all work:"
   ]
  },
  {
   "cell_type": "code",
   "execution_count": 202,
   "metadata": {},
   "outputs": [
    {
     "name": "stdout",
     "output_type": "stream",
     "text": [
      "List\n",
      "[\"what's\", 'up', 'doc?']\n",
      "<class 'list'>\n",
      "\n",
      "Dictionary\n",
      "{'a': 'eh', 'b': 'bee', 'c': 'see'}\n",
      "<class 'dict'>\n",
      "\n",
      "Tuple\n",
      "(1, 3, 4)\n",
      "<class 'tuple'>\n"
     ]
    }
   ],
   "source": [
    "another_list = [\"what's\", 'up', 'doc?']\n",
    "print('List')\n",
    "print(another_list)\n",
    "print(type(another_list))\n",
    "print()\n",
    "\n",
    "a_dict = {'a':'eh', 'b':'bee', 'c':'see'}\n",
    "print('Dictionary')\n",
    "print(a_dict)\n",
    "print(type(a_dict))\n",
    "print()\n",
    "      \n",
    "my_tuple = (1,3,4)\n",
    "print(\"Tuple\")\n",
    "print(my_tuple)\n",
    "print(type(my_tuple))"
   ]
  },
  {
   "cell_type": "markdown",
   "metadata": {},
   "source": [
    "Naturally, any of objects can be directly created with a constructor (using the object name as a verb). \n",
    "\n",
    "This can take the guess work out of the situation. Here's an example for the **set**[29] object:"
   ]
  },
  {
   "cell_type": "code",
   "execution_count": 211,
   "metadata": {},
   "outputs": [
    {
     "name": "stdout",
     "output_type": "stream",
     "text": [
      "An empty set:  set()\n",
      "A one-element set:  {1}\n"
     ]
    }
   ],
   "source": [
    "favorite_set = set()\n",
    "type(favorite_set)\n",
    "print(f\"An empty set:  {favorite_set}\")   \n",
    "\n",
    "favorite_set.add(1)\n",
    "print(f\"A one-element set:  {favorite_set}\")"
   ]
  },
  {
   "cell_type": "markdown",
   "metadata": {},
   "source": [
    "Python is not strongly typed (at first, anyway).  Unlike many languages, Python does not enforce variable declaration and homogenous types within a collection structure. In fact, it's very cavalier about use and reuse of variable names[30]."
   ]
  },
  {
   "cell_type": "code",
   "execution_count": 218,
   "metadata": {},
   "outputs": [
    {
     "name": "stdout",
     "output_type": "stream",
     "text": [
      "['some', 'list', 'of', 4, 'elements']\n",
      "\n",
      "----------\n"
     ]
    }
   ],
   "source": [
    "reusable = \"green\"\n",
    "reusable = 1\n",
    "reusable = [\"some\", \"list\", \"of\", 4, \"elements\"]\n",
    "print(reusable)\n",
    "print()\n",
    "\n",
    "reusable = None\n",
    "reusable is None  # (How to check for a None type.)\n",
    "reusable          # (prints as 'None'.  In REPL, does not display anything.)\n",
    "print('-' * 10)\n"
   ]
  },
  {
   "cell_type": "markdown",
   "metadata": {},
   "source": [
    "Creating Index Values with enumerate\n",
    "------------------------------------\n",
    "\n",
    "Although you don't need to create index values for your loop, you can get some easily by using the built-in **enumerate** method.  It produces tuples of (index, object in iterable).\n",
    "\n",
    "Here's how you might apply it:"
   ]
  },
  {
   "cell_type": "code",
   "execution_count": 219,
   "metadata": {},
   "outputs": [
    {
     "name": "stdout",
     "output_type": "stream",
     "text": [
      "(0, 'apple')\n",
      "(1, 'banana')\n",
      "(2, 'kiwi')\n"
     ]
    }
   ],
   "source": [
    "fruits = ('apple', 'banana', 'kiwi')\n",
    "for snack_and_index in enumerate(fruits):\n",
    "    print(snack_and_index)"
   ]
  },
  {
   "cell_type": "markdown",
   "metadata": {},
   "source": [
    "Here, we created a tuple of fruits. Within the **for** statement we applied **enumerate**. For each element of the tuple, **enumerate (**returned a **tuple** of (index, element\\_value) ).\n",
    "\n",
    "We can upgrade this a bit by applying some print formatting and by \"unpacking\" the **tuple** returned. \n",
    "\n",
    "Here's how might work:"
   ]
  },
  {
   "cell_type": "code",
   "execution_count": 220,
   "metadata": {},
   "outputs": [
    {
     "name": "stdout",
     "output_type": "stream",
     "text": [
      "fruit #1 is a(n) apple\n",
      "fruit #2 is a(n) banana\n",
      "fruit #3 is a(n) kiwi\n"
     ]
    }
   ],
   "source": [
    "fruits = (\"apple\", \"banana\", \"kiwi\")\n",
    "start_at = 1\n",
    "for index, snack in enumerate(fruits, start_at):\n",
    "    print(\"fruit #{} is a(n) {}\".format(index, snack))"
   ]
  },
  {
   "cell_type": "markdown",
   "metadata": {},
   "source": [
    "The names \"snack\" and \"index\" have been successively associated with values contained within the **tuples** provided by **enumerate**, and are available within the indented suite. You can see that the names are \"recycled\" at each iteration. We provided an optional argument \"start\\_at\" to select the first value of the index produced. If you don't provide the argument, the first index value will be zero."
   ]
  },
  {
   "cell_type": "markdown",
   "metadata": {},
   "source": [
    "Slices and Sequence Indexing\n",
    "----------------------------\n",
    "\n",
    "So far, we have looked at really small, manageable sequences where it's easy and cheap enough to iterate through all the elements. However, in real-life situations we're likely to encounter structures that contain millions of elements. If we have some *a priori* knowledge of where the element we're looking for lives, or if we want to apply something better than a brute-force search algorithm, we would want a more clever way to approach sequences.\n",
    "\n",
    "Fortunately, Python supports the ability to \"slice\" a sequence using index values.  Slicing and indexing prove to be very important when wrangling array-like objects such as those in Numpy and Pandas.\n",
    "\n",
    "For instance, you can go:"
   ]
  },
  {
   "cell_type": "code",
   "execution_count": 223,
   "metadata": {},
   "outputs": [
    {
     "name": "stdout",
     "output_type": "stream",
     "text": [
      "Everything: [0, 1, 2, 3, 4, 5, 6, 7, 8, 9]\n",
      "\n",
      "A slice: [0, 2, 4]\n"
     ]
    }
   ],
   "source": [
    "the_list = list(range(0,10))\n",
    "print(\"Everything:\", the_list)\n",
    "print()\n",
    "print(\"A slice:\", the_list[0:6:2])"
   ]
  },
  {
   "cell_type": "markdown",
   "metadata": {},
   "source": [
    "The general syntax is:\n",
    "\n",
    "\\<iterable\\>\\[ \\<start\\> : \\<stop\\> : \\<stride\\> \\]\n",
    "\n",
    "The start, stop, and stride parameters are all optional. Be default start is the first element of the sequence, stop is the last element, and stride is 1.\n",
    "\n",
    "In the simplest form, the entire sequence will be produced:"
   ]
  },
  {
   "cell_type": "code",
   "execution_count": 224,
   "metadata": {},
   "outputs": [
    {
     "data": {
      "text/plain": [
       "[0, 1, 2, 3, 4, 5, 6, 7, 8, 9]"
      ]
     },
     "execution_count": 224,
     "metadata": {},
     "output_type": "execute_result"
    }
   ],
   "source": [
    "the_list[:] # [::] works the same"
   ]
  },
  {
   "cell_type": "markdown",
   "metadata": {},
   "source": [
    "Let's go back and look at the first slicing example. One might expect that the last element produced would be 6 – after all, isn't that what we requested with the stop parameter? Not so – the last element produced is the one <span class=\"underline\">before</span> the stop parameter … something to keep in mind to avoid surprises[31].\n",
    "\n",
    "Python also has a built-in **slice** object, which works just like the index specifications above. Note that it's applied with \\[square brackets\\], just like the hard-coded slice."
   ]
  },
  {
   "cell_type": "code",
   "execution_count": 232,
   "metadata": {},
   "outputs": [
    {
     "name": "stdout",
     "output_type": "stream",
     "text": [
      "Slice object\n",
      "<class 'slice'>\n",
      "\n",
      "A slice: [0, 2, 4]\n"
     ]
    }
   ],
   "source": [
    "slicer = slice(0,6,2)\n",
    "\n",
    "print(\"Slice object\")\n",
    "print(type(slicer))\n",
    "print()\n",
    "print(\"A slice:\", the_list[slicer])"
   ]
  },
  {
   "cell_type": "markdown",
   "metadata": {},
   "source": [
    "Using the **slice** object can make your code much easier to maintain because you don't have to fiddle with hard-coded index values. It can be especially useful if you're parsing data whose format is likely to change and over which you have little control (like text scraped from a web site).    \n",
    "\n",
    "A few **slice** objects at the top of your code could make adjustments / updates a snap. This being said, if its specification is too \"distant\" from where it's being applied your code could become less transparent for human consumers.\n",
    "\n",
    "The main difference between using a **slice** object and the hard-coded version is that all the parameters (start, stop, and stride) have to be supplied.  If you don't care to supply your own value, just use the **None** object as a placeholder and you'll get the default value.\n",
    "\n",
    "Here are a few additional examples of how you might use slices:"
   ]
  },
  {
   "cell_type": "code",
   "execution_count": 239,
   "metadata": {},
   "outputs": [
    {
     "name": "stdout",
     "output_type": "stream",
     "text": [
      "Slice :  slice(3, 10, None) \n",
      "\n",
      "Slice a list:  [3, 4, 5, 6, 7, 8, 9] \n",
      "\n",
      "Alt. syntax :  [3, 4, 5, 6, 7, 8, 9] \n",
      "\n",
      "The whole string:  strings are sequences with an encoding\n",
      "Slice a string:  ings ar\n",
      "Skipping:  srnsaesqecswt necdn \n",
      "\n",
      "A clean copy, as a new object: [0, 1, 2, 3, 4, 5, 6, 7, 8, 9]\n"
     ]
    }
   ],
   "source": [
    "the_string = \"strings are sequences with an encoding\"\n",
    "the_list = list(range(0,10))\n",
    "the_slice = slice(3, 10) # positions 3...9 inclusive\n",
    "\n",
    "print(\"Slice : \", the_slice, \"\\n\")\n",
    "print(\"Slice a list: \", the_list[3:10], \"\\n\") # typical\n",
    "print(\"Alt. syntax : \", the_list.__getitem__(the_slice), \"\\n\") # more verbose\n",
    "\n",
    "print(\"The whole string: \",the_string[:]) # all\n",
    "print(\"Slice a string: \", the_string[3:10])\n",
    "print(\"Skipping: \",the_string[::2], \"\\n\") # step by 2\n",
    "\n",
    "new_list = the_list[:] # same as the_list.copy()\n",
    "print(\"A clean copy, as a new object:\", new_list)"
   ]
  },
  {
   "cell_type": "markdown",
   "metadata": {},
   "source": [
    "Dictionaries in Python\n",
    "----------------------\n",
    "\n",
    "Python supports dictionary objects, known to some languages as \"hash tables\" or \"hash mappings.\" The basic object, **dict**, is built into the language and variants of it, such as the **OrderedDict** are available in the **collections** library[32].\n",
    "\n"
   ]
  },
  {
   "cell_type": "markdown",
   "metadata": {},
   "source": [
    "Basics\n",
    "------\n",
    "\n",
    "A **dict** object is another form of a collection – it has some important differences from sequence objects like the **list** and string. Among these:\n",
    "\n",
    "-   Since it's a hash[33] (optimized for efficiency) the elements are\n",
    "    not in any guaranteed order. In other words, the act of adding an\n",
    "    element can change the order of the others.\n",
    "\n",
    "-   Operations like slicing, indexing, etc. are not available because\n",
    "    they're dependent on the ordering of the elements.\n",
    "\n",
    "The **dict** is essentially a one-way lookup table. Given a unique key, one can efficiently find its associated value. However, since values are not necessarily unique you can't go the other way (you can't use a value to look up a key).\n",
    "\n",
    "Here's some basic usage:"
   ]
  },
  {
   "cell_type": "code",
   "execution_count": 251,
   "metadata": {},
   "outputs": [
    {
     "name": "stdout",
     "output_type": "stream",
     "text": [
      "The dict: {'key': 'value', 'A': 2, 'B': 3} \n",
      "\n",
      "Are the dicts the same? True \n",
      "\n",
      "We added a new key:value pair:  {'key': 'value', 'A': 2, 'B': 3, 'C': 3} \n",
      "\n",
      "The value associated with 'C' is: 3 \n",
      "\n",
      ".. and yet again: {'key': 'value', 'A': 2, 'B': 3, 'C': 3}\n",
      "\n",
      "The value I got with a bad key is: 'some default value'.\n"
     ]
    }
   ],
   "source": [
    "# Alternative syntax for creation\n",
    "the_dict = {\"key\":\"value\", \"A\":2, \"B\":3}\n",
    "same_dict = dict(key = \"value\", A = 2, B = 3)\n",
    "\n",
    "print (\"The dict:\", the_dict, '\\n')\n",
    "print(\"Are the dicts the same?\", the_dict == same_dict, '\\n')\n",
    "\n",
    "# One way to add a key:value pair \n",
    "the_dict['C'] = 3\n",
    "print(\"We added a new key:value pair: \", the_dict, '\\n')\n",
    "\n",
    "# One way to extract a value if you know the key is good.\n",
    "my_value = the_dict['C']\n",
    "print(f\"The value associated with 'C' is: {my_value} \\n\")\n",
    "\n",
    "# One way to extract a value if the key is sketchy.\n",
    "my_value = the_dict.get('D', \"some default value\")\n",
    "print(\".. and yet again:\", the_dict)\n",
    "print()\n",
    "print(\"The value I got with a bad key is: '{}'.\".format(my_value))"
   ]
  },
  {
   "cell_type": "markdown",
   "metadata": {},
   "source": [
    "Using get\n",
    "---------\n",
    "\n",
    " While it's completely OK to call a value out by name, if that value does not exist a **KeyError** exception will occur. The **get** method allows you to provide some default value in this case (or if you don't, a valid **None** object will be returned). \n",
    " \n",
    " Here's a quick example:\n"
   ]
  },
  {
   "cell_type": "code",
   "execution_count": 256,
   "metadata": {},
   "outputs": [
    {
     "name": "stdout",
     "output_type": "stream",
     "text": [
      "The raspberry is more properly called a rubus.\n",
      "\n",
      "The alder is more properly called a SOMETHING. I dunno.\n",
      "\n",
      "Dude, I'm looking for sumak, but I give up ;-)\n"
     ]
    }
   ],
   "source": [
    "plant_dict = {'raspberry': 'rubus',\n",
    "              'elm': 'ulmus',\n",
    "              'maple': 'acer'\n",
    "              }\n",
    "\n",
    "# create a format string\n",
    "fmt_str = \"The {} is more properly called a {}.\\n\"\n",
    "\n",
    "# get with no argument\n",
    "look_for = 'raspberry'\n",
    "found = plant_dict.get(look_for)\n",
    "print(fmt_str.format(look_for, found))\n",
    "\n",
    "# get with a default value\n",
    "look_for = 'alder'\n",
    "default = 'SOMETHING. I dunno'\n",
    "found = plant_dict.get(look_for, default)\n",
    "print(fmt_str.format(look_for, found))\n",
    "\n",
    "# get with default None\n",
    "look_for = 'sumak'\n",
    "default = None\n",
    "found = plant_dict.get(look_for, default)\n",
    "if found:\n",
    "    print(fmt_str.format(look_for, found))\n",
    "else:\n",
    "    print(f\"Dude, I'm looking for {look_for}, but I give up ;-)\")"
   ]
  },
  {
   "cell_type": "markdown",
   "metadata": {},
   "source": [
    "Keys are Immutable\n",
    "------------------\n",
    "\n",
    "The keys of a **dict** need to be unique and hashable. As a result, one of the requirements of a key is that be immutable[34]. To determine whether a proposed key is hashable, \"under the hood\" the interpreter looks for the **\\_\\_hash\\_\\_** \"magic method\", and uses the hash thus produced for internal bookkeeping. \n",
    "\n",
    "If there's no **\\_\\_hash\\_\\_** method, the proposed key won't qualify. As long as the key meets these requirements, it can be just about anything, though strings and integers are most commonly used."
   ]
  },
  {
   "cell_type": "markdown",
   "metadata": {},
   "source": [
    "Useful Dictionary Methods\n",
    "-------------------------\n",
    "\n",
    "Here's a little more code you can use to \"kick the tires\" on the **dict** object. Note the use of the **update** method of the **dict** object and the top-level **del**[35] method."
   ]
  },
  {
   "cell_type": "code",
   "execution_count": 263,
   "metadata": {},
   "outputs": [
    {
     "name": "stdout",
     "output_type": "stream",
     "text": [
      "The dict is now:  {'team': 'Cubs', 'town': 'Chicago', 'rival': 'Cards'}.\n",
      "\n",
      "The key is team and value is Cubs.\n",
      "The key is town and value is Chicago.\n",
      "The key is rival and value is Cards.\n",
      "Let's get rid of a rival \n",
      "\n",
      "By the grace of a top-level function, the Cards are gone.\n",
      "\n",
      "The dict is now:  {'team': 'Cubs', 'town': 'Chicago'}\n"
     ]
    }
   ],
   "source": [
    "mydict = {}\n",
    "mydict['team'] = 'Cubs'\n",
    "\n",
    "# Another way to add elements us via update.  For input, just about any iterable t\n",
    "#    that's comprised of 2-element iterables will work.\n",
    "mydict.update([('town', 'Chicago'), ('rival', 'Cards')])\n",
    "print(f\"The dict is now:  {mydict}.\\n\")\n",
    "\n",
    "# we can print it out using the items method (it returns a tuple)\n",
    "for key, value in mydict.items():\n",
    "    print(\"The key is {} and value is {}.\".format(key, value))\n",
    "    \n",
    "\n",
    "# and evaluates left to right; this protects from crashes if no 'rival'\n",
    "print(\"Let's get rid of a rival \\n\")\n",
    "if \"rival\" in mydict and mydict['rival'] == 'Cards':\n",
    "    del(mydict['rival'])   #top-level method\n",
    "\n",
    "print(\"By the grace of a top-level function, the Cards are gone.\\n\")\n",
    "print(f\"The dict is now:  {mydict}\")"
   ]
  },
  {
   "cell_type": "markdown",
   "metadata": {},
   "source": [
    "You can extract the keys and values by the cleverly-named **keys** and **values** methods. These return iterable objects containing the appropriate values.\n",
    "\n",
    "You will notice from the representations of the keys and values that they are their own special objects.  We can easily type-cast them to more usable objects using the constructor for a collection."
   ]
  },
  {
   "cell_type": "code",
   "execution_count": 269,
   "metadata": {},
   "outputs": [
    {
     "name": "stdout",
     "output_type": "stream",
     "text": [
      "Keys: dict_keys(['key', 'A', 'B'])\n",
      "Values: dict_values(['value', 2, 3])\n",
      "\n",
      "Values as a list object: ['value', 2, 3]\n"
     ]
    }
   ],
   "source": [
    "the_dict = {\"key\":\"value\", \"A\":2, \"B\":3}\n",
    "\n",
    "keys = the_dict.keys()\n",
    "print(f\"Keys: {keys}\")\n",
    "\n",
    "vals = the_dict.values()\n",
    "print(f\"Values: {vals}\\n\")\n",
    "\n",
    "print(f\"Values as a list object: {list(vals)}\")"
   ]
  },
  {
   "cell_type": "markdown",
   "metadata": {},
   "source": [
    "Another way to remove elements from a **dict** is to use its **pop** and **popitem** methods. These not only remove elements, but return the element removed. \n",
    "\n",
    "Here's how you might employ these methods:"
   ]
  },
  {
   "cell_type": "code",
   "execution_count": 276,
   "metadata": {},
   "outputs": [
    {
     "name": "stdout",
     "output_type": "stream",
     "text": [
      "dict is: {'team': 'Cubs', 'town': 'Chicago', 'rival': 'Cards'}\n",
      "\n",
      "We've removed: Cards.\n",
      "\n",
      "The dict is now: {'team': 'Cubs', 'town': 'Chicago'}.\n",
      "\n",
      "sorry, no 'bad key'' here.\n"
     ]
    }
   ],
   "source": [
    "my_dict = {'team': \"Cubs\", \"town\": \"Chicago\", \"rival\": \"Cards\"}\n",
    "print(\"dict is: {}\\n\".format(my_dict))\n",
    "\n",
    "\n",
    "# Use popitem to get some (unknown) item (crashes if empty dict).\n",
    "if my_dict:\n",
    "    key, value = my_dict.popitem()\n",
    "    print(f\"We've removed: {value}.\\n\")\n",
    "    print(f\"The dict is now: {my_dict}.\\n\")\n",
    "\n",
    "# With pop we can pick a key and use a default, just in case.\n",
    "default = None\n",
    "looking_for = 'bad key'\n",
    "key_value_tuple = my_dict.pop(looking_for, default)\n",
    "if key_value_tuple:\n",
    "    print(\"{} is {}\\n.\".format(looking_for, key_value_tuple))\n",
    "else:\n",
    "    print(\"Sorry, no '{}'' here.\".format(looking_for))"
   ]
  },
  {
   "cell_type": "markdown",
   "metadata": {},
   "source": [
    "Sorting a Dictionary\n",
    "--------------------\n",
    "A word about dict sequencing.   It's important to note that most 'flavors' of Python have been using an ordered version of dict objects since Version 3.6.   That is the key:value pairs are stored in the order loaded into the dict.   Earlier versions allowed the key:value pairs to shift positions in the interest of efficiency.   If you need your code to run on older versions of Python, you'll want to choose a collections.OrderedDict object instead of the normal dict object.\n",
    "\n",
    "\n",
    "Occasionally, you'll want to sort the contents of a **dict** by keys. This is a snap because they're guaranteed to be unique and have a natural \"sort order.\"  We can accomplish sorting by keys succinctly by applying the top-level **sorted** method (this is not part of the list object).\n",
    "\n",
    "You'll note that the we have chained operations together in the example below.  This is extremely common in Python and is considered a sign of elegant parsimony.   Python begins by solving the inner-most bit of a nested expression then feeds the result to the next-inner-most bit ... and so on.\n",
    "\n",
    "It can be horrible for the new user, so we'll do it one step at a time first:"
   ]
  },
  {
   "cell_type": "code",
   "execution_count": 279,
   "metadata": {},
   "outputs": [
    {
     "name": "stdout",
     "output_type": "stream",
     "text": [
      "['rival', 'team', 'town']\n"
     ]
    }
   ],
   "source": [
    "# The long way:\n",
    "my_dict = {'team': \"Cubs\", \"town\": \"Chicago\", \"rival\": \"Cards\"}\n",
    "keys = my_dict.keys()                           # the dict_key object\n",
    "list_of_keys = list(keys)                       # a list version\n",
    "sorted_list_of_keys = sorted(list_of_keys)    # a sorted version of the list\n",
    "print(sorted_list_of_keys)"
   ]
  },
  {
   "cell_type": "code",
   "execution_count": 280,
   "metadata": {},
   "outputs": [
    {
     "name": "stdout",
     "output_type": "stream",
     "text": [
      "['rival', 'team', 'town']\n"
     ]
    }
   ],
   "source": [
    "# The 'Pythonic' way:\n",
    "print(sorted(list(my_dict.keys())))"
   ]
  },
  {
   "cell_type": "markdown",
   "metadata": {},
   "source": [
    "Sorting by values is a little tougher, but here's how you can do it. You need to provide a short routine that returns a value if you give it a key. If you provide it to the **list** object's **sort** method[36], it will use the routine to guide its efforts. We'll get into functions more later. For now, know that the general form is:\n",
    "\n",
    "<function\\_name>():\n",
    "\n",
    "    <indented suite>\n",
    "\n",
    "It can take zero or more arguments and optionally return an object of your choice.\n",
    "\n",
    "The **sort** command by default will sort the elements \"naturally\" – alphabetically if strings and numerically otherwise. You can influence that behavior by giving it something else besides the **list** elements to sort \"naturally\". It could be anything – a random number, word count, the last letter of a word, etc. Things will be sorted by whatever is returned by the sorter routine you write.\n",
    "\n",
    "This is what a \"null sorter\" would look like (it returns exactly what we passed it):"
   ]
  },
  {
   "cell_type": "code",
   "execution_count": 281,
   "metadata": {},
   "outputs": [],
   "source": [
    "def sorter(key):\n",
    "    \"simply returns what's provided i.e., contributes nothing\"\n",
    "    return key"
   ]
  },
  {
   "cell_type": "markdown",
   "metadata": {},
   "source": [
    "We can invoke a list object's sort() method to sort the elements of the list.   Behind the scenes, it uses the null sorter to get the job done.    In other words, it uses the natural sort order of the stuff in the list.\n",
    "\n",
    "You can roll your own sorter, if you want.   When you do, Python essentially feeds each element of the list into the routine you provide.  \n",
    "\n",
    "Here's how it works: whatever is returned by the routine gets 'paired up' with each element.  The returned values are things that get sorted - not the original list contents.   When the sort is completed, the returned values go away leaving the list elements in the proper order.\n",
    "\n",
    "Here's an example:"
   ]
  },
  {
   "cell_type": "code",
   "execution_count": 282,
   "metadata": {},
   "outputs": [
    {
     "name": "stdout",
     "output_type": "stream",
     "text": [
      "rival Cards\n",
      "town Chicago\n",
      "team Cubs\n"
     ]
    }
   ],
   "source": [
    "def sorter(key):\n",
    "    \"Creates a sort using the value associated with a dict key\"\n",
    "    return my_dict[key]\n",
    "\n",
    "my_dict = {'team': \"Cubs\", \"town\": \"Chicago\", \"rival\": \"Cards\"}\n",
    "key_list = list(my_dict.keys())\n",
    "key_list.sort(key = sorter)\n",
    "\n",
    "for key in key_list:\n",
    "    print(key, my_dict[key])\n"
   ]
  },
  {
   "cell_type": "markdown",
   "metadata": {},
   "source": [
    "Miscellaneous Notes on dict Objects\n",
    "-----------------------------------\n",
    "\n",
    "Many Python applications, such as Pandas, build user-friendly array indices using objects built on dict-like objects.   Essentially, one can specify row and column names in human terms.  The human terms get mapped to pointers and other computer-friendly objects.   In this way dict-like objects form a cognitive bridge between the human and computer worlds.\n",
    "\n",
    "You can use dictionaries to hold elements of sparse arrays by using **tuple**s as keys. Let's say you wanted to model movements of goldfish in a tank. You could account for each cubic centimeter of water and monitor each fish passage in and out – you might use a dense 3-D array for that. Perhaps more efficiently, you could monitor the fish themselves by providing a three-**tuple** to represent the current location of each. \n",
    "\n",
    "This **dict** uses **tuples** for keys:"
   ]
  },
  {
   "cell_type": "code",
   "execution_count": 283,
   "metadata": {},
   "outputs": [
    {
     "data": {
      "text/plain": [
       "23"
      ]
     },
     "execution_count": 283,
     "metadata": {},
     "output_type": "execute_result"
    }
   ],
   "source": [
    "array_dict = {(0, 0, 0): 12, (2, 4, 98): 23}\n",
    "array_dict[(2, 4, 98)]"
   ]
  },
  {
   "cell_type": "markdown",
   "metadata": {},
   "source": [
    "Keys can be heterogeneous, as can the values. This is a valid **dict**:"
   ]
  },
  {
   "cell_type": "code",
   "execution_count": 284,
   "metadata": {},
   "outputs": [
    {
     "data": {
      "text/plain": [
       "{'a': 1, (1, 3, 4): 'x'}"
      ]
     },
     "execution_count": 284,
     "metadata": {},
     "output_type": "execute_result"
    }
   ],
   "source": [
    "hetero_dict = {'a': 1, (1,3,4): \"x\"}\n",
    "hetero_dict"
   ]
  },
  {
   "cell_type": "markdown",
   "metadata": {},
   "source": [
    "If a **dict** has a key named \"a\", and you provide a new element who's key is 'a', the original will be replaced.\n"
   ]
  },
  {
   "cell_type": "code",
   "execution_count": 287,
   "metadata": {},
   "outputs": [
    {
     "name": "stdout",
     "output_type": "stream",
     "text": [
      "Original: {'a': 3, 'b': 88}\n",
      "Updated: {'a': 'Godzilla!', 'b': 88}\n"
     ]
    }
   ],
   "source": [
    "new_dict = dict( ( ('a', 3), ('b', 88) ) )\n",
    "print(\"Original:\", new_dict)\n",
    "\n",
    "new_dict['a'] = \"Godzilla!\"\n",
    "print(\"Updated:\",new_dict)"
   ]
  },
  {
   "cell_type": "markdown",
   "metadata": {},
   "source": [
    "## Memory Considerations\n",
    "Adding elements one at a time can be expensive, especially as the **dict** grows. That's because the entire object needs to be copied to a new patch of memory if it grows past its allocated space. It's more efficient to use an *en masse* operation like **update**."
   ]
  },
  {
   "cell_type": "markdown",
   "metadata": {},
   "source": [
    "The set Object and List Comprehension\n",
    "-------------------------------------\n",
    "\n",
    "The **set** object is a mighty useful arrow in your quiver. A **set** is essentially a collection of unique objects. The **set** is another hash object, making retrieval of objects very efficient, even when the **set** is large.\n",
    "\n",
    "The fact that a **set** contains only unique objects makes it great for an automatic de-duplicator. If you try to add an object that already exists, the attempted addition fails silently. \n",
    "\n",
    "Here's a common idiom to de-dup a **list**:"
   ]
  },
  {
   "cell_type": "code",
   "execution_count": 288,
   "metadata": {},
   "outputs": [
    {
     "data": {
      "text/plain": [
       "{1, 2, 3, 4, 5}"
      ]
     },
     "execution_count": 288,
     "metadata": {},
     "output_type": "execute_result"
    }
   ],
   "source": [
    "set([1,1,2,2,2,3,3,4,5])"
   ]
  },
  {
   "cell_type": "markdown",
   "metadata": {},
   "source": [
    "Here's a slightly more complicated example, this one using a \"list\n",
    "comprehension\" to create a set of random numbers using the random\n",
    "library.    Here it is, quickly.  \n",
    "\n",
    "Yes, it's horrible the first time you see it (very Pythonic), but we'll explain."
   ]
  },
  {
   "cell_type": "code",
   "execution_count": 296,
   "metadata": {},
   "outputs": [
    {
     "name": "stdout",
     "output_type": "stream",
     "text": [
      "we found 630 unique values!\n"
     ]
    }
   ],
   "source": [
    "import random\n",
    "values = 1000\n",
    "dedup = set([int(1000*random.random()) for i in range(values)])\n",
    "print(\"we found {} unique values!\".format(len(dedup)))"
   ]
  },
  {
   "cell_type": "code",
   "execution_count": 297,
   "metadata": {},
   "outputs": [],
   "source": [
    "# The long way, using the list append() method."
   ]
  },
  {
   "cell_type": "code",
   "execution_count": 298,
   "metadata": {},
   "outputs": [
    {
     "name": "stdout",
     "output_type": "stream",
     "text": [
      "we found 629 unique values!\n"
     ]
    }
   ],
   "source": [
    "random_list = []\n",
    "for i in range(values):\n",
    "    rand_num = random.random()\n",
    "    rand_int = int(rand_num * 1000)\n",
    "    random_list.append(rand_int)\n",
    "dedup = set(random_list)"
   ]
  },
  {
   "cell_type": "markdown",
   "metadata": {},
   "source": [
    "**Sets** have built-in methods for efficiently finding unions and intersections. A union is a **set** of every unique element from both sets combined. An intersection is a **set** of the elements found in both. This code serves to illustrate how you might apply them using the \"**&**\" and \"**\\|**\" operators:"
   ]
  },
  {
   "cell_type": "code",
   "execution_count": 300,
   "metadata": {},
   "outputs": [
    {
     "name": "stdout",
     "output_type": "stream",
     "text": [
      "Set:  {'monkey', 'gorilla', 'cat', 'dog'}\n",
      "Set:  {'gorilla', 'cat', 'dog', 'monkey', 'parrot'}\n",
      "Set intersection: {'gorilla'}\n",
      "Set union: {'gorilla', 'elephant', 'cat', 'dog', 'monkey', 'parrot', 'chicken', 'pig'}\n"
     ]
    }
   ],
   "source": [
    "the_set = {\"monkey\", \"gorilla\", \"dog\", \"cat\"}\n",
    "print(\"Set: \", the_set)\n",
    "the_set.add(\"parrot\")\n",
    "print(\"Set: \", the_set)\n",
    "other_set = {\"gorilla\", \"elephant\", \"pig\", \"chicken\"}\n",
    "print(\"Set intersection:\", the_set & other_set)\n",
    "print(\"Set union:\", the_set | other_set)"
   ]
  },
  {
   "cell_type": "markdown",
   "metadata": {},
   "source": [
    "Note that although this example uses the \"\\|\" and \"&\" operators with two **set** objects, there's no limit to the number of objects in play. If a, b, and c are all **sets**, you can go a&b&c or a\\|b\\|c."
   ]
  },
  {
   "cell_type": "markdown",
   "metadata": {},
   "source": [
    "Named Tuples\n",
    "------------\n",
    "\n",
    "**The namedtuple** object is something of a hybrid between a **tuple** and a **dict**. Each **namedtuple** can be instantiated into your current namespace as a 'normal' **tuple**, but the wrinkle is that you can provide each element an alias (nickname) so you can refer to it easily. It's not part of basic Python so you need to **import** it from the collections library.\n",
    "\n",
    "Here's some code to play with which shows the basic functionality. Note that you can address these objects like dictionaries, but can also use them as **tuples**."
   ]
  },
  {
   "cell_type": "code",
   "execution_count": 302,
   "metadata": {},
   "outputs": [
    {
     "name": "stdout",
     "output_type": "stream",
     "text": [
      "Animal(species='gorilla', name='magilla')\n",
      "Animal(species='gorilla', name='fred')\n",
      "magilla fred\n",
      "gorilla magilla\n"
     ]
    }
   ],
   "source": [
    "\"\"\"An introduction to the namedtuple object\"\"\"\n",
    "from collections import namedtuple\n",
    "\n",
    "#make a tuple with the tag 'Animal'\n",
    "Animal = namedtuple('Animal', ('species', 'name'))\n",
    "\n",
    "#specify this animal by providing the species and name\n",
    "a1 = Animal('gorilla', 'magilla')\n",
    "print(a1)\n",
    "\n",
    "#... and specify another\n",
    "a2 = Animal(species = 'gorilla', name = 'fred')\n",
    "print(a2)\n",
    "\n",
    "#we can call out the specifics using dot notation\n",
    "print(a1.name, a2.name)\n",
    "\n",
    "#... or, split the tuple containing the first animal\n",
    "myspecies, myname = a1\n",
    "print(myspecies, myname)"
   ]
  },
  {
   "cell_type": "markdown",
   "metadata": {},
   "source": [
    "Getting Fancier with the namedtuple Object\n",
    "------------------------------------------\n",
    "\n",
    "Here's a slightly more complicated example – something you might use if you were developing a chess game in Python. We won't elaborate this to completion – but it may be interesting practice. If you do the upgrade, you might look into using Unicode to represent your chess pieces[38] (Python 3 is Unicode-compliant[39]).\n",
    "\n",
    "This code develops a two-dimensional grid using a **list** of **namedtuple** objects. This is a simple way to whistle up a 2-d array-like structure using only basic Python tools.\n",
    "\n",
    "You can see that each of the **namedtuple** objects carries with several properties, nicely bundled, and transparently addressed. In this sense, the objects we're creating here are a bit like the build-in Python objects – they're already endowed with \"out of the box\" capabilities.\n"
   ]
  },
  {
   "cell_type": "code",
   "execution_count": 305,
   "metadata": {},
   "outputs": [
    {
     "name": "stdout",
     "output_type": "stream",
     "text": [
      "RKBQKBKR\n",
      "PPPPPPPP"
     ]
    }
   ],
   "source": [
    "from collections import namedtuple\n",
    "\n",
    "Piece = namedtuple('Piece', 'type color position symbol')\n",
    "\n",
    "# a list of lists is a really useful data structure\n",
    "grid = []\n",
    "for r in range(8):\n",
    "    grid.append([None, None, None, None, None, None, None, None])\n",
    "\n",
    "grid[7] = [\n",
    "            Piece(\"Rook\", \"black\", [7, 0], \"R\"),\n",
    "            Piece(\"Knight\", \"black\", [7, 1], \"K\"),\n",
    "            Piece(\"Bishop\", \"black\", [7, 2], \"B\"),\n",
    "            Piece(\"Queen\", \"black\", [7, 3], \"Q\"),\n",
    "            Piece(\"King\", \"black\", [7, 4], \"K\"),\n",
    "            Piece(\"Bishop\", \"black\", [7, 5], \"B\"),\n",
    "            Piece(\"Knight\", \"black\", [7, 6], \"K\"),\n",
    "            Piece(\"Rook\", \"black\", [7, 7], \"R\")\n",
    "            ]\n",
    "\n",
    "grid[6] = []\n",
    "for c in range(8):\n",
    "    p = Piece(\"Pawn\", \"black\", [6, c], \"P\")\n",
    "    grid[6].append(Piece(\"Pawn\", \"black\", [6, c], \"P\"))\n",
    "    \n",
    "for p in grid[7]:\n",
    "    print(p.symbol, end=\"\")\n",
    "print()    \n",
    "for p in grid[6]:\n",
    "    print(p.symbol, end=\"\")"
   ]
  },
  {
   "cell_type": "markdown",
   "metadata": {},
   "source": [
    "Copying Sequences\n",
    "-----------------\n",
    "\n",
    "In Python, it's possible to have multiple names associated with the same object. This can be really handy but the convenience comes with a cost: the only way to tell for sure is with the object's **id**. \n",
    "\n",
    "Here are a couple trivial examples that show the potential pitfalls:"
   ]
  },
  {
   "cell_type": "code",
   "execution_count": 307,
   "metadata": {},
   "outputs": [
    {
     "name": "stdout",
     "output_type": "stream",
     "text": [
      "one: 1397955520816 one_prime 1397955520816\n",
      "Same object.\n"
     ]
    }
   ],
   "source": [
    "one = 1\n",
    "one_prime = 1\n",
    "print(\"one:\", id(one), \"one_prime\", id(one_prime))\n",
    "\n",
    "if id(one) == id(one_prime):\n",
    "    print( \"Same object.\")\n",
    "else:\n",
    "    print(\"Different objects.\")\n"
   ]
  },
  {
   "cell_type": "markdown",
   "metadata": {},
   "source": [
    "You run into this with collections, too. This code will demonstrate:"
   ]
  },
  {
   "cell_type": "code",
   "execution_count": 310,
   "metadata": {},
   "outputs": [
    {
     "name": "stdout",
     "output_type": "stream",
     "text": [
      "Make a list, then create a copy\n",
      "['Tony', 'Sally', 'George'] ['Tony', 'Sally', 'George']\n",
      "same list, right? True.\n",
      "\n",
      "Add someone to the a_list, leaving the b_list alone\n",
      "same list, right? True.\n",
      "\n",
      "Uh, what happened here?\n"
     ]
    }
   ],
   "source": [
    "def test_lists(first, second):\n",
    "    test_result = first == second\n",
    "    print(\"same list, right? {}.\".format(test_result))\n",
    "\n",
    "    if test_result == False:\n",
    "        print(\"first id is {} second id is {}.\"\\\n",
    "        .format(id(first), id(second)))\n",
    "\n",
    "print('Make a list, then create a copy')\n",
    "a_list = [\"Tony\", \"Sally\", \"George\"]\n",
    "b_list = a_list\n",
    "print(a_list, b_list)\n",
    "test_lists(a_list, b_list)\n",
    "\n",
    "#update the first list, but not the second.\n",
    "print(\"\\nAdd someone to the a_list, leaving the b_list alone\")\n",
    "a_list.append(\"Sam\")\n",
    "test_lists(a_list, b_list)\n",
    "\n",
    "print(\"\\nUh, what happened here?\")"
   ]
  },
  {
   "cell_type": "markdown",
   "metadata": {},
   "source": [
    "\"What happened here\" is that we have simply assigned two names to the same object (they have the same **id**).  Then we used one of the names to access, and change, the original object.\n",
    "\n",
    "Having multiple names for the same object is not too weird when you think about it.   The president is called \"the President\", \"POTUS\", \"Commander-in-Chief\" ... then you can read political columns to get even more names :-)   \n",
    "\n",
    "The point is that there can be many synonyms - \"aliases\" or \"names\" for any object because any of them are unique keys tied to the same dict object (that's just how Python keeps track of its namespaces) \n",
    "\n",
    "To get around this, you need to make a \"deep\" (true) copy. Here are some ways to do it:"
   ]
  },
  {
   "cell_type": "code",
   "execution_count": null,
   "metadata": {},
   "outputs": [],
   "source": [
    "new = old[:] #forces the list to iterate over itself\n",
    "new = list(old) #list constructor creates new object\n",
    "new = old.copy() #uses the list object's copy method"
   ]
  },
  {
   "cell_type": "markdown",
   "metadata": {},
   "source": [
    "One place this comes up in data science is working with slices of data structures.   Slices are really just aliases to part of an original object, much like a \"view\" into a database table provides access to part of that table.   When working with Numpy and Pandas, a very common way to hack into the relevant data involves creating a slice then manipulating it.  Numpy won't give you a warning, but Pandas will.  Unless you're really sure what you're doing, you will want to pay close attention and avoid the temptation to ignore or disable the warnings."
   ]
  },
  {
   "cell_type": "markdown",
   "metadata": {},
   "source": [
    "## Exercise:\n",
    "I just hired a new admin and it's not working out so well. I asked her to organize my Cubs player database. It turned out to be a disaster. After she quit, I found two versions of the database. Can you help? \n",
    "\n",
    "One version of the database (stored as a dict) uses the players' weights as the key. \n",
    "\n",
    "I'll spare the details, but it looks like this:"
   ]
  },
  {
   "cell_type": "code",
   "execution_count": 313,
   "metadata": {},
   "outputs": [],
   "source": [
    "players = { 185:('Tyler', 'Chatwood'),\n",
    "            219:('Luke', 'Farrell'),\n",
    "            190:('Kyle', 'Hendricks')\n",
    "          }"
   ]
  },
  {
   "cell_type": "markdown",
   "metadata": {},
   "source": [
    "Can you find a way, working only with code and this dictionary, to produce a nicely formatted table that's sorted by the players' last name?\n",
    "The other version was only a little better and organized by last name – sort of. There were lots of duplications caused by bad typing. \n",
    "\n",
    "Here's a bit of it:"
   ]
  },
  {
   "cell_type": "code",
   "execution_count": 314,
   "metadata": {},
   "outputs": [],
   "source": [
    "players = { 'Hendricks': ('Kyle', 225),\n",
    "            'HeNDricks': ('Kyle', 225),\n",
    "            'Hendrix': ('Kyle', 225) \n",
    "          }"
   ]
  },
  {
   "cell_type": "markdown",
   "metadata": {},
   "source": [
    "Can you find a way to clean this version up working with the set object?\n",
    "\n",
    "It's beyond the scope of this class, but just for fun you might look at the code in py_fuzzy_lookup.py. For ways to further refine. It demonstrates a tool that will let you find and score \"fuzzy\" (inexact) matches."
   ]
  },
  {
   "cell_type": "markdown",
   "metadata": {},
   "source": [
    "Functions\n",
    "=========\n",
    "\n",
    "Functions are just bits of code that encapsulate – you guessed it – functionality. We'll explore them in some depth in this chapter.\n",
    "\n",
    "You've already used several of them like **print**, **input**, and **bin**. You've used them with commands like **list.sort** – though, technically when contained within classes, they're called \"methods\". And we've just written a small function to sort **dict** objects by value.  You're already a getting to be a pro. You'll become more so by rolling a few of your own."
   ]
  },
  {
   "cell_type": "markdown",
   "metadata": {},
   "source": [
    "Scope of Names In a Module\n",
    "--------------------------\n",
    "\n",
    "Here are a couple example functions that each take a single, positional parameter. The first is pretty straightforward, and the second introduces the **global** keyword.\n",
    "\n",
    "In Python (and all languages) there's a notion of \"scope\" – that's the part of the code where a variable is visible. Indentation levels are a good gauge of scope within a module. The objects defined in the first column (setStar function and the variables STAR, Favorites and X) are visible throughout the module and are called \"globals\"[40]. Variables tucked away within a function e.g., title\\_length in section are visible only within that function, normally. These are called \"locals\"[41].\n",
    "\n",
    "If you want to enhance the visibility of the variable and make it global to the module, you can employ the **global** keyword, as is done in SetStar for the variable STAR. Once you do that, you facilitate \"two way communication\" with that STAR object and allow the function to alter the value . If you don't do that, the function can only alter the \"local copy\" of STAR[42]."
   ]
  },
  {
   "cell_type": "code",
   "execution_count": 317,
   "metadata": {},
   "outputs": [
    {
     "name": "stdout",
     "output_type": "stream",
     "text": [
      "local STAR:  Polaris\n",
      "global STAR:  Polaris\n"
     ]
    }
   ],
   "source": [
    "# Globals namespace\n",
    "STAR = \"Sirius\" # Polaris\n",
    "Favorites = [ ]\n",
    "X = 100\n",
    "\n",
    "def setStar(name): \n",
    "    \"\"\" Contains a local namespace just for this function.\"\"\"\n",
    "    #global STAR  #<---remove comment to map to global namespace\n",
    "    STAR = name\n",
    "    Favorites.append(name)\n",
    "    print(\"local STAR: \", STAR)\n",
    "    \n",
    "setStar(\"Polaris\")\n",
    "print(\"global STAR: \", STAR)#output"
   ]
  },
  {
   "cell_type": "markdown",
   "metadata": {},
   "source": [
    "Passing Information into a Function\n",
    "-----------------------------------\n",
    "\n",
    "You have a tremendous amount of flexibility around how, and whether, to pass information into functions. You can \"roll your own\" from some combination of fixed positional arguments (a contract between you and your function to provide a precise number or arguments); positional \"wildcard\" arguments (0 to a zillion arguments); specific key / value pairs; or \"wildcard\" key / value pairs (0 to a zillion). Here are some examples of the options available to you:\n",
    "\n",
    "The simplest of all functions can be constructed like this:\n",
    "\n"
   ]
  },
  {
   "cell_type": "code",
   "execution_count": null,
   "metadata": {},
   "outputs": [],
   "source": [
    "def simple():\n",
    "    \"a docstring, or the keyword pass\""
   ]
  },
  {
   "cell_type": "markdown",
   "metadata": {},
   "source": [
    "You need the keyword **def**, some name, enclosing parentheses and a colon in the header; a nominal indented suite following. This function takes no arguments and returns **None**. Not so interesting, really, but syntactically-correct. You can upgrade in a variety of ways. If you have only named positional parameters as with this constructor:\n",
    "\n",
    "    def positional_only(input1, input2, input3):\n",
    "\n",
    "Here you promise three inputs – no more and no fewer. Sometimes, though, you really don't know how many bits of information you'll get and want to generalize. Python provides flexibility when the number of arguments is unpredictable. This constructor requires one positional argument then zero or more additional ones:\n",
    "\n",
    "     def positional_plus(input1, more_inputs): \n",
    " \n",
    "The \"\\*\" signals the interpreter to expect a tuple of unknown size, and to create a local name \"more\\_inputs\" tied to a **tuple** object (you don't use the \\* inside the function). The **tuple** will scoop all the additional arguments provided beyond the first one (that's assigned to input1). If only argument is provided the **tuple** will be empty.\n",
    "\n",
    "If you want to use a **dict** as input, you can construct the function\n",
    "like this:\n",
    "\n",
    "    def dict_only(a = None, b = None):\n",
    "\n",
    "This is a handy idiom because objects a and b are always created when the function is called. That makes them optional – neither, either, or both can be used when calling it. Another way to use a **dict** is to use a placeholder for one with a constructor that looks like this:\n",
    "\n",
    "    def dict_placeholder(**input_dict): \n",
    "\n",
    "When you do this, you create a local name \"input\\_dict\" that's tied to the key:value pairs provided when the function is called (you don't use the \\*\\* internally). Let's take a look at a couple more examples."
   ]
  },
  {
   "cell_type": "code",
   "execution_count": null,
   "metadata": {},
   "outputs": [],
   "source": []
  },
  {
   "cell_type": "code",
   "execution_count": 331,
   "metadata": {},
   "outputs": [
    {
     "name": "stdout",
     "output_type": "stream",
     "text": [
      "Tuple of positional arguments to eats():\n",
      "foods:  ('Spaghetti', 'Oysters', 'Chili', 'Crackers', 'Rice')\n",
      "\n",
      "Positionals:\n",
      "1 2 3 4 \n",
      "Kwargs\n",
      "Arg name: on_vacation Value:  True\n",
      "Arg name: at_work Value:  False\n",
      "\n",
      "Positionals:\n",
      "1 2 3 4 \n",
      "Kwargs\n",
      "Arg name: on_vacation Value:  False\n",
      "Arg name: at_work Value:  True\n"
     ]
    }
   ],
   "source": [
    "def eats(*foods): # gather positional args in a tuple\n",
    "    print(\"foods: \", foods) # foods is a tuple now\n",
    "    \n",
    "    \n",
    "print(\"Tuple of positional arguments to eats():\")  \n",
    "# open-ended number of positional arguments passed in...\n",
    "eats(\"Spaghetti\", \"Oysters\", \"Chili\", \"Crackers\", \"Rice\")\n",
    "\n",
    "def example(*args, **kwargs): # keyword args dict\n",
    "    \"\"\"\n",
    "    (* ) convert positionals -- tuple\n",
    "    (**) convert keyword args -- dict\n",
    "    \"\"\"\n",
    "    print(\"\\nPositionals:\")\n",
    "    for arg in args: # loop over the tuple\n",
    "        print(arg, sep = \", \", end = \" \")\n",
    "\n",
    "    print(\"\\nKwargs\")\n",
    "    for key, value in kwargs.items(): # ...now the dict\n",
    "        print(\"Arg name:\", key, \"Value: \", value)\n",
    "    \n",
    "# positional + keyword (named) arguments\n",
    "example( 1,2,3,4, on_vacation = True, at_work = False )\n",
    "\n",
    "# same thing using \"exploders\" * and **\n",
    "example( *(1,2,3,4), **dict(on_vacation = False, at_work = True) )"
   ]
  },
  {
   "cell_type": "markdown",
   "metadata": {},
   "source": [
    "As you can see, you've got plenty of options here. This being said, there are a couple of constraints. The order is important – the positional arguments need to come first, then the **tuple** of arbitrary size, then the dictionary. As soon as the interpreter hits the **tuple** argument, it's game over for positional arguments. As soon as it hits the dictionary, it's game over for both positional arguments and **tuples**."
   ]
  },
  {
   "cell_type": "markdown",
   "metadata": {},
   "source": [
    "Returning Information From a Function\n",
    "-------------------------------------\n",
    "\n",
    "A function does not have to return anything. If it does return something, you don't have to give the returned value a name or otherwise use it. "
   ]
  },
  {
   "cell_type": "markdown",
   "metadata": {},
   "source": [
    "Personally, I think it's a good idea to return something – even if it's just the number 1 to show \"Yup, I executed\" or a -1 to show \"Uh, there was a problem.\" But it's up to you – without instructions in this regard a function returns the **None** object.\n",
    "\n",
    "Finally, in Python you can only return one object. This isn't necessarily an issue because the object can be as complex as it needs to be to fully \"pass the baton\" to the next routine. The **dict** is my \"go to\" object for complex returns – mostly because it can be as complex as it needs to and, properly done, completely self-documenting."
   ]
  },
  {
   "cell_type": "markdown",
   "metadata": {},
   "source": [
    "First Class Objects\n",
    "-------------------\n",
    "\n",
    "Functions are known as \"first class objects\" because they can be used just as classes and other top-level objects in Python. For instance, they can be passed as arguments to other functions without issue[44].  This is really powerful because you can separate responsibilities cleanly between separate, isolated bits of code. As a result, different teams can work on the individual functions and atomic tests can be written against the capabilities promised by each function. All this makes a \"divide and conquer\" approach to development a snap and – perhaps more importantly – can keep code easy to maintain as requirements change.\n",
    "\n",
    "Here's how you might use functions' \"first class\" status Python to take a foray into functional programming. For this example, imagine we have the \"F team\" in Florida and that it's never met the \"G team\" in Georgia.  Each has been working 24/7 on its task, has written tests, and otherwise has things dialed in. F has perfected the art of doubling a value and G has nailed adding 2 to a value.\n",
    "\n",
    "As consumers of these efforts, we can \"stand on the shoulders of giants\" and repurpose / combine the efforts into our own project. \n",
    "\n",
    "Here's an example:"
   ]
  },
  {
   "cell_type": "code",
   "execution_count": 338,
   "metadata": {},
   "outputs": [],
   "source": [
    "def compose(g, f):\n",
    "    \"\"\"Take two functions as inputs and return a\n",
    "    function that's their composition\"\"\"\n",
    "    \n",
    "    def newfunc(x):\n",
    "        return g(f(x))\n",
    "    \n",
    "    return newfunc\n",
    "        \n",
    "def G(n):\n",
    "    return n + 2\n",
    "    # input function\n",
    "    \n",
    "def F(n):\n",
    "    return n * 2\n",
    "\n",
    "# compare:\n",
    "H = compose(G, F) # build a 3rd function from 1 &amp; 2\n",
    "\n",
    "#print(\"G(F(x)):\", H(100)) # G(F(x))\n",
    "\n",
    "# ... now with\n",
    "#H = compose(F, G)\n",
    "#print(\"F(G(x)):\", H(100)) # F(G(x))"
   ]
  },
  {
   "cell_type": "markdown",
   "metadata": {},
   "source": [
    "## Inner Functions\n",
    "\n",
    "It's possible for a function to contain other functions called \"inner functions.\" In this case, not only is there an inner function, but that's what gets returned. The object that gets returned is \"loaded for bear\", retaining the information originally passed into **addLetters**."
   ]
  },
  {
   "cell_type": "code",
   "execution_count": 340,
   "metadata": {},
   "outputs": [
    {
     "name": "stdout",
     "output_type": "stream",
     "text": [
      "Unhinged rants\n",
      "In an unhinged fashion ranted\n"
     ]
    }
   ],
   "source": [
    "def addLetter(letters):  # -- pass in a string\n",
    "    \"\"\"\n",
    "    A function factory builds and returns function objects.\n",
    "    L is a function that will add whatever letters are passed\n",
    "    in to be the ending letters.\n",
    "    \"\"\"\n",
    "    def L(s):\n",
    "        return s + letters\n",
    "    return L\n",
    "\n",
    "\n",
    "# These are functions (versions of the inner\n",
    "#    function L() returned from addLetters()\n",
    "add_s = addLetter(\"s\")\n",
    "add_ed = addLetter(\"ed\")\n",
    "\n",
    "# Then we can execute these functions like any others\n",
    "print(add_s('Unhinged rant.'))\n",
    "print(add_ed('In an unhinged fashion rant'.))"
   ]
  },
  {
   "cell_type": "markdown",
   "metadata": {},
   "source": [
    "Closures\n",
    "--------\n",
    "\n",
    "A closure is an inner function with a memory. Let's say that you have on good authority that the meaning of life is 42. You want to stash that pearl of insight away and be prepared to tweak it as life gets more interesting and the universe evolves.\n",
    "\n",
    "You might want to create a Python function to which you can provide the original value. Then you might ask the main function to return another function that accepts your changes. \n",
    "\n",
    "Here's how you might do it:"
   ]
  },
  {
   "cell_type": "code",
   "execution_count": 341,
   "metadata": {},
   "outputs": [
    {
     "name": "stdout",
     "output_type": "stream",
     "text": [
      "The original meaning of life is 41\n",
      "But now we think it's a bit more: 44\n",
      "... and now: 47\n"
     ]
    }
   ],
   "source": [
    "def outer_space(outer_input):\n",
    "    \"outer-most function\"\n",
    "    last_answer=outer_input\n",
    "    def inner_space(inner_input):\n",
    "        \"inner-most function\"\n",
    "        nonlocal last_answer\n",
    "        last_answer += inner_input\n",
    "        return last_answer\n",
    "    return inner_space\n",
    "\n",
    "MEANING_OF_LIFE=41\n",
    "original = outer_space(MEANING_OF_LIFE)\n",
    "print(\"The original meaning of life is {}\".format(original(0)))\n",
    "\n",
    "tweak=3\n",
    "new_meaning = original(tweak)\n",
    "print(\"But now we think it's a bit more: {}\".format(new_meaning))\n",
    "\n",
    "next_new_meaning = original(tweak)\n",
    "print(\"... and now: {}\".format(next_new_meaning))"
   ]
  },
  {
   "cell_type": "markdown",
   "metadata": {},
   "source": [
    "As you can see, the inner function retained some \"institutional memory\", encapsulated it, and made itself available for further interaction.\n",
    "\n",
    "The **nonlocal** keyword, introduced here, acts to make a variable in an inner function available to the outer one. This is precisely the relationship that the **global** keyword in the outer function has with the containing module."
   ]
  },
  {
   "cell_type": "markdown",
   "metadata": {},
   "source": [
    " Python's Take on Map, Reduce and Filter\n",
    "---------------------------------------\n",
    "\n",
    "Python has some limited built-in capability to handle map/reduce operations. It can easily perform the same sort of analysis possible with big data analytical tools like Hadoop, but just not at the same scale. (Hadoop has its own way to manage workload and file systems – that's where its real magic lies).\n",
    "\n",
    "In a nutshell, a map operation is one that iterates through a bunch of objects and does the same thing to each one. A reduce operation sifts through the mapped objects and filters out the \"good stuff.\" Generally speaking, the **map** function is run once then sifted through multiple times by different reducers.\n",
    "\n",
    "To implement mapping in python, we can use the **map** function. Its syntax is straightforward:\n",
    "\n",
    "mapped\\_data = map (\\<processing\\_function\\>, \\<iterable\\>)\n",
    "\n",
    "To filter data, we can call upon the **filter** function. It works pretty much like map, but the processing filter passed judgment on each element of the iterable objects by evaluating it **True** or **False**.  The result is another iterable of only those that have been deemed **True**. The syntax is identical to that of **map**:\n",
    "\n",
    "filtered\\_data = filter(\\<processing\\_function\\>, \\<iterable\\>)\n",
    "\n",
    "Here's an example of how you might use **map** and **filter** to find even sums of integers provided as **tuples**. These methods are interesting because they each take two arguments: incoming data and the name of the routine to process the data. Each returns a generator-like object. This means they don't process all the data at once. Instead, they proceed one step at a time through their task, then only when requested. This sort of \"lazy execution\" makes handling of even large data sets possible because only the bits of it that are being processed need be in the memory.\n",
    "\n",
    "Python also has a **reduce** method – it works pretty much like **map**, except the operations defined in the function are applied cumulatively.  Note that it's implemented using a **lambda** expression[45] (an anonymous \"one liner\" function that can be used in place of a standard function)."
   ]
  },
  {
   "cell_type": "code",
   "execution_count": 342,
   "metadata": {},
   "outputs": [
    {
     "name": "stdout",
     "output_type": "stream",
     "text": [
      "The even sums are [4, 8]\n",
      "reduce returned: 120\n"
     ]
    }
   ],
   "source": [
    "from functools import reduce\n",
    "\n",
    "\n",
    "def add_numbers(things_to_add):\n",
    "    \"adds two numbers\"\n",
    "    first, second = things_to_add\n",
    "    return first + second\n",
    "\n",
    "\n",
    "def find_evens(thing_to_evaluate):\n",
    "    \"returns True if even\"\n",
    "    return not thing_to_evaluate % 2  # True if 0, False otherwise\n",
    "\n",
    "\n",
    "integers = [(2, 2), (4, 4), (5, 6), (7, 8)]\n",
    "\n",
    "mapped_data = map(add_numbers, integers)\n",
    "filtered_results = filter(find_evens, mapped_data)\n",
    "print(\"The even sums are {}\".format(list(filtered_results)))\n",
    "\n",
    "cumulative_mult = reduce(lambda x, y: x*y, [1, 2, 3, 4, 5])\n",
    "print(\"reduce returned: {}\".format(cumulative_mult))"
   ]
  },
  {
   "cell_type": "markdown",
   "metadata": {},
   "source": [
    "Function Dispatch\n",
    "-----------------\n",
    "\n",
    "Until Python 3.10, Python didn't have a statement like **case** or **switch**.   One day, you'll be able to switch to 3.10 for all your data science needs, but until the main distros (Anaconda, etc.) and the underlying data science building blocks are all updated you will likely be using an earlier version of Python.\n",
    "\n",
    "For better or worse. However, there are other ways to get the same functionality.  We've already seen that a complex **if** .. **elif** .. **else** structure can accommodate this. However, this can get unwieldy and hard to maintain.\n",
    "\n",
    "An alternative, and potentially more robust, approach involves mapping functions to a dictionary, which is then used to dispatch the function.  The following example shows how you might implement such a beast and, for good measure, introduces the **random.choice** method.\n",
    "\n",
    "As you review the code, imagine how much easier it would be to maintain than strictly branching logic. Let's say your client suddenly asked you to add a new capability – **str**.**title** how could you add it while minimally touching the existing code[46]?\n"
   ]
  },
  {
   "cell_type": "code",
   "execution_count": 343,
   "metadata": {},
   "outputs": [
    {
     "name": "stdout",
     "output_type": "stream",
     "text": [
      "lIONS AND tIGERS AND bEARS, oH my!\n",
      "LIONS AND TIGERS AND BEARS, OH MY!\n",
      "lIONS AND tIGERS AND bEARS, oH my!\n"
     ]
    }
   ],
   "source": [
    "#py_function_7.py\n",
    "from random import choice\n",
    "def f_upper():\n",
    "    return str.upper\n",
    "def f_lower():\n",
    "    return str.lower\n",
    "def f_swap():\n",
    "    return str.swapcase\n",
    "\n",
    "# Use a dict object to match names (like 'up') to one of your functions\n",
    "function_mapper={'up': f_upper, 'lower': f_lower, 'swap': f_swap}\n",
    "choices = list(function_mapper.keys())\n",
    "\n",
    "my_string='Lions and Tigers and Bears, Oh MY!'\n",
    "for i in range(3):\n",
    "    mychoice=choice(choices)\n",
    "    print(function_mapper[mychoice]()(my_string))"
   ]
  },
  {
   "cell_type": "markdown",
   "metadata": {},
   "source": [
    "The **random**.**choice** method is a convenient way to make a (pseudo) random choice from a collection of options.\n",
    "\n",
    "The **print** is a bit of a mouthful, so let's break it down.\n",
    "\n",
    "Note that most of what we're doing is passing around the name of a function, like **f\\_upper** or **str.upper** without actually executing it. This allows fairly succinct code because we can chain operations together in a single line. Is the virtue of being compact outweighed by the vice of being tough to decipher?\n"
   ]
  },
  {
   "cell_type": "code",
   "execution_count": 348,
   "metadata": {},
   "outputs": [
    {
     "name": "stdout",
     "output_type": "stream",
     "text": [
      " mychoice: up\n",
      "\n",
      "function_mapper['up']\n",
      "<function f_upper at 0x00000145001298B0>\n",
      "\n",
      "function_mapper['up']()\n",
      "<method 'upper' of 'str' objects>\n",
      "\n",
      "function_mapper['up']() (my_string)\n",
      "LIONS AND TIGERS AND BEARS, OH MY!\n"
     ]
    }
   ],
   "source": [
    "mychoice = 'up'  # Just to force a choice\n",
    "\n",
    "print(f\" mychoice: {mychoice}\")\n",
    "print()\n",
    "\n",
    "\n",
    "# String version of the command then the  output.\n",
    "print(\"function_mapper['up']\")\n",
    "print(function_mapper['up'])  \n",
    "print()\n",
    "\n",
    "print(\"function_mapper['up']()\")\n",
    "print(function_mapper['up']() )  # the () is the execution operator.  f_upper returns a function.\n",
    "print()\n",
    "\n",
    "print(\"function_mapper['up']() (my_string)\")\n",
    "print(function_mapper['up']() (my_string) )  # this feeds mystring to the function\n",
    " \n"
   ]
  },
  {
   "cell_type": "markdown",
   "metadata": {},
   "source": [
    "## Exercise\n",
    "\n",
    "Awesome job so far, folks! This has been a long session, but functions (and methods in classes) are one of the most important building blocks of any serious programming effort. Let's try out your new skills on a couple of problems.\n",
    "\n",
    "Python's built-in title casing routine has much to be desired. Check this out:"
   ]
  },
  {
   "cell_type": "code",
   "execution_count": 349,
   "metadata": {},
   "outputs": [
    {
     "name": "stdout",
     "output_type": "stream",
     "text": [
      "Shot In The Dark\n",
      "Guido Van Rossum\n",
      "Monty Python'S Life Of Brian\n"
     ]
    }
   ],
   "source": [
    "lst = [ \"shot in the dark\",\n",
    "        \"guido van rossum\",\n",
    "        \"monty python's life of brian\"\n",
    "      ]\n",
    "for item in lst:\n",
    "    print(item.title())"
   ]
  },
  {
   "cell_type": "markdown",
   "metadata": {},
   "source": [
    "In the first instance, a really short word got capitalized. The second will drive much European nobility mad because \"von\" and \"van\" are generally lower case. And the first letter after an apostrophe is almost never capitalized.\n",
    "\n",
    "Please see if you can write a function to address these issues – I'm sure you can do better than str.title! W\n",
    "\n",
    "While you're about it, see you can break the task down into small, atomic bits. That'll make it easier to test and maintain. You might use a series of functions something like:\n",
    "\n",
    "    process_list() \n",
    "        process_title() \n",
    "        process_word() \n",
    "            process_apostrophe()\n",
    "            process_royalty()\n",
    "\n",
    "Feel free to grab code from solution _python_1_chapter05_starter_code.py if you'd like. Many of the mechanics have been worked out, but it would benefit from reorganization."
   ]
  },
  {
   "cell_type": "code",
   "execution_count": null,
   "metadata": {},
   "outputs": [],
   "source": []
  }
 ],
 "metadata": {
  "kernelspec": {
   "display_name": "Python 3",
   "language": "python",
   "name": "python3"
  },
  "language_info": {
   "codemirror_mode": {
    "name": "ipython",
    "version": 3
   },
   "file_extension": ".py",
   "mimetype": "text/x-python",
   "name": "python",
   "nbconvert_exporter": "python",
   "pygments_lexer": "ipython3",
   "version": "3.9.0"
  },
  "latex_envs": {
   "LaTeX_envs_menu_present": true,
   "autoclose": false,
   "autocomplete": true,
   "bibliofile": "biblio.bib",
   "cite_by": "apalike",
   "current_citInitial": 1,
   "eqLabelWithNumbers": true,
   "eqNumInitial": 1,
   "hotkeys": {
    "equation": "Ctrl-E",
    "itemize": "Ctrl-I"
   },
   "labels_anchors": false,
   "latex_user_defs": false,
   "report_style_numbering": false,
   "user_envs_cfg": false
  },
  "toc": {
   "base_numbering": 1,
   "nav_menu": {},
   "number_sections": true,
   "sideBar": true,
   "skip_h1_title": false,
   "title_cell": "Table of Contents",
   "title_sidebar": "Contents",
   "toc_cell": false,
   "toc_position": {},
   "toc_section_display": true,
   "toc_window_display": true
  },
  "varInspector": {
   "cols": {
    "lenName": 16,
    "lenType": 16,
    "lenVar": 40
   },
   "kernels_config": {
    "python": {
     "delete_cmd_postfix": "",
     "delete_cmd_prefix": "del ",
     "library": "var_list.py",
     "varRefreshCmd": "print(var_dic_list())"
    },
    "r": {
     "delete_cmd_postfix": ") ",
     "delete_cmd_prefix": "rm(",
     "library": "var_list.r",
     "varRefreshCmd": "cat(var_dic_list()) "
    }
   },
   "oldHeight": 120.56700000000001,
   "position": {
    "height": "40px",
    "left": "1095px",
    "right": "20px",
    "top": "120px",
    "width": "250px"
   },
   "types_to_exclude": [
    "module",
    "function",
    "builtin_function_or_method",
    "instance",
    "_Feature"
   ],
   "varInspector_section_display": "none",
   "window_display": false
  }
 },
 "nbformat": 4,
 "nbformat_minor": 5
}
