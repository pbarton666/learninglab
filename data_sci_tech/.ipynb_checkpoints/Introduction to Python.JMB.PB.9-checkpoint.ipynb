{
 "cells": [
  {
   "cell_type": "markdown",
   "metadata": {},
   "source": [
    " An Introduction To Python\n",
    "========================="
   ]
  },
  {
   "cell_type": "markdown",
   "metadata": {},
   "source": [
    "Welcome!\n",
    "--------\n",
    "\n",
    "This course will take you on a journey through the world of Python 3.0.  Whether you are new to programming or just new to Python, expect to come away with a solid understanding of:\n",
    "\n",
    "-   What the heck is Python and where did it come from?\n",
    "\n",
    "\n",
    "-   Interacting with Python at the command line (Python is really\n",
    "    gregarious!)\n",
    "    \n",
    "\n",
    "-   Working effectively with an interactive debugging environment\n",
    "\n",
    "\n",
    "-   Utilizing professional code distributions and package managers\n",
    "\n",
    "\n",
    "-   Python objects including classes, methods, and collections\n",
    "\n",
    "\n",
    "-   Customizing your Python objects with your own code\n",
    "\n",
    "This might sound like a lot – and it is. But Python really is fun to work with and very forgiving to the beginner. \n",
    "\n",
    "You can’t break Python. \n",
    "\n",
    "It talks to you. In fact, it’s downright loquacious. You can ask it questions and it (usually) provides sensible answers. And when it doesn’t, there are hundreds of thousands of great resources available over the internet. We’ll show you how to access some of these, as well.  So roll up your sleeves and get ready to enjoy the ride!"
   ]
  },
  {
   "cell_type": "markdown",
   "metadata": {},
   "source": [
    "The Python Environment\n",
    "----------------------\n",
    "\n",
    "You should already have Python installed on your machine. If not, no worries. You could go ahead and install a fresh Python distribution and an IDE (integrated development environment).\n",
    "\n",
    "Yes, it’s possible to download, compile, and install Python. If you’re ever interested, downloads are available directly from the official Python web site:\n",
    "\n",
    "https://www.python.org/downloads.\n",
    "\n",
    "This being said, there are distributions such as EnThought and Anaconda which offer integrated package management that allows easy access to extended libraries and their sometimes extensive/tedious dependencies. This is especially valuable when adding complex libraries such as NumPy, which can take hours to get right.\n",
    "\n",
    "For this course, we’ll use the Anaconda distribution. This supports all sorts of data science and visualization packages that we’ll touch on in the advanced course, along with Python virtual environments “right out of the box.” You can install it by browsing to this sight and following\n",
    "the instructions to get the 64-bit version for Python 3. \n",
    "\n",
    "https://www.anaconda.com/download/\n",
    "\n",
    "The “official” IDE for Python is called IDLE. It provides a rudimentary and very light weight debugger and file manager. IDLE works and works well, but for serious work I much prefer a more fully-functional environment such as PyCharm, WingIDE, or VSCode with the Python plug-in. If you’re accustomed to Eclipse, you could use the PyDev plug-in[1]. A light-weight debugger, Spyder, comes packaged with Anaconda. If you want to use Wing, you can download a full-on Professional version (free for 30 days)[2]. You have many options.\n",
    "\n",
    "Python uses environment variables to help it work and play well with the operating system (OS). The most important of these are PATH and PYTHONPATH.\n",
    "\n",
    "PATH contains the directories your OS will search when looking for a particular application. In order for Python to “just work” when you\n",
    "type:\n",
    "\n",
    "**\\$ python \n",
    "\n",
    "You have to include Python’s binary (executable) directory in the PATH variable. That’s where python.exe lives. On a Windows system, you can do that by clicking:  \n",
    "\n",
    "**Start ... Control Panel... System ... Advanced System Settings ...\n",
    "Environment Variables**\n",
    "\n",
    "Then edit PATH by appending the binary directory. You have to be a bit careful. Add a semicolon, no spaces, and the name of the new directory with no trailing slash. Something like:\n",
    "\n",
    "\\<existing path\\>;c:\\\\Path\\\\To\\\\Directory\n",
    "\n",
    "On a Linux system, you can simply add an export to \\~/.bashrc:\n",
    "\n",
    "Export PATH = \\$PATH:/path/to/directory\n",
    "\n",
    "PYTHONPATH works the same way PATH does, but it’s used internally by Python to search for modules (libraries, for instance) that you’ll want to import into your code’s namespace.\n",
    "\n",
    "Once you make the necessary changes to your environment variables, you’ll need to start a new terminal to apply them (or run source \\~/.bashrc in Linux)."
   ]
  },
  {
   "cell_type": "markdown",
   "metadata": {},
   "source": [
    "Some Basics \n",
    "-----------\n",
    "\n",
    "Let’s have a quick look at some Python concepts. We’ll cover all these\n",
    "in more depth later, but we’ll put them on the table early.\n",
    "\n",
    "Python is an amazingly simple language from a syntax perspective.\n",
    "Believe it or not, there are only 33 keywords only a few of which are\n",
    "exotic. Here’s a list[3]:\n",
    "\n",
    "|        |          |         |          |        |\n",
    "|--------|----------|---------|----------|--------|\n",
    "| False  | class    | finally | is       | return |\n",
    "| None   | continue | for     | lambda   | try    |\n",
    "| True   | def      | from    | nonlocal | while  |\n",
    "| and    | del      | global  | not      | with   |\n",
    "| as     | elif     | if      | or       | yield  |\n",
    "| assert | else     | import  | pass     |        |\n",
    "| break  | except   | in      | raise    |        |\n",
    "|<img width=110/>|<img width=110/>|<img width=110/>|<img width=110/>|<img width=110/>|\n",
    "\n",
    "Let’s have a quick look at some Python concepts. We’ll cover all these in more depth later, but we’ll put them on the table early.\n",
    "\n",
    "If you are ever uncertain about whether a variable name you’re considering is a keyword (or otherwise known to the interpreter), you can just type it into a command line. If the interpreter “yells at you”, you can choose another name.\n",
    "\n",
    "A few other things to know:  \n",
    "\n",
    "-   Case matters – Python is case sensitive  \n",
    "\n",
    "\n",
    "-   Indentation matters – Python doesn’t rely on brackets or braces   \n",
    "\n",
    "\n",
    "-   Whitespace typically does not matter  \n",
    "\n",
    "\n",
    "-   Help is just a few keystrokes away – just type “help”  \n",
    "\n",
    "So, what is Python, anyway?\n",
    "\n",
    "-   A **high-level**, **object oriented** (each object has its own\n",
    "    repertoire of nouns and verbs, and they can borrow from and build on\n",
    "    each other) **interpreted** language (“just in time” compilation).\n",
    "    \n",
    "\n",
    "-   You can think of it a giant wrapper around hundreds of thousands of\n",
    "    lines of C and C++ libraries, each providing consistent APIs\n",
    "    (Application Programming Interfaces) so everything has the same look\n",
    "    and feel.\n",
    "    \n",
    "\n",
    "-   Created by **Guido van Rossum**, a great fan of **Monty Python**, in\n",
    "    the late 1990s as a successor to the ABC language, with significant\n",
    "    support from **DARPA**. (That’s Guido holding a beer in the photo\n",
    "    below.)\n",
    "    \n",
    "\n",
    "-   Highly extensible to applications such as GIS (pyqgis), scientific\n",
    "    programming (numpy), visualization (matplotlib), and many other\n",
    "    domains.\n",
    "    \n",
    "\n",
    "-   Python is operating system agnostic, and runs equally well on\n",
    "    Windows, Linux, Raspberry Pi, and Mac systems.\n",
    "    \n",
    "\n",
    "Python has been around since 1994 and has undergone several transformations. Most notably, Python evolved from 2.7 to 3.0 in 2008, implementing Unicode characters and addressing some lingering structural concerns.\n",
    "\n",
    "There are plenty of solid applications written in 2.7 in the world, but most newer developments have shifted to Python 3. You should be aware that there are enough substantive differences between 2.x and 3.x that code written against one version is not wholly compatible with the other.\n",
    "\n",
    "By design Python is simple, clear, and transparent. Philosophical tenants (shown in abbreviated form here) are always available from a Python prompt:\n",
    "\n",
    "\\>\\>\\> import this\n"
   ]
  },
  {
   "cell_type": "markdown",
   "metadata": {
    "ExecuteTime": {
     "end_time": "2021-07-02T19:32:22.949319Z",
     "start_time": "2021-07-02T19:32:22.929753Z"
    }
   },
   "source": [
    "> The Zen of Python, by Tim Peters\n",
    ">\n",
    "- Beautiful is better than ugly.\n",
    "\n",
    "- Explicit is better than implicit.\n",
    "\n",
    "- Simple is better than complex.\n",
    "\n",
    "- Complex is better than complicated.\n",
    "\n",
    "- Flat is better than nested.\n",
    "\n",
    "- Sparse is better than dense.\n",
    "\n",
    "- Readability counts.\n",
    "\n",
    "- Special cases aren't special enough to break the rules.\n",
    "\n",
    "- Although practicality beats purity.\n",
    "\n",
    "- Errors should never pass silently.\n",
    "\n",
    "- Unless explicitly silenced.\n",
    "\n",
    "- In the face of ambiguity, refuse the temptation to guess.\n",
    "\n",
    "- There should be one-- and preferably only one --obvious way to do it.\n",
    "\n",
    "- Although that way may not be obvious at first unless you're Dutch.\n",
    "\n",
    "- Now is better than never.\n",
    "\n",
    "- Although never is often better than \\*right\\* now.\n",
    "\n",
    "- If the implementation is hard to explain, it's a bad idea.\n",
    "\n",
    "- If the implementation is easy to explain, it may be a good idea.\n",
    "\n",
    "- Namespaces are one honking great idea -- let's do more of those!.\n",
    "\n",
    "OK. Let’s get started and have some fun!"
   ]
  },
  {
   "cell_type": "markdown",
   "metadata": {},
   "source": [
    "Basic Python Syntax\n",
    "===================\n",
    "\n",
    "Hello, Python\n",
    "-------------\n",
    "\n",
    "As you know, there’s an unwritten Cosmic Law stating all computer courses have to start with a “Hello World” application. Since we don’t want the Cosmic Police kicking the door down, let’s start with that.  Besides, it’s a great introduction to Python’s command line operations.\n",
    "\n",
    "To invoke the interpreter, type this from the command line (except the “\\$”):\n",
    "\n",
    "\\$ python3\n",
    "\n",
    "Python 3.9.0 (default, Oct 14 2020, 11:33:57) [GCC 4.8.4\\] on linux\n",
    "\n",
    "Type \"help\", \"copyright\", \"credits\" or \"license\" for more information.\n",
    "\n",
    "\\>\\>\\>\n",
    "\n",
    "\n",
    "So what’s this? The first few lines let you know what “flavor” of Python you’re using, and how it was compiled. This can be important because you may well have several versions installed on the same machine. More on that later.\n",
    "\n",
    "The last line is the interpreter’s prompt (\\>\\>\\> )  to let you know you’re talking to Python. So let’s say “hello.”"
   ]
  },
  {
   "cell_type": "code",
   "execution_count": 342,
   "metadata": {
    "ExecuteTime": {
     "end_time": "2021-07-02T20:10:42.971369Z",
     "start_time": "2021-07-02T20:10:42.953015Z"
    }
   },
   "outputs": [
    {
     "name": "stdout",
     "output_type": "stream",
     "text": [
      "hello\n"
     ]
    }
   ],
   "source": [
    "print(\"hello\")"
   ]
  },
  {
   "cell_type": "markdown",
   "metadata": {},
   "source": [
    "In this command, we utilize one of Python’s top-level methods, the **print function,** and one of Python’s top-level objects, the string, known internally as a **str**. Note that the arguments to the function are enclosed in parentheses, and that the contents of the string are enclosed in quotes.\n",
    "\n",
    "Strings are ubiquitous, so it’s good to know a few ways to compose them.  \n",
    "\n",
    "## Comments and Escape Characters\n",
    "\n",
    "Here are some examples. These are annotated using the **\\#** character – that’s how you can make single line comments. Anything to the right of the \\# will not compile, so you can embed your comments in-line."
   ]
  },
  {
   "cell_type": "code",
   "execution_count": 343,
   "metadata": {},
   "outputs": [
    {
     "name": "stdout",
     "output_type": "stream",
     "text": [
      "Hello, Guido's cool project.\n",
      "Hello, Guido's cool project.\n"
     ]
    }
   ],
   "source": [
    "# You can use double quotes – useful with apostrophes.\n",
    "print(\"Hello, Guido's cool project.\")\n",
    "\n",
    "# You can also “escape” the apostrophe with a \"\\\".\n",
    "print('Hello, Guido\\'s cool project.')"
   ]
  },
  {
   "cell_type": "markdown",
   "metadata": {},
   "source": [
    "Let’s try a few more strings. This time, we’ll assign them to names so wrangling them will be easier. \n",
    "\n",
    "\n",
    "## Namespaces and String Variants\n",
    "So what are names? These are just tags you can associate with values. “Values” are simply the bits of information stored in the computer’s memory."
   ]
  },
  {
   "cell_type": "code",
   "execution_count": 344,
   "metadata": {},
   "outputs": [
    {
     "name": "stdout",
     "output_type": "stream",
     "text": [
      "Cubs 2018 win\n"
     ]
    }
   ],
   "source": [
    "#single quotes work just fine\n",
    "team = 'Cubs'\n",
    "\n",
    "#you can also use triple double quotes\n",
    "year = \"\"\"2018\"\"\"\n",
    "\n",
    "#... or triple single quotes\n",
    "outcome = '''win'''\n",
    "\n",
    "#these can be provided to print as arguments, separated by commas.\n",
    "print(team, year, outcome)"
   ]
  },
  {
   "cell_type": "markdown",
   "metadata": {},
   "source": [
    "## Automatic Concantenation\n",
    "You can provide a series of strings together and Python will automatically concatenate them (run them together):"
   ]
  },
  {
   "cell_type": "code",
   "execution_count": 345,
   "metadata": {},
   "outputs": [
    {
     "data": {
      "text/plain": [
       "'andaoneandatwo'"
      ]
     },
     "execution_count": 345,
     "metadata": {},
     "output_type": "execute_result"
    }
   ],
   "source": [
    "\"and\" \"a\" \"one\" \"and\" \"a\" \"two\""
   ]
  },
  {
   "cell_type": "markdown",
   "metadata": {
    "solution": "hidden"
   },
   "source": [
    "## Line Continuation\n",
    "If you ever want a multi-line string, you can use either of the triple quote styles."
   ]
  },
  {
   "cell_type": "code",
   "execution_count": 346,
   "metadata": {},
   "outputs": [
    {
     "name": "stdout",
     "output_type": "stream",
     "text": [
      "             Cubs\n",
      "             2018\n",
      "             win\n"
     ]
    }
   ],
   "source": [
    "chant = \"\"\" \\\n",
    "            Cubs\n",
    "             2018\n",
    "             win\"\"\"\n",
    "print(chant)"
   ]
  },
  {
   "cell_type": "markdown",
   "metadata": {},
   "source": [
    "If you study the above example carefully, you’ll notice a couple features. The interpreter will automatically allow a command to be broken up into several lines if there’s an unclosed control symbol. Since we had not yet included the terminating triple quote, it patiently waited. This feature also works for parentheses, braces, etc.\n",
    "\n",
    "Here is another example:"
   ]
  },
  {
   "cell_type": "code",
   "execution_count": 347,
   "metadata": {},
   "outputs": [
    {
     "data": {
      "text/plain": [
       "[99, 33, 40]"
      ]
     },
     "execution_count": 347,
     "metadata": {},
     "output_type": "execute_result"
    }
   ],
   "source": [
    "# we’ll introduce the list object soon\n",
    "a_list = [99,\n",
    "          33,\n",
    "          40\n",
    "          ]\n",
    "a_list"
   ]
  },
  {
   "cell_type": "markdown",
   "metadata": {},
   "source": [
    "You now know how to communicate with Python’s command line. You can execute functions, create objects, provide commands, and receive output.  \n",
    "\n",
    "Now, it’s time to roll your sleeves up."
   ]
  },
  {
   "cell_type": "markdown",
   "metadata": {},
   "source": [
    "## Exercise:\n",
    "Please write your own version of a “hello world”, working at the terminal. Practice using all four of the string composition methods, and with both single and multiple line versions.  Document your code for posterity."
   ]
  },
  {
   "cell_type": "markdown",
   "metadata": {
    "solution": "hidden"
   },
   "source": [
    "# What’s Your Number?\n",
    "-------------------\n",
    "\n",
    "Do you remember when I said that Python is loquacious? I was not kidding. You can have an interactive conversation with the interpreter in which it will tell you about itself and all the objects it knows about. The best part is that you can ask it for help and get reliable information to guide your programming efforts.\n",
    "\n",
    "No course can teach you everything you need to know, not even this one.  Knowing how to efficiently get the help you need is perhaps the most important skill you can acquire. So the information in this chapter is the most critical bit of the course.\n",
    "\n",
    "The interpreter can tell you about itself. Sometimes you have to access built-in libraries by importing them into your local **namespace**. A namespace is all the names (“tags”), associated with the **values** stored in memory, your program has access to. By importing more names, we have access to more values and objects."
   ]
  },
  {
   "cell_type": "markdown",
   "metadata": {},
   "source": [
    "## Which Python\n",
    "\n",
    "Here, we’re asking the interpreter what version of Python we’re using, which release, and what operating system it finds itself operating within.\n",
    "\n",
    "Let’s have a conversation!"
   ]
  },
  {
   "cell_type": "code",
   "execution_count": 348,
   "metadata": {},
   "outputs": [
    {
     "data": {
      "text/plain": [
       "'3.9.0 | packaged by conda-forge | (default, Oct 14 2020, 22:54:35) [MSC v.1916 64 bit (AMD64)]'"
      ]
     },
     "execution_count": 348,
     "metadata": {},
     "output_type": "execute_result"
    }
   ],
   "source": [
    "import sys  # tools for working with the Python environment\n",
    "sys.version"
   ]
  },
  {
   "cell_type": "code",
   "execution_count": 349,
   "metadata": {},
   "outputs": [
    {
     "data": {
      "text/plain": [
       "sys.version_info(major=3, minor=9, micro=0, releaselevel='final', serial=0)"
      ]
     },
     "execution_count": 349,
     "metadata": {},
     "output_type": "execute_result"
    }
   ],
   "source": [
    "sys.version_info"
   ]
  },
  {
   "cell_type": "code",
   "execution_count": 350,
   "metadata": {},
   "outputs": [
    {
     "data": {
      "text/plain": [
       "'nt'"
      ]
     },
     "execution_count": 350,
     "metadata": {},
     "output_type": "execute_result"
    }
   ],
   "source": [
    "import os  # tools for working with the OS\n",
    "os.name"
   ]
  },
  {
   "cell_type": "markdown",
   "metadata": {},
   "source": [
    "## Chatting up an Object\n",
    "\n",
    "Now, this gets even better. Let’s say we have an object. \n",
    "\n",
    "*“One is the loneliest number that there ever was ...”*, or so the song goes. \n",
    "\n",
    "Maybe we can address the issue by engaging with 1.  Or maybe we can’t, but let’s try.  To start with we’ll give it the name “one”, pull up a chair, then chat it up."
   ]
  },
  {
   "cell_type": "code",
   "execution_count": 351,
   "metadata": {},
   "outputs": [],
   "source": [
    "one = 1  # hey, can I call you ‘one’?"
   ]
  },
  {
   "cell_type": "code",
   "execution_count": 352,
   "metadata": {},
   "outputs": [
    {
     "data": {
      "text/plain": [
       "1"
      ]
     },
     "execution_count": 352,
     "metadata": {},
     "output_type": "execute_result"
    }
   ],
   "source": [
    "one  # tell me a little about yourself"
   ]
  },
  {
   "cell_type": "code",
   "execution_count": 353,
   "metadata": {},
   "outputs": [
    {
     "data": {
      "text/plain": [
       "2324896704816"
      ]
     },
     "execution_count": 353,
     "metadata": {},
     "output_type": "execute_result"
    }
   ],
   "source": [
    "id(one)  # where do you live?"
   ]
  },
  {
   "cell_type": "code",
   "execution_count": 354,
   "metadata": {},
   "outputs": [
    {
     "data": {
      "text/plain": [
       "int"
      ]
     },
     "execution_count": 354,
     "metadata": {},
     "output_type": "execute_result"
    }
   ],
   "source": [
    "type(one)  # I like your type. What is it, anyway?"
   ]
  },
  {
   "cell_type": "code",
   "execution_count": 355,
   "metadata": {},
   "outputs": [
    {
     "data": {
      "text/plain": [
       "True"
      ]
     },
     "execution_count": 355,
     "metadata": {},
     "output_type": "execute_result"
    }
   ],
   "source": [
    "isinstance(one, int)  # Um. Right, then an integer?"
   ]
  },
  {
   "cell_type": "markdown",
   "metadata": {},
   "source": [
    "Let’s step through this preliminary conversation. \n",
    "\n",
    "After we assigned it a name, we then called it by name and it responded. It happened to respond with its value, but not all objects do that. The response is built into the object as its **\\_\\_repr\\_\\_** method, which is executed when you type the name. When you make your own classes later on, you’ll be able to make it say something like “I’m 1, and I’m a Leo”, or anything else you like. The **int** object simply replies with a parsimonious string representation of itself.\n",
    "\n",
    "The next bit, invoking the top level function **id** provides a unique descriptor of the object. Under the hood, it’s just the location in memory where the object resides (that’s how it’s guaranteed to be unique – no two objects can occupy the same space at the same time).\n",
    "\n",
    "We’re pretty sure what type of object one is, but we can ask to be sure using the **type** method. In this case, we learn that it’s an **int** object (not an “integer”). In fact, **int** is the name of a built-in function and already reserved by Python. We can use it with the **isinstance** method to verify its type. This can become important – for instance, we might want to check whether an object is a number before attempting to do math with it.\n",
    "\n",
    "One of the really useful aspects of Python is that objects come to us already endowed with properties and already knowing how to do type-appropriate tricks. More properly these are called **attributes** and **methods** (“nouns” and “verbs”). "
   ]
  },
  {
   "cell_type": "markdown",
   "metadata": {},
   "source": [
    "## Methods Can Be Built Into Objects\n",
    "\n",
    "We can discover some of the methods built into the **int** objects empirically, just by interacting with it.  So let’s experiment:"
   ]
  },
  {
   "cell_type": "code",
   "execution_count": 356,
   "metadata": {},
   "outputs": [
    {
     "data": {
      "text/plain": [
       "2"
      ]
     },
     "execution_count": 356,
     "metadata": {},
     "output_type": "execute_result"
    }
   ],
   "source": [
    "one + one  # can you add?"
   ]
  },
  {
   "cell_type": "code",
   "execution_count": 357,
   "metadata": {},
   "outputs": [
    {
     "data": {
      "text/plain": [
       "1.0"
      ]
     },
     "execution_count": 357,
     "metadata": {},
     "output_type": "execute_result"
    }
   ],
   "source": [
    "one / one  # divide?"
   ]
  },
  {
   "cell_type": "code",
   "execution_count": 358,
   "metadata": {},
   "outputs": [
    {
     "data": {
      "text/plain": [
       "1"
      ]
     },
     "execution_count": 358,
     "metadata": {},
     "output_type": "execute_result"
    }
   ],
   "source": [
    "one * one  # OK then, can you multiply?"
   ]
  },
  {
   "cell_type": "code",
   "execution_count": 359,
   "metadata": {},
   "outputs": [
    {
     "data": {
      "text/plain": [
       "1"
      ]
     },
     "execution_count": 359,
     "metadata": {},
     "output_type": "execute_result"
    }
   ],
   "source": [
    "one ** one  # do powers?"
   ]
  },
  {
   "cell_type": "code",
   "execution_count": 360,
   "metadata": {},
   "outputs": [
    {
     "data": {
      "text/plain": [
       "0"
      ]
     },
     "execution_count": 360,
     "metadata": {},
     "output_type": "execute_result"
    }
   ],
   "source": [
    "one % one  # how about modulo operations?"
   ]
  },
  {
   "cell_type": "markdown",
   "metadata": {},
   "source": [
    "This is pretty much as expected, since we’re already familiar with integers. But we’ll frequently encounter objects that we’re not familiar with, or need to know how they handle various operators. Sometimes things aren’t as expected. For instance, what happens if we do a “multiplication” or “addition” operation on a string?"
   ]
  },
  {
   "cell_type": "markdown",
   "metadata": {},
   "source": [
    "##  Implementation of Operators Varies\n",
    "\n",
    "Sometimes things aren’t as expected. For instance, what happens if we do a “multiplication” or “addition” operation on a string?"
   ]
  },
  {
   "cell_type": "code",
   "execution_count": 361,
   "metadata": {},
   "outputs": [
    {
     "data": {
      "text/plain": [
       "'gocubs'"
      ]
     },
     "execution_count": 361,
     "metadata": {},
     "output_type": "execute_result"
    }
   ],
   "source": [
    " \"go\" + \"cubs\""
   ]
  },
  {
   "cell_type": "code",
   "execution_count": 362,
   "metadata": {},
   "outputs": [
    {
     "data": {
      "text/plain": [
       "'cubscubscubscubscubscubscubscubscubscubs'"
      ]
     },
     "execution_count": 362,
     "metadata": {},
     "output_type": "execute_result"
    }
   ],
   "source": [
    "\"cubs\" * 10"
   ]
  },
  {
   "cell_type": "markdown",
   "metadata": {},
   "source": [
    "Getting Help\n",
    "------------\n",
    "\n",
    "Though it’s interesting and really informative to experiment, you’ll typically be too busy to indulge. In these cases, the most straightforward way to engage is to ask for help. This is easy enough to accomplish as you can see below. "
   ]
  },
  {
   "cell_type": "code",
   "execution_count": 363,
   "metadata": {},
   "outputs": [
    {
     "name": "stdout",
     "output_type": "stream",
     "text": [
      "Help on int object:\n",
      "\n",
      "class int(object)\n",
      " |  int([x]) -> integer\n",
      " |  int(x, base=10) -> integer\n",
      " |  \n",
      " |  Convert a number or string to an integer, or return 0 if no arguments\n",
      " |  are given.  If x is a number, return x.__int__().  For floating point\n",
      " |  numbers, this truncates towards zero.\n",
      " |  \n",
      " |  If x is not a number or if base is given, then x must be a string,\n",
      " |  bytes, or bytearray instance representing an integer literal in the\n",
      " |  given base.  The literal can be preceded by '+' or '-' and be surrounded\n",
      " |  by whitespace.  The base defaults to 10.  Valid bases are 0 and 2-36.\n",
      " |  Base 0 means to interpret the base from the string as an integer literal.\n",
      " |  >>> int('0b100', base=0)\n",
      " |  4\n",
      " |  \n",
      " |  Built-in subclasses:\n",
      " |      bool\n",
      " |  \n",
      " |  Methods defined here:\n",
      " |  \n",
      " |  __abs__(self, /)\n",
      " |      abs(self)\n",
      " |  \n",
      " |  __add__(self, value, /)\n",
      " |      Return self+value.\n",
      " |  \n",
      " |  __and__(self, value, /)\n",
      " |      Return self&value.\n",
      " |  \n",
      " |  __bool__(self, /)\n",
      " |      self != 0\n",
      " |  \n",
      " |  __ceil__(...)\n",
      " |      Ceiling of an Integral returns itself.\n",
      " |  \n",
      " |  __divmod__(self, value, /)\n",
      " |      Return divmod(self, value).\n",
      " |  \n",
      " |  __eq__(self, value, /)\n",
      " |      Return self==value.\n",
      " |  \n",
      " |  __float__(self, /)\n",
      " |      float(self)\n",
      " |  \n",
      " |  __floor__(...)\n",
      " |      Flooring an Integral returns itself.\n",
      " |  \n",
      " |  __floordiv__(self, value, /)\n",
      " |      Return self//value.\n",
      " |  \n",
      " |  __format__(self, format_spec, /)\n",
      " |      Default object formatter.\n",
      " |  \n",
      " |  __ge__(self, value, /)\n",
      " |      Return self>=value.\n",
      " |  \n",
      " |  __getattribute__(self, name, /)\n",
      " |      Return getattr(self, name).\n",
      " |  \n",
      " |  __getnewargs__(self, /)\n",
      " |  \n",
      " |  __gt__(self, value, /)\n",
      " |      Return self>value.\n",
      " |  \n",
      " |  __hash__(self, /)\n",
      " |      Return hash(self).\n",
      " |  \n",
      " |  __index__(self, /)\n",
      " |      Return self converted to an integer, if self is suitable for use as an index into a list.\n",
      " |  \n",
      " |  __int__(self, /)\n",
      " |      int(self)\n",
      " |  \n",
      " |  __invert__(self, /)\n",
      " |      ~self\n",
      " |  \n",
      " |  __le__(self, value, /)\n",
      " |      Return self<=value.\n",
      " |  \n",
      " |  __lshift__(self, value, /)\n",
      " |      Return self<<value.\n",
      " |  \n",
      " |  __lt__(self, value, /)\n",
      " |      Return self<value.\n",
      " |  \n",
      " |  __mod__(self, value, /)\n",
      " |      Return self%value.\n",
      " |  \n",
      " |  __mul__(self, value, /)\n",
      " |      Return self*value.\n",
      " |  \n",
      " |  __ne__(self, value, /)\n",
      " |      Return self!=value.\n",
      " |  \n",
      " |  __neg__(self, /)\n",
      " |      -self\n",
      " |  \n",
      " |  __or__(self, value, /)\n",
      " |      Return self|value.\n",
      " |  \n",
      " |  __pos__(self, /)\n",
      " |      +self\n",
      " |  \n",
      " |  __pow__(self, value, mod=None, /)\n",
      " |      Return pow(self, value, mod).\n",
      " |  \n",
      " |  __radd__(self, value, /)\n",
      " |      Return value+self.\n",
      " |  \n",
      " |  __rand__(self, value, /)\n",
      " |      Return value&self.\n",
      " |  \n",
      " |  __rdivmod__(self, value, /)\n",
      " |      Return divmod(value, self).\n",
      " |  \n",
      " |  __repr__(self, /)\n",
      " |      Return repr(self).\n",
      " |  \n",
      " |  __rfloordiv__(self, value, /)\n",
      " |      Return value//self.\n",
      " |  \n",
      " |  __rlshift__(self, value, /)\n",
      " |      Return value<<self.\n",
      " |  \n",
      " |  __rmod__(self, value, /)\n",
      " |      Return value%self.\n",
      " |  \n",
      " |  __rmul__(self, value, /)\n",
      " |      Return value*self.\n",
      " |  \n",
      " |  __ror__(self, value, /)\n",
      " |      Return value|self.\n",
      " |  \n",
      " |  __round__(...)\n",
      " |      Rounding an Integral returns itself.\n",
      " |      Rounding with an ndigits argument also returns an integer.\n",
      " |  \n",
      " |  __rpow__(self, value, mod=None, /)\n",
      " |      Return pow(value, self, mod).\n",
      " |  \n",
      " |  __rrshift__(self, value, /)\n",
      " |      Return value>>self.\n",
      " |  \n",
      " |  __rshift__(self, value, /)\n",
      " |      Return self>>value.\n",
      " |  \n",
      " |  __rsub__(self, value, /)\n",
      " |      Return value-self.\n",
      " |  \n",
      " |  __rtruediv__(self, value, /)\n",
      " |      Return value/self.\n",
      " |  \n",
      " |  __rxor__(self, value, /)\n",
      " |      Return value^self.\n",
      " |  \n",
      " |  __sizeof__(self, /)\n",
      " |      Returns size in memory, in bytes.\n",
      " |  \n",
      " |  __sub__(self, value, /)\n",
      " |      Return self-value.\n",
      " |  \n",
      " |  __truediv__(self, value, /)\n",
      " |      Return self/value.\n",
      " |  \n",
      " |  __trunc__(...)\n",
      " |      Truncating an Integral returns itself.\n",
      " |  \n",
      " |  __xor__(self, value, /)\n",
      " |      Return self^value.\n",
      " |  \n",
      " |  as_integer_ratio(self, /)\n",
      " |      Return integer ratio.\n",
      " |      \n",
      " |      Return a pair of integers, whose ratio is exactly equal to the original int\n",
      " |      and with a positive denominator.\n",
      " |      \n",
      " |      >>> (10).as_integer_ratio()\n",
      " |      (10, 1)\n",
      " |      >>> (-10).as_integer_ratio()\n",
      " |      (-10, 1)\n",
      " |      >>> (0).as_integer_ratio()\n",
      " |      (0, 1)\n",
      " |  \n",
      " |  bit_length(self, /)\n",
      " |      Number of bits necessary to represent self in binary.\n",
      " |      \n",
      " |      >>> bin(37)\n",
      " |      '0b100101'\n",
      " |      >>> (37).bit_length()\n",
      " |      6\n",
      " |  \n",
      " |  conjugate(...)\n",
      " |      Returns self, the complex conjugate of any int.\n",
      " |  \n",
      " |  to_bytes(self, /, length, byteorder, *, signed=False)\n",
      " |      Return an array of bytes representing an integer.\n",
      " |      \n",
      " |      length\n",
      " |        Length of bytes object to use.  An OverflowError is raised if the\n",
      " |        integer is not representable with the given number of bytes.\n",
      " |      byteorder\n",
      " |        The byte order used to represent the integer.  If byteorder is 'big',\n",
      " |        the most significant byte is at the beginning of the byte array.  If\n",
      " |        byteorder is 'little', the most significant byte is at the end of the\n",
      " |        byte array.  To request the native byte order of the host system, use\n",
      " |        `sys.byteorder' as the byte order value.\n",
      " |      signed\n",
      " |        Determines whether two's complement is used to represent the integer.\n",
      " |        If signed is False and a negative integer is given, an OverflowError\n",
      " |        is raised.\n",
      " |  \n",
      " |  ----------------------------------------------------------------------\n",
      " |  Class methods defined here:\n",
      " |  \n",
      " |  from_bytes(bytes, byteorder, *, signed=False) from builtins.type\n",
      " |      Return the integer represented by the given array of bytes.\n",
      " |      \n",
      " |      bytes\n",
      " |        Holds the array of bytes to convert.  The argument must either\n",
      " |        support the buffer protocol or be an iterable object producing bytes.\n",
      " |        Bytes and bytearray are examples of built-in objects that support the\n",
      " |        buffer protocol.\n",
      " |      byteorder\n",
      " |        The byte order used to represent the integer.  If byteorder is 'big',\n",
      " |        the most significant byte is at the beginning of the byte array.  If\n",
      " |        byteorder is 'little', the most significant byte is at the end of the\n",
      " |        byte array.  To request the native byte order of the host system, use\n",
      " |        `sys.byteorder' as the byte order value.\n",
      " |      signed\n",
      " |        Indicates whether two's complement is used to represent the integer.\n",
      " |  \n",
      " |  ----------------------------------------------------------------------\n",
      " |  Static methods defined here:\n",
      " |  \n",
      " |  __new__(*args, **kwargs) from builtins.type\n",
      " |      Create and return a new object.  See help(type) for accurate signature.\n",
      " |  \n",
      " |  ----------------------------------------------------------------------\n",
      " |  Data descriptors defined here:\n",
      " |  \n",
      " |  denominator\n",
      " |      the denominator of a rational number in lowest terms\n",
      " |  \n",
      " |  imag\n",
      " |      the imaginary part of a complex number\n",
      " |  \n",
      " |  numerator\n",
      " |      the numerator of a rational number in lowest terms\n",
      " |  \n",
      " |  real\n",
      " |      the real part of a complex number\n",
      "\n"
     ]
    }
   ],
   "source": [
    "help(one)"
   ]
  },
  {
   "cell_type": "markdown",
   "metadata": {},
   "source": [
    "Another way to get information quickly is to use the built-in **dir** method on the object. The output is a little harder to interpret, especially when you’re looking at it for the first time, but you can get a fairly compact look at the contents of the object’s **namespace**.  Let’s check it out, and I’ll explain some of the bits and pieces below."
   ]
  },
  {
   "cell_type": "code",
   "execution_count": 364,
   "metadata": {},
   "outputs": [
    {
     "data": {
      "text/plain": [
       "['__abs__',\n",
       " '__add__',\n",
       " '__and__',\n",
       " '__bool__',\n",
       " '__ceil__',\n",
       " '__class__',\n",
       " '__delattr__',\n",
       " '__dir__',\n",
       " '__divmod__',\n",
       " '__doc__',\n",
       " '__eq__',\n",
       " '__float__',\n",
       " '__floor__',\n",
       " '__floordiv__',\n",
       " '__format__',\n",
       " '__ge__',\n",
       " '__getattribute__',\n",
       " '__getnewargs__',\n",
       " '__gt__',\n",
       " '__hash__',\n",
       " '__index__',\n",
       " '__init__',\n",
       " '__init_subclass__',\n",
       " '__int__',\n",
       " '__invert__',\n",
       " '__le__',\n",
       " '__lshift__',\n",
       " '__lt__',\n",
       " '__mod__',\n",
       " '__mul__',\n",
       " '__ne__',\n",
       " '__neg__',\n",
       " '__new__',\n",
       " '__or__',\n",
       " '__pos__',\n",
       " '__pow__',\n",
       " '__radd__',\n",
       " '__rand__',\n",
       " '__rdivmod__',\n",
       " '__reduce__',\n",
       " '__reduce_ex__',\n",
       " '__repr__',\n",
       " '__rfloordiv__',\n",
       " '__rlshift__',\n",
       " '__rmod__',\n",
       " '__rmul__',\n",
       " '__ror__',\n",
       " '__round__',\n",
       " '__rpow__',\n",
       " '__rrshift__',\n",
       " '__rshift__',\n",
       " '__rsub__',\n",
       " '__rtruediv__',\n",
       " '__rxor__',\n",
       " '__setattr__',\n",
       " '__sizeof__',\n",
       " '__str__',\n",
       " '__sub__',\n",
       " '__subclasshook__',\n",
       " '__truediv__',\n",
       " '__trunc__',\n",
       " '__xor__',\n",
       " 'as_integer_ratio',\n",
       " 'bit_length',\n",
       " 'conjugate',\n",
       " 'denominator',\n",
       " 'from_bytes',\n",
       " 'imag',\n",
       " 'numerator',\n",
       " 'real',\n",
       " 'to_bytes']"
      ]
     },
     "execution_count": 364,
     "metadata": {},
     "output_type": "execute_result"
    }
   ],
   "source": [
    "dir(one)"
   ]
  },
  {
   "cell_type": "markdown",
   "metadata": {},
   "source": [
    "The strange looking names that are surrounded by the “\\_\\_” characters (which some call “dunder”, for “double underscore”) are mostly methods that implement logic to make operational characters like “+” or “\\<.” In general, any name beginning with one or more “\\_” characters is intended for the object’s internal usage. You can access these, of course, but you’ve been warned.\n",
    "\n",
    "The plain-text names are designed for “public consumption.” You can learn more about them by slogging through the verbose help, asking for help on a more narrow topic, or just by typing them in at the command line, something like:"
   ]
  },
  {
   "cell_type": "code",
   "execution_count": 365,
   "metadata": {},
   "outputs": [
    {
     "data": {
      "text/plain": [
       "1"
      ]
     },
     "execution_count": 365,
     "metadata": {},
     "output_type": "execute_result"
    }
   ],
   "source": [
    "one.denominator"
   ]
  },
  {
   "cell_type": "code",
   "execution_count": 366,
   "metadata": {},
   "outputs": [
    {
     "data": {
      "text/plain": [
       "1"
      ]
     },
     "execution_count": 366,
     "metadata": {},
     "output_type": "execute_result"
    }
   ],
   "source": [
    "one.real"
   ]
  },
  {
   "cell_type": "code",
   "execution_count": 367,
   "metadata": {},
   "outputs": [
    {
     "data": {
      "text/plain": [
       "<function int.from_bytes(bytes, byteorder, *, signed=False)>"
      ]
     },
     "execution_count": 367,
     "metadata": {},
     "output_type": "execute_result"
    }
   ],
   "source": [
    "one.from_bytes"
   ]
  },
  {
   "cell_type": "code",
   "execution_count": 368,
   "metadata": {},
   "outputs": [
    {
     "name": "stdout",
     "output_type": "stream",
     "text": [
      "Help on built-in function from_bytes:\n",
      "\n",
      "from_bytes(bytes, byteorder, *, signed=False) method of builtins.type instance\n",
      "    Return the integer represented by the given array of bytes.\n",
      "    \n",
      "    bytes\n",
      "      Holds the array of bytes to convert.  The argument must either\n",
      "      support the buffer protocol or be an iterable object producing bytes.\n",
      "      Bytes and bytearray are examples of built-in objects that support the\n",
      "      buffer protocol.\n",
      "    byteorder\n",
      "      The byte order used to represent the integer.  If byteorder is 'big',\n",
      "      the most significant byte is at the beginning of the byte array.  If\n",
      "      byteorder is 'little', the most significant byte is at the end of the\n",
      "      byte array.  To request the native byte order of the host system, use\n",
      "      `sys.byteorder' as the byte order value.\n",
      "    signed\n",
      "      Indicates whether two's complement is used to represent the integer.\n",
      "\n"
     ]
    }
   ],
   "source": [
    "help(one.from_bytes)"
   ]
  },
  {
   "cell_type": "markdown",
   "metadata": {},
   "source": [
    "You’ll recall that when you simply type the name of an object into the command line, you’re asking it to describe itself by invoking its **\\_\\_repr\\_\\_** method. This is one of Python’s so-called “magic methods” which are baked into the object with specific names that are meaningful to the interpreter. As another example, the **\\_\\_str\\_\\_** method is invoked when you use the object as an argument to the **print** method.\n",
    "\n",
    "Here’s a list of some of the other “magic methods”, along with their meanings. From the **dir** listing, we can see that most of these are baked into the **int** object. We’ll actually be writing our own versions of some these later in the course, but for now, here’s an overview of the math operations."
   ]
  },
  {
   "cell_type": "markdown",
   "metadata": {},
   "source": [
    "| Human                   | Operator    | Method                |\n",
    "|-------------------------|-------------|-----------------------|\n",
    "| addition                | x + y       | x.\\_\\_add\\_\\_(y)      |\n",
    "| bitwise and             | x & y       | x.\\_\\_and\\_\\_(y)      |\n",
    "| bitwise or              | x \\| y      | x.\\_\\_or\\_\\_(y)       |\n",
    "| bitwise xor             | x ^ y       | x.\\_\\_xor\\_\\_(y)      |\n",
    "| division                | x / y       | x.\\_\\_truediv\\_\\_(y)  |\n",
    "| floor division          | x // y      | x.\\_\\_floordiv\\_\\_(y) |\n",
    "| floor division & modulo | divmod(x,y) | x.\\_\\_divmod\\_\\_(y)   |\n",
    "| left bit-shift          | x \\<\\< y    | x.\\_\\_lshift\\_\\_(y)   |\n",
    "| modulo (remainder)      | x % y       | x.\\_\\_mod\\_\\_(y)      |\n",
    "| multiplication          | x \\* y      | x.\\_\\_mul\\_\\_(y)      |\n",
    "| raise to power          | x \\*\\* y    | x.\\_\\_pow\\_\\_(y)      |\n",
    "| right bit-shift         | x \\>\\> y    | x.\\_\\_rshift\\_\\_(y)   |\n",
    "| subtraction             | x - y       | x.\\_\\_sub\\_\\_(y)      |\n",
    "|<img width=210/>         |<img width=210/>    |<img width=210/>|"
   ]
  },
  {
   "cell_type": "markdown",
   "metadata": {},
   "source": [
    "You’ll note that the **help** method is not within the namespace of the objects. That’s because **help** is a top-level method. It works by ransacking the object for what are called its **docstrings** – these are provided by the programmer. They survive compilation so are carried with the object itself, and can be whatever the programmer wants them to be.  By contrast, comments do not survive compilation and exist mostly as developer-to-developer notes.\n",
    "\n",
    "**Docstrings** are simply the first executable line(s) of code in an object, assuming a couple of things: the line(s) of code is a **str** object, and the **str** object is not associated with a name. A quick example should serve to clarify."
   ]
  },
  {
   "cell_type": "code",
   "execution_count": 369,
   "metadata": {},
   "outputs": [
    {
     "name": "stdout",
     "output_type": "stream",
     "text": [
      "Help on function my_first_function in module __main__:\n",
      "\n",
      "my_first_function()\n",
      "    the most simple function on Earth\n",
      "\n"
     ]
    }
   ],
   "source": [
    "def my_first_function():\n",
    "    \"the most simple function on Earth\"\n",
    "\n",
    "help(my_first_function)"
   ]
  },
  {
   "cell_type": "markdown",
   "metadata": {},
   "source": [
    "Here, the built-in **help** method simply picked off the docstring and served it up as content within its delivery system (which is just like **man** to deliver manual pages in a Posix system).\n",
    "\n",
    "Had this function been a method within a containing object like a class, the help system would provide all available docstrings in the containing object. That’s what happened when we used **help**(**one**) – we got all the docstrings for the methods and attributes within the **int** class.\n",
    "\n",
    "While the built-in functionality typically serves well, sometimes it’s necessary to go outside your code or use libraries that support introspection of your objects[4]. Python has exceptionally well-written official documentation that’s available at:\n",
    "\n",
    "<http://python.org/3>\n",
    "\n",
    "One word of caution – at the top-left of the Python docs web page, you’ll see a small scroll-down menu with a number in it. \n",
    "\n",
    "The number is the version of Python addressed by the main page’s contents. It’s quite easy to follow a link from a StackOverflow posting (say) that vectors into the wrong version. Among versions of Python3 it usually won’t matter, but there are significant differences between 2.x and 3.x and you could waste a lot of time trying to get the wrong material to work.\n"
   ]
  },
  {
   "cell_type": "markdown",
   "metadata": {},
   "source": [
    "Numbers and More Numbers\n",
    "------------------------\n",
    "\n",
    "There are only two other numeric types within the core Python language, the **float** and **complex** types. There are some exotic types in external libraries such as decimal, such as **Fraction** (for real numbers) and **Decimal** (for arbitrary levels of precision)[5].\n",
    "\n",
    "The **float** type is pretty much what you would expect – it’s anything with a decimal point. Here’s an example:"
   ]
  },
  {
   "cell_type": "code",
   "execution_count": 370,
   "metadata": {},
   "outputs": [
    {
     "data": {
      "text/plain": [
       "float"
      ]
     },
     "execution_count": 370,
     "metadata": {},
     "output_type": "execute_result"
    }
   ],
   "source": [
    "root_beer = 1.0\n",
    "type(root_beer)"
   ]
  },
  {
   "cell_type": "markdown",
   "metadata": {},
   "source": [
    "Unless you’re an electrical engineer or a glutton for punishment, you probably have little to do with “complex numbers.” They’re not all that complex, but require two components. The first is “real” – an ordinary number that stands on its own feet – and the second is “imaginary” – a number that’s multiplied by the square root of -1. Yes, that’s where it gets weird, but it’s beyond the scope of this class. Here’s one way to specify a **complex** object:"
   ]
  },
  {
   "cell_type": "code",
   "execution_count": 371,
   "metadata": {},
   "outputs": [
    {
     "data": {
      "text/plain": [
       "complex"
      ]
     },
     "execution_count": 371,
     "metadata": {},
     "output_type": "execute_result"
    }
   ],
   "source": [
    "complexity = (3 + 5j)   #Note that 'j' signifies the imaginary component - not 'i'\n",
    "type(complexity)"
   ]
  },
  {
   "cell_type": "markdown",
   "metadata": {},
   "source": [
    " Accuracy and Garbage\n",
    "--------------------\n",
    "\n",
    "Integers can be represented accurately in a computer because they are nicely discrete. Later versions of Python implement integers in such a way as they can be arbitrarily long, and don’t have to be explicitly specified as such.\n",
    "\n",
    "Floating point numbers are only so accurate (the default level of precision is 28 places). This can become an issue with numbers that never end, like 1/3, or numbers which are really large. Just for fun, you can try adding .1 + .1 + .1 to see what happens.\n",
    "\n",
    "A final point: floating point number can contain some “garbage bits” in the 1/1000000 decimal place and beyond, even if you’ve specified it as simply as 1.0 – something to be aware of when doing tests of equality."
   ]
  },
  {
   "cell_type": "markdown",
   "metadata": {},
   "source": [
    " Numeric Types as Methods\n",
    "------------------------\n",
    "\n",
    "We have seen numeric types like **int** and **float** used to describe objects, but they can also be used to convert data types (“type casting”) by invoking them as constructor methods. Here’s how you can convert an **int** to a **float**"
   ]
  },
  {
   "cell_type": "code",
   "execution_count": 372,
   "metadata": {},
   "outputs": [
    {
     "data": {
      "text/plain": [
       "float"
      ]
     },
     "execution_count": 372,
     "metadata": {},
     "output_type": "execute_result"
    }
   ],
   "source": [
    "one = 1\n",
    "one_float = float(one)\n",
    "type(one_float)"
   ]
  },
  {
   "cell_type": "code",
   "execution_count": 373,
   "metadata": {},
   "outputs": [
    {
     "data": {
      "text/plain": [
       "int"
      ]
     },
     "execution_count": 373,
     "metadata": {},
     "output_type": "execute_result"
    }
   ],
   "source": [
    "and_back = int(one_float)\n",
    "type(and_back)"
   ]
  },
  {
   "cell_type": "code",
   "execution_count": 374,
   "metadata": {},
   "outputs": [
    {
     "data": {
      "text/plain": [
       "float"
      ]
     },
     "execution_count": 374,
     "metadata": {},
     "output_type": "execute_result"
    }
   ],
   "source": [
    "one = 1\n",
    "one_float = float(one)\n",
    "type(one_float)"
   ]
  },
  {
   "cell_type": "code",
   "execution_count": 375,
   "metadata": {},
   "outputs": [
    {
     "data": {
      "text/plain": [
       "int"
      ]
     },
     "execution_count": 375,
     "metadata": {},
     "output_type": "execute_result"
    }
   ],
   "source": [
    "and_back = int(one_float)\n",
    "type(and_back)"
   ]
  },
  {
   "cell_type": "markdown",
   "metadata": {},
   "source": [
    "Python will even try to convert strings to numeric types. If it can’t, you’ll get a **ValueError** exception."
   ]
  },
  {
   "cell_type": "code",
   "execution_count": 376,
   "metadata": {},
   "outputs": [
    {
     "data": {
      "text/plain": [
       "1.0"
      ]
     },
     "execution_count": 376,
     "metadata": {},
     "output_type": "execute_result"
    }
   ],
   "source": [
    "one_string = (\"1\")\n",
    "one_string_float = float(one_string)\n",
    "one_string_float"
   ]
  },
  {
   "cell_type": "code",
   "execution_count": 377,
   "metadata": {},
   "outputs": [
    {
     "data": {
      "text/plain": [
       "float"
      ]
     },
     "execution_count": 377,
     "metadata": {},
     "output_type": "execute_result"
    }
   ],
   "source": [
    "type(one_string_float)"
   ]
  },
  {
   "cell_type": "markdown",
   "metadata": {},
   "source": [
    "You can also directly specify variables invoking the constructor with appropriate arguments. Python will do its level best to whistle up the right object for you. Here are some examples:"
   ]
  },
  {
   "cell_type": "code",
   "execution_count": 378,
   "metadata": {},
   "outputs": [
    {
     "name": "stdout",
     "output_type": "stream",
     "text": [
      "(1+2j) (1+0j)\n",
      "1.0 333\n",
      "1 123\n"
     ]
    }
   ],
   "source": [
    "print(complex(1, 2), complex(1))\n",
    "\n",
    "print(float(1), int('333'))\n",
    "\n",
    "print(int(1.3),  str(123))"
   ]
  },
  {
   "cell_type": "markdown",
   "metadata": {},
   "source": [
    "Getting User Input\n",
    "------------------\n",
    "\n",
    "Python has built-in method for getting information from the user using the standard input stream (think “keyboard” for now). You probably won’t be building applications using direct user input very often, but it’s handy to know how to use. The syntax is straightforward:"
   ]
  },
  {
   "cell_type": "code",
   "execution_count": 379,
   "metadata": {},
   "outputs": [
    {
     "name": "stdout",
     "output_type": "stream",
     "text": [
      "Hey, Pat, how’s it going?   s'okey\n",
      "s'okey\n"
     ]
    }
   ],
   "source": [
    "# NB Python will hang until you hit 'Enter' !  This will drive you insane if you forget.\n",
    "\n",
    "answer = input(\"Hey, Pat, how’s it going?   \")\n",
    "print(answer)"
   ]
  },
  {
   "cell_type": "markdown",
   "metadata": {},
   "source": [
    "The response will always be returned as a string, no matter what, as you can see from this terminal session:\n",
    "\n",
    "\\>\\>\\> my_input = input(\"Can I pleeese have a one? \")\n",
    "Can I pleeese have a one? 1\n",
    "\n",
    "\\>\\>\\> my_input\n",
    "\n",
    "'1'\n",
    "\n",
    "\\>\\>\\> type(my_input)\n",
    "\n",
    "class ‘str’\n",
    "\n",
    "If you need an integer, you’ll have to use the **int** constructor to type-cast it.\n",
    "\n"
   ]
  },
  {
   "cell_type": "markdown",
   "metadata": {},
   "source": [
    "## Exercise:\n",
    "\n",
    "You now have the wisdom of the ages at your disposal – a good bit of it, anyway. Let’s see if you can put some of this to good use.\n",
    "\n",
    "- If it takes three buckets of water to put out a campfire (two just won’t do it), how many campfires can you extinguish with 50 buckets? Solve the problem using the modulo operator.  You might use help() or experiment if you don't know how to use it.\n",
    "\n",
    "\n",
    "- Create a program that tests how “*”, ‘/’, “+” and “-“ are implemented for string, float, and complex numbers. Use a docstring to document it and make sure it works when calling help on it. Include some comments as a kindness to yourself and your teammates.\n",
    "\n",
    "\n",
    "- Create a program that asks the user for their name, sign, and favorite beverage, then asks them to confirm that information."
   ]
  },
  {
   "cell_type": "markdown",
   "metadata": {},
   "source": [
    "You now have the wisdom of the ages at your disposal – a good bit of it, anyway. Let’s see if you can put some of this to good use."
   ]
  },
  {
   "cell_type": "markdown",
   "metadata": {},
   "source": [
    "# “String Theory” \n",
    "---------------\n",
    "\n",
    "Now that you know how to create strings, let’s explore what how we can manipulate and interact with them.\n",
    "\n",
    "The first thing you should know that strings are **sequences**. We’ll discuss more complicated sequences later, but for now you should know you can iterate over them quite easily[6]. \n",
    "\n",
    "Check this out:"
   ]
  },
  {
   "cell_type": "code",
   "execution_count": 380,
   "metadata": {},
   "outputs": [
    {
     "name": "stdout",
     "output_type": "stream",
     "text": [
      "H\n",
      "e\n",
      "y\n",
      "!\n"
     ]
    }
   ],
   "source": [
    "some_string = \"Hey!\"\n",
    "for s in some_string:\n",
    "    print(s)"
   ]
  },
  {
   "cell_type": "raw",
   "metadata": {},
   "source": [
    "Here, we used the **for** statement to loop through each element of the string. The **for** statement is really simple to implement. The syntax is:\n",
    "\n",
    "for <the name of the index> in <some iterable>:\n",
    "     <an indented suite>[7]"
   ]
  },
  {
   "cell_type": "markdown",
   "metadata": {},
   "source": [
    "String Methods\n",
    "--------------\n",
    "\n",
    "There’s a rich inventory of methods baked into the **str** object that makes text processing really easy[8]. As with any Python object, we can get a quick look using **dir**.\n",
    "\n",
    "\n",
    "\n",
    "\n",
    "\\>\\>\\> dir(str)\n",
    "\n",
    "[snip, ‘capitalize’, ‘casefold’, ‘center’, ‘count’, ‘encode’, ‘endswith’, ‘expandtabs’, ‘find’, ‘format’, ‘format_map’, ‘index’, ‘isalnum’, ‘isalpha’, ‘isdecimal’, ‘isdigit’, ‘isidentifier’, ‘islower’, ‘isnumeric’, ‘isprintable’, ‘isspace’, ‘istitle’, ‘isupper’, ‘join’, ‘ljust’, ‘lower’, ‘lstrip’, ‘maketrans’, ‘partition’, ‘replace’, ‘rfind’, ‘rindex’, ‘rjust’, ‘rpartition’, ‘rsplit’, ‘rstrip’, ‘split’, ‘splitlines’, ‘startswith’, ‘strip’, ‘swapcase’, ‘title’, ‘translate’, ‘upper’, ‘zfill’]\n",
    "\n",
    "\n",
    "\n",
    "\n",
    "Most of these are self-explanatory, but we’ll discuss a few of the most commonly-encountered ones and how to use them here. You can test a string – or a bit of one – to see what type of characters are in it.  \n",
    "\n",
    "Note that in Python there is no “character” object *per se* – a single character is simply a really short string. We could apply these operations to the intact some\\_string object just as easily.\n",
    "\n",
    "Also note that when we execute a method, we need the parentheses even if we’re not supplying any arguments[9]. \n",
    "\n",
    "The following script demonstrates some of the string methods and introduces the use of \"{ }\". This is one way to create placeholders for arguments supplied to the **format** method. We’ll cover formatting in more detail later."
   ]
  },
  {
   "cell_type": "code",
   "execution_count": 408,
   "metadata": {},
   "outputs": [
    {
     "name": "stdout",
     "output_type": "stream",
     "text": [
      "$ is alphanumeric? False\n",
      "$ is alpha? False\n",
      "$ is numeric? False.\n",
      "$ is upper? False.\n",
      "\n",
      "R is alphanumeric? True\n",
      "R is alpha? True\n",
      "R is numeric? False.\n",
      "R is upper? True.\n",
      "\n",
      "5 is alphanumeric? True\n",
      "5 is alpha? False\n",
      "5 is numeric? True.\n",
      "5 is upper? False.\n",
      "\n",
      "a is alphanumeric? True\n",
      "a is alpha? True\n",
      "a is numeric? False.\n",
      "a is upper? False.\n",
      "\n",
      "  is alphanumeric? False\n",
      "  is alpha? False\n",
      "  is numeric? False.\n",
      "  is upper? False.\n",
      "\n"
     ]
    }
   ],
   "source": [
    "some_string = \"$R5a \"\n",
    "for s in some_string:\n",
    "    print(\"{} is alphanumeric? {}\".format(s, s.isalnum()))\n",
    "    print(\"{} is alpha? {}\".format(s, s.isalpha()))\n",
    "    print(\"{} is numeric? {}.\".format(s, s.isnumeric()))\n",
    "    print(\"{} is upper? {}.\".format(s, s.isupper()))\n",
    "    print()"
   ]
  },
  {
   "cell_type": "markdown",
   "metadata": {},
   "source": [
    "There are lots of methods to query for, and change the case of, a string. Note that the queries return a Boolean (**True** or **False**) object."
   ]
  },
  {
   "cell_type": "code",
   "execution_count": 382,
   "metadata": {},
   "outputs": [
    {
     "name": "stdout",
     "output_type": "stream",
     "text": [
      "my team ends with an ‘s’? True\n",
      "my team starts with an ‘s’? False\n",
      "in caps THE CHICAGO CUBS .\n",
      "swapped-case tHE cHICAGO cUBS .\n"
     ]
    }
   ],
   "source": [
    "my_team = \"The Chicago Cubs\"\n",
    "\n",
    "print(\"my team ends with an ‘s’? {}\".format(my_team.endswith(\"s\")))\n",
    "print(\"my team starts with an ‘s’? {}\".format(my_team.startswith(\"s\")))\n",
    "print(\"in caps {} .\".format(my_team.upper()))\n",
    "print(\"swapped-case {} .\".format(my_team.swapcase()))"
   ]
  },
  {
   "cell_type": "markdown",
   "metadata": {},
   "source": [
    "Breaking up and Getting Together Again\n",
    "--------------------------------------\n",
    "\n",
    "There are also methods to split up strings (returning a **list**[10] object) and to create a string by stitching together the elements of an **iterable**[11] object. In the example below, we can supply the **split** method a single argument – the string we’ll use to determine where to break the main string up[12]. Providing a single space (or calling it with no arguments) splits up the words into individual **list** elements.\n",
    "\n",
    "The reciprocal operation is **join**. With **join** we provide a string to insert between each element pulled from the list to reform the string. Though this example uses a **list**, this method works for any iterable object (such as a **tuple**[13] or even another string)."
   ]
  },
  {
   "cell_type": "code",
   "execution_count": 383,
   "metadata": {},
   "outputs": [
    {
     "name": "stdout",
     "output_type": "stream",
     "text": [
      "splits: ['The', 'Chicago', 'Cubs']\n",
      "\n",
      "together again: The!!!Chicago!!!Cubs.!!!\n"
     ]
    }
   ],
   "source": [
    "my_team = \"The Chicago Cubs\"\n",
    "split_team = my_team.split(\" \")\n",
    "print(\"splits: {}\".format(split_team))\n",
    "print()\n",
    "\n",
    "join_string = \"!!!\"\n",
    "together_again = join_string.join(split_team)\n",
    "print(\"together again: {}.\"\n",
    "    .format(together_again), end=join_string + \"\\n\")"
   ]
  },
  {
   "cell_type": "markdown",
   "metadata": {},
   "source": [
    "Literals and Escape Sequences\n",
    "-----------------------------\n",
    "\n",
    "Sometimes, you need to insert a specific character into a string that you can’t type directly. There are a couple ways to handle this.  The first is using “escape sequences.\" We’ve already seen that “\\\\n\"\n",
    "\n",
    "produces a new line character, but there are many more. The idea here is that inclusion of a backslash “\\\\\" tells the interpreter to do something special with (“escape\") the character that follows instead of taking it literally. Others include:\n",
    "\n",
    "> \\\\t tab\n",
    ">\n",
    "> \\\\r carriage return\n",
    ">\n",
    "> \\\\’ prints a single quote\n",
    ">\n",
    "> \\\\\" prints a double quote\n",
    ">\n",
    "> \\\\\\\\ if you really want a backslash\n",
    "\n",
    "Another way to handle this is to figure out what the character code is.  You can do that easily enough for the first 128 (ASCII) characters by printing them out with the **chr** method[14], finding your character, then using the same method in your code . You could go something like:"
   ]
  },
  {
   "cell_type": "code",
   "execution_count": 384,
   "metadata": {},
   "outputs": [
    {
     "name": "stdout",
     "output_type": "stream",
     "text": [
      "33 !\n",
      "34 \"\n",
      "35 #\n",
      "I’m a double quote: \"\n"
     ]
    }
   ],
   "source": [
    "for i in range(33, 36): #yes, I’m cheating I know it’s 34\n",
    "    print (i, chr(i))\n",
    "    \n",
    "QUOTE = chr(34)\n",
    "print(\"I’m a double quote: {}\".format(QUOTE))"
   ]
  },
  {
   "cell_type": "markdown",
   "metadata": {},
   "source": [
    "Cleaning House and Moving Furniture\n",
    "-----------------------------------\n",
    "\n",
    "Python’s string methods have an easy-to-use, and remarkably efficient, ways to do searches and replacements. “Under the hood\" they wrap regular expressions (“regexes\") and, for many operations, deliver the same performance. Once we get into regexes later, you will really appreciate this implementation.\n",
    "\n",
    "### Boolean Evaluations\n",
    "Observe how Python handles Boolean tests applied to things like strings. You might think this is pretty weird:"
   ]
  },
  {
   "cell_type": "code",
   "execution_count": 385,
   "metadata": {},
   "outputs": [
    {
     "data": {
      "text/plain": [
       "'Quinn the Husky'"
      ]
     },
     "execution_count": 385,
     "metadata": {},
     "output_type": "execute_result"
    }
   ],
   "source": [
    "dog = \"Quinn the Husky\"\n",
    "dog"
   ]
  },
  {
   "cell_type": "code",
   "execution_count": 386,
   "metadata": {},
   "outputs": [
    {
     "data": {
      "text/plain": [
       "False"
      ]
     },
     "execution_count": 386,
     "metadata": {},
     "output_type": "execute_result"
    }
   ],
   "source": [
    "not dog"
   ]
  },
  {
   "cell_type": "markdown",
   "metadata": {},
   "source": [
    "Huh? How can Python possibly evaluate a string as a Boolean value? \n",
    "\n",
    "Well, it turns out that whenever we ask for a Boolean evaluation, Python will go ahead and serve one up. \n",
    "\n",
    "It will return **False** if the object is the number 0, the keyword **None**[15], a null string, an empty list, or any other empty object. \n",
    "\n",
    "The opposite is also the case. When a Boolean operation is applied against a non-zero number, a string with at least one character, etc., **True** will be returned. \n",
    "\n",
    "Here's how one might use this behavior to test whether a user provided any input:"
   ]
  },
  {
   "cell_type": "raw",
   "metadata": {},
   "source": [
    "dog = input(\"What's your dog's name?  \")\n",
    "\n",
    "What's your dog's name?  Quinn\n",
    "\n",
    "if dog:\n",
    "    print(dog)\n",
    "Quinn"
   ]
  },
  {
   "cell_type": "markdown",
   "metadata": {},
   "source": [
    "Note the use of the **if** keyword for a simple logical branch. The syntax is straightforward:\n",
    "\n",
    "**if** \\<condition\\>:\n",
    "\n",
    "      \\<an indented suite\\>"
   ]
  },
  {
   "cell_type": "markdown",
   "metadata": {},
   "source": [
    "### More Python Keywords and **str** Object Manipulations\n",
    "Let's take a tour of some of the methods built into the string object with some real code. Here we'll learn ways to find and replace components of **str** objects. \n",
    "\n",
    "We'll begin with a string containing some popular sins."
   ]
  },
  {
   "cell_type": "code",
   "execution_count": 387,
   "metadata": {},
   "outputs": [
    {
     "name": "stdout",
     "output_type": "stream",
     "text": [
      " avarice envy wrath sloth gluttony lust hubris \n"
     ]
    }
   ],
   "source": [
    "seven_deadly = \" avarice envy wrath sloth \\\n",
    "gluttony lust hubris \"\n",
    "print(seven_deadly)"
   ]
  },
  {
   "cell_type": "markdown",
   "metadata": {},
   "source": [
    "Here is how we can use the keyword **in**[16] to figure out if one string can be found within another. This is a very vague query that will yield a Boolean response. \n",
    "\n",
    "In Python we can use **not** in a logical expression for negation."
   ]
  },
  {
   "cell_type": "code",
   "execution_count": 388,
   "metadata": {},
   "outputs": [
    {
     "name": "stdout",
     "output_type": "stream",
     "text": [
      "envy in there? True\n",
      "\n",
      "Try the key word not:\n",
      "envy NOT in there? False\n",
      "\n"
     ]
    }
   ],
   "source": [
    "sin = 'eNvY'\n",
    "\n",
    "print(\"{} in there? {}\\n\"\n",
    "      .format(sin.lower(),\n",
    "              sin.lower() in seven_deadly.lower())\n",
    "      )\n",
    "\n",
    "# doesn't exist? (use not for Boolean negation)\n",
    "print(\"Try the key word not:\")\n",
    "print(\"{} NOT in there? {}\\n\"\n",
    "      .format(sin.lower(),\n",
    "              sin.lower() not in seven_deadly)\n",
    "      )"
   ]
  },
  {
   "cell_type": "markdown",
   "metadata": {},
   "source": [
    "Note that we're invoking the lower method when searching the string.  It's not necessary, but not a bad idea because it lets you get away without trying every petty permutation of the word.\n",
    "\n",
    "A more surgical approach is to use **find**. This will attempt to locate the initial position of the string you're looking for and return its findings. If it strikes out, **find** will return a -1."
   ]
  },
  {
   "cell_type": "code",
   "execution_count": 389,
   "metadata": {},
   "outputs": [
    {
     "name": "stdout",
     "output_type": "stream",
     "text": [
      "Checking envy:\n",
      "Yup. We found 'envy' starting in position 9.\n",
      "\n",
      "Checking texting while driving:\n",
      "Nope. Since find() returned -1, 'texting while driving' wasn't there.\n",
      "\n",
      "Checking sloth:\n",
      "Yup. We found 'sloth' starting in position 20.\n",
      "\n"
     ]
    }
   ],
   "source": [
    "# Locate the position. Note the two-element tuple object.\n",
    "for sin in ('envy', 'texting while driving', 'sloth'):\n",
    "    sin_position = seven_deadly.find(sin.lower())\n",
    "\n",
    "    print (\"Checking {}:\".format(sin))\n",
    "\n",
    "    if sin_position > 0:\n",
    "        print(\"Yup. We found '{}' starting in position {}.\\n\"\n",
    "                  .format(sin.lower(), sin_position))\n",
    "    else:\n",
    "        print(\"Nope. Since find() returned {}, '{}' wasn't there.\\n\"\n",
    "                  .format(sin_position, sin.lower()))\n",
    "        "
   ]
  },
  {
   "cell_type": "markdown",
   "metadata": {},
   "source": [
    "It's possible to replace characters with new ones with the – you guessed it – **replace** method[17]. Here's a simple example that shows a potential pitfall for a new Python programmer. \n",
    "\n",
    "Strings are \"immutable\" – not changeable. Running a replace operation doesn't change the string."
   ]
  },
  {
   "cell_type": "code",
   "execution_count": 390,
   "metadata": {},
   "outputs": [
    {
     "name": "stdout",
     "output_type": "stream",
     "text": [
      "strings are immutable - compare these:\n",
      "\n",
      "no replacement:   avarice envy wrath sloth gluttony lust hubris  \n",
      "\n",
      "replaced at last:   greed envy wrath sloth gluttony lust hubris \n",
      "\n"
     ]
    }
   ],
   "source": [
    "#Replace characters\n",
    "print(\"strings are immutable - compare these:\\n\")\n",
    "seven_deadly.replace('avarice', 'greed')\n",
    "\n",
    "print(\"no replacement: \", seven_deadly, \"\\n\")\n",
    "seven_deadly = seven_deadly.replace('avarice', 'greed')\n",
    "\n",
    "print(\"replaced at last: \", seven_deadly + '\\n')"
   ]
  },
  {
   "cell_type": "markdown",
   "metadata": {},
   "source": [
    "You can remove leading and trailing whitespaces using various flavors of the **strip** method[18]. \n",
    "\n",
    "This is really handy when handling potentially-messy data like user inputs. The following example demonstrates this, along with one of Python's top-level functions len.  \n",
    "\n",
    "Note that **len** is not built into the string method – it's generally available for all objects"
   ]
  },
  {
   "cell_type": "code",
   "execution_count": 391,
   "metadata": {},
   "outputs": [
    {
     "name": "stdout",
     "output_type": "stream",
     "text": [
      "The original sin list is 45 characters long.\n",
      "With the white spaces removed it's 43 long.\n"
     ]
    }
   ],
   "source": [
    "#Remove leading/trailing spaces. Note chained methods.\n",
    "print(\"The original sin list is {} characters long.\".\n",
    "        format(len(seven_deadly)))\n",
    "\n",
    "print(\"With the white spaces removed it's {} long.\".\n",
    "        format(len(seven_deadly.strip())))"
   ]
  },
  {
   "cell_type": "markdown",
   "metadata": {},
   "source": [
    "Python's ability to have one function \"swallow\" the output of another so it's possible to chain operations together. Here, the output from the **strip** method is fed into the **len** method. The combined result is fed to **format**. And the result of all that activity is rolled up into a single argument to **print**. You'll see a lot of code like this as you explore Python.\n",
    "\n",
    " "
   ]
  },
  {
   "cell_type": "markdown",
   "metadata": {},
   "source": [
    "Making Things Beautiful: the Format Mini-Language[19]\n",
    "-----------------------------------------------------\n",
    "\n",
    "You have already seen some basic applications of Python's text formatting capabilities. If you place opposing curly braces in a string they serve as \"catcher's mitt\" for any arguments you provide to **format**().  Python actually supports different styles of formatting.  We touch on a few of these here.\n",
    "\n",
    "The olde tyme, C-style method (which you'll see in Python 2 code) is not recommended, but is still supported."
   ]
  },
  {
   "cell_type": "code",
   "execution_count": 392,
   "metadata": {},
   "outputs": [],
   "source": [
    "my_str = \"'My String'\"\n",
    "my_float = 1.23\n",
    "my_int = 666"
   ]
  },
  {
   "cell_type": "code",
   "execution_count": 393,
   "metadata": {},
   "outputs": [
    {
     "name": "stdout",
     "output_type": "stream",
     "text": [
      "Python can print strings 'My String', floats 1.230000, and ints 666.\n"
     ]
    }
   ],
   "source": [
    "print(\"Python can print strings %s, floats %f, and ints %i.\" %(my_str, my_float, my_int))"
   ]
  },
  {
   "cell_type": "markdown",
   "metadata": {},
   "source": [
    "You can also provide empty braces as placeholders.   Under the hood, they are indexed as 0, 1, 2, etc. and are replaced by arguments provided to **format()**:"
   ]
  },
  {
   "cell_type": "code",
   "execution_count": 394,
   "metadata": {},
   "outputs": [
    {
     "name": "stdout",
     "output_type": "stream",
     "text": [
      "Python can print strings 'My String', floats 1.23, and ints 666.\n"
     ]
    }
   ],
   "source": [
    "print(\"Python can print strings {}, floats {}, and ints {}.\".  \n",
    "      format(my_str, my_float, my_int))"
   ]
  },
  {
   "cell_type": "markdown",
   "metadata": {},
   "source": [
    "It's also possible to scramble the indices, and even repeat elements.  Note, also, that we don't need to use all the arguments provided.   Here's how:"
   ]
  },
  {
   "cell_type": "code",
   "execution_count": 395,
   "metadata": {},
   "outputs": [
    {
     "name": "stdout",
     "output_type": "stream",
     "text": [
      "Some numbers: 3 3 2 2 1 0\n"
     ]
    }
   ],
   "source": [
    "print(\"Some numbers: {3} {3} {2} {2} {1} {0}\".format(0, 1, 2, 3, 4))"
   ]
  },
  {
   "cell_type": "markdown",
   "metadata": {},
   "source": [
    "Separating the formatted string from the data is also possible.  That can make your code more reusable.   Here, we're using a multi-line version of a string.   Instead of a numeric index, we're naming the fields - that allows us to use it with dictionary-like arguments:"
   ]
  },
  {
   "cell_type": "code",
   "execution_count": 396,
   "metadata": {},
   "outputs": [
    {
     "name": "stdout",
     "output_type": "stream",
     "text": [
      "    Dear SuperPAC,\n",
      "   \n",
      "       I'm running for President and would like to shake\n",
      "       you down for a $100 contribution.\n",
      "\n",
      "    Sincerly, \n",
      "\n",
      "     - Me\n"
     ]
    }
   ],
   "source": [
    "stg = \"\"\"\\\n",
    "    Dear {donor},\\n   \n",
    "       I'm running for {office} and would like to shake\n",
    "       you down for a ${dollars} contribution.\\n\n",
    "    Sincerly, \\n\n",
    "     - {candidate}\"\"\"\n",
    "\n",
    "print(stg.format(donor = \"SuperPAC\", office = \"President\",\n",
    "                 dollars =100, candidate = 'Me'))"
   ]
  },
  {
   "cell_type": "markdown",
   "metadata": {},
   "source": [
    "If we already have the variables defined, we can simply create a format statment using those names.  This is the most common and most readable (IMHO) way to do it.   Note that you can perform operations of any kind within the format string's {placeholders}."
   ]
  },
  {
   "cell_type": "code",
   "execution_count": 397,
   "metadata": {},
   "outputs": [
    {
     "name": "stdout",
     "output_type": "stream",
     "text": [
      "Jerry Garcia and the fabulous Grateful Dead are the greatest!\n",
      "\n",
      "... because there are 12 letters in Jerry Garcia's name...\n",
      "... and half of that is 6.0.\n"
     ]
    }
   ],
   "source": [
    "fav_musician = \"Jerry Garcia\"\n",
    "fav_band = \"Grateful Dead\"\n",
    "\n",
    "# This is called an 'f-string' - introduced in Python 3.6\n",
    "print(f\"{fav_musician} and the fabulous {fav_band} are the greatest!\\n\")\n",
    "\n",
    "print(f\"... because there are {len(fav_musician)} letters in {fav_musician}'s name...\")\n",
    "print(f\"... and half of that is {len(fav_musician)/2}.\")\n"
   ]
  },
  {
   "cell_type": "markdown",
   "metadata": {},
   "source": [
    "It's also easy to provide column width and justification specifications.  The general form of the specification is something like:\n",
    "\n",
    "{ \\<field name\\> : \\<alignment\\>[21] \\<width\\> }\n",
    "\n",
    "This example creates three columns of equal width, left justified in a\n",
    "format string, then \"recycles\" the string to build a nicely-formatted\n",
    "table."
   ]
  },
  {
   "cell_type": "code",
   "execution_count": 398,
   "metadata": {},
   "outputs": [
    {
     "name": "stdout",
     "output_type": "stream",
     "text": [
      "Presenting: Addition!!!\n",
      "g                      \n",
      "output       input         input\n",
      "======       ======       ======\n",
      "4              2               2\n",
      "8              4               4\n"
     ]
    }
   ],
   "source": [
    "stg = \"{0:<10} {1:^10} {1:>10}\"\n",
    "print(stg.format(\"Presenting: Addition!!!\\ng\", ''))\n",
    "print(stg.format(\"output\", \"input\"))\n",
    "print(stg.format(\"=\" * 6, \"=\" * 6))\n",
    "print(stg.format(4, 2))\n",
    "print(stg.format(8, 4))\n"
   ]
  },
  {
   "cell_type": "markdown",
   "metadata": {},
   "source": [
    "You can also ask Python to temporarily cast variables into other forms for the purposes of output. Here, we're printing out decimal, binary, and hex flavors of some numbers."
   ]
  },
  {
   "cell_type": "code",
   "execution_count": 399,
   "metadata": {},
   "outputs": [
    {
     "name": "stdout",
     "output_type": "stream",
     "text": [
      "     1 =              0b1 = 0x0001\n",
      "    23 =          0b10111 = 0x0017\n",
      "   456 =      0b111001000 = 0x01c8\n",
      "  7890 =  0b1111011010010 = 0x1ed2\n"
     ]
    }
   ],
   "source": [
    "fmt = \"{0:6} = {0:#16b} = {0:#06x}\"\n",
    "for i in (1, 23, 456, 7890):\n",
    "    print(fmt.format(i))"
   ]
  },
  {
   "cell_type": "markdown",
   "metadata": {},
   "source": [
    "Other options allow you to do things like represent add \"+\" and \"-\" signs in front of values, to pad out columns, etc. Things can be much more complicated but Python's official documentation is (fortunately) exceptional on this topic[22].\n",
    "\n",
    "Here's a final example that demonstrates how to use formatting to output a type-cast version of the information displayed."
   ]
  },
  {
   "cell_type": "code",
   "execution_count": 400,
   "metadata": {},
   "outputs": [
    {
     "name": "stdout",
     "output_type": "stream",
     "text": [
      "Steve          59  202.\n",
      "Dorothy        49  156.\n",
      "Simon          39  155.\n",
      "David          61  135.\n"
     ]
    }
   ],
   "source": [
    "\"\"\"List people's names, ages and weights.\"\"\"\n",
    "data = [\n",
    "        (\"Steve\", 59, 202),\n",
    "        (\"Dorothy\", 49, 156),\n",
    "        (\"Simon\", 39, 155),\n",
    "        (\"David\", 61, 135) \n",
    "        ]\n",
    "for name, age, weight in data:\n",
    "    print(\"{0:12s} {1:4d} {2:4d}.\".format(name, age, weight))"
   ]
  },
  {
   "cell_type": "markdown",
   "metadata": {},
   "source": [
    "Strings can be evaluated with logical tests.  Python uses == for a logical 'is equal to' and != for 'is not equal to'."
   ]
  },
  {
   "cell_type": "code",
   "execution_count": 401,
   "metadata": {},
   "outputs": [
    {
     "name": "stdout",
     "output_type": "stream",
     "text": [
      "Are 'CUBS' and 'cubs' the same?   False\n",
      "Are 'CUBS' and 'cubs' different?  True\n"
     ]
    }
   ],
   "source": [
    "string_a = 'CUBS'\n",
    "string_b = 'cubs'\n",
    "\n",
    "print(f\"Are '{string_a}' and '{string_b}' the same?   {string_a == string_b}\")\n",
    "print(f\"Are '{string_a}' and '{string_b}' different?  {string_a != string_b}\")\n"
   ]
  },
  {
   "cell_type": "markdown",
   "metadata": {},
   "source": [
    "OK. You have learned a lot about string and numeric data types, how to work with strings, and how to make nicely formatted output. Now, let's flex some Pythonic muscles and make something beautiful!"
   ]
  },
  {
   "cell_type": "markdown",
   "metadata": {},
   "source": [
    "## Exercise:\n",
    "\n",
    "Please write an application that quizzes challenges the user to guess all of Python's keywords, keeping track of the successes. \n",
    "\n",
    "When the user gives up (maybe by typing \"help\"), report the number of correctly-guessed keywords, then number not guessed, and a nicely-formatted table for each group.\n",
    "\n",
    "Hint: you'll find some useful tools in the keyword library, which you can get by going:\n",
    "\n",
    "import keyword\n",
    "\n",
    "Hint: you just might find the keyword called **in** useful to determine membership in keywords. You can access it like this:\n",
    "\n",
    "keyword.kwlist\n",
    "\n",
    "You'll want to use this approach to query the list you'll find in the keyword library. \n",
    "\n",
    "    list_of_critters = ['fox', 'skunk', 'bear']\n",
    "\n",
    "    print (f\"Is 'fox' in our critter list? {'fox' in list_of_critters}\") \n",
    "    \n",
    "    Is 'fox' in our critter list? True\n",
    "\n",
    "Also, you'll need to be able to use the for and if statements.  Recall the general forms:\n",
    "\n",
    "for i in iterable_object: \n",
    "    \n",
    "    pass\n",
    "    \n",
    "if condition:   \n",
    "    \n",
    "    pass"
   ]
  },
  {
   "cell_type": "markdown",
   "metadata": {},
   "source": [
    "Language Components\n",
    "===================\n",
    "\n",
    "From a syntax perspective, Python is a simple language. As we've seen, there are only 33 keywords. While Python has data types, variables don't need to be declared to be of some specific type before use. There's no requirement to initialize variables. Objects generally come to us \"batteries included.\" Pretty slick, no?"
   ]
  },
  {
   "cell_type": "markdown",
   "metadata": {},
   "source": [
    "Indentation\n",
    "-----------\n",
    "\n",
    "We've seen the **for** statement before, but let's take another look."
   ]
  },
  {
   "cell_type": "code",
   "execution_count": 402,
   "metadata": {},
   "outputs": [
    {
     "name": "stdout",
     "output_type": "stream",
     "text": [
      "0\n",
      "1\n",
      "2\n",
      "3\n",
      "4\n"
     ]
    }
   ],
   "source": [
    "for value in range(5):\n",
    "    print(value)"
   ]
  },
  {
   "cell_type": "markdown",
   "metadata": {},
   "source": [
    "The first line is of the form:\n",
    "\n",
    "\\<key word\\> \\<name for index\\> **in** \\<iterable object\\>:\n",
    "\n",
    "That's it – no fussing around with pointers, instancing index values, or running past the end of the object. The **for** statement \"just works.\"\n",
    "\n",
    "What follows is an \"indented suite\", and it can comprise any number of lines of code. Indentation is extremely important in Python because that's how the interpreter keeps track of how to group statements.  Unlike languages such as C and Java, it can't rely on braces for that purpose – Python uses <span class=\"underline\">only</span> indentation.  Statements at the same level of indentation are treated as a being in the same code block, and code blocks can be nested to any level.\n",
    "\n",
    "This further simplifies Python – it's unburdened by the clutter of braces, statement terminating semicolons, and loop terminating keywords.  All this creates and enforces a high level of readability. The cost, of course, is the need to have attention to fine level of detail and a limited ability to write spatially-dense code.\n",
    "\n",
    "Strictly speaking, Python doesn't care how much each statement in the same suite is indented, as long as all are the same. Some developers use tabs (each is seen by the interpreter as a single character), but four white spaces is the recommended convention per Python's official style guide \"PEP-8.\" \n",
    "\n",
    "PEP-8 is a bit of a dry read, but well worth a quick look, especially if you're planning to work as part of a team[24].   Jupyter, as well as many IDEs have built-in PEP-8 checkers and will (usually!) format your code nicely even if you've forgotten some nuance."
   ]
  },
  {
   "cell_type": "markdown",
   "metadata": {},
   "source": [
    "## Iteration and Lazy Evaluation\n",
    "\n",
    "Many objects in Python have the built-in capability for looping over the elements.  Under the hood, each of these objects has an __iter__ method that provides exact instructions for doing so.   \n",
    "\n",
    "In the exercise, you saw how the **for** keyword can invoke this automatic looping behavior over a **list** object.  Just above, we used a **range** object with the same syntax.   The **range** object is good to know about because it's a good way to whistle up a sequence of numbers.\n",
    "\n",
    "It's also an example of a common built-in optimizing technique achieved by making \"iterator\" and \"generator\" objects.  These objects contain recipes to generate the next object in a series without having to remember all the elements in the series.   The example we just saw will create five consecutive integers - but it only had to have the wisdom to add one to the last integer it produced.  \n",
    "\n",
    "These expressions take exactly the same amount of memory to create:"
   ]
  },
  {
   "cell_type": "code",
   "execution_count": 403,
   "metadata": {},
   "outputs": [
    {
     "name": "stdout",
     "output_type": "stream",
     "text": [
      "range(0, 5)\n",
      "range(0, 5000000000000)\n"
     ]
    }
   ],
   "source": [
    "print(range(5))\n",
    "print(range(5_000_000_000_000))"
   ]
  },
  {
   "cell_type": "markdown",
   "metadata": {},
   "source": [
    "Note that we're printing out string representations of the objects.   We're not causing either one to iterate or create all of its elements.  That will happen only when we apply a **for** loop.\n",
    "\n",
    "You'll also note use of underscores to specify the integer 5 trillion.  This is possible since Python 3.6."
   ]
  },
  {
   "cell_type": "markdown",
   "metadata": {},
   "source": [
    "The if Statement\n",
    "----------------\n",
    "\n",
    "We've touched on the **if** statement, the most basic of control statements. Let's expand the discussion a bit. Its general form is:\n",
    "\n",
    "if \\<condition\\>:\n",
    "\n",
    "    <indented suite>\n",
    "\n",
    "elif \\<condition\\>:\n",
    "\n",
    "    <indented suite>\n",
    "\n",
    "else:\n",
    "\n",
    "    <indented suite>\n",
    "\n",
    "The first condition presented to the **if** is evaluated True or False.  If evaluated **True**, the indented suite immediately beneath is executed and it's done. Execution drops out of the entire block of code.\n",
    "\n",
    "There can be any number of **elif** (\"else if\") statements and they are evaluated in top-to-bottom order. If any is **True**, the associated indented suite of statement is evaluated and it's done. Only when no **if** or **elif** condition is met will the **else** suite be executed[25].\n",
    "\n",
    "The **elif** and **else** clauses are completely optional, and leaving them off is routine. \n",
    "\n",
    "Here's a simple example where we apply an the **if** alone to prevent a crash (technically, an \"exception\" caused by a ZeroDivisionError)."
   ]
  },
  {
   "cell_type": "code",
   "execution_count": 404,
   "metadata": {},
   "outputs": [],
   "source": [
    "denominator = 0\n",
    "numerator = 100\n",
    "if denominator:\n",
    "    print(numerator/denominator)"
   ]
  },
  {
   "cell_type": "markdown",
   "metadata": {},
   "source": [
    "## Using for and if Together\n",
    "\n",
    "Here's a program to demonstrate a more complicated application, this time coupling **for** and **if** expressions.  We introduce a few nuances in the process.\n",
    "\n",
    "The object iterated over is a **tuple**.   A tuple is an ordered set of objects and is represented within parentheses - something like:  (0, 'bear' 1.1).\n",
    "\n",
    "In his case we have a tuple-of-tuples.  The contained elements (1, 0) and (9, 3) are each tuples in their own right.  The outer tuple object bundles them:   ( (1, 0), (9, 3) )\n",
    "\n",
    "We can iterate over the outer tuple to get:"
   ]
  },
  {
   "cell_type": "code",
   "execution_count": 405,
   "metadata": {},
   "outputs": [
    {
     "name": "stdout",
     "output_type": "stream",
     "text": [
      "(1, 0)\n",
      "(9, 3)\n"
     ]
    }
   ],
   "source": [
    "for element in ( (1, 0), (9, 3) ):\n",
    "    print (element)"
   ]
  },
  {
   "cell_type": "markdown",
   "metadata": {},
   "source": [
    "A common operation to use within a **for** statement is called \"unpacking\".  You do not have to use it unless you want to, but we bring the topic up here so you'll recognize it when you see it.\n",
    "\n",
    "Let's assume you have the tuple (9, 3).   You can create an assignment to split it up into constituent elements by providing a name for each element on the left side of an expression like this:"
   ]
  },
  {
   "cell_type": "code",
   "execution_count": 406,
   "metadata": {},
   "outputs": [
    {
     "name": "stdout",
     "output_type": "stream",
     "text": [
      "first: 9  second: 3\n"
     ]
    }
   ],
   "source": [
    "first_tuple_component, second_tuple_component = (9, 3)\n",
    "\n",
    "print(f\"first: {first_tuple_component}  second: {second_tuple_component}\")"
   ]
  },
  {
   "cell_type": "markdown",
   "metadata": {},
   "source": [
    "This will work on any Python sequence, like a string or a list.   You have to remember to provide just the right number of names on the left side.\n",
    "\n",
    "Suppose our tuple components contained numerator, denominator pairs.   An easy way to parse these out is to do the \"unpacking\" operation in the header of the **for** loop.   This lets you save a couple of steps and - much more importantly - make code transparent enough for anyone to understand.\n",
    "\n",
    "Here we take advantage of unpacking and the left-to-right operation of conditional statements to make a robust means of generating fractions."
   ]
  },
  {
   "cell_type": "code",
   "execution_count": 407,
   "metadata": {},
   "outputs": [
    {
     "ename": "KeyError",
     "evalue": "'numerator/denominator'",
     "output_type": "error",
     "traceback": [
      "\u001b[1;31m---------------------------------------------------------------------------\u001b[0m",
      "\u001b[1;31mKeyError\u001b[0m                                  Traceback (most recent call last)",
      "\u001b[1;32m<ipython-input-407-4eb3b44cf5fb>\u001b[0m in \u001b[0;36m<module>\u001b[1;34m\u001b[0m\n\u001b[0;32m      1\u001b[0m \u001b[1;32mfor\u001b[0m \u001b[0mnumerator\u001b[0m\u001b[1;33m,\u001b[0m \u001b[0mdenominator\u001b[0m \u001b[1;32min\u001b[0m \u001b[1;33m(\u001b[0m \u001b[1;33m(\u001b[0m\u001b[1;36m1\u001b[0m\u001b[1;33m,\u001b[0m \u001b[1;36m0\u001b[0m\u001b[1;33m)\u001b[0m\u001b[1;33m,\u001b[0m \u001b[1;33m(\u001b[0m\u001b[1;36m9\u001b[0m\u001b[1;33m,\u001b[0m \u001b[1;36m3\u001b[0m\u001b[1;33m)\u001b[0m \u001b[1;33m)\u001b[0m\u001b[1;33m:\u001b[0m\u001b[1;33m\u001b[0m\u001b[1;33m\u001b[0m\u001b[0m\n\u001b[0;32m      2\u001b[0m     \u001b[1;32mif\u001b[0m \u001b[0mdenominator\u001b[0m \u001b[1;32mand\u001b[0m \u001b[0mnumerator\u001b[0m\u001b[1;33m/\u001b[0m\u001b[0mdenominator\u001b[0m \u001b[1;33m==\u001b[0m \u001b[1;36m3\u001b[0m\u001b[1;33m:\u001b[0m\u001b[1;33m\u001b[0m\u001b[1;33m\u001b[0m\u001b[0m\n\u001b[1;32m----> 3\u001b[1;33m         \u001b[0mprint\u001b[0m\u001b[1;33m(\u001b[0m\u001b[1;34m\"yay! We have a {numerator/denominator}!\"\u001b[0m\u001b[1;33m.\u001b[0m\u001b[0mformat\u001b[0m\u001b[1;33m(\u001b[0m\u001b[1;33m)\u001b[0m\u001b[1;33m)\u001b[0m\u001b[1;33m\u001b[0m\u001b[1;33m\u001b[0m\u001b[0m\n\u001b[0m",
      "\u001b[1;31mKeyError\u001b[0m: 'numerator/denominator'"
     ]
    }
   ],
   "source": [
    "for numerator, denominator in ( (1, 0), (9, 3) ):\n",
    "    if denominator and numerator/denominator == 3:\n",
    "        print(\"yay! We have a {numerator/denominator}!\".format())"
   ]
  },
  {
   "cell_type": "markdown",
   "metadata": {},
   "source": [
    "The while Statement\n",
    "-------------------\n",
    "\n",
    "The **while** statement is also pretty straightforward:\n",
    "\n",
    "condition = <something>\n",
    "\n",
    "while <condition>:\n",
    "\n",
    "    <indented suite>\n",
    "\n",
    "else:\n",
    "\n",
    "    <indented suite>\n",
    "\n",
    "The indented suite will be executed top-to-bottom forever until it's asked to stop or the condition is no longer **True**. Here's a simple example using a condition to halt execution. Note that the \"sentinel condition\" and counter are defined outside and before the loop[26]."
   ]
  },
  {
   "cell_type": "code",
   "execution_count": null,
   "metadata": {},
   "outputs": [],
   "source": [
    "stop_me = False\n",
    "counter = 0\n",
    "while not stop_me:\n",
    "    print(f\"The counter is now: {counter}.\", end = '')\n",
    "    if counter > 2:\n",
    "        print(\" Yo. I'm done!\")\n",
    "        stop_me = True     \n",
    "    else:\n",
    "        print(\" I'm still trudging along.\")      \n",
    "        \n",
    "    counter = counter + 1 "
   ]
  },
  {
   "cell_type": "markdown",
   "metadata": {},
   "source": [
    "There are more elegant ways to proceed, however. A common idiom is to use the keyword **break** within the loop to terminate it immediately.  This can be combined with tautologically-true condition to streamline things. \n",
    "\n",
    "For instance, you could go:"
   ]
  },
  {
   "cell_type": "code",
   "execution_count": null,
   "metadata": {},
   "outputs": [],
   "source": [
    "counter = 0\n",
    "while True:\n",
    "    print(f\"The counter is now: {counter}.\", end = \"\")\n",
    "    if counter > 2:\n",
    "        print(\" Yo. I'm done!\")\n",
    "        break\n",
    "    else:\n",
    "        print(\" I'm still trudging along.\")\n",
    "        \n",
    "    counter += 1"
   ]
  },
  {
   "cell_type": "markdown",
   "metadata": {},
   "source": [
    "Not only is this simple to read, it doesn't require much in the way of resources to evaluate. This is not at issue with a simple application, but if your project involves millions of iterations e.g., a polling routine for a web server, efficiency becomes relevant.\n",
    "\n",
    "You probably noticed that the **else** clause did not execute. The reason is that its indented suite runs only if the **while** statement terminates due to the condition becoming **False**. The **break** keyword causes the code that would do this to be bypassed.\n",
    "\n",
    "The philotic twin of the **break** statement is **continue**. When **continue** is encountered, execution is immediately passed to the top of the loop where the condition is reevaluated.\n",
    "\n",
    "The **else** clause is completely optional. Since we're using **break**, we'll get rid of the extra baggage and show how **continue** might be applied. Note the use of the comparative operator == (returns a Boolean evaluation of whether the two values are the same) and the shortcut way to increment the counter with the += operator[27]."
   ]
  },
  {
   "cell_type": "code",
   "execution_count": null,
   "metadata": {},
   "outputs": [],
   "source": [
    "counter = 0\n",
    "while True:\n",
    "    if counter == 1:\n",
    "        print(\"One is the loneliest number that there ever was.\")\n",
    "        counter += 1\n",
    "        continue\n",
    "    print(\"The counter is now: {}.\".format(counter))\n",
    "    if counter:\n",
    "        break\n",
    "\n",
    "    counter += 1"
   ]
  },
  {
   "cell_type": "markdown",
   "metadata": {},
   "source": [
    "Inner and Outer Loops\n",
    "---------------------\n",
    "\n",
    "The final point I would make here is that **break** and **continue** work on both **for** and **while** loops. And both work only on the inner-most loop (the one they reside inside of). \n",
    "\n",
    "Here's an example of a program with both types of loops:\n"
   ]
  },
  {
   "cell_type": "code",
   "execution_count": null,
   "metadata": {},
   "outputs": [],
   "source": [
    "stop_me = False\n",
    "counter = 0\n",
    "for i in range(10):\n",
    "    if i%2: #odd numbers evaluate True:\n",
    "        while True:\n",
    "            if counter == 1:\n",
    "                print(\"One is the loneliest number that there ever was.\")\n",
    "                counter += 1\n",
    "                continue\n",
    "            print(f\"The counter is now: {counter } and i is now {i}.\")\n",
    "            if counter:\n",
    "                break #breaks out of the inner(while) loop\n",
    "\n",
    "            counter += 1\n",
    "    if i == 5:\n",
    "        print(\"I'm done - about to go on a break.\")\n",
    "        break #this breaks out of the outer (for) loop"
   ]
  },
  {
   "cell_type": "markdown",
   "metadata": {},
   "source": [
    "Some Useful Logical and Binary Operators\n",
    "----------------------------------------\n",
    "\n",
    "Python comes with a typical set of comparative operators. Here's a quick\n",
    "summary:\n",
    "\n",
    "|     | Equal to              |\n",
    "|:----|:----------------------|\n",
    "| !=  | Not equal             |\n",
    "| \\<  | Less than             |\n",
    "| \\>  | Greater than          |\n",
    "| \\<= | Less than or equal    |\n",
    "| \\>= | Greater than or equal |\n",
    "|<img width=150/>|<img width=150/>|\n",
    "\n",
    "There is also a set of bitwise operators. These operate on the 1s and 0s in a number represented in binary format. You can create a binary representation of a number in Python by using the keyword **bin**, something like:"
   ]
  },
  {
   "cell_type": "code",
   "execution_count": null,
   "metadata": {},
   "outputs": [],
   "source": [
    "bin(128)"
   ]
  },
  {
   "cell_type": "markdown",
   "metadata": {},
   "source": [
    "You can see that the result's first two characters are '0b', flagging it as a binary representation. You'll also note that the result is a string, which you can't do much with mathematically – you need to do operations <span class=\"underline\">before</span> it's converted.\n",
    "\n",
    "The operators for bitwise shifts are **\\>\\>** and **\\<\\<** and here's how you might apply them as you're creating the binary number. These are like changing the power of 10 to which you raise a base 10 number."
   ]
  },
  {
   "cell_type": "code",
   "execution_count": null,
   "metadata": {},
   "outputs": [],
   "source": [
    "mybin_1000 = bin(1000)\n",
    "fmt = \"{:30} {:30}\"\n",
    "print(\"Base 2 operations:\")\n",
    "print(fmt.format(\"mybin_1000: \", mybin_1000))\n",
    "print(fmt.format(\"mybin_1000 shifted left: \", bin(1000 << 3)))\n",
    "print(fmt.format(\"mybin_1000 shifted right: \", bin(1000 >> 5)))"
   ]
  },
  {
   "cell_type": "markdown",
   "metadata": {},
   "source": [
    "There are other operators you can use to \"mask\" a binary number with another. A common use is IP address masking when setting up subnets.  These are:\n",
    "\n",
    "| a & b  | Both 1 -\\> 1, otherwise -\\>0                                        |\n",
    "|--------|---------------------------------------------------------------------|\n",
    "| a \\| b | Both 0 -\\> 0, otherwise -\\>1                                        |\n",
    "| \\~a    | \"flips\" each bit. 1 -\\> 0 and 0 -\\>1                                |\n",
    "| a ^ b  | if the bit in b is 0, use the bit in a; otherwise flip the bit in a |\n",
    "\n",
    "This is just an aside, but you can use the \"exclusive or\", a.k.a. XOR, implemented with the \"^\" operator, as a cheesy encryption tool. That's because sequential applications simply flip the results. The first application encrypts the original and the second application undoes the encryption."
   ]
  },
  {
   "cell_type": "markdown",
   "metadata": {},
   "source": [
    "## Exercise:\n",
    "\n",
    "\n",
    "Create a program that asks the user to guess a number between 1 and 100 (whole numbers only). If the guess is wrong, let the user know if the guess is too high or too low. If the guess is right, offer hearty congratulations and exit the program. If, after five attempts, the user can't get the number then offer deep condolences and invite him/her to try again. Be sure to check for valid input and remind the user if necessary.\n",
    "\n",
    "\n",
    "Hint: the random library has several handy pseudo-random number generator functions such as random.randrange(). You'll need to import random in order to use it. A good way to start might be:\n",
    "\n",
    "    import random\n",
    "\n",
    "    help(random)\n",
    "\n",
    "\n",
    "Also, you might consider putting in some sort of logical that will \"freeze\" both the random number and the user's guess while debugging. That gives you a stationary target."
   ]
  },
  {
   "cell_type": "markdown",
   "metadata": {},
   "source": [
    "Collections\n",
    "===========\n",
    "\n",
    "Next, we'll investigate several of the built-in Python **sequences.** Sequences are composite objects (that is they contain zero or more separate objects). Sequence objects are aware of their status as such and have built-in methods to take advantage of that fact. For instance, all sequences are **iterators** (they know how to loop over themselves), they know how long they are, and can be indexed."
   ]
  },
  {
   "cell_type": "markdown",
   "metadata": {},
   "source": [
    "Creating Sequences \n",
    "------------------\n",
    "\n",
    "In the code below, we will take a first-order look at several sequences, and how one might form them. Note that we can use data types such as **range** and **list** as methods to create new instances of said data types."
   ]
  },
  {
   "cell_type": "code",
   "execution_count": null,
   "metadata": {},
   "outputs": [],
   "source": [
    "the_string = \"strings are sequences with an encoding\"\n",
    "the_bytes = bytearray(the_string, encoding = 'UTF-8')\n",
    "the_range = range(10)\n",
    "the_list = list(range(10))\n",
    "the_tuple = tuple(range(10))\n",
    "print(\"String: \", the_string)\n",
    "print(\"Bytes: \", the_bytes)\n",
    "print(\"List: \", the_list)\n",
    "print(\"Tuple: \", the_tuple)"
   ]
  },
  {
   "cell_type": "markdown",
   "metadata": {},
   "source": [
    "Note that the bytearray's string representation is proceeded by a \"b\". That's just a visual indicator that the object is stored as bytes. Other annotations you might encounter include :\n",
    "u (Unicode, in Python 2.x) r (asks Python to interpret \\n \\t, and other format characters literally).\n",
    "\n",
    "As is the case with strings, it's possible to create several objects directly using the appropriate braces. This approach is called \"duck typing\" – from the interpreter's perspective, if it walks like a duck and quacks like a duck, it must be a duck. \n",
    "\n",
    "These all work:"
   ]
  },
  {
   "cell_type": "code",
   "execution_count": null,
   "metadata": {},
   "outputs": [],
   "source": [
    "another_list = [\"what's\", 'up', 'doc?']\n",
    "print('List')\n",
    "print(another_list)\n",
    "print(type(another_list))\n",
    "print()\n",
    "\n",
    "a_dict = {'a':'eh', 'b':'bee', 'c':'see'}\n",
    "print('Dictionary')\n",
    "print(a_dict)\n",
    "print(type(a_dict))\n",
    "print()\n",
    "      \n",
    "my_tuple = (1,3,4)\n",
    "print(\"Tuple\")\n",
    "print(my_tuple)\n",
    "print(type(my_tuple))"
   ]
  },
  {
   "cell_type": "markdown",
   "metadata": {},
   "source": [
    "Naturally, any of objects can be directly created with a constructor (using the object name as a verb). \n",
    "\n",
    "This can take the guess work out of the situation. Here's an example for the **set**[29] object:"
   ]
  },
  {
   "cell_type": "code",
   "execution_count": null,
   "metadata": {},
   "outputs": [],
   "source": [
    "favorite_set = set()\n",
    "type(favorite_set)\n",
    "print(f\"An empty set:  {favorite_set}\")   \n",
    "\n",
    "favorite_set.add(1)\n",
    "print(f\"A one-element set:  {favorite_set}\")"
   ]
  },
  {
   "cell_type": "markdown",
   "metadata": {},
   "source": [
    "Python is not strongly typed (at first, anyway).  Unlike many languages, Python does not enforce variable declaration and homogenous types within a collection structure. In fact, it's very cavalier about use and reuse of variable names[30]."
   ]
  },
  {
   "cell_type": "code",
   "execution_count": null,
   "metadata": {},
   "outputs": [],
   "source": [
    "reusable = \"green\"\n",
    "reusable = 1\n",
    "reusable = [\"some\", \"list\", \"of\", 4, \"elements\"]\n",
    "print(reusable)\n",
    "print()\n",
    "\n",
    "reusable = None\n",
    "reusable is None  # (How to check for a None type.)\n",
    "reusable          # (prints as 'None'.  In REPL, does not display anything.)\n",
    "print('-' * 10)\n"
   ]
  },
  {
   "cell_type": "markdown",
   "metadata": {},
   "source": [
    "Creating Index Values with enumerate\n",
    "------------------------------------\n",
    "\n",
    "Although you don't need to create index values for your loop, you can get some easily by using the built-in **enumerate** method.  It produces tuples of (index, object in iterable).\n",
    "\n",
    "Here's how you might apply it:"
   ]
  },
  {
   "cell_type": "code",
   "execution_count": null,
   "metadata": {},
   "outputs": [],
   "source": [
    "fruits = ('apple', 'banana', 'kiwi')\n",
    "for snack_and_index in enumerate(fruits):\n",
    "    print(snack_and_index)"
   ]
  },
  {
   "cell_type": "markdown",
   "metadata": {},
   "source": [
    "Here, we created a tuple of fruits. Within the **for** statement we applied **enumerate**. For each element of the tuple, **enumerate (**returned a **tuple** of (index, element\\_value) ).\n",
    "\n",
    "We can upgrade this a bit by applying some print formatting and by \"unpacking\" the **tuple** returned. \n",
    "\n",
    "Here's how might work:"
   ]
  },
  {
   "cell_type": "code",
   "execution_count": null,
   "metadata": {},
   "outputs": [],
   "source": [
    "fruits = (\"apple\", \"banana\", \"kiwi\")\n",
    "start_at = 1\n",
    "for index, snack in enumerate(fruits, start_at):\n",
    "    print(\"fruit #{} is a(n) {}\".format(index, snack))"
   ]
  },
  {
   "cell_type": "markdown",
   "metadata": {},
   "source": [
    "The names \"snack\" and \"index\" have been successively associated with values contained within the **tuples** provided by **enumerate**, and are available within the indented suite. You can see that the names are \"recycled\" at each iteration. We provided an optional argument \"start\\_at\" to select the first value of the index produced. If you don't provide the argument, the first index value will be zero."
   ]
  },
  {
   "cell_type": "markdown",
   "metadata": {},
   "source": [
    "Slices and Sequence Indexing\n",
    "----------------------------\n",
    "\n",
    "So far, we have looked at really small, manageable sequences where it's easy and cheap enough to iterate through all the elements. However, in real-life situations we're likely to encounter structures that contain millions of elements. If we have some *a priori* knowledge of where the element we're looking for lives, or if we want to apply something better than a brute-force search algorithm, we would want a more clever way to approach sequences.\n",
    "\n",
    "Fortunately, Python supports the ability to \"slice\" a sequence using index values.  Slicing and indexing prove to be very important when wrangling array-like objects such as those in Numpy and Pandas.\n",
    "\n",
    "For instance, you can go:"
   ]
  },
  {
   "cell_type": "code",
   "execution_count": null,
   "metadata": {},
   "outputs": [],
   "source": [
    "the_list = list(range(0,10))\n",
    "print(\"Everything:\", the_list)\n",
    "print()\n",
    "print(\"A slice:\", the_list[0:6:2])"
   ]
  },
  {
   "cell_type": "markdown",
   "metadata": {},
   "source": [
    "The general syntax is:\n",
    "\n",
    "\\<iterable\\>\\[ \\<start\\> : \\<stop\\> : \\<stride\\> \\]\n",
    "\n",
    "The start, stop, and stride parameters are all optional. Be default start is the first element of the sequence, stop is the last element, and stride is 1.\n",
    "\n",
    "In the simplest form, the entire sequence will be produced:"
   ]
  },
  {
   "cell_type": "code",
   "execution_count": null,
   "metadata": {},
   "outputs": [],
   "source": [
    "the_list[:] # [::] works the same"
   ]
  },
  {
   "cell_type": "markdown",
   "metadata": {},
   "source": [
    "Let's go back and look at the first slicing example. One might expect that the last element produced would be 6 – after all, isn't that what we requested with the stop parameter? Not so – the last element produced is the one <span class=\"underline\">before</span> the stop parameter … something to keep in mind to avoid surprises[31].\n",
    "\n",
    "Python also has a built-in **slice** object, which works just like the index specifications above. Note that it's applied with \\[square brackets\\], just like the hard-coded slice."
   ]
  },
  {
   "cell_type": "code",
   "execution_count": null,
   "metadata": {},
   "outputs": [],
   "source": [
    "slicer = slice(0,6,2)\n",
    "\n",
    "print(\"Slice object\")\n",
    "print(type(slicer))\n",
    "print()\n",
    "print(\"A slice:\", the_list[slicer])"
   ]
  },
  {
   "cell_type": "markdown",
   "metadata": {},
   "source": [
    "Using the **slice** object can make your code much easier to maintain because you don't have to fiddle with hard-coded index values. It can be especially useful if you're parsing data whose format is likely to change and over which you have little control (like text scraped from a web site).    \n",
    "\n",
    "A few **slice** objects at the top of your code could make adjustments / updates a snap. This being said, if its specification is too \"distant\" from where it's being applied your code could become less transparent for human consumers.\n",
    "\n",
    "The main difference between using a **slice** object and the hard-coded version is that all the parameters (start, stop, and stride) have to be supplied.  If you don't care to supply your own value, just use the **None** object as a placeholder and you'll get the default value.\n",
    "\n",
    "Here are a few additional examples of how you might use slices:"
   ]
  },
  {
   "cell_type": "code",
   "execution_count": null,
   "metadata": {},
   "outputs": [],
   "source": [
    "the_string = \"strings are sequences with an encoding\"\n",
    "the_list = list(range(0,10))\n",
    "the_slice = slice(3, 10) # positions 3...9 inclusive\n",
    "\n",
    "print(\"Slice : \", the_slice, \"\\n\")\n",
    "print(\"Slice a list: \", the_list[3:10], \"\\n\") # typical\n",
    "print(\"Alt. syntax : \", the_list.__getitem__(the_slice), \"\\n\") # more verbose\n",
    "\n",
    "print(\"The whole string: \",the_string[:]) # all\n",
    "print(\"Slice a string: \", the_string[3:10])\n",
    "print(\"Skipping: \",the_string[::2], \"\\n\") # step by 2\n",
    "\n",
    "new_list = the_list[:] # same as the_list.copy()\n",
    "print(\"A clean copy, as a new object:\", new_list)"
   ]
  },
  {
   "cell_type": "markdown",
   "metadata": {},
   "source": [
    "Dictionaries in Python\n",
    "----------------------\n",
    "\n",
    "Python supports dictionary objects, known to some languages as \"hash tables\" or \"hash mappings.\" The basic object, **dict**, is built into the language and variants of it, such as the **OrderedDict** are available in the **collections** library[32].\n",
    "\n"
   ]
  },
  {
   "cell_type": "markdown",
   "metadata": {},
   "source": [
    "Basics\n",
    "------\n",
    "\n",
    "A **dict** object is another form of a collection – it has some important differences from sequence objects like the **list** and string. Among these:\n",
    "\n",
    "-   Since it's a hash[33] (optimized for efficiency) the elements are\n",
    "    not in any guaranteed order. In other words, the act of adding an\n",
    "    element can change the order of the others.\n",
    "\n",
    "-   Operations like slicing, indexing, etc. are not available because\n",
    "    they're dependent on the ordering of the elements.\n",
    "\n",
    "The **dict** is essentially a one-way lookup table. Given a unique key, one can efficiently find its associated value. However, since values are not necessarily unique you can't go the other way (you can't use a value to look up a key).\n",
    "\n",
    "Here's some basic usage:"
   ]
  },
  {
   "cell_type": "code",
   "execution_count": null,
   "metadata": {},
   "outputs": [],
   "source": [
    "# Alternative syntax for creation\n",
    "the_dict = {\"key\":\"value\", \"A\":2, \"B\":3}\n",
    "same_dict = dict(key = \"value\", A = 2, B = 3)\n",
    "\n",
    "print (\"The dict:\", the_dict, '\\n')\n",
    "print(\"Are the dicts the same?\", the_dict == same_dict, '\\n')\n",
    "\n",
    "# One way to add a key:value pair \n",
    "the_dict['C'] = 3\n",
    "print(\"We added a new key:value pair: \", the_dict, '\\n')\n",
    "\n",
    "# One way to extract a value if you know the key is good.\n",
    "my_value = the_dict['C']\n",
    "print(f\"The value associated with 'C' is: {my_value} \\n\")\n",
    "\n",
    "# One way to extract a value if the key is sketchy.\n",
    "my_value = the_dict.get('D', \"some default value\")\n",
    "print(\".. and yet again:\", the_dict)\n",
    "print()\n",
    "print(\"The value I got with a bad key is: '{}'.\".format(my_value))"
   ]
  },
  {
   "cell_type": "markdown",
   "metadata": {},
   "source": [
    "Using get\n",
    "---------\n",
    "\n",
    " While it's completely OK to call a value out by name, if that value does not exist a **KeyError** exception will occur. The **get** method allows you to provide some default value in this case (or if you don't, a valid **None** object will be returned). \n",
    " \n",
    " Here's a quick example:\n"
   ]
  },
  {
   "cell_type": "code",
   "execution_count": null,
   "metadata": {},
   "outputs": [],
   "source": [
    "plant_dict = {'raspberry': 'rubus',\n",
    "              'elm': 'ulmus',\n",
    "              'maple': 'acer'\n",
    "              }\n",
    "\n",
    "# create a format string\n",
    "fmt_str = \"The {} is more properly called a {}.\\n\"\n",
    "\n",
    "# get with no argument\n",
    "look_for = 'raspberry'\n",
    "found = plant_dict.get(look_for)\n",
    "print(fmt_str.format(look_for, found))\n",
    "\n",
    "# get with a default value\n",
    "look_for = 'alder'\n",
    "default = 'SOMETHING. I dunno'\n",
    "found = plant_dict.get(look_for, default)\n",
    "print(fmt_str.format(look_for, found))\n",
    "\n",
    "# get with default None\n",
    "look_for = 'sumak'\n",
    "default = None\n",
    "found = plant_dict.get(look_for, default)\n",
    "if found:\n",
    "    print(fmt_str.format(look_for, found))\n",
    "else:\n",
    "    print(f\"Dude, I'm looking for {look_for}, but I give up ;-)\")"
   ]
  },
  {
   "cell_type": "markdown",
   "metadata": {},
   "source": [
    "Keys are Immutable\n",
    "------------------\n",
    "\n",
    "The keys of a **dict** need to be unique and hashable. As a result, one of the requirements of a key is that be immutable[34]. To determine whether a proposed key is hashable, \"under the hood\" the interpreter looks for the **\\_\\_hash\\_\\_** \"magic method\", and uses the hash thus produced for internal bookkeeping. \n",
    "\n",
    "If there's no **\\_\\_hash\\_\\_** method, the proposed key won't qualify. As long as the key meets these requirements, it can be just about anything, though strings and integers are most commonly used."
   ]
  },
  {
   "cell_type": "markdown",
   "metadata": {},
   "source": [
    "Useful Dictionary Methods\n",
    "-------------------------\n",
    "\n",
    "Here's a little more code you can use to \"kick the tires\" on the **dict** object. Note the use of the **update** method of the **dict** object and the top-level **del**[35] method."
   ]
  },
  {
   "cell_type": "code",
   "execution_count": null,
   "metadata": {},
   "outputs": [],
   "source": [
    "mydict = {}\n",
    "mydict['team'] = 'Cubs'\n",
    "\n",
    "# Another way to add elements us via update.  For input, just about any iterable t\n",
    "#    that's comprised of 2-element iterables will work.\n",
    "mydict.update([('town', 'Chicago'), ('rival', 'Cards')])\n",
    "print(f\"The dict is now:  {mydict}.\\n\")\n",
    "\n",
    "# we can print it out using the items method (it returns a tuple)\n",
    "for key, value in mydict.items():\n",
    "    print(\"The key is {} and value is {}.\".format(key, value))\n",
    "    \n",
    "\n",
    "# and evaluates left to right; this protects from crashes if no 'rival'\n",
    "print(\"Let's get rid of a rival \\n\")\n",
    "if \"rival\" in mydict and mydict['rival'] == 'Cards':\n",
    "    del(mydict['rival'])   #top-level method\n",
    "\n",
    "print(\"By the grace of a top-level function, the Cards are gone.\\n\")\n",
    "print(f\"The dict is now:  {mydict}\")"
   ]
  },
  {
   "cell_type": "markdown",
   "metadata": {},
   "source": [
    "You can extract the keys and values by the cleverly-named **keys** and **values** methods. These return iterable objects containing the appropriate values.\n",
    "\n",
    "You will notice from the representations of the keys and values that they are their own special objects.  We can easily type-cast them to more usable objects using the constructor for a collection."
   ]
  },
  {
   "cell_type": "code",
   "execution_count": null,
   "metadata": {},
   "outputs": [],
   "source": [
    "the_dict = {\"key\":\"value\", \"A\":2, \"B\":3}\n",
    "\n",
    "keys = the_dict.keys()\n",
    "print(f\"Keys: {keys}\")\n",
    "\n",
    "vals = the_dict.values()\n",
    "print(f\"Values: {vals}\\n\")\n",
    "\n",
    "print(f\"Values as a list object: {list(vals)}\")"
   ]
  },
  {
   "cell_type": "markdown",
   "metadata": {},
   "source": [
    "Another way to remove elements from a **dict** is to use its **pop** and **popitem** methods. These not only remove elements, but return the element removed. \n",
    "\n",
    "Here's how you might employ these methods:"
   ]
  },
  {
   "cell_type": "code",
   "execution_count": null,
   "metadata": {},
   "outputs": [],
   "source": [
    "my_dict = {'team': \"Cubs\", \"town\": \"Chicago\", \"rival\": \"Cards\"}\n",
    "print(\"dict is: {}\\n\".format(my_dict))\n",
    "\n",
    "\n",
    "# Use popitem to get some (unknown) item (crashes if empty dict).\n",
    "if my_dict:\n",
    "    key, value = my_dict.popitem()\n",
    "    print(f\"We've removed: {value}.\\n\")\n",
    "    print(f\"The dict is now: {my_dict}.\\n\")\n",
    "\n",
    "# With pop we can pick a key and use a default, just in case.\n",
    "default = None\n",
    "looking_for = 'bad key'\n",
    "key_value_tuple = my_dict.pop(looking_for, default)\n",
    "if key_value_tuple:\n",
    "    print(\"{} is {}\\n.\".format(looking_for, key_value_tuple))\n",
    "else:\n",
    "    print(\"Sorry, no '{}'' here.\".format(looking_for))"
   ]
  },
  {
   "cell_type": "markdown",
   "metadata": {},
   "source": [
    "Sorting a Dictionary\n",
    "--------------------\n",
    "A word about dict sequencing.   It's important to note that most 'flavors' of Python have been using an ordered version of dict objects since Version 3.6.   That is the key:value pairs are stored in the order loaded into the dict.   Earlier versions allowed the key:value pairs to shift positions in the interest of efficiency.   If you need your code to run on older versions of Python, you'll want to choose a collections.OrderedDict object instead of the normal dict object.\n",
    "\n",
    "\n",
    "Occasionally, you'll want to sort the contents of a **dict** by keys. This is a snap because they're guaranteed to be unique and have a natural \"sort order.\"  We can accomplish sorting by keys succinctly by applying the top-level **sorted** method (this is not part of the list object).\n",
    "\n",
    "You'll note that the we have chained operations together in the example below.  This is extremely common in Python and is considered a sign of elegant parsimony.   Python begins by solving the inner-most bit of a nested expression then feeds the result to the next-inner-most bit ... and so on.\n",
    "\n",
    "It can be horrible for the new user, so we'll do it one step at a time first:"
   ]
  },
  {
   "cell_type": "code",
   "execution_count": null,
   "metadata": {},
   "outputs": [],
   "source": [
    "# The long way:\n",
    "my_dict = {'team': \"Cubs\", \"town\": \"Chicago\", \"rival\": \"Cards\"}\n",
    "keys = my_dict.keys()                           # the dict_key object\n",
    "list_of_keys = list(keys)                       # a list version\n",
    "sorted_list_of_keys = sorted(list_of_keys)    # a sorted version of the list\n",
    "print(sorted_list_of_keys)"
   ]
  },
  {
   "cell_type": "code",
   "execution_count": null,
   "metadata": {},
   "outputs": [],
   "source": [
    "# The 'Pythonic' way:\n",
    "print(sorted(list(my_dict.keys())))"
   ]
  },
  {
   "cell_type": "markdown",
   "metadata": {},
   "source": [
    "Sorting by values is a little tougher, but here's how you can do it. You need to provide a short routine that returns a value if you give it a key. If you provide it to the **list** object's **sort** method[36], it will use the routine to guide its efforts. We'll get into functions more later. For now, know that the general form is:\n",
    "\n",
    "<function\\_name>():\n",
    "\n",
    "    <indented suite>\n",
    "\n",
    "It can take zero or more arguments and optionally return an object of your choice.\n",
    "\n",
    "The **sort** command by default will sort the elements \"naturally\" – alphabetically if strings and numerically otherwise. You can influence that behavior by giving it something else besides the **list** elements to sort \"naturally\". It could be anything – a random number, word count, the last letter of a word, etc. Things will be sorted by whatever is returned by the sorter routine you write.\n",
    "\n",
    "This is what a \"null sorter\" would look like (it returns exactly what we passed it):"
   ]
  },
  {
   "cell_type": "code",
   "execution_count": null,
   "metadata": {},
   "outputs": [],
   "source": [
    "def sorter(key):\n",
    "    \"simply returns what's provided i.e., contributes nothing\"\n",
    "    return key"
   ]
  },
  {
   "cell_type": "markdown",
   "metadata": {},
   "source": [
    "We can invoke a list object's sort() method to sort the elements of the list.   Behind the scenes, it uses the null sorter to get the job done.    In other words, it uses the natural sort order of the stuff in the list.\n",
    "\n",
    "You can roll your own sorter, if you want.   When you do, Python essentially feeds each element of the list into the routine you provide.  \n",
    "\n",
    "Here's how it works: whatever is returned by the routine gets 'paired up' with each element.  The returned values are things that get sorted - not the original list contents.   When the sort is completed, the returned values go away leaving the list elements in the proper order.\n",
    "\n",
    "Here's an example:"
   ]
  },
  {
   "cell_type": "code",
   "execution_count": null,
   "metadata": {},
   "outputs": [],
   "source": [
    "def sorter(key):\n",
    "    \"Creates a sort using the value associated with a dict key\"\n",
    "    return my_dict[key]\n",
    "\n",
    "my_dict = {'team': \"Cubs\", \"town\": \"Chicago\", \"rival\": \"Cards\"}\n",
    "key_list = list(my_dict.keys())\n",
    "key_list.sort(key = sorter)\n",
    "\n",
    "for key in key_list:\n",
    "    print(key, my_dict[key])\n"
   ]
  },
  {
   "cell_type": "markdown",
   "metadata": {},
   "source": [
    "Miscellaneous Notes on dict Objects\n",
    "-----------------------------------\n",
    "\n",
    "Many Python applications, such as Pandas, build user-friendly array indices using objects built on dict-like objects.   Essentially, one can specify row and column names in human terms.  The human terms get mapped to pointers and other computer-friendly objects.   In this way dict-like objects form a cognitive bridge between the human and computer worlds.\n",
    "\n",
    "You can use dictionaries to hold elements of sparse arrays by using **tuple**s as keys. Let's say you wanted to model movements of goldfish in a tank. You could account for each cubic centimeter of water and monitor each fish passage in and out – you might use a dense 3-D array for that. Perhaps more efficiently, you could monitor the fish themselves by providing a three-**tuple** to represent the current location of each. \n",
    "\n",
    "This **dict** uses **tuples** for keys:"
   ]
  },
  {
   "cell_type": "code",
   "execution_count": null,
   "metadata": {},
   "outputs": [],
   "source": [
    "array_dict = {(0, 0, 0): 12, (2, 4, 98): 23}\n",
    "array_dict[(2, 4, 98)]"
   ]
  },
  {
   "cell_type": "markdown",
   "metadata": {},
   "source": [
    "Keys can be heterogeneous, as can the values. This is a valid **dict**:"
   ]
  },
  {
   "cell_type": "code",
   "execution_count": null,
   "metadata": {},
   "outputs": [],
   "source": [
    "hetero_dict = {'a': 1, (1,3,4): \"x\"}\n",
    "hetero_dict"
   ]
  },
  {
   "cell_type": "markdown",
   "metadata": {},
   "source": [
    "If a **dict** has a key named \"a\", and you provide a new element who's key is 'a', the original will be replaced.\n"
   ]
  },
  {
   "cell_type": "code",
   "execution_count": null,
   "metadata": {},
   "outputs": [],
   "source": [
    "new_dict = dict( ( ('a', 3), ('b', 88) ) )\n",
    "print(\"Original:\", new_dict)\n",
    "\n",
    "new_dict['a'] = \"Godzilla!\"\n",
    "print(\"Updated:\",new_dict)"
   ]
  },
  {
   "cell_type": "markdown",
   "metadata": {},
   "source": [
    "## Memory Considerations\n",
    "Adding elements one at a time can be expensive, especially as the **dict** grows. That's because the entire object needs to be copied to a new patch of memory if it grows past its allocated space. It's more efficient to use an *en masse* operation like **update**."
   ]
  },
  {
   "cell_type": "markdown",
   "metadata": {},
   "source": [
    "The set Object and List Comprehension\n",
    "-------------------------------------\n",
    "\n",
    "The **set** object is a mighty useful arrow in your quiver. A **set** is essentially a collection of unique objects. The **set** is another hash object, making retrieval of objects very efficient, even when the **set** is large.\n",
    "\n",
    "The fact that a **set** contains only unique objects makes it great for an automatic de-duplicator. If you try to add an object that already exists, the attempted addition fails silently. \n",
    "\n",
    "Here's a common idiom to de-dup a **list**:"
   ]
  },
  {
   "cell_type": "code",
   "execution_count": null,
   "metadata": {},
   "outputs": [],
   "source": [
    "set([1,1,2,2,2,3,3,4,5])"
   ]
  },
  {
   "cell_type": "markdown",
   "metadata": {},
   "source": [
    "Here's a slightly more complicated example, this one using a \"list\n",
    "comprehension\" to create a set of random numbers using the random\n",
    "library.    Here it is, quickly.  \n",
    "\n",
    "Yes, it's horrible the first time you see it (very Pythonic), but we'll explain."
   ]
  },
  {
   "cell_type": "code",
   "execution_count": null,
   "metadata": {},
   "outputs": [],
   "source": [
    "import random\n",
    "values = 1000\n",
    "dedup = set([int(1000*random.random()) for i in range(values)])\n",
    "print(\"we found {} unique values!\".format(len(dedup)))"
   ]
  },
  {
   "cell_type": "code",
   "execution_count": null,
   "metadata": {},
   "outputs": [],
   "source": [
    "# The long way, using the list append() method."
   ]
  },
  {
   "cell_type": "code",
   "execution_count": null,
   "metadata": {},
   "outputs": [],
   "source": [
    "random_list = []\n",
    "for i in range(values):\n",
    "    rand_num = random.random()\n",
    "    rand_int = int(rand_num * 1000)\n",
    "    random_list.append(rand_int)\n",
    "dedup = set(random_list)"
   ]
  },
  {
   "cell_type": "markdown",
   "metadata": {},
   "source": [
    "**Sets** have built-in methods for efficiently finding unions and intersections. A union is a **set** of every unique element from both sets combined. An intersection is a **set** of the elements found in both. This code serves to illustrate how you might apply them using the \"**&**\" and \"**\\|**\" operators:"
   ]
  },
  {
   "cell_type": "code",
   "execution_count": null,
   "metadata": {},
   "outputs": [],
   "source": [
    "the_set = {\"monkey\", \"gorilla\", \"dog\", \"cat\"}\n",
    "print(\"Set: \", the_set)\n",
    "the_set.add(\"parrot\")\n",
    "print(\"Set: \", the_set)\n",
    "other_set = {\"gorilla\", \"elephant\", \"pig\", \"chicken\"}\n",
    "print(\"Set intersection:\", the_set & other_set)\n",
    "print(\"Set union:\", the_set | other_set)"
   ]
  },
  {
   "cell_type": "markdown",
   "metadata": {},
   "source": [
    "Note that although this example uses the \"\\|\" and \"&\" operators with two **set** objects, there's no limit to the number of objects in play. If a, b, and c are all **sets**, you can go a&b&c or a\\|b\\|c."
   ]
  },
  {
   "cell_type": "markdown",
   "metadata": {},
   "source": [
    "Named Tuples\n",
    "------------\n",
    "\n",
    "**The namedtuple** object is something of a hybrid between a **tuple** and a **dict**. Each **namedtuple** can be instantiated into your current namespace as a 'normal' **tuple**, but the wrinkle is that you can provide each element an alias (nickname) so you can refer to it easily. It's not part of basic Python so you need to **import** it from the collections library.\n",
    "\n",
    "Here's some code to play with which shows the basic functionality. Note that you can address these objects like dictionaries, but can also use them as **tuples**."
   ]
  },
  {
   "cell_type": "code",
   "execution_count": null,
   "metadata": {},
   "outputs": [],
   "source": [
    "\"\"\"An introduction to the namedtuple object\"\"\"\n",
    "from collections import namedtuple\n",
    "\n",
    "#make a tuple with the tag 'Animal'\n",
    "Animal = namedtuple('Animal', ('species', 'name'))\n",
    "\n",
    "#specify this animal by providing the species and name\n",
    "a1 = Animal('gorilla', 'magilla')\n",
    "print(a1)\n",
    "\n",
    "#... and specify another\n",
    "a2 = Animal(species = 'gorilla', name = 'fred')\n",
    "print(a2)\n",
    "\n",
    "#we can call out the specifics using dot notation\n",
    "print(a1.name, a2.name)\n",
    "\n",
    "#... or, split the tuple containing the first animal\n",
    "myspecies, myname = a1\n",
    "print(myspecies, myname)"
   ]
  },
  {
   "cell_type": "markdown",
   "metadata": {},
   "source": [
    "Getting Fancier with the namedtuple Object\n",
    "------------------------------------------\n",
    "\n",
    "Here's a slightly more complicated example – something you might use if you were developing a chess game in Python. We won't elaborate this to completion – but it may be interesting practice. If you do the upgrade, you might look into using Unicode to represent your chess pieces[38] (Python 3 is Unicode-compliant[39]).\n",
    "\n",
    "This code develops a two-dimensional grid using a **list** of **namedtuple** objects. This is a simple way to whistle up a 2-d array-like structure using only basic Python tools.\n",
    "\n",
    "You can see that each of the **namedtuple** objects carries with several properties, nicely bundled, and transparently addressed. In this sense, the objects we're creating here are a bit like the build-in Python objects – they're already endowed with \"out of the box\" capabilities.\n"
   ]
  },
  {
   "cell_type": "code",
   "execution_count": null,
   "metadata": {},
   "outputs": [],
   "source": [
    "from collections import namedtuple\n",
    "\n",
    "Piece = namedtuple('Piece', 'type color position symbol')\n",
    "\n",
    "# a list of lists is a really useful data structure\n",
    "grid = []\n",
    "for r in range(8):\n",
    "    grid.append([None, None, None, None, None, None, None, None])\n",
    "\n",
    "grid[7] = [\n",
    "            Piece(\"Rook\", \"black\", [7, 0], \"R\"),\n",
    "            Piece(\"Knight\", \"black\", [7, 1], \"K\"),\n",
    "            Piece(\"Bishop\", \"black\", [7, 2], \"B\"),\n",
    "            Piece(\"Queen\", \"black\", [7, 3], \"Q\"),\n",
    "            Piece(\"King\", \"black\", [7, 4], \"K\"),\n",
    "            Piece(\"Bishop\", \"black\", [7, 5], \"B\"),\n",
    "            Piece(\"Knight\", \"black\", [7, 6], \"K\"),\n",
    "            Piece(\"Rook\", \"black\", [7, 7], \"R\")\n",
    "            ]\n",
    "\n",
    "grid[6] = []\n",
    "for c in range(8):\n",
    "    p = Piece(\"Pawn\", \"black\", [6, c], \"P\")\n",
    "    grid[6].append(Piece(\"Pawn\", \"black\", [6, c], \"P\"))\n",
    "    \n",
    "for p in grid[7]:\n",
    "    print(p.symbol, end=\"\")\n",
    "print()    \n",
    "for p in grid[6]:\n",
    "    print(p.symbol, end=\"\")"
   ]
  },
  {
   "cell_type": "markdown",
   "metadata": {},
   "source": [
    "Copying Sequences\n",
    "-----------------\n",
    "\n",
    "In Python, it's possible to have multiple names associated with the same object. This can be really handy but the convenience comes with a cost: the only way to tell for sure is with the object's **id**. \n",
    "\n",
    "Here are a couple trivial examples that show the potential pitfalls:"
   ]
  },
  {
   "cell_type": "code",
   "execution_count": null,
   "metadata": {},
   "outputs": [],
   "source": [
    "one = 1\n",
    "one_prime = 1\n",
    "print(\"one:\", id(one), \"one_prime\", id(one_prime))\n",
    "\n",
    "if id(one) == id(one_prime):\n",
    "    print( \"Same object.\")\n",
    "else:\n",
    "    print(\"Different objects.\")\n"
   ]
  },
  {
   "cell_type": "markdown",
   "metadata": {},
   "source": [
    "You run into this with collections, too. This code will demonstrate:"
   ]
  },
  {
   "cell_type": "code",
   "execution_count": null,
   "metadata": {},
   "outputs": [],
   "source": [
    "def test_lists(first, second):\n",
    "    test_result = first == second\n",
    "    print(\"same list, right? {}.\".format(test_result))\n",
    "\n",
    "    if test_result == False:\n",
    "        print(\"first id is {} second id is {}.\"\\\n",
    "        .format(id(first), id(second)))\n",
    "\n",
    "print('Make a list, then create a copy')\n",
    "a_list = [\"Tony\", \"Sally\", \"George\"]\n",
    "b_list = a_list\n",
    "print(a_list, b_list)\n",
    "test_lists(a_list, b_list)\n",
    "\n",
    "#update the first list, but not the second.\n",
    "print(\"\\nAdd someone to the a_list, leaving the b_list alone\")\n",
    "a_list.append(\"Sam\")\n",
    "test_lists(a_list, b_list)\n",
    "\n",
    "print(\"\\nUh, what happened here?\")"
   ]
  },
  {
   "cell_type": "markdown",
   "metadata": {},
   "source": [
    "\"What happened here\" is that we have simply assigned two names to the same object (they have the same **id**).  Then we used one of the names to access, and change, the original object.\n",
    "\n",
    "Having multiple names for the same object is not too weird when you think about it.   The president is called \"the President\", \"POTUS\", \"Commander-in-Chief\" ... then you can read political columns to get even more names :-)   \n",
    "\n",
    "The point is that there can be many synonyms - \"aliases\" or \"names\" for any object because any of them are unique keys tied to the same dict object (that's just how Python keeps track of its namespaces) \n",
    "\n",
    "To get around this, you need to make a \"deep\" (true) copy. Here are some ways to do it:"
   ]
  },
  {
   "cell_type": "code",
   "execution_count": null,
   "metadata": {},
   "outputs": [],
   "source": [
    "new = old[:] #forces the list to iterate over itself\n",
    "new = list(old) #list constructor creates new object\n",
    "new = old.copy() #uses the list object's copy method"
   ]
  },
  {
   "cell_type": "markdown",
   "metadata": {},
   "source": [
    "One place this comes up in data science is working with slices of data structures.   Slices are really just aliases to part of an original object, much like a \"view\" into a database table provides access to part of that table.   When working with Numpy and Pandas, a very common way to hack into the relevant data involves creating a slice then manipulating it.  Numpy won't give you a warning, but Pandas will.  Unless you're really sure what you're doing, you will want to pay close attention and avoid the temptation to ignore or disable the warnings."
   ]
  },
  {
   "cell_type": "markdown",
   "metadata": {},
   "source": [
    "## Exercise:\n",
    "I just hired a new admin and it's not working out so well. I asked her to organize my Cubs player database. It turned out to be a disaster. After she quit, I found two versions of the database. Can you help? \n",
    "\n",
    "One version of the database (stored as a dict) uses the players' weights as the key. \n",
    "\n",
    "I'll spare the details, but it looks like this:"
   ]
  },
  {
   "cell_type": "code",
   "execution_count": null,
   "metadata": {},
   "outputs": [],
   "source": [
    "players = { 185:('Tyler', 'Chatwood'),\n",
    "            219:('Luke', 'Farrell'),\n",
    "            190:('Kyle', 'Hendricks')\n",
    "          }"
   ]
  },
  {
   "cell_type": "markdown",
   "metadata": {},
   "source": [
    "Can you find a way, working only with code and this dictionary, to produce a nicely formatted table that's sorted by the players' last name?\n",
    "The other version was only a little better and organized by last name – sort of. There were lots of duplications caused by bad typing. \n",
    "\n",
    "Here's a bit of it:"
   ]
  },
  {
   "cell_type": "code",
   "execution_count": null,
   "metadata": {},
   "outputs": [],
   "source": [
    "players = { 'Hendricks': ('Kyle', 225),\n",
    "            'HeNDricks': ('Kyle', 225),\n",
    "            'Hendrix': ('Kyle', 225) \n",
    "          }"
   ]
  },
  {
   "cell_type": "markdown",
   "metadata": {},
   "source": [
    "Can you find a way to clean this version up working with the set object?\n",
    "\n",
    "It's beyond the scope of this class, but just for fun you might look at the code in py_fuzzy_lookup.py. For ways to further refine. It demonstrates a tool that will let you find and score \"fuzzy\" (inexact) matches."
   ]
  },
  {
   "cell_type": "markdown",
   "metadata": {},
   "source": [
    "Functions\n",
    "=========\n",
    "\n",
    "Functions are just bits of code that encapsulate – you guessed it – functionality. We'll explore them in some depth in this chapter.\n",
    "\n",
    "You've already used several of them like **print**, **input**, and **bin**. You've used them with commands like **list.sort** – though, technically when contained within classes, they're called \"methods\". And we've just written a small function to sort **dict** objects by value.  You're already a getting to be a pro. You'll become more so by rolling a few of your own."
   ]
  },
  {
   "cell_type": "markdown",
   "metadata": {},
   "source": [
    "Scope of Names In a Module\n",
    "--------------------------\n",
    "\n",
    "Here are a couple example functions that each take a single, positional parameter. The first is pretty straightforward, and the second introduces the **global** keyword.\n",
    "\n",
    "In Python (and all languages) there's a notion of \"scope\" – that's the part of the code where a variable is visible. Indentation levels are a good gauge of scope within a module. The objects defined in the first column (setStar function and the variables STAR, Favorites and X) are visible throughout the module and are called \"globals\"[40]. Variables tucked away within a function e.g., title\\_length in section are visible only within that function, normally. These are called \"locals\"[41].\n",
    "\n",
    "If you want to enhance the visibility of the variable and make it global to the module, you can employ the **global** keyword, as is done in SetStar for the variable STAR. Once you do that, you facilitate \"two way communication\" with that STAR object and allow the function to alter the value . If you don't do that, the function can only alter the \"local copy\" of STAR[42]."
   ]
  },
  {
   "cell_type": "code",
   "execution_count": null,
   "metadata": {},
   "outputs": [],
   "source": [
    "# Globals namespace\n",
    "STAR = \"Sirius\" # Polaris\n",
    "Favorites = [ ]\n",
    "X = 100\n",
    "\n",
    "def setStar(name): \n",
    "    \"\"\" Contains a local namespace just for this function.\"\"\"\n",
    "    #global STAR  #<---remove comment to map to global namespace\n",
    "    STAR = name\n",
    "    Favorites.append(name)\n",
    "    print(\"local STAR: \", STAR)\n",
    "    \n",
    "setStar(\"Polaris\")\n",
    "print(\"global STAR: \", STAR)#output"
   ]
  },
  {
   "cell_type": "markdown",
   "metadata": {},
   "source": [
    "Passing Information into a Function\n",
    "-----------------------------------\n",
    "\n",
    "You have a tremendous amount of flexibility around how, and whether, to pass information into functions. You can \"roll your own\" from some combination of fixed positional arguments (a contract between you and your function to provide a precise number or arguments); positional \"wildcard\" arguments (0 to a zillion arguments); specific key / value pairs; or \"wildcard\" key / value pairs (0 to a zillion). Here are some examples of the options available to you:\n",
    "\n",
    "The simplest of all functions can be constructed like this:\n",
    "\n"
   ]
  },
  {
   "cell_type": "code",
   "execution_count": null,
   "metadata": {},
   "outputs": [],
   "source": [
    "def simple():\n",
    "    \"a docstring, or the keyword pass\""
   ]
  },
  {
   "cell_type": "markdown",
   "metadata": {},
   "source": [
    "You need the keyword **def**, some name, enclosing parentheses and a colon in the header; a nominal indented suite following. This function takes no arguments and returns **None**. Not so interesting, really, but syntactically-correct. You can upgrade in a variety of ways. If you have only named positional parameters as with this constructor:\n",
    "\n",
    "    def positional_only(input1, input2, input3):\n",
    "\n",
    "Here you promise three inputs – no more and no fewer. Sometimes, though, you really don't know how many bits of information you'll get and want to generalize. Python provides flexibility when the number of arguments is unpredictable. This constructor requires one positional argument then zero or more additional ones:\n",
    "\n",
    "     def positional_plus(input1, more_inputs): \n",
    " \n",
    "The \"\\*\" signals the interpreter to expect a tuple of unknown size, and to create a local name \"more\\_inputs\" tied to a **tuple** object (you don't use the \\* inside the function). The **tuple** will scoop all the additional arguments provided beyond the first one (that's assigned to input1). If only argument is provided the **tuple** will be empty.\n",
    "\n",
    "If you want to use a **dict** as input, you can construct the function\n",
    "like this:\n",
    "\n",
    "    def dict_only(a = None, b = None):\n",
    "\n",
    "This is a handy idiom because objects a and b are always created when the function is called. That makes them optional – neither, either, or both can be used when calling it. Another way to use a **dict** is to use a placeholder for one with a constructor that looks like this:\n",
    "\n",
    "    def dict_placeholder(**input_dict): \n",
    "\n",
    "When you do this, you create a local name \"input\\_dict\" that's tied to the key:value pairs provided when the function is called (you don't use the \\*\\* internally). Let's take a look at a couple more examples."
   ]
  },
  {
   "cell_type": "code",
   "execution_count": null,
   "metadata": {},
   "outputs": [],
   "source": []
  },
  {
   "cell_type": "code",
   "execution_count": null,
   "metadata": {},
   "outputs": [],
   "source": [
    "def eats(*foods): # gather positional args in a tuple\n",
    "    print(\"foods: \", foods) # foods is a tuple now\n",
    "    \n",
    "    \n",
    "print(\"Tuple of positional arguments to eats():\")  \n",
    "# open-ended number of positional arguments passed in...\n",
    "eats(\"Spaghetti\", \"Oysters\", \"Chili\", \"Crackers\", \"Rice\")\n",
    "\n",
    "def example(*args, **kwargs): # keyword args dict\n",
    "    \"\"\"\n",
    "    (* ) convert positionals -- tuple\n",
    "    (**) convert keyword args -- dict\n",
    "    \"\"\"\n",
    "    print(\"\\nPositionals:\")\n",
    "    for arg in args: # loop over the tuple\n",
    "        print(arg, sep = \", \", end = \" \")\n",
    "\n",
    "    print(\"\\nKwargs\")\n",
    "    for key, value in kwargs.items(): # ...now the dict\n",
    "        print(\"Arg name:\", key, \"Value: \", value)\n",
    "    \n",
    "# positional + keyword (named) arguments\n",
    "example( 1,2,3,4, on_vacation = True, at_work = False )\n",
    "\n",
    "# same thing using \"exploders\" * and **\n",
    "example( *(1,2,3,4), **dict(on_vacation = False, at_work = True) )"
   ]
  },
  {
   "cell_type": "markdown",
   "metadata": {},
   "source": [
    "As you can see, you've got plenty of options here. This being said, there are a couple of constraints. The order is important – the positional arguments need to come first, then the **tuple** of arbitrary size, then the dictionary. As soon as the interpreter hits the **tuple** argument, it's game over for positional arguments. As soon as it hits the dictionary, it's game over for both positional arguments and **tuples**."
   ]
  },
  {
   "cell_type": "markdown",
   "metadata": {},
   "source": [
    "Returning Information From a Function\n",
    "-------------------------------------\n",
    "\n",
    "A function does not have to return anything. If it does return something, you don't have to give the returned value a name or otherwise use it. "
   ]
  },
  {
   "cell_type": "markdown",
   "metadata": {},
   "source": [
    "Personally, I think it's a good idea to return something – even if it's just the number 1 to show \"Yup, I executed\" or a -1 to show \"Uh, there was a problem.\" But it's up to you – without instructions in this regard a function returns the **None** object.\n",
    "\n",
    "Finally, in Python you can only return one object. This isn't necessarily an issue because the object can be as complex as it needs to be to fully \"pass the baton\" to the next routine. The **dict** is my \"go to\" object for complex returns – mostly because it can be as complex as it needs to and, properly done, completely self-documenting."
   ]
  },
  {
   "cell_type": "markdown",
   "metadata": {},
   "source": [
    "First Class Objects\n",
    "-------------------\n",
    "\n",
    "Functions are known as \"first class objects\" because they can be used just as classes and other top-level objects in Python. For instance, they can be passed as arguments to other functions without issue[44].  This is really powerful because you can separate responsibilities cleanly between separate, isolated bits of code. As a result, different teams can work on the individual functions and atomic tests can be written against the capabilities promised by each function. All this makes a \"divide and conquer\" approach to development a snap and – perhaps more importantly – can keep code easy to maintain as requirements change.\n",
    "\n",
    "Here's how you might use functions' \"first class\" status Python to take a foray into functional programming. For this example, imagine we have the \"F team\" in Florida and that it's never met the \"G team\" in Georgia.  Each has been working 24/7 on its task, has written tests, and otherwise has things dialed in. F has perfected the art of doubling a value and G has nailed adding 2 to a value.\n",
    "\n",
    "As consumers of these efforts, we can \"stand on the shoulders of giants\" and repurpose / combine the efforts into our own project. \n",
    "\n",
    "Here's an example:"
   ]
  },
  {
   "cell_type": "code",
   "execution_count": null,
   "metadata": {},
   "outputs": [],
   "source": [
    "def compose(g, f):\n",
    "    \"\"\"Take two functions as inputs and return a\n",
    "    function that's their composition\"\"\"\n",
    "    \n",
    "    def newfunc(x):\n",
    "        return g(f(x))\n",
    "    \n",
    "    return newfunc\n",
    "        \n",
    "def G(n):\n",
    "    return n + 2\n",
    "    # input function\n",
    "    \n",
    "def F(n):\n",
    "    return n * 2\n",
    "\n",
    "# compare:\n",
    "H = compose(G, F) # build a 3rd function from 1 &amp; 2\n",
    "\n",
    "#print(\"G(F(x)):\", H(100)) # G(F(x))\n",
    "\n",
    "# ... now with\n",
    "#H = compose(F, G)\n",
    "#print(\"F(G(x)):\", H(100)) # F(G(x))"
   ]
  },
  {
   "cell_type": "markdown",
   "metadata": {},
   "source": [
    "## Inner Functions\n",
    "\n",
    "It's possible for a function to contain other functions called \"inner functions.\" In this case, not only is there an inner function, but that's what gets returned. The object that gets returned is \"loaded for bear\", retaining the information originally passed into **addLetters**."
   ]
  },
  {
   "cell_type": "code",
   "execution_count": null,
   "metadata": {},
   "outputs": [],
   "source": [
    "def addLetter(letters):  # -- pass in a string\n",
    "    \"\"\"\n",
    "    A function factory builds and returns function objects.\n",
    "    L is a function that will add whatever letters are passed\n",
    "    in to be the ending letters.\n",
    "    \"\"\"\n",
    "    def L(s):\n",
    "        return s + letters\n",
    "    return L\n",
    "\n",
    "\n",
    "# These are functions (versions of the inner\n",
    "#    function L() returned from addLetters()\n",
    "add_s = addLetter(\"s\")\n",
    "add_ed = addLetter(\"ed\")\n",
    "\n",
    "# Then we can execute these functions like any others\n",
    "print(add_s('Unhinged rant.'))\n",
    "print(add_ed('In an unhinged fashion rant'.))"
   ]
  },
  {
   "cell_type": "markdown",
   "metadata": {},
   "source": [
    "Closures\n",
    "--------\n",
    "\n",
    "A closure is an inner function with a memory. Let's say that you have on good authority that the meaning of life is 42. You want to stash that pearl of insight away and be prepared to tweak it as life gets more interesting and the universe evolves.\n",
    "\n",
    "You might want to create a Python function to which you can provide the original value. Then you might ask the main function to return another function that accepts your changes. \n",
    "\n",
    "Here's how you might do it:"
   ]
  },
  {
   "cell_type": "code",
   "execution_count": null,
   "metadata": {},
   "outputs": [],
   "source": [
    "def outer_space(outer_input):\n",
    "    \"outer-most function\"\n",
    "    last_answer=outer_input\n",
    "    def inner_space(inner_input):\n",
    "        \"inner-most function\"\n",
    "        nonlocal last_answer\n",
    "        last_answer += inner_input\n",
    "        return last_answer\n",
    "    return inner_space\n",
    "\n",
    "MEANING_OF_LIFE=41\n",
    "original = outer_space(MEANING_OF_LIFE)\n",
    "print(\"The original meaning of life is {}\".format(original(0)))\n",
    "\n",
    "tweak=3\n",
    "new_meaning = original(tweak)\n",
    "print(\"But now we think it's a bit more: {}\".format(new_meaning))\n",
    "\n",
    "next_new_meaning = original(tweak)\n",
    "print(\"... and now: {}\".format(next_new_meaning))"
   ]
  },
  {
   "cell_type": "markdown",
   "metadata": {},
   "source": [
    "As you can see, the inner function retained some \"institutional memory\", encapsulated it, and made itself available for further interaction.\n",
    "\n",
    "The **nonlocal** keyword, introduced here, acts to make a variable in an inner function available to the outer one. This is precisely the relationship that the **global** keyword in the outer function has with the containing module."
   ]
  },
  {
   "cell_type": "markdown",
   "metadata": {},
   "source": [
    " Python's Take on Map, Reduce and Filter\n",
    "---------------------------------------\n",
    "\n",
    "Python has some limited built-in capability to handle map/reduce operations. It can easily perform the same sort of analysis possible with big data analytical tools like Hadoop, but just not at the same scale. (Hadoop has its own way to manage workload and file systems – that's where its real magic lies).\n",
    "\n",
    "In a nutshell, a map operation is one that iterates through a bunch of objects and does the same thing to each one. A reduce operation sifts through the mapped objects and filters out the \"good stuff.\" Generally speaking, the **map** function is run once then sifted through multiple times by different reducers.\n",
    "\n",
    "To implement mapping in python, we can use the **map** function. Its syntax is straightforward:\n",
    "\n",
    "mapped\\_data = map (\\<processing\\_function\\>, \\<iterable\\>)\n",
    "\n",
    "To filter data, we can call upon the **filter** function. It works pretty much like map, but the processing filter passed judgment on each element of the iterable objects by evaluating it **True** or **False**.  The result is another iterable of only those that have been deemed **True**. The syntax is identical to that of **map**:\n",
    "\n",
    "filtered\\_data = filter(\\<processing\\_function\\>, \\<iterable\\>)\n",
    "\n",
    "Here's an example of how you might use **map** and **filter** to find even sums of integers provided as **tuples**. These methods are interesting because they each take two arguments: incoming data and the name of the routine to process the data. Each returns a generator-like object. This means they don't process all the data at once. Instead, they proceed one step at a time through their task, then only when requested. This sort of \"lazy execution\" makes handling of even large data sets possible because only the bits of it that are being processed need be in the memory.\n",
    "\n",
    "Python also has a **reduce** method – it works pretty much like **map**, except the operations defined in the function are applied cumulatively.  Note that it's implemented using a **lambda** expression[45] (an anonymous \"one liner\" function that can be used in place of a standard function)."
   ]
  },
  {
   "cell_type": "code",
   "execution_count": null,
   "metadata": {},
   "outputs": [],
   "source": [
    "from functools import reduce\n",
    "\n",
    "\n",
    "def add_numbers(things_to_add):\n",
    "    \"adds two numbers\"\n",
    "    first, second = things_to_add\n",
    "    return first + second\n",
    "\n",
    "\n",
    "def find_evens(thing_to_evaluate):\n",
    "    \"returns True if even\"\n",
    "    return not thing_to_evaluate % 2  # True if 0, False otherwise\n",
    "\n",
    "\n",
    "integers = [(2, 2), (4, 4), (5, 6), (7, 8)]\n",
    "\n",
    "mapped_data = map(add_numbers, integers)\n",
    "filtered_results = filter(find_evens, mapped_data)\n",
    "print(\"The even sums are {}\".format(list(filtered_results)))\n",
    "\n",
    "cumulative_mult = reduce(lambda x, y: x*y, [1, 2, 3, 4, 5])\n",
    "print(\"reduce returned: {}\".format(cumulative_mult))"
   ]
  },
  {
   "cell_type": "markdown",
   "metadata": {},
   "source": [
    "Function Dispatch\n",
    "-----------------\n",
    "\n",
    "Until Python 3.10, Python didn't have a statement like **case** or **switch**.   One day, you'll be able to switch to 3.10 for all your data science needs, but until the main distros (Anaconda, etc.) and the underlying data science building blocks are all updated you will likely be using an earlier version of Python.\n",
    "\n",
    "For better or worse. However, there are other ways to get the same functionality.  We've already seen that a complex **if** .. **elif** .. **else** structure can accommodate this. However, this can get unwieldy and hard to maintain.\n",
    "\n",
    "An alternative, and potentially more robust, approach involves mapping functions to a dictionary, which is then used to dispatch the function.  The following example shows how you might implement such a beast and, for good measure, introduces the **random.choice** method.\n",
    "\n",
    "As you review the code, imagine how much easier it would be to maintain than strictly branching logic. Let's say your client suddenly asked you to add a new capability – **str**.**title** how could you add it while minimally touching the existing code[46]?\n"
   ]
  },
  {
   "cell_type": "code",
   "execution_count": null,
   "metadata": {},
   "outputs": [],
   "source": [
    "#py_function_7.py\n",
    "from random import choice\n",
    "def f_upper():\n",
    "    return str.upper\n",
    "def f_lower():\n",
    "    return str.lower\n",
    "def f_swap():\n",
    "    return str.swapcase\n",
    "\n",
    "# Use a dict object to match names (like 'up') to one of your functions\n",
    "function_mapper={'up': f_upper, 'lower': f_lower, 'swap': f_swap}\n",
    "choices = list(function_mapper.keys())\n",
    "\n",
    "my_string='Lions and Tigers and Bears, Oh MY!'\n",
    "for i in range(3):\n",
    "    mychoice=choice(choices)\n",
    "    print(function_mapper[mychoice]()(my_string))"
   ]
  },
  {
   "cell_type": "markdown",
   "metadata": {},
   "source": [
    "The **random**.**choice** method is a convenient way to make a (pseudo) random choice from a collection of options.\n",
    "\n",
    "The **print** is a bit of a mouthful, so let's break it down.\n",
    "\n",
    "Note that most of what we're doing is passing around the name of a function, like **f\\_upper** or **str.upper** without actually executing it. This allows fairly succinct code because we can chain operations together in a single line. Is the virtue of being compact outweighed by the vice of being tough to decipher?\n"
   ]
  },
  {
   "cell_type": "code",
   "execution_count": null,
   "metadata": {},
   "outputs": [],
   "source": [
    "mychoice = 'up'  # Just to force a choice\n",
    "\n",
    "print(f\" mychoice: {mychoice}\")\n",
    "print()\n",
    "\n",
    "\n",
    "# String version of the command then the  output.\n",
    "print(\"function_mapper['up']\")\n",
    "print(function_mapper['up'])  \n",
    "print()\n",
    "\n",
    "print(\"function_mapper['up']()\")\n",
    "print(function_mapper['up']() )  # the () is the execution operator.  f_upper returns a function.\n",
    "print()\n",
    "\n",
    "print(\"function_mapper['up']() (my_string)\")\n",
    "print(function_mapper['up']() (my_string) )  # this feeds mystring to the function\n",
    " \n"
   ]
  },
  {
   "cell_type": "markdown",
   "metadata": {},
   "source": [
    "## Exercise\n",
    "\n",
    "Awesome job so far, folks! This has been a long session, but functions (and methods in classes) are one of the most important building blocks of any serious programming effort. Let's try out your new skills on a couple of problems.\n",
    "\n",
    "Python's built-in title casing routine has much to be desired. Check this out:"
   ]
  },
  {
   "cell_type": "code",
   "execution_count": null,
   "metadata": {},
   "outputs": [],
   "source": [
    "lst = [ \"shot in the dark\",\n",
    "        \"guido van rossum\",\n",
    "        \"monty python's life of brian\"\n",
    "      ]\n",
    "for item in lst:\n",
    "    print(item.title())"
   ]
  },
  {
   "cell_type": "markdown",
   "metadata": {},
   "source": [
    "In the first instance, a really short word got capitalized. The second will drive much European nobility mad because \"von\" and \"van\" are generally lower case. And the first letter after an apostrophe is almost never capitalized.\n",
    "\n",
    "Please see if you can write a function to address these issues – I'm sure you can do better than str.title! W\n",
    "\n",
    "While you're about it, see you can break the task down into small, atomic bits. That'll make it easier to test and maintain. You might use a series of functions something like:\n",
    "\n",
    "    process_list() \n",
    "        process_title() \n",
    "        process_word() \n",
    "            process_apostrophe()\n",
    "            process_royalty()\n",
    "\n",
    "Feel free to grab code from solution _python_1_chapter05_starter_code.py if you'd like. Many of the mechanics have been worked out, but it would benefit from reorganization."
   ]
  },
  {
   "cell_type": "markdown",
   "metadata": {},
   "source": [
    "Modules and Libraries\n",
    "=====================\n",
    "\n",
    "Python has several built-in object types that provide a versatile and \"off the shelf\" collection of tools for handing information you'll encounter in real-world situations. This chapter discusses and demonstrates a few of the libraries (modules) that you can **import** into your code. We'll look at just how you can access these libraries while managing how they work and play with the applications you are developing."
   ]
  },
  {
   "cell_type": "markdown",
   "metadata": {},
   "source": [
    "Importing Libraries\n",
    "-------------------\n",
    "\n",
    "As you've seen, the way to access libraries to extend Python's core capabilities is to **import** them into your program's namespace. Here are some examples:"
   ]
  },
  {
   "cell_type": "code",
   "execution_count": null,
   "metadata": {},
   "outputs": [],
   "source": [
    "import time\n",
    "from decimal import Decimal, getcontext\n",
    "from fractions import Fraction as Q # rational number\n",
    "from datetime import datetime, timezone\n",
    "from collections import namedtuple"
   ]
  },
  {
   "cell_type": "markdown",
   "metadata": {},
   "source": [
    " Basic Use of import\n",
    "-------------------\n",
    "\n",
    "If you examine these commands carefully, you'll note several variants.  The first example adds the module **time** into your code. We can use the **dir** keyword to capture the namespace. If used without arguments, it grabs the global namespace; with an argument, it reports on the namespace of the object presented in the argument.\n",
    "\n",
    "Here, we show the results from executing the **dir** command against a fresh Python shell in a command line interpreter interface.   The results will be the same in a Jupyter notebook, except there will be some extra Jupyter-specific entries.\n",
    "\n",
    "Initially we have a very parsimonious global namespace:\n",
    "\n",
    "    dir()\n",
    "    ['__builtins__', '__doc__', '__loader__', '__name__', '__package__']\n",
    "\n",
    "When we use the **import** keyword to bring in an extra module, the name of that module is added to our namespace:\n",
    "\n",
    "    import time\n",
    "    dir()\n",
    "    ['__builtins__', '__doc__', '__loader__', '__name__', '__package__', 'time']\n",
    "    \n",
    "When Python first opens, it has access to the global namespace and everything in the '__builtins__' module (that's automatically imported).    If we take a quick look at the contents of __builtins__, we'll see keywords at the bottom.  These include the variable types we've seen to date. At the top we'll see mostly exceptions (errors and warnings) along with a few more keywords like True, False, and None."
   ]
  },
  {
   "cell_type": "code",
   "execution_count": null,
   "metadata": {},
   "outputs": [],
   "source": [
    "\", \".join(dir (__builtins__))"
   ]
  },
  {
   "cell_type": "markdown",
   "metadata": {},
   "source": [
    "The act of importing the new module doesn't directly bring all the elements of the **time** module's namespace into your module – you only have access to **time**. The **time** module, however, has its own namespace. \n",
    "\n",
    "So what is a \"namespace\", anyway?   You can think of it as a dict object.   The names are the keys and the values represent the executable code associated with the names.    If you invoke a command like **dir**, Python accesses a dictionary, finds the associated code and executes it.    The act of importing a module is actually very light weight - all you're really doing is updating the master dictionary used by your program with pointers to other resources.\n",
    "\n",
    "You can take a look at the namespace of the **time** module by using the **dir** function with **time** as the argument."
   ]
  },
  {
   "cell_type": "code",
   "execution_count": null,
   "metadata": {},
   "outputs": [],
   "source": [
    "\", \".join(dir (time))"
   ]
  },
  {
   "cell_type": "markdown",
   "metadata": {},
   "source": [
    "Dot Notation \n",
    "------------\n",
    "\n",
    "While it's isolated from that of your own namespace, you can still access the new elements. You can do this by using \"dot notation.\"    Here, we access an attribute called 'timezone':"
   ]
  },
  {
   "cell_type": "code",
   "execution_count": null,
   "metadata": {},
   "outputs": [],
   "source": [
    "time.timezone"
   ]
  },
  {
   "cell_type": "markdown",
   "metadata": {},
   "source": [
    "Here we'll access the method called 'time' within the time namespace.   We can do that because the first \"time\" refers to an object available to our global namespace; and the second \"time\" refers to an object within the module's namespace. \n",
    "\n",
    "Because time.time is a method we see only the text representation of the object ... that is until we execute using the () operator."
   ]
  },
  {
   "cell_type": "code",
   "execution_count": null,
   "metadata": {},
   "outputs": [],
   "source": [
    "time.time"
   ]
  },
  {
   "cell_type": "code",
   "execution_count": null,
   "metadata": {},
   "outputs": [],
   "source": [
    "time.time()"
   ]
  },
  {
   "cell_type": "markdown",
   "metadata": {},
   "source": [
    "The \"dot\" delimits namespaces, which may be configured hierarchically, and allows your code to be specific in terms of exactly which object it addresses. In the code above, you'll see that within the **time** module there is a built in function of the same name. This creates no conflict for our own module because only the name of the newly-imported module is visible.\n",
    "\n",
    "Because of this separation it is completely safe to import several different modules without being concerned about whether object names from one can \"overwrite\" those of another.\n",
    "\n",
    "It's also possible to reach into an external module and import only the bits we want into our local namespace. Observe the effects of importing the **Decimal** class and the **getcontext** function. After the **import**, we now can access to the external objects on a \"first name\" basis."
   ]
  },
  {
   "cell_type": "code",
   "execution_count": null,
   "metadata": {},
   "outputs": [],
   "source": [
    "from decimal import Decimal, getcontext\n",
    "Decimal"
   ]
  },
  {
   "cell_type": "code",
   "execution_count": null,
   "metadata": {},
   "outputs": [],
   "source": [
    "getcontext"
   ]
  },
  {
   "cell_type": "markdown",
   "metadata": {},
   "source": [
    " Renaming Object When Importing\n",
    "------------------------------\n",
    "\n",
    "A slight variant of this is to choose a name for the imported object that suits your purpose. Python is agnostic relative to the name you choose, within its basic rules.  \n",
    "\n",
    "Here, we import the Fraction object from the fractions library.   We import it again, giving it the name \"Q\".   Essentially, we've created two entries to our main namespace dict for the same object.   We can access it by either \"Q\" or \"Fraction\"."
   ]
  },
  {
   "cell_type": "code",
   "execution_count": null,
   "metadata": {},
   "outputs": [],
   "source": [
    "from fractions import Fraction\n",
    "from fractions import Fraction as Q"
   ]
  },
  {
   "cell_type": "code",
   "execution_count": null,
   "metadata": {},
   "outputs": [],
   "source": [
    "same_object = id(Fraction) == id(Q)\n",
    "if same_object:\n",
    "    print(f\"Fraction and Q are aliases to the object at {id(Q)}.\")"
   ]
  },
  {
   "cell_type": "markdown",
   "metadata": {},
   "source": [
    "\n",
    "It might make sense to import an object by a specific name to avoid a namespace collision, or to follow a conventions adapted by your teammates. For instance, it's typical to use **numpy**, **pandas**, and **seaborn** by going:"
   ]
  },
  {
   "cell_type": "code",
   "execution_count": null,
   "metadata": {},
   "outputs": [],
   "source": [
    "import numpy as np\n",
    "import pandas as pd\n",
    "import seaborn as sns"
   ]
  },
  {
   "cell_type": "markdown",
   "metadata": {},
   "source": [
    "This is done mostly for brevity. It's much easier to type \"np\" than \"numpy\" - especially if you have to do it thousands of times.\n",
    "\n",
    "Avoid renaming imported objects unless you've got a good reason to do so because it could confuse your team. For instance, you can do one or both of these:"
   ]
  },
  {
   "cell_type": "code",
   "execution_count": null,
   "metadata": {},
   "outputs": [],
   "source": [
    "import string\n",
    "string.ascii_uppercase\n",
    "'ABCDEFGHIJKLMNOPQRSTUVWXYZ'"
   ]
  },
  {
   "cell_type": "code",
   "execution_count": null,
   "metadata": {},
   "outputs": [],
   "source": [
    "import string as elephant\n",
    "elephant.ascii_uppercase\n",
    "'ABCDEFGHIJKLMNOPQRSTUVWXYZ'"
   ]
  },
  {
   "cell_type": "markdown",
   "metadata": {},
   "source": [
    "… however, if you did the latter you could sow much confusion."
   ]
  },
  {
   "cell_type": "markdown",
   "metadata": {},
   "source": [
    "Also, while it's possible to import the entire namespace of a library into your code, you typically don't want to do so. In this example we import the entire **string** module's namespace using \"star notation\":"
   ]
  },
  {
   "cell_type": "code",
   "execution_count": null,
   "metadata": {},
   "outputs": [],
   "source": [
    "import string\n",
    "from string import *\n",
    "\n",
    "# Namespace of string\n",
    "string_module_namespace = \", \".join(dir(string))\n",
    "print(f\"The namespace of the string library is: \\n\\n{string_module_namespace}\\n\")\n",
    "\n",
    "# ID of string.digits versus digits\n",
    "same_object = id(string.digits)==id(digits)\n",
    "if same_object:\n",
    "    print(\"The string.digits from the string module namespace is the same object as digits in the global one,\")\n",
    "    print(f\"known under the hood as {id(digits)}\")"
   ]
  },
  {
   "cell_type": "code",
   "execution_count": null,
   "metadata": {},
   "outputs": [],
   "source": [
    "\", \".join(dir(string))"
   ]
  },
  {
   "cell_type": "markdown",
   "metadata": {},
   "source": [
    "While this might be manageable, what if you were already using a variable called \"digits\"?"
   ]
  },
  {
   "cell_type": "code",
   "execution_count": null,
   "metadata": {},
   "outputs": [],
   "source": [
    "digits = ['thumb', 'pointer', 'middle', 'ring', 'pinky']\n",
    "digits"
   ]
  },
  {
   "cell_type": "code",
   "execution_count": null,
   "metadata": {},
   "outputs": [],
   "source": [
    "from string import *\n",
    "digits"
   ]
  },
  {
   "cell_type": "markdown",
   "metadata": {},
   "source": [
    "That's trouble, right?    The message is that you want to be a bit cautious.  It's certainly easier to type in a single name like 'digits', but sometimes a more verbose name is actually better.  For instance, anyone reading the code will recognize 'string.digits' for what it is - it's got provenance, after all.   Transparency matters.\n",
    "\n",
    "Sometimes it makes sense to use \"star notation\" when you're importing only one outside library and using its tools exclusively. This is often the case when you are working with GUIs because all the components you need are included in the imported module – there almost no chance of namespace collisions, even when you're part of a collaborative effort."
   ]
  },
  {
   "cell_type": "markdown",
   "metadata": {},
   "source": [
    "File System Based Namespaces\n",
    "----------------------------\n",
    "\n",
    "Python has the ability to use the file system to create namespaces for modules and it works just like what we've seen for ordinary objects.  Building packages is beyond the scope of this course, but for now know that you can have a directory structure like:\n",
    "\n",
    "    main_application\n",
    "        __init__.py\n",
    "\n",
    "    subdir_1\n",
    "        __init__.py\n",
    "        module.py\n",
    "\n",
    "    subdir_2\n",
    "        __init__.py\n",
    "        module.py\n",
    "\n",
    "If main\\_application can be discovered by your app, then you can go:\n",
    "\n",
    "    from main_application import subdir_1, subdir_2\n",
    "\n",
    "… which gives you access to subdir\\_1.module and subdir\\_2.module. The two identically-named module names are each tucked in behind their directory name and will not present namespace conflicts in your app.\n",
    "\n",
    "On a related note, what makes main\\_application discoverable by Python?  When you import a module, Python looks at the contents of **sys.path** – an ordered list of all the directories on its search path. It's comprised of normal, default locations and whatever might be in your PYTHONPATH environment variable. \n",
    "\n",
    "The element, and the first place the interpreter looks, is in your current working directory. What this means – and this has caught many an unwary programmer – is that if you name your module the same as a system package, then when you try to import a Python module you will get your own instead. Then you will go insane trying to figure out why your imported module doesn't work as expected.\n",
    "\n",
    "As a result, you'll want to be a little careful about choosing names. If you're considering 'string.py', for instance, you might first want to attempt to **import** **string**. If the operation succeeds, 'string.py' is already taken, if your get an **ImportError** then you're safe. \n",
    "\n",
    "Bear in mind that installation of new packages or editing the PYTHONPATH can change things.\n",
    "\n",
    "As you'll see, the libraries available in Python's standard library and general ecosystem provide highly-leveraged ways to extend the already-powerful capabilities. "
   ]
  },
  {
   "cell_type": "markdown",
   "metadata": {},
   "source": [
    "Time-related Objects: time, datetime, and calendar\n",
    "--------------------------------------------------\n",
    "\n",
    "Since we're on the topic of using imported libraries, let's take a look at Python's three principle libraries providing dealing with time. Each has its own strengths, weaknesses and capabilities. We'll go through some of the capabilities of each here.\n",
    "\n",
    "Before we jump in, there are some things to be aware of:\n",
    "\n",
    "-   Computers \"think\" of time in terms of the elapsed seconds since an\n",
    "    agreed-upon point in time called an \"epoch.\" For most POSIX\n",
    "    (Linux-like) systems, the epoch began on January 1, 1970. For\n",
    "    Windows, it's January 1, 1601[47]. Typically, this won't matter\n",
    "    because Python is OS-agnostic.\n",
    "\n",
    "\n",
    "-   Since different parts of the world are in different time zones, we\n",
    "    often think of what time it is in Greenwich (London), England. This\n",
    "    is known by various names such as GMT, UTC and Zulu.\n",
    "\n",
    "\n",
    "-   However, your computer (or AWS slice, or server) may \"think\" in\n",
    "    local time. Local time is a little weird. Time zones can shift\n",
    "    because of local decisions. Daylight savings time can vary\n",
    "    county-by-county, and state-by-state. \"Summer time\" in Europe and\n",
    "    elsewhere doesn't necessarily synch with U.S. daylight savings time.\n",
    "    UTC is reliable.\n",
    "\n",
    "\n",
    "-   There are two \"flavors\" of elapsed time available. One is told by\n",
    "    the clock on your wall – it's an objective measure of the time you\n",
    "    experience. The other is the elapsed time the CPU works on your\n",
    "    program. You'll want to be sure of which you're using when it's\n",
    "    material (such as when your application is running on a busy machine\n",
    "    the clock time isn't a great measure of how efficient your program\n",
    "    is."
   ]
  },
  {
   "cell_type": "markdown",
   "metadata": {},
   "source": [
    "Time Objects\n",
    "------------\n",
    "\n",
    "Here are a few lines of code that use some of the basic functionality of time. This code grabs both the clock time and CPU time and demonstrates use of the **sleep** method. You'll note that these are reported to different levels of precision and produce slightly different results. \n",
    "\n",
    "**time**.**process_time** reports how long this script has been running while **time**.**time** reports the number of seconds that have elapsed since the dawn of time."
   ]
  },
  {
   "cell_type": "code",
   "execution_count": null,
   "metadata": {},
   "outputs": [],
   "source": [
    "import time\n",
    "print(time.process_time(), time.time())\n",
    "time.sleep(1) #seconds\n",
    "print(time.process_time(), time.time())"
   ]
  },
  {
   "cell_type": "markdown",
   "metadata": {},
   "source": [
    " Datetime Objects\n",
    "----------------\n",
    "\n",
    "For most purposes, you'll be working with **datetime** objects provided from the library of the same name. A **datetime** object is a fairly easy-to-read tuple-like structure, and it's straightforward to extract information.  \n",
    "\n",
    "The Datatime object is everywhere in computing, but you should be aware that the implementation can vary slightly, even among Python modules.\n",
    "\n",
    "Here's an example of how you can use datetime:"
   ]
  },
  {
   "cell_type": "code",
   "execution_count": null,
   "metadata": {},
   "outputs": [],
   "source": [
    "from datetime import datetime\n",
    "d = datetime.now()\n",
    "print(d)\n",
    "print(\"the hour is: {}.\".format(d.hour))\n",
    "print(\"the year is: {}.\".format(d.year))"
   ]
  },
  {
   "cell_type": "code",
   "execution_count": null,
   "metadata": {},
   "outputs": [],
   "source": [
    "from datetime import datetime, timezone\n",
    "now_here = datetime.now()\n",
    "print(\"Now, this timezone: \", now_here)"
   ]
  },
  {
   "cell_type": "code",
   "execution_count": null,
   "metadata": {},
   "outputs": [],
   "source": [
    "# Datetime is timezone-aware\n",
    "now_uk = datetime.now(timezone.utc)\n",
    "print(\"Now, in England: \", now_uk)\n",
    "the_date = now_uk"
   ]
  },
  {
   "cell_type": "code",
   "execution_count": null,
   "metadata": {},
   "outputs": [],
   "source": [
    "# Dates can be used in a \"mathy\" sense\n",
    "print(\"Days since 01-01-0001: \", the_date.toordinal())\n",
    "epoch = datetime(1970,1,1, tzinfo = timezone.utc)"
   ]
  },
  {
   "cell_type": "code",
   "execution_count": null,
   "metadata": {},
   "outputs": [],
   "source": [
    "print(\"01/01/1970 timestamp : \", epoch.timestamp())\n",
    "print(\"Now in English timestamp: \", now_uk.timestamp())"
   ]
  },
  {
   "cell_type": "code",
   "execution_count": null,
   "metadata": {},
   "outputs": [],
   "source": [
    "delta = now_uk - epoch\n",
    "print(\"Time delta in seconds: \", delta.total_seconds())"
   ]
  },
  {
   "cell_type": "markdown",
   "metadata": {},
   "source": [
    "For all its charms, **datetime** produces fairly ugly output, left to its own devices. Fortunately, there's an easy way to customize is using the \"string from time\" functionality, known as **strftime**[49]. The basic syntax is:\n",
    "\n",
    "\\<datetime object\\>.strftime(\\<format string\\>)\n",
    "\n",
    "A simple example follows.   Note that we're able to combine Python formatting with strftime formatting:"
   ]
  },
  {
   "cell_type": "code",
   "execution_count": null,
   "metadata": {},
   "outputs": [],
   "source": [
    "from datetime import datetime\n",
    "\n",
    "date_format = \"%d, %b %Y\"\n",
    "now = datetime.now()\n",
    "print(f\"Hello! Today is {now.strftime(date_format)}.\")"
   ]
  },
  {
   "cell_type": "markdown",
   "metadata": {},
   "source": [
    "If you want, you can include other characters in the format string. In the next example, we provide punctuation (\":\" and \"-\" characters) to make something like we'd see in a log file (easy to sort chronologically)."
   ]
  },
  {
   "cell_type": "code",
   "execution_count": null,
   "metadata": {},
   "outputs": [],
   "source": [
    "from datetime import datetime\n",
    "now = datetime.now()\n",
    "exact_format = \"%Y-%m-%d %H:%M\"\n",
    "print(f\"Or, more precisely, {now.strftime(exact_format)}.\")"
   ]
  },
  {
   "cell_type": "markdown",
   "metadata": {},
   "source": [
    "There are many formatting strings available. You can download a \"cheat sheet\"[50] in the likely event you don't want to memorize them.   Or you can take a quick look at strftime.org."
   ]
  },
  {
   "cell_type": "markdown",
   "metadata": {},
   "source": [
    "Working with Calendar\n",
    "---------------------\n",
    "\n",
    "Python also has a time-related function that knows how to print nicely-formatted calendars, figure out the day of week, keep track of leap days, etc.[51].  \n",
    "\n",
    "This is sort of a \"toy module\" because serious packages have more heavy duty ways to manage calendar functions.   If you want something quick and dirty with minimal overhead, you may be able whistle up something suitable we with a couple of commands.\n",
    "\n",
    "\n",
    "Here's a brief flyover of some of its capabilities[52]."
   ]
  },
  {
   "cell_type": "code",
   "execution_count": null,
   "metadata": {},
   "outputs": [],
   "source": [
    "import calendar\n",
    "#create a TextCalendar instance\n",
    "cal = calendar.TextCalendar()\n",
    "print(\"We just produced a {}.\\n\".format(type(cal)))\n",
    "calendar.prmonth(2025,4)  #April, 2025"
   ]
  },
  {
   "cell_type": "code",
   "execution_count": null,
   "metadata": {},
   "outputs": [],
   "source": [
    "#what day of the week was I born?\n",
    "birthday_year = 1957\n",
    "birthday_month = 5\n",
    "birthday_day = 10\n",
    "birthday_day_of_week = calendar.weekday(birthday_year, birthday_month, birthday_day)\n",
    "birthday_dict = {0:'Mon', 1:'Tue', 2:'Wed', 3:'Thur', 4:'Fri', 5:'Sat', 6:'Sun'}\n",
    "print(\"I was born on a {}.\".format(birthday_dict[birthday_day_of_week]))"
   ]
  },
  {
   "cell_type": "markdown",
   "metadata": {},
   "source": [
    "Introduction to Python's \"Middleware\" Libraries\n",
    "-----------------------------------------------\n",
    "\n",
    "In the spirit of continuing a discussion of adding capability beyond Python's core repertoire, we might consider some of Python's built-in modules **sys** and **os**. We'll discuss their basic contributions here. I would encourage you to explore these on your own using **dir** and **help** as your investigation tools.\n",
    "\n",
    "-   The **sys** module contains information about the particular Python\n",
    "    installation you're working with and how it's installed on your\n",
    "    local OS. This is where **sys.path** (the **list** of directories\n",
    "    the interpreter uses to find imported modules).\n",
    "    \n",
    "\n",
    "-   The **os** module contains a large repertoire of \"middleware\" that\n",
    "    operates between Python and your local OS. It keeps track of things like\n",
    "    the correct path separator to use.\n",
    "\n",
    "Here are a couple examples from my systems. This is what I get from a Windows box:\n"
   ]
  },
  {
   "cell_type": "raw",
   "metadata": {},
   "source": [
    "Python 3.6.0  (default, Dec 23 2016, 11:57:41) [MSC v.1900 64 bit (AMD64)] on win32\n",
    "Type \"help\", \"copyright\", \"credits\" or \"license\" for more information.\n",
    ">>> import os\n",
    ">>> os.name\n",
    "'nt'\n",
    ">>> os.path.sep\n",
    "'\\\\'\n",
    ">>> os.path.join('path', 'to', 'file')\n",
    "'path\\\\to\\\\file'"
   ]
  },
  {
   "cell_type": "markdown",
   "metadata": {},
   "source": [
    "And this is the same information from one of my Linux virtuals:"
   ]
  },
  {
   "cell_type": "raw",
   "metadata": {},
   "source": [
    "Python 3.3.0 (default, Sep 5 2016, 11:33:57)\n",
    "[GCC 4.8.4] on linux\n",
    "Type \"help\", \"copyright\", \"credits\" or \"license\" for more information.\n",
    ">>> iimport os\n",
    ">>> ios.name\n",
    "'posix'\n",
    ">>> ios.path.sep\n",
    "'/'\n",
    ">>> ios.path.join('path', 'to', 'file')\n",
    "'path/to/file'"
   ]
  },
  {
   "cell_type": "markdown",
   "metadata": {},
   "source": [
    "The tools in **os** are really important if you want to maximize the portability of your code from platform-to-platform. The last thing you want to do is put in conditional statements to do things like construct file paths[53]. Or – worse yet – having your code work only on the \"flavor\" of development platform you're using."
   ]
  },
  {
   "cell_type": "markdown",
   "metadata": {},
   "source": [
    "## Exercise:\n",
    "\n",
    "Starting with a text representation of your birthday e.g., \"May 5, 1970\" please create a routine that produces a report describing how long you've been alive (to the nearest day) and what day of the week you were born."
   ]
  },
  {
   "cell_type": "markdown",
   "metadata": {},
   "source": [
    "Exceptions\n",
    "==========\n",
    "\n",
    "Things sometimes don't go as planned – especially when you're dealing with user input, content captured \"from the wild\", or integrating code written by others into your own. In these situations you need a way to gracefully handle surprises without crashing your code.\n",
    "\n",
    "Sometimes things do go as expected and you want to set up \"sentinels\" to identify specific, anticipated situations and act accordingly.\n",
    "\n",
    "You'll find Python's built-in exceptions model to be useful in both of these situations. This chapter will explore how you can put it to use."
   ]
  },
  {
   "cell_type": "markdown",
   "metadata": {},
   "source": [
    "Basic Usage\n",
    "-----------\n",
    "\n",
    "The easiest form of an exception is the **assert** statement. Its syntax is pretty easy:\n",
    "\n",
    "assert \\<some statement\\>"
   ]
  },
  {
   "cell_type": "code",
   "execution_count": null,
   "metadata": {},
   "outputs": [],
   "source": [
    "assert True"
   ]
  },
  {
   "cell_type": "code",
   "execution_count": null,
   "metadata": {},
   "outputs": [],
   "source": [
    "assert False"
   ]
  },
  {
   "cell_type": "markdown",
   "metadata": {},
   "source": [
    "As you can see, the interpreter generates an **AssertionError** (which is a type of exception) when statement evaluated is **False**. This sort of a blunt approach that doesn't yield much actionable information, but it is a \"quick and dirty\" way to identify a problem during execution.\n",
    "\n",
    "As this stands, finding a **False** condition basically crashes your program – something you usually don't want to happen. So how can you handle this more smoothly? You can tell the interpreter what to do in specific circumstances using a **try** / **except** block. \n",
    "\n",
    "Here's how:"
   ]
  },
  {
   "cell_type": "code",
   "execution_count": null,
   "metadata": {},
   "outputs": [],
   "source": [
    "try:\n",
    "    assert False\n",
    "except AssertionError:\n",
    "    print(\"Sorry, pal\")\n",
    "    print(\"I'm gonna keep running.\")"
   ]
  },
  {
   "cell_type": "markdown",
   "metadata": {},
   "source": [
    "Much better, right? The general form of a try/except block is:\n",
    "\n",
    "    try:\n",
    "        <an indented suite of statements>\n",
    "\n",
    "    except <some exception>:\n",
    "        <an indented suite of statements >\n",
    "\n",
    "    except <some exception>:\n",
    "        <an indented suite of statements >\n",
    "\n",
    "    finally:\n",
    "        <an indented suite of statements>"
   ]
  },
  {
   "cell_type": "markdown",
   "metadata": {},
   "source": [
    "You can \"stack\" exceptions handled much like **elif** statements in an **if**..**then**..**else** block. Exception handling stops at the first one found. The **finally** block gets executed no matter what.\n",
    "\n",
    "Here's an example:"
   ]
  },
  {
   "cell_type": "code",
   "execution_count": null,
   "metadata": {},
   "outputs": [],
   "source": [
    "def bad_int():\n",
    "    int('a')\n",
    "\n",
    "def bad_not_defined():\n",
    "    int(a)\n",
    "\n",
    "def bad_div():\n",
    "    1/0\n",
    "\n",
    "def good():\n",
    "    print(\"Hi!\")\n",
    "\n",
    "for func in (bad_int, bad_not_defined, bad_div, good):\n",
    "    try:\n",
    "        func()\n",
    "    except ValueError:\n",
    "        print(\"you have no values.\")\n",
    "    except TypeError:\n",
    "        print(\"Learn how to type.\")\n",
    "    except NameError:\n",
    "        print(\"You have a horse with no name.\")\n",
    "    except ZeroDivisionError:\n",
    "        pass\n",
    "    finally:\n",
    "        print(\"I'm done.\\n\")"
   ]
  },
  {
   "cell_type": "markdown",
   "metadata": {},
   "source": [
    "One important point to note here is that, like an **if .. elif ..elif** stack of code only one exception handler's indented suite can be executed. The implication is that you want to catch the most general exceptions at the top of the stack and the most general ones at the bottom. More on this in a moment, but it's an important design consideration."
   ]
  },
  {
   "cell_type": "markdown",
   "metadata": {},
   "source": [
    "The Exception Class\n",
    "-------------------\n",
    "\n",
    "In Python, exceptions are all derived from the same parent (called **Exception**) and specified to handle individual problems[54]. This presents the possibility to create your own if none of the built-in ones fit. \n",
    "\n",
    "Here's how you might create simple custom exception and a more elaborate one to handle the potentially-serious Wombat condition:"
   ]
  },
  {
   "cell_type": "code",
   "execution_count": null,
   "metadata": {},
   "outputs": [],
   "source": [
    "# A minimal custom exception\n",
    "class MinimalException(Exception):\n",
    "    pass\n",
    "\n",
    "class WombatException(Exception):\n",
    "    def __str__(self):\n",
    "        return(\"Wombat!\")\n",
    "\n",
    "def wombat():\n",
    "    raise WombatException\n",
    "    \n",
    "wombat()\n",
    "#result\n",
    "#__main__.WombatException: Wombat!"
   ]
  },
  {
   "cell_type": "markdown",
   "metadata": {},
   "source": [
    "Here, we see what's known as a \"Traceback\".   This shows the chain of execution present at the time the problem was encountered.   The proximate (latest) cause is at the bottom.   The exception event was triggered earlier by the call to wombat().   Careful inspection of this reveals the call stack (layering of what calls what) and local context of the trigger(s)."
   ]
  },
  {
   "cell_type": "markdown",
   "metadata": {},
   "source": [
    "We'll get into classes later in the course. For now, know that we took a **class** object already part of the language, inherited from, and redefined part of it.\n",
    "\n",
    "Because all exceptions are inherited from the same parent, there's a complex \"family tree\" of available ones. Here's part of it:\n",
    "\n",
    "    +-- BaseException\n",
    "    +-- Exception\n",
    "    +-- StopIteration\n",
    "    +-- StopAsyncIteration\n",
    "    +-- ArithmeticError\n",
    "        | +-- FloatingPointError\n",
    "        | +-- OverflowError\n",
    "        | +-- ZeroDivisionError\n",
    "\n",
    "You don't need an encyclopedic understanding of all this but it's important to know that the interpreter will catch exceptions closest to the \"root\" of the family tree. To put it another way, if you have a line of code like this:\n",
    "\n",
    "    except ArithmeticError:\n",
    "    \n",
    "Python will catch the **FloatingPointError**, **OverFlowError**, and **ZeroDivisionError**. \n",
    "\n",
    "If you do this:\n",
    "\n",
    "    except Exception:   \n",
    "    \n",
    "Python will catch any exception.  "
   ]
  },
  {
   "cell_type": "markdown",
   "metadata": {},
   "source": [
    "\n",
    "Python has many built-in exception types that handle specific problems encountered during execution. Some of the more common ones include:\n",
    "\n",
    "    -   **KeyboardInterrupt** (the user hits cntl-c)\n",
    "\n",
    "    -   **TypeError** (the wrong type of object was provided)\n",
    "\n",
    "    -   **ValueError** (an invalid argument was supplied)  \n",
    "    \n",
    "The entire \"family tree\" of exceptions is in the official docs[55] and could make a valuable addition to your personal library.    "
   ]
  },
  {
   "cell_type": "markdown",
   "metadata": {},
   "source": [
    "Miscellaneous\n",
    "-------------\n",
    "\n",
    "If you want to capture the message that normally comes with the exception in your own **except** clause, you can create a handle to it and print it out. You can also print out the call stack and specific lines of code that caused the problem (what you normally get when you make a mistake at the keyboard) using **traceback**.\n",
    "\n",
    "Also, you can ask the interpreter to pass handling of the exception to a handler higher up in the call stack (one of the routines that called your current routine) with the keyword **raise**. If that error was handled higher up, it will be handled there. \n",
    "\n",
    "Here, we set up a handler in the for block – a fancier one this time because we have named our error handler \"ve\" and printed it out. We also have chosen one of the methods of the **traceback** module to give detailed information about the source of the problem[56].\n",
    "\n",
    "Note that the function **another\\_bad\\_int** does not have any of the handling logic. If a problem is detected there, it \"passes the buck\" to the handler we just set up[57].\n",
    "\n",
    "Here's an example:"
   ]
  },
  {
   "cell_type": "code",
   "execution_count": null,
   "metadata": {},
   "outputs": [],
   "source": [
    "import traceback\n",
    "def another_bad_int():\n",
    "    try:\n",
    "        int('b')\n",
    "    except:\n",
    "        raise\n",
    "        \n",
    "for func in (another_bad_int, ):\n",
    "    try:\n",
    "        func()\n",
    "    except ValueError as ve:\n",
    "        print(\"you have no values\\n\\n\", ve, \"\\n\")\n",
    "        #traceback.print_stack()    # <---- uncomment for really verbose output\n",
    "        raise"
   ]
  },
  {
   "cell_type": "markdown",
   "metadata": {},
   "source": [
    "Strategies\n",
    "----------\n",
    "\n",
    "-   You want to get a good match between the exception(s) you looking\n",
    "    for and the exceptions you're handling. Make the **except**\n",
    "    statements as narrow as possible (furthest out on the branch of the\n",
    "    \"family tree\" as possible).\n",
    "    \n",
    "\n",
    "-   Know what you're looking for and why. You can try to break it at the\n",
    "    keyboard first to figure out what could go wrong.\n",
    "    \n",
    "\n",
    "-   Keep it \"local\" – check a line or two at a time.\n",
    "\n",
    "\n",
    "Here's a worst case scenario:"
   ]
  },
  {
   "cell_type": "code",
   "execution_count": null,
   "metadata": {},
   "outputs": [],
   "source": [
    "try:\n",
    "    \"1,000 lines of code you don't understand\"\n",
    "except Exception:\n",
    "    pass"
   ]
  },
  {
   "cell_type": "markdown",
   "metadata": {},
   "source": [
    "Input and Output\n",
    "================\n",
    "\n",
    "So far, we've been working with programs and data that exist only in memory. This is fine unless you want the information produced to persist between sessions. To accomplish this, you'll want to learn how to store information in files of some type. These could be text files, databases, or (if you want to store intact objects) **JSON**, **pickle**, or **shelve** files.\n",
    "\n",
    "To accomplish any of these we need to establish a pipe to move information to another system resource and the necessary system object to receive it. Let's start with simple file object and the built-in **open** directive. The syntax is:\n",
    "\n",
    "    <file handle name> = open(<file name>, <mode>)\n",
    "    \n",
    "There will always be some sort of encoding.  That's the mapping between the characters you see rendered on your screen and the bytecodes stored in the computer.   If you don't specify, the system default on whatever machine your code is running on will be chosen."
   ]
  },
  {
   "cell_type": "markdown",
   "metadata": {},
   "source": [
    "Basic File i/o\n",
    "--------------\n",
    "\n",
    "TWe can create a file called 'afile' in the write only mode. If another file of the same name already exists it will get overwritten silently, so be careful.\n",
    "\n",
    "Once the file is open, we can write something to it using the file handle's **write** method. When done we can execute the **close** method.\n",
    "\n",
    "To open a new file and establish a handle to it, we can go:"
   ]
  },
  {
   "cell_type": "code",
   "execution_count": null,
   "metadata": {},
   "outputs": [],
   "source": [
    "f = open('afile', 'w')\n",
    "print(f)\n",
    "f.write(\"Hello, afile\")"
   ]
  },
  {
   "cell_type": "markdown",
   "metadata": {},
   "source": [
    "When finished with a file, it's good practice to close it.  You can see that even when the file is closed, the file handler object still exists."
   ]
  },
  {
   "cell_type": "code",
   "execution_count": null,
   "metadata": {},
   "outputs": [],
   "source": [
    "f.close()\n",
    "print(f)\n",
    "print(f.closed)"
   ]
  },
  {
   "cell_type": "markdown",
   "metadata": {},
   "source": [
    "We can use the file handle object to tell us about the file. This code sample shows you some of the things you can learn."
   ]
  },
  {
   "cell_type": "code",
   "execution_count": null,
   "metadata": {},
   "outputs": [],
   "source": [
    "f = open('afile', 'w')\n",
    "f.write(\"Hello afile!\")\n",
    "\n",
    "# Some attributes and methods of interest:\n",
    "print(\"What's up with {}?\\n\".format(f.name))\n",
    "print(\"readable?\", f.readable())\n",
    "print(\"writable?\", f.writable())\n",
    "print(\"encoding:\", f.encoding)\n",
    "print(\"closed?\", f.closed)\n",
    "print()\n",
    "print(\"Closing Now!\")\n",
    "f.close()\n",
    "print(\"closed?\", f.closed)"
   ]
  },
  {
   "cell_type": "markdown",
   "metadata": {},
   "source": [
    "There are different modes for opening text files. Besides read \"r\" and write, \"w\" you can open it an append mode \"a.\" This allows you to open a file for writing without destroying any existing file. Instead, any new write operations add material to the end. If you include a \"+\" with any of these, you get both read and write access.\n",
    "\n",
    "The modes we've seen so far are for text files – these all involve some sort of encoding operation to convert human-readable characters to raw bytes. If the file is storing binary data, you have to let the compiler know by using a \"b directive.\" These take the form \"r+b\", \"w+b\" and \"a+b.\" \n",
    "\n",
    "For instance, you can go:\n",
    "\n",
    "    f = open ('junk2', 'w+b')"
   ]
  },
  {
   "cell_type": "markdown",
   "metadata": {},
   "source": [
    " Creating a Context\n",
    "------------------\n",
    "\n",
    "In the examples above, we closed the files when done with them. This is considered a best practice because, although Python's built in garbage collection will probably take care of things, it works on its own schedule. Some operating systems (Windows) have a limit on the number of open files you're allowed, and with large applications – like file-based database systems you could get into trouble.\n",
    "\n",
    "An easier way to handle closing files IMHO is to create a context using the **with** keyword. A context is like a temporary sandbox for a block of code to run in. When the code is done, the context is automatically terminated and all the objects are eligible for garbage collection.  \n",
    "\n",
    "Here's how you might use it:"
   ]
  },
  {
   "cell_type": "code",
   "execution_count": null,
   "metadata": {},
   "outputs": [],
   "source": [
    "with open('junk2', 'w') as f:\n",
    "    f.write('hey there junk2')\n",
    "    \n",
    "print(f.closed)"
   ]
  },
  {
   "cell_type": "markdown",
   "metadata": {},
   "source": [
    "\n",
    "File Pointers\n",
    "-------------\n",
    "\n",
    "Internally the file has a pointer – sort of like a sticky note – to tell it what line it's on. When you **open** a file in a read or write mode, the pointer starts at the top. If it's open in the append mode, the pointer starts at the bottom.\n",
    "\n",
    "You can move the file pointer around using the file handler's **seek** method, invoked with a single argument for the position you want to move it. \n",
    "\n",
    "Here's an example:"
   ]
  },
  {
   "cell_type": "code",
   "execution_count": null,
   "metadata": {},
   "outputs": [],
   "source": [
    "f = open('afile', 'a+')\n",
    "f.read()"
   ]
  },
  {
   "cell_type": "code",
   "execution_count": null,
   "metadata": {},
   "outputs": [],
   "source": [
    "f.seek(0)"
   ]
  },
  {
   "cell_type": "code",
   "execution_count": null,
   "metadata": {},
   "outputs": [],
   "source": [
    "f.read()"
   ]
  },
  {
   "cell_type": "code",
   "execution_count": null,
   "metadata": {},
   "outputs": [],
   "source": [
    "f.seek(6)"
   ]
  },
  {
   "cell_type": "code",
   "execution_count": null,
   "metadata": {},
   "outputs": [],
   "source": [
    "f.read()"
   ]
  },
  {
   "cell_type": "code",
   "execution_count": null,
   "metadata": {},
   "outputs": [],
   "source": [
    "f.tell()"
   ]
  },
  {
   "cell_type": "code",
   "execution_count": null,
   "metadata": {},
   "outputs": [],
   "source": [
    "f.seek(0)"
   ]
  },
  {
   "cell_type": "code",
   "execution_count": null,
   "metadata": {},
   "outputs": [],
   "source": [
    "f.tell()"
   ]
  },
  {
   "cell_type": "markdown",
   "metadata": {},
   "source": [
    "You'll note that the first time we read it, nothing was reported. That's because the file pointer was already at end of the file. With seek we put the pointer to the top of the file and **read** performed as expected. The **tell** method simply reports the position of the pointer. Here we're verifying that **seek** did its job.\n",
    "\n",
    "I would point out that using **seek** against a text file is a dicey proposition – unless you're simply going to the top. \n",
    "\n",
    "The reason is that the width of a binary character is predictable but the width of a character is not. If it's only the bottom half of ASCII, the characters are one byte long, but you never know. This all depends on the encoding.  For instance, the ubiquitous UTF -8 can hold all 1MM + Unicode code points, but individual characters only consume the required \"space\" – anywhere from one to four 8-bit bytes."
   ]
  },
  {
   "cell_type": "markdown",
   "metadata": {},
   "source": [
    " Working with the File System\n",
    "----------------------------\n",
    "\n",
    "The easiest way to work with the file system is to use the **os** library[59]. Here is where you can find all sorts of tools that you might use at the command line of a shell program. We'll use the following example to take some of the methods for a spin around the block while exploring your file system and the repertoire of the library."
   ]
  },
  {
   "cell_type": "code",
   "execution_count": null,
   "metadata": {},
   "outputs": [],
   "source": [
    "import os"
   ]
  },
  {
   "cell_type": "markdown",
   "metadata": {},
   "source": [
    "We can find the current working directory and navigate directories using the same sort of techniques one might use at the command line."
   ]
  },
  {
   "cell_type": "code",
   "execution_count": null,
   "metadata": {},
   "outputs": [],
   "source": [
    "# Get the name of the current directory\n",
    "original_dir = os.getcwd()\n",
    "print('We started in:')\n",
    "print(original_dir)"
   ]
  },
  {
   "cell_type": "code",
   "execution_count": null,
   "metadata": {},
   "outputs": [],
   "source": [
    "# Go to the parent directory\n",
    "os.chdir('..')\n",
    "print(\"Now we're in:\")"
   ]
  },
  {
   "cell_type": "markdown",
   "metadata": {},
   "source": [
    "The directory contents will show up as a list.  We can use list methods to locate specific files."
   ]
  },
  {
   "cell_type": "code",
   "execution_count": null,
   "metadata": {},
   "outputs": [],
   "source": [
    "#get the original directory contents\n",
    "dir_contents = os.listdir(original_dir)\n",
    "print(\", \".join(dir_contents))\n",
    "\n",
    "look_for = 'afile'\n",
    "print()\n",
    "print(f\"Is {look_for} in {original_dir}?\\n\\n  {'Yep' if look_for in dir_contents else 'Nope.'}\")"
   ]
  },
  {
   "cell_type": "code",
   "execution_count": null,
   "metadata": {},
   "outputs": [],
   "source": [
    "look_for in original_dir"
   ]
  },
  {
   "cell_type": "markdown",
   "metadata": {},
   "source": [
    "The file system is a zoo inhabited by many different beasts.  Everyone is familiar with files, directories, and subdirectories, of course.   But there are also sockets, symbolic links, mounts, streams, etc.  To the file system they're basically just objects.   You might care, so you can use **os.path** methods to find out.\n",
    "\n",
    "Here's how you can screen directory components:"
   ]
  },
  {
   "cell_type": "code",
   "execution_count": null,
   "metadata": {},
   "outputs": [],
   "source": [
    "print(\"Examining the contents of {}.\\n\".format(original_dir))\n",
    "\n",
    "# Get a copy of the dir_contents object that we can trash.\n",
    "sacrificial_dir_contents = dir_contents.copy()\n",
    "\n",
    "while True:\n",
    "    # pop() is handy for consuming a list.\n",
    "    try:\n",
    "        fs_object_name = sacrificial_dir_contents.pop()\n",
    "    except IndexError:   # We've exhausted the file contents\n",
    "        break\n",
    "    \n",
    "    # os.path.join() will always use the right path separator.\n",
    "    fs_object = os.path.join(original_dir, fs_object_name)\n",
    "\n",
    "    # These os.path methods can classify a file system object:\n",
    "    if os.path.isdir(fs_object):\n",
    "        label = 'dir'\n",
    "    if os.path.isfile(fs_object):\n",
    "        label = 'file'\n",
    "    if os.path.islink(fs_object):\n",
    "        label = 'link'\n",
    "    \n",
    "    print(label, fs_object_name)"
   ]
  },
  {
   "cell_type": "markdown",
   "metadata": {},
   "source": [
    "We can use **os.path** methods to query for existence of specific file system objects and create them if they don't already exist."
   ]
  },
  {
   "cell_type": "code",
   "execution_count": null,
   "metadata": {},
   "outputs": [],
   "source": [
    "#checking for a directory, creating if it's not there\n",
    "print(\"\\nIf you don't have a junk directory, let's make one.\\n\")\n",
    "look_for = 'junk'\n",
    "look_in = original_dir\n",
    "\n",
    "if not os.path.exists(os.path.join(look_in, look_for)):\n",
    "    os.mkdir(os.path.join(look_in, look_for))\n",
    "    \n",
    "#another way, using exceptions\n",
    "try:\n",
    "    os.mkdir(os.path.join(look_in, look_for))\n",
    "except:\n",
    "    pass\n",
    "\n",
    "# Success?\n",
    "if os.path.exists(os.path.join(look_in, look_for)):\n",
    "    print(f\"Yea!  {look_for} has been created in {look_in}!\")"
   ]
  },
  {
   "cell_type": "markdown",
   "metadata": {},
   "source": [
    "Many things you can do at the command line you can accomplish within Python.    Let's take look at what attributes and methods are available.  We'll create a little utility function to screen out stuff that we probably don't want to see."
   ]
  },
  {
   "cell_type": "code",
   "execution_count": null,
   "metadata": {},
   "outputs": [],
   "source": [
    "def screen_module(amodule):\n",
    "    clean = []\n",
    "    for name in dir(amodule):\n",
    "        if name[0].islower() and name[0] != '_':\n",
    "            clean.append(name)\n",
    "    clean_names = \", \".join(clean)\n",
    "    print(f\"Great stuff in {amodule}\\n\\n {clean_names}:\")\n",
    "\n",
    "screen_module(os)\n",
    "print()\n",
    "screen_module (os.path)"
   ]
  },
  {
   "cell_type": "markdown",
   "metadata": {},
   "source": [
    "File Metadata\n",
    "-------------\n",
    "\n",
    "You can retrieve file metadata using the **os.stat** method."
   ]
  },
  {
   "cell_type": "code",
   "execution_count": null,
   "metadata": {},
   "outputs": [],
   "source": [
    "os.chdir(original_dir)\n",
    "os.stat('afile')\n",
    "\n"
   ]
  },
  {
   "cell_type": "markdown",
   "metadata": {},
   "source": [
    "The output is pretty horrible to look at, and poorly-labeled, but here's\n",
    "a list of a few of the ones you'll need most:\n",
    "\n",
    "    st_ctime - time of creation\n",
    "    st_gid - group ID of owner\n",
    "    st_mode - protection bits\n",
    "    st_mtime - time of last modification\n",
    "    st_size - total size, in bytes\n",
    "    st_uid - user ID of owner\n",
    "\n",
    "You can access an individual element using its name - they are just attributes of the returned object. For instance, if you wanted the file size you could go:"
   ]
  },
  {
   "cell_type": "code",
   "execution_count": null,
   "metadata": {},
   "outputs": [],
   "source": [
    "os.stat('afile').st_size"
   ]
  },
  {
   "cell_type": "markdown",
   "metadata": {},
   "source": [
    "Pickle\n",
    "-------------------\n",
    "\n",
    "Python supports a native whole-object serialization protocol called **pickle.**  It can encode and decode intact objects like functions and classes into a form that can be saved to the hard drive. The **pickle** methods work in byte streams.\n",
    "\n",
    "Why would you want to work with bytes? For one thing, you can store your code very compactly. More importantly, you can stream byte code between applications or computers whereas you can't do that with Python objects.\n",
    "\n",
    "Another advantage is that serialized data is in a very predictable format. That makes life very easy on the interpreter. Let's say you have a huge data file that you read into a Python array for processing. If the file starts out life as a comma-delimited file, say, reading it is expensive because the interpreter has to figure out how large every piece is, convert it to a numeric data type, and put it into memory.\n",
    "\n",
    "If, on the other hand, the interpreter knows the geometry of the data and can \"mechanically\" ingest the pieces of it, very little processing has to happen – it just needs to be loaded into memory.\n",
    "\n",
    "In my experience a 2MB, csv-formatted file takes around 30 seconds to load on a decent laptop; a serialized version takes only about 0.5 seconds. Your mileage may vary, but you can bet on seeing some real performance differences[61].\n",
    "\n",
    "So how do we work this magic with pickle? Let's find out."
   ]
  },
  {
   "cell_type": "code",
   "execution_count": null,
   "metadata": {},
   "outputs": [],
   "source": [
    "\"\"\"quite a pickle\"\"\"\n",
    "import pickle\n",
    "\n",
    "#make an object\n",
    "obj = [ [1, 2, 3],\n",
    "        [4, 5, 5],\n",
    "        [7, 8, 9]\n",
    "      ]\n",
    "print(\"hey, we've got an object\")\n",
    "print(obj)"
   ]
  },
  {
   "cell_type": "code",
   "execution_count": null,
   "metadata": {},
   "outputs": [],
   "source": [
    "#open a binary file (remember, we're writing bytes)\n",
    "pickle_file = \"brine\"\n",
    "with open(pickle_file, 'wb') as f:\n",
    "    pickle.dump(obj, f)"
   ]
  },
  {
   "cell_type": "code",
   "execution_count": null,
   "metadata": {},
   "outputs": [],
   "source": [
    "# Let's kill the object to prove this works\n",
    "#    We could go obj = None; keeps the name, associates with None\n",
    "#    del is a top-level method to actually remove the object\n",
    "del obj \n",
    "try:\n",
    "    obj\n",
    "except NameError:\n",
    "    print(\"\\nno object here!\")\n",
    "\n",
    "with open(pickle_file, 'rb') as f:\n",
    "    recovered_obj = pickle.load(f)\n",
    "    \n",
    "#now, take a look\n",
    "print(\"\\nPresto, chango, here's our recovered object!\")\n",
    "print(recovered_obj)"
   ]
  },
  {
   "cell_type": "markdown",
   "metadata": {},
   "source": [
    "You can **pickle** multiple objects, but you have to do so individually.\n",
    "Here's how you might do it:"
   ]
  },
  {
   "cell_type": "code",
   "execution_count": null,
   "metadata": {},
   "outputs": [],
   "source": [
    "\"\"\"Quite a crowed pickle barrel\"\"\"\n",
    "import pickle\n",
    "\n",
    "# Make a few objects\n",
    "obj0 = [[1, 2, 3],\n",
    "        [4, 5, 5],\n",
    "        [7, 8, 9]\n",
    "       ]\n",
    "obj1 = \"howdy doody\"\n",
    "obj2 = set([33,43,53])\n",
    "\n",
    "# Serially store these objects\n",
    "pickle_file = \"spicy.pkl\"\n",
    "with open(pickle_file, 'wb') as f:\n",
    "    pickle.dump(obj0, f)\n",
    "    pickle.dump(obj1, f)\n",
    "    pickle.dump(obj2, f)"
   ]
  },
  {
   "cell_type": "code",
   "execution_count": null,
   "metadata": {},
   "outputs": [],
   "source": [
    "# Destroy the objects   \n",
    "obj = None; obj1 = None; ojb2 = None # not recommended\n",
    "\n",
    "# Serially recover the objects\n",
    "with open(pickle_file, 'rb') as f:\n",
    "    recovered_obj0 = pickle.load(f)\n",
    "    recovered_obj1 = pickle.load(f)\n",
    "    recovered_obj2 = pickle.load(f)\n",
    "    \n",
    "# Now, take a look\n",
    "print(\"Our objects survived recovery!\\n\")\n",
    "print(recovered_obj)\n",
    "print(recovered_obj1)\n",
    "print(recovered_obj2)"
   ]
  },
  {
   "cell_type": "markdown",
   "metadata": {},
   "source": [
    "While this works, sometimes it's more convenient to organize objects to be pickled in a **dict** object – this makes tracking them much easier.  \n",
    "\n",
    "Since we're storing, then recovering, the objects serially we need to keep track of the order.  The pickle object works on a strick \"first in, first out\" basis.\n",
    "\n",
    "Here is how you might apply this strategy. \n",
    "\n",
    "This example embeds a (potential)really big mistake. Can you spot it?"
   ]
  },
  {
   "cell_type": "code",
   "execution_count": null,
   "metadata": {},
   "outputs": [],
   "source": [
    "import pickle\n",
    "from datetime import datetime\n",
    "\n",
    "from datetime import datetime\n",
    "timestamp = f\"JUNK = {chr(39)}{datetime.now().strftime('%d, %b %Y')}{chr(39)}\"\n",
    "\n",
    "# Create one-line file then import an object from it\n",
    "with open('file_for_import.py', 'w') as junk:\n",
    "    junk.write(timestamp)     \n",
    "from file_for_import import JUNK\n",
    "\n",
    "pickle_file=\"dill.pkl\"\n",
    "# Make a few objects\n",
    "obj0 = [[1, 2, 3],\n",
    "        [4, 5, 5],\n",
    "        [7, 8, 9]\n",
    "       ]\n",
    "obj1 = \"howdy doody\"\n",
    "obj2 = set([33,43,53])\n",
    "\n",
    "# Make a dict to pickle:\n",
    "to_pickle={ 'obj0' : obj0,\n",
    "            'obj1': obj1,\n",
    "            'obj2': obj2,\n",
    "            'junk': JUNK\n",
    "            }\n",
    "\n",
    "# Pickle the dict then destroy it\n",
    "with open(pickle_file, 'wb') as f:\n",
    "    pickle.dump(to_pickle,f)"
   ]
  },
  {
   "cell_type": "code",
   "execution_count": null,
   "metadata": {},
   "outputs": [],
   "source": [
    "del to_pickle\n",
    "\n",
    "with open(pickle_file, 'rb') as f:\n",
    "    recovered = pickle.load(f)\n",
    "    \n",
    "print(\"Here is our recovered object:\")\n",
    "for k,v in recovered.items():\n",
    "    print(f\"{k}:  {v}\\n\")\n",
    "\n",
    "print(\"Now we can pick off an object by name:\\n\")\n",
    "print(recovered['junk'])"
   ]
  },
  {
   "cell_type": "code",
   "execution_count": null,
   "metadata": {},
   "outputs": [],
   "source": [
    "from datetime import datetime\n",
    "timestamp = f\"JUNK = {chr(39)}{datetime.now().strftime('%d, %b %Y')}{chr(39)}\"\n",
    "\n",
    "# Create one-line file from which we can import an object\n",
    "with open('file_for_import.py', 'w') as junk:\n",
    "    junk.write(timestamp)  \n",
    "\n",
    "    \n",
    "from file_for_import import JUNK\n",
    "JUNK"
   ]
  },
  {
   "cell_type": "markdown",
   "metadata": {},
   "source": [
    "The \"big mistake\" here involves the inclusion of JUNK in our file system object. The issue is that it's a value imported from another routine.  Safe enough if working alone, I imagine, but what if junk.py were being maintained by another team working long and hard on perfecting the value? Today it might be 777, but what if later it were refined to become 888? \n",
    "\n",
    "Our persistent object would have stale information and we might never know it. In fact, the pickle file does not even a path back to find where 777 came from in the first place. We certainly won't get warnings or error messages. \n",
    "\n",
    "Anyway, you can do this, but be careful."
   ]
  },
  {
   "cell_type": "markdown",
   "metadata": {},
   "source": [
    "Pickle Caveats\n",
    "--------------\n",
    "\n",
    "You can't **pickle** everything. The objects have to be discrete and available globally to the module. Here's what can be pickled, strait from the docs[62]:\n",
    "\n",
    "-   **None**, **True**, and **False**\n",
    "\n",
    "\n",
    "-   integers, long integers, floating point numbers, complex numbers\n",
    "\n",
    "\n",
    "-   normal and Unicode strings\n",
    "\n",
    "\n",
    "-   **tuples**, **lists**, **sets**, and dictionaries containing only\n",
    "    picklable objects\n",
    "    \n",
    "\n",
    "-   functions defined at the top level of a module\n",
    "\n",
    "\n",
    "-   built-in functions defined at the top level of a module\n",
    "\n",
    "\n",
    "-   **class** objects that are defined at the top level of a module\n",
    "\n",
    "**pickle** is a Python-specific tool – pickled objects can't be deserialized on other platforms. \n",
    "\n",
    "Finally, since pickled objects can contain malicious code they are potentially vectors for infection. You don't want to accept persisted objects from any source you don't trust."
   ]
  },
  {
   "cell_type": "markdown",
   "metadata": {},
   "source": [
    "Other Serializers\n",
    "--------------\n",
    "\n",
    "While pickle is great at serializing and storing intact Python objects and data sets it's not at all human-friendly, nor are objects usable by other languages.  Its prime advantages are that it's fast and efficient.  \n",
    "It's also built into pandas and several data analytic packages.   For instance, if you train a model using sklearn (or most other packages), you'll save the trained model as a pickled object.\n",
    "\n",
    "Is efficiency important?  Of course it is.   As a practical matter, though, you'll want to consider whether readability and transparency are more important.   For smaller datasets or Python programs you'll hardly notice performance differences.   If you're ever going to want to read your file, you want to consider whether a few hundred milliseconds of computer time is more valuable than a few hours of your own time.\n",
    "\n",
    "For human-readable serialization, you have a few choices - all of which have roughly the same API (interface) as pickle does.   These include:\n",
    "\n",
    "    import xml   # Extended markup language, built-in\n",
    "    import json  # Javascript object notation, built-in\n",
    "    yaml         # Yet another markup language, not built-in, most human-readable IMHO\n",
    "    \n",
    "If you want yaml, you'll have to install if first with a command like one of these:\n",
    "    $ pip install yaml\n",
    "    # conda install yaml\n"
   ]
  },
  {
   "cell_type": "markdown",
   "metadata": {},
   "source": [
    "## Exercises:\n",
    "\n",
    "Please create three functions in the same module (file). Each will take two inputs. One file will add the numbers, another will multiply and the third will subtract them.\n",
    "\n",
    "Destroy the three functions then recreate them from the serialized files. Verify that they still work as well as the original ones.\n"
   ]
  },
  {
   "cell_type": "markdown",
   "metadata": {},
   "source": [
    "Classes in Python\n",
    "=================\n",
    "\n",
    "Classes are where the rubber meets the road. It's here that all the concepts we've discussed to date coalesce in to useful, reusable programming product. The real power of class objects stems from the fact that Python (like most modern languages) is designed to be \"object oriented.\" But what does that really mean?\n",
    "\n",
    "Object-oriented languages are built on three tenants:\n",
    "\n",
    "-   Polymorphism\n",
    "\n",
    "\n",
    "-   Inheritance\n",
    "\n",
    "\n",
    "-   Encapsulation\n",
    "\n",
    "We'll now discuss each in more detail."
   ]
  },
  {
   "cell_type": "markdown",
   "metadata": {},
   "source": [
    "Polymorphism\n",
    "------------\n",
    "\n",
    "This is the notion that there can be one interface to the world which, from the user's perspective, is the same for accomplishing many things.  The question of just what gets performed and how happens \"under the hood\" with the user blissfully unaware. We've already encountered that with respect to the \"+\" operator."
   ]
  },
  {
   "cell_type": "code",
   "execution_count": null,
   "metadata": {},
   "outputs": [],
   "source": [
    "\"abc\" + \"bcd\""
   ]
  },
  {
   "cell_type": "code",
   "execution_count": null,
   "metadata": {},
   "outputs": [],
   "source": [
    "1 + 2"
   ]
  },
  {
   "cell_type": "code",
   "execution_count": null,
   "metadata": {},
   "outputs": [],
   "source": [
    "complex(3,4) + complex(4,4)"
   ]
  },
  {
   "cell_type": "code",
   "execution_count": null,
   "metadata": {},
   "outputs": [],
   "source": [
    "[3,4,5] + [7,8,9]"
   ]
  },
  {
   "cell_type": "markdown",
   "metadata": {},
   "source": [
    "Google is another example, writ large. A single input window unleashes unbelievable computing horsepower, access to petabytes of indexed information (and targeted ads, but oh well). And who knows what happens when you hit the \"Search\" button?"
   ]
  },
  {
   "cell_type": "code",
   "execution_count": null,
   "metadata": {},
   "outputs": [],
   "source": [
    "Google is another example, writ large. A single input window unleashes unbelievable computing horsepower, access to petabytes of indexed information (and targeted ads, but oh well). And who knows what happens when you hit the \"Search\" button"
   ]
  },
  {
   "cell_type": "markdown",
   "metadata": {},
   "source": [
    "Inheritance\n",
    "-----------\n",
    "\n",
    "Inheritance is the idea that you can create related objects by separating what they have in common from how they differ. That way, all the common elements can exist in one and only one place. And the differentiating element can exist more locally – again in one and only one place.\n",
    "\n",
    "We've already encountered this in examining the exception hierarchy, repeated here:\n",
    "\n",
    "    +-- BaseException\n",
    "    +-- Exception\n",
    "    +-- StopIteration\n",
    "    +-- StopAsyncIteration\n",
    "    +-- ArithmeticError\n",
    "        | +-- FloatingPointError\n",
    "        | +-- OverflowError\n",
    "        | +-- ZeroDivisionError\n"
   ]
  },
  {
   "cell_type": "markdown",
   "metadata": {},
   "source": [
    "All **Exception** objects \"inherit\" the characteristics of the **BaseException** – that's where all the boilerplate and housekeeping lives. All the exceptions e.g., **ArithmeticError** inherit the characteristics of **Exception** and add their own special sauce.  Further down the line, the **OverflowError** inherits everything that the **ArithmeticError** has and further specializes.\n",
    "\n",
    "We've seen this already in a really simple form we created a custom class:"
   ]
  },
  {
   "cell_type": "code",
   "execution_count": null,
   "metadata": {},
   "outputs": [],
   "source": [
    "class WombatException(Exception):\n",
    "    def __str__(self):\n",
    "        return(\"Wombat!\")"
   ]
  },
  {
   "cell_type": "markdown",
   "metadata": {},
   "source": [
    "In so doing, we inherited from Exception then overrode any existing\n",
    "**\\_\\_str\\_\\_** method – that's the one that **print** uses – to make it\n",
    "print out the message.\n",
    "\n",
    "I recognize that all this is a bit abstract so far, so let's jump into some code and see what we can do. We can start with something simple.  Here's how we can make a class, inherit from it (create a \"subclass\"), and create a specific instance."
   ]
  },
  {
   "cell_type": "code",
   "execution_count": null,
   "metadata": {},
   "outputs": [],
   "source": [
    "class SuperSimple:\n",
    "    a = 1\n",
    "    \n",
    "class SuperSimpleSubclassed(SuperSimple):\n",
    "    pass\n",
    "\n",
    "s = SuperSimpleSubclassed()\n",
    "\n",
    "print(\"free variable 'a' is {}\".format(s.a))"
   ]
  },
  {
   "cell_type": "markdown",
   "metadata": {},
   "source": [
    "As you can see the instance **SuperSimpleSubclassed**, 's', contains the object 'a' which came along for the ride from **SuperSimple**. It's a common practice to have a base class of some sort – this will contain fundamental functionality and boilerplate code that will become available to all subordinate classes. Here's a slightly more complicated example of a base class:\n"
   ]
  },
  {
   "cell_type": "code",
   "execution_count": null,
   "metadata": {},
   "outputs": [],
   "source": [
    "#A base class\n",
    "class BaseClass:\n",
    "    def __init__(self):\n",
    "        print(\"BaseClass __init__()\")\n",
    "        \n",
    "    def shout_out(self):\n",
    "        print('\\nYo! from BaseClass\\n')\n",
    "        \n",
    "    def print_something(self, thing):\n",
    "        print(\"\\n{} from BaseClass \\n\".format(thing))\n",
    "        \n",
    "base = BaseClass()\n",
    "base1 = BaseClass()\n",
    "base.shout_out()"
   ]
  },
  {
   "cell_type": "markdown",
   "metadata": {},
   "source": [
    "Here, we've created two subclasses, **base** and **base1**. These are independent objects which have their own namespaces. The result is that each has its own copy of **shout\\_out** and **print\\_something**. Now, if we want to extend this class the process is simple. \n",
    "\n",
    "We inherit from it and add a new method **hello\\_child**. We also replace the parent class' **\\_\\_init\\_\\_** method by including a new method of the same name. In case like this, we may well want to retain access to the parent class' method. \n",
    "\n",
    "We can do so easily by invoking the **super** method. In **ChildClass** we execute it to ensure anything introduced into the namespace by the parent class is also available to the child class."
   ]
  },
  {
   "cell_type": "code",
   "execution_count": null,
   "metadata": {},
   "outputs": [],
   "source": [
    "class ChildClass(BaseClass):\n",
    "    \"simple inheritance, executing parent class __init__()\"\n",
    "    def __init__(self):\n",
    "        print(\"ChildClass __init__()\")\n",
    "        super().__init__()\n",
    "\n",
    "    def hello_child(self):\n",
    "        print(\"hello from ChildClass\")\n",
    "\n",
    "# This directly calls ChildClass.__init__() and indirectly BaseClass.__init__()\n",
    "kid = ChildClass()"
   ]
  },
  {
   "cell_type": "code",
   "execution_count": null,
   "metadata": {},
   "outputs": [],
   "source": [
    "# The kid object is an instance of ChildClass\n",
    "kid.hello_child()"
   ]
  },
  {
   "cell_type": "markdown",
   "metadata": {},
   "source": [
    "Unlike many languages Python supports multiple inheritance. This makes it easy to \"cherry pick\" objects from already-developed code, even from disparate sources. \n",
    "\n",
    "Here's an example:"
   ]
  },
  {
   "cell_type": "code",
   "execution_count": null,
   "metadata": {},
   "outputs": [],
   "source": [
    "class AnotherClass:\n",
    "    def print_something(self, thing):\n",
    "        print(\"AnotherClass is printing {}\\n\".format(thing))\n",
    "        \n",
    "class ComboClass1(BaseClass, AnotherClass):\n",
    "    def __init__(self):\n",
    "        #when methods have same name, leftmost is preferred\n",
    "        self.print_something('something')\n",
    "\n",
    "class ComboClass2(AnotherClass , BaseClass):\n",
    "    def __init__(self):\n",
    "        self.print_something('something')"
   ]
  },
  {
   "cell_type": "markdown",
   "metadata": {},
   "source": [
    "Python automatically resolves any conflict between methods of the same name which may exist in multiple inherited classes. The left-most method trumps the others, so to change the behavior all one has to do is switch the order."
   ]
  },
  {
   "cell_type": "code",
   "execution_count": null,
   "metadata": {},
   "outputs": [],
   "source": [
    "combo = ComboClass1()"
   ]
  },
  {
   "cell_type": "code",
   "execution_count": null,
   "metadata": {},
   "outputs": [],
   "source": [
    "combo = ComboClass2()"
   ]
  },
  {
   "cell_type": "markdown",
   "metadata": {},
   "source": [
    "It's possible to \"overload\" arithmetic operators by replacing built-in methods like **\\_\\_add\\_\\_** and **\\_\\_mul\\_\\_**. Just for fun, here's how you could create a new version of the **str** object to override how it handles the \"+\" sign[63]:"
   ]
  },
  {
   "cell_type": "code",
   "execution_count": null,
   "metadata": {},
   "outputs": [],
   "source": [
    "class newStr(str):\n",
    "    def __init__(self, value):\n",
    "        self.value = value\n",
    "\n",
    "    def __add__(self, other):\n",
    "        return \"{}+{}\".format(str(self.value), str(other ))\n",
    "\n",
    "s = newStr('hello')\n",
    "s"
   ]
  },
  {
   "cell_type": "code",
   "execution_count": null,
   "metadata": {},
   "outputs": [],
   "source": [
    "news = s + 444\n",
    "news * 4"
   ]
  },
  {
   "cell_type": "markdown",
   "metadata": {},
   "source": [
    "Only the '+' operator is overridden – the new object retains all of the other behaviors associated with the built-in **str** object.\n",
    "\n",
    "Let's put all this together, examining some issues around variable scoping and \"ownership\" among the different objects. Here's some intact code, followed by a breakdown of the important bits of it:"
   ]
  },
  {
   "cell_type": "code",
   "execution_count": null,
   "metadata": {},
   "outputs": [],
   "source": [
    "# py_animal_class.py\n",
    "\n",
    "class Animal:\n",
    "    # Class variable (in class namespace)\n",
    "    tricks = [\"jumping\", \"playing dead\", \"rolling over\", \"walking backwards\"]\n",
    "\n",
    "    def __init__(self, name, species, age, fav_food):\n",
    "        \"Variables with 'self.' belong individually to each instance.)\"\n",
    "        self.name = name\n",
    "        self.species = species\n",
    "        self.__dict__[\"age\"] = age  # alternative to self.age = age\n",
    "        self.fav_food = fav_food\n",
    "        self.stomach = []\n",
    "\n",
    "    def __str__(self):\n",
    "        \" This is what print() uses.\"\n",
    "        fstr = \"Hi, I'm {}, a {} who loves {}!\\n\"\\\n",
    "            \"And I know how to all these things: {}!\\n\"\n",
    "        return fstr.format(self.name, self.species,\n",
    "                           self.fav_food,\n",
    "                           \" and \".join(self.tricks))\n",
    "\n",
    "    def __repr__(self):\n",
    "        \" This is what the REPL uses.\"\n",
    "        return f\"Animal(name={self.name}, species={self.species})\""
   ]
  },
  {
   "cell_type": "markdown",
   "metadata": {},
   "source": [
    "We created Animal by using the keyword **class**.\n",
    "\n",
    "    class Animal: \n",
    "\n",
    "Because \"Animal\" is not followed by any arguments it has not inherited from any other **class** –we're starting with a clean slate.\n",
    "\n",
    "Next, we have a \"top level\", global-to-**Animal** variable defined."
   ]
  },
  {
   "cell_type": "code",
   "execution_count": null,
   "metadata": {},
   "outputs": [],
   "source": [
    "\n",
    "tricks = [\"jumping\", \"playing dead\",\"rolling over\", \"walking backwards\"]"
   ]
  },
  {
   "cell_type": "markdown",
   "metadata": {},
   "source": [
    "\n",
    "\n",
    "This variable's scope is such that it's visible to any of the class methods (\"functions\" when standing alone) within **Animal**.\n",
    "\n",
    "Right below, we see the first instance of a method beginning with a \"dunder.\""
   ]
  },
  {
   "cell_type": "code",
   "execution_count": null,
   "metadata": {},
   "outputs": [],
   "source": [
    "def __init__(self, name, species, age, fav_food):\n",
    "    \" The instance initializer.\""
   ]
  },
  {
   "cell_type": "markdown",
   "metadata": {},
   "source": [
    "\n",
    "\n",
    "The special name **\\_\\_init\\_\\_** signals the interpreter that this method needs to run when a new instance of the class is created.\n",
    "\n",
    "Note that the constructor (and the constructors for all the methods) have \"self\" as the first argument. That's a stand-in for \"this particular instance of **Animal** – having nothing to do with any other instance of **Animal**.\" In other words \"self\" refers a specific manifestation of the general class **Animal**[64]. You can see it in use in each of the next several statements.\n",
    "\n",
    "Variables like **self.name** and **self.species** are assigned for this particular instance based on the input arguments provided when an instance is created, as it might be with a statement like:"
   ]
  },
  {
   "cell_type": "code",
   "execution_count": null,
   "metadata": {},
   "outputs": [],
   "source": [
    "# Make us a dawg and create an introduction with the __str__() method\n",
    "mypet = Animal(\"Fang\", \"dog\", 10, \"steak\")\n",
    "print(mypet)"
   ]
  },
  {
   "cell_type": "code",
   "execution_count": null,
   "metadata": {},
   "outputs": [],
   "source": [
    "# Create a cat with the same hobbies as the dog.\n",
    "neighbor_cat = Animal(\"Fluffy\", \"cat\", 1, \"mice\")\n",
    "print(neighbor_cat)"
   ]
  },
  {
   "cell_type": "code",
   "execution_count": null,
   "metadata": {},
   "outputs": [],
   "source": [
    "# Override an attribute of the Animal instance that we call \"Fluffy\"\n",
    "print(f\"Original cat tricks and food: {neighbor_cat.tricks} / {neighbor_cat.fav_food}\")\n",
    "\n",
    "# This creates the overrides\n",
    "neighbor_cat.tricks = ['tangling yarn', 'throwing kitty litter']\n",
    "neighbor_cat.fav_food = 'rats'\n",
    "\n",
    "print(f\"Alternative cat tricks and food: {neighbor_cat.tricks} / {neighbor_cat.fav_food}\")"
   ]
  },
  {
   "cell_type": "code",
   "execution_count": null,
   "metadata": {},
   "outputs": [],
   "source": [
    "# Override an attribute of the Animal instance that we call \"Fang\"\n",
    "print(f\"Original dog tricks: {mypet.tricks} / {mypet.fav_food}\")\n",
    "\n",
    "# This creates the override\n",
    "mypet.tricks = ['gnawing mailman', 'howling @ moon']\n",
    "\n",
    "print(f\"Alternative dog tricks: {mypet.tricks} / {mypet.fav_food}\")"
   ]
  },
  {
   "cell_type": "markdown",
   "metadata": {},
   "source": [
    "As you can see the two Animal instances have complete independence from one another.  Sort of.\n",
    "\n",
    "If you look carefully at the class definition, you'll see that the fav_food is defined in the __init__() method as a member of the \"self\" namespace:  \n",
    "\n",
    "    self.fav_food = fav_food\n",
    "\n",
    "So that means that my_pet.fav_food is a separate object from neighbor_cat.fav_food.\n",
    "\n",
    "It's another story altogether with tricks.  This is defined as a member of the Animal class:\n",
    "\n",
    "    class Animal:\n",
    "        tricks = [\"jumping\", \"playing dead\", \"rolling over\", \"walking backwards\"]\n",
    "        \n",
    "The result is that the default value for tricks is just what's defined in the class.  For any instance, we can do a 'hard override' on this default by specifying a different value for an instance like this:\n",
    "\n",
    "    mypet.tricks = ['gnawing mailman', 'howling @ moon']\n",
    "    \n",
    "Which forcefully imposes a different attribute va;ue on the instance.   If we fail to do so, our dog is stuck with the class-level behaviors forever.   One way to think of this is:   absent imposing a different value, the instance's value is linked to the class's value.\n",
    "\n",
    "Here's an example:\n"
   ]
  },
  {
   "cell_type": "code",
   "execution_count": null,
   "metadata": {},
   "outputs": [],
   "source": [
    "# Here's another cat.\n",
    "another_cat = Animal(\"Snarly\", \"cat\", 100, \"catnip\")\n",
    "another_cat.tricks"
   ]
  },
  {
   "cell_type": "code",
   "execution_count": null,
   "metadata": {},
   "outputs": [],
   "source": [
    "# Change the tricks at the class level.\n",
    "Animal.tricks = ['Tired of doing tricks!']"
   ]
  },
  {
   "cell_type": "code",
   "execution_count": null,
   "metadata": {},
   "outputs": [],
   "source": [
    "another_cat.tricks"
   ]
  },
  {
   "cell_type": "markdown",
   "metadata": {},
   "source": [
    "What happened is that the instance's bag of tricks changed - even after the instance was created!   That's because of the linkage back to the class variable.\n",
    "\n",
    "The moral of the story is that you need to be aware of scope and the effect of changes.\n",
    "\n",
    "Note that Python is very cavalier about how you can change attributes.  It's very much of a \"responsible adults can do what they want\" approach.   So, as we've seen, Python will let you:\n",
    "\n",
    "    Change class-level attributes at will\n",
    "    Update instance-level attributes at will\n",
    "    \n",
    "And, you can even add attributes not initially assigned.  Watch this:"
   ]
  },
  {
   "cell_type": "code",
   "execution_count": null,
   "metadata": {},
   "outputs": [],
   "source": [
    "another_cat.reaction = \"Yikes\"\n",
    "another_cat.eyes = \"Crossed\"\n",
    "print(f\"This cat has {another_cat.eyes} eyes.  {another_cat.reaction}!\")\n"
   ]
  },
  {
   "cell_type": "code",
   "execution_count": null,
   "metadata": {},
   "outputs": [],
   "source": []
  },
  {
   "cell_type": "code",
   "execution_count": null,
   "metadata": {},
   "outputs": [],
   "source": [
    "tricks = [\"xxx\"]\n",
    "print(f\"Alternative dog tricks: {mypet.tricks} / {mypet.fav_food}\")"
   ]
  },
  {
   "cell_type": "markdown",
   "metadata": {},
   "source": [
    "Encapsulation\n",
    "-------------\n",
    "\n",
    "Encapsulation is the notion that there is one and only one way to access an object. \n",
    "\n",
    "The idea is that objects are atomic, but they have a specific context – and you're supposed to interact with them \"by the rules.\" For example, some languages use getters and setters to interact with a class' attributes and enforce that interaction. That way there are specific points of contact that serve as gateways. As another example, methods (\"verbs\") within a class are only accessible within the context of the class.\n",
    "\n",
    "Python naturally supports encapsulation by \"hiding\" variables within the namespaces of different structures like functions, inner functions, classes, and modules. A further level of control can be exercised by employing \"getters\" and \"setters\" to control access to instance variables. Note that Python has no such requirement but sometimes it's a good idea to lock things down further.\n",
    "\n",
    "To accomplish this, Python employs a special \"decorator[65]\" called **property**. Decorators are methods that take the decorated object as an argument – essentially swallowing the decorated object, much as the print function can swallow another function using its output as an argument as in this example:\n",
    "\n",
    "    print(\"hello world\".upper())\n",
    "\n",
    "In the following example we define two methods, both named after a variable we want to manage **val**. \n",
    "\n",
    "The idea is that if **val** is requested, the method under **@property** is executed. If there's an attempt to change **val**, the method under **@val.setter** is executed.  \n",
    "\n",
    "Here, we're using the **setter** to screen out assignment of inappropriate object types – we're accepting only integer values."
   ]
  },
  {
   "cell_type": "code",
   "execution_count": null,
   "metadata": {},
   "outputs": [],
   "source": [
    "class GetSet:\n",
    "    def __init__(self):\n",
    "        self._val = None\n",
    "    \n",
    "    @property\n",
    "    def val(self):\n",
    "        return self._val\n",
    "\n",
    "    @val.setter\n",
    "    def val(self, value):\n",
    "        if isinstance(value, int):\n",
    "            self._val = value\n",
    "            print(\"OK. Thanks for giving me \" + str(value))\n",
    "        else:\n",
    "            print(\"Sorry, I'm looking for an integer but you gave me \" + str(value))\n"
   ]
  },
  {
   "cell_type": "code",
   "execution_count": null,
   "metadata": {},
   "outputs": [],
   "source": [
    "# Make an instance of GetSet and provide a value\n",
    "gs = GetSet()\n",
    "gs.val = 3"
   ]
  },
  {
   "cell_type": "code",
   "execution_count": null,
   "metadata": {},
   "outputs": [],
   "source": [
    "gs.val = \"aardvark!\""
   ]
  },
  {
   "cell_type": "markdown",
   "metadata": {},
   "source": [
    "The reason this works is that we've introduced a fake variable here '_val' (this is called \"name mangling\").  You'll see that it's introduced as 'self._val' in the __init__() method.   This is the variable that carries the real payload.\n",
    "\n",
    "When we want to interact with variable exposed to the outside world 'val', our decorated class methods by the same name intercept the request.\n",
    "\n",
    "If the interaction is merely a request for the current value, we return the internal 'self._val'.\n",
    "\n",
    "If the interaction makes an attempt to change the value, we subject the request to thorough interrogation.  Only after it passes muster do we pass the new value to the internal 'self_val' variable.\n",
    "\n",
    "This provides some \"soft\" protection against outside code changing attributes.   It's not remotely like security against malicious code or an overly-confident programmer.   In fact, by convention any attribute that begins with a single- or double-underscore is named as a warning to other coders that it's intended for internal use only."
   ]
  },
  {
   "cell_type": "markdown",
   "metadata": {},
   "source": [
    "Regular Expressions\n",
    "===================\n",
    "\n",
    "Regular expressions (also known as REs or regexes) offer a very low-level way to process text, very efficiently.  Regexes have been around for about as long as computing - in fact they're the \"re\" in the ubiquitous grep (short for global regular expression print).\n",
    "\n",
    "You'll run into them as a matter of course in Perl and Django URL resolvers. They can be used for search expressions in Vi/Vim, VSCode.  You can even use them in Pandas to conduct cell- or column-wise wrangling on text columns.\n",
    "\n",
    "While powerful, the offer some of the least transparent, horrifically-hard-to-read statements ever. IMHO, anyway. So we'll build up gradually and your confidence in using them should materialize quickly.\n",
    "\n",
    "Python support is contained in the **re** library, and in the normal **help** facility. \n",
    "\n",
    "A really excellent online resource can be found at https://regex101.com/#python. It provides an interactive way to build your regex, test it against a string, view matches.   Best of all it provides a breakdown of exactly what each step of your regex is doing."
   ]
  },
  {
   "cell_type": "markdown",
   "metadata": {},
   "source": [
    "Begin at the beginning\n",
    "----------------------\n",
    "\n",
    "For starters, let's just look for a string inside another string. For this you need a regex string to describe what you're looking for and another string to search."
   ]
  },
  {
   "cell_type": "code",
   "execution_count": null,
   "metadata": {},
   "outputs": [],
   "source": [
    "import re\n",
    "\n",
    "# Our regular expresion 'regex' is the string we're looking for.\n",
    "regex = r'x'       # 'r' means don't escape any characters.\n",
    "target = r'Texas'\n",
    "\n",
    "# Use the search() method to do a simple search\n",
    "result = re.search(regex, target)\n",
    "\n",
    "if result:\n",
    "    print(\"Yay! {} found..\".format(regex))\n",
    "    print(\"The found object is: {}.\".format(result))"
   ]
  },
  {
   "cell_type": "markdown",
   "metadata": {},
   "source": [
    "As you can see, this returned a **SRE\\_Match** object. The fact that it returned anything means that we hit pay dirt by finding at least one match."
   ]
  },
  {
   "cell_type": "markdown",
   "metadata": {},
   "source": [
    "Character Sets\n",
    "--------------\n",
    "\n",
    "If you want to look for any one of a bunch of characters, you can use what's known as a \"character set.\" It's just a string that includes surrounding square brackets. \n",
    "\n",
    "Any of these work: \n",
    "\n",
    "    r'[abc]'  r'[12345]'  r'[1-4]' \n",
    "\n",
    "Here are some examples:"
   ]
  },
  {
   "cell_type": "code",
   "execution_count": null,
   "metadata": {},
   "outputs": [],
   "source": [
    "regex =  r\"[0123456789]\" , #all digits\n",
    "\n",
    "# Here are some alternatives, some ideomatic\n",
    "\n",
    "alternatives = [ r\"[0-9]\",              #shorthand for all digits\n",
    "                 r\"[abc]\" ,             #any of a, b, or c\n",
    "                 r\"[abc] [abc] [abc]\",  #3 consecutive letters; each any of  a or b or c\n",
    "                 r\"[^0-9]\",             #NOT a digit (the ^ in first position negates\n",
    "               ]\n"
   ]
  },
  {
   "cell_type": "code",
   "execution_count": null,
   "metadata": {},
   "outputs": [],
   "source": [
    "import re\n",
    "\n",
    "def test_regex(regex_list, target_list):\n",
    "    \"Quick test for regex matches, takes two lists.\"\n",
    "    print(f\"{'Regex':>20}       {'Result':<50}\")\n",
    "    print()\n",
    "    \n",
    "    for r in regex_list:\n",
    "        for t in target_list:\n",
    "            result = re.search(r, t)\n",
    "            if result:\n",
    "                print(f\"{r:>20} {'.'*3} ** matched with {t:<50}\")\n",
    "            else:\n",
    "                print(f\"{r:>20} {'.'*3} failed with {t:<50}\")\n",
    "            del result\n",
    "        print()"
   ]
  },
  {
   "cell_type": "code",
   "execution_count": null,
   "metadata": {},
   "outputs": [],
   "source": [
    "# Here are a few targets - we'll test these against all our regex expressions.\n",
    "target = (r'Texas', r'123', r\"a\", r\"abc\")\n",
    "\n",
    "# Invoke the test\n",
    "test_regex(list(regex) + alternatives, target)"
   ]
  },
  {
   "cell_type": "markdown",
   "metadata": {},
   "source": [
    "Special Symbols\n",
    "---------------\n",
    "\n",
    "This is pretty easy so far, right? \n",
    "\n",
    "Regular expressions use a lot of special characters which are shorthand for matching rules. You've got to escape them with the \"\\\\\" if you intend to use them literally. \n",
    "\n",
    "We'll visit them pretty soon, but for now, here they are:\n",
    "\n",
    "     [ ] ( ) { } + * ? $ ^ . "
   ]
  },
  {
   "cell_type": "markdown",
   "metadata": {},
   "source": [
    "Shortcuts\n",
    "---------\n",
    "\n",
    "Since people are looking for the same strings all the time there are some clichés / shortcuts available. The general form is a slash followed by a letter. If the letter is lower case, it's an \"affirmative\" search; if upper case, it's a \"negative\" search.   Note the symmetry between the upper- and lower-case strings.\n",
    "\n",
    "Here are a few:\n",
    "\n",
    "|                           |                                    |\n",
    "|---------------------------|------------------------------------|\n",
    "| \\\\w any digit or letter   | \\\\W anything but a digit or letter |\n",
    "| \\\\d any digit             | \\\\D anything but a digit           |\n",
    "| \\\\s any whitespace        | \\\\S anything but a whitespace      |\n",
    "| . (a dot) anything        |                                    |\n",
    "| ^ match only at beginning | \\$ match only at the end           |\n",
    "\n",
    "Additionally, there are shortcuts that keep you from repeating bits of your regex string when you're looking for multiple instances of the same thing. \n",
    "\n",
    "Here are some shorthand expressions for specific quantities:\n",
    "\n",
    "        \\*     0 or more\n",
    "\n",
    "        ?      0 or 1\n",
    "\n",
    "        +      1 or more\n",
    "\n",
    "        {x}    Exactly x\n",
    "\n",
    "        {x,y}  Between x and y, inclusive of x and y\n",
    "\n",
    "        {x, }  X or more\n",
    "\n",
    "Here are some examples:"
   ]
  },
  {
   "cell_type": "code",
   "execution_count": null,
   "metadata": {},
   "outputs": [],
   "source": [
    "import re\n",
    "regex = (   r\"cu\" ,     #'cu'\n",
    "            r\"0{\\d4}\",  #4 digits\n",
    "            r\"x{1,3}\" , #1,2, or 3 'x'\n",
    "            r\"0{2,}\",   #2 or more zeros\n",
    "            r\"\\W+\",     #contains at least one #non alphanumeric\n",
    "        )\n",
    "\n",
    "target = (r'Chicago Cubs', \n",
    "          r'1000000 dollars',\n",
    "          r\"xxxooo\", \n",
    "          r\"$2500K\")\n",
    "\n",
    "test_regex(regex, target)"
   ]
  },
  {
   "cell_type": "markdown",
   "metadata": {},
   "source": [
    "Match objects and compiled regexes\n",
    "----------------------------------\n",
    "\n",
    "It's possible to compile your regex to increase performance – this is especially useful if you plan to use it thousands of times because it doesn't have to happen \"on demand\" each time.\n",
    "\n",
    "You can query the match objects to find starting and ending positions.  This is useful if you want to use indices to retrieve content around particular phrases.\n",
    "\n",
    "The following example demonstrates some of the information you can retrieve and the use of **re.compile**:"
   ]
  },
  {
   "cell_type": "code",
   "execution_count": null,
   "metadata": {},
   "outputs": [],
   "source": [
    "import re\n",
    "\n",
    "# Set our regex and target strings.\n",
    "regex = r\"Cubs\"\n",
    "target = r'Chicago Cubs'\n",
    "\n",
    "# This step complies the regex.\n",
    "compiled = re.compile(regex)\n",
    "\n",
    "# The complied version has the same API as the re library\n",
    "result = compiled.search(target)\n",
    "\n",
    "if result:\n",
    "    print(\"{:10} matched with {:10}.\" \\\n",
    "    .format(target, regex))\n",
    "    print(\"span\", result.span())\n",
    "    print(\"start\", result.start())\n",
    "    print(\"end\", result.end())"
   ]
  },
  {
   "cell_type": "markdown",
   "metadata": {},
   "source": [
    "Finally, I'd like to point out that re has a **VERBOSE** mode that allows you to stretch complicated expressions (yes, they can get really complicated) across several lines. When you do so, it's possible to provide comments to help your teammates decipher just what it's intended to do.\n",
    "\n",
    "Here's an example borrowed from *Dive into Python* [67], to illustrate its use. This regex is used to validate Roman numerals."
   ]
  },
  {
   "cell_type": "code",
   "execution_count": null,
   "metadata": {},
   "outputs": [],
   "source": [
    "pattern = \"\"\"\n",
    "            ^ # beginning of string\n",
    "            \n",
    "            M{0,4}           # thousands - 0 to 4 M's\n",
    "            (CM|CD|D?C{0,3}) # hundreds - 900 (CM), 400 (CD),\n",
    "                             # 0-300 (0 to 3 C's), or 500-800\n",
    "                             # (D, followed by 0 to 3 C's)\n",
    "                             \n",
    "            (XC|XL|L?X{0,3}) # tens - 90 (XC), 40 (XL), 0-30\n",
    "                             # (0 to 3 X's),\n",
    "                             # or 50-80 (L, followed by 0 to 3\n",
    "                             # X's)\n",
    "                             \n",
    "            (IX|IV|V?I{0,3}) # ones - 9 (IX), 4 (IV), 0-3\n",
    "                             # (0 to 3 I's), or 5-8 (V,\n",
    "                             # followed by 0 to 3 I's)\n",
    "                             \n",
    "            $                # end of string\n",
    "            \"\"\"\n",
    "\n",
    "re.search(pattern, 'M', re.VERBOSE)"
   ]
  },
  {
   "cell_type": "markdown",
   "metadata": {},
   "source": [
    "Substitution\n",
    "------------\n",
    "\n",
    "You can use regexes to do string substitutions using the **re.sub** method. Here's an example:"
   ]
  },
  {
   "cell_type": "code",
   "execution_count": null,
   "metadata": {},
   "outputs": [],
   "source": [
    "# Set up a search expression, the new value and a target and target string.\n",
    "regex = 'cubs'\n",
    "change_to = \"CUBS\"\n",
    "target = \"\"\"If the cubs actually win again, will they still be the cubs?'\n",
    "\n",
    "# Invoke the re.sub() method\n",
    "result = re.sub(regex, change_to, target)\n",
    "if result:\n",
    "    print(result)"
   ]
  },
  {
   "cell_type": "markdown",
   "metadata": {},
   "source": [
    "## Exercise\n",
    "\n",
    "Please write a regex that will convert credit card numbers from their original form (4-four digit numbers) to a safer form like xxxx-xxxx-xxxx-3423. Feel free to use regex101.com or any other resource."
   ]
  },
  {
   "cell_type": "markdown",
   "metadata": {},
   "source": [
    "Footnotes\n",
    "========"
   ]
  },
  {
   "cell_type": "markdown",
   "metadata": {},
   "source": [
    "[1] www.pydev.org/manual\\_101\\_install.html\n",
    "\n",
    "[2] http://wingware.com/downloads This is a commercial product. If you decide to buy it, this discount code will get a substantial savings: PJBD50A1.\n",
    "\n",
    "[3] No need to memorize these – we're just showing how simple the underlying language is.\n",
    "\n",
    "[4] You may want to familiarize yourself with the **inspect** library.  It has dozens of tools like **getargspec** (finds arguments accepted by a function with their default values), **getmodule** (returns the module an object was defined in), and **getsource** (returns the source code).  \n",
    "\n",
    "If you're using an IDE, you might find that some of these are wrapped up and made available via the IDE's graphical interface. It's easy enough to go:\n",
    "\n",
    "    >>> import inspect\n",
    "    >>> help(inspect)\n",
    "\n",
    "[5] If you're interested in exploring these ../experimental/py\\_precision.py has examples. If you go on to use elements from Python's scientific stack e.g., **numpy**, you'll be using the numeric types supported by your C compiler. These will typically be limited to 64 bits in modern machines. Cf.  https://docs.scipy.org/doc/numpy-1.13.0/user/basics.types.html\n",
    "\n",
    "[6] Note all the things we did NOT have to do: declare the looping variable s; find the length of the object; move the pointer along the sequence; ensure we don't run the pointer \"off the edge\" of the object.  This is all handled by methods defined as part of the object.\n",
    "\n",
    "[7] An \"indented suite\" is just a \\$20 word for all the lines of code beneath a header (the **for** statement in this case) that's indented the same number of spaces. This is considered the \"code block\" associated with the header.\n",
    "\n",
    "[8] We're going into quite a bit of detail on string objects here – partly because they're might useful and partly because they are exemplars of all other Python objects you'll encounter.\n",
    "\n",
    "[9] You can think of opposing parentheses as the \"execution operator\", much as + is (usually) the \"addition operator\". Note that the function won't execute without the ():\n",
    "\n",
    "    >>>'777'.isalnum\n",
    "        <built-in method isalnum of str object at 0x000002575B764998>\n",
    "    >>> '777'.isalnum()\n",
    "        True\n",
    "\n",
    "[10] A **list** is a built-in Python object. It's an ordered sequence that may contain heterogenous elements, something like: \\[ 'one', 2, 3.0, (4 + 5j) \\] Note the square brackets. More on the **list** object later.\n",
    "\n",
    "[11] An \"iterable object\" is something you can use a for or next operation on – it knows how to loop over itself.\n",
    "\n",
    "[12] With no arguments, it splits on anything in the same time zone as a white space (tabs, new line characters, and white spaces).\n",
    "\n",
    "[13] A **tuple** is the same as a list except it's \"immutable\" (unchangeable). It has parenthesis, something like:\n",
    "\n",
    "    ( 'one', 2, 3.0, (4 + 5j) )\n",
    "\n",
    "[14] The opposite of **chr** is **ord**. Thus **chr**(90) is 'Z' and **ord**('Z') is 90.\n",
    "\n",
    "[15] **None** is an honest-to-goodness Python object. It doesn't do much, but you can assign a name to it and use the name as you would that of any other variable.\n",
    "\n",
    "[16] You'll find **in** used in several contexts (as with the **for** statement). It invokes the **\\_\\_contains\\_\\_** method to determine membership.\n",
    "\n",
    "[17] **replace** changes all occurrences by default. If you provide an optional parameter count, you can limit the number of replacements:\n",
    "\n",
    "    >>> 'aaa'.replace('a', 'A', 2)\n",
    "        'AAa'\n",
    "\n",
    "[18] The **lstrip** method removes whitespaces on the left, **rstrip** on the right, and **strip** from both ends.\n",
    "\n",
    "[19] This section can be skipped without loss of continuity, but may be worth a quick glance.\n",
    "\n",
    "[20] Back in the day, one had to provide more specific placeholders like %s, %i, and %f for strings, integers and floating point numbers. In fact, Python will still accept these \"legacy\" specifications. This works:\n",
    "\n",
    "        >>> \"%s %s\" %('Hey', 'Joe!')\n",
    "        'Hey Joe!\n",
    "\n",
    "[21] The most common alignment choices are left (\\<), right (\\>), or center(^).\n",
    "\n",
    "[22] <https://docs.python.org/3/library/string.html#format-string-syntax> It may be well worth your while to take a moment with the docs to get an idea for the breadth of options available. Dozens of examples appear at the bottom that will serve as recipes for complex formatting chores.\n",
    "\n",
    "[23] \"Unpacking\" is a common Python idiom – you can create new names and assign members of a sequence as their values using this sort of shorthand (works on lists, tuples, strings, etc.):\n",
    "\n",
    "    >>> first, second = \"AB\"\n",
    "    >>> print(first, second)\n",
    "        A B\n",
    "\n",
    "[24] https://www.python.org/dev/peps/pep-0008\n",
    "\n",
    "[25] As a consequence, be sure to put general \"catch all\" tests at the bottom of your block – otherwise they could block execution of the contents of more specific tests.\n",
    "\n",
    "[26] You might want to step through this **while** loop a line at a time in a debugger, as well as the others encountered in this chapter, to observe which lines get executed – and in what order.\n",
    "\n",
    "[27] Python supports lots of permutations of this including -= \\*= /= and %=.\n",
    "\n",
    "[28] You can think of a binary shift as increasing or decreasing a binary number by a power of 2. In the base 10 world it's like going 1.2 \\* 10\\*\\*2 = 120 … 1.2 \\* 10\\*\\*3 = 1200 … 1.2 \\* 10\\*\\*4 = 12000. As you increase to power of 10, you just tack on a zero because you're shifting the \"1.2\" by increasing orders of magnitude.\n",
    "\n",
    "[29] A **set** is a collection of zero or more unique objects. More on the **set** object later.\n",
    "\n",
    "[30] This is convenient, but has performance issues at scale – the interpreter has to be prepared to constantly adjust things, and that means lots of relatively expensive memory allocation operations. If you're considering a project that could deal with large amounts of data consider using immutable sequences (**tuples** and **strings**) where possible and/or objects that impose heterogenous elements e.g., **array.array** or **numpy.ndarray** objects.\n",
    "\n",
    "[31] It's helpful to think of the \"stop\" parameter like a real-world stop sign. You don't roll through it, but stop before it. Though a bit strange at first, this specification is handy because iterable\\[:2\\] and iterable\\[2:\\] are complementary \"halves\" of the entire object.\n",
    "\n",
    "[32] The collections library contains some great tools not covered here including **defaultdict** (a **dict**-like object that automatically installs a new key:default\\_value pair if the key doesn't exist) and **deque** (a double-ended queue useful for managing processes and threads).\n",
    "\n",
    "[33] Generally a hash is a computer science term for the eponymous data structure. There's a very approachable article in Wikipedia, in case you're interested: https://en.wikipedia.org/wiki/Hash\\_function\n",
    "\n",
    "[34] If you accidentally use a mutable (changeable) object you'll get a nearly-indecipherable error message, something like: builtins.TypeError: unhashable type: 'list'\n",
    "\n",
    "[35] You may have noted that Python objects don't have destructor methods, as you find in many other languages. The **del** method is a general purpose tool for destroying unwanted objects. You typically don't need to worry about this because Python has built-in \"garbage collection\". Objects that are dereferenced get destroyed automatically.\n",
    "\n",
    "[36] NB **sort** is a method belonging to the **list** object. It's an \"in-place\" operation – that means that the elements are simply shifted around and no new object is created. As a result, it returns a **None** object. The **sorted** function is a built-in that will work on any iterable. It creates and returns a new **list** object.\n",
    "\n",
    "[37] It's easy to build a list comprehension if you do it in stages:\n",
    "\n",
    "        [ ]                              #empty list\n",
    "        [ for i in range(3) ]            #add an iterating expression\n",
    "        [ i for i in range(3) ]          #add the thing that goes into the list\n",
    "        [ i for i in range(3) if i %2 ]  #add a filter (anything that produces a Boolean)\n",
    "\n",
    "[38] Cf. https://en.wikipedia.org/wiki/Chess\\_symbols\\_in\\_Unicode\n",
    "\n",
    "[39] Python 2.x can use Unicode, but it's \"by request only\".\n",
    "\n",
    "[40] You can view the global namespace (really a **dict** mapping names and values) using **globals()**. In some IDEs the function names are not shown in stack data.\n",
    "\n",
    "[41] You can view the local namespace using **locals()**. The local namespace will change as the execution moves from function to function.\n",
    "\n",
    "[42] You may want to experiment by removing and replacing the comment in **setStar**.\n",
    "\n",
    "[43] Note the use of the keyword **pass**. This is a placeholder whose only job is to take up space – enough to establish indentation.\n",
    "\n",
    "[44] In some languages, like Java, functions don't really have a meaning outside the context of a containing class; they're known as \"class methods\".\n",
    "\n",
    "[45] Simple **lambda** functions can add readability to your code because they can be defined geographically close to where they're being applied. Though they're only \"one liners\" they can be arbitrarily complex and really difficult for your teammates to figure out. Sometimes it's much more transparent to use a traditional function.\n",
    "\n",
    "[46] You can check an annotated version to find out: py\\_function\\_7\\_upgraded.py\n",
    "\n",
    "[47] As an aside (just for fun) the epoch \"odometer\" will \"roll over\" for 32 bit Linux systems on January 19, 2038. This could be interesting if any of these machines still exist. If you have a 64-bit system, you can relax. The rollover won't happen until sometime in the year 292,277,026,596.\n",
    "\n",
    "[48] Cf. https://docs.python.org/3/library/datetime.html\n",
    "\n",
    "[49] There is also an \"opposite\" method that will convert a string into a **datetime** object using the same codes – it's called **strptime.**\n",
    "\n",
    "[50] http://strftime.org/\n",
    "\n",
    "[51] If you get serious about wrangling dates you'll want to consider using **pandas**. The basic **pandas** object Series is essentially a **list** on steroids. Like a **list** it has a 0-based integer index.  But you can \"bolt on\" an index of any other data type, including dates.  When you do, pandas knows how to \"stretch\" it from days to weeks, interpolate missing values any way you ask, etc. It is aware of business days, holidays, etc. Well worth the investment to learn, IMHO.\n",
    "\n",
    "[52] You might want to use help() on the **TextCalendar** object produced in this script. It knows how to return specific months, week, or years as printable calendar snippets, as iterators, or as lists of **datetime** objects.\n",
    "\n",
    "[53] The **os.path** package has several useful methods for teasing apart path names, joining them with the correct separators, determining if specific file system objects exist, etc. The **shutil** library has several methods for working with macro-scale file system manipulations like moving entire directory trees.\n",
    "\n",
    "[54] If you're running this code in a debugger like WingIDE, the debugger may stop execution inappropriately when an exception is encountered. If this happens, ask the debugger to ignore this exception.  In Wing, there's a checkbox in the Exceptions tab for this purpose.\n",
    "\n",
    "[55] https://docs.python.org/3/library/exceptions.html\\#exception-hierarchy\n",
    "\n",
    "[56] It's worthwhile taking a quick look at the namespace of the traceback library – it has many tools you can use when doing text-only debugging (these get wrapped up in tools like Exceptions and Call Stack when using an IDE).\n",
    "\n",
    "[57] There is a more elaborate example in py\\_handler\\_practice.py, in case you're interested in playing around with it.\n",
    "\n",
    "[58] The 'r' mode is the default. Strictly speaking you don't need to specify it.\n",
    "\n",
    "[59] Alternatively, you can use the **subprocess** library. This give you the ability to spawn new processes with which you can invoke bash scripts, execute system programs, and anything else you might do at the command line. For instance, you can go:\n",
    "\n",
    "    >>> import subprocess\n",
    "\n",
    "    >>> subprocess.call('dir', shell=True) \\#subprocess.call('ls -l', shell=True)\n",
    "\n",
    "… but you can paint yourself into a corner vis-à-vis OS portability.  Complete docs are here:\n",
    "\n",
    "https://docs.python.org/3/library/subprocess.html\n",
    "\n",
    "[60] Java Script Object Notation – an XML like, human-readable format.\n",
    "\n",
    "[61] You can use **time.time** or, with a bit more effort use **timeit** if you want to experiment. The official docs for the latter can be found here: https://docs.python.org/3/library/timeit.html)\n",
    "\n",
    "[62] https://docs.python.org/3/library/pickle.html\n",
    "\n",
    "[63] NB: You would likely never do this in practice. Just because you can, doesn't mean you should :-)\n",
    "\n",
    "[64] You don't have to use 'self'. You could use 'aardvark' if you wanted, but people would look at you funny ;-)\n",
    "\n",
    "[65] You'll find some more examples of decorators and their uses in your course file director, all with names beginning with py\\_decorators.\n",
    "\n",
    "[66] Be sure to set it to the Python dialect of regex (there are several). The \"cheat sheet\" at the bottom right – shows what all the tokens mean. As you build your regex, a complete explanation of it shows up in the upper right. It's not so easy to see, but on the left there's a button that will produce syntactically-correct Python code based on your explorations. This is my \"go to\" tool for all things regex.\n",
    "\n",
    "[67] diveintopython.net – an awesome, well-documented, open source book\n",
    "designed for advanced programmers. It's a good read as you advance along\n",
    "the path of becoming one."
   ]
  },
  {
   "cell_type": "code",
   "execution_count": null,
   "metadata": {},
   "outputs": [],
   "source": []
  },
  {
   "cell_type": "code",
   "execution_count": null,
   "metadata": {},
   "outputs": [],
   "source": []
  }
 ],
 "metadata": {
  "kernelspec": {
   "display_name": "py39",
   "language": "python",
   "name": "py39"
  },
  "language_info": {
   "codemirror_mode": {
    "name": "ipython",
    "version": 3
   },
   "file_extension": ".py",
   "mimetype": "text/x-python",
   "name": "python",
   "nbconvert_exporter": "python",
   "pygments_lexer": "ipython3",
   "version": "3.9.0"
  },
  "latex_envs": {
   "LaTeX_envs_menu_present": true,
   "autoclose": false,
   "autocomplete": true,
   "bibliofile": "biblio.bib",
   "cite_by": "apalike",
   "current_citInitial": 1,
   "eqLabelWithNumbers": true,
   "eqNumInitial": 1,
   "hotkeys": {
    "equation": "Ctrl-E",
    "itemize": "Ctrl-I"
   },
   "labels_anchors": false,
   "latex_user_defs": false,
   "report_style_numbering": false,
   "user_envs_cfg": false
  },
  "toc": {
   "base_numbering": 1,
   "nav_menu": {},
   "number_sections": true,
   "sideBar": true,
   "skip_h1_title": false,
   "title_cell": "Table of Contents",
   "title_sidebar": "Contents",
   "toc_cell": false,
   "toc_position": {},
   "toc_section_display": true,
   "toc_window_display": true
  },
  "varInspector": {
   "cols": {
    "lenName": 16,
    "lenType": 16,
    "lenVar": 40
   },
   "kernels_config": {
    "python": {
     "delete_cmd_postfix": "",
     "delete_cmd_prefix": "del ",
     "library": "var_list.py",
     "varRefreshCmd": "print(var_dic_list())"
    },
    "r": {
     "delete_cmd_postfix": ") ",
     "delete_cmd_prefix": "rm(",
     "library": "var_list.r",
     "varRefreshCmd": "cat(var_dic_list()) "
    }
   },
   "oldHeight": 120.56700000000001,
   "position": {
    "height": "40px",
    "left": "1095px",
    "right": "20px",
    "top": "120px",
    "width": "250px"
   },
   "types_to_exclude": [
    "module",
    "function",
    "builtin_function_or_method",
    "instance",
    "_Feature"
   ],
   "varInspector_section_display": "none",
   "window_display": false
  }
 },
 "nbformat": 4,
 "nbformat_minor": 5
}
